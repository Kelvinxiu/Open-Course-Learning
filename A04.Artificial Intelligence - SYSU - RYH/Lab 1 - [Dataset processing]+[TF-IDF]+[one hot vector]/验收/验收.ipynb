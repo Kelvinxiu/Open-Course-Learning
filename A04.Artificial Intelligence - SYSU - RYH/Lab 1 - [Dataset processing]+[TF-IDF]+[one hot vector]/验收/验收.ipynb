{
 "cells": [
  {
   "cell_type": "code",
   "execution_count": 19,
   "metadata": {
    "ExecuteTime": {
     "end_time": "2017-09-29T15:20:59.892599Z",
     "start_time": "2017-09-29T15:20:59.869566Z"
    }
   },
   "outputs": [
    {
     "data": {
      "text/plain": [
       "[['say', 'you', 'say', 'me'],\n",
       " ['lay', 'me', 'down'],\n",
       " ['stay', 'with', 'me'],\n",
       " ['because', 'you', 'loved', 'me'],\n",
       " ['me', 'I', 'my', 'mine', 'me', 'my', 'me'],\n",
       " ['you', 'can', 'trust', 'me', 'can', 'you']]"
      ]
     },
     "execution_count": 19,
     "metadata": {},
     "output_type": "execute_result"
    },
    {
     "data": {
      "text/plain": [
       "['say',\n",
       " 'you',\n",
       " 'me',\n",
       " 'lay',\n",
       " 'down',\n",
       " 'stay',\n",
       " 'with',\n",
       " 'because',\n",
       " 'loved',\n",
       " 'I',\n",
       " 'my',\n",
       " 'mine',\n",
       " 'can',\n",
       " 'trust']"
      ]
     },
     "execution_count": 19,
     "metadata": {},
     "output_type": "execute_result"
    }
   ],
   "source": [
    "#导入数据\n",
    "test = []\n",
    "allWords_test = []\n",
    "with open('text.txt', 'r', encoding='utf-8') as f:\n",
    "    for i in f.readlines():\n",
    "        #得到每一行的文本数据并按照空格切分为单词\n",
    "        text = i.split('\\t')[2].split(' ')\n",
    "        #去除最后一个单词的换行符\n",
    "        text[-1] = text[-1].strip('\\n')  \n",
    "        test.append(text) \n",
    "        for word in text:\n",
    "            #若该词未出现过，则将其添加到allWords中\n",
    "            if word not in allWords_test: \n",
    "                #将词转换成小写来进行判断，以防出现A和a不分的情况\n",
    "                allWords_test.append(word) \n",
    "test\n",
    "allWords_test"
   ]
  },
  {
   "cell_type": "code",
   "execution_count": 17,
   "metadata": {
    "ExecuteTime": {
     "end_time": "2017-09-29T15:18:59.435961Z",
     "start_time": "2017-09-29T15:18:59.427960Z"
    }
   },
   "outputs": [
    {
     "data": {
      "text/plain": [
       "14"
      ]
     },
     "execution_count": 17,
     "metadata": {},
     "output_type": "execute_result"
    }
   ],
   "source": [
    "len(allWords_test)"
   ]
  },
  {
   "cell_type": "code",
   "execution_count": 20,
   "metadata": {
    "ExecuteTime": {
     "end_time": "2017-09-29T15:21:04.134033Z",
     "start_time": "2017-09-29T15:21:03.924066Z"
    }
   },
   "outputs": [],
   "source": [
    "def getOneHot(dataSet, allWords):\n",
    "    '''得到输入数据集的one-hot矩阵'''\n",
    "    oneHot=[]\n",
    "    for index, doc in enumerate(dataSet):\n",
    "        oneHot.append([])\n",
    "        for word in allWords:\n",
    "            if word in doc:\n",
    "                oneHot[index].append(1)\n",
    "            else: \n",
    "                oneHot[index].append(0)\n",
    "    return oneHot\n",
    "\n",
    "from collections import Counter\n",
    "from math import log\n",
    "import numpy as np\n",
    "\n",
    "def getTF(dataSet, allWords):\n",
    "    '''得到输入数据集的TF矩阵'''\n",
    "    TF=[]\n",
    "    for index, doc in enumerate(dataSet):\n",
    "        TF.append([])\n",
    "        wordCounter = Counter(doc)\n",
    "        for word in allWords:\n",
    "            TF[index].append(wordCounter.get(word,0)/len(doc))\n",
    "    return TF\n",
    "\n",
    "\n",
    "def getIDF(dataSet, allWords):\n",
    "    '''得到输入数据集的IDF矩阵'''\n",
    "    def calcIDF(num):\n",
    "        '''计算对应数据集的单词的IDF值'''\n",
    "        return log(len(dataSet)/(1+num))\n",
    "    \n",
    "    IDF=[]\n",
    "    for word in allWords:\n",
    "        cnt = 0\n",
    "        #计算词在每个文档出现的次数\n",
    "        for doc in dataSet: \n",
    "            if word in doc:\n",
    "                cnt += 1\n",
    "        IDF.append(calcIDF(cnt))\n",
    "    return IDF\n",
    "\n",
    "def saveDataToFile(data, fileName):\n",
    "    '''保存数据到文件中'''\n",
    "    with open(fileName, 'w', encoding='utf-8') as f:\n",
    "        for i in data:\n",
    "            #直接将list类型的元素保存到文件比双重循环写文件更快\n",
    "            _ = f.write(str(i)+'\\n')\n",
    "            \n",
    "\n",
    "def getTFIDF(TF, IDF):\n",
    "    '''得到输入数据集的TF-IDF矩阵'''\n",
    "    TF=np.array(TF)   #先将数据类型转换为numpy的array类型\n",
    "    IDF=np.array(IDF) #以便实现numpy广播运算\n",
    "    return (TF*IDF).tolist() #转换为list类型\n",
    "\n",
    "def sparseMatrix2TripleTable(sMatrix):\n",
    "    '''将输入的稀疏矩阵转换为三元组'''\n",
    "    sMatrix = np.array(sMatrix) #转换为numpy的数组类型\n",
    "    tripleTable = [[0],[0],[0]]\n",
    "    tripleTable[0][0], tripleTable[1][0] = sMatrix.shape #得到行数、列数\n",
    "   \n",
    "    nonZeroIndex = np.nonzero(sMatrix) #得到矩阵非零元素的下标组成的tuple\n",
    "    \n",
    "    nonZeroNum = len(nonZeroIndex[0]) #记录非零个数\n",
    "    tripleTable[2][0] = nonZeroNum \n",
    "    \n",
    "    for i in range(nonZeroNum):\n",
    "        rowIndex = nonZeroIndex[0][i]\n",
    "        colIndex = nonZeroIndex[1][i]\n",
    "        val = sMatrix[rowIndex, colIndex]\n",
    "        tripleTable.append([rowIndex, colIndex, val])\n",
    "    return tripleTable\n",
    "\n",
    "def addSparseMatrix(triTable1, triTable2):\n",
    "    '''两个行和列数相等的稀疏矩阵（以三元顺序组表示）的加法'''\n",
    "    ans = triTable1\n",
    "    vistedList = [] #标记访问过的三元组的下标\n",
    "    \n",
    "    for i, val1 in enumerate(triTable1[3:]):\n",
    "        for j, val2 in enumerate(triTable2[3:]):\n",
    "            #若 j还没有被访问 且 两个矩阵在相同的位置上都有非零元素\n",
    "            if j not in vistedList and (val1[0], val1[1]) == (val2[0], val2[1]):\n",
    "                ans[i+3][-1] += val2[-1]\n",
    "                vistedList.append(j) #标记已访问\n",
    "    #得到未访问的三元组下标\n",
    "    unVistedList = [i for i in range(triTable2[2][0]) if i not in vistedList]\n",
    "    ans[2][0] += len(unVistedList)#更新结果的非零元素个数\n",
    "    #将第二个\n",
    "    for i in unVistedList:\n",
    "        ans.append(triTable2[i+3])\n",
    "    #将部分结果排好序后再返回\n",
    "    temp = ans[3:]\n",
    "    temp.sort(key = lambda x: (x[0],x[1]))\n",
    "    return ans[:3]+temp\n",
    "\n",
    "oneHot_test = getOneHot(test, allWords_test)\n",
    "saveDataToFile(oneHot_test, 'onehot_test.txt')\n",
    "\n",
    "TF_test = getTF(test, allWords_test)\n",
    "saveDataToFile(TF_test, 'tf_test.txt')\n",
    "\n",
    "IDF_test = getIDF(test, allWords_test)\n",
    "TFIDF_test = getTFIDF(TF_test, IDF_test)\n",
    "saveDataToFile(TFIDF_test, 'tfidf_test.txt')\n",
    "\n",
    "tripleTable_test = sparseMatrix2TripleTable(oneHot_test)\n",
    "saveDataToFile(tripleTable_test, 'smatrix_test.txt')"
   ]
  },
  {
   "cell_type": "code",
   "execution_count": 21,
   "metadata": {
    "ExecuteTime": {
     "end_time": "2017-09-29T15:21:07.105694Z",
     "start_time": "2017-09-29T15:21:07.047163Z"
    }
   },
   "outputs": [
    {
     "data": {
      "text/plain": [
       "[[3],\n",
       " [14],\n",
       " [17],\n",
       " [0, 0, 2],\n",
       " [0, 1, 2],\n",
       " [0, 2, 2],\n",
       " [0, 7, 1],\n",
       " [0, 8, 1],\n",
       " [1, 2, 4],\n",
       " [1, 3, 1],\n",
       " [1, 4, 1],\n",
       " [1, 9, 1],\n",
       " [1, 10, 2],\n",
       " [1, 11, 1],\n",
       " [2, 1, 2],\n",
       " [2, 2, 2],\n",
       " [2, 5, 1],\n",
       " [2, 6, 1],\n",
       " [2, 12, 2],\n",
       " [2, 13, 1]]"
      ]
     },
     "execution_count": 21,
     "metadata": {},
     "output_type": "execute_result"
    }
   ],
   "source": [
    "import numpy as np\n",
    "\n",
    "def addSparseMatrix(triTable1, triTable2):\n",
    "    '''两个行和列数相等的稀疏矩阵（以三元顺序组表示）的加法'''\n",
    "    ans = triTable1\n",
    "    vistedList = [] #标记访问过的三元组的下标\n",
    "    \n",
    "    for i, val1 in enumerate(triTable1[3:]):\n",
    "        for j, val2 in enumerate(triTable2[3:]):\n",
    "            #若 j还没有被访问 且 两个矩阵在相同的位置上都有非零元素\n",
    "            if j not in vistedList and (val1[0], val1[1]) == (val2[0], val2[1]):\n",
    "                ans[i+3][-1] += val2[-1]\n",
    "                vistedList.append(j) #标记已访问\n",
    "    #得到未访问的三元组下标\n",
    "    unVistedList = [i for i in range(triTable2[2][0]) if i not in vistedList]\n",
    "    ans[2][0] += len(unVistedList)#更新结果的非零元素个数\n",
    "    #将第二个\n",
    "    for i in unVistedList:\n",
    "        ans.append(triTable2[i+3])\n",
    "    #将部分结果排好序后再返回\n",
    "    temp = ans[3:]\n",
    "    temp.sort(key = lambda x: (x[0],x[1]))\n",
    "    return ans[:3]+temp\n",
    "\n",
    "def readTestFile(fileName):\n",
    "    A=[]\n",
    "    with open(fileName, 'r', encoding='utf-8') as f:\n",
    "        for line in f.readlines():\n",
    "            A.append(eval('['+line.replace(' ',',')+']'))\n",
    "    return A\n",
    "\n",
    "tripleTable_test1 = readTestFile('A.txt')\n",
    "tripleTable_test2 = readTestFile('B.txt')\n",
    "\n",
    "addRes = addSparseMatrix(tripleTable_test1, tripleTable_test2)\n",
    "addRes\n",
    "saveDataToFile(addRes, 'A+B.txt')"
   ]
  },
  {
   "cell_type": "code",
   "execution_count": 18,
   "metadata": {
    "ExecuteTime": {
     "end_time": "2017-09-29T15:19:22.597643Z",
     "start_time": "2017-09-29T15:19:22.585641Z"
    }
   },
   "outputs": [
    {
     "data": {
      "text/plain": [
       "[1.0986122886681098,\n",
       " 0.4054651081081644,\n",
       " -0.15415067982725836,\n",
       " 1.0986122886681098,\n",
       " 1.0986122886681098,\n",
       " 1.0986122886681098,\n",
       " 1.0986122886681098,\n",
       " 1.0986122886681098,\n",
       " 1.0986122886681098,\n",
       " 1.791759469228055,\n",
       " 1.0986122886681098,\n",
       " 1.0986122886681098,\n",
       " 1.0986122886681098,\n",
       " 1.0986122886681098]"
      ]
     },
     "execution_count": 18,
     "metadata": {},
     "output_type": "execute_result"
    },
    {
     "data": {
      "text/plain": [
       "['say',\n",
       " 'you',\n",
       " 'me',\n",
       " 'lay',\n",
       " 'down',\n",
       " 'stay',\n",
       " 'with',\n",
       " 'because',\n",
       " 'loved',\n",
       " 'i',\n",
       " 'my',\n",
       " 'mine',\n",
       " 'can',\n",
       " 'trust']"
      ]
     },
     "execution_count": 18,
     "metadata": {},
     "output_type": "execute_result"
    }
   ],
   "source": [
    "IDF_test\n",
    "allWords_test"
   ]
  },
  {
   "cell_type": "code",
   "execution_count": 1,
   "metadata": {
    "ExecuteTime": {
     "end_time": "2017-09-29T14:30:07.259130Z",
     "start_time": "2017-09-29T14:30:07.249106Z"
    },
    "collapsed": true
   },
   "outputs": [],
   "source": [
    "from IPython.core.interactiveshell import InteractiveShell\n",
    "InteractiveShell.ast_node_interactivity = \"all\""
   ]
  }
 ],
 "metadata": {
  "anaconda-cloud": {},
  "kernelspec": {
   "display_name": "Python [conda root]",
   "language": "python",
   "name": "conda-root-py"
  },
  "language_info": {
   "codemirror_mode": {
    "name": "ipython",
    "version": 3
   },
   "file_extension": ".py",
   "mimetype": "text/x-python",
   "name": "python",
   "nbconvert_exporter": "python",
   "pygments_lexer": "ipython3",
   "version": "3.5.2"
  },
  "toc": {
   "nav_menu": {},
   "number_sections": true,
   "sideBar": true,
   "skip_h1_title": false,
   "toc_cell": true,
   "toc_position": {
    "height": "596px",
    "left": "0px",
    "right": "1058px",
    "top": "106px",
    "width": "214px"
   },
   "toc_section_display": "block",
   "toc_window_display": false
  }
 },
 "nbformat": 4,
 "nbformat_minor": 2
}
