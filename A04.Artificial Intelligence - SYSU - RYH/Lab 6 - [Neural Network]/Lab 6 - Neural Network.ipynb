{
 "cells": [
  {
   "cell_type": "code",
   "execution_count": 1,
   "metadata": {
    "ExecuteTime": {
     "end_time": "2017-12-25T18:37:32.757722Z",
     "start_time": "2017-12-25T18:37:25.086220Z"
    },
    "collapsed": true
   },
   "outputs": [],
   "source": [
    "from IPython.core.interactiveshell import InteractiveShell\n",
    "InteractiveShell.ast_node_interactivity = \"all\"\n",
    "\n",
    "from collections import Counter\n",
    "import numpy as np\n",
    "import matplotlib.pyplot as plt\n",
    "from functools import reduce\n",
    "import pdir as pr\n",
    "import pandas as pd\n",
    "import os\n",
    "from tqdm import tqdm, tnrange, tqdm_notebook\n",
    "\n",
    "DF = pd.DataFrame"
   ]
  },
  {
   "cell_type": "markdown",
   "metadata": {},
   "source": [
    "# 数据集预处理\n",
    "\n",
    "此次实验数据集来源于[UCI Machine Learning Database][1]，在原始数据集上的基础上，我们用hour.csv中的一部分数据作为训练集（第1-8619条数据，命名为train.csv），一部分数据作为测试集（第16876-17379条数据，命名为test.csv）。\n",
    "\n",
    "其中，数据集特征命名的解释如下：\n",
    "\n",
    "```\n",
    "=========================================\n",
    "Dataset characteristics\n",
    "=========================================\t\n",
    "\n",
    "\t- instant: record index\n",
    "\t- dteday : date\n",
    "\t- season : season (1:springer, 2:summer, 3:fall, 4:winter)\n",
    "\t- yr : year (0: 2011, 1:2012)\n",
    "\t- mnth : month ( 1 to 12)\n",
    "\t- hr : hour (0 to 23)\n",
    "\t- holiday : weather day is holiday or not \n",
    "    (extracted from http://dchr.dc.gov/page/holiday-schedule)\n",
    "\t- weekday : day of the week\n",
    "\t- workingday : if day is neither weekend nor holiday is 1, otherwise is 0.\n",
    "\t+ weathersit : \n",
    "\t\t- 1: Clear, Few clouds, Partly cloudy, Partly cloudy\n",
    "\t\t- 2: Mist + Cloudy, Mist + Broken clouds, Mist + Few clouds, Mist\n",
    "\t\t- 3: Light Snow, Light Rain + Thunderstorm + Scattered clouds, \n",
    "        Light Rain + Scattered clouds\n",
    "\t\t- 4: Heavy Rain + Ice Pallets + Thunderstorm + Mist, Snow + Fog\n",
    "\t- temp : Normalized temperature in Celsius. The values are divided to 41 (max)\n",
    "\t- atemp: Normalized feeling temperature in Celsius. The values are divided to 50 (max)\n",
    "\t- hum: Normalized humidity. The values are divided to 100 (max)\n",
    "\t- windspeed: Normalized wind speed. The values are divided to 67 (max)\n",
    "\t- casual: count of casual users\n",
    "\t- registered: count of registered users\n",
    "\t- cnt: count of total rental bikes including both casual and registered\n",
    "\t\n",
    "\n",
    "\n",
    "```\n",
    "[1]:https://archive.ics.uci.edu/ml/datasets/Bike+Sharing+Dataset"
   ]
  },
  {
   "cell_type": "markdown",
   "metadata": {},
   "source": [
    "## 读取训练集和测试集"
   ]
  },
  {
   "cell_type": "code",
   "execution_count": 2,
   "metadata": {
    "ExecuteTime": {
     "end_time": "2017-12-25T18:37:32.929345Z",
     "start_time": "2017-12-25T18:37:32.759704Z"
    }
   },
   "outputs": [
    {
     "data": {
      "text/plain": [
       "((8619, 15), (504, 15))"
      ]
     },
     "execution_count": 2,
     "metadata": {},
     "output_type": "execute_result"
    }
   ],
   "source": [
    "trainSet_origin = pd.read_csv('data\\\\train.csv')\n",
    "testSet_origin = pd.read_csv('data\\\\test.csv')\n",
    "trainSet_origin.shape, testSet_origin.shape"
   ]
  },
  {
   "cell_type": "markdown",
   "metadata": {},
   "source": [
    "## 数据集预览\n",
    "\n",
    "这里先输出训练集的前5个数据进行数据预览。可以看到，TA给的数据集去除了casual和registered这个两个特征。"
   ]
  },
  {
   "cell_type": "code",
   "execution_count": 3,
   "metadata": {
    "ExecuteTime": {
     "end_time": "2017-12-25T18:37:33.138976Z",
     "start_time": "2017-12-25T18:37:32.931327Z"
    }
   },
   "outputs": [
    {
     "data": {
      "text/html": [
       "<div>\n",
       "<table border=\"1\" class=\"dataframe\">\n",
       "  <thead>\n",
       "    <tr style=\"text-align: right;\">\n",
       "      <th></th>\n",
       "      <th>instant</th>\n",
       "      <th>dteday</th>\n",
       "      <th>season</th>\n",
       "      <th>yr</th>\n",
       "      <th>mnth</th>\n",
       "      <th>hr</th>\n",
       "      <th>holiday</th>\n",
       "      <th>weekday</th>\n",
       "      <th>workingday</th>\n",
       "      <th>weathersit</th>\n",
       "      <th>temp</th>\n",
       "      <th>atemp</th>\n",
       "      <th>hum</th>\n",
       "      <th>windspeed</th>\n",
       "      <th>cnt</th>\n",
       "    </tr>\n",
       "  </thead>\n",
       "  <tbody>\n",
       "    <tr>\n",
       "      <th>0</th>\n",
       "      <td>1</td>\n",
       "      <td>2011/1/1</td>\n",
       "      <td>1</td>\n",
       "      <td>0</td>\n",
       "      <td>1</td>\n",
       "      <td>0</td>\n",
       "      <td>0</td>\n",
       "      <td>6</td>\n",
       "      <td>0</td>\n",
       "      <td>1</td>\n",
       "      <td>0.24</td>\n",
       "      <td>0.2879</td>\n",
       "      <td>0.81</td>\n",
       "      <td>0.0</td>\n",
       "      <td>16</td>\n",
       "    </tr>\n",
       "    <tr>\n",
       "      <th>1</th>\n",
       "      <td>2</td>\n",
       "      <td>2011/1/1</td>\n",
       "      <td>1</td>\n",
       "      <td>0</td>\n",
       "      <td>1</td>\n",
       "      <td>1</td>\n",
       "      <td>0</td>\n",
       "      <td>6</td>\n",
       "      <td>0</td>\n",
       "      <td>1</td>\n",
       "      <td>0.22</td>\n",
       "      <td>0.2727</td>\n",
       "      <td>0.80</td>\n",
       "      <td>0.0</td>\n",
       "      <td>40</td>\n",
       "    </tr>\n",
       "    <tr>\n",
       "      <th>2</th>\n",
       "      <td>3</td>\n",
       "      <td>2011/1/1</td>\n",
       "      <td>1</td>\n",
       "      <td>0</td>\n",
       "      <td>1</td>\n",
       "      <td>2</td>\n",
       "      <td>0</td>\n",
       "      <td>6</td>\n",
       "      <td>0</td>\n",
       "      <td>1</td>\n",
       "      <td>0.22</td>\n",
       "      <td>0.2727</td>\n",
       "      <td>0.80</td>\n",
       "      <td>0.0</td>\n",
       "      <td>32</td>\n",
       "    </tr>\n",
       "    <tr>\n",
       "      <th>3</th>\n",
       "      <td>4</td>\n",
       "      <td>2011/1/1</td>\n",
       "      <td>1</td>\n",
       "      <td>0</td>\n",
       "      <td>1</td>\n",
       "      <td>3</td>\n",
       "      <td>0</td>\n",
       "      <td>6</td>\n",
       "      <td>0</td>\n",
       "      <td>1</td>\n",
       "      <td>0.24</td>\n",
       "      <td>0.2879</td>\n",
       "      <td>0.75</td>\n",
       "      <td>0.0</td>\n",
       "      <td>13</td>\n",
       "    </tr>\n",
       "    <tr>\n",
       "      <th>4</th>\n",
       "      <td>5</td>\n",
       "      <td>2011/1/1</td>\n",
       "      <td>1</td>\n",
       "      <td>0</td>\n",
       "      <td>1</td>\n",
       "      <td>4</td>\n",
       "      <td>0</td>\n",
       "      <td>6</td>\n",
       "      <td>0</td>\n",
       "      <td>1</td>\n",
       "      <td>0.24</td>\n",
       "      <td>0.2879</td>\n",
       "      <td>0.75</td>\n",
       "      <td>0.0</td>\n",
       "      <td>1</td>\n",
       "    </tr>\n",
       "  </tbody>\n",
       "</table>\n",
       "</div>"
      ],
      "text/plain": [
       "   instant    dteday  season  yr  mnth  hr  holiday  weekday  workingday  \\\n",
       "0        1  2011/1/1       1   0     1   0        0        6           0   \n",
       "1        2  2011/1/1       1   0     1   1        0        6           0   \n",
       "2        3  2011/1/1       1   0     1   2        0        6           0   \n",
       "3        4  2011/1/1       1   0     1   3        0        6           0   \n",
       "4        5  2011/1/1       1   0     1   4        0        6           0   \n",
       "\n",
       "   weathersit  temp   atemp   hum  windspeed  cnt  \n",
       "0           1  0.24  0.2879  0.81        0.0   16  \n",
       "1           1  0.22  0.2727  0.80        0.0   40  \n",
       "2           1  0.22  0.2727  0.80        0.0   32  \n",
       "3           1  0.24  0.2879  0.75        0.0   13  \n",
       "4           1  0.24  0.2879  0.75        0.0    1  "
      ]
     },
     "execution_count": 3,
     "metadata": {},
     "output_type": "execute_result"
    }
   ],
   "source": [
    "trainSet_origin.head(5)"
   ]
  },
  {
   "cell_type": "markdown",
   "metadata": {},
   "source": [
    "## 特征预处理以及特征归一化/标准化\n",
    "\n",
    "结合上面数据集特征命名的解释，我们可总结如下结论：\n",
    "\n",
    "- **season, mnth, weekday, hr, weathersit, yr, holiday这7个特征都是类别特征(categorical feature)**，这类特征的各个取值并**不存在着取值上的“大小”关系（更严格来说，不存在“序”的关系）**，比如season有4种取值1、2、3、4，但是从该特征的含义上来讲这4种取值之间并没有“序”(order)的关系，因此要使用**独热编码**的方式来讲season特征**替代划分**为4个特征，比如名为season_1、season_2、season_3、season_4，这些引入的变量也称为**哑变量(Dummy variables)**，这样才可以**避免因强行给类别数据增加“序”而带来的许多问题**。\n",
    "\n",
    "    - 由于yr, holiday只有两个值，依旧用0或者1表示即可。\n",
    "    \n",
    "    - season, mnth, weekday, hr, weathersit这5个特征就用**独热编码**的方式**替代划分**为多个特征\n",
    "\n",
    "\n",
    "- 以下是几个**对训练神经网络没有意义或者重复的特征，这类特征应直接删除掉**。\n",
    "\n",
    "    - instant特征只是记录的序号，这并不能给我们提供什么信息。\n",
    "    \n",
    "    - dteday特征只是记录的日期，时间信息对我们训练神经网络也没有什么意义。\n",
    "    \n",
    "    - workingday特征与holiday、weekday这两个特征有重复的地方，不能提供额外的信息。\n",
    "    \n",
    "    - atemp特征是受temp特征影响的，其不能提供temp特征所不能提供的信息。\n",
    "\n",
    "\n",
    "- 除去重复的特征，以下对几个**连续型特征的归一化/标准化**问题的讨论。\n",
    "    \n",
    "    - 原始数据集中已经归一化的特征：\n",
    "    \n",
    "        - temp特征：代表的是摄氏温度，其通过除以最大值41进行归一化。由于温度的实际最大值应是不会与41度差别太大，这样归一化方式还是合理的。具体考证方法还是要看当地的气候，这个还是不要太较真。\n",
    "        \n",
    "        - hum特征：代表湿度，其通过除以最大值100进行归一化，这是完全正确的。\n",
    "        \n",
    "        - windspeed特征：代表风速，其通过除以最大值67进行归一化。由于风速的实际最大值应是不会与67差别太大，这样归一化方式推测是合理的。具体考证方法还是要看当地的气候，这个还是不要太较真。\n",
    "        \n",
    "    - 原始数据集中未归一化的特征：\n",
    "    \n",
    "        - cnt特征：目标预测值，代表预测的一个小时的单车租赁量。这个是没有进行归一化/标准化的特征，所以还是要先进行归一化/标准化比较妥当，而又**由于一个小时的单车租赁量的最大值是不明确的，因此z-score标准差标准化对该特征进行处理，其适用于属性A的最大值和最小值未知的情况，或有超出取值范围的离群数据的情况**。对应转化函数为：$$X^{*}=\\frac{X-mean(X)}{std(X)}$$\n"
   ]
  },
  {
   "cell_type": "markdown",
   "metadata": {},
   "source": [
    "### 合并训练集和测试集\n",
    "由于后续需要对训练集和测试集都进行同样的数据处理，在处理过程中可能会涉及到数据集维度的变化，因此这里事先把两个数据集合并起来，以免后续因为维度不统一而出现问题。"
   ]
  },
  {
   "cell_type": "code",
   "execution_count": 6,
   "metadata": {
    "ExecuteTime": {
     "end_time": "2017-12-25T18:37:57.471072Z",
     "start_time": "2017-12-25T18:37:57.460564Z"
    }
   },
   "outputs": [
    {
     "data": {
      "text/plain": [
       "(9123, 15)"
      ]
     },
     "execution_count": 6,
     "metadata": {},
     "output_type": "execute_result"
    }
   ],
   "source": [
    "allDataSet_origin = pd.concat([trainSet_origin, testSet_origin], axis=0)\n",
    "allDataSet_origin.shape"
   ]
  },
  {
   "cell_type": "markdown",
   "metadata": {},
   "source": [
    "### 特征预处理"
   ]
  },
  {
   "cell_type": "code",
   "execution_count": 7,
   "metadata": {
    "ExecuteTime": {
     "end_time": "2017-12-25T18:37:57.772286Z",
     "start_time": "2017-12-25T18:37:57.474073Z"
    }
   },
   "outputs": [
    {
     "data": {
      "text/plain": [
       "(9123, 57)"
      ]
     },
     "execution_count": 7,
     "metadata": {},
     "output_type": "execute_result"
    }
   ],
   "source": [
    "def featurePreprocessing(dataSet):\n",
    "    '''特征预处理：替代类别特征为哑变量、去除无关特征'''\n",
    "    categorical_features = ['season', 'mnth', 'weekday', 'hr', 'weathersit']\n",
    "    useless_features = ['instant', 'dteday', 'workingday', 'atemp']\n",
    "    features2drop = categorical_features + useless_features \n",
    "\n",
    "    for feature in categorical_features:\n",
    "        #创键 哑变量\n",
    "        dummies = pd.get_dummies(dataSet[feature], prefix=feature, drop_first=False)\n",
    "        #合并数据集\n",
    "        dataSet = pd.concat([dummies, dataSet], axis=1)\n",
    "        \n",
    "    #去除类别特征以及无关特征\n",
    "    return dataSet.drop(features2drop, axis=1)\n",
    "    \n",
    "allDataSet = featurePreprocessing(allDataSet_origin.copy())\n",
    "allDataSet.shape"
   ]
  },
  {
   "cell_type": "markdown",
   "metadata": {},
   "source": [
    "### 还原训练集和测试集\n",
    "对两个数据集要一并处理的步骤已经完成，这里先把两个数据集分开回去。"
   ]
  },
  {
   "cell_type": "code",
   "execution_count": 8,
   "metadata": {
    "ExecuteTime": {
     "end_time": "2017-12-25T18:37:57.838336Z",
     "start_time": "2017-12-25T18:37:57.774788Z"
    }
   },
   "outputs": [
    {
     "data": {
      "text/plain": [
       "((8619, 57), (504, 57))"
      ]
     },
     "execution_count": 8,
     "metadata": {},
     "output_type": "execute_result"
    }
   ],
   "source": [
    "divideLine = testSet_origin.shape[0]\n",
    "trainSet = allDataSet[:-divideLine].astype('float64')\n",
    "testSet = allDataSet[-divideLine:].astype('float64', raise_on_error=False)\n",
    "trainSet.shape, testSet.shape"
   ]
  },
  {
   "cell_type": "code",
   "execution_count": 9,
   "metadata": {
    "ExecuteTime": {
     "end_time": "2017-12-25T18:37:58.179686Z",
     "start_time": "2017-12-25T18:37:57.850344Z"
    },
    "collapsed": true
   },
   "outputs": [],
   "source": [
    "assert(trainSet.shape[0] == trainSet_origin.shape[0])\n",
    "assert(testSet.shape[0] == testSet_origin.shape[0])"
   ]
  },
  {
   "cell_type": "markdown",
   "metadata": {},
   "source": [
    "### 预处理效果预览\n",
    "\n",
    "这里先输出预处理后的前5个数据，可见数据的特征数目上涨了许多个。"
   ]
  },
  {
   "cell_type": "code",
   "execution_count": 10,
   "metadata": {
    "ExecuteTime": {
     "end_time": "2017-12-25T18:37:58.305256Z",
     "start_time": "2017-12-25T18:37:58.182187Z"
    }
   },
   "outputs": [
    {
     "data": {
      "text/html": [
       "<div>\n",
       "<table border=\"1\" class=\"dataframe\">\n",
       "  <thead>\n",
       "    <tr style=\"text-align: right;\">\n",
       "      <th></th>\n",
       "      <th>weathersit_1</th>\n",
       "      <th>weathersit_2</th>\n",
       "      <th>weathersit_3</th>\n",
       "      <th>weathersit_4</th>\n",
       "      <th>hr_0</th>\n",
       "      <th>hr_1</th>\n",
       "      <th>hr_2</th>\n",
       "      <th>hr_3</th>\n",
       "      <th>hr_4</th>\n",
       "      <th>hr_5</th>\n",
       "      <th>...</th>\n",
       "      <th>season_1</th>\n",
       "      <th>season_2</th>\n",
       "      <th>season_3</th>\n",
       "      <th>season_4</th>\n",
       "      <th>yr</th>\n",
       "      <th>holiday</th>\n",
       "      <th>temp</th>\n",
       "      <th>hum</th>\n",
       "      <th>windspeed</th>\n",
       "      <th>cnt</th>\n",
       "    </tr>\n",
       "  </thead>\n",
       "  <tbody>\n",
       "    <tr>\n",
       "      <th>0</th>\n",
       "      <td>1.0</td>\n",
       "      <td>0.0</td>\n",
       "      <td>0.0</td>\n",
       "      <td>0.0</td>\n",
       "      <td>1.0</td>\n",
       "      <td>0.0</td>\n",
       "      <td>0.0</td>\n",
       "      <td>0.0</td>\n",
       "      <td>0.0</td>\n",
       "      <td>0.0</td>\n",
       "      <td>...</td>\n",
       "      <td>1.0</td>\n",
       "      <td>0.0</td>\n",
       "      <td>0.0</td>\n",
       "      <td>0.0</td>\n",
       "      <td>0.0</td>\n",
       "      <td>0.0</td>\n",
       "      <td>0.24</td>\n",
       "      <td>0.81</td>\n",
       "      <td>0.0</td>\n",
       "      <td>16.0</td>\n",
       "    </tr>\n",
       "    <tr>\n",
       "      <th>1</th>\n",
       "      <td>1.0</td>\n",
       "      <td>0.0</td>\n",
       "      <td>0.0</td>\n",
       "      <td>0.0</td>\n",
       "      <td>0.0</td>\n",
       "      <td>1.0</td>\n",
       "      <td>0.0</td>\n",
       "      <td>0.0</td>\n",
       "      <td>0.0</td>\n",
       "      <td>0.0</td>\n",
       "      <td>...</td>\n",
       "      <td>1.0</td>\n",
       "      <td>0.0</td>\n",
       "      <td>0.0</td>\n",
       "      <td>0.0</td>\n",
       "      <td>0.0</td>\n",
       "      <td>0.0</td>\n",
       "      <td>0.22</td>\n",
       "      <td>0.80</td>\n",
       "      <td>0.0</td>\n",
       "      <td>40.0</td>\n",
       "    </tr>\n",
       "    <tr>\n",
       "      <th>2</th>\n",
       "      <td>1.0</td>\n",
       "      <td>0.0</td>\n",
       "      <td>0.0</td>\n",
       "      <td>0.0</td>\n",
       "      <td>0.0</td>\n",
       "      <td>0.0</td>\n",
       "      <td>1.0</td>\n",
       "      <td>0.0</td>\n",
       "      <td>0.0</td>\n",
       "      <td>0.0</td>\n",
       "      <td>...</td>\n",
       "      <td>1.0</td>\n",
       "      <td>0.0</td>\n",
       "      <td>0.0</td>\n",
       "      <td>0.0</td>\n",
       "      <td>0.0</td>\n",
       "      <td>0.0</td>\n",
       "      <td>0.22</td>\n",
       "      <td>0.80</td>\n",
       "      <td>0.0</td>\n",
       "      <td>32.0</td>\n",
       "    </tr>\n",
       "    <tr>\n",
       "      <th>3</th>\n",
       "      <td>1.0</td>\n",
       "      <td>0.0</td>\n",
       "      <td>0.0</td>\n",
       "      <td>0.0</td>\n",
       "      <td>0.0</td>\n",
       "      <td>0.0</td>\n",
       "      <td>0.0</td>\n",
       "      <td>1.0</td>\n",
       "      <td>0.0</td>\n",
       "      <td>0.0</td>\n",
       "      <td>...</td>\n",
       "      <td>1.0</td>\n",
       "      <td>0.0</td>\n",
       "      <td>0.0</td>\n",
       "      <td>0.0</td>\n",
       "      <td>0.0</td>\n",
       "      <td>0.0</td>\n",
       "      <td>0.24</td>\n",
       "      <td>0.75</td>\n",
       "      <td>0.0</td>\n",
       "      <td>13.0</td>\n",
       "    </tr>\n",
       "    <tr>\n",
       "      <th>4</th>\n",
       "      <td>1.0</td>\n",
       "      <td>0.0</td>\n",
       "      <td>0.0</td>\n",
       "      <td>0.0</td>\n",
       "      <td>0.0</td>\n",
       "      <td>0.0</td>\n",
       "      <td>0.0</td>\n",
       "      <td>0.0</td>\n",
       "      <td>1.0</td>\n",
       "      <td>0.0</td>\n",
       "      <td>...</td>\n",
       "      <td>1.0</td>\n",
       "      <td>0.0</td>\n",
       "      <td>0.0</td>\n",
       "      <td>0.0</td>\n",
       "      <td>0.0</td>\n",
       "      <td>0.0</td>\n",
       "      <td>0.24</td>\n",
       "      <td>0.75</td>\n",
       "      <td>0.0</td>\n",
       "      <td>1.0</td>\n",
       "    </tr>\n",
       "  </tbody>\n",
       "</table>\n",
       "<p>5 rows × 57 columns</p>\n",
       "</div>"
      ],
      "text/plain": [
       "   weathersit_1  weathersit_2  weathersit_3  weathersit_4  hr_0  hr_1  hr_2  \\\n",
       "0           1.0           0.0           0.0           0.0   1.0   0.0   0.0   \n",
       "1           1.0           0.0           0.0           0.0   0.0   1.0   0.0   \n",
       "2           1.0           0.0           0.0           0.0   0.0   0.0   1.0   \n",
       "3           1.0           0.0           0.0           0.0   0.0   0.0   0.0   \n",
       "4           1.0           0.0           0.0           0.0   0.0   0.0   0.0   \n",
       "\n",
       "   hr_3  hr_4  hr_5  ...   season_1  season_2  season_3  season_4   yr  \\\n",
       "0   0.0   0.0   0.0  ...        1.0       0.0       0.0       0.0  0.0   \n",
       "1   0.0   0.0   0.0  ...        1.0       0.0       0.0       0.0  0.0   \n",
       "2   0.0   0.0   0.0  ...        1.0       0.0       0.0       0.0  0.0   \n",
       "3   1.0   0.0   0.0  ...        1.0       0.0       0.0       0.0  0.0   \n",
       "4   0.0   1.0   0.0  ...        1.0       0.0       0.0       0.0  0.0   \n",
       "\n",
       "   holiday  temp   hum  windspeed   cnt  \n",
       "0      0.0  0.24  0.81        0.0  16.0  \n",
       "1      0.0  0.22  0.80        0.0  40.0  \n",
       "2      0.0  0.22  0.80        0.0  32.0  \n",
       "3      0.0  0.24  0.75        0.0  13.0  \n",
       "4      0.0  0.24  0.75        0.0   1.0  \n",
       "\n",
       "[5 rows x 57 columns]"
      ]
     },
     "execution_count": 10,
     "metadata": {},
     "output_type": "execute_result"
    }
   ],
   "source": [
    "trainSet.head()"
   ]
  },
  {
   "cell_type": "markdown",
   "metadata": {},
   "source": [
    "输出所有的特征名称，可见类别变量均被哑变量替换了，无关变量也被删除了。"
   ]
  },
  {
   "cell_type": "code",
   "execution_count": 11,
   "metadata": {
    "ExecuteTime": {
     "end_time": "2017-12-25T18:37:58.391818Z",
     "start_time": "2017-12-25T18:37:58.308758Z"
    }
   },
   "outputs": [
    {
     "data": {
      "text/plain": [
       "Index(['weathersit_1', 'weathersit_2', 'weathersit_3', 'weathersit_4', 'hr_0',\n",
       "       'hr_1', 'hr_2', 'hr_3', 'hr_4', 'hr_5', 'hr_6', 'hr_7', 'hr_8', 'hr_9',\n",
       "       'hr_10', 'hr_11', 'hr_12', 'hr_13', 'hr_14', 'hr_15', 'hr_16', 'hr_17',\n",
       "       'hr_18', 'hr_19', 'hr_20', 'hr_21', 'hr_22', 'hr_23', 'weekday_0',\n",
       "       'weekday_1', 'weekday_2', 'weekday_3', 'weekday_4', 'weekday_5',\n",
       "       'weekday_6', 'mnth_1', 'mnth_2', 'mnth_3', 'mnth_4', 'mnth_5', 'mnth_6',\n",
       "       'mnth_7', 'mnth_8', 'mnth_9', 'mnth_10', 'mnth_11', 'mnth_12',\n",
       "       'season_1', 'season_2', 'season_3', 'season_4', 'yr', 'holiday', 'temp',\n",
       "       'hum', 'windspeed', 'cnt'],\n",
       "      dtype='object')"
      ]
     },
     "execution_count": 11,
     "metadata": {},
     "output_type": "execute_result"
    }
   ],
   "source": [
    "trainSet.columns"
   ]
  },
  {
   "cell_type": "markdown",
   "metadata": {},
   "source": [
    "### 从训练集中划分验证集\n",
    "\n",
    "典型的从训练集中划分验证集的方法是：划分训练集中的18%为验证集，划分过程采用随机选取的方式。但是这里**由于数据是有时间序列特性的，因此便采取划分训练集的后18%为验证集**。"
   ]
  },
  {
   "cell_type": "code",
   "execution_count": 12,
   "metadata": {
    "ExecuteTime": {
     "end_time": "2017-12-25T18:37:58.481881Z",
     "start_time": "2017-12-25T18:37:58.394319Z"
    },
    "collapsed": true
   },
   "outputs": [],
   "source": [
    "trainSet_backup = trainSet.copy()"
   ]
  },
  {
   "cell_type": "code",
   "execution_count": 13,
   "metadata": {
    "ExecuteTime": {
     "end_time": "2017-12-25T18:37:58.621981Z",
     "start_time": "2017-12-25T18:37:58.487385Z"
    }
   },
   "outputs": [
    {
     "name": "stdout",
     "output_type": "stream",
     "text": [
      "划分后的训练集和验证集的维度： (7068, 56) (1551, 56)\n"
     ]
    }
   ],
   "source": [
    "splitRate = 0.18 #划分比例\n",
    "splitNum = int(trainSet_backup.shape[0]*splitRate) #划分的数目\n",
    "#划分 数据集 和 标签\n",
    "temp = trainSet_backup.drop(['cnt'], axis=1), trainSet_backup['cnt']\n",
    "#得到 训练集 和 标签\n",
    "trainSet, trainSet_label = temp[0][:-splitNum].values, temp[1][:-splitNum].values \n",
    "#得到 验证集 和 标签\n",
    "validateSet, validateSet_label = temp[0][-splitNum:].values, temp[1][-splitNum:].values\n",
    "\n",
    "print('划分后的训练集和验证集的维度：', trainSet.shape,  validateSet.shape)"
   ]
  },
  {
   "cell_type": "markdown",
   "metadata": {},
   "source": [
    "### 特征归一化/标准化\n",
    "\n",
    "这里对训练集的特征cnt需要进行标准化，并保存标准化时该特征数据的均值和方差，以供后续预测时还原数据使用。"
   ]
  },
  {
   "cell_type": "code",
   "execution_count": 14,
   "metadata": {
    "ExecuteTime": {
     "end_time": "2017-12-25T18:37:58.845640Z",
     "start_time": "2017-12-25T18:37:58.624483Z"
    }
   },
   "outputs": [
    {
     "data": {
      "text/plain": [
       "(147.08899264289758, 137.21696136234789)"
      ]
     },
     "execution_count": 14,
     "metadata": {},
     "output_type": "execute_result"
    }
   ],
   "source": [
    "trainSet_label.mean(), trainSet_label.std() #处理前的均值和方差"
   ]
  },
  {
   "cell_type": "code",
   "execution_count": 15,
   "metadata": {
    "ExecuteTime": {
     "end_time": "2017-12-25T18:37:58.934703Z",
     "start_time": "2017-12-25T18:37:58.847641Z"
    },
    "collapsed": true
   },
   "outputs": [],
   "source": [
    "mean_of_cnt, std_of_cnt = trainSet_label.mean(), trainSet_label.std()\n",
    "trainSet_label = (trainSet_label - mean_of_cnt)/std_of_cnt"
   ]
  },
  {
   "cell_type": "markdown",
   "metadata": {},
   "source": [
    "同时，也需要用从验证集得到的均值和方差对验证集进行标准化。这里很容易犯的一个错误就是：先对数据集进行标准化再划分数据集为训练集和验证集。正确的做法应该是：先划分数据集为训练集和验证集，再对训练集进行标准化，使用从训练集得到的标准化的均值和方差来对验证集进行标准化。"
   ]
  },
  {
   "cell_type": "code",
   "execution_count": 16,
   "metadata": {
    "ExecuteTime": {
     "end_time": "2017-12-25T18:37:59.023269Z",
     "start_time": "2017-12-25T18:37:58.936705Z"
    },
    "collapsed": true
   },
   "outputs": [],
   "source": [
    "validateSet_label = (validateSet_label - mean_of_cnt)/std_of_cnt"
   ]
  },
  {
   "cell_type": "markdown",
   "metadata": {},
   "source": [
    "下面来输出两个数据集的基本数据特征，以供分析。"
   ]
  },
  {
   "cell_type": "code",
   "execution_count": 17,
   "metadata": {
    "ExecuteTime": {
     "end_time": "2017-12-25T18:37:59.141350Z",
     "start_time": "2017-12-25T18:37:59.026269Z"
    }
   },
   "outputs": [
    {
     "data": {
      "text/html": [
       "<div>\n",
       "<table border=\"1\" class=\"dataframe\">\n",
       "  <thead>\n",
       "    <tr style=\"text-align: right;\">\n",
       "      <th></th>\n",
       "      <th>0</th>\n",
       "      <th>0</th>\n",
       "    </tr>\n",
       "  </thead>\n",
       "  <tbody>\n",
       "    <tr>\n",
       "      <th>count</th>\n",
       "      <td>7.068000e+03</td>\n",
       "      <td>1551.000000</td>\n",
       "    </tr>\n",
       "    <tr>\n",
       "      <th>mean</th>\n",
       "      <td>-3.157350e-15</td>\n",
       "      <td>-0.128275</td>\n",
       "    </tr>\n",
       "    <tr>\n",
       "      <th>std</th>\n",
       "      <td>1.000071e+00</td>\n",
       "      <td>0.848122</td>\n",
       "    </tr>\n",
       "    <tr>\n",
       "      <th>min</th>\n",
       "      <td>-1.064657e+00</td>\n",
       "      <td>-1.064657</td>\n",
       "    </tr>\n",
       "    <tr>\n",
       "      <th>25%</th>\n",
       "      <td>-8.387374e-01</td>\n",
       "      <td>-0.875176</td>\n",
       "    </tr>\n",
       "    <tr>\n",
       "      <th>50%</th>\n",
       "      <td>-2.630068e-01</td>\n",
       "      <td>-0.306733</td>\n",
       "    </tr>\n",
       "    <tr>\n",
       "      <th>75%</th>\n",
       "      <td>5.094925e-01</td>\n",
       "      <td>0.356450</td>\n",
       "    </tr>\n",
       "    <tr>\n",
       "      <th>max</th>\n",
       "      <td>3.672367e+00</td>\n",
       "      <td>2.958169</td>\n",
       "    </tr>\n",
       "  </tbody>\n",
       "</table>\n",
       "</div>"
      ],
      "text/plain": [
       "                  0            0\n",
       "count  7.068000e+03  1551.000000\n",
       "mean  -3.157350e-15    -0.128275\n",
       "std    1.000071e+00     0.848122\n",
       "min   -1.064657e+00    -1.064657\n",
       "25%   -8.387374e-01    -0.875176\n",
       "50%   -2.630068e-01    -0.306733\n",
       "75%    5.094925e-01     0.356450\n",
       "max    3.672367e+00     2.958169"
      ]
     },
     "execution_count": 17,
     "metadata": {},
     "output_type": "execute_result"
    }
   ],
   "source": [
    "pd.concat([DF(trainSet_label).describe(), DF(validateSet_label).describe()], axis=1)"
   ]
  },
  {
   "cell_type": "markdown",
   "metadata": {},
   "source": [
    "## 去除测试集的无关数据\n",
    "\n",
    "测试集最后一列（也即是cnt特征那一列）全部都是问号，这里便将其最后一列删除，以适应后续算法的数据要求。"
   ]
  },
  {
   "cell_type": "code",
   "execution_count": 18,
   "metadata": {
    "ExecuteTime": {
     "end_time": "2017-12-25T18:37:59.279448Z",
     "start_time": "2017-12-25T18:37:59.144352Z"
    }
   },
   "outputs": [
    {
     "data": {
      "text/plain": [
       "(504, 56)"
      ]
     },
     "execution_count": 18,
     "metadata": {},
     "output_type": "execute_result"
    }
   ],
   "source": [
    "testSet = testSet.drop(['cnt'], axis=1)\n",
    "testSet.shape"
   ]
  },
  {
   "cell_type": "markdown",
   "metadata": {},
   "source": [
    "这里验证测试集和训练集的特征个数是否一致，以确保后续根据训练集训练算法后可应用于测试集。"
   ]
  },
  {
   "cell_type": "code",
   "execution_count": 19,
   "metadata": {
    "ExecuteTime": {
     "end_time": "2017-12-25T18:37:59.378039Z",
     "start_time": "2017-12-25T18:37:59.281951Z"
    },
    "collapsed": true
   },
   "outputs": [],
   "source": [
    "assert(testSet.shape[1] == trainSet.shape[1])"
   ]
  },
  {
   "cell_type": "markdown",
   "metadata": {},
   "source": [
    "## 保存预处理后的数据集"
   ]
  },
  {
   "cell_type": "code",
   "execution_count": 20,
   "metadata": {
    "ExecuteTime": {
     "end_time": "2017-12-25T18:38:00.398262Z",
     "start_time": "2017-12-25T18:37:59.380521Z"
    },
    "collapsed": true
   },
   "outputs": [],
   "source": [
    "dirPath = \"proprocessed data\"\n",
    "if not os.path.exists(dirPath):\n",
    "    os.mkdir(dirPath)\n",
    "    \n",
    "DF(trainSet).to_csv(dirPath + '\\\\train.csv')\n",
    "DF(testSet).to_csv(dirPath + '\\\\test.csv')"
   ]
  },
  {
   "cell_type": "markdown",
   "metadata": {},
   "source": [
    "# 神经网络算法\n",
    "\n",
    "## 算法原理\n",
    "\n",
    "### 基本介绍\n",
    "\n",
    "本次实验实现的是BP神经网络，也称为**误差反向传播算法** (Error Back Propagation)。\n",
    "\n",
    "其首先借鉴了PLA使用$$y = W^Tx+b$$来线性划分数据集的思想，可以说神经网络的单个神经元就是一个PLA分类器的“缩影”，其通过组合多个神经元来实现划分更多单个PLA分类器无法划分的数据集的目标。\n",
    "\n",
    "但是，又由于多个线性分类器的叠加本质上终究是线性的，为了处理线性不可分的情况，神经网络中便引入了激活函数来增加非线性因素。常用的激活函数有sigmoid函数、reLU函数、Maxout函数等等。以sigmoid函数为例，此时单个神经元就变成了这样的一个分类器：$$y = f(x) = sigmoid(W^Tx+b)$$\n",
    "\n",
    "这样，多个非线性分类器的叠加在理论上就可以完美地划分任意非线性的数据集了。\n",
    "\n",
    "好，那么问题来了，到底要怎样**“组合”**单个神经元呢？神经网络采用了如下的方法：让多个神经元排列成一层，除了输入层之外每层神经元都接收前面一层所有神经元的输入$$W^TX=x_1*w_1+x_2*w_2+...+xn*w_n$$，这里$x_i$便是上一层神经元的输出，$w_i$就是上一层神经元的数据传播到下一次神经元的权重，每个神经元通过上面提到的激活函数将输入转换为输出$y$，该过程不断迭代直到到达输出层。这个过程也称为**前向传播**过程。\n",
    "\n",
    "那么，很自然的，该如何去训练$W$和$b$这些参数呢？这时候就要讲起误差反向传播算法的核心了。\n",
    "\n",
    "首先，BP算法先随机初始化网络中的权重$W$和偏置$b$。在给定一些数据的前提下，对于每一个数据，BP算法先通过前向传播计算预测值，然计算预测值和对应实际值的误差，**逆向反馈更新神经网络中每条连接线的权重$W$和偏置$b$**。\n",
    "\n",
    "在没有到达停止条件的情况下重复上述过程。停止条件可以是下面这三条\n",
    "\n",
    "- 权重的更新低于某个阈值的时候\n",
    "- 预测的错误率低于某个阈值\n",
    "- 达到预设一定的迭代次数\n",
    "\n",
    "举个例子，在手写数字识别中，一张手写数字1的图片储存了 28 * 28 = 784个像素点，每个像素点储存着灰度值(值域为[0,255])，那么就意味着有784个神经元作为输入层，而输出层有10个神经元代表数字0 - 9，每个神经元取值为0 - 1，代表着这张图片是这个数字的概率。\n",
    "\n",
    "每输入一张图片（也就是实例），神经网络会执行前向传输一层一层的计算到输出层神经元的值，根据哪个输出神经元的值最大来预测输入图片所代表的手写数字。然后根据输出神经元的值，计算出预测值与真实值之间的误差，再逆向反馈更新神经网络中每条连接线的权重和每个神经元的偏置。"
   ]
  },
  {
   "cell_type": "markdown",
   "metadata": {},
   "source": [
    "后续会使用到一些符号，这里先统一进行解释：\n",
    "\n",
    "- $N_i$ 表示第 i 层神经元的个数，其中$1\\leqq i \\leqq l$；\n",
    "\n",
    "- $f(·)$ 表示神经元的激活函数；\n",
    "\n",
    "- $W^i \\in R^{N_{i-1}\\  \\times\\  N_{i}}$ 表示第 $i-1$ 层到第 $i$ 层的权重矩阵；\n",
    " \n",
    "- $w_{jk}^{i}$是权重矩阵 $W^i$ 中的元素，表示第 $i-1$ 层第 $j$ 个神经元到第 $i$ 层第 $k$ 个神经元的连接的权重；\n",
    "\n",
    "- $\\textbf{z}^i=[z_1^i,z_2^i,...,z_{N_i}^i]^T \\in  R^{N_{i}\\  \\times\\  1}$表示第 $i$ 层神经元的输入；\n",
    "\n",
    "- $\\textbf{a}^i=[a_1^i,a_2^i,...,a_{N_i}^i]^T \\in  R^{N_{i}\\  \\times\\  1}$表示第 $i$ 层神经元的输出；\n",
    "\n",
    "- $\\textbf{y}=[y_1,y_2,...,y_{N_l}]^T \\in  R^{N_{l}\\  \\times\\  1}$表示数据的实际标签；\n",
    "\n",
    "- $\\widehat{\\textbf{y}}=[\\widehat{y}_1,\\widehat{y}_2,...,\\widehat{y}_{N_l}]^T \\in  R^{N_{l}\\  \\times\\  1}$表示输出神经元的输出；\n",
    "\n",
    "为方便解释和实现，这里不讨论有关偏置项$b$的使用，即是默认偏置项为0。"
   ]
  },
  {
   "cell_type": "markdown",
   "metadata": {},
   "source": [
    "### 前向传播\n",
    "\n",
    "前向传播的过程比较简单，对于第 $i(2 \\leqq i \\leqq l)$ 层的神经元，其输入为：\n",
    "\n",
    "$$\\textbf{z}^i=a^{i-1}*W^i$$\n",
    "\n",
    "对应输出为：\n",
    "\n",
    "$$\\textbf{a}^i=f(\\textbf{z}^i)$$\n",
    "\n",
    "对于$l$层感知器（即是每一层神经元只有一个），前向传播的过程如下：\n",
    "\n",
    "$$X=\\textbf{a}^1 \\rightarrow \\textbf{z}^2 \\rightarrow \\textbf{a}^2 \\rightarrow \\ ... \\ \\rightarrow \\textbf{a}^{l-1} \\rightarrow \\textbf{z}^l\\rightarrow \\textbf{a}^l = \\textbf{y}  $$\n",
    "\n"
   ]
  },
  {
   "cell_type": "markdown",
   "metadata": {},
   "source": [
    "### 误差反向传播\n",
    "\n",
    "假设训练数据为$D={(X_1,y_1),(X_2,y_2),...,(X_n,y_n)}$，即共有 $n$ 个。\n",
    "\n",
    "对于某个训练数据$(X_i,y_i)$，其代价函数为：\n",
    "\n",
    "$$E_i=\\frac{1}{2}\\sum_{k=1}^{N_l}{(y_k^i-\\widehat{y}_k^i)}^2$$\n",
    "\n",
    "显然，所有训练数据的总体（平均）代价可写为：\n",
    "\n",
    "$$E_{total} = \\frac{1}{n}\\sum_{i=1}^{n}E_i$$\n",
    "\n",
    "算法的目标就是调整权重和偏置使总体代价（误差）变小，求得总体代价取最小值时对应的各个神经元的参数（即权重和偏置）。\n",
    "\n",
    "这里，便可使用梯度下降法来进行参数的更新了。\n",
    "\n",
    "则第 $i-1$ 层到第 $i$ 层的权重矩阵的更新式写为：\n",
    "\n",
    "$$W_i = W_i - \\eta \\frac{\\partial E_{total}}{\\partial W_i}=                                    W_i -\\frac{\\eta}{n}\\sum_{j=1}^n \\frac{\\partial E_{j}}{\\partial W_i}$$"
   ]
  },
  {
   "cell_type": "markdown",
   "metadata": {},
   "source": [
    "对于单个误差的梯度，有：\n",
    "\n",
    "$$\\frac{\\partial E_{j}}{\\partial W_i}=\\delta^{i}*a^{i-1}$$\n",
    "\n",
    "其中，输出层的误差梯度矩阵${\\delta}^{i}$为：\n",
    "\n",
    "$${\\delta}^{l}=(\\textbf{y}-\\widehat{\\textbf{y}}) \\odot f'(z^{l})$$\n",
    "\n",
    "隐藏层的误差梯度矩阵${\\delta}^{i}$为：\n",
    "\n",
    "$${\\delta}^{i}=(W^{i+1}*\\delta^{i+1})\\odot f'(z^{i})$$\n",
    "\n",
    "这里符号$\\odot$为Hadamard乘积，符号$*$为常规矩阵运算。\n",
    "\n",
    "具体流程见下面伪代码。"
   ]
  },
  {
   "cell_type": "markdown",
   "metadata": {},
   "source": [
    "\n",
    "## 算法伪代码\n",
    "\n",
    "---\n",
    "\n",
    "**神经网络算法**\n",
    "\n",
    "---\n",
    "**输入**：训练集$D={(X_1,y_1),(X_2,y_2),...,(X_n,y_n)}$、各个网络层的结点个数、梯度下降的步长$\\eta$、算法迭代次数$maxRunTimes$\n",
    "\n",
    "**输出**：各个层之间的最优权重矩阵$W$\n",
    "\n",
    "---\n",
    "用均值为0，标准差为$\\frac{1}{\\sqrt{N_{in}}}$的正态分布初始化每层之间的权重矩阵$W_{N_{in} \\times N_{out}}^{(i)}$，其中$1\\leqq i \\leqq l$, $l$为网络的层数(不包括输入层)，$N_{in}$为对应层的输入元素个数，$N_{out}$为对应层的输出元素个数\n",
    "\n",
    "$for\\ t\\ =\\ 1,2,...,maxRunTimes\\ do$\n",
    "\n",
    "$\\ \\ \\ \\ \\ $初始化每一层之间的权重更新矩阵${\\bigtriangledown W}_{N_{in} \\times N_{out}}$元素全为0\n",
    "\n",
    "$\\ \\ \\ \\ \\ for\\ (X, \\textbf{y}) \\in D \\ do$\n",
    "\n",
    "$\\ \\ \\ \\ \\ \\ \\ \\ \\ \\ $计算当前样本的输出值$\\widehat{\\textbf{y}}=X*W^{1}*\\ ...\\ *W^{l}$\n",
    "\n",
    "$\\ \\ \\ \\ \\ \\ \\ \\ \\ \\ $计算输出层的误差梯度矩阵${\\delta}^{l}=(\\textbf{y}-\\widehat{\\textbf{y}}) \\odot f'(z^{l})$\n",
    "\n",
    "$\\ \\ \\ \\ \\ \\ \\ \\ \\ \\ $计算隐藏层的误差梯度矩阵${\\delta}^{i}=(W^{i+1}*\\delta^{i+1})\\odot f'(z^{i})$，其中$1\\leqq i \\leqq l-1$\n",
    "\n",
    "$\\ \\ \\ \\ \\ \\ \\ \\ \\ \\ $更新每层之间的权重更新矩阵${\\bigtriangledown W^i}_{N_{in} \\times N_{out}}={\\bigtriangledown W^i}_{N_{in} \\times N_{out}}+\\delta^{i}*a^{i-1}$，其中$1\\leqq i \\leqq l$\n",
    "\n",
    "$\\ \\ \\ \\ \\ endfor$\n",
    "\n",
    "$\\ \\ \\ \\ \\ $使用$W_{N_{in} \\times N_{out}}=W_{N_{in} \\times N_{out}}+\\eta\\frac{{\\bigtriangledown W}_{N_{in} \\times N_{out}}}{n}\\ $更新权重矩阵\n",
    "\n",
    "$endfor$\n",
    "\n",
    "---"
   ]
  },
  {
   "cell_type": "markdown",
   "metadata": {},
   "source": [
    "## 神经网络类实现"
   ]
  },
  {
   "cell_type": "code",
   "execution_count": 69,
   "metadata": {
    "ExecuteTime": {
     "end_time": "2017-12-25T20:57:32.820996Z",
     "start_time": "2017-12-25T20:57:32.809989Z"
    }
   },
   "outputs": [
    {
     "name": "stdout",
     "output_type": "stream",
     "text": [
      "[ 1.  1.  1.]\n",
      "[ 1.  1.  1.]\n"
     ]
    }
   ],
   "source": [
    "a = np.ones((1,2))\n",
    "b = 2*np.ones((2,3))\n",
    "for i in a:\n",
    "    print(np.array([1]+list(i)))\n",
    "    print(np.insert(i,0,1))\n",
    "    \n"
   ]
  },
  {
   "cell_type": "code",
   "execution_count": 100,
   "metadata": {
    "ExecuteTime": {
     "end_time": "2017-12-25T22:07:20.789206Z",
     "start_time": "2017-12-25T22:07:20.604076Z"
    }
   },
   "outputs": [],
   "source": [
    "class NeuralNetwork(object):\n",
    "    '''神经网络类实现'''\n",
    "    def __init__(self, n_input, n_hidden, n_output, learning_rate, SGD_batch_size=-1):\n",
    "        '''初始化函数'''\n",
    "        #设置 输入层、隐藏层、输出层结点个数\n",
    "        self.n_input = n_input\n",
    "        self.n_hidden = n_hidden\n",
    "        self.n_output = n_output\n",
    "        #设置 学习率\n",
    "        self.lr = learning_rate\n",
    "        #设置 激活函数\n",
    "        self.activation_function = lambda x : 1/(1+np.exp(-x))\n",
    "        #设置随机梯度下降每次抽取的样本个数，-1代表使用 批梯度下降\n",
    "        self.SGD_batch_size = SGD_batch_size\n",
    "        \n",
    "        #初始化 输入层到隐藏层、隐藏层到输出层的权重矩阵为正态分布\n",
    "        self.weights_input_to_hidden = np.random.normal(0, self.n_input**(-0.5),\n",
    "                                                        (self.n_input+1, self.n_hidden))\n",
    "        self.weights_hidden_to_output = np.random.normal(0, self.n_hidden**(-0.5),\n",
    "                                                         (self.n_hidden+1, self.n_output))\n",
    "    def addOne2Rows(self, dataSet):\n",
    "        '''给每一个样本前加一个常数1'''\n",
    "        ones = np.ones(len(dataSet))\n",
    "        return np.column_stack((ones, dataSet))\n",
    "\n",
    "    def fit(self, features, labels):\n",
    "        '''根据训练集训练算法'''\n",
    "        #得到样本总数\n",
    "        totSampleNum = features.shape[0]\n",
    "        #初始化 权重步长矩阵\n",
    "        delta_weights_i_h = np.zeros(self.weights_input_to_hidden.shape)\n",
    "        delta_weights_h_o = np.zeros(self.weights_hidden_to_output.shape)\n",
    "        #选取用于训练的样本\n",
    "        sampleDatas, sampleLabels = features.copy(), labels.copy()\n",
    "        if self.SGD_batch_size != -1:\n",
    "            #从训练集中随机均匀无重复地抽取一定样本\n",
    "            sampleIdxes = np.random.choice(totSampleNum, SGD_batch_size, replace=False)\n",
    "            #得到采样后的一部分数据\n",
    "            sampleDatas, sampleLabels = features[sampleIdxes], labels[sampleIdxes]\n",
    "        #给训练集的每个样本前加上一\n",
    "        sampleDatas = self.addOne2Rows(sampleDatas)\n",
    "        #遍历\n",
    "        for X, y in zip(sampleDatas, sampleLabels):\n",
    "            ### 前向传播过程 ###\n",
    "            #计算 隐藏层 输入和输出\n",
    "            hidden_inputs = np.dot(X, self.weights_input_to_hidden)\n",
    "            hidden_outputs = self.activation_function(hidden_inputs)\n",
    "            hidden_outputs = np.insert(hidden_outputs, 0, 1)\n",
    "\n",
    "            #计算 输出层 输入和输出\n",
    "            final_inputs = np.dot(hidden_outputs, self.weights_hidden_to_output)\n",
    "            final_outputs = final_inputs #final_outputs=f(final_inputs)=final_inputs\n",
    "        \n",
    "            ### 后向传播过程 ###\n",
    "            #计算 输出层输出 和 目标标签值 的误差\n",
    "            error = y - final_outputs\n",
    "            #计算 输出层 误差梯度\n",
    "            output_error_term = error # = error*1\n",
    "            #更新 隐藏层到输出层 的 权重步长矩阵(广播运算，或者外积）\n",
    "            delta_weights_h_o += hidden_outputs.reshape(-1,1)*output_error_term\n",
    "            \n",
    "            #计算 传播到 隐藏层 的误差\n",
    "            hidden_error = np.dot(self.weights_hidden_to_output[1:, :], output_error_term)\n",
    "            #计算 隐藏层 误差梯度\n",
    "            hidden_error_term = hidden_error*hidden_outputs[1:]*(1-hidden_outputs[1:])\n",
    "            # 更新 输入层到隐藏层 的 权重步长矩阵(广播运算，或者外积）\n",
    "            delta_weights_i_h += X.reshape(-1,1)*hidden_error_term\n",
    "            \n",
    "\n",
    "        #更新 权重矩阵\n",
    "        self.weights_hidden_to_output += self.lr*delta_weights_h_o/totSampleNum\n",
    "        self.weights_input_to_hidden += self.lr*delta_weights_i_h/totSampleNum\n",
    " \n",
    "    def apply(self, features):\n",
    "        '''应用训练好的参数到输入数据集上'''\n",
    "        features = self.addOne2Rows(features)\n",
    "        hidden_inputs = np.dot(features, self.weights_input_to_hidden)\n",
    "        hidden_outputs = self.activation_function(hidden_inputs)\n",
    "        hidden_outputs = self.addOne2Rows(hidden_outputs)\n",
    "        final_inputs = np.dot(hidden_outputs, self.weights_hidden_to_output)\n",
    "        final_outputs = final_inputs \n",
    "        \n",
    "        return final_outputs\n"
   ]
  },
  {
   "cell_type": "markdown",
   "metadata": {},
   "source": [
    "### 实现注意点及优化\n",
    "\n",
    "1.初始化 输入层到隐藏层、隐藏层到输出层的权重矩阵对最后算法的收敛速度和准确率有很大的影响，起初我是将这两个矩阵初始化为均值为0，标准差为1的正态分布矩阵，代码如下：\n",
    "\n",
    "```py\n",
    "self.weights_input_to_hidden = np.random.randn(self.n_input, self.n_hidden)\n",
    "self.weights_hidden_to_output = np.random.randn(self.n_hidden, self.n_output)\n",
    "```\n",
    "\n",
    "但是上面做法存在一个问题，**随着输入数据量的增长，随机初始化的神经元的输出数据的分布中的方差也在增大**。这里输入神经元设定为五十多个，这样输入到隐藏层的数据的方差就是输入神经元的五十多倍，这显然会影响算法的迭代更新。\n",
    "\n",
    "后来google了许多资料后，在stanford CS231n课程资料中发现比较有效的初始化权重矩阵的方法：**假设上一层结点个数为n，则将权重矩阵设置为均值为0，标准差为$\\frac{1}{\\sqrt{n}}$的正态分布矩阵**，对应代码如下：\n",
    "\n",
    "```py\n",
    "self.weights_input_to_hidden = np.random.normal(0, self.n_input**(-0.5),\n",
    "                                                  (self.n_input, self.n_hidden))\n",
    "self.weights_hidden_to_output = np.random.normal(0, self.n_hidden**(-0.5),\n",
    "                                                  (self.n_hidden, self.n_output))\n",
    "```\n",
    "\n",
    "2.由于数据量比较大，如果只是单纯的批梯度进行更新，那么训练速度将会非常慢，因此这里**实现了批梯度进行梯度下降，大大加速了迭代速度**。"
   ]
  },
  {
   "cell_type": "markdown",
   "metadata": {},
   "source": [
    "## 算法小数据测试"
   ]
  },
  {
   "cell_type": "markdown",
   "metadata": {},
   "source": [
    "### 设定测试数据\n",
    "这里首先指定小数据输入并手动算出对应的答案，以供后续测试。"
   ]
  },
  {
   "cell_type": "code",
   "execution_count": 41,
   "metadata": {
    "ExecuteTime": {
     "end_time": "2017-12-25T20:30:38.157045Z",
     "start_time": "2017-12-25T20:30:37.913268Z"
    },
    "collapsed": true
   },
   "outputs": [],
   "source": [
    "# features_train = np.array([[0.5, -0.2, 0.1]]) #训练集特征\n",
    "# labels_train = np.array([[0.4]])              #训练集标签\n",
    "# features_test = features_train.copy()         #测试集特征\n",
    "# labels_test = np.array([[0.16666906]])        #测试集标签\n",
    "# #输入层 到 隐藏层 的初始权重矩阵\n",
    "# weights_input_to_hidden_init = np.array([[0.1, -0.2], \n",
    "#                                          [0.4, 0.5],\n",
    "#                                          [-0.3, 0.2]])\n",
    "# #输入层 到 隐藏层 的最终权重矩阵\n",
    "# weights_input_to_hidden_ans = np.array([[0.10562014, -0.20185996], \n",
    "#                                         [0.39775194, 0.50074398], \n",
    "#                                         [-0.29887597, 0.19962801]])\n",
    "# #隐藏层 到 输出层 的初始权重矩阵\n",
    "# weights_hidden_to_output_init = np.array([[0.3], [-0.1]])\n",
    "# #隐藏层 到 输出层 的最终权重矩阵\n",
    "# weights_hidden_to_output_ans = np.array([[0.37275328], [-0.03172939]])\n",
    "\n",
    "# #设置 输入层、隐藏层 、输出层结点个数依次为 3、2、1，学习率为 0.5\n",
    "# NNet_test = NeuralNetwork(3, 2, 1, 0.5)"
   ]
  },
  {
   "cell_type": "markdown",
   "metadata": {},
   "source": [
    "### 使用测试数据训练算法"
   ]
  },
  {
   "cell_type": "code",
   "execution_count": 42,
   "metadata": {
    "ExecuteTime": {
     "end_time": "2017-12-25T20:30:38.265622Z",
     "start_time": "2017-12-25T20:30:38.160548Z"
    },
    "collapsed": true
   },
   "outputs": [],
   "source": [
    "# #覆盖两个 权重矩阵 的初始值\n",
    "# NNet_test.weights_input_to_hidden = weights_input_to_hidden_init.copy()\n",
    "# NNet_test.weights_hidden_to_output = weights_hidden_to_output_init.copy()\n",
    "# #训练算法，迭代一次\n",
    "# NNet_test.fit(features_train, labels_train)"
   ]
  },
  {
   "cell_type": "markdown",
   "metadata": {},
   "source": [
    "### 测试输入层 到 隐藏层 的最终权重矩阵"
   ]
  },
  {
   "cell_type": "code",
   "execution_count": 43,
   "metadata": {
    "ExecuteTime": {
     "end_time": "2017-12-25T20:30:38.371698Z",
     "start_time": "2017-12-25T20:30:38.267625Z"
    },
    "collapsed": true
   },
   "outputs": [],
   "source": [
    "# assert(np.allclose(NNet_test.weights_input_to_hidden, weights_input_to_hidden_ans))"
   ]
  },
  {
   "cell_type": "markdown",
   "metadata": {},
   "source": [
    "### 测试隐藏层 到 输出层 的最终权重矩阵"
   ]
  },
  {
   "cell_type": "code",
   "execution_count": 44,
   "metadata": {
    "ExecuteTime": {
     "end_time": "2017-12-25T20:30:38.460261Z",
     "start_time": "2017-12-25T20:30:38.375200Z"
    },
    "collapsed": true
   },
   "outputs": [],
   "source": [
    "# assert(np.allclose(NNet_test.weights_hidden_to_output, weights_hidden_to_output_ans))"
   ]
  },
  {
   "cell_type": "markdown",
   "metadata": {},
   "source": [
    "### 测试算法对测试集的结果"
   ]
  },
  {
   "cell_type": "code",
   "execution_count": 45,
   "metadata": {
    "ExecuteTime": {
     "end_time": "2017-12-25T20:30:38.571840Z",
     "start_time": "2017-12-25T20:30:38.462762Z"
    },
    "collapsed": true
   },
   "outputs": [],
   "source": [
    "# predict_test = NNet_test.apply(features_test)\n",
    "# assert(np.allclose(predict_test, labels_test))"
   ]
  },
  {
   "cell_type": "markdown",
   "metadata": {},
   "source": [
    "运行上面3行测试代码均无错误，可见算法实现正确。"
   ]
  },
  {
   "cell_type": "markdown",
   "metadata": {},
   "source": [
    "## 损失函数实现\n",
    "这里实现损失函数来衡量算法的准确率。"
   ]
  },
  {
   "cell_type": "code",
   "execution_count": 46,
   "metadata": {
    "ExecuteTime": {
     "end_time": "2017-12-25T20:30:38.651397Z",
     "start_time": "2017-12-25T20:30:38.575344Z"
    },
    "collapsed": true
   },
   "outputs": [],
   "source": [
    "def calcLoss(predict, label):\n",
    "    '''计算预测值相对于标签值的损失值，默认使用均方误差'''\n",
    "    def MeanSquareError(a, b):\n",
    "        '''计算均方误差'''\n",
    "        return 1/2*np.mean((a - b)**2)\n",
    "    \n",
    "    return MeanSquareError(predict, label)"
   ]
  },
  {
   "cell_type": "markdown",
   "metadata": {},
   "source": [
    "## 使用验证集调参\n",
    "\n",
    "参考[神经网络学习之参数的设置原则][神经网络学习之参数的设置原则]进行调参。需要调参的参数有：学习率、隐藏层个数、随机梯度下降使用的样本的个数。\n",
    "\n",
    "[神经网络学习之参数的设置原则]:https://www.cnblogs.com/sunfie/p/5519604.html\n",
    "\n",
    "### 多次迭代运行算法"
   ]
  },
  {
   "cell_type": "code",
   "execution_count": 99,
   "metadata": {
    "ExecuteTime": {
     "end_time": "2017-12-25T22:07:20.600071Z",
     "start_time": "2017-12-25T22:05:57.514437Z"
    }
   },
   "outputs": [
    {
     "name": "stdout",
     "output_type": "stream",
     "text": [
      "\n"
     ]
    }
   ],
   "source": [
    "### 需调参的参数 ###\n",
    "learning_rate = 0.8\n",
    "n_hidden = 18\n",
    "SGD_batch_size = 256\n",
    "### 不需调参的参数 ###\n",
    "n_output = 1\n",
    "n_input = trainSet.shape[1]\n",
    "\n",
    "network = NeuralNetwork(n_input, n_hidden, n_output, learning_rate, SGD_batch_size)\n",
    "\n",
    "runTime = 2500\n",
    "testRange = range(1, runTime+1)\n",
    "trainLosses, validationLosses = np.zeros(runTime), np.zeros(runTime)\n",
    "for i in tnrange(runTime):\n",
    "    #使用数据训练算法\n",
    "    network.fit(trainSet, trainSet_label)\n",
    "    #得到算法对 训练集 和 验证集 的预测标签\n",
    "    trainPredictLabel = network.apply(trainSet).T\n",
    "    validPredictLabel = network.apply(validateSet).T\n",
    "    #计算 损失值 并 保存 损失值结果\n",
    "    trainLosses[i] = calcLoss(trainPredictLabel, trainSet_label)\n",
    "    validationLosses[i] = calcLoss(validPredictLabel, validateSet_label)"
   ]
  },
  {
   "cell_type": "markdown",
   "metadata": {},
   "source": [
    "### 绘制损失值随迭代此时变化的曲线"
   ]
  },
  {
   "cell_type": "code",
   "execution_count": 88,
   "metadata": {
    "ExecuteTime": {
     "end_time": "2017-12-25T21:48:22.854524Z",
     "start_time": "2017-12-25T21:48:22.849021Z"
    },
    "collapsed": true
   },
   "outputs": [],
   "source": [
    "InteractiveShell.ast_node_interactivity = \"none\""
   ]
  },
  {
   "cell_type": "code",
   "execution_count": 89,
   "metadata": {
    "ExecuteTime": {
     "end_time": "2017-12-25T21:48:27.194291Z",
     "start_time": "2017-12-25T21:48:26.873062Z"
    }
   },
   "outputs": [
    {
     "data": {
      "image/png": "[encoded data removed]",
      "text/plain": [
       "<matplotlib.figure.Figure at 0x279df0fe898>"
      ]
     },
     "metadata": {},
     "output_type": "display_data"
    }
   ],
   "source": [
    "fig, ax = plt.subplots() \n",
    "fig.set_size_inches(7.5, 4)\n",
    "plt.plot(testRange, trainLosses*std_of_cnt+mean_of_cnt, 'r', label=\"Training loss\")\n",
    "plt.plot(testRange, validationLosses*std_of_cnt+mean_of_cnt, 'g', label=\"Validation loss\")\n",
    "plt.xlabel('run time')\n",
    "plt.ylabel('loss')\n",
    "plt.title(\"loss versus rum time in Neural Network\")\n",
    "plt.legend(bbox_to_anchor=(0, -0.1), loc=2, borderaxespad=0., fontsize='small')\n",
    "plt.show()\n",
    "plt.close()"
   ]
  },
  {
   "cell_type": "markdown",
   "metadata": {},
   "source": [
    "## 绘制对验证集后21天的预测值与实际值的对比图\n",
    "\n",
    "由于之前划分验证集时是直接取原有数据集的后18%作为验证集的，这里取验证集的后21天作为测试也相当于取原有数据集的后21天作为测试，保存了数据在时间上的连续性。"
   ]
  },
  {
   "cell_type": "code",
   "execution_count": 90,
   "metadata": {
    "ExecuteTime": {
     "end_time": "2017-12-25T21:48:34.769124Z",
     "start_time": "2017-12-25T21:48:34.750613Z"
    }
   },
   "outputs": [
    {
     "name": "stdout",
     "output_type": "stream",
     "text": [
      "(504,) (504,) (504,)\n"
     ]
    }
   ],
   "source": [
    "num = 21*24 # 数据个数\n",
    "last21Days_range = np.arange(num) #样本范围\n",
    "last21Days_features, last21Days_labels = validateSet[-num:], validateSet_label[-num:]\n",
    "#使用算法进行预测\n",
    "last21Days_predicts = network.apply(last21Days_features)\n",
    "#还原归一化后的数据\n",
    "last21Days_predicts = last21Days_predicts.flatten()*std_of_cnt + mean_of_cnt\n",
    "last21Days_labels = last21Days_labels.flatten()*std_of_cnt + mean_of_cnt\n",
    "\n",
    "print(last21Days_predicts.shape, last21Days_labels.shape, last21Days_range.shape)"
   ]
  },
  {
   "cell_type": "code",
   "execution_count": 91,
   "metadata": {
    "ExecuteTime": {
     "end_time": "2017-12-25T21:48:34.914241Z",
     "start_time": "2017-12-25T21:48:34.772126Z"
    },
    "collapsed": true
   },
   "outputs": [],
   "source": [
    "InteractiveShell.ast_node_interactivity = \"none\""
   ]
  },
  {
   "cell_type": "code",
   "execution_count": 92,
   "metadata": {
    "ExecuteTime": {
     "end_time": "2017-12-25T21:48:35.412575Z",
     "start_time": "2017-12-25T21:48:34.916743Z"
    }
   },
   "outputs": [
    {
     "data": {
      "image/png": "[encoded data removed]",
      "text/plain": [
       "<matplotlib.figure.Figure at 0x279dfa80dd8>"
      ]
     },
     "metadata": {},
     "output_type": "display_data"
    }
   ],
   "source": [
    "fig, ax = plt.subplots() \n",
    "fig.set_size_inches(7.5, 4)\n",
    "plt.plot(last21Days_range, last21Days_predicts, 'r', label=\"prediction\")\n",
    "plt.plot(last21Days_range, last21Days_labels, 'g', label=\"data\")\n",
    "ax.set_xlim(right=num)\n",
    "ax.set_xticks(np.arange(0, num+24, 24))\n",
    "ax.set_xticklabels(np.arange(0, 22, 1))\n",
    "plt.xlabel('day')\n",
    "plt.ylabel('count of total rental bikes')\n",
    "plt.title(\"count of total rental bikes versus time\")\n",
    "plt.legend(bbox_to_anchor=(0, -0.1), loc=2, borderaxespad=0., fontsize='small')\n",
    "plt.show()\n",
    "plt.close()"
   ]
  },
  {
   "cell_type": "markdown",
   "metadata": {},
   "source": [
    "从上面的输出可以看到，在全部21天(504个小时)中，除了在圣诞节前后预测值明显比实际值高很多之外，其他时间段的预测值和实际值还是比较贴近的。"
   ]
  },
  {
   "cell_type": "markdown",
   "metadata": {},
   "source": [
    "## 在测试集上应用算法\n",
    "\n",
    "基于上面调出来的最优参数，在测试集上运用该算法。"
   ]
  },
  {
   "cell_type": "code",
   "execution_count": 93,
   "metadata": {
    "ExecuteTime": {
     "end_time": "2017-12-25T21:48:35.430087Z",
     "start_time": "2017-12-25T21:48:35.416577Z"
    },
    "collapsed": true
   },
   "outputs": [],
   "source": [
    "test_predicts = network.apply(testSet).flatten()*std_of_cnt + mean_of_cnt\n",
    "np.savetxt('15352220_linzecheng.txt', test_predicts, fmt=\"%.5f\", delimiter=\"\\n\")"
   ]
  },
  {
   "cell_type": "markdown",
   "metadata": {},
   "source": [
    "# 思考题\n",
    "\n",
    "- 尝试说明下其他激活函数的优缺点。\n",
    "    - 首先，需要明确，激活函数的主要作用是**加入非线性因素，解决线性模型的表达、分类能力不足的问题**。\n",
    "    - **tanh激活函数**，表达式为`f(x)=2sigmoid(2x)-1`。\n",
    "        - 优点：\n",
    "            - 1.比Sigmoid函数收敛速度更快。\n",
    "            - 2.相比Sigmoid函数，其输出以0为中心。\n",
    "        - 缺点：\n",
    "            - 1.和sigmoid函数一样都会出现梯度消失的问题。\n",
    "    - **ReLU激活函数**，表达式为`f(x)=max(0,x)`\n",
    "        - 优点：\n",
    "            - 1.使用随机梯度下降训练算法时能更快收敛。\n",
    "            - 2.有效缓解了梯度消失的问题。\n",
    "            - 3.提供了神经网络的稀疏表达能力。\n",
    "            - 4.相比于 sigmoid/tanh，ReLU只需要一个阈值就可以得到激活值，而不用进行许多复杂运算。\n",
    "        - 缺点：\n",
    "            - 1.随着训练的进行，可能会出现神经元死亡，权重无法更新的情况。如果发生这种情况，那么流经神经元的梯度从这一点开始将永远是0。也就是说，ReLU神经元在训练中不可逆地死亡了。\n",
    "    - **Maxout激活函数**\n",
    "        - 优点：\n",
    "            - 1.拟合能力是非常强的，它可以拟合任意的的凸函数。\n",
    "            - 2.计算简单，不会出现梯度消失的问题。\n",
    "            - 3.不会出现在ReLU中会导致的神经元死亡的现象。\n",
    "        - 缺点：\n",
    "            - 1.引入了更多的参数，进一步加重调参的重担。\n",
    "    - 除此之外还有许多激活函数，这里只讨论几个比较典型的以作为示例，分析思路基本都是一致的。\n",
    "\n",
    "\n",
    "\n",
    "- 有什么方法可以实现传递过程中不激活所有节点？\n",
    "    - 引入dropout方法，**在深度学习网络的训练过程中，对于神经网络单元，按照一定的概率将其暂时从网络中丢弃**。对于随机梯度下降来说，由于是随机丢弃，故而每一个mini-batch都在训练不同的网络。在这个过程中便实现了再传递过程中不激活所有节点。\n",
    "\n",
    "\n",
    "- 梯度消失和梯度爆炸是什么？可以怎么解决？\n",
    "    - 梯度爆炸和梯度消失问题都是因为**网络太深，网络权值更新不稳定**造成的，本质上是由**梯度反向传播中的连乘效应**导致的。\n",
    "    - 梯度消失：误差从输出层反向传播时，在每一层都要乘以激活函数f(x)的导数。而若使用sigmoid函数作为激活函数，其导数的值域为[0, 0.25]，导数取值都小于1, **这样误差经过每一层传递都会不断地衰减。当网络导数比较多时，梯度会不断地衰减，甚至消失**，这使得整个网络很难训练。这就是梯度消失问题。\n",
    "        - 解决方案：可以考虑用ReLU激活函数取代sigmoid激活函数。\n",
    "    - 梯度爆炸：产生原因与梯度消失相反，**若激活函数f(x)的导数取值有很大的可能性会超过1，如此不断连乘下去，梯度将会指数级增长**。这就是梯度爆炸问题。\n",
    "        - 解决方案：进行**梯度裁剪**，操作方法如下：\n",
    "            - 选取一个梯度剪裁的阈值`clip_norm`（一般选择1）\n",
    "            - 在计算完每个权重的梯度之后，我们并不像通常那样直接使用这些梯度进行权重更新，而是先求所有权重梯度的平方和`global_norm`\n",
    "            - 最后把每个梯度乘以缩放因子` clip_norm/max(global_norm, clip_norm)`\n",
    "            - 这样就**保证了在一次迭代更新中，所有权重的梯度的平方和在一个设定范围以内**。\n"
   ]
  },
  {
   "cell_type": "markdown",
   "metadata": {},
   "source": [
    "# 参考资料\n",
    "\n",
    "- 1.[用python参加Kaggle的些许经验总结][用python参加Kaggle的些许经验总结]\n",
    "- 2.[Pandas 处理 dummy variable][Pandas 处理 dummy variable]\n",
    "- 3.[数据标准化/归一化normalization][数据标准化/归一化normalization]\n",
    "- 4.[Numpy中的广播(Broadcasting)][Numpy中的广播(Broadcasting)]\n",
    "- 5.[NumPy v1.11 ManualNumPy参考例程随机抽样][NumPy v1.11 ManualNumPy参考例程随机抽样]\n",
    "- 6.[深度神经网络中的梯度丢失和梯度爆炸][深度神经网络中的梯度丢失和梯度爆炸]\n",
    "- 7.[深度神经网络的梯度不稳定问题--梯度消失与梯度爆炸][深度神经网络的梯度不稳定问题--梯度消失与梯度爆炸]\n",
    "- 8.[python package - tqdm 4.14.0][tqdm 4.14.0]\n",
    "- 9.[Homepage Machine Learning Algorithm 浅谈深度学习中的激活函数 - The Activation Function in Deep Learning][xxx]\n",
    "- 10.[【机器学习】神经网络-激活函数-面面观(Activation Function)][【机器学习】神经网络-激活函数-面面观(Activation Function)]\n",
    "- 11.[理解dropout][理解dropout]\n",
    "- 12.[CS231n课程笔记翻译：神经网络笔记 2][CS231n课程笔记翻译：神经网络笔记 2]\n",
    "- 13.[【深度学习】神经网络中的权重初始化：Why and How][【深度学习】神经网络中的权重初始化：Why and How]\n",
    "- 14.[How to improve the neural networks accuracy?][How to improve the neural networks accuracy?]\n",
    "\n",
    "\n",
    "[How to improve the neural networks accuracy?]:https://stackoverflow.com/questions/43347456/how-to-improve-the-neural-networks-accuracy/43347719\n",
    "[【深度学习】神经网络中的权重初始化：Why and How]:http://www.jianshu.com/p/03009cfdf733\n",
    "[CS231n课程笔记翻译：神经网络笔记 2]:https://zhuanlan.zhihu.com/p/21560667\n",
    "[理解dropout]:http://blog.csdn.net/stdcoutzyx/article/details/49022443\n",
    "[【机器学习】神经网络-激活函数-面面观(Activation Function)]:http://blog.csdn.net/cyh_24/article/details/50593400\n",
    "[xxx]:http://www.cnblogs.com/rgvb178/p/6055213.html\n",
    "[tqdm 4.14.0]:https://pypi.python.org/pypi/tqdm/4.14.0\n",
    "[深度神经网络的梯度不稳定问题--梯度消失与梯度爆炸]:https://ziyubiti.github.io/2016/11/06/gradvanish/\n",
    "[深度神经网络中的梯度丢失和梯度爆炸]:https://limengweb.wordpress.com/2017/03/12/%E6%B7%B1%E5%BA%A6%E7%A5%9E%E7%BB%8F%E7%BD%91%E7%BB%9C%E4%B8%AD%E7%9A%84%E6%A2%AF%E5%BA%A6%E4%B8%A2%E5%A4%B1%E5%92%8C%E6%A2%AF%E5%BA%A6%E7%88%86%E7%82%B8/\n",
    "[NumPy v1.11 ManualNumPy参考例程随机抽样]:http://usyiyi.cn/translate/NumPy_v111/reference/generated/numpy.random.choice.html\n",
    "[用python参加Kaggle的些许经验总结]:http://www.jianshu.com/p/32def2294ae6\n",
    "[Pandas 处理 dummy variable]:http://blog.csdn.net/weiwei9363/article/details/78255210\n",
    "[数据标准化/归一化normalization]:http://blog.csdn.net/pipisorry/article/details/52247379\n",
    "[Numpy中的广播(Broadcasting)]:http://blog.csdn.net/yangnanhai93/article/details/50127747"
   ]
  },
  {
   "cell_type": "markdown",
   "metadata": {},
   "source": [
    "# 函数测试\n",
    "在编写代码时，有许多地方需要用到矩阵运算来加快算法的运行速度，因此也必须要用到python的numpy库的一些函数。而在使用的过程中，遇到了一些与自己理解相异的用法，这里将其记录下来以便后续重温代码时能更好地理解代码。\n",
    "\n",
    "## 列向量与行向量\n",
    "\n",
    "在numpy中，不管是行向量还是列向量，均是用“行”向量进行表示的。若强行需要区分向量的维度，则可使用reshape函数进行调整。"
   ]
  },
  {
   "cell_type": "code",
   "execution_count": 94,
   "metadata": {
    "ExecuteTime": {
     "end_time": "2017-12-25T21:48:35.534163Z",
     "start_time": "2017-12-25T21:48:35.433592Z"
    },
    "collapsed": true
   },
   "outputs": [],
   "source": [
    "InteractiveShell.ast_node_interactivity = \"all\""
   ]
  },
  {
   "cell_type": "code",
   "execution_count": 95,
   "metadata": {
    "ExecuteTime": {
     "end_time": "2017-12-25T21:48:35.649243Z",
     "start_time": "2017-12-25T21:48:35.537164Z"
    }
   },
   "outputs": [
    {
     "data": {
      "text/plain": [
       "array([ 2.,  2.,  2.])"
      ]
     },
     "execution_count": 95,
     "metadata": {},
     "output_type": "execute_result"
    }
   ],
   "source": [
    "2*np.ones(3) #新建 一维向量 时，默认创建 行向量"
   ]
  },
  {
   "cell_type": "markdown",
   "metadata": {},
   "source": [
    "## np.dot()与行向量\n",
    "np.dot()函数可实现两个行向量的点乘运算，也可实现numpy多维向量的矩阵运算。\n",
    "\n",
    "    以下面的例子为例，a为 2 x 3 的矩阵，b为 1 x 3 的行向量，可用np.dot(a,b)进行两者的矩阵运算。"
   ]
  },
  {
   "cell_type": "code",
   "execution_count": 96,
   "metadata": {
    "ExecuteTime": {
     "end_time": "2017-12-25T21:48:35.740307Z",
     "start_time": "2017-12-25T21:48:35.652747Z"
    }
   },
   "outputs": [
    {
     "data": {
      "text/plain": [
       "array([[ 1.,  1.,  1.],\n",
       "       [ 1.,  1.,  1.]])"
      ]
     },
     "execution_count": 96,
     "metadata": {},
     "output_type": "execute_result"
    },
    {
     "data": {
      "text/plain": [
       "array([ 2.,  2.,  2.])"
      ]
     },
     "execution_count": 96,
     "metadata": {},
     "output_type": "execute_result"
    }
   ],
   "source": [
    "a = np.ones((2,3))\n",
    "b = 2*np.ones(3)\n",
    "a\n",
    "b"
   ]
  },
  {
   "cell_type": "markdown",
   "metadata": {},
   "source": [
    "从下面的输出可以看到，矩阵运算成功，同时输出结果由于只有“一行或一列”数据，numpy自动将其表示为了行向量。"
   ]
  },
  {
   "cell_type": "code",
   "execution_count": 97,
   "metadata": {
    "ExecuteTime": {
     "end_time": "2017-12-25T21:48:35.835876Z",
     "start_time": "2017-12-25T21:48:35.742808Z"
    }
   },
   "outputs": [
    {
     "data": {
      "text/plain": [
       "array([ 6.,  6.])"
      ]
     },
     "execution_count": 97,
     "metadata": {},
     "output_type": "execute_result"
    }
   ],
   "source": [
    "np.dot(a,b)"
   ]
  },
  {
   "cell_type": "markdown",
   "metadata": {},
   "source": [
    "从下面的输出也可以看到将 2 X 3 的矩阵与 1 X 2 的行向量进行点乘运算的报如下错误：\n",
    "\n",
    "```ValueError: shapes (2,3) and (2,) not aligned: 3 (dim 1) != 2 (dim 0)```"
   ]
  },
  {
   "cell_type": "code",
   "execution_count": 98,
   "metadata": {
    "ExecuteTime": {
     "end_time": "2017-12-25T21:48:36.017506Z",
     "start_time": "2017-12-25T21:48:35.838878Z"
    }
   },
   "outputs": [
    {
     "ename": "ValueError",
     "evalue": "shapes (2,3) and (2,) not aligned: 3 (dim 1) != 2 (dim 0)",
     "output_type": "error",
     "traceback": [
      "\u001b[0;31m---------------------------------------------------------------------------\u001b[0m",
      "\u001b[0;31mValueError\u001b[0m                                Traceback (most recent call last)",
      "\u001b[0;32m<ipython-input-98-9cbf3298b283>\u001b[0m in \u001b[0;36m<module>\u001b[0;34m()\u001b[0m\n\u001b[1;32m      1\u001b[0m \u001b[0mc\u001b[0m \u001b[1;33m=\u001b[0m \u001b[1;36m2\u001b[0m\u001b[1;33m*\u001b[0m\u001b[0mnp\u001b[0m\u001b[1;33m.\u001b[0m\u001b[0mones\u001b[0m\u001b[1;33m(\u001b[0m\u001b[1;36m2\u001b[0m\u001b[1;33m)\u001b[0m\u001b[1;33m\u001b[0m\u001b[0m\n\u001b[0;32m----> 2\u001b[0;31m \u001b[0mnp\u001b[0m\u001b[1;33m.\u001b[0m\u001b[0mdot\u001b[0m\u001b[1;33m(\u001b[0m\u001b[0ma\u001b[0m\u001b[1;33m,\u001b[0m \u001b[0mc\u001b[0m\u001b[1;33m)\u001b[0m\u001b[1;33m\u001b[0m\u001b[0m\n\u001b[0m",
      "\u001b[0;31mValueError\u001b[0m: shapes (2,3) and (2,) not aligned: 3 (dim 1) != 2 (dim 0)"
     ]
    }
   ],
   "source": [
    "c = 2*np.ones(2)\n",
    "np.dot(a, c)"
   ]
  },
  {
   "cell_type": "markdown",
   "metadata": {},
   "source": [
    "## [:,None]切片\n",
    "\n",
    "参考资料：[In numpy, what does selection by [:,None] do?][1]\n",
    "\n",
    "[1]:https://stackoverflow.com/questions/37867354/in-numpy-what-does-selection-by-none-do"
   ]
  },
  {
   "cell_type": "code",
   "execution_count": null,
   "metadata": {
    "ExecuteTime": {
     "end_time": "2017-12-25T21:48:36.018508Z",
     "start_time": "2017-12-25T13:48:34.825Z"
    }
   },
   "outputs": [],
   "source": [
    "a = np.ones((2,3))\n",
    "a\n",
    "a[:,None]\n",
    "a[:,None] == a[:, np.newaxis] # None和np.newaxis是等价的"
   ]
  },
  {
   "cell_type": "code",
   "execution_count": null,
   "metadata": {
    "ExecuteTime": {
     "end_time": "2017-12-25T21:48:36.019007Z",
     "start_time": "2017-12-25T13:48:34.831Z"
    }
   },
   "outputs": [],
   "source": [
    "b = np.ones(3)\n",
    "b\n",
    "b[:,np.newaxis]"
   ]
  }
 ],
 "metadata": {
  "anaconda-cloud": {},
  "kernelspec": {
   "display_name": "Python [conda root]",
   "language": "python",
   "name": "conda-root-py"
  },
  "language_info": {
   "codemirror_mode": {
    "name": "ipython",
    "version": 3
   },
   "file_extension": ".py",
   "mimetype": "text/x-python",
   "name": "python",
   "nbconvert_exporter": "python",
   "pygments_lexer": "ipython3",
   "version": "3.5.2"
  },
  "toc": {
   "nav_menu": {},
   "number_sections": true,
   "sideBar": true,
   "skip_h1_title": false,
   "toc_cell": false,
   "toc_position": {
    "height": "595px",
    "left": "0px",
    "right": "930.25px",
    "top": "107px",
    "width": "362px"
   },
   "toc_section_display": "block",
   "toc_window_display": false
  },
  "widgets": {
   "state": {
    "a60ed397ea9f43da918a793bca8d663c": {
     "views": [
      {
       "cell_index": 59
      }
     ]
    }
   },
   "version": "1.2.0"
  }
 },
 "nbformat": 4,
 "nbformat_minor": 2
}
