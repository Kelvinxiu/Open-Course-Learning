{
 "cells": [
  {
   "cell_type": "code",
   "execution_count": 458,
   "metadata": {
    "ExecuteTime": {
     "end_time": "2017-12-05T18:27:06.488350Z",
     "start_time": "2017-12-05T18:27:06.478344Z"
    },
    "collapsed": true
   },
   "outputs": [],
   "source": [
    "from IPython.core.interactiveshell import InteractiveShell\n",
    "InteractiveShell.ast_node_interactivity = \"all\"\n",
    "\n",
    "from collections import Counter\n",
    "import numpy as np\n",
    "import matplotlib.pyplot as plt\n",
    "from functools import reduce\n",
    "import pdir as pr\n",
    "import pandas as pd\n",
    "import os\n",
    "from tqdm import tqdm, tnrange, tqdm_notebook"
   ]
  },
  {
   "cell_type": "markdown",
   "metadata": {},
   "source": [
    "# 数据集预处理\n",
    "\n",
    "此次实验数据集来源于[UCI Machine Learning Database][1]，在原始数据集上的基础上，我们用hour.csv中的一部分数据作为训练集（第1-8619条数据，命名为train.csv），一部分数据作为测试集（第16876-17379条数据，命名为test.csv）。\n",
    "\n",
    "其中，数据集特征命名的解释如下：\n",
    "\n",
    "```\n",
    "=========================================\n",
    "Dataset characteristics\n",
    "=========================================\t\n",
    "\n",
    "\t- instant: record index\n",
    "\t- dteday : date\n",
    "\t- season : season (1:springer, 2:summer, 3:fall, 4:winter)\n",
    "\t- yr : year (0: 2011, 1:2012)\n",
    "\t- mnth : month ( 1 to 12)\n",
    "\t- hr : hour (0 to 23)\n",
    "\t- holiday : weather day is holiday or not \n",
    "    (extracted from http://dchr.dc.gov/page/holiday-schedule)\n",
    "\t- weekday : day of the week\n",
    "\t- workingday : if day is neither weekend nor holiday is 1, otherwise is 0.\n",
    "\t+ weathersit : \n",
    "\t\t- 1: Clear, Few clouds, Partly cloudy, Partly cloudy\n",
    "\t\t- 2: Mist + Cloudy, Mist + Broken clouds, Mist + Few clouds, Mist\n",
    "\t\t- 3: Light Snow, Light Rain + Thunderstorm + Scattered clouds, \n",
    "        Light Rain + Scattered clouds\n",
    "\t\t- 4: Heavy Rain + Ice Pallets + Thunderstorm + Mist, Snow + Fog\n",
    "\t- temp : Normalized temperature in Celsius. The values are divided to 41 (max)\n",
    "\t- atemp: Normalized feeling temperature in Celsius. The values are divided to 50 (max)\n",
    "\t- hum: Normalized humidity. The values are divided to 100 (max)\n",
    "\t- windspeed: Normalized wind speed. The values are divided to 67 (max)\n",
    "\t- casual: count of casual users\n",
    "\t- registered: count of registered users\n",
    "\t- cnt: count of total rental bikes including both casual and registered\n",
    "\t\n",
    "\n",
    "\n",
    "```\n",
    "[1]:https://archive.ics.uci.edu/ml/datasets/Bike+Sharing+Dataset"
   ]
  },
  {
   "cell_type": "markdown",
   "metadata": {},
   "source": [
    "## 读取训练集和测试集"
   ]
  },
  {
   "cell_type": "code",
   "execution_count": 385,
   "metadata": {
    "ExecuteTime": {
     "end_time": "2017-12-05T16:42:23.778810Z",
     "start_time": "2017-12-05T16:42:23.587674Z"
    }
   },
   "outputs": [
    {
     "data": {
      "text/plain": [
       "((8619, 15), (504, 15))"
      ]
     },
     "execution_count": 385,
     "metadata": {},
     "output_type": "execute_result"
    }
   ],
   "source": [
    "trainSet_origin = pd.read_csv('data\\\\train.csv')\n",
    "testSet_origin = pd.read_csv('data\\\\test.csv')\n",
    "trainSet_origin.shape, testSet_origin.shape"
   ]
  },
  {
   "cell_type": "markdown",
   "metadata": {},
   "source": [
    "## 数据集预览\n",
    "\n",
    "这里先输出训练集的前5个数据进行数据预览。可以看到，TA给的数据集去除了casual和registered这个两个特征。"
   ]
  },
  {
   "cell_type": "code",
   "execution_count": 386,
   "metadata": {
    "ExecuteTime": {
     "end_time": "2017-12-05T16:42:23.867874Z",
     "start_time": "2017-12-05T16:42:23.782813Z"
    }
   },
   "outputs": [
    {
     "data": {
      "text/html": [
       "<div>\n",
       "<table border=\"1\" class=\"dataframe\">\n",
       "  <thead>\n",
       "    <tr style=\"text-align: right;\">\n",
       "      <th></th>\n",
       "      <th>instant</th>\n",
       "      <th>dteday</th>\n",
       "      <th>season</th>\n",
       "      <th>yr</th>\n",
       "      <th>mnth</th>\n",
       "      <th>hr</th>\n",
       "      <th>holiday</th>\n",
       "      <th>weekday</th>\n",
       "      <th>workingday</th>\n",
       "      <th>weathersit</th>\n",
       "      <th>temp</th>\n",
       "      <th>atemp</th>\n",
       "      <th>hum</th>\n",
       "      <th>windspeed</th>\n",
       "      <th>cnt</th>\n",
       "    </tr>\n",
       "  </thead>\n",
       "  <tbody>\n",
       "    <tr>\n",
       "      <th>0</th>\n",
       "      <td>1</td>\n",
       "      <td>2011/1/1</td>\n",
       "      <td>1</td>\n",
       "      <td>0</td>\n",
       "      <td>1</td>\n",
       "      <td>0</td>\n",
       "      <td>0</td>\n",
       "      <td>6</td>\n",
       "      <td>0</td>\n",
       "      <td>1</td>\n",
       "      <td>0.24</td>\n",
       "      <td>0.2879</td>\n",
       "      <td>0.81</td>\n",
       "      <td>0.0</td>\n",
       "      <td>16</td>\n",
       "    </tr>\n",
       "    <tr>\n",
       "      <th>1</th>\n",
       "      <td>2</td>\n",
       "      <td>2011/1/1</td>\n",
       "      <td>1</td>\n",
       "      <td>0</td>\n",
       "      <td>1</td>\n",
       "      <td>1</td>\n",
       "      <td>0</td>\n",
       "      <td>6</td>\n",
       "      <td>0</td>\n",
       "      <td>1</td>\n",
       "      <td>0.22</td>\n",
       "      <td>0.2727</td>\n",
       "      <td>0.80</td>\n",
       "      <td>0.0</td>\n",
       "      <td>40</td>\n",
       "    </tr>\n",
       "    <tr>\n",
       "      <th>2</th>\n",
       "      <td>3</td>\n",
       "      <td>2011/1/1</td>\n",
       "      <td>1</td>\n",
       "      <td>0</td>\n",
       "      <td>1</td>\n",
       "      <td>2</td>\n",
       "      <td>0</td>\n",
       "      <td>6</td>\n",
       "      <td>0</td>\n",
       "      <td>1</td>\n",
       "      <td>0.22</td>\n",
       "      <td>0.2727</td>\n",
       "      <td>0.80</td>\n",
       "      <td>0.0</td>\n",
       "      <td>32</td>\n",
       "    </tr>\n",
       "    <tr>\n",
       "      <th>3</th>\n",
       "      <td>4</td>\n",
       "      <td>2011/1/1</td>\n",
       "      <td>1</td>\n",
       "      <td>0</td>\n",
       "      <td>1</td>\n",
       "      <td>3</td>\n",
       "      <td>0</td>\n",
       "      <td>6</td>\n",
       "      <td>0</td>\n",
       "      <td>1</td>\n",
       "      <td>0.24</td>\n",
       "      <td>0.2879</td>\n",
       "      <td>0.75</td>\n",
       "      <td>0.0</td>\n",
       "      <td>13</td>\n",
       "    </tr>\n",
       "    <tr>\n",
       "      <th>4</th>\n",
       "      <td>5</td>\n",
       "      <td>2011/1/1</td>\n",
       "      <td>1</td>\n",
       "      <td>0</td>\n",
       "      <td>1</td>\n",
       "      <td>4</td>\n",
       "      <td>0</td>\n",
       "      <td>6</td>\n",
       "      <td>0</td>\n",
       "      <td>1</td>\n",
       "      <td>0.24</td>\n",
       "      <td>0.2879</td>\n",
       "      <td>0.75</td>\n",
       "      <td>0.0</td>\n",
       "      <td>1</td>\n",
       "    </tr>\n",
       "  </tbody>\n",
       "</table>\n",
       "</div>"
      ],
      "text/plain": [
       "   instant    dteday  season  yr  mnth  hr  holiday  weekday  workingday  \\\n",
       "0        1  2011/1/1       1   0     1   0        0        6           0   \n",
       "1        2  2011/1/1       1   0     1   1        0        6           0   \n",
       "2        3  2011/1/1       1   0     1   2        0        6           0   \n",
       "3        4  2011/1/1       1   0     1   3        0        6           0   \n",
       "4        5  2011/1/1       1   0     1   4        0        6           0   \n",
       "\n",
       "   weathersit  temp   atemp   hum  windspeed  cnt  \n",
       "0           1  0.24  0.2879  0.81        0.0   16  \n",
       "1           1  0.22  0.2727  0.80        0.0   40  \n",
       "2           1  0.22  0.2727  0.80        0.0   32  \n",
       "3           1  0.24  0.2879  0.75        0.0   13  \n",
       "4           1  0.24  0.2879  0.75        0.0    1  "
      ]
     },
     "execution_count": 386,
     "metadata": {},
     "output_type": "execute_result"
    }
   ],
   "source": [
    "trainSet_origin.head(5)"
   ]
  },
  {
   "cell_type": "markdown",
   "metadata": {},
   "source": [
    "## 特征预处理以及特征归一化/标准化\n",
    "\n",
    "结合上面数据集特征命名的解释，我们可总结如下结论：\n",
    "\n",
    "- **season, mnth, weekday, hr, weathersit, yr, holiday这7个特征都是类别特征(categorical feature)**，这类特征的各个取值并**不存在着取值上的“大小”关系（更严格来说，不存在“序”的关系）**，比如season有4种取值1、2、3、4，但是从该特征的含义上来讲这4种取值之间并没有“序”(order)的关系，因此要使用**独热编码**的方式来讲season特征**替代划分**为4个特征，比如名为season_1、season_2、season_3、season_4，这些引入的变量也称为**哑变量(Dummy variables)**，这样才可以**避免因强行给类别数据增加“序”而带来的许多问题**。\n",
    "\n",
    "    - 由于yr, holiday只有两个值，依旧用0或者1表示即可。\n",
    "    \n",
    "    - season, mnth, weekday, hr, weathersit这5个特征就用**独热编码**的方式**替代划分**为多个特征\n",
    "\n",
    "\n",
    "- 以下是几个**对训练神经网络没有意义或者重复的特征，这类特征应直接删除掉**。\n",
    "\n",
    "    - instant特征只是记录的序号，这并不能给我们提供什么信息。\n",
    "    \n",
    "    - dteday特征只是记录的日期，时间信息对我们训练神经网络也没有什么意义。\n",
    "    \n",
    "    - workingday特征与holiday、weekday这两个特征有重复的地方，不能提供额外的信息。\n",
    "    \n",
    "    - atemp特征是受temp特征影响的，其不能提供temp特征所不能提供的信息。\n",
    "\n",
    "\n",
    "- 除去重复的特征，以下对几个**连续型特征的归一化/标准化**问题的讨论。\n",
    "    \n",
    "    - 原始数据集中已经归一化的特征：\n",
    "    \n",
    "        - temp特征：代表的是摄氏温度，其通过除以最大值41进行归一化。由于温度的实际最大值应是不会与41度差别太大，这样归一化方式还是合理的。具体考证方法还是要看当地的气候，这个还是不要太较真。\n",
    "        \n",
    "        - hum特征：代表湿度，其通过除以最大值100进行归一化，这是完全正确的。\n",
    "        \n",
    "        - windspeed特征：代表风速，其通过除以最大值67进行归一化。由于风速的实际最大值应是不会与67差别太大，这样归一化方式推测是合理的。具体考证方法还是要看当地的气候，这个还是不要太较真。\n",
    "        \n",
    "    - 原始数据集中未归一化的特征：\n",
    "    \n",
    "        - cnt特征：目标预测值，代表预测的一个小时的单车租赁量。这个是没有进行归一化/标准化的特征，所以还是要先进行归一化/标准化比较妥当，而又**由于一个小时的单车租赁量的最大值是不明确的，因此z-score标准差标准化对该特征进行处理，其适用于属性A的最大值和最小值未知的情况，或有超出取值范围的离群数据的情况**。对应转化函数为：$$X^{*}=\\frac{X-mean(X)}{std(X)}$$\n",
    "    \n",
    "### 特征预处理函数实现"
   ]
  },
  {
   "cell_type": "code",
   "execution_count": 387,
   "metadata": {
    "ExecuteTime": {
     "end_time": "2017-12-05T16:42:24.049002Z",
     "start_time": "2017-12-05T16:42:23.873878Z"
    }
   },
   "outputs": [],
   "source": [
    "def featurePreprocessing(dataSet):\n",
    "    '''特征预处理：替代类别特征为哑变量、去除无关特征'''\n",
    "    categorical_features = ['season', 'mnth', 'weekday', 'hr', 'weathersit']\n",
    "    useless_features = ['instant', 'dteday', 'workingday', 'atemp']\n",
    "    features2drop = categorical_features + useless_features \n",
    "\n",
    "    for feature in categorical_features:\n",
    "        #创键 哑变量\n",
    "        dummies = pd.get_dummies(dataSet[feature], prefix=feature, drop_first=False)\n",
    "        #合并数据集\n",
    "        dataSet = pd.concat([dummies, dataSet], axis=1)\n",
    "        \n",
    "    #去除类别特征以及无关特征\n",
    "    return dataSet.drop(features2drop, axis=1)\n",
    "    \n",
    "trainSet = featurePreprocessing(trainSet_origin.copy())\n",
    "testSet = featurePreprocessing(testSet_origin.copy())"
   ]
  },
  {
   "cell_type": "markdown",
   "metadata": {},
   "source": [
    "### 预处理效果预览\n",
    "\n",
    "这里先输出预处理后的前5个数据，可见数据的特征数目上涨到了60个。"
   ]
  },
  {
   "cell_type": "code",
   "execution_count": 388,
   "metadata": {
    "ExecuteTime": {
     "end_time": "2017-12-05T16:42:24.105053Z",
     "start_time": "2017-12-05T16:42:24.055007Z"
    }
   },
   "outputs": [
    {
     "data": {
      "text/html": [
       "<div>\n",
       "<table border=\"1\" class=\"dataframe\">\n",
       "  <thead>\n",
       "    <tr style=\"text-align: right;\">\n",
       "      <th></th>\n",
       "      <th>weathersit_1</th>\n",
       "      <th>weathersit_2</th>\n",
       "      <th>weathersit_3</th>\n",
       "      <th>weathersit_4</th>\n",
       "      <th>hr_0</th>\n",
       "      <th>hr_1</th>\n",
       "      <th>hr_2</th>\n",
       "      <th>hr_3</th>\n",
       "      <th>hr_4</th>\n",
       "      <th>hr_5</th>\n",
       "      <th>...</th>\n",
       "      <th>season_1</th>\n",
       "      <th>season_2</th>\n",
       "      <th>season_3</th>\n",
       "      <th>season_4</th>\n",
       "      <th>yr</th>\n",
       "      <th>holiday</th>\n",
       "      <th>temp</th>\n",
       "      <th>hum</th>\n",
       "      <th>windspeed</th>\n",
       "      <th>cnt</th>\n",
       "    </tr>\n",
       "  </thead>\n",
       "  <tbody>\n",
       "    <tr>\n",
       "      <th>0</th>\n",
       "      <td>1.0</td>\n",
       "      <td>0.0</td>\n",
       "      <td>0.0</td>\n",
       "      <td>0.0</td>\n",
       "      <td>1.0</td>\n",
       "      <td>0.0</td>\n",
       "      <td>0.0</td>\n",
       "      <td>0.0</td>\n",
       "      <td>0.0</td>\n",
       "      <td>0.0</td>\n",
       "      <td>...</td>\n",
       "      <td>1.0</td>\n",
       "      <td>0.0</td>\n",
       "      <td>0.0</td>\n",
       "      <td>0.0</td>\n",
       "      <td>0</td>\n",
       "      <td>0</td>\n",
       "      <td>0.24</td>\n",
       "      <td>0.81</td>\n",
       "      <td>0.0</td>\n",
       "      <td>16</td>\n",
       "    </tr>\n",
       "    <tr>\n",
       "      <th>1</th>\n",
       "      <td>1.0</td>\n",
       "      <td>0.0</td>\n",
       "      <td>0.0</td>\n",
       "      <td>0.0</td>\n",
       "      <td>0.0</td>\n",
       "      <td>1.0</td>\n",
       "      <td>0.0</td>\n",
       "      <td>0.0</td>\n",
       "      <td>0.0</td>\n",
       "      <td>0.0</td>\n",
       "      <td>...</td>\n",
       "      <td>1.0</td>\n",
       "      <td>0.0</td>\n",
       "      <td>0.0</td>\n",
       "      <td>0.0</td>\n",
       "      <td>0</td>\n",
       "      <td>0</td>\n",
       "      <td>0.22</td>\n",
       "      <td>0.80</td>\n",
       "      <td>0.0</td>\n",
       "      <td>40</td>\n",
       "    </tr>\n",
       "    <tr>\n",
       "      <th>2</th>\n",
       "      <td>1.0</td>\n",
       "      <td>0.0</td>\n",
       "      <td>0.0</td>\n",
       "      <td>0.0</td>\n",
       "      <td>0.0</td>\n",
       "      <td>0.0</td>\n",
       "      <td>1.0</td>\n",
       "      <td>0.0</td>\n",
       "      <td>0.0</td>\n",
       "      <td>0.0</td>\n",
       "      <td>...</td>\n",
       "      <td>1.0</td>\n",
       "      <td>0.0</td>\n",
       "      <td>0.0</td>\n",
       "      <td>0.0</td>\n",
       "      <td>0</td>\n",
       "      <td>0</td>\n",
       "      <td>0.22</td>\n",
       "      <td>0.80</td>\n",
       "      <td>0.0</td>\n",
       "      <td>32</td>\n",
       "    </tr>\n",
       "    <tr>\n",
       "      <th>3</th>\n",
       "      <td>1.0</td>\n",
       "      <td>0.0</td>\n",
       "      <td>0.0</td>\n",
       "      <td>0.0</td>\n",
       "      <td>0.0</td>\n",
       "      <td>0.0</td>\n",
       "      <td>0.0</td>\n",
       "      <td>1.0</td>\n",
       "      <td>0.0</td>\n",
       "      <td>0.0</td>\n",
       "      <td>...</td>\n",
       "      <td>1.0</td>\n",
       "      <td>0.0</td>\n",
       "      <td>0.0</td>\n",
       "      <td>0.0</td>\n",
       "      <td>0</td>\n",
       "      <td>0</td>\n",
       "      <td>0.24</td>\n",
       "      <td>0.75</td>\n",
       "      <td>0.0</td>\n",
       "      <td>13</td>\n",
       "    </tr>\n",
       "    <tr>\n",
       "      <th>4</th>\n",
       "      <td>1.0</td>\n",
       "      <td>0.0</td>\n",
       "      <td>0.0</td>\n",
       "      <td>0.0</td>\n",
       "      <td>0.0</td>\n",
       "      <td>0.0</td>\n",
       "      <td>0.0</td>\n",
       "      <td>0.0</td>\n",
       "      <td>1.0</td>\n",
       "      <td>0.0</td>\n",
       "      <td>...</td>\n",
       "      <td>1.0</td>\n",
       "      <td>0.0</td>\n",
       "      <td>0.0</td>\n",
       "      <td>0.0</td>\n",
       "      <td>0</td>\n",
       "      <td>0</td>\n",
       "      <td>0.24</td>\n",
       "      <td>0.75</td>\n",
       "      <td>0.0</td>\n",
       "      <td>1</td>\n",
       "    </tr>\n",
       "  </tbody>\n",
       "</table>\n",
       "<p>5 rows × 57 columns</p>\n",
       "</div>"
      ],
      "text/plain": [
       "   weathersit_1  weathersit_2  weathersit_3  weathersit_4  hr_0  hr_1  hr_2  \\\n",
       "0           1.0           0.0           0.0           0.0   1.0   0.0   0.0   \n",
       "1           1.0           0.0           0.0           0.0   0.0   1.0   0.0   \n",
       "2           1.0           0.0           0.0           0.0   0.0   0.0   1.0   \n",
       "3           1.0           0.0           0.0           0.0   0.0   0.0   0.0   \n",
       "4           1.0           0.0           0.0           0.0   0.0   0.0   0.0   \n",
       "\n",
       "   hr_3  hr_4  hr_5 ...   season_1  season_2  season_3  season_4  yr  holiday  \\\n",
       "0   0.0   0.0   0.0 ...        1.0       0.0       0.0       0.0   0        0   \n",
       "1   0.0   0.0   0.0 ...        1.0       0.0       0.0       0.0   0        0   \n",
       "2   0.0   0.0   0.0 ...        1.0       0.0       0.0       0.0   0        0   \n",
       "3   1.0   0.0   0.0 ...        1.0       0.0       0.0       0.0   0        0   \n",
       "4   0.0   1.0   0.0 ...        1.0       0.0       0.0       0.0   0        0   \n",
       "\n",
       "   temp   hum  windspeed  cnt  \n",
       "0  0.24  0.81        0.0   16  \n",
       "1  0.22  0.80        0.0   40  \n",
       "2  0.22  0.80        0.0   32  \n",
       "3  0.24  0.75        0.0   13  \n",
       "4  0.24  0.75        0.0    1  \n",
       "\n",
       "[5 rows x 57 columns]"
      ]
     },
     "execution_count": 388,
     "metadata": {},
     "output_type": "execute_result"
    }
   ],
   "source": [
    "trainSet.head()"
   ]
  },
  {
   "cell_type": "markdown",
   "metadata": {},
   "source": [
    "输出所有的特征名称，可见类别变量均被哑变量替换了，无关变量也被删除了。"
   ]
  },
  {
   "cell_type": "code",
   "execution_count": 389,
   "metadata": {
    "ExecuteTime": {
     "end_time": "2017-12-05T16:42:24.227130Z",
     "start_time": "2017-12-05T16:42:24.109044Z"
    }
   },
   "outputs": [
    {
     "data": {
      "text/plain": [
       "Index(['weathersit_1', 'weathersit_2', 'weathersit_3', 'weathersit_4', 'hr_0',\n",
       "       'hr_1', 'hr_2', 'hr_3', 'hr_4', 'hr_5', 'hr_6', 'hr_7', 'hr_8', 'hr_9',\n",
       "       'hr_10', 'hr_11', 'hr_12', 'hr_13', 'hr_14', 'hr_15', 'hr_16', 'hr_17',\n",
       "       'hr_18', 'hr_19', 'hr_20', 'hr_21', 'hr_22', 'hr_23', 'weekday_0',\n",
       "       'weekday_1', 'weekday_2', 'weekday_3', 'weekday_4', 'weekday_5',\n",
       "       'weekday_6', 'mnth_1', 'mnth_2', 'mnth_3', 'mnth_4', 'mnth_5', 'mnth_6',\n",
       "       'mnth_7', 'mnth_8', 'mnth_9', 'mnth_10', 'mnth_11', 'mnth_12',\n",
       "       'season_1', 'season_2', 'season_3', 'season_4', 'yr', 'holiday', 'temp',\n",
       "       'hum', 'windspeed', 'cnt'],\n",
       "      dtype='object')"
      ]
     },
     "execution_count": 389,
     "metadata": {},
     "output_type": "execute_result"
    }
   ],
   "source": [
    "trainSet.columns"
   ]
  },
  {
   "cell_type": "markdown",
   "metadata": {},
   "source": [
    "### 特征归一化/标准化\n",
    "\n",
    "这里对训练集的特征cnt需要进行标准化，并保存标准化时该特征数据的均值和方差，以供后续预测时还原数据使用。"
   ]
  },
  {
   "cell_type": "code",
   "execution_count": 390,
   "metadata": {
    "ExecuteTime": {
     "end_time": "2017-12-05T16:42:24.314190Z",
     "start_time": "2017-12-05T16:42:24.232132Z"
    }
   },
   "outputs": [],
   "source": [
    "mean_of_cnt, std_of_cnt = trainSet['cnt'].mean(), trainSet['cnt'].std()\n",
    "trainSet['cnt'] = (trainSet['cnt'] - mean_of_cnt)/std_of_cnt"
   ]
  },
  {
   "cell_type": "code",
   "execution_count": 391,
   "metadata": {
    "ExecuteTime": {
     "end_time": "2017-12-05T16:42:24.403254Z",
     "start_time": "2017-12-05T16:42:24.317191Z"
    }
   },
   "outputs": [
    {
     "data": {
      "text/plain": [
       "count    8.619000e+03\n",
       "mean     2.658017e-17\n",
       "std      1.000000e+00\n",
       "min     -1.067540e+00\n",
       "25%     -8.434575e-01\n",
       "50%     -2.608435e-01\n",
       "75%      5.010363e-01\n",
       "max      3.787577e+00\n",
       "Name: cnt, dtype: float64"
      ]
     },
     "execution_count": 391,
     "metadata": {},
     "output_type": "execute_result"
    }
   ],
   "source": [
    "trainSet['cnt'].describe()"
   ]
  },
  {
   "cell_type": "markdown",
   "metadata": {},
   "source": [
    "### 保存预处理后的数据集"
   ]
  },
  {
   "cell_type": "code",
   "execution_count": 392,
   "metadata": {
    "ExecuteTime": {
     "end_time": "2017-12-05T16:42:25.460004Z",
     "start_time": "2017-12-05T16:42:24.407256Z"
    }
   },
   "outputs": [],
   "source": [
    "dirPath = \"proprocessed data\"\n",
    "if not os.path.exists(dirPath):\n",
    "    os.mkdir(dirPath)\n",
    "    \n",
    "trainSet.to_csv(dirPath + '\\\\train.csv')\n",
    "testSet.to_csv(dirPath + '\\\\test.csv')"
   ]
  },
  {
   "cell_type": "markdown",
   "metadata": {},
   "source": [
    "## 从训练集中划分验证集\n",
    "\n",
    "典型的从训练集中划分验证集的方法是：划分训练集中的30%为验证集，划分过程采用随机选取的方式。但是这里**由于数据是有时间序列特性的，因此便采取划分训练集的后30%为验证集**。"
   ]
  },
  {
   "cell_type": "code",
   "execution_count": 393,
   "metadata": {
    "ExecuteTime": {
     "end_time": "2017-12-05T16:42:25.476034Z",
     "start_time": "2017-12-05T16:42:25.463005Z"
    },
    "collapsed": true
   },
   "outputs": [],
   "source": [
    "trainSet_backup = trainSet.copy()"
   ]
  },
  {
   "cell_type": "code",
   "execution_count": 433,
   "metadata": {
    "ExecuteTime": {
     "end_time": "2017-12-05T17:13:26.312791Z",
     "start_time": "2017-12-05T17:13:26.286771Z"
    }
   },
   "outputs": [
    {
     "name": "stdout",
     "output_type": "stream",
     "text": [
      "划分后的训练集和验证集的维度： (7068, 56) (1551, 56)\n"
     ]
    }
   ],
   "source": [
    "splitRate = 0.18 #划分比例\n",
    "splitNum = int(trainSet_backup.shape[0]*splitRate) #划分的数目\n",
    "#划分 数据集 和 标签\n",
    "temp = trainSet_backup.drop(['cnt'], axis=1), trainSet_backup['cnt']\n",
    "#得到 训练集 和 标签\n",
    "trainSet, trainSet_label = temp[0][:-splitNum].values, temp[1][:-splitNum].values \n",
    "#得到 验证集 和 标签\n",
    "validateSet, validateSet_label = temp[0][-splitNum:].values, temp[1][-splitNum:].values\n",
    "\n",
    "print('划分后的训练集和验证集的维度：', trainSet.shape,  validateSet.shape)"
   ]
  },
  {
   "cell_type": "markdown",
   "metadata": {},
   "source": [
    "# 神经网络算法\n",
    "\n",
    "## 算法原理"
   ]
  },
  {
   "cell_type": "markdown",
   "metadata": {},
   "source": [
    "## 神经网络类实现"
   ]
  },
  {
   "cell_type": "code",
   "execution_count": 738,
   "metadata": {
    "ExecuteTime": {
     "end_time": "2017-12-06T00:28:31.350120Z",
     "start_time": "2017-12-06T00:28:31.190503Z"
    },
    "collapsed": true
   },
   "outputs": [],
   "source": [
    "class NeuralNetwork(object):\n",
    "    '''神经网络类实现'''\n",
    "    def __init__(self, n_input, n_hidden, n_output, learning_rate, SGD_batch_size=-1):\n",
    "        '''初始化函数'''\n",
    "        #设置 输入层、隐藏层、输出层结点个数\n",
    "        self.n_input = n_input\n",
    "        self.n_hidden = n_hidden\n",
    "        self.n_output = n_output\n",
    "        #设置 学习率\n",
    "        self.lr = learning_rate\n",
    "        #设置 激活函数\n",
    "        self.activation_function = lambda x : 1/(1+np.exp(-x))\n",
    "        #设置随机梯度下降每次抽取的样本个数，-1代表使用 批梯度下降\n",
    "        self.SGD_batch_size = SGD_batch_size\n",
    "        \n",
    "        #初始化 输入层到隐藏层、隐藏层到输出层的权重矩阵为正态分布\n",
    "#         self.weights_input_to_hidden = np.random.randn(self.n_input, self.n_hidden)\n",
    "#         self.weights_hidden_to_output = np.random.randn(self.n_hidden, self.n_output)\n",
    "        self.weights_input_to_hidden = np.random.normal(0, self.n_input**(-0.5),\n",
    "                                                        (self.n_input, self.n_hidden))\n",
    "        self.weights_hidden_to_output = np.random.normal(0, self.n_hidden**(-0.5),\n",
    "                                                         (self.n_hidden, self.n_output))\n",
    "    \n",
    "    def fit(self, features, labels):\n",
    "        '''根据训练集训练算法'''\n",
    "        #得到样本总数\n",
    "        totSampleNum = features.shape[0]\n",
    "        #初始化 权重步长矩阵\n",
    "        delta_weights_i_h = np.zeros(self.weights_input_to_hidden.shape)\n",
    "        delta_weights_h_o = np.zeros(self.weights_hidden_to_output.shape)\n",
    "        #选取用于训练的样本\n",
    "        sampleDatas, sampleLabels = features.copy(), labels.copy()\n",
    "        if self.SGD_batch_size != -1:\n",
    "            #从训练集中随机均匀无重复地抽取一定样本，并按从小到大排序\n",
    "            sampleIdxes = np.random.choice(totSampleNum, SGD_batch_size, replace=False)\n",
    "            sampleIdxes.sort()\n",
    "            #得到采样后的一部分数据\n",
    "            sampleDatas, sampleLabels = features[sampleIdxes], labels[sampleIdxes]\n",
    "            \n",
    "        for X, y in zip(sampleDatas, sampleLabels):\n",
    "            ### 前向传播过程 ###\n",
    "            #计算 隐藏层 输入和输出\n",
    "            hidden_inputs = np.dot(X, self.weights_input_to_hidden)\n",
    "            hidden_outputs = self.activation_function(hidden_inputs)\n",
    "        \n",
    "            #计算 输出层 输入和输出\n",
    "            final_inputs = np.dot(hidden_outputs, self.weights_hidden_to_output)\n",
    "            final_outputs = final_inputs #final_outputs=f(final_inputs)=final_inputs\n",
    "        \n",
    "            ### 后向传播过程 ###\n",
    "            #计算 输出层输出 和 目标标签值 的误差\n",
    "            error = y - final_outputs\n",
    "            #计算 输出层 误差项\n",
    "            output_error_term = error # = error*1\n",
    "            #更新 隐藏层到输出层 的 权重步长矩阵\n",
    "            delta_weights_h_o += hidden_outputs.reshape(-1,1)*output_error_term\n",
    "            \n",
    "            #计算 传播到 隐藏层 的误差\n",
    "            hidden_error = np.dot(self.weights_hidden_to_output, error)\n",
    "            #计算 隐藏层 误差项\n",
    "            hidden_error_term = hidden_error*hidden_outputs*(1-hidden_outputs)\n",
    "            # 更新 输入层到隐藏层的权重步长矩阵\n",
    "            delta_weights_i_h += X.reshape(-1,1)*hidden_error_term\n",
    "            \n",
    "\n",
    "        #更新 权重矩阵\n",
    "        self.weights_hidden_to_output += self.lr*delta_weights_h_o/totSampleNum\n",
    "        self.weights_input_to_hidden += self.lr*delta_weights_i_h/totSampleNum\n",
    " \n",
    "    def apply(self, features):\n",
    "        '''应用训练好的参数到输入数据集上'''\n",
    "        hidden_inputs = np.dot(features, self.weights_input_to_hidden)\n",
    "        hidden_outputs = self.activation_function(hidden_inputs)\n",
    "        \n",
    "        final_inputs = np.dot(hidden_outputs,self.weights_hidden_to_output)\n",
    "        final_outputs = final_inputs \n",
    "        \n",
    "        return final_outputs"
   ]
  },
  {
   "cell_type": "markdown",
   "metadata": {},
   "source": [
    "## 算法小数据测试"
   ]
  },
  {
   "cell_type": "markdown",
   "metadata": {},
   "source": [
    "### 设定测试数据"
   ]
  },
  {
   "cell_type": "code",
   "execution_count": 739,
   "metadata": {
    "ExecuteTime": {
     "end_time": "2017-12-06T00:28:31.519784Z",
     "start_time": "2017-12-06T00:28:31.355629Z"
    }
   },
   "outputs": [],
   "source": [
    "features_train = np.array([[0.5, -0.2, 0.1]]) #训练集特征\n",
    "labels_train = np.array([[0.4]])              #训练集标签\n",
    "features_test = features_train.copy()         #测试集特征\n",
    "labels_test = np.array([[0.16666906]])        #测试集标签\n",
    "#输入层 到 隐藏层 的初始权重矩阵\n",
    "weights_input_to_hidden_init = np.array([[0.1, -0.2], \n",
    "                                         [0.4, 0.5],\n",
    "                                         [-0.3, 0.2]])\n",
    "#输入层 到 隐藏层 的最终权重矩阵\n",
    "weights_input_to_hidden_ans = np.array([[0.10562014, -0.20185996], \n",
    "                                        [0.39775194, 0.50074398], \n",
    "                                        [-0.29887597, 0.19962801]])\n",
    "#隐藏层 到 输出层 的初始权重矩阵\n",
    "weights_hidden_to_output_init = np.array([[0.3], [-0.1]])\n",
    "#隐藏层 到 输出层 的最终权重矩阵\n",
    "weights_hidden_to_output_ans = np.array([[0.37275328], [-0.03172939]])\n",
    "\n",
    "#设置 输入层、隐藏层 、输出层结点个数依次为 3、2、1，学习率为 0.5\n",
    "NNet_test = NeuralNetwork(3, 2, 1, 0.5)"
   ]
  },
  {
   "cell_type": "markdown",
   "metadata": {},
   "source": [
    "### 测试数据准确性证明\n",
    "\n",
    "这里先来对测试准确性进行证明，以确保后续算法测试的正确性。\n",
    "\n",
    "这里创建了一个输入层、隐藏层 、输出层结点个数依次为3、2、1，学习率为0.5的神经网络类，给定的训练集的测试集只有一行数据，标签只有一列。\n",
    "\n",
    "同时，由于由于算法在初始化时会先使用正态分布生成 输入层 到 隐藏层 和 输入层 到 隐藏层 的初始权重矩阵，为避免随机性条件的干扰，这里事先手动制定两个初始权重矩阵以覆盖随机生成的矩阵。\n",
    "\n",
    "@TODO"
   ]
  },
  {
   "cell_type": "markdown",
   "metadata": {},
   "source": [
    "### 使用测试数据训练算法"
   ]
  },
  {
   "cell_type": "code",
   "execution_count": 740,
   "metadata": {
    "ExecuteTime": {
     "end_time": "2017-12-06T00:28:31.608106Z",
     "start_time": "2017-12-06T00:28:31.524787Z"
    }
   },
   "outputs": [],
   "source": [
    "#覆盖两个 权重矩阵 的初始值\n",
    "NNet_test.weights_input_to_hidden = weights_input_to_hidden_init.copy()\n",
    "NNet_test.weights_hidden_to_output = weights_hidden_to_output_init.copy()\n",
    "#训练算法，迭代一次\n",
    "NNet_test.fit(features_train, labels_train)"
   ]
  },
  {
   "cell_type": "markdown",
   "metadata": {},
   "source": [
    "### 测试输入层 到 隐藏层 的最终权重矩阵"
   ]
  },
  {
   "cell_type": "code",
   "execution_count": 741,
   "metadata": {
    "ExecuteTime": {
     "end_time": "2017-12-06T00:28:31.708688Z",
     "start_time": "2017-12-06T00:28:31.613110Z"
    }
   },
   "outputs": [],
   "source": [
    "assert(np.allclose(NNet_test.weights_input_to_hidden, weights_input_to_hidden_ans))"
   ]
  },
  {
   "cell_type": "markdown",
   "metadata": {},
   "source": [
    "### 测试隐藏层 到 输出层 的最终权重矩阵"
   ]
  },
  {
   "cell_type": "code",
   "execution_count": 742,
   "metadata": {
    "ExecuteTime": {
     "end_time": "2017-12-06T00:28:32.085856Z",
     "start_time": "2017-12-06T00:28:31.711686Z"
    },
    "collapsed": true
   },
   "outputs": [],
   "source": [
    "assert(np.allclose(NNet_test.weights_hidden_to_output, weights_hidden_to_output_ans))"
   ]
  },
  {
   "cell_type": "markdown",
   "metadata": {},
   "source": [
    "### 测试算法对测试集的结果"
   ]
  },
  {
   "cell_type": "code",
   "execution_count": 743,
   "metadata": {
    "ExecuteTime": {
     "end_time": "2017-12-06T00:28:32.210950Z",
     "start_time": "2017-12-06T00:28:32.088855Z"
    }
   },
   "outputs": [],
   "source": [
    "predict_test = NNet_test.apply(features_test)\n",
    "assert(np.allclose(predict_test, labels_test))"
   ]
  },
  {
   "cell_type": "markdown",
   "metadata": {},
   "source": [
    "运行上面3行测试代码均无错误，可见算法实现正确。"
   ]
  },
  {
   "cell_type": "markdown",
   "metadata": {},
   "source": [
    "## 损失函数实现\n",
    "这里实现损失函数来衡量算法的准确率。"
   ]
  },
  {
   "cell_type": "code",
   "execution_count": 744,
   "metadata": {
    "ExecuteTime": {
     "end_time": "2017-12-06T00:28:32.354058Z",
     "start_time": "2017-12-06T00:28:32.219957Z"
    },
    "collapsed": true
   },
   "outputs": [],
   "source": [
    "def calcLoss(predict, label):\n",
    "    '''计算预测值相对于标签值的损失值，默认使用均方误差'''\n",
    "    def MeanSquareError(a, b):\n",
    "        '''计算均方误差'''\n",
    "        return 1/2*np.mean((a - b)**2)\n",
    "    \n",
    "    return MeanSquareError(predict, label)"
   ]
  },
  {
   "cell_type": "markdown",
   "metadata": {},
   "source": [
    "## 使用验证集调参\n",
    "\n",
    "参考[神经网络学习之参数的设置原则][神经网络学习之参数的设置原则]进行调参。需要调参的参数有：学习率、隐藏层个数、随机梯度下降使用的样本的个数。\n",
    "\n",
    "[神经网络学习之参数的设置原则]:https://www.cnblogs.com/sunfie/p/5519604.html\n",
    "\n",
    "### 多次迭代运行算法"
   ]
  },
  {
   "cell_type": "code",
   "execution_count": 745,
   "metadata": {
    "ExecuteTime": {
     "end_time": "2017-12-06T00:29:22.163118Z",
     "start_time": "2017-12-06T00:28:32.360066Z"
    }
   },
   "outputs": [
    {
     "name": "stdout",
     "output_type": "stream",
     "text": [
      "\n"
     ]
    }
   ],
   "source": [
    "### 需调参的参数 ###\n",
    "learning_rate = 0.8\n",
    "n_hidden = 18\n",
    "SGD_batch_size = 256\n",
    "### 不需调参的参数 ###\n",
    "n_output = 1\n",
    "n_input = trainSet.shape[1]\n",
    "\n",
    "network = NeuralNetwork(n_input, n_hidden, n_output, learning_rate, SGD_batch_size)\n",
    "\n",
    "runTime = 2500\n",
    "testRange = range(1, runTime+1)\n",
    "trainLosses, validationLosses = [], []\n",
    "for i in tnrange(runTime):\n",
    "    #使用数据训练算法\n",
    "    network.fit(trainSet, trainSet_label)\n",
    "    #得到算法对 训练集 和 验证集 的预测标签\n",
    "    trainPredictLabel = network.apply(trainSet).T\n",
    "    validPredictLabel = network.apply(validateSet).T\n",
    "    #计算 损失值 并 保存 损失值结果\n",
    "    trainLosses.append(calcLoss(trainPredictLabel, trainSet_label))\n",
    "    validationLosses.append(calcLoss(validPredictLabel, validateSet_label))"
   ]
  },
  {
   "cell_type": "markdown",
   "metadata": {},
   "source": [
    "### 绘制损失值随迭代此时变化的曲线"
   ]
  },
  {
   "cell_type": "code",
   "execution_count": 746,
   "metadata": {
    "ExecuteTime": {
     "end_time": "2017-12-06T00:29:22.173126Z",
     "start_time": "2017-12-06T00:29:22.167121Z"
    },
    "collapsed": true
   },
   "outputs": [],
   "source": [
    "InteractiveShell.ast_node_interactivity = \"none\""
   ]
  },
  {
   "cell_type": "code",
   "execution_count": 747,
   "metadata": {
    "ExecuteTime": {
     "end_time": "2017-12-06T00:29:22.579467Z",
     "start_time": "2017-12-06T00:29:22.176126Z"
    }
   },
   "outputs": [
    {
     "data": {
      "image/png": "[encoded data removed]",
      "text/plain": [
       "<matplotlib.figure.Figure at 0x22c97b62320>"
      ]
     },
     "metadata": {},
     "output_type": "display_data"
    }
   ],
   "source": [
    "fig, ax = plt.subplots() \n",
    "fig.set_size_inches(7.5, 4)\n",
    "plt.plot(testRange, trainLosses, 'r', label=\"Training loss\")\n",
    "plt.plot(testRange, validationLosses, 'g', label=\"Validation loss\")\n",
    "plt.xlabel('run time')\n",
    "plt.ylabel('loss')\n",
    "plt.title(\"loss versus rum time in Neural Network\")\n",
    "plt.legend(bbox_to_anchor=(0, -0.1), loc=2, borderaxespad=0., fontsize='small')\n",
    "plt.show()\n",
    "plt.close()"
   ]
  },
  {
   "cell_type": "markdown",
   "metadata": {},
   "source": [
    "## 绘制算法对验证集后21天的预测值与实际值的对比图\n",
    "\n",
    "由于之前划分验证集时是直接取原有数据集的后18%作为验证集的，这里取验证集的后21天作为测试也相当于取原有数据集的后21天作为测试，保存了数据在时间上的连续性。"
   ]
  },
  {
   "cell_type": "code",
   "execution_count": 748,
   "metadata": {
    "ExecuteTime": {
     "end_time": "2017-12-06T00:29:22.597480Z",
     "start_time": "2017-12-06T00:29:22.584470Z"
    }
   },
   "outputs": [],
   "source": [
    "num = 21*24 # 数据个数\n",
    "last21Days_range = np.arange(num) #样本范围\n",
    "last21Days_features, last21Days_labels = validateSet[-num:], validateSet_label[-num:]\n",
    "#使用算法进行预测\n",
    "last21Days_predicts = network.apply(last21Days_features)\n",
    "#还原归一化后的数据\n",
    "last21Days_predicts = last21Days_predicts.flatten()*std_of_cnt + mean_of_cnt\n",
    "last21Days_labels = last21Days_labels.flatten()*std_of_cnt + mean_of_cnt"
   ]
  },
  {
   "cell_type": "code",
   "execution_count": 749,
   "metadata": {
    "ExecuteTime": {
     "end_time": "2017-12-06T00:29:22.687550Z",
     "start_time": "2017-12-06T00:29:22.601483Z"
    }
   },
   "outputs": [],
   "source": [
    "last21Days_predicts.shape, last21Days_labels.shape, last21Days_range.shape"
   ]
  },
  {
   "cell_type": "code",
   "execution_count": 750,
   "metadata": {
    "ExecuteTime": {
     "end_time": "2017-12-06T00:29:22.776626Z",
     "start_time": "2017-12-06T00:29:22.690551Z"
    }
   },
   "outputs": [],
   "source": [
    "InteractiveShell.ast_node_interactivity = \"none\""
   ]
  },
  {
   "cell_type": "code",
   "execution_count": 751,
   "metadata": {
    "ExecuteTime": {
     "end_time": "2017-12-06T00:29:23.188479Z",
     "start_time": "2017-12-06T00:29:22.783631Z"
    }
   },
   "outputs": [
    {
     "data": {
      "image/png": "[encoded data removed]",
      "text/plain": [
       "<matplotlib.figure.Figure at 0x22c97bdb828>"
      ]
     },
     "metadata": {},
     "output_type": "display_data"
    }
   ],
   "source": [
    "fig, ax = plt.subplots() \n",
    "fig.set_size_inches(7.5, 4)\n",
    "plt.plot(last21Days_range, last21Days_predicts, 'r', label=\"prediction\")\n",
    "plt.plot(last21Days_range, last21Days_labels, 'g', label=\"data\")\n",
    "ax.set_xlim(right=num)\n",
    "plt.xlabel('time')\n",
    "plt.ylabel('count of total rental bikes')\n",
    "plt.title(\"count of total rental bikes versus time\")\n",
    "plt.legend(bbox_to_anchor=(0, -0.1), loc=2, borderaxespad=0., fontsize='small')\n",
    "plt.show()\n",
    "plt.close()"
   ]
  },
  {
   "attachments": {},
   "cell_type": "markdown",
   "metadata": {},
   "source": [
    "# 思考题\n",
    "\n",
    "- 尝试说明下其他激活函数的优缺点。\n",
    "    - 首先，需要明确，激活函数的主要作用是**加入非线性因素，解决线性模型的表达、分类能力不足的问题**。\n",
    "    - **tanh激活函数**，表达式为`f(x)=2sigmoid(2x)-1`。\n",
    "        - 优点：\n",
    "            - 1.比Sigmoid函数收敛速度更快。\n",
    "            - 2.相比Sigmoid函数，其输出以0为中心。\n",
    "        - 缺点：\n",
    "            - 1.和sigmoid函数一样都会出现梯度消失的问题。\n",
    "    - **ReLU激活函数**，表达式为`f(x)=max(0,x)`\n",
    "        - 优点：\n",
    "            - 1.使用随机梯度下降训练算法时能更快收敛。\n",
    "            - 2.有效缓解了梯度消失的问题。\n",
    "            - 3.提供了神经网络的稀疏表达能力。\n",
    "            - 4.相比于 sigmoid/tanh，ReLU只需要一个阈值就可以得到激活值，而不用进行许多复杂运算。\n",
    "        - 缺点：\n",
    "            - 1.随着训练的进行，可能会出现神经元死亡，权重无法更新的情况。如果发生这种情况，那么流经神经元的梯度从这一点开始将永远是0。也就是说，ReLU神经元在训练中不可逆地死亡了。\n",
    "    - **Maxout激活函数**\n",
    "        - 优点：\n",
    "            - 1.拟合能力是非常强的，它可以拟合任意的的凸函数。\n",
    "            - 2.计算简单，不会出现梯度消失的问题。\n",
    "            - 3.不会出现在ReLU中会导致的神经元死亡的现象。\n",
    "        - 缺点：\n",
    "            - 1.引入了更多的参数，进一步加重调参的重担。\n",
    "    - 除此之外还有许多激活函数，这里只讨论几个比较典型的以作为示例，分析思路基本都是一致的。\n",
    "\n",
    "\n",
    "\n",
    "- 有什么方法可以实现传递过程中不激活所有节点？\n",
    "    - 引入dropout方法，**在深度学习网络的训练过程中，对于神经网络单元，按照一定的概率将其暂时从网络中丢弃**。对于随机梯度下降来说，由于是随机丢弃，故而每一个mini-batch都在训练不同的网络。在这个过程中便实现了再传递过程中不激活所有节点。\n",
    "\n",
    "\n",
    "- 梯度消失和梯度爆炸是什么？可以怎么解决？\n",
    "    - 梯度爆炸和梯度消失问题都是因为**网络太深，网络权值更新不稳定**造成的，本质上是由**梯度反向传播中的连乘效应**导致的。\n",
    "    - 梯度消失：误差从输出层反向传播时，在每一层都要乘以激活函数f(x)的导数。而若使用sigmoid函数作为激活函数，其导数的值域为[0, 0.25]，导数取值都小于1, **这样误差经过每一层传递都会不断地衰减。当网络导数比较多时，梯度会不断地衰减，甚至消失**，这使得整个网络很难训练。这就是梯度消失问题。\n",
    "        - 解决方案：可以考虑用ReLU激活函数取代sigmoid激活函数。\n",
    "    - 梯度爆炸：产生原因与梯度消失相反，**若激活函数f(x)的导数取值有很大的可能性会超过1，如此不断连乘下去，梯度将会指数级增长**。这就是梯度爆炸问题。\n",
    "        - 解决方案：进行**梯度裁剪**，操作方法如下：\n",
    "            - 选取一个梯度剪裁的阈值`clip_norm`（一般选择1）\n",
    "            - 在计算完每个权重的梯度之后，我们并不像通常那样直接使用这些梯度进行权重更新，而是先求所有权重梯度的平方和`global_norm`\n",
    "            - 最后把每个梯度乘以缩放因子` clip_norm/max(global_norm, clip_norm)`\n",
    "            - 这样就**保证了在一次迭代更新中，所有权重的梯度的平方和在一个设定范围以内**。\n"
   ]
  },
  {
   "cell_type": "markdown",
   "metadata": {},
   "source": [
    "# 参考资料\n",
    "\n",
    "- 1.[用python参加Kaggle的些许经验总结][用python参加Kaggle的些许经验总结]\n",
    "- 2.[Pandas 处理 dummy variable][Pandas 处理 dummy variable]\n",
    "- 3.[数据标准化/归一化normalization][数据标准化/归一化normalization]\n",
    "- 4.[Numpy中的广播(Broadcasting)][Numpy中的广播(Broadcasting)]\n",
    "- 5.[NumPy v1.11 ManualNumPy参考例程随机抽样][NumPy v1.11 ManualNumPy参考例程随机抽样]\n",
    "- 6.[深度神经网络中的梯度丢失和梯度爆炸][深度神经网络中的梯度丢失和梯度爆炸]\n",
    "- 7.[深度神经网络的梯度不稳定问题--梯度消失与梯度爆炸][深度神经网络的梯度不稳定问题--梯度消失与梯度爆炸]\n",
    "- 8.[python package - tqdm 4.14.0][tqdm 4.14.0]\n",
    "- 9.[Homepage Machine Learning Algorithm 浅谈深度学习中的激活函数 - The Activation Function in Deep Learning][xxx]\n",
    "- 10.[【机器学习】神经网络-激活函数-面面观(Activation Function)][【机器学习】神经网络-激活函数-面面观(Activation Function)]\n",
    "- 11.[理解dropout][理解dropout]\n",
    "\n",
    "[理解dropout]:http://blog.csdn.net/stdcoutzyx/article/details/49022443\n",
    "[【机器学习】神经网络-激活函数-面面观(Activation Function)]:http://blog.csdn.net/cyh_24/article/details/50593400\n",
    "[xxx]:http://www.cnblogs.com/rgvb178/p/6055213.html\n",
    "[tqdm 4.14.0]:https://pypi.python.org/pypi/tqdm/4.14.0\n",
    "[深度神经网络的梯度不稳定问题--梯度消失与梯度爆炸]:https://ziyubiti.github.io/2016/11/06/gradvanish/\n",
    "[深度神经网络中的梯度丢失和梯度爆炸]:https://limengweb.wordpress.com/2017/03/12/%E6%B7%B1%E5%BA%A6%E7%A5%9E%E7%BB%8F%E7%BD%91%E7%BB%9C%E4%B8%AD%E7%9A%84%E6%A2%AF%E5%BA%A6%E4%B8%A2%E5%A4%B1%E5%92%8C%E6%A2%AF%E5%BA%A6%E7%88%86%E7%82%B8/\n",
    "[NumPy v1.11 ManualNumPy参考例程随机抽样]:http://usyiyi.cn/translate/NumPy_v111/reference/generated/numpy.random.choice.html\n",
    "[用python参加Kaggle的些许经验总结]:http://www.jianshu.com/p/32def2294ae6\n",
    "[Pandas 处理 dummy variable]:http://blog.csdn.net/weiwei9363/article/details/78255210\n",
    "[数据标准化/归一化normalization]:http://blog.csdn.net/pipisorry/article/details/52247379\n",
    "[Numpy中的广播(Broadcasting)]:http://blog.csdn.net/yangnanhai93/article/details/50127747"
   ]
  },
  {
   "cell_type": "markdown",
   "metadata": {},
   "source": [
    "# 函数测试\n",
    "在编写代码时，有许多地方需要用到矩阵运算来加快算法的运行速度，因此也必须要用到python的numpy库的一些函数。而在使用的过程中，遇到了一些与自己理解相异的用法，这里将其记录下来以便后续重温代码时能更好地理解代码。\n",
    "\n",
    "## 列向量与行向量\n",
    "\n",
    "在numpy中，不管是行向量还是列向量，均是用“行”向量进行表示的。若强行需要区分向量的维度，则可使用reshape函数进行调整。"
   ]
  },
  {
   "cell_type": "code",
   "execution_count": 752,
   "metadata": {
    "ExecuteTime": {
     "end_time": "2017-12-06T00:29:23.195482Z",
     "start_time": "2017-12-06T00:29:23.191479Z"
    }
   },
   "outputs": [],
   "source": [
    "2*np.ones(3) #新建 一维向量 时，默认创建 行向量"
   ]
  },
  {
   "cell_type": "markdown",
   "metadata": {},
   "source": [
    "## np.dot()与行向量\n",
    "np.dot()函数可实现两个行向量的点乘运算，也可实现numpy多维向量的矩阵运算。\n",
    "\n",
    "    以下面的例子为例，a为 2 x 3 的矩阵，b为 1 x 3 的行向量，可用np.dot(a,b)进行两者的矩阵运算。"
   ]
  },
  {
   "cell_type": "code",
   "execution_count": 753,
   "metadata": {
    "ExecuteTime": {
     "end_time": "2017-12-06T00:29:23.302568Z",
     "start_time": "2017-12-06T00:29:23.204490Z"
    }
   },
   "outputs": [],
   "source": [
    "a = np.ones((2,3))\n",
    "b = 2*np.ones(3)\n",
    "a\n",
    "b"
   ]
  },
  {
   "cell_type": "markdown",
   "metadata": {},
   "source": [
    "从下面的输出可以看到，矩阵运算成功，同时输出结果由于只有“一行或一列”数据，numpy自动将其表示为了行向量。"
   ]
  },
  {
   "cell_type": "code",
   "execution_count": 754,
   "metadata": {
    "ExecuteTime": {
     "end_time": "2017-12-06T00:29:23.402699Z",
     "start_time": "2017-12-06T00:29:23.311575Z"
    }
   },
   "outputs": [],
   "source": [
    "np.dot(a,b)"
   ]
  },
  {
   "cell_type": "markdown",
   "metadata": {},
   "source": [
    "从下面的输出也可以看到将 2 X 3 的矩阵与 1 X 2 的行向量进行点乘运算的报如下错误：\n",
    "\n",
    "```ValueError: shapes (2,3) and (2,) not aligned: 3 (dim 1) != 2 (dim 0)```"
   ]
  },
  {
   "cell_type": "code",
   "execution_count": 755,
   "metadata": {
    "ExecuteTime": {
     "end_time": "2017-12-06T00:29:23.520776Z",
     "start_time": "2017-12-06T00:29:23.406683Z"
    }
   },
   "outputs": [
    {
     "ename": "ValueError",
     "evalue": "shapes (2,3) and (2,) not aligned: 3 (dim 1) != 2 (dim 0)",
     "output_type": "error",
     "traceback": [
      "\u001b[0;31m---------------------------------------------------------------------------\u001b[0m",
      "\u001b[0;31mValueError\u001b[0m                                Traceback (most recent call last)",
      "\u001b[0;32m<ipython-input-755-9cbf3298b283>\u001b[0m in \u001b[0;36m<module>\u001b[0;34m()\u001b[0m\n\u001b[1;32m      1\u001b[0m \u001b[0mc\u001b[0m \u001b[1;33m=\u001b[0m \u001b[1;36m2\u001b[0m\u001b[1;33m*\u001b[0m\u001b[0mnp\u001b[0m\u001b[1;33m.\u001b[0m\u001b[0mones\u001b[0m\u001b[1;33m(\u001b[0m\u001b[1;36m2\u001b[0m\u001b[1;33m)\u001b[0m\u001b[1;33m\u001b[0m\u001b[0m\n\u001b[0;32m----> 2\u001b[0;31m \u001b[0mnp\u001b[0m\u001b[1;33m.\u001b[0m\u001b[0mdot\u001b[0m\u001b[1;33m(\u001b[0m\u001b[0ma\u001b[0m\u001b[1;33m,\u001b[0m \u001b[0mc\u001b[0m\u001b[1;33m)\u001b[0m\u001b[1;33m\u001b[0m\u001b[0m\n\u001b[0m",
      "\u001b[0;31mValueError\u001b[0m: shapes (2,3) and (2,) not aligned: 3 (dim 1) != 2 (dim 0)"
     ]
    }
   ],
   "source": [
    "c = 2*np.ones(2)\n",
    "np.dot(a, c)"
   ]
  },
  {
   "cell_type": "markdown",
   "metadata": {},
   "source": [
    "## [:,None]切片\n",
    "\n",
    "参考资料：[In numpy, what does selection by [:,None] do?][1]\n",
    "\n",
    "[1]:https://stackoverflow.com/questions/37867354/in-numpy-what-does-selection-by-none-do"
   ]
  },
  {
   "cell_type": "code",
   "execution_count": null,
   "metadata": {
    "ExecuteTime": {
     "end_time": "2017-12-06T00:29:23.520776Z",
     "start_time": "2017-12-05T16:28:31.332Z"
    }
   },
   "outputs": [],
   "source": [
    "a = np.ones((2,3))\n",
    "a\n",
    "a[:,None]\n",
    "a[:,None] == a[:, np.newaxis] # None和np.newaxis是等价的"
   ]
  },
  {
   "cell_type": "code",
   "execution_count": null,
   "metadata": {
    "ExecuteTime": {
     "end_time": "2017-12-06T00:29:23.521776Z",
     "start_time": "2017-12-05T16:28:31.338Z"
    }
   },
   "outputs": [],
   "source": [
    "b = np.ones(3)\n",
    "b\n",
    "b[:,np.newaxis]"
   ]
  }
 ],
 "metadata": {
  "anaconda-cloud": {},
  "kernelspec": {
   "display_name": "Python [conda root]",
   "language": "python",
   "name": "conda-root-py"
  },
  "language_info": {
   "codemirror_mode": {
    "name": "ipython",
    "version": 3
   },
   "file_extension": ".py",
   "mimetype": "text/x-python",
   "name": "python",
   "nbconvert_exporter": "python",
   "pygments_lexer": "ipython3",
   "version": "3.5.2"
  },
  "toc": {
   "nav_menu": {},
   "number_sections": true,
   "sideBar": true,
   "skip_h1_title": false,
   "toc_cell": false,
   "toc_position": {
    "height": "670px",
    "left": "0px",
    "right": "930.25px",
    "top": "32px",
    "width": "362px"
   },
   "toc_section_display": "block",
   "toc_window_display": true
  },
  "widgets": {
   "state": {
    "ac926227a97d4ef5a82ba482edfc064e": {
     "views": [
      {
       "cell_index": 39
      }
     ]
    }
   },
   "version": "1.2.0"
  }
 },
 "nbformat": 4,
 "nbformat_minor": 2
}
