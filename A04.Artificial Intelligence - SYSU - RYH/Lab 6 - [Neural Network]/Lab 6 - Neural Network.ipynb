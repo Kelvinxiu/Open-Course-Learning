{
 "cells": [
  {
   "cell_type": "code",
   "execution_count": 151,
   "metadata": {
    "ExecuteTime": {
     "end_time": "2017-12-04T22:43:36.231345Z",
     "start_time": "2017-12-04T22:43:36.222339Z"
    },
    "collapsed": true
   },
   "outputs": [],
   "source": [
    "from IPython.core.interactiveshell import InteractiveShell\n",
    "InteractiveShell.ast_node_interactivity = \"all\"\n",
    "\n",
    "from collections import Counter\n",
    "import numpy as np\n",
    "import matplotlib.pyplot as plt\n",
    "from functools import reduce\n",
    "import pdir as pr\n",
    "import pandas as pd\n",
    "import os"
   ]
  },
  {
   "cell_type": "markdown",
   "metadata": {},
   "source": [
    "# 数据集预处理\n",
    "\n",
    "此次实验数据集来源于[UCI Machine Learning Database][1]，在原始数据集上的基础上，我们用hour.csv中的一部分数据作为训练集（第1-8619条数据，命名为train.csv），一部分数据作为测试集（第16876-17379条数据，命名为test.csv）。\n",
    "\n",
    "其中，数据集特征命名的解释如下：\n",
    "\n",
    "```\n",
    "=========================================\n",
    "Dataset characteristics\n",
    "=========================================\t\n",
    "\n",
    "\t- instant: record index\n",
    "\t- dteday : date\n",
    "\t- season : season (1:springer, 2:summer, 3:fall, 4:winter)\n",
    "\t- yr : year (0: 2011, 1:2012)\n",
    "\t- mnth : month ( 1 to 12)\n",
    "\t- hr : hour (0 to 23)\n",
    "\t- holiday : weather day is holiday or not \n",
    "    (extracted from http://dchr.dc.gov/page/holiday-schedule)\n",
    "\t- weekday : day of the week\n",
    "\t- workingday : if day is neither weekend nor holiday is 1, otherwise is 0.\n",
    "\t+ weathersit : \n",
    "\t\t- 1: Clear, Few clouds, Partly cloudy, Partly cloudy\n",
    "\t\t- 2: Mist + Cloudy, Mist + Broken clouds, Mist + Few clouds, Mist\n",
    "\t\t- 3: Light Snow, Light Rain + Thunderstorm + Scattered clouds, \n",
    "        Light Rain + Scattered clouds\n",
    "\t\t- 4: Heavy Rain + Ice Pallets + Thunderstorm + Mist, Snow + Fog\n",
    "\t- temp : Normalized temperature in Celsius. The values are divided to 41 (max)\n",
    "\t- atemp: Normalized feeling temperature in Celsius. The values are divided to 50 (max)\n",
    "\t- hum: Normalized humidity. The values are divided to 100 (max)\n",
    "\t- windspeed: Normalized wind speed. The values are divided to 67 (max)\n",
    "\t- casual: count of casual users\n",
    "\t- registered: count of registered users\n",
    "\t- cnt: count of total rental bikes including both casual and registered\n",
    "\t\n",
    "\n",
    "\n",
    "```\n",
    "[1]:https://archive.ics.uci.edu/ml/datasets/Bike+Sharing+Dataset"
   ]
  },
  {
   "cell_type": "markdown",
   "metadata": {},
   "source": [
    "## 读取训练集和测试集"
   ]
  },
  {
   "cell_type": "code",
   "execution_count": 152,
   "metadata": {
    "ExecuteTime": {
     "end_time": "2017-12-04T22:43:36.418853Z",
     "start_time": "2017-12-04T22:43:36.236349Z"
    }
   },
   "outputs": [
    {
     "data": {
      "text/plain": [
       "((8619, 15), (504, 15))"
      ]
     },
     "execution_count": 152,
     "metadata": {},
     "output_type": "execute_result"
    }
   ],
   "source": [
    "trainSet_origin = pd.read_csv('data\\\\train.csv')\n",
    "testSet_origin = pd.read_csv('data\\\\test.csv')\n",
    "trainSet_origin.shape, testSet_origin.shape"
   ]
  },
  {
   "cell_type": "markdown",
   "metadata": {},
   "source": [
    "## 数据集预览\n",
    "\n",
    "这里先输出训练集的前5个数据进行数据预览。可以看到，TA给的数据集去除了casual和registered这个两个特征。"
   ]
  },
  {
   "cell_type": "code",
   "execution_count": 153,
   "metadata": {
    "ExecuteTime": {
     "end_time": "2017-12-04T22:43:36.554950Z",
     "start_time": "2017-12-04T22:43:36.439869Z"
    }
   },
   "outputs": [
    {
     "data": {
      "text/html": [
       "<div>\n",
       "<table border=\"1\" class=\"dataframe\">\n",
       "  <thead>\n",
       "    <tr style=\"text-align: right;\">\n",
       "      <th></th>\n",
       "      <th>instant</th>\n",
       "      <th>dteday</th>\n",
       "      <th>season</th>\n",
       "      <th>yr</th>\n",
       "      <th>mnth</th>\n",
       "      <th>hr</th>\n",
       "      <th>holiday</th>\n",
       "      <th>weekday</th>\n",
       "      <th>workingday</th>\n",
       "      <th>weathersit</th>\n",
       "      <th>temp</th>\n",
       "      <th>atemp</th>\n",
       "      <th>hum</th>\n",
       "      <th>windspeed</th>\n",
       "      <th>cnt</th>\n",
       "    </tr>\n",
       "  </thead>\n",
       "  <tbody>\n",
       "    <tr>\n",
       "      <th>0</th>\n",
       "      <td>1</td>\n",
       "      <td>2011/1/1</td>\n",
       "      <td>1</td>\n",
       "      <td>0</td>\n",
       "      <td>1</td>\n",
       "      <td>0</td>\n",
       "      <td>0</td>\n",
       "      <td>6</td>\n",
       "      <td>0</td>\n",
       "      <td>1</td>\n",
       "      <td>0.24</td>\n",
       "      <td>0.2879</td>\n",
       "      <td>0.81</td>\n",
       "      <td>0.0</td>\n",
       "      <td>16</td>\n",
       "    </tr>\n",
       "    <tr>\n",
       "      <th>1</th>\n",
       "      <td>2</td>\n",
       "      <td>2011/1/1</td>\n",
       "      <td>1</td>\n",
       "      <td>0</td>\n",
       "      <td>1</td>\n",
       "      <td>1</td>\n",
       "      <td>0</td>\n",
       "      <td>6</td>\n",
       "      <td>0</td>\n",
       "      <td>1</td>\n",
       "      <td>0.22</td>\n",
       "      <td>0.2727</td>\n",
       "      <td>0.80</td>\n",
       "      <td>0.0</td>\n",
       "      <td>40</td>\n",
       "    </tr>\n",
       "    <tr>\n",
       "      <th>2</th>\n",
       "      <td>3</td>\n",
       "      <td>2011/1/1</td>\n",
       "      <td>1</td>\n",
       "      <td>0</td>\n",
       "      <td>1</td>\n",
       "      <td>2</td>\n",
       "      <td>0</td>\n",
       "      <td>6</td>\n",
       "      <td>0</td>\n",
       "      <td>1</td>\n",
       "      <td>0.22</td>\n",
       "      <td>0.2727</td>\n",
       "      <td>0.80</td>\n",
       "      <td>0.0</td>\n",
       "      <td>32</td>\n",
       "    </tr>\n",
       "    <tr>\n",
       "      <th>3</th>\n",
       "      <td>4</td>\n",
       "      <td>2011/1/1</td>\n",
       "      <td>1</td>\n",
       "      <td>0</td>\n",
       "      <td>1</td>\n",
       "      <td>3</td>\n",
       "      <td>0</td>\n",
       "      <td>6</td>\n",
       "      <td>0</td>\n",
       "      <td>1</td>\n",
       "      <td>0.24</td>\n",
       "      <td>0.2879</td>\n",
       "      <td>0.75</td>\n",
       "      <td>0.0</td>\n",
       "      <td>13</td>\n",
       "    </tr>\n",
       "    <tr>\n",
       "      <th>4</th>\n",
       "      <td>5</td>\n",
       "      <td>2011/1/1</td>\n",
       "      <td>1</td>\n",
       "      <td>0</td>\n",
       "      <td>1</td>\n",
       "      <td>4</td>\n",
       "      <td>0</td>\n",
       "      <td>6</td>\n",
       "      <td>0</td>\n",
       "      <td>1</td>\n",
       "      <td>0.24</td>\n",
       "      <td>0.2879</td>\n",
       "      <td>0.75</td>\n",
       "      <td>0.0</td>\n",
       "      <td>1</td>\n",
       "    </tr>\n",
       "  </tbody>\n",
       "</table>\n",
       "</div>"
      ],
      "text/plain": [
       "   instant    dteday  season  yr  mnth  hr  holiday  weekday  workingday  \\\n",
       "0        1  2011/1/1       1   0     1   0        0        6           0   \n",
       "1        2  2011/1/1       1   0     1   1        0        6           0   \n",
       "2        3  2011/1/1       1   0     1   2        0        6           0   \n",
       "3        4  2011/1/1       1   0     1   3        0        6           0   \n",
       "4        5  2011/1/1       1   0     1   4        0        6           0   \n",
       "\n",
       "   weathersit  temp   atemp   hum  windspeed  cnt  \n",
       "0           1  0.24  0.2879  0.81        0.0   16  \n",
       "1           1  0.22  0.2727  0.80        0.0   40  \n",
       "2           1  0.22  0.2727  0.80        0.0   32  \n",
       "3           1  0.24  0.2879  0.75        0.0   13  \n",
       "4           1  0.24  0.2879  0.75        0.0    1  "
      ]
     },
     "execution_count": 153,
     "metadata": {},
     "output_type": "execute_result"
    }
   ],
   "source": [
    "trainSet_origin.head(5)"
   ]
  },
  {
   "cell_type": "markdown",
   "metadata": {},
   "source": [
    "## 特征预处理以及特征归一化/标准化\n",
    "\n",
    "结合上面数据集特征命名的解释，我们可总结如下结论：\n",
    "\n",
    "- **season, mnth, weekday, hr, weathersit, yr, holiday这7个特征都是类别特征(categorical feature)**，这类特征的各个取值并**不存在着取值上的“大小”关系（更严格来说，不存在“序”的关系）**，比如season有4种取值1、2、3、4，但是从该特征的含义上来讲这4种取值之间并没有“序”(order)的关系，因此要使用**独热编码**的方式来讲season特征**替代划分**为4个特征，比如名为season_1、season_2、season_3、season_4，这些引入的变量也称为**哑变量(Dummy variables)**，这样才可以**避免因强行给类别数据增加“序”而带来的许多问题**。\n",
    "\n",
    "    - 由于yr, holiday只有两个值，依旧用0或者1表示即可。\n",
    "    \n",
    "    - season, mnth, weekday, hr, weathersit这5个特征就用**独热编码**的方式**替代划分**为多个特征\n",
    "\n",
    "\n",
    "- 以下是几个**对训练神经网络没有意义或者重复的特征，这类特征应直接删除掉**。\n",
    "\n",
    "    - instant特征只是记录的序号，这并不能给我们提供什么信息。\n",
    "    \n",
    "    - dteday特征只是记录的日期，时间信息对我们训练神经网络也没有什么意义。\n",
    "    \n",
    "    - workingday特征与holiday、weekday这两个特征有重复的地方，不能提供额外的信息。\n",
    "    \n",
    "    - atemp特征是受temp特征影响的，其不能提供temp特征所不能提供的信息。\n",
    "\n",
    "\n",
    "- 除去重复的特征，以下对几个**连续型特征的归一化/标准化**问题的讨论。\n",
    "    \n",
    "    - 原始数据集中已经归一化的特征：\n",
    "    \n",
    "        - temp特征：代表的是摄氏温度，其通过除以最大值41进行归一化。由于温度的实际最大值应是不会与41度差别太大，这样归一化方式还是合理的。具体考证方法还是要看当地的气候，这个还是不要太较真。\n",
    "        \n",
    "        - hum特征：代表湿度，其通过除以最大值100进行归一化，这是完全正确的。\n",
    "        \n",
    "        - windspeed特征：代表风速，其通过除以最大值67进行归一化。由于风速的实际最大值应是不会与67差别太大，这样归一化方式推测是合理的。具体考证方法还是要看当地的气候，这个还是不要太较真。\n",
    "        \n",
    "    - 原始数据集中未归一化的特征：\n",
    "    \n",
    "        - cnt特征：目标预测值，代表预测的一个小时的单车租赁量。这个是没有进行归一化/标准化的特征，所以还是要先进行归一化/标准化比较妥当，而又**由于一个小时的单车租赁量的最大值是不明确的，因此z-score标准差标准化对该特征进行处理，其适用于属性A的最大值和最小值未知的情况，或有超出取值范围的离群数据的情况**。对应转化函数为：$$X^{*}=\\frac{X-mean(X)}{std(X)}$$\n",
    "    \n",
    "### 特征预处理函数实现"
   ]
  },
  {
   "cell_type": "code",
   "execution_count": 154,
   "metadata": {
    "ExecuteTime": {
     "end_time": "2017-12-04T22:43:36.767101Z",
     "start_time": "2017-12-04T22:43:36.561955Z"
    }
   },
   "outputs": [],
   "source": [
    "def featurePreprocessing(dataSet):\n",
    "    '''特征预处理：替代类别特征为哑变量、去除无关特征'''\n",
    "    categorical_features = ['season', 'mnth', 'weekday', 'hr', 'weathersit']\n",
    "    useless_features = ['instant', 'dteday', 'workingday', 'atemp']\n",
    "    features2drop = categorical_features + useless_features \n",
    "\n",
    "    for feature in categorical_features:\n",
    "        #创键 哑变量\n",
    "        dummies = pd.get_dummies(dataSet[feature], prefix=feature, drop_first=False)\n",
    "        #合并数据集\n",
    "        dataSet = pd.concat([dummies, dataSet], axis=1)\n",
    "        \n",
    "    #去除类别特征以及无关特征\n",
    "    return dataSet.drop(features2drop, axis=1)\n",
    "    \n",
    "trainSet = featurePreprocessing(trainSet_origin.copy())\n",
    "testSet = featurePreprocessing(testSet_origin.copy())"
   ]
  },
  {
   "cell_type": "markdown",
   "metadata": {},
   "source": [
    "### 预处理效果预览\n",
    "\n",
    "这里先输出预处理后的前5个数据，可见数据的特征数目上涨到了60个。"
   ]
  },
  {
   "cell_type": "code",
   "execution_count": 155,
   "metadata": {
    "ExecuteTime": {
     "end_time": "2017-12-04T22:43:36.845156Z",
     "start_time": "2017-12-04T22:43:36.776107Z"
    }
   },
   "outputs": [
    {
     "data": {
      "text/html": [
       "<div>\n",
       "<table border=\"1\" class=\"dataframe\">\n",
       "  <thead>\n",
       "    <tr style=\"text-align: right;\">\n",
       "      <th></th>\n",
       "      <th>weathersit_1</th>\n",
       "      <th>weathersit_2</th>\n",
       "      <th>weathersit_3</th>\n",
       "      <th>weathersit_4</th>\n",
       "      <th>hr_0</th>\n",
       "      <th>hr_1</th>\n",
       "      <th>hr_2</th>\n",
       "      <th>hr_3</th>\n",
       "      <th>hr_4</th>\n",
       "      <th>hr_5</th>\n",
       "      <th>...</th>\n",
       "      <th>season_1</th>\n",
       "      <th>season_2</th>\n",
       "      <th>season_3</th>\n",
       "      <th>season_4</th>\n",
       "      <th>yr</th>\n",
       "      <th>holiday</th>\n",
       "      <th>temp</th>\n",
       "      <th>hum</th>\n",
       "      <th>windspeed</th>\n",
       "      <th>cnt</th>\n",
       "    </tr>\n",
       "  </thead>\n",
       "  <tbody>\n",
       "    <tr>\n",
       "      <th>0</th>\n",
       "      <td>1.0</td>\n",
       "      <td>0.0</td>\n",
       "      <td>0.0</td>\n",
       "      <td>0.0</td>\n",
       "      <td>1.0</td>\n",
       "      <td>0.0</td>\n",
       "      <td>0.0</td>\n",
       "      <td>0.0</td>\n",
       "      <td>0.0</td>\n",
       "      <td>0.0</td>\n",
       "      <td>...</td>\n",
       "      <td>1.0</td>\n",
       "      <td>0.0</td>\n",
       "      <td>0.0</td>\n",
       "      <td>0.0</td>\n",
       "      <td>0</td>\n",
       "      <td>0</td>\n",
       "      <td>0.24</td>\n",
       "      <td>0.81</td>\n",
       "      <td>0.0</td>\n",
       "      <td>16</td>\n",
       "    </tr>\n",
       "    <tr>\n",
       "      <th>1</th>\n",
       "      <td>1.0</td>\n",
       "      <td>0.0</td>\n",
       "      <td>0.0</td>\n",
       "      <td>0.0</td>\n",
       "      <td>0.0</td>\n",
       "      <td>1.0</td>\n",
       "      <td>0.0</td>\n",
       "      <td>0.0</td>\n",
       "      <td>0.0</td>\n",
       "      <td>0.0</td>\n",
       "      <td>...</td>\n",
       "      <td>1.0</td>\n",
       "      <td>0.0</td>\n",
       "      <td>0.0</td>\n",
       "      <td>0.0</td>\n",
       "      <td>0</td>\n",
       "      <td>0</td>\n",
       "      <td>0.22</td>\n",
       "      <td>0.80</td>\n",
       "      <td>0.0</td>\n",
       "      <td>40</td>\n",
       "    </tr>\n",
       "    <tr>\n",
       "      <th>2</th>\n",
       "      <td>1.0</td>\n",
       "      <td>0.0</td>\n",
       "      <td>0.0</td>\n",
       "      <td>0.0</td>\n",
       "      <td>0.0</td>\n",
       "      <td>0.0</td>\n",
       "      <td>1.0</td>\n",
       "      <td>0.0</td>\n",
       "      <td>0.0</td>\n",
       "      <td>0.0</td>\n",
       "      <td>...</td>\n",
       "      <td>1.0</td>\n",
       "      <td>0.0</td>\n",
       "      <td>0.0</td>\n",
       "      <td>0.0</td>\n",
       "      <td>0</td>\n",
       "      <td>0</td>\n",
       "      <td>0.22</td>\n",
       "      <td>0.80</td>\n",
       "      <td>0.0</td>\n",
       "      <td>32</td>\n",
       "    </tr>\n",
       "    <tr>\n",
       "      <th>3</th>\n",
       "      <td>1.0</td>\n",
       "      <td>0.0</td>\n",
       "      <td>0.0</td>\n",
       "      <td>0.0</td>\n",
       "      <td>0.0</td>\n",
       "      <td>0.0</td>\n",
       "      <td>0.0</td>\n",
       "      <td>1.0</td>\n",
       "      <td>0.0</td>\n",
       "      <td>0.0</td>\n",
       "      <td>...</td>\n",
       "      <td>1.0</td>\n",
       "      <td>0.0</td>\n",
       "      <td>0.0</td>\n",
       "      <td>0.0</td>\n",
       "      <td>0</td>\n",
       "      <td>0</td>\n",
       "      <td>0.24</td>\n",
       "      <td>0.75</td>\n",
       "      <td>0.0</td>\n",
       "      <td>13</td>\n",
       "    </tr>\n",
       "    <tr>\n",
       "      <th>4</th>\n",
       "      <td>1.0</td>\n",
       "      <td>0.0</td>\n",
       "      <td>0.0</td>\n",
       "      <td>0.0</td>\n",
       "      <td>0.0</td>\n",
       "      <td>0.0</td>\n",
       "      <td>0.0</td>\n",
       "      <td>0.0</td>\n",
       "      <td>1.0</td>\n",
       "      <td>0.0</td>\n",
       "      <td>...</td>\n",
       "      <td>1.0</td>\n",
       "      <td>0.0</td>\n",
       "      <td>0.0</td>\n",
       "      <td>0.0</td>\n",
       "      <td>0</td>\n",
       "      <td>0</td>\n",
       "      <td>0.24</td>\n",
       "      <td>0.75</td>\n",
       "      <td>0.0</td>\n",
       "      <td>1</td>\n",
       "    </tr>\n",
       "  </tbody>\n",
       "</table>\n",
       "<p>5 rows × 57 columns</p>\n",
       "</div>"
      ],
      "text/plain": [
       "   weathersit_1  weathersit_2  weathersit_3  weathersit_4  hr_0  hr_1  hr_2  \\\n",
       "0           1.0           0.0           0.0           0.0   1.0   0.0   0.0   \n",
       "1           1.0           0.0           0.0           0.0   0.0   1.0   0.0   \n",
       "2           1.0           0.0           0.0           0.0   0.0   0.0   1.0   \n",
       "3           1.0           0.0           0.0           0.0   0.0   0.0   0.0   \n",
       "4           1.0           0.0           0.0           0.0   0.0   0.0   0.0   \n",
       "\n",
       "   hr_3  hr_4  hr_5 ...   season_1  season_2  season_3  season_4  yr  holiday  \\\n",
       "0   0.0   0.0   0.0 ...        1.0       0.0       0.0       0.0   0        0   \n",
       "1   0.0   0.0   0.0 ...        1.0       0.0       0.0       0.0   0        0   \n",
       "2   0.0   0.0   0.0 ...        1.0       0.0       0.0       0.0   0        0   \n",
       "3   1.0   0.0   0.0 ...        1.0       0.0       0.0       0.0   0        0   \n",
       "4   0.0   1.0   0.0 ...        1.0       0.0       0.0       0.0   0        0   \n",
       "\n",
       "   temp   hum  windspeed  cnt  \n",
       "0  0.24  0.81        0.0   16  \n",
       "1  0.22  0.80        0.0   40  \n",
       "2  0.22  0.80        0.0   32  \n",
       "3  0.24  0.75        0.0   13  \n",
       "4  0.24  0.75        0.0    1  \n",
       "\n",
       "[5 rows x 57 columns]"
      ]
     },
     "execution_count": 155,
     "metadata": {},
     "output_type": "execute_result"
    }
   ],
   "source": [
    "trainSet.head()"
   ]
  },
  {
   "cell_type": "markdown",
   "metadata": {},
   "source": [
    "输出所有的特征名称，可见类别变量均被哑变量替换了，无关变量也被删除了。"
   ]
  },
  {
   "cell_type": "code",
   "execution_count": 156,
   "metadata": {
    "ExecuteTime": {
     "end_time": "2017-12-04T22:43:36.928215Z",
     "start_time": "2017-12-04T22:43:36.853161Z"
    }
   },
   "outputs": [
    {
     "data": {
      "text/plain": [
       "Index(['weathersit_1', 'weathersit_2', 'weathersit_3', 'weathersit_4', 'hr_0',\n",
       "       'hr_1', 'hr_2', 'hr_3', 'hr_4', 'hr_5', 'hr_6', 'hr_7', 'hr_8', 'hr_9',\n",
       "       'hr_10', 'hr_11', 'hr_12', 'hr_13', 'hr_14', 'hr_15', 'hr_16', 'hr_17',\n",
       "       'hr_18', 'hr_19', 'hr_20', 'hr_21', 'hr_22', 'hr_23', 'weekday_0',\n",
       "       'weekday_1', 'weekday_2', 'weekday_3', 'weekday_4', 'weekday_5',\n",
       "       'weekday_6', 'mnth_1', 'mnth_2', 'mnth_3', 'mnth_4', 'mnth_5', 'mnth_6',\n",
       "       'mnth_7', 'mnth_8', 'mnth_9', 'mnth_10', 'mnth_11', 'mnth_12',\n",
       "       'season_1', 'season_2', 'season_3', 'season_4', 'yr', 'holiday', 'temp',\n",
       "       'hum', 'windspeed', 'cnt'],\n",
       "      dtype='object')"
      ]
     },
     "execution_count": 156,
     "metadata": {},
     "output_type": "execute_result"
    }
   ],
   "source": [
    "trainSet.columns"
   ]
  },
  {
   "cell_type": "markdown",
   "metadata": {},
   "source": [
    "### 特征归一化/标准化\n",
    "\n",
    "这里对训练集的特征cnt需要进行标准化，并保存标准化时该特征数据的均值和方差，以供后续预测时还原数据使用。"
   ]
  },
  {
   "cell_type": "code",
   "execution_count": 157,
   "metadata": {
    "ExecuteTime": {
     "end_time": "2017-12-04T22:43:37.003269Z",
     "start_time": "2017-12-04T22:43:36.934219Z"
    }
   },
   "outputs": [],
   "source": [
    "mean_of_cnt, std_of_cnt = trainSet['cnt'].mean(), trainSet['cnt'].std()\n",
    "trainSet['cnt'] = (trainSet['cnt'] - mean_of_cnt)/std_of_cnt"
   ]
  },
  {
   "cell_type": "code",
   "execution_count": 158,
   "metadata": {
    "ExecuteTime": {
     "end_time": "2017-12-04T22:43:37.150373Z",
     "start_time": "2017-12-04T22:43:37.006270Z"
    }
   },
   "outputs": [
    {
     "data": {
      "text/plain": [
       "count    8.619000e+03\n",
       "mean     2.658017e-17\n",
       "std      1.000000e+00\n",
       "min     -1.067540e+00\n",
       "25%     -8.434575e-01\n",
       "50%     -2.608435e-01\n",
       "75%      5.010363e-01\n",
       "max      3.787577e+00\n",
       "Name: cnt, dtype: float64"
      ]
     },
     "execution_count": 158,
     "metadata": {},
     "output_type": "execute_result"
    }
   ],
   "source": [
    "trainSet['cnt'].describe()"
   ]
  },
  {
   "cell_type": "markdown",
   "metadata": {},
   "source": [
    "### 保存预处理后的数据集"
   ]
  },
  {
   "cell_type": "code",
   "execution_count": 159,
   "metadata": {
    "ExecuteTime": {
     "end_time": "2017-12-04T22:43:38.274445Z",
     "start_time": "2017-12-04T22:43:37.154375Z"
    }
   },
   "outputs": [],
   "source": [
    "dirPath = \"proprocessed data\"\n",
    "if not os.path.exists(dirPath):\n",
    "    os.mkdir(dirPath)\n",
    "    \n",
    "trainSet.to_csv(dirPath + '\\\\train.csv')\n",
    "testSet.to_csv(dirPath + '\\\\test.csv')"
   ]
  },
  {
   "cell_type": "markdown",
   "metadata": {},
   "source": [
    "## 从训练集中划分验证集\n",
    "\n",
    "典型的从训练集中划分验证集的方法是：划分训练集中的30%为验证集，划分过程采用随机选取的方式。但是这里**由于数据时有时间序列特性的，因此便采取划分训练集的后30%为验证集**。"
   ]
  },
  {
   "cell_type": "code",
   "execution_count": 170,
   "metadata": {
    "ExecuteTime": {
     "end_time": "2017-12-04T23:19:23.565036Z",
     "start_time": "2017-12-04T23:19:23.557034Z"
    },
    "collapsed": true
   },
   "outputs": [],
   "source": [
    "trainSet_backup = trainSet.copy()"
   ]
  },
  {
   "cell_type": "code",
   "execution_count": 174,
   "metadata": {
    "ExecuteTime": {
     "end_time": "2017-12-04T23:22:19.770365Z",
     "start_time": "2017-12-04T23:22:19.749330Z"
    }
   },
   "outputs": [
    {
     "name": "stdout",
     "output_type": "stream",
     "text": [
      "划分后的训练集和验证集的维度： (6034, 56) (0, 56)\n"
     ]
    }
   ],
   "source": [
    "splitRate = 0.3 #划分比例\n",
    "splitNum = int(trainSet_backup.shape[0]*splitRate) #划分的数目\n",
    "#划分 数据集 和 标签\n",
    "temp = trainSet_backup.drop(['cnt'], axis=1), trainSet_backup['cnt']\n",
    "#得到 训练集 和 标签\n",
    "trainSet, trainSet_label = temp[0][:-splitNum], temp[1][:-splitNum] \n",
    "#得到 验证集 和 标签\n",
    "validateSet, validateSet_label = temp[0][-splitNum:0], temp[1][-splitNum:0] \n",
    "print('划分后的训练集和验证集的维度：', trainSet.shape,  validateSet.shape)"
   ]
  },
  {
   "cell_type": "code",
   "execution_count": null,
   "metadata": {
    "collapsed": true
   },
   "outputs": [],
   "source": []
  },
  {
   "cell_type": "markdown",
   "metadata": {},
   "source": [
    "# 参考资料\n",
    "\n",
    "- 1.[用python参加Kaggle的些许经验总结][用python参加Kaggle的些许经验总结]\n",
    "- 2.[Pandas 处理 dummy variable][Pandas 处理 dummy variable]\n",
    "- 3.[数据标准化/归一化normalization][数据标准化/归一化normalization]\n",
    "\n",
    "[用python参加Kaggle的些许经验总结]:http://www.jianshu.com/p/32def2294ae6\n",
    "[Pandas 处理 dummy variable]:http://blog.csdn.net/weiwei9363/article/details/78255210\n",
    "[数据标准化/归一化normalization]:http://blog.csdn.net/pipisorry/article/details/52247379"
   ]
  }
 ],
 "metadata": {
  "anaconda-cloud": {},
  "kernelspec": {
   "display_name": "Python [conda root]",
   "language": "python",
   "name": "conda-root-py"
  },
  "language_info": {
   "codemirror_mode": {
    "name": "ipython",
    "version": 3
   },
   "file_extension": ".py",
   "mimetype": "text/x-python",
   "name": "python",
   "nbconvert_exporter": "python",
   "pygments_lexer": "ipython3",
   "version": "3.5.2"
  },
  "toc": {
   "nav_menu": {},
   "number_sections": true,
   "sideBar": true,
   "skip_h1_title": false,
   "toc_cell": false,
   "toc_position": {
    "height": "595px",
    "left": "0px",
    "right": "930.25px",
    "top": "107px",
    "width": "362px"
   },
   "toc_section_display": "block",
   "toc_window_display": true
  }
 },
 "nbformat": 4,
 "nbformat_minor": 2
}
