{
 "cells": [
  {
   "cell_type": "code",
   "execution_count": 7,
   "metadata": {
    "ExecuteTime": {
     "end_time": "2017-11-24T13:33:35.218087Z",
     "start_time": "2017-11-24T13:33:35.211082Z"
    },
    "collapsed": true
   },
   "outputs": [],
   "source": [
    "from IPython.core.interactiveshell import InteractiveShell\n",
    "InteractiveShell.ast_node_interactivity = \"all\"\n",
    "\n",
    "from collections import Counter\n",
    "import numpy as np\n",
    "import matplotlib.pyplot as plt\n",
    "from functools import reduce\n",
    "import pdir as pr"
   ]
  },
  {
   "cell_type": "code",
   "execution_count": 13,
   "metadata": {
    "ExecuteTime": {
     "end_time": "2017-11-24T13:36:23.570306Z",
     "start_time": "2017-11-24T13:36:23.431206Z"
    }
   },
   "outputs": [
    {
     "data": {
      "text/plain": [
       "array([ 0.,  0.,  0.])"
      ]
     },
     "execution_count": 13,
     "metadata": {},
     "output_type": "execute_result"
    },
    {
     "data": {
      "text/plain": [
       "array([-0.50000005, -1.50000015, -5.0000005 ,  2.0000002 ,  3.50000035,\n",
       "        0.50000005, -2.50000025])"
      ]
     },
     "execution_count": 13,
     "metadata": {},
     "output_type": "execute_result"
    }
   ],
   "source": [
    "def loadDataSet(filePath):\n",
    "    ''' 数据集读取函数'''\n",
    "    data, label = [], []\n",
    "    # 读取数据集\n",
    "    with open(filePath) as f:\n",
    "        for line in f.readlines():\n",
    "            temp = line.strip().split(\" \")\n",
    "            data.append([float(i) for i in temp[:-1]])\n",
    "            if temp[-1] != '?':\n",
    "                temp[-1] = float(temp[-1])\n",
    "            label.append(temp[-1])\n",
    "    ##### 输出数据集相关信息 ##########\n",
    "    print(\"data dimension of dataset：\", len(data[0]))\n",
    "    print(\"number of sample in data :\", len(data))\n",
    "    print(\"label frequency:\", dict(Counter(label)))\n",
    "    ##### 输出数据集相关信息 ##########\n",
    "    return np.array(data), np.array(label)\n",
    "\n",
    "class LogisticRegression:\n",
    "    '''逻辑回归类实现'''\n",
    "    \n",
    "    def __addOne2Samples(self, dataSet):\n",
    "        '''给每一个样本前加一个常数1'''\n",
    "        ones = np.ones(len(dataSet))\n",
    "        return np.column_stack((ones, dataSet))\n",
    "    \n",
    "    def sigmoid(self, x):\n",
    "        '''sigmoid函数实现'''\n",
    "        return 1/(1+np.exp(-1*x))\n",
    "    \n",
    "    def fit(self, trainSet, label, eta=1e-3, maxRunTimes=100, reduceEta=True):\n",
    "        '''根据给定的训练集和标签训练PLA的参数 w '''\n",
    "        #设置默认的 w 全为1\n",
    "        self.w = np.mat(np.zeros(trainSet.shape[1]+1)).reshape(-1,1)\n",
    "        #给训练集中每一个样本前加一个常数1，并转换为numpy矩阵\n",
    "        trainSet = np.mat(self.__addOne2Samples(trainSet))\n",
    "        #将标签转换为numpy矩阵，并将其设置为只有一列的数据的矩阵\n",
    "        label = np.mat(label).reshape(-1,1)\n",
    "        eta_reduced = eta\n",
    "        for i in range(maxRunTimes):\n",
    "            if reduceEta:\n",
    "                eta_reduced = eta/(1+i)+1e-7\n",
    "            #根据矩阵运算得到整个数据集每个维度梯度\n",
    "            gradient = trainSet.transpose()*(self.sigmoid(trainSet*self.w) - label)\n",
    "            #print(\"第\"+str(i+1)+\"次迭代的梯度值：\\n\", gradient)\n",
    "            #更新 w\n",
    "            self.w -= eta_reduced*gradient\n",
    "        \n",
    "    def __apply(self, x):\n",
    "        '''利用训练好的 w 对输入的向量x进行分类'''\n",
    "        w = np.array(self.w)[:,0] #转换为numpy向量，方便后续计算\n",
    "        return 1 if self.sigmoid(np.dot(w, x)) > 0.5 else 0\n",
    "    \n",
    "    def apply(self, otherSet):\n",
    "        '''根据已训练出的 w 对其他数据集进行划分'''\n",
    "        otherSet = self.__addOne2Samples(otherSet)\n",
    "        outputLabel = np.zeros(otherSet.shape[0])\n",
    "        for index, sample in enumerate(otherSet):\n",
    "            outputLabel[index] = self.__apply(sample)\n",
    "        return outputLabel\n",
    "    \n",
    "    def getW(self):\n",
    "        return np.array(self.w)[:,0]\n",
    "    \n",
    "    \n",
    "LR = LogisticRegression()\n",
    "LR.fit(trainSet, trainSet_label, eta=1, maxRunTimes=1)\n",
    "LR.apply(testSet)\n",
    "LR.getW()"
   ]
  },
  {
   "cell_type": "code",
   "execution_count": 10,
   "metadata": {
    "ExecuteTime": {
     "end_time": "2017-11-24T13:34:03.157644Z",
     "start_time": "2017-11-24T13:34:03.128622Z"
    }
   },
   "outputs": [
    {
     "name": "stdout",
     "output_type": "stream",
     "text": [
      "data dimension of dataset： 6\n",
      "number of sample in data : 5\n",
      "label frequency: {0.0: 3, 1.0: 2}\n"
     ]
    },
    {
     "data": {
      "text/plain": [
       "array([[ 4.,  6.,  2.,  3.,  4.,  5.],\n",
       "       [ 3.,  1.,  6.,  8.,  9.,  3.],\n",
       "       [ 6.,  5.,  2.,  0.,  3.,  4.],\n",
       "       [ 5.,  2.,  7.,  3.,  5.,  1.],\n",
       "       [ 1.,  2.,  5.,  1.,  6.,  0.]])"
      ]
     },
     "execution_count": 10,
     "metadata": {},
     "output_type": "execute_result"
    },
    {
     "name": "stdout",
     "output_type": "stream",
     "text": [
      "data dimension of dataset： 6\n",
      "number of sample in data : 3\n",
      "label frequency: {'?': 3}\n"
     ]
    },
    {
     "data": {
      "text/plain": [
       "array([[ 7.,  2.,  5.,  2.,  6.,  1.],\n",
       "       [ 1.,  2.,  1.,  1.,  5.,  2.],\n",
       "       [ 7.,  6.,  2.,  1.,  5.,  7.]])"
      ]
     },
     "execution_count": 10,
     "metadata": {},
     "output_type": "execute_result"
    }
   ],
   "source": [
    "trainSet, trainSet_label = loadDataSet('.\\\\data\\\\train.txt')\n",
    "trainSet\n",
    "testSet, testSet_lable = loadDataSet('.\\\\data\\\\test.txt')\n",
    "testSet"
   ]
  }
 ],
 "metadata": {
  "anaconda-cloud": {},
  "kernelspec": {
   "display_name": "Python [conda root]",
   "language": "python",
   "name": "conda-root-py"
  },
  "language_info": {
   "codemirror_mode": {
    "name": "ipython",
    "version": 3
   },
   "file_extension": ".py",
   "mimetype": "text/x-python",
   "name": "python",
   "nbconvert_exporter": "python",
   "pygments_lexer": "ipython3",
   "version": "3.5.2"
  },
  "toc": {
   "nav_menu": {},
   "number_sections": true,
   "sideBar": true,
   "skip_h1_title": false,
   "toc_cell": false,
   "toc_position": {},
   "toc_section_display": "block",
   "toc_window_display": false
  }
 },
 "nbformat": 4,
 "nbformat_minor": 2
}
