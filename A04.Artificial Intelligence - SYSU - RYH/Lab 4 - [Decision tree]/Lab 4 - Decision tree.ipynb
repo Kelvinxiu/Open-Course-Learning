{
 "cells": [
  {
   "cell_type": "code",
   "execution_count": 62,
   "metadata": {
    "ExecuteTime": {
     "end_time": "2017-11-03T16:59:28.853097Z",
     "start_time": "2017-11-03T16:59:28.844109Z"
    },
    "collapsed": true
   },
   "outputs": [],
   "source": [
    "from IPython.core.interactiveshell import InteractiveShell\n",
    "InteractiveShell.ast_node_interactivity = \"all\"\n",
    "\n",
    "from collections import Counter\n",
    "import numpy as np\n",
    "import matplotlib.pyplot as plt\n",
    "from functools import reduce"
   ]
  },
  {
   "cell_type": "markdown",
   "metadata": {},
   "source": [
    "# 读取数据集\n",
    "\n",
    "本次数据分为 train.csv 和 test.csv。每个文件有10列，前9列为特征 （都为离散型），最后一列是标签（±1）。"
   ]
  },
  {
   "cell_type": "code",
   "execution_count": 31,
   "metadata": {
    "ExecuteTime": {
     "end_time": "2017-11-03T16:08:41.361106Z",
     "start_time": "2017-11-03T16:08:41.341085Z"
    }
   },
   "outputs": [],
   "source": [
    "def loadDataSet(filePath):\n",
    "    ''' 数据集读取函数'''\n",
    "    data, label = [], []\n",
    "    # 读取数据集\n",
    "    with open(filePath) as f:\n",
    "        for line in f.readlines():\n",
    "            temp = line.strip().split(\",\")\n",
    "            data.append([float(i) for i in temp[:-1]])\n",
    "            if temp[-1] != '?':\n",
    "                temp[-1] = float(temp[-1])\n",
    "            label.append(temp[-1])\n",
    "    ##### 输出数据集相关信息 ##########\n",
    "    print(\"data dimension of dataset：\", len(data[0]))\n",
    "    print(\"number of sample in data :\", len(data))\n",
    "    print(\"label frequency:\", dict(Counter(label)))\n",
    "    ##### 输出数据集相关信息 ##########\n",
    "    return np.array(data), np.array(label)"
   ]
  },
  {
   "cell_type": "code",
   "execution_count": 82,
   "metadata": {
    "ExecuteTime": {
     "end_time": "2017-11-03T18:18:28.694600Z",
     "start_time": "2017-11-03T18:18:28.672585Z"
    }
   },
   "outputs": [
    {
     "name": "stdout",
     "output_type": "stream",
     "text": [
      "data dimension of dataset： 9\n",
      "number of sample in data : 787\n",
      "label frequency: {1.0: 323, -1.0: 464}\n"
     ]
    },
    {
     "data": {
      "text/plain": [
       "array([[ 23.,   1.,   2.,   2.,   1.,   1.,   2.,   0.,   0.],\n",
       "       [ 36.,   1.,   1.,   5.,   1.,   1.,   2.,   3.,   0.],\n",
       "       [ 33.,   1.,   3.,   3.,   1.,   1.,   2.,   3.,   0.],\n",
       "       [ 35.,   3.,   3.,   2.,   1.,   0.,   0.,   3.,   0.],\n",
       "       [ 25.,   1.,   2.,   4.,   1.,   1.,   2.,   2.,   0.]])"
      ]
     },
     "execution_count": 82,
     "metadata": {},
     "output_type": "execute_result"
    }
   ],
   "source": [
    "trainSet, trainSet_label = loadDataSet('.\\\\data\\\\train.csv')\n",
    "trainSet[0:5]"
   ]
  },
  {
   "cell_type": "code",
   "execution_count": 81,
   "metadata": {
    "ExecuteTime": {
     "end_time": "2017-11-03T18:18:24.950263Z",
     "start_time": "2017-11-03T18:18:24.932233Z"
    }
   },
   "outputs": [
    {
     "name": "stdout",
     "output_type": "stream",
     "text": [
      "data dimension of dataset： 9\n",
      "number of sample in data : 300\n",
      "label frequency: {'?': 300}\n"
     ]
    },
    {
     "data": {
      "text/plain": [
       "array([[ 32.,   3.,   3.,   3.,   0.,   1.,   0.,   3.,   0.],\n",
       "       [ 24.,   1.,   2.,   3.,   1.,   1.,   1.,   2.,   0.],\n",
       "       [ 32.,   3.,   3.,   2.,   1.,   0.,   0.,   2.,   0.],\n",
       "       [ 43.,   3.,   3.,   5.,   1.,   1.,   0.,   3.,   0.],\n",
       "       [ 46.,   3.,   3.,   1.,   0.,   1.,   0.,   3.,   0.]])"
      ]
     },
     "execution_count": 81,
     "metadata": {},
     "output_type": "execute_result"
    }
   ],
   "source": [
    "testSet, testSet_lable = loadDataSet('.\\\\data\\\\test.csv')\n",
    "testSet[0:5]"
   ]
  },
  {
   "cell_type": "markdown",
   "metadata": {},
   "source": [
    "# 特征选取\n",
    "\n",
    "## 信息增益和信息增益率"
   ]
  },
  {
   "cell_type": "code",
   "execution_count": 99,
   "metadata": {
    "ExecuteTime": {
     "end_time": "2017-11-03T18:50:50.879517Z",
     "start_time": "2017-11-03T18:50:50.822476Z"
    },
    "collapsed": true
   },
   "outputs": [],
   "source": [
    "def calcInfoGain_or_InfoGainRate(dataSet, label, calcInfoGainRate=False):\n",
    "    '''计算数据集每一列（特征）的信息增益或信息增益率'''\n",
    "    def calcEntropy(data):\n",
    "        '''计算单列数据的熵'''\n",
    "        probs_ = np.array(list(Counter(data).values()))/data.shape[0]\n",
    "        ans = -1*(probs_*np.log2(probs_)).sum()\n",
    "        return ans\n",
    "    #计算数据集的熵\n",
    "    dataSetEntropy = calcEntropy(label)\n",
    "    #得到数据集的 样本数 和 特征数\n",
    "    sampleNum, featureNum = dataSet.shape\n",
    "    infoGains = np.zeros(featureNum) #用于保存 信息增益的数组\n",
    "    #对于数据集的每一个特征\n",
    "    for featureId in range(featureNum):\n",
    "        #得到当前的 特征\n",
    "        curFeature = dataSet[:, featureId]\n",
    "        #得到每个取值的统计次数\n",
    "        counter = Counter(curFeature)\n",
    "        #得到所有可能的取值\n",
    "        values = list(counter.keys())\n",
    "        #得到所有可能取值的概率\n",
    "        probs = np.array(list(counter.values()))/sampleNum\n",
    "        entropys = np.zeros(len(values)) #用于保存熵的数组\n",
    "        #遍历每个可能的取值\n",
    "        for index, val in enumerate(values):\n",
    "            #得到 标签 中对应的 子数据集标签\n",
    "            subLabel = label[np.argwhere(curFeature==val)[:,0]]\n",
    "            #计算 子数据集标签 的 熵\n",
    "            entropys[index] = calcEntropy(subLabel)\n",
    "        #计算基于当前特征的 条件熵\n",
    "        condEntropy = (probs*entropys).sum()\n",
    "        #计算基于当前特征的 信息增益\n",
    "        infoGains[featureId] = dataSetEntropy - condEntropy\n",
    "        #若是计算 信息增益率，则要除以 当前特征的 熵 \n",
    "        if calcInfoGainRate:\n",
    "            infoGains[featureId] /= calcEntropy(curFeature)\n",
    "    return infoGains"
   ]
  },
  {
   "cell_type": "code",
   "execution_count": 95,
   "metadata": {
    "ExecuteTime": {
     "end_time": "2017-11-03T18:34:18.822400Z",
     "start_time": "2017-11-03T18:34:18.798379Z"
    }
   },
   "outputs": [
    {
     "data": {
      "text/plain": [
       "array([ 0.08227668,  0.01368315,  0.0152763 ,  0.10408631,  0.00169982,\n",
       "        0.00107348,  0.00518738,  0.00597883,  0.00918736])"
      ]
     },
     "execution_count": 95,
     "metadata": {},
     "output_type": "execute_result"
    },
    {
     "data": {
      "text/plain": [
       "3"
      ]
     },
     "execution_count": 95,
     "metadata": {},
     "output_type": "execute_result"
    }
   ],
   "source": [
    "ansA = calcInfoGain_or_InfoGainRate(trainSet, trainSet_label, False)\n",
    "ansA\n",
    "np.argmax(ansA)"
   ]
  },
  {
   "cell_type": "code",
   "execution_count": 94,
   "metadata": {
    "ExecuteTime": {
     "end_time": "2017-11-03T18:34:16.742683Z",
     "start_time": "2017-11-03T18:34:16.717667Z"
    }
   },
   "outputs": [
    {
     "data": {
      "text/plain": [
       "array([ 0.01673974,  0.00701169,  0.00964848,  0.03349103,  0.00286384,\n",
       "        0.00129432,  0.00321961,  0.00328779,  0.01890093])"
      ]
     },
     "execution_count": 94,
     "metadata": {},
     "output_type": "execute_result"
    },
    {
     "data": {
      "text/plain": [
       "3"
      ]
     },
     "execution_count": 94,
     "metadata": {},
     "output_type": "execute_result"
    }
   ],
   "source": [
    "ansB = calcInfoGain_or_InfoGainRate(trainSet, trainSet_label, True)\n",
    "ansB\n",
    "np.argmax(ansB)"
   ]
  },
  {
   "cell_type": "markdown",
   "metadata": {},
   "source": [
    "## 基尼指数"
   ]
  },
  {
   "cell_type": "code",
   "execution_count": 103,
   "metadata": {
    "ExecuteTime": {
     "end_time": "2017-11-03T19:03:57.835066Z",
     "start_time": "2017-11-03T19:03:57.812048Z"
    },
    "collapsed": true
   },
   "outputs": [],
   "source": [
    "def calcGiniIndex(dataSet, label):\n",
    "    '''计算数据集每一列（特征）的Gini指数'''\n",
    "    #得到数据集的 样本数 和 特征数\n",
    "    sampleNum, featureNum = dataSet.shape\n",
    "    giniIndexs = np.zeros(featureNum) #用于保存 信息增益的数组\n",
    "    #对于数据集的每一个特征\n",
    "    for featureId in range(featureNum):\n",
    "        #得到当前的 特征\n",
    "        curFeature = dataSet[:, featureId]\n",
    "        #得到每个取值的统计次数\n",
    "        counter = Counter(curFeature)\n",
    "        #得到所有可能的取值\n",
    "        values = list(counter.keys())\n",
    "        #得到所有可能取值的概率\n",
    "        probs = np.array(list(counter.values()))/sampleNum\n",
    "        subGiniIndexs = np.zeros(len(values)) #用于保存熵的数组\n",
    "        #遍历每个可能的取值\n",
    "        for index, val in enumerate(values):\n",
    "            #得到 标签 中对应的 子数据集\n",
    "            subLabel = label[np.argwhere(curFeature==val)[:,0]]\n",
    "            #计算 每个取值下 数据集的 gini指数\n",
    "            sub_values = np.array(list(Counter(subLabel).values()))\n",
    "            sub_probs = sub_values / subLabel.shape[0]\n",
    "            subGiniIndexs[index] = 1 - (sub_probs**2).sum()\n",
    "        #计算基于当前特征的 gini 指数\n",
    "        giniIndexs[featureId] = (probs*subGiniIndexs).sum()\n",
    "    return giniIndexs"
   ]
  },
  {
   "cell_type": "code",
   "execution_count": 104,
   "metadata": {
    "ExecuteTime": {
     "end_time": "2017-11-03T19:04:00.041331Z",
     "start_time": "2017-11-03T19:04:00.019316Z"
    }
   },
   "outputs": [
    {
     "data": {
      "text/plain": [
       "array([ 0.43710387,  0.47500663,  0.47507976,  0.42602918,  0.48279887,\n",
       "        0.48323448,  0.4804874 ,  0.48007143,  0.47810829])"
      ]
     },
     "execution_count": 104,
     "metadata": {},
     "output_type": "execute_result"
    },
    {
     "data": {
      "text/plain": [
       "5"
      ]
     },
     "execution_count": 104,
     "metadata": {},
     "output_type": "execute_result"
    }
   ],
   "source": [
    "ansC = calcGiniIndex(trainSet, trainSet_label)\n",
    "ansC\n",
    "np.argmax(ansC)"
   ]
  }
 ],
 "metadata": {
  "anaconda-cloud": {},
  "kernelspec": {
   "display_name": "Python [conda root]",
   "language": "python",
   "name": "conda-root-py"
  },
  "language_info": {
   "codemirror_mode": {
    "name": "ipython",
    "version": 3
   },
   "file_extension": ".py",
   "mimetype": "text/x-python",
   "name": "python",
   "nbconvert_exporter": "python",
   "pygments_lexer": "ipython3",
   "version": "3.5.2"
  },
  "toc": {
   "nav_menu": {},
   "number_sections": true,
   "sideBar": true,
   "skip_h1_title": false,
   "toc_cell": false,
   "toc_position": {
    "height": "596px",
    "left": "0px",
    "right": "915.844px",
    "top": "106px",
    "width": "356px"
   },
   "toc_section_display": "block",
   "toc_window_display": true
  }
 },
 "nbformat": 4,
 "nbformat_minor": 2
}
