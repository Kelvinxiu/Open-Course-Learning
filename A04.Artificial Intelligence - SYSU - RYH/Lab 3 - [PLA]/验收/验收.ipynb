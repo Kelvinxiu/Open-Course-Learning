{
 "cells": [
  {
   "cell_type": "code",
   "execution_count": 1,
   "metadata": {
    "ExecuteTime": {
     "end_time": "2017-10-27T14:26:06.663083Z",
     "start_time": "2017-10-27T14:26:02.767027Z"
    },
    "collapsed": true
   },
   "outputs": [],
   "source": [
    "from IPython.core.interactiveshell import InteractiveShell\n",
    "InteractiveShell.ast_node_interactivity = \"all\"\n",
    "\n",
    "from collections import Counter\n",
    "import numpy as np\n",
    "import matplotlib.pyplot as plt"
   ]
  },
  {
   "cell_type": "code",
   "execution_count": 8,
   "metadata": {
    "ExecuteTime": {
     "end_time": "2017-10-27T14:27:34.421100Z",
     "start_time": "2017-10-27T14:27:34.397081Z"
    }
   },
   "outputs": [],
   "source": [
    "def loadDataSet(filePath):\n",
    "    '''数据集读取函数'''\n",
    "    data, label = [], []\n",
    "    # 读取数据集\n",
    "    with open(filePath) as f:\n",
    "        for line in f.readlines():\n",
    "            temp = line.strip().split(\",\")\n",
    "            print(temp)\n",
    "            data.append([float(i) for i in temp[:-1]])\n",
    "            if temp[-1] != '?':\n",
    "                temp[-1] = float(temp[-1])\n",
    "            label.append(temp[-1])\n",
    "    #####输出数据集相关信息##########\n",
    "    print(\"\\ndata dimension of dataset：\", len(data[0]))\n",
    "    print(\"number of training data :\", len(data))\n",
    "    print(\"label frequency:\", dict(Counter(label)))\n",
    "    #####输出数据集相关信息##########\n",
    "    return data, label"
   ]
  },
  {
   "cell_type": "code",
   "execution_count": 9,
   "metadata": {
    "ExecuteTime": {
     "end_time": "2017-10-27T14:27:36.451196Z",
     "start_time": "2017-10-27T14:27:36.443178Z"
    }
   },
   "outputs": [
    {
     "name": "stdout",
     "output_type": "stream",
     "text": [
      "['2.4104', '2.0597', '1.8863', '2.646', '3.4419', '3.4161', '-1']\n",
      "['0', '0', '0.66582', '-1.3125', '5.4326', '5.605', '-1']\n",
      "['4.625', '1.6094', '3.0584', '7.2627', '3.8202', '3.9627', '-1']\n",
      "['7.2286', '5.5099', '4.4569', '7.5059', '0', '1.4612', '1']\n",
      "['8.875', '-2.7671', '0', '2.1675', '-5.0326', '5.0541', '1']\n",
      "['-4.6052', '3.7136', '-7.467', '1', '0', '-5.2147', '-1']\n",
      "['-8.6378', '4.8647', '0', '2.6785', '4.7847', '4.7464', '-1']\n",
      "['7.8943', '0', '-10.267', '1.0132', '4.0489', '-4.0372', '1']\n",
      "\n",
      "data dimension of dataset： 6\n",
      "number of training data : 8\n",
      "label frequency: {1.0: 3, -1.0: 5}\n"
     ]
    }
   ],
   "source": [
    "trainSet, trainSet_label = loadDataSet(\"fri56train.csv\")"
   ]
  },
  {
   "cell_type": "code",
   "execution_count": 13,
   "metadata": {
    "ExecuteTime": {
     "end_time": "2017-10-27T14:32:01.298045Z",
     "start_time": "2017-10-27T14:32:01.286045Z"
    }
   },
   "outputs": [
    {
     "name": "stdout",
     "output_type": "stream",
     "text": [
      "['1', '4.5468', '-4.5072', '4.585', '4.585', '3.3193', '?']\n",
      "['2.3104', '4.6052', '6.5469', '4.6052', '3.4562', '4.6052', '?']\n",
      "\n",
      "data dimension of dataset： 6\n",
      "number of training data : 2\n",
      "label frequency: {'?': 2}\n"
     ]
    }
   ],
   "source": [
    "testSet, _ = loadDataSet(\"fri56test.csv\")"
   ]
  },
  {
   "cell_type": "code",
   "execution_count": 12,
   "metadata": {
    "ExecuteTime": {
     "end_time": "2017-10-27T14:28:47.482040Z",
     "start_time": "2017-10-27T14:28:46.840995Z"
    }
   },
   "outputs": [
    {
     "name": "stdout",
     "output_type": "stream",
     "text": [
      "最终训练得到的参数 w 为： [ 1. -3. -3.]\n",
      "对测试数据集 [[-2, 3]] 划分的结果为： [-1.] \n"
     ]
    }
   ],
   "source": [
    "class PLA_origin:\n",
    "    \n",
    "    def __init__(self, w0, theta=0):\n",
    "        '''初始化变量'''\n",
    "        self.w = np.array([theta]+w0, dtype='float64')\n",
    "    \n",
    "    def __addOne2Samples(self, dataSet):\n",
    "        '''给每一个样本前加一个常数1'''\n",
    "        ones = np.ones(len(dataSet))\n",
    "        dataSet = np.array(dataSet)\n",
    "        return np.column_stack((ones, dataSet))\n",
    "    \n",
    "    def fit(self, trainSet, label, maxRunTimes=100):\n",
    "        '''根据给定的训练集和标签训练PLA的参数 w '''\n",
    "        label = np.array(label, dtype='float64')\n",
    "        #给每一个样本前加一个常数1\n",
    "        trainSet = self.__addOne2Samples(trainSet)\n",
    "        cnt = 1\n",
    "        while cnt <= maxRunTimes:\n",
    "            cnt += 1\n",
    "            #遍历所有样本\n",
    "            for index, sample in enumerate(trainSet):\n",
    "                #更新预测错误的样本\n",
    "                if np.sign(np.dot(sample, self.w)) != label[index]:\n",
    "                    self.w += label[index]*sample\n",
    "                    \n",
    "    def apply(self, otherSet):\n",
    "        '''根据已训练出的 w 对其他数据集进行划分'''\n",
    "        otherSet = self.__addOne2Samples(otherSet)\n",
    "        outputLabel = np.zeros(otherSet.shape[0])\n",
    "        for index, sample in enumerate(otherSet):\n",
    "            outputLabel[index] = np.sign(np.dot(sample, self.w))\n",
    "        return outputLabel\n",
    "    \n",
    "    def getW(self):\n",
    "        return self.w\n",
    "\n",
    "############测试程序###################\n",
    "a = [[-4, -1], [0, 3]] # trainSet\n",
    "b = [1,-1]             # label\n",
    "c = [1, 1]             # w0\n",
    "d = 1                  # theta\n",
    "e = [[-2, 3]]          # otherSet\n",
    "\n",
    "p = PLA_origin(w0=c, theta=d) # 得到PLA类\n",
    "p.fit(a, b, maxRunTimes=10)      # 给定的训练集和标签，训练PLA的参数 w\n",
    "print(\"最终训练得到的参数 w 为：\", p.getW())  \n",
    "print(\"对测试数据集 %s 划分的结果为： %s \" %(e, p.apply(e)))\n",
    "############测试程序###################"
   ]
  },
  {
   "cell_type": "code",
   "execution_count": 15,
   "metadata": {
    "ExecuteTime": {
     "end_time": "2017-10-27T15:28:44.178678Z",
     "start_time": "2017-10-27T15:28:44.142670Z"
    }
   },
   "outputs": [
    {
     "data": {
      "text/plain": [
       "array([ -3.    ,  18.6843,  -0.9048,   4.2036,  -7.1952, -16.7374, -10.3606])"
      ]
     },
     "execution_count": 15,
     "metadata": {},
     "output_type": "execute_result"
    },
    {
     "data": {
      "text/plain": [
       "array([-1., -1.])"
      ]
     },
     "execution_count": 15,
     "metadata": {},
     "output_type": "execute_result"
    }
   ],
   "source": [
    "pla = PLA_origin(w0=[1]*len(trainSet[0]), theta=1)\n",
    "pla.fit(trainSet, trainSet_label, maxRunTimes=10)\n",
    "ansLabel1 = pla.apply(testSet)\n",
    "pla.getW()\n",
    "ansLabel1"
   ]
  }
 ],
 "metadata": {
  "anaconda-cloud": {},
  "kernelspec": {
   "display_name": "Python [conda root]",
   "language": "python",
   "name": "conda-root-py"
  },
  "language_info": {
   "codemirror_mode": {
    "name": "ipython",
    "version": 3
   },
   "file_extension": ".py",
   "mimetype": "text/x-python",
   "name": "python",
   "nbconvert_exporter": "python",
   "pygments_lexer": "ipython3",
   "version": "3.5.2"
  },
  "toc": {
   "nav_menu": {},
   "number_sections": true,
   "sideBar": true,
   "skip_h1_title": false,
   "toc_cell": false,
   "toc_position": {},
   "toc_section_display": "block",
   "toc_window_display": false
  }
 },
 "nbformat": 4,
 "nbformat_minor": 2
}
