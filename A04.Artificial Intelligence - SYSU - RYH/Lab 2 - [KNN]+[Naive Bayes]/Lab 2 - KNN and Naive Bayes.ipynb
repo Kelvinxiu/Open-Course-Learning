{
 "cells": [
  {
   "cell_type": "markdown",
   "metadata": {},
   "source": [
    "# 实验内容\n",
    "\n",
    "这次实验给定如下资料，所有文件放在data文件夹中。\n",
    "\n",
    "```\n",
    "data\n",
    "├─classification_dataset\n",
    "│      15351234_Sample_KNN_classification.csv\n",
    "│      15351234_Sample_NB_classification.csv\n",
    "│      test_set.csv\n",
    "│      train_set.csv\n",
    "│      validation_set.csv\n",
    "│\n",
    "└─regression_dataset\n",
    "        15351234_Sample_KNN_regression.csv\n",
    "        15351234_Sample_NB_regression.csv\n",
    "        test_set.csv\n",
    "        train_set.csv\n",
    "        validation_set.csv\n",
    "        validation相关度评估.xlsx\n",
    "```\n",
    "\n",
    "要求实验KNN和NB两种算法对以上给出的数据集进行处理。"
   ]
  },
  {
   "cell_type": "markdown",
   "metadata": {},
   "source": [
    "# 分类\n",
    "\n",
    "## 数据预处理及分析\n",
    "\n",
    "\n",
    "### 数据读取函数实现"
   ]
  },
  {
   "cell_type": "code",
   "execution_count": 6,
   "metadata": {
    "ExecuteTime": {
     "end_time": "2017-10-17T22:39:46.106112Z",
     "start_time": "2017-10-17T22:39:46.081095Z"
    },
    "collapsed": true
   },
   "outputs": [],
   "source": [
    "import pandas as pd\n",
    "\n",
    "def loadDataSet(filePath):\n",
    "    '''读取数据集函数'''\n",
    "    #读取CSV文件\n",
    "    df = pd.read_csv(filePath)\n",
    "    #得到数据集标签\n",
    "    label = list(df['label'].values)  \n",
    "    #得到数据集\n",
    "    dataSet = [i.strip().split(' ') for i in list(df['Words (split by space)'].values)]\n",
    "    #得到数据集的所有不重复的词\n",
    "    allWords = list(set([j for i in dataSet for j in i]))\n",
    "    \n",
    "    ############输出数据集相关信息###########################\n",
    "    #输出第一行数据\n",
    "    print('【one line\\'s data preview】:')\n",
    "    display(df.head(1))\n",
    "    #输出所有label的分布\n",
    "    print('【count of all kind of labels】:\\n')\n",
    "    print(df['label'].value_counts())\n",
    "    #输出所有的词的个数\n",
    "    print('【number of all words】: ', len(allWords))\n",
    "    print('【number of texts】: ', len(df))\n",
    "    ############输出数据集相关信息###########################\n",
    "    \n",
    "    return dataSet, label, allWords"
   ]
  },
  {
   "cell_type": "markdown",
   "metadata": {},
   "source": [
    "### 读取训练集、验证集、测试集"
   ]
  },
  {
   "cell_type": "code",
   "execution_count": 7,
   "metadata": {
    "ExecuteTime": {
     "end_time": "2017-10-17T22:39:46.288181Z",
     "start_time": "2017-10-17T22:39:46.110114Z"
    }
   },
   "outputs": [
    {
     "name": "stdout",
     "output_type": "stream",
     "text": [
      "【one line's data preview】:\n"
     ]
    },
    {
     "data": {
      "text/html": [
       "<div>\n",
       "<table border=\"1\" class=\"dataframe\">\n",
       "  <thead>\n",
       "    <tr style=\"text-align: right;\">\n",
       "      <th></th>\n",
       "      <th>Words (split by space)</th>\n",
       "      <th>label</th>\n",
       "    </tr>\n",
       "  </thead>\n",
       "  <tbody>\n",
       "    <tr>\n",
       "      <th>0</th>\n",
       "      <td>europe retain trophy with big win</td>\n",
       "      <td>joy</td>\n",
       "    </tr>\n",
       "  </tbody>\n",
       "</table>\n",
       "</div>"
      ],
      "text/plain": [
       "              Words (split by space) label\n",
       "0  europe retain trophy with big win   joy"
      ]
     },
     "metadata": {},
     "output_type": "display_data"
    },
    {
     "name": "stdout",
     "output_type": "stream",
     "text": [
      "【count of all kind of labels】:\n",
      "\n",
      "joy         222\n",
      "sad         132\n",
      "surprise    113\n",
      "fear         95\n",
      "anger        41\n",
      "disgust      20\n",
      "Name: label, dtype: int64\n",
      "【number of all words】:  2087\n",
      "【number of texts】:  623\n"
     ]
    }
   ],
   "source": [
    "dataPath = '.\\\\data\\\\classification_dataset\\\\'\n",
    "trainSet, trainSet_label, allWords_trainSet = loadDataSet(dataPath+'train_set.csv')"
   ]
  },
  {
   "cell_type": "code",
   "execution_count": 162,
   "metadata": {
    "ExecuteTime": {
     "end_time": "2017-10-18T10:47:48.273599Z",
     "start_time": "2017-10-18T10:47:48.233598Z"
    }
   },
   "outputs": [
    {
     "name": "stdout",
     "output_type": "stream",
     "text": [
      "【one line's data preview】:\n"
     ]
    },
    {
     "data": {
      "text/html": [
       "<div>\n",
       "<table border=\"1\" class=\"dataframe\">\n",
       "  <thead>\n",
       "    <tr style=\"text-align: right;\">\n",
       "      <th></th>\n",
       "      <th>Words (split by space)</th>\n",
       "      <th>label</th>\n",
       "    </tr>\n",
       "  </thead>\n",
       "  <tbody>\n",
       "    <tr>\n",
       "      <th>0</th>\n",
       "      <td>marijuana helps ease hiv nerve pain study says</td>\n",
       "      <td>surprise</td>\n",
       "    </tr>\n",
       "  </tbody>\n",
       "</table>\n",
       "</div>"
      ],
      "text/plain": [
       "                           Words (split by space)     label\n",
       "0  marijuana helps ease hiv nerve pain study says  surprise"
      ]
     },
     "metadata": {},
     "output_type": "display_data"
    },
    {
     "name": "stdout",
     "output_type": "stream",
     "text": [
      "【count of all kind of labels】:\n",
      "\n",
      "joy         112\n",
      "sad          65\n",
      "fear         54\n",
      "surprise     46\n",
      "anger        21\n",
      "disgust      13\n",
      "Name: label, dtype: int64\n",
      "【number of all words】:  1235\n",
      "【number of texts】:  311\n"
     ]
    }
   ],
   "source": [
    "validatePath = dataPath+'validation_set.csv'\n",
    "validateSet, validateSet_label, allWords_validateSet = loadDataSet(validatePath)"
   ]
  },
  {
   "cell_type": "code",
   "execution_count": 9,
   "metadata": {
    "ExecuteTime": {
     "end_time": "2017-10-17T22:39:46.623420Z",
     "start_time": "2017-10-17T22:39:46.417272Z"
    }
   },
   "outputs": [
    {
     "name": "stdout",
     "output_type": "stream",
     "text": [
      "【one line's data preview】:\n"
     ]
    },
    {
     "data": {
      "text/html": [
       "<div>\n",
       "<table border=\"1\" class=\"dataframe\">\n",
       "  <thead>\n",
       "    <tr style=\"text-align: right;\">\n",
       "      <th></th>\n",
       "      <th>textid</th>\n",
       "      <th>Words (split by space)</th>\n",
       "      <th>label</th>\n",
       "    </tr>\n",
       "  </thead>\n",
       "  <tbody>\n",
       "    <tr>\n",
       "      <th>0</th>\n",
       "      <td>1</td>\n",
       "      <td>senator carl krueger thinks ipods can kill you</td>\n",
       "      <td>?</td>\n",
       "    </tr>\n",
       "  </tbody>\n",
       "</table>\n",
       "</div>"
      ],
      "text/plain": [
       "   textid                          Words (split by space) label\n",
       "0       1  senator carl krueger thinks ipods can kill you     ?"
      ]
     },
     "metadata": {},
     "output_type": "display_data"
    },
    {
     "name": "stdout",
     "output_type": "stream",
     "text": [
      "【count of all kind of labels】:\n",
      "\n",
      "?    312\n",
      "Name: label, dtype: int64\n",
      "【number of all words】:  1273\n",
      "【number of texts】:  312\n"
     ]
    }
   ],
   "source": [
    "testSet, _ , allWords_testSet = loadDataSet(dataPath+'test_set.csv')"
   ]
  },
  {
   "cell_type": "markdown",
   "metadata": {},
   "source": [
    "合并三个数据集的所有不重复的词，供后续得到onehot和TF矩阵使用。"
   ]
  },
  {
   "cell_type": "code",
   "execution_count": 10,
   "metadata": {
    "ExecuteTime": {
     "end_time": "2017-10-17T22:39:46.649438Z",
     "start_time": "2017-10-17T22:39:46.627423Z"
    }
   },
   "outputs": [
    {
     "data": {
      "text/plain": [
       "(2722, 2771)"
      ]
     },
     "execution_count": 10,
     "metadata": {},
     "output_type": "execute_result"
    }
   ],
   "source": [
    "allWords_train_validate = list(set(allWords_trainSet).union(allWords_validateSet))\n",
    "allWords_train_test = list(set(allWords_trainSet).union(allWords_testSet))\n",
    "len(allWords_train_validate), len(allWords_train_test)"
   ]
  },
  {
   "cell_type": "markdown",
   "metadata": {},
   "source": [
    "## knn分类算法\n",
    "\n",
    "### 得到3个数据集的onehot矩阵\n",
    "\n",
    "这个是上次实验的内容，这里就不再赘述实现思路。"
   ]
  },
  {
   "cell_type": "code",
   "execution_count": 77,
   "metadata": {
    "ExecuteTime": {
     "end_time": "2017-10-18T08:40:19.209110Z",
     "start_time": "2017-10-18T08:40:16.993450Z"
    },
    "collapsed": true
   },
   "outputs": [],
   "source": [
    "def getOneHot(dataSet, allWords):\n",
    "    '''得到输入数据集的one-hot矩阵'''\n",
    "    oneHot=[]\n",
    "    for index, doc in enumerate(dataSet):\n",
    "        oneHot.append([])\n",
    "        for word in allWords:\n",
    "            if word in doc:\n",
    "                oneHot[index].append(1)\n",
    "            else: \n",
    "                oneHot[index].append(0)\n",
    "    return oneHot\n",
    "\n",
    "#得到训练集、验证集、测试集的onehot矩阵\n",
    "oneHot_trainSet = getOneHot(trainSet, allWords_train_validate)\n",
    "oneHot_validateSet = getOneHot(validateSet, allWords_train_validate)\n",
    "\n",
    "oneHot_trainSet_ = getOneHot(trainSet, allWords_train_test)\n",
    "oneHot_testSet = getOneHot(testSet, allWords_train_test)"
   ]
  },
  {
   "cell_type": "markdown",
   "metadata": {},
   "source": [
    "### 得到3个数据集的TF矩阵\n",
    "\n",
    "这个同样是上次实验的内容，这里就不再赘述实现思路。"
   ]
  },
  {
   "cell_type": "code",
   "execution_count": 78,
   "metadata": {
    "ExecuteTime": {
     "end_time": "2017-10-18T08:41:02.426072Z",
     "start_time": "2017-10-18T08:40:59.921383Z"
    },
    "collapsed": true
   },
   "outputs": [],
   "source": [
    "from collections import Counter\n",
    "\n",
    "def getTF(dataSet, allWords):\n",
    "    '''得到输入数据集的TF矩阵'''\n",
    "    TF=[]\n",
    "    for index, doc in enumerate(dataSet):\n",
    "        TF.append([])\n",
    "        wordCounter = Counter(doc)\n",
    "        for word in allWords:\n",
    "            TF[index].append(wordCounter.get(word,0)/len(doc))\n",
    "    return TF\n",
    "\n",
    "#得到训练集、验证集、测试集的TF矩阵\n",
    "TF_trainSet = getTF(trainSet, allWords_train_validate)\n",
    "TF_validateSet = getTF(validateSet, allWords_train_validate)\n",
    "\n",
    "TF_trainSet_ = getTF(trainSet, allWords_train_test)\n",
    "TF_testSet = getTF(testSet, allWords_train_test)"
   ]
  },
  {
   "cell_type": "markdown",
   "metadata": {},
   "source": [
    "### 分类函数实现及简单测试\n",
    "\n",
    "伪代码：\n",
    "\n",
    "```\n",
    "knn_classify(dataSet, labels, k, inputVector):\n",
    "\n",
    "输入数据：\n",
    "------------\n",
    "dataSet - 训练集\n",
    "labels - 训练集标签\n",
    "k - 要指定的k值\n",
    "inputVector - 输入要分类的向量\n",
    "------------\n",
    "\n",
    "输出数据：\n",
    "------------\n",
    "对输入向量的分类类别\n",
    "------------\n",
    "\n",
    "实现思路（默认使用欧氏距离）：\n",
    "------------\n",
    "1.到输入向量与数据集的差值的平方\n",
    "2.计算每一行上元素的和并开方，得到距离向量\n",
    "3.得到K个近邻的下标\n",
    "4.返回分类结果\n",
    "------------\n",
    "```"
   ]
  },
  {
   "cell_type": "code",
   "execution_count": 353,
   "metadata": {
    "ExecuteTime": {
     "end_time": "2017-10-18T22:43:53.937040Z",
     "start_time": "2017-10-18T22:43:53.912513Z"
    }
   },
   "outputs": [
    {
     "name": "stdout",
     "output_type": "stream",
     "text": [
      "输入向量与训练集每个向量的距离依次为： [1.4142135623730951, 1.0, 2.0]\n"
     ]
    },
    {
     "data": {
      "text/plain": [
       "'negative'"
      ]
     },
     "execution_count": 353,
     "metadata": {},
     "output_type": "execute_result"
    }
   ],
   "source": [
    "import numpy as np\n",
    "from collections import Counter\n",
    "\n",
    "def knn_classify(dataSet, labels, k, inputVector):\n",
    "    '''使用knn对输入的向量进行分类，使用欧式距离'''\n",
    "    #得到输入向量与数据集的差值的平方\n",
    "    diffMat = (np.array(dataSet) - np.array(inputVector))**2\n",
    "    #计算每一行上元素的和并开方，得到距离向量\n",
    "    distances = np.sqrt(diffMat.sum(axis=1))\n",
    "    #print(\"输入向量与训练集每个向量的距离依次为：\",list(distances))\n",
    "    #得到 K个近邻的下标\n",
    "    kNeighborsIndex  = distances.argpartition(k-1)[0:k]\n",
    "    #返回分类结果\n",
    "    return Counter(np.array(labels)[kNeighborsIndex]).most_common(1)[0][0]\n",
    "\n",
    "##############测试程序#######################\n",
    "knn_classify([[1,1,0,0],\n",
    "              [0,1,1,1],\n",
    "              [1,0,0,1]],['positive','negative','positive'], 1, [0,1,1,0])\n",
    "##############测试程序#######################"
   ]
  },
  {
   "cell_type": "markdown",
   "metadata": {},
   "source": [
    "这里计算了输入向量与训练集3个向量的距离，k取值为1，因此选择与其相近（距离为1）的一个向量的标签，因此输入向量的分类标签为negative。符合预期，该函数实现正常。"
   ]
  },
  {
   "cell_type": "markdown",
   "metadata": {},
   "source": [
    "### 使用验证集调参\n",
    "#### 使用onehot矩阵"
   ]
  },
  {
   "cell_type": "code",
   "execution_count": 35,
   "metadata": {
    "ExecuteTime": {
     "end_time": "2017-10-13T16:39:14.409360Z",
     "start_time": "2017-10-13T15:34:57.939901Z"
    },
    "scrolled": true
   },
   "outputs": [
    {
     "name": "stdout",
     "output_type": "stream",
     "text": [
      "k =  1 : accuracy: 37.29904%\n",
      "k =  2 : accuracy: 26.04502%\n",
      "k =  3 : accuracy: 37.62058%\n",
      "k =  4 : accuracy: 32.47588%\n",
      "k =  5 : accuracy: 32.15434%\n",
      "k =  6 : accuracy: 32.47588%\n",
      "k =  7 : accuracy: 36.33441%\n",
      "k =  8 : accuracy: 36.01286%\n",
      "k =  9 : accuracy: 37.29904%\n",
      "k = 10 : accuracy: 39.87138%\n",
      "k = 11 : accuracy: 39.54984%\n",
      "k = 12 : accuracy: 39.22830%\n",
      "k = 13 : accuracy: 40.83601%\n",
      "k = 14 : accuracy: 42.44373%\n",
      "k = 15 : accuracy: 39.54984%\n",
      "k = 16 : accuracy: 41.15756%\n",
      "k = 17 : accuracy: 40.51447%\n",
      "k = 18 : accuracy: 38.58521%\n",
      "k = 19 : accuracy: 38.26367%\n",
      "k = 20 : accuracy: 38.90675%\n",
      "k = 21 : accuracy: 38.58521%\n",
      "k = 22 : accuracy: 38.26367%\n",
      "k = 23 : accuracy: 37.94212%\n",
      "k = 24 : accuracy: 37.94212%\n",
      "k = 25 : accuracy: 37.94212%\n",
      "k = 26 : accuracy: 37.62058%\n",
      "k = 27 : accuracy: 36.97749%\n",
      "k = 28 : accuracy: 37.29904%\n",
      "k = 29 : accuracy: 37.94212%\n",
      "k = 30 : accuracy: 37.29904%\n",
      "k = 31 : accuracy: 36.65595%\n",
      "k = 32 : accuracy: 37.29904%\n",
      "k = 33 : accuracy: 37.94212%\n",
      "k = 34 : accuracy: 38.58521%\n",
      "k = 35 : accuracy: 38.26367%\n",
      "k = 36 : accuracy: 38.90675%\n",
      "k = 37 : accuracy: 38.26367%\n",
      "k = 38 : accuracy: 38.90675%\n",
      "k = 39 : accuracy: 38.90675%\n",
      "k = 40 : accuracy: 39.22830%\n",
      "k = 41 : accuracy: 38.58521%\n",
      "k = 42 : accuracy: 38.58521%\n",
      "k = 43 : accuracy: 38.58521%\n",
      "k = 44 : accuracy: 38.26367%\n",
      "k = 45 : accuracy: 37.62058%\n",
      "k = 46 : accuracy: 37.62058%\n",
      "k = 47 : accuracy: 37.94212%\n",
      "k = 48 : accuracy: 37.29904%\n",
      "k = 49 : accuracy: 37.29904%\n"
     ]
    }
   ],
   "source": [
    "def run_knn_classify1(k):\n",
    "    '''使用验证集得到分类准确率，进行调参'''\n",
    "    hitNum = 0\n",
    "    for index, wordVector in enumerate(oneHot_validateSet):\n",
    "        ans = knn_classify(oneHot_trainSet, trainSet_label, k, wordVector)\n",
    "        if  ans == validateSet_label[index]:\n",
    "            hitNum +=1\n",
    "    print(\"k = %2d : accuracy: %.5f%%\" % (k, 100*hitNum/len(validateSet)))\n",
    "    \n",
    "for k in range(1,50):\n",
    "    run_knn_classify1(k)"
   ]
  },
  {
   "cell_type": "markdown",
   "metadata": {},
   "source": [
    "#### 使用TF矩阵"
   ]
  },
  {
   "cell_type": "code",
   "execution_count": 36,
   "metadata": {
    "ExecuteTime": {
     "end_time": "2017-10-13T17:01:10.011344Z",
     "start_time": "2017-10-13T16:41:11.519457Z"
    },
    "scrolled": true
   },
   "outputs": [
    {
     "name": "stdout",
     "output_type": "stream",
     "text": [
      "k =  1 : accuracy: 32.47588%\n",
      "k =  2 : accuracy: 25.72347%\n",
      "k =  3 : accuracy: 24.75884%\n",
      "k =  4 : accuracy: 25.08039%\n",
      "k =  5 : accuracy: 23.47267%\n",
      "k =  6 : accuracy: 25.40193%\n",
      "k =  7 : accuracy: 26.36656%\n",
      "k =  8 : accuracy: 27.97428%\n",
      "k =  9 : accuracy: 27.97428%\n",
      "k = 10 : accuracy: 25.72347%\n",
      "k = 11 : accuracy: 26.36656%\n",
      "k = 12 : accuracy: 26.68810%\n",
      "k = 13 : accuracy: 29.26045%\n",
      "k = 14 : accuracy: 29.58199%\n",
      "k = 15 : accuracy: 30.54662%\n",
      "k = 16 : accuracy: 30.86817%\n",
      "k = 17 : accuracy: 28.29582%\n",
      "k = 18 : accuracy: 28.29582%\n",
      "k = 19 : accuracy: 26.36656%\n",
      "k = 20 : accuracy: 27.97428%\n",
      "k = 21 : accuracy: 27.33119%\n",
      "k = 22 : accuracy: 28.29582%\n",
      "k = 23 : accuracy: 28.29582%\n",
      "k = 24 : accuracy: 27.97428%\n",
      "k = 25 : accuracy: 27.97428%\n",
      "k = 26 : accuracy: 28.61736%\n",
      "k = 27 : accuracy: 29.26045%\n",
      "k = 28 : accuracy: 27.65273%\n",
      "k = 29 : accuracy: 28.29582%\n",
      "k = 30 : accuracy: 28.29582%\n",
      "k = 31 : accuracy: 27.65273%\n",
      "k = 32 : accuracy: 27.00965%\n",
      "k = 33 : accuracy: 27.00965%\n",
      "k = 34 : accuracy: 27.00965%\n",
      "k = 35 : accuracy: 27.65273%\n",
      "k = 36 : accuracy: 26.36656%\n",
      "k = 37 : accuracy: 26.68810%\n",
      "k = 38 : accuracy: 29.26045%\n",
      "k = 39 : accuracy: 28.61736%\n",
      "k = 40 : accuracy: 27.97428%\n",
      "k = 41 : accuracy: 27.65273%\n",
      "k = 42 : accuracy: 27.65273%\n",
      "k = 43 : accuracy: 28.93891%\n",
      "k = 44 : accuracy: 28.93891%\n",
      "k = 45 : accuracy: 29.58199%\n",
      "k = 46 : accuracy: 30.22508%\n",
      "k = 47 : accuracy: 29.26045%\n",
      "k = 48 : accuracy: 30.22508%\n",
      "k = 49 : accuracy: 28.93891%\n"
     ]
    }
   ],
   "source": [
    "def run_knn_classify2(k):\n",
    "    '''使用验证集得到分类准确率，进行调参'''\n",
    "    hitNum = 0\n",
    "    for index, wordVector in enumerate(TF_validateSet):\n",
    "        ans = knn_classify(TF_trainSet, trainSet_label, k, wordVector)\n",
    "        if  ans == validateSet_label[index]:\n",
    "            hitNum +=1\n",
    "    print(\"k = %2d : accuracy: %.5f%%\" % (k, 100*hitNum/len(validateSet)))\n",
    "    \n",
    "for k in range(1,50):\n",
    "    run_knn_classify2(k)"
   ]
  },
  {
   "cell_type": "markdown",
   "metadata": {},
   "source": [
    "### 对测试集进行分类\n",
    "#### 使用onehot矩阵"
   ]
  },
  {
   "cell_type": "code",
   "execution_count": 358,
   "metadata": {
    "ExecuteTime": {
     "end_time": "2017-10-18T22:46:53.758053Z",
     "start_time": "2017-10-18T22:46:12.760252Z"
    }
   },
   "outputs": [],
   "source": [
    "outputFileName = \"15352220_linzecheng_KNN_classification_onehot.csv\"\n",
    "bestK = 14\n",
    "textid_and_label = []\n",
    "for index, wordVector in enumerate(oneHot_testSet):\n",
    "        ans = knn_classify(oneHot_trainSet_, trainSet_label, bestK, wordVector)\n",
    "        textid_and_label.append((index+1, ans))\n",
    "        \n",
    "res = pd.DataFrame(textid_and_label, columns=['textid','label'])\n",
    "res.to_csv(outputFileName, index=False)"
   ]
  },
  {
   "cell_type": "code",
   "execution_count": 359,
   "metadata": {
    "ExecuteTime": {
     "end_time": "2017-10-18T22:46:53.777567Z",
     "start_time": "2017-10-18T22:46:53.760562Z"
    }
   },
   "outputs": [
    {
     "data": {
      "text/plain": [
       "joy         233\n",
       "fear         50\n",
       "sad          27\n",
       "surprise      2\n",
       "Name: label, dtype: int64"
      ]
     },
     "execution_count": 359,
     "metadata": {},
     "output_type": "execute_result"
    }
   ],
   "source": [
    "res['label'].value_counts() #查看一下结果的分布"
   ]
  },
  {
   "cell_type": "markdown",
   "metadata": {},
   "source": [
    "#### 使用TF矩阵"
   ]
  },
  {
   "cell_type": "code",
   "execution_count": 46,
   "metadata": {
    "ExecuteTime": {
     "end_time": "2017-10-13T18:17:49.616292Z",
     "start_time": "2017-10-13T18:17:25.187665Z"
    },
    "collapsed": true
   },
   "outputs": [],
   "source": [
    "outputFileName = \"15352220_linzecheng_KNN_classification_TF.csv\"\n",
    "bestK = 16\n",
    "textid_and_label = []\n",
    "for index, wordVector in enumerate(TF_testSet):\n",
    "        ans = knn_classify(TF_trainSet_, trainSet_label, bestK, wordVector)\n",
    "        textid_and_label.append((index+1, ans))\n",
    "        \n",
    "res2 = pd.DataFrame(textid_and_label, columns=['textid','label'])\n",
    "res2.to_csv(outputFileName, index=False)"
   ]
  },
  {
   "cell_type": "code",
   "execution_count": 47,
   "metadata": {
    "ExecuteTime": {
     "end_time": "2017-10-13T18:17:49.640106Z",
     "start_time": "2017-10-13T18:17:49.620291Z"
    }
   },
   "outputs": [
    {
     "data": {
      "text/plain": [
       "surprise    186\n",
       "joy          49\n",
       "sad          32\n",
       "fear         23\n",
       "anger        22\n",
       "Name: label, dtype: int64"
      ]
     },
     "execution_count": 47,
     "metadata": {},
     "output_type": "execute_result"
    }
   ],
   "source": [
    "res2['label'].value_counts() #查看一下结果的分布"
   ]
  },
  {
   "cell_type": "markdown",
   "metadata": {},
   "source": [
    "## NB分类算法\n",
    "\n",
    "### 实验原理\n",
    "\n",
    "NB分类的核心就是使用贝叶斯公式。即是给定一个data，其最优的分类标签：\n",
    "\n",
    "$bestClass=argmax_{class} P(class|data)=argmax_{class}P(data|class)*P(class)$\n",
    "\n",
    "其中，$P(class)$可根据给出的训练集中分类为class的样本个数处于总样本个数得到。\n",
    "\n",
    "而$P(data|class)$则是重点，以本次实验使用的文本为例，一个data可能包含许多个词，比如：\n",
    "\n",
    "$data =(word_1, word_2, word_3,...,word_n)$\n",
    "\n",
    "那么我们即是要求：$P(data|class)=P(word_1, word_2, word_3,...,word_n|class)$\n",
    "\n",
    "那么问题就来了，如果硬是要求这个联合概率，一是要找到能算出这样的概率的样本数很少或几乎没有，二是可能引入大量的0，分类效果就很不好了。\n",
    "\n",
    "于是，NB就假设data中所有属性之间相互独立，这样一来就有：\n",
    "\n",
    "$P(data|class)=\\prod_{i=1}^{n}P(word_i|class)$\n",
    "\n",
    "那么如何计算$P(word_i|class)$呢？\n",
    "\n",
    "这里就要引入多项式模型求解啦，该模型计算公式是这样的：\n",
    "\n",
    "```\n",
    "P(word_i|class) = 分类为class的所有文档中word_i出现的次数/分类为class的所有文档的次数和\n",
    "\n",
    "[注意这里次数和是包括重复的单词的，下同]\n",
    "```\n",
    "\n",
    "但是到了这一步还是不够，因此可能我们的训练集给的不够理想，分类为class的所有文档中都没有词$word_i$的出现，那么上面的这个概率就为0了，然而这是很不实际的一种做法，实际为class的文档本来应该可以包含$word_i$的，但是只是训练集没有包含这样的样本而已。\n",
    "\n",
    "而如果硬是要用这条公式进行计算的话，那么可能会有大量的0出现。\n",
    "\n",
    "这时就需要进行平滑操作来解决这个bug了。引入平滑操作的新公式为：\n",
    "\n",
    "```\n",
    "P(word_i|class) = (分类为class的所有文档中word_i出现的次数+lambda)/\n",
    "                  (分类为class的所有文档的次数和+lambda*所有文档中不重复词的词数)\n",
    "```\n",
    "\n",
    "\n",
    "而当lambda为1时就称为拉普拉斯平滑。\n",
    "\n",
    "### 得到3个数据集的频次矩阵\n",
    "\n",
    "根据NB分类引入平滑操作的公式，若以分类的标签为行，以所有不重复的词为列，那么矩阵中的元素就是用这条公式求出来的，而由于公式中有涉及到次数计数，所以这里就暂且将该矩阵命名为频次矩阵。"
   ]
  },
  {
   "cell_type": "code",
   "execution_count": 154,
   "metadata": {
    "ExecuteTime": {
     "end_time": "2017-10-18T10:45:27.471152Z",
     "start_time": "2017-10-18T10:45:27.395149Z"
    }
   },
   "outputs": [
    {
     "data": {
      "text/plain": [
       "([['a', 'b'], ['b', 'c']], 3, [['e', 'a'], ['c', 'f']])"
      ]
     },
     "execution_count": 154,
     "metadata": {},
     "output_type": "execute_result"
    },
    {
     "data": {
      "text/plain": [
       "(['e', 'b', 'f', 'c', 'a'], ['good', 'bad'])"
      ]
     },
     "execution_count": 154,
     "metadata": {},
     "output_type": "execute_result"
    },
    {
     "data": {
      "text/plain": [
       "({'bad': [0.2, 0.4, 0.2, 0.4, 0.2], 'good': [0.2, 0.4, 0.2, 0.2, 0.4]},\n",
       " ['good', 'bad'],\n",
       " {'bad': 0.5, 'good': 0.5})"
      ]
     },
     "execution_count": 154,
     "metadata": {},
     "output_type": "execute_result"
    }
   ],
   "source": [
    "import numpy as np\n",
    "\n",
    "def getFreq(trainSet, trainSet_label, allWordsNum_train,\n",
    "            allWords_train_other, lambda_):\n",
    "    '''得到输入训练集的频次矩阵、所有可能的标签、对应的标签的概率'''\n",
    "    def calcProbs(numerator, denominator):\n",
    "        '''根据输入的分子和分母计算先验概率值'''\n",
    "        return (numerator+lambda_) / (denominator+lambda_*allWordsNum_train)\n",
    "    #先将数据类型转为numpy.array\n",
    "    trainSet = np.array(trainSet)\n",
    "    trainSet_label = np.array(trainSet_label)\n",
    "    \n",
    "    #得到所有可能的标签\n",
    "    allLabels = list(set(trainSet_label))\n",
    "    freqMat = dict() #要返回的频次矩阵\n",
    "    labelPros = dict() #要返回的标签的概率\n",
    "    #遍历所有标签\n",
    "    for label in allLabels:\n",
    "        #找到所有标签为 label 的 documents\n",
    "        allDocs_with_label = trainSet[np.argwhere(trainSet_label==label)[:,0]]\n",
    "        #计算每个 label 出现的概率\n",
    "        labelPros[label] = len(allDocs_with_label)/len(trainSet)\n",
    "        #得到上面的所有 documents 中的所有词\n",
    "        allWords_with_label = [j for i in list(allDocs_with_label) for j in i]\n",
    "        #词频统计\n",
    "        wordCounter = Counter(allWords_with_label)\n",
    "        #预分配内存\n",
    "        freqMat[label] = [0]*len(allWords_train_other)\n",
    "        #求先验概率时的分母\n",
    "        denominator_ = len(allWords_with_label)\n",
    "        #遍历所有词，计算在标签为label的前提下词出现的概率\n",
    "        for index, word in enumerate(allWords_train_other):\n",
    "            freqMat[label][index] = calcProbs(wordCounter.get(word,0), denominator_)\n",
    "            \n",
    "    return freqMat, allLabels, labelPros\n",
    "\n",
    "####################测试程序#################\n",
    "a = [['a','b'], ['b','c']]              #trainSet\n",
    "b = len(set([j for i in a for j in i])) #allWordsNum_train\n",
    "c = [['e','a'], ['c','f']]              #otherSet\n",
    "                                        #allWords_train_other\n",
    "d = list(set([j for i in a for j in i]).union([j for i in c for j in i]))\n",
    "e = ['good', 'bad']                     #trainSet_label\n",
    "a, b, c\n",
    "d, e\n",
    "getFreq(a, e, b, d, lambda_=1)          #使用拉普拉斯平滑\n",
    "####################测试程序#################"
   ]
  },
  {
   "cell_type": "markdown",
   "metadata": {},
   "source": [
    "这里给出了一个例子测试该函数的正确性：\n",
    "\n",
    "给定的训练集`a=[['a', 'b'], ['b', 'c']]`, 对应的lable为`e=['good', 'bad']`, b为a中的所有不重复词的长度3。\n",
    "\n",
    "给定测试集（或验证集）`c=[['e','a'], ['c','f']]`, 可得两个数据集中所有不重复的词的向量为：\n",
    "\n",
    "`d=['e', 'b', 'f', 'c', 'a']`\n",
    "\n",
    "因此，选择拉普拉斯平滑的多项式模型计算，对应的频次矩阵为：\n",
    "\n",
    "```\n",
    "{'bad': [(0+1)/(2+3), (1+1)/(2+3), (0+1)/(2+3), (1+1)/(2+3), (0+1)/(2+3)],\n",
    "\n",
    "'good': [ [(0+1)/(2+3), (1+1)/(2+3), (0+1)/(2+3), (0+1)/(2+3), (1+1)/(2+3)]}\n",
    "```\n",
    "\n",
    "即为：\n",
    "```\n",
    "         'e'  'b'  'f'  'c'  'a'\n",
    "{'bad': [0.2, 0.4, 0.2, 0.4, 0.2],\n",
    "'good': [0.2, 0.4, 0.2, 0.2, 0.4]}\n",
    "```\n",
    "\n",
    "而根据训练集得到的每个label的概率P(label)为:`P(good)=1/2=0.5=P(bad)`\n",
    "\n",
    "可见，输出结果正确，该函数功能正常。\n",
    "\n",
    "对于需要预测分类的数据集：`c=[['e','a'], ['c','f']]`, 有：\n",
    "\n",
    "```\n",
    "P('good'|['e','a']) = P('e'|'good') * P('a'|'good') * P('good')\n",
    "                    = 0.2 * 0.4 * 0.5 = 0.04\n",
    "                    \n",
    "P('bad'|['e','a']) = P('e'|'bad') * P('a'|'bad') * P('bad')\n",
    "                    = 0.2 * 0.2 * 0.5 = 0.02\n",
    "\n",
    "P('good'|['c','f']) = P('c'|'good') * P('f'|'good') * P('good')\n",
    "                    = 0.2 * 0.2 * 0.5 = 0.02\n",
    "                    \n",
    "P('bad'|['c','f'] = P('c'|'bad') * P('f'|'bad') * P('bad')\n",
    "                    = 0.4 * 0.2 * 0.5 = 0.04 \n",
    "```\n",
    "\n",
    "因此，`['e','a']`的分类为`'good'`；而`['c','f']`的分类为`'bad'`。"
   ]
  },
  {
   "cell_type": "markdown",
   "metadata": {},
   "source": [
    "### 分类函数实现及简单测试\n",
    "\n",
    "伪代码：\n",
    "\n",
    "```\n",
    "NB_classify(trainSet, trainSet_label, allWordsNum_train, allWords_train_other,\n",
    "                otherSet, lambda_):\n",
    "\n",
    "输入数据：\n",
    "------------\n",
    "trainSet - 训练集\n",
    "trainSet_label - 训练集标签\n",
    "allWordsNum_train - 训练集中所有不重复词的个数\n",
    "allWords_train_other - 训练集和验证集（或测试集）中的所有不重复词的列表\n",
    "otherSet - 验证集（或测试集）\n",
    "lambda_ - lambda\n",
    "------------\n",
    "\n",
    "输出数据：\n",
    "------------\n",
    "输入数据集的分类类别\n",
    "------------\n",
    "\n",
    "实现思路：\n",
    "------------\n",
    "1.得到频次矩阵、所有可能的标签、标签概率\n",
    "2.对于输入数据集的每一行数据：\n",
    "2.1.得到当前的一行数据中词在所有词向量的下标\n",
    "2.1.1.对于所有可能的标签类别\n",
    "2.1.1.1.得到对应标签的所有词的概率列表，并将所有元素相乘并保存\n",
    "2.2.得到概率值最大时对应的标签值\n",
    "3.返回分类结果\n",
    "------------\n",
    "```"
   ]
  },
  {
   "cell_type": "code",
   "execution_count": 160,
   "metadata": {
    "ExecuteTime": {
     "end_time": "2017-10-18T10:47:21.593990Z",
     "start_time": "2017-10-18T10:47:21.561987Z"
    }
   },
   "outputs": [
    {
     "data": {
      "text/plain": [
       "['good', 'bad']"
      ]
     },
     "execution_count": 160,
     "metadata": {},
     "output_type": "execute_result"
    }
   ],
   "source": [
    "from functools import reduce\n",
    "\n",
    "def NB_classify(trainSet, trainSet_label, allWordsNum_train, allWords_train_other,\n",
    "                otherSet, lambda_):\n",
    "    #得到频次矩阵、所有可能的标签、标签概率\n",
    "    freqMat_, allLabels_, labelPros_ = getFreq(trainSet, trainSet_label, \n",
    "                    allWordsNum_train,allWords_train_other, lambda_=lambda_)\n",
    "    ans = [] #存储每行数据对应的最终预测分类\n",
    "    allWords_ = np.array(allWords_train_other)\n",
    "    ####print(\"所有词：\", allWords_)\n",
    "    for data in otherSet:\n",
    "        #得到当前的一行数据中词在所有词向量allWords_的下标\n",
    "        matchIndex = np.array([np.argwhere(allWords_ == word)[0][0] \n",
    "                                                    for word in data])\n",
    "        temp = []\n",
    "        ####print(\"当前测试文本：\", data)\n",
    "        ####print(\"在所有词中下标：\", matchIndex)\n",
    "        for label in allLabels_:\n",
    "            #得到对应label的所有词的概率列表\n",
    "            probs = np.array(freqMat_[label])\n",
    "            #得到基于label的概率值\n",
    "            p = reduce(lambda x,y:x*y, probs[matchIndex]) * labelPros_[label]\n",
    "            #保存概率结果和对应的label值\n",
    "            temp.append((p, label))\n",
    "        #得到概率值最大时对应的label值\n",
    "        ####print(\"分为不同类的概率：\\n\", temp)\n",
    "        ans.append(max(temp)[1])\n",
    "    #返回结果\n",
    "    return ans\n",
    "\n",
    "NB_classify(a, e, b, d, c, lambda_=1) #使用拉普拉斯平滑"
   ]
  },
  {
   "cell_type": "code",
   "execution_count": 157,
   "metadata": {
    "ExecuteTime": {
     "end_time": "2017-10-18T10:46:47.104983Z",
     "start_time": "2017-10-18T10:46:47.088978Z"
    }
   },
   "outputs": [
    {
     "name": "stdout",
     "output_type": "stream",
     "text": [
      "所有词： ['e' 'b' 'f' 'c' 'a']\n",
      "当前测试文本： ['e', 'a']\n",
      "在所有词中下标： [0 4]\n",
      "分为不同类的概率：\n",
      " [(0.040000000000000008, 'good'), (0.020000000000000004, 'bad')]\n",
      "当前测试文本： ['c', 'f']\n",
      "在所有词中下标： [3 2]\n",
      "分为不同类的概率：\n",
      " [(0.020000000000000004, 'good'), (0.040000000000000008, 'bad')]\n"
     ]
    },
    {
     "data": {
      "text/plain": [
       "['good', 'bad']"
      ]
     },
     "execution_count": 157,
     "metadata": {},
     "output_type": "execute_result"
    }
   ],
   "source": [
    "####################测试程序#################\n",
    "NB_classify(a, e, b, d, c, lambda_=1) #使用拉普拉斯平滑\n",
    "####################测试程序#################"
   ]
  },
  {
   "cell_type": "markdown",
   "metadata": {},
   "source": [
    "这里输出表明`['e','a']`的分类为`'good'`；而`['c','f']`的分类为`'bad'`，与预期想符合。"
   ]
  },
  {
   "cell_type": "markdown",
   "metadata": {},
   "source": [
    "### 使用验证集调参\n",
    "\n",
    "这里需要调参的地方就是：平滑系数 $\\lambda$ 的选择了。"
   ]
  },
  {
   "cell_type": "code",
   "execution_count": 212,
   "metadata": {
    "ExecuteTime": {
     "end_time": "2017-10-18T11:28:32.381250Z",
     "start_time": "2017-10-18T11:27:59.119183Z"
    },
    "scrolled": false
   },
   "outputs": [
    {
     "name": "stdout",
     "output_type": "stream",
     "text": [
      "max accuracy is 45.65916% when lambda is 1.20000\n"
     ]
    }
   ],
   "source": [
    "def run_NB_classify(lambda_):\n",
    "    '''使用验证集得到分类准确率，进行调参''' \n",
    "    #调用 NB 分类函数\n",
    "    predictLabel = NB_classify(trainSet, trainSet_label, len(allWords_trainSet),\n",
    "                               allWords_train_validate, validateSet, lambda_)\n",
    "    predictLabel = np.array(predictLabel)\n",
    "    validateSet_label_ = np.array(validateSet_label)\n",
    "    hitRate = len(predictLabel[predictLabel==validateSet_label_])/len(validateSet)\n",
    "    #print(\"lambda = %.5f : accuracy: %.5f%%\" % (lambda_, 100*hitRate))\n",
    "    return hitRate\n",
    "    \n",
    "#保存最高的准确率和对应的lambda\n",
    "maxHitRate, bestLambda = 0, 0\n",
    "testRange =  np.arange(0,3.1,0.05) #测试lambda的范围\n",
    "hitRates = np.zeros((1, len(testRange))).flatten()\n",
    "\n",
    "for index, lambda_ in enumerate(testRange):\n",
    "    hitRate = run_NB_classify(lambda_) * 100\n",
    "    hitRates[index] = hitRate\n",
    "    if hitRate > maxHitRate:\n",
    "        maxHitRate = hitRate\n",
    "        bestLambda = lambda_\n",
    "\n",
    "print('max accuracy is %.5f%% when lambda is %.5f' % (maxHitRate, bestLambda))"
   ]
  },
  {
   "cell_type": "markdown",
   "metadata": {},
   "source": [
    "可见，在 $\\lambda$ 为1.2时，分类率最高，为45.65916%。 下面来绘制随着 $\\lambda$ 改变，NB分类准确率的变化图："
   ]
  },
  {
   "cell_type": "code",
   "execution_count": 270,
   "metadata": {
    "ExecuteTime": {
     "end_time": "2017-10-18T18:40:47.707084Z",
     "start_time": "2017-10-18T18:40:47.438985Z"
    },
    "hide_input": false
   },
   "outputs": [
    {
     "data": {
      "image/png": "[encoded data removed]",
      "text/plain": [
       "<matplotlib.figure.Figure at 0x20ad2e231d0>"
      ]
     },
     "metadata": {},
     "output_type": "display_data"
    }
   ],
   "source": [
    "import matplotlib.pyplot as plt\n",
    "\n",
    "_ = plt.plot(testRange, hitRates)\n",
    "_ = plt.xlabel('lambda')\n",
    "_ = plt.ylabel('accuracy(%)')\n",
    "_ = plt.title(\"NB classification accuracy versus lambda\")\n",
    "plt.show()\n",
    "plt.close()"
   ]
  },
  {
   "cell_type": "markdown",
   "metadata": {},
   "source": [
    "### 对测试集进行分类\n",
    "\n",
    "下面使用最优的lambda来对测试集进行分类。"
   ]
  },
  {
   "cell_type": "code",
   "execution_count": 218,
   "metadata": {
    "ExecuteTime": {
     "end_time": "2017-10-18T11:35:53.091666Z",
     "start_time": "2017-10-18T11:35:52.471946Z"
    }
   },
   "outputs": [],
   "source": [
    "outputFileName = \"15352220_linzecheng_NB_classification.csv\"\n",
    "\n",
    "#调用 NB 分类函数\n",
    "predictLabel = NB_classify(trainSet, trainSet_label, len(allWords_trainSet),\n",
    "                           allWords_train_test, testSet, bestLambda)\n",
    "        \n",
    "textid_and_label = [(i, j) for i in np.arange(1,len(testSet)+1) for j in predictLabel]\n",
    "res = pd.DataFrame(textid_and_label, columns=['textid','label'])\n",
    "res.to_csv(outputFileName, index=False)"
   ]
  },
  {
   "cell_type": "markdown",
   "metadata": {},
   "source": [
    "# 回归\n",
    "\n",
    "## 数据预处理及分析\n",
    "\n",
    "### 数据读取函数实现"
   ]
  },
  {
   "cell_type": "code",
   "execution_count": 223,
   "metadata": {
    "ExecuteTime": {
     "end_time": "2017-10-18T16:14:54.949995Z",
     "start_time": "2017-10-18T16:14:54.913971Z"
    },
    "collapsed": true
   },
   "outputs": [],
   "source": [
    "import pandas as pd\n",
    "\n",
    "def loadDataSet2(filePath):\n",
    "    '''读取数据集函数'''\n",
    "    #读取CSV文件\n",
    "    df = pd.read_csv(filePath)\n",
    "    #得到数据集标签\n",
    "    label = dict()\n",
    "    label['anger'] = list(df['anger'].values)  \n",
    "    label['disgust'] = list(df['disgust'].values)  \n",
    "    label['fear'] = list(df['fear'].values)\n",
    "    label['joy'] = list(df['joy'].values)  \n",
    "    label['sad'] = list(df['sad'].values)  \n",
    "    label['surprise'] = list(df['surprise'].values)  \n",
    "    #得到数据集\n",
    "    dataSet = [i.strip().split(' ') for i in list(df['Words (split by space)'].values)]\n",
    "    #得到数据集的所有不重复的词\n",
    "    allWords = list(set([j for i in dataSet for j in i]))\n",
    "    \n",
    "    ############输出数据集相关信息###########################\n",
    "    #输出第一行数据\n",
    "    print('【one line\\'s data preview】:')\n",
    "    display(df.head(1))\n",
    "    #输出所有情感值的一些统计数据\n",
    "    print('【some summary statistics of labels】:')\n",
    "    print(df[['anger','disgust','fear','joy','sad','surprise']].describe())\n",
    "    #输出所有的词的个数\n",
    "    print('【number of all words】: ', len(allWords))\n",
    "    print('【number of texts】: ', len(df))\n",
    "    ############输出数据集相关信息###########################\n",
    "    \n",
    "    return dataSet, label, allWords"
   ]
  },
  {
   "cell_type": "markdown",
   "metadata": {},
   "source": [
    "### 读取训练集、验证集、测试集"
   ]
  },
  {
   "cell_type": "code",
   "execution_count": 224,
   "metadata": {
    "ExecuteTime": {
     "end_time": "2017-10-18T16:14:59.326842Z",
     "start_time": "2017-10-18T16:14:58.991104Z"
    }
   },
   "outputs": [
    {
     "name": "stdout",
     "output_type": "stream",
     "text": [
      "【one line's data preview】:\n"
     ]
    },
    {
     "data": {
      "text/html": [
       "<div>\n",
       "<table border=\"1\" class=\"dataframe\">\n",
       "  <thead>\n",
       "    <tr style=\"text-align: right;\">\n",
       "      <th></th>\n",
       "      <th>Words (split by space)</th>\n",
       "      <th>anger</th>\n",
       "      <th>disgust</th>\n",
       "      <th>fear</th>\n",
       "      <th>joy</th>\n",
       "      <th>sad</th>\n",
       "      <th>surprise</th>\n",
       "    </tr>\n",
       "  </thead>\n",
       "  <tbody>\n",
       "    <tr>\n",
       "      <th>0</th>\n",
       "      <td>europe retain trophy with big win</td>\n",
       "      <td>0.0</td>\n",
       "      <td>0.0</td>\n",
       "      <td>0.0</td>\n",
       "      <td>0.8721</td>\n",
       "      <td>0.0</td>\n",
       "      <td>0.1279</td>\n",
       "    </tr>\n",
       "  </tbody>\n",
       "</table>\n",
       "</div>"
      ],
      "text/plain": [
       "              Words (split by space)  anger  disgust  fear     joy  sad  \\\n",
       "0  europe retain trophy with big win    0.0      0.0   0.0  0.8721  0.0   \n",
       "\n",
       "   surprise  \n",
       "0    0.1279  "
      ]
     },
     "metadata": {},
     "output_type": "display_data"
    },
    {
     "name": "stdout",
     "output_type": "stream",
     "text": [
      "【some summary statistics of labels】:\n",
      "            anger     disgust        fear         joy         sad    surprise\n",
      "count  623.000000  623.000000  623.000000  623.000000  623.000000  623.000000\n",
      "mean     0.086573    0.052949    0.157176    0.281344    0.191442    0.230517\n",
      "std      0.123334    0.090709    0.174959    0.317420    0.206464    0.199993\n",
      "min      0.000000    0.000000    0.000000    0.000000    0.000000    0.000000\n",
      "25%      0.000000    0.000000    0.000000    0.000000    0.000000    0.090100\n",
      "50%      0.022700    0.000000    0.115400    0.130800    0.142900    0.176500\n",
      "75%      0.144950    0.083300    0.255450    0.566950    0.293450    0.326750\n",
      "max      0.753400    0.571400    0.895800    1.000000    1.000000    1.000000\n",
      "【number of all words】:  2087\n",
      "【number of texts】:  623\n"
     ]
    }
   ],
   "source": [
    "dataPath2 = '.\\\\data\\\\regression_dataset\\\\'\n",
    "trainPath = dataPath2+'train_set.csv'\n",
    "trainSet2, trainSet_label2, allWords_trainSet2 = loadDataSet2(trainPath)"
   ]
  },
  {
   "cell_type": "code",
   "execution_count": 227,
   "metadata": {
    "ExecuteTime": {
     "end_time": "2017-10-18T16:15:19.318831Z",
     "start_time": "2017-10-18T16:15:19.261792Z"
    }
   },
   "outputs": [
    {
     "name": "stdout",
     "output_type": "stream",
     "text": [
      "【one line's data preview】:\n"
     ]
    },
    {
     "data": {
      "text/html": [
       "<div>\n",
       "<table border=\"1\" class=\"dataframe\">\n",
       "  <thead>\n",
       "    <tr style=\"text-align: right;\">\n",
       "      <th></th>\n",
       "      <th>Words (split by space)</th>\n",
       "      <th>anger</th>\n",
       "      <th>disgust</th>\n",
       "      <th>fear</th>\n",
       "      <th>joy</th>\n",
       "      <th>sad</th>\n",
       "      <th>surprise</th>\n",
       "    </tr>\n",
       "  </thead>\n",
       "  <tbody>\n",
       "    <tr>\n",
       "      <th>0</th>\n",
       "      <td>marijuana helps ease hiv nerve pain study says</td>\n",
       "      <td>0.0</td>\n",
       "      <td>0.0</td>\n",
       "      <td>0.0744</td>\n",
       "      <td>0.2727</td>\n",
       "      <td>0.0992</td>\n",
       "      <td>0.5537</td>\n",
       "    </tr>\n",
       "  </tbody>\n",
       "</table>\n",
       "</div>"
      ],
      "text/plain": [
       "                           Words (split by space)  anger  disgust    fear  \\\n",
       "0  marijuana helps ease hiv nerve pain study says    0.0      0.0  0.0744   \n",
       "\n",
       "      joy     sad  surprise  \n",
       "0  0.2727  0.0992    0.5537  "
      ]
     },
     "metadata": {},
     "output_type": "display_data"
    },
    {
     "name": "stdout",
     "output_type": "stream",
     "text": [
      "【some summary statistics of labels】:\n",
      "            anger     disgust        fear         joy         sad    surprise\n",
      "count  311.000000  311.000000  311.000000  311.000000  311.000000  311.000000\n",
      "mean     0.085478    0.062534    0.151173    0.287755    0.194680    0.218382\n",
      "std      0.125672    0.110057    0.175016    0.310162    0.208836    0.189515\n",
      "min      0.000000    0.000000    0.000000    0.000000    0.000000    0.000000\n",
      "25%      0.000000    0.000000    0.000000    0.000000    0.000000    0.073650\n",
      "50%      0.012200    0.000000    0.088900    0.177800    0.138900    0.181800\n",
      "75%      0.150600    0.098400    0.245550    0.553650    0.300900    0.320900\n",
      "max      0.777800    0.785700    0.815400    1.000000    0.903200    1.000000\n",
      "【number of all words】:  1235\n",
      "【number of texts】:  311\n"
     ]
    }
   ],
   "source": [
    "validatePath = dataPath2+'validation_set.csv'\n",
    "validateSet2, validateSet_label2, allWords_validateSet2 = loadDataSet2(validatePath)"
   ]
  },
  {
   "cell_type": "code",
   "execution_count": 228,
   "metadata": {
    "ExecuteTime": {
     "end_time": "2017-10-18T16:15:24.074317Z",
     "start_time": "2017-10-18T16:15:23.951233Z"
    }
   },
   "outputs": [
    {
     "name": "stdout",
     "output_type": "stream",
     "text": [
      "【one line's data preview】:\n"
     ]
    },
    {
     "data": {
      "text/html": [
       "<div>\n",
       "<table border=\"1\" class=\"dataframe\">\n",
       "  <thead>\n",
       "    <tr style=\"text-align: right;\">\n",
       "      <th></th>\n",
       "      <th>textid</th>\n",
       "      <th>Words (split by space)</th>\n",
       "      <th>anger</th>\n",
       "      <th>disgust</th>\n",
       "      <th>fear</th>\n",
       "      <th>joy</th>\n",
       "      <th>sad</th>\n",
       "      <th>surprise</th>\n",
       "    </tr>\n",
       "  </thead>\n",
       "  <tbody>\n",
       "    <tr>\n",
       "      <th>0</th>\n",
       "      <td>1</td>\n",
       "      <td>senator carl krueger thinks ipods can kill you</td>\n",
       "      <td>?</td>\n",
       "      <td>?</td>\n",
       "      <td>?</td>\n",
       "      <td>?</td>\n",
       "      <td>?</td>\n",
       "      <td>?</td>\n",
       "    </tr>\n",
       "  </tbody>\n",
       "</table>\n",
       "</div>"
      ],
      "text/plain": [
       "   textid                          Words (split by space) anger disgust fear  \\\n",
       "0       1  senator carl krueger thinks ipods can kill you     ?       ?    ?   \n",
       "\n",
       "  joy sad surprise  \n",
       "0   ?   ?        ?  "
      ]
     },
     "metadata": {},
     "output_type": "display_data"
    },
    {
     "name": "stdout",
     "output_type": "stream",
     "text": [
      "【some summary statistics of labels】:\n",
      "       anger disgust fear  joy  sad surprise\n",
      "count    312     312  312  312  312      312\n",
      "unique     1       1    1    1    1        1\n",
      "top        ?       ?    ?    ?    ?        ?\n",
      "freq     312     312  312  312  312      312\n",
      "【number of all words】:  1273\n",
      "【number of texts】:  312\n"
     ]
    }
   ],
   "source": [
    "testSet2, _ , allWords_testSet2 = loadDataSet2(dataPath2+'test_set.csv')"
   ]
  },
  {
   "cell_type": "code",
   "execution_count": 337,
   "metadata": {
    "ExecuteTime": {
     "end_time": "2017-10-18T21:57:36.512290Z",
     "start_time": "2017-10-18T21:57:36.501783Z"
    }
   },
   "outputs": [
    {
     "data": {
      "text/plain": [
       "(2722, 2771)"
      ]
     },
     "execution_count": 337,
     "metadata": {},
     "output_type": "execute_result"
    }
   ],
   "source": [
    "allWords_train_validate2 = list(set(allWords_trainSet2).union(allWords_validateSet2))\n",
    "allWords_train_test2 = list(set(allWords_trainSet2).union(allWords_testSet2))\n",
    "len(allWords_train_validate2), len(allWords_train_test2)"
   ]
  },
  {
   "cell_type": "markdown",
   "metadata": {},
   "source": [
    "## knn回归算法\n"
   ]
  },
  {
   "cell_type": "markdown",
   "metadata": {},
   "source": [
    "###  得到3个数据集的onehot矩阵"
   ]
  },
  {
   "cell_type": "code",
   "execution_count": 338,
   "metadata": {
    "ExecuteTime": {
     "end_time": "2017-10-18T21:57:41.799429Z",
     "start_time": "2017-10-18T21:57:39.801427Z"
    },
    "collapsed": true
   },
   "outputs": [],
   "source": [
    "#得到训练集、验证集、测试集的onehot矩阵\n",
    "oneHot_trainSet2 = getOneHot(trainSet2, allWords_train_validate2)\n",
    "oneHot_validateSet2 = getOneHot(validateSet2, allWords_train_validate2)\n",
    "\n",
    "oneHot_trainSet2_ = getOneHot(trainSet2, allWords_train_test2)\n",
    "oneHot_testSet2 = getOneHot(testSet2, allWords_train_test2)"
   ]
  },
  {
   "cell_type": "markdown",
   "metadata": {},
   "source": [
    "### 得到3个数据集的TF矩阵"
   ]
  },
  {
   "cell_type": "code",
   "execution_count": 339,
   "metadata": {
    "ExecuteTime": {
     "end_time": "2017-10-18T21:57:47.042568Z",
     "start_time": "2017-10-18T21:57:44.839537Z"
    },
    "collapsed": true
   },
   "outputs": [],
   "source": [
    "from collections import Counter\n",
    "\n",
    "def getTF(dataSet, allWords):\n",
    "    '''得到输入数据集的TF矩阵'''\n",
    "    TF=[]\n",
    "    for index, doc in enumerate(dataSet):\n",
    "        TF.append([])\n",
    "        wordCounter = Counter(doc)\n",
    "        for word in allWords:\n",
    "            TF[index].append(wordCounter.get(word,0)/len(doc))\n",
    "    return TF\n",
    "\n",
    "#得到训练集、验证集、测试集的TF矩阵\n",
    "TF_trainSet2 = getTF(trainSet2, allWords_train_validate2)\n",
    "TF_validateSet2 = getTF(validateSet2, allWords_train_validate2)\n",
    "\n",
    "TF_trainSet2_ = getTF(trainSet2, allWords_train_test2)\n",
    "TF_testSet2 = getTF(testSet2, allWords_train_test2)"
   ]
  },
  {
   "cell_type": "markdown",
   "metadata": {},
   "source": [
    "### 权值归一化函数实现\n",
    "\n",
    "听说权值归一化有助于分类，这里实现一个函数试试。"
   ]
  },
  {
   "cell_type": "code",
   "execution_count": 340,
   "metadata": {
    "ExecuteTime": {
     "end_time": "2017-10-18T21:57:49.640090Z",
     "start_time": "2017-10-18T21:57:49.616069Z"
    }
   },
   "outputs": [
    {
     "data": {
      "text/plain": [
       "array([ 0. ,  0.5,  1. ])"
      ]
     },
     "execution_count": 340,
     "metadata": {},
     "output_type": "execute_result"
    },
    {
     "data": {
      "text/plain": [
       "array([-1.22474487,  0.        ,  1.22474487])"
      ]
     },
     "execution_count": 340,
     "metadata": {},
     "output_type": "execute_result"
    },
    {
     "data": {
      "text/plain": [
       "array([5])"
      ]
     },
     "execution_count": 340,
     "metadata": {},
     "output_type": "execute_result"
    }
   ],
   "source": [
    "def weightNormalize(weight, method='min-max'):\n",
    "    '''权值归一化函数，输入权值类型为numpy.array'''\n",
    "    if len(weight) == 1:\n",
    "        return weight\n",
    "    elif method == 'min-max':\n",
    "        return (weight-weight.min())/(weight.max()-weight.min())\n",
    "    elif method == 'z-score':\n",
    "        return (weight-weight.mean())/weight.std()\n",
    "\n",
    "################测试程序##########################\n",
    "weightNormalize(np.array([1,2,3]))\n",
    "weightNormalize(np.array([1,2,3]),'z-score')\n",
    "weightNormalize(np.array([5]))\n",
    "################测试程序##########################"
   ]
  },
  {
   "cell_type": "markdown",
   "metadata": {},
   "source": [
    "### 回归函数实现及简单测试\n",
    "\n",
    "伪代码：\n",
    "\n",
    "```\n",
    "knn_regress(dataSet, labels, k, inputVector)\n",
    "\n",
    "输入数据：\n",
    "------------\n",
    "dataSet - 训练集\n",
    "labels - 训练集标签\n",
    "k - 要指定的k值\n",
    "inputVector - 输入要回归的向量\n",
    "------------\n",
    "\n",
    "输出数据：\n",
    "------------\n",
    "输入向量属于各种类别的概率\n",
    "------------\n",
    "\n",
    "实现思路（默认使用欧氏距离）：\n",
    "--------------\n",
    "1.得到输入向量与数据集的差值的平方\n",
    "2.计算每一行上元素的和并开方，得到距离向量\n",
    "3.1.若距离中存在0，则直接拷贝距离为0对应元素的label\n",
    "3.2.否则：\n",
    "3.2.1.得到 K个近邻的下标\n",
    "3.2.2.对于所有的类别：\n",
    "3.2.2.1.得到 K个近邻的标签\n",
    "3.2.2.2.保存当前概率值，用于后续归一化\n",
    "4.将所有概率值的和调整为1\n",
    "--------------\n",
    "```"
   ]
  },
  {
   "cell_type": "code",
   "execution_count": 361,
   "metadata": {
    "ExecuteTime": {
     "end_time": "2017-10-18T22:55:47.251056Z",
     "start_time": "2017-10-18T22:55:47.209503Z"
    }
   },
   "outputs": [
    {
     "data": {
      "text/plain": [
       "{'calm': 0.20758311990313899,\n",
       " 'happy': 0.50670259438257537,\n",
       " 'sad': 0.28571428571428575}"
      ]
     },
     "execution_count": 361,
     "metadata": {},
     "output_type": "execute_result"
    }
   ],
   "source": [
    "import numpy as np\n",
    "from collections import Counter\n",
    "\n",
    "def knn_regress(dataSet, labels, k, inputVector):\n",
    "    '''使用knn对输入的向量进行回归，先默认使用欧式距离'''\n",
    "    #得到输入向量与数据集的差值的平方\n",
    "    diffMat = (np.array(dataSet) - np.array(inputVector))**2\n",
    "    #计算每一行上元素的和并开方，得到距离向量\n",
    "    distances = np.sqrt(diffMat.sum(axis=1))\n",
    "    \n",
    "    #要输出的label\n",
    "    outputLabel = dict() \n",
    "    #label中每个分量的概率值\n",
    "    probs = np.zeros((1,len(labels.keys())))\n",
    "    #若距离中存在0，则直接拷贝距离为0对应元素的label\n",
    "    if 0 in distances:\n",
    "        zeroIndex = distances.tolist().index(0)\n",
    "        for index, i in enumerate(labels.keys()):\n",
    "            outputLabel[i] = labels[i][zeroIndex]\n",
    "            probs[0,index] = outputLabel[i]\n",
    "    else:\n",
    "        #得到 K个近邻的下标\n",
    "        kNeighborsIndex  = distances.argpartition(k-1)[0:k]\n",
    "        #用label值除以距离并求和，更新输出的 label\n",
    "        weight = 1/distances[kNeighborsIndex]\n",
    "        \n",
    "        for index, i in enumerate(labels.keys()):\n",
    "            #得到 K个近邻的标签\n",
    "            topKLabel = np.array(labels[i])[kNeighborsIndex]\n",
    "            outputLabel[i] = (topKLabel*weight).sum()\n",
    "            #保存当前概率值，用于后续归一化\n",
    "            probs[0,index] = outputLabel[i]\n",
    "    \n",
    "    #将所有概率值的和调整为1\n",
    "    for i in outputLabel.keys():\n",
    "        if probs.sum() != 0:\n",
    "            outputLabel[i] = outputLabel[i] / probs.sum()\n",
    "    return outputLabel\n",
    "\n",
    "knn_regress([[1,1,0,0],[0,1,1,1],[1,0,0,1]],\n",
    "            {'happy':[0.4,0.5,0.1], \n",
    "             'sad':[0.2,0.3,0.2], \n",
    "             'calm':[0.1,0.25,0.8]}, 2, [0,1,1,0])"
   ]
  },
  {
   "cell_type": "markdown",
   "metadata": {},
   "source": [
    "### 使用验证集调参\n",
    "#### 使用onehot矩阵"
   ]
  },
  {
   "cell_type": "code",
   "execution_count": 362,
   "metadata": {
    "ExecuteTime": {
     "end_time": "2017-10-18T23:34:27.825349Z",
     "start_time": "2017-10-18T22:59:34.026110Z"
    },
    "scrolled": true
   },
   "outputs": [],
   "source": [
    "def run_knn_regress1(k):\n",
    "    '''使用验证集得到分类准确率，进行调参'''\n",
    "    ansLabel = dict()\n",
    "    for i in validateSet_label2.keys():\n",
    "        ansLabel[i]=[]\n",
    "    for index, wordVector in enumerate(oneHot_validateSet2):\n",
    "        ans = knn_regress(oneHot_trainSet2, trainSet_label2, k, wordVector)\n",
    "        ######### nan 值的debug代码#########################\n",
    "#         flag = False\n",
    "#         for i in validateSet_label2.keys():\n",
    "#             if  np.isnan(ans[i]):\n",
    "#                 print('nan value found in %d' % (index))\n",
    "#                 print('terminate..')\n",
    "#                 flag = True\n",
    "#         if flag: break\n",
    "        ########## nan 值的debug代码#########################\n",
    "        for i in ans.keys():\n",
    "            ansLabel[i].append(ans[i])\n",
    "    \n",
    "    #print('k =%2d：' % k)\n",
    "    tot = 0\n",
    "    for i in ansLabel.keys():\n",
    "        corr = np.corrcoef(ansLabel[i],validateSet_label2[i])[0,1]\n",
    "        tot += corr\n",
    "        #print('%s:%.5f' % (i, corr), end=' ')\n",
    "    averageCorrcoef = tot/len(ansLabel.keys())\n",
    "    #print('\\naverage:%.5f' % (averageCorrcoef))\n",
    "    return averageCorrcoef\n",
    "\n",
    "corrcoefs = []\n",
    "testRange = list(range(1,50))\n",
    "for k in testRange:\n",
    "    corrcoefs.append(run_knn_regress1(k))"
   ]
  },
  {
   "cell_type": "code",
   "execution_count": 374,
   "metadata": {
    "ExecuteTime": {
     "end_time": "2017-10-18T23:45:59.363299Z",
     "start_time": "2017-10-18T23:45:59.357293Z"
    }
   },
   "outputs": [
    {
     "data": {
      "text/plain": [
       "3"
      ]
     },
     "execution_count": 374,
     "metadata": {},
     "output_type": "execute_result"
    }
   ],
   "source": [
    "bestK_onehot = testRange[np.argmax(corrcoefs)]\n",
    "bestK_onehot"
   ]
  },
  {
   "cell_type": "markdown",
   "metadata": {},
   "source": [
    "可以看到，当K为3的时候，回归效果是最好的。下面来绘制相关系数随着K值变化的曲线图。"
   ]
  },
  {
   "cell_type": "code",
   "execution_count": 364,
   "metadata": {
    "ExecuteTime": {
     "end_time": "2017-10-18T23:34:31.959849Z",
     "start_time": "2017-10-18T23:34:31.730654Z"
    }
   },
   "outputs": [
    {
     "data": {
      "image/png": "[encoded data removed]",
      "text/plain": [
       "<matplotlib.figure.Figure at 0x20ad3555400>"
      ]
     },
     "metadata": {},
     "output_type": "display_data"
    }
   ],
   "source": [
    "import matplotlib.pyplot as plt\n",
    "\n",
    "_ = plt.plot(testRange, corrcoefs)\n",
    "_ = plt.xlabel('k')\n",
    "_ = plt.ylabel('correlation coefficient(%)')\n",
    "_ = plt.title(\"KNN regression accuracy versus k with onehot\")\n",
    "plt.show()\n",
    "plt.close()"
   ]
  },
  {
   "cell_type": "markdown",
   "metadata": {},
   "source": [
    "#### 使用TF矩阵"
   ]
  },
  {
   "cell_type": "code",
   "execution_count": 367,
   "metadata": {
    "ExecuteTime": {
     "end_time": "2017-10-18T23:42:38.358143Z",
     "start_time": "2017-10-18T23:36:40.580127Z"
    },
    "collapsed": true
   },
   "outputs": [],
   "source": [
    "def run_knn_regress2(k):\n",
    "    '''使用验证集得到分类准确率，进行调参'''\n",
    "    ansLabel = dict()\n",
    "    for i in validateSet_label2.keys():\n",
    "        ansLabel[i]=[]\n",
    "    for index, wordVector in enumerate(TF_validateSet2):\n",
    "        ans = knn_regress(TF_trainSet2, trainSet_label2, k, wordVector)\n",
    "        ######### nan 值的debug代码#########################\n",
    "#         flag = False\n",
    "#         for i in validateSet_label2.keys():\n",
    "#             if  np.isnan(ans[i]):\n",
    "#                 print('nan value found in %d' % (index))\n",
    "#                 print('terminate..')\n",
    "#                 flag = True\n",
    "#         if flag: break\n",
    "        ########## nan 值的debug代码#########################\n",
    "        for i in ans.keys():\n",
    "            ansLabel[i].append(ans[i])\n",
    "    \n",
    "    #print('k =%2d：' % k)\n",
    "    tot = 0\n",
    "    for i in ansLabel.keys():\n",
    "        corr = np.corrcoef(ansLabel[i],validateSet_label2[i])[0,1]\n",
    "        tot += corr\n",
    "        #print('%s:%.5f' % (i, corr), end=' ')\n",
    "    averageCorrcoef = tot/len(ansLabel.keys())\n",
    "    #print('\\naverage:%.5f' % (averageCorrcoef))\n",
    "    return averageCorrcoef\n",
    "    \n",
    "corrcoefs = []\n",
    "testRange = list(range(1,15))\n",
    "for k in testRange:\n",
    "    corrcoefs.append(run_knn_regress2(k))"
   ]
  },
  {
   "cell_type": "code",
   "execution_count": 369,
   "metadata": {
    "ExecuteTime": {
     "end_time": "2017-10-18T23:44:43.150781Z",
     "start_time": "2017-10-18T23:44:43.141771Z"
    }
   },
   "outputs": [
    {
     "data": {
      "text/plain": [
       "6"
      ]
     },
     "execution_count": 369,
     "metadata": {},
     "output_type": "execute_result"
    }
   ],
   "source": [
    "bestK_TF = testRange[np.argmax(corrcoefs)]\n",
    "bestK_TF"
   ]
  },
  {
   "cell_type": "markdown",
   "metadata": {},
   "source": [
    "可以看到，当k=6时平均相关系数最高，达到了28.928%。下面来绘制相关系数随着K值变化的曲线图。"
   ]
  },
  {
   "cell_type": "code",
   "execution_count": 368,
   "metadata": {
    "ExecuteTime": {
     "end_time": "2017-10-18T23:43:52.984224Z",
     "start_time": "2017-10-18T23:43:52.716476Z"
    }
   },
   "outputs": [
    {
     "data": {
      "image/png": "[encoded data removed]",
      "text/plain": [
       "<matplotlib.figure.Figure at 0x20ad3558160>"
      ]
     },
     "metadata": {},
     "output_type": "display_data"
    }
   ],
   "source": [
    "import matplotlib.pyplot as plt\n",
    "\n",
    "_ = plt.plot(testRange, corrcoefs)\n",
    "_ = plt.xlabel('k')\n",
    "_ = plt.ylabel('correlation coefficient(%)')\n",
    "_ = plt.title(\"KNN regression accuracy versus k with TF\")\n",
    "plt.show()\n",
    "plt.close()"
   ]
  },
  {
   "cell_type": "markdown",
   "metadata": {},
   "source": [
    "### 对测试集进行分类\n",
    "\n",
    "下面使用最优的k值来对测试集进行分类。\n",
    "\n",
    "#### 使用onehot矩阵"
   ]
  },
  {
   "cell_type": "code",
   "execution_count": 344,
   "metadata": {
    "ExecuteTime": {
     "end_time": "2017-10-18T22:02:25.375216Z",
     "start_time": "2017-10-18T22:01:44.635867Z"
    }
   },
   "outputs": [],
   "source": [
    "ansLabel = dict()\n",
    "for i in validateSet_label2.keys():\n",
    "    ansLabel[i]=[]\n",
    "for index, wordVector in enumerate(oneHot_testSet2):\n",
    "    ans = knn_regress(oneHot_trainSet2_, trainSet_label2, bestK_onehot,wordVector)\n",
    "    for i in ans.keys():\n",
    "        ansLabel[i].append(ans[i])"
   ]
  },
  {
   "cell_type": "code",
   "execution_count": 346,
   "metadata": {
    "ExecuteTime": {
     "end_time": "2017-10-18T22:03:37.074579Z",
     "start_time": "2017-10-18T22:03:37.051564Z"
    },
    "collapsed": true
   },
   "outputs": [],
   "source": [
    "outputFileName = \"15352220_linzecheng_KNN_regression_onehot.csv\"\n",
    "\n",
    "columns_ = ['textid', 'anger', 'disgust', 'fear', 'joy', 'sad', 'surprise']\n",
    "\n",
    "res = pd.DataFrame({\n",
    "    'textid' : list(np.arange(1, len(testSet2)+1)),\n",
    "    'anger' :ansLabel['anger'],\n",
    "    'disgust':ansLabel['disgust'],\n",
    "    'fear':ansLabel['fear'],\n",
    "    'joy':ansLabel['joy'],\n",
    "    'sad':ansLabel['sad'],\n",
    "    'surprise':ansLabel['surprise']\n",
    "}, columns=columns_)\n",
    "\n",
    "res.to_csv(outputFileName, index=False)"
   ]
  },
  {
   "cell_type": "markdown",
   "metadata": {},
   "source": [
    "## NB回归算法\n",
    "\n",
    "### 实验原理\n",
    "\n",
    "NB回归也是一条公式： \n",
    "\n",
    "$bestClass=argmax_{class} P(class|data)=argmax_{class}P(data|class)*P(class) $\n",
    "\n",
    "$=argmax_{class}\\sum_{i=1}^nP(data|d_i,class)*P(d_i, class)$\n",
    "\n",
    "其中，\n",
    "\n",
    "$P(data|d_i,class)=\\prod_{j=1}^{document-number}P(word_j|d_i, class)$\n",
    "\n",
    "\n",
    "很明显，这里的连乘就是假设属性间条件独立所得出来的。\n",
    "\n",
    "而$P(word_j|d_i, class)$的求解同样可用拉普拉斯平滑来得出：\n",
    "\n",
    "```\n",
    "P(word_j|class) = (word_j在d_i出现的次数+lambda)/\n",
    "                  (d_i中所有词的次数和+lambda*所有文档中不重复词的词数)\n",
    "[注：d_i中所有词的次数包含重复的词]\n",
    "```\n",
    "\n",
    "### 得到三个数据集的类TF矩阵\n",
    "\n",
    "由于根据上面的公式求出来的矩阵有点像TF矩阵（事实上当lambda==0时就是TF矩阵），所以这里暂前将要命令的矩阵叫为类TF矩阵。"
   ]
  },
  {
   "cell_type": "code",
   "execution_count": 237,
   "metadata": {
    "ExecuteTime": {
     "end_time": "2017-10-18T16:55:40.386338Z",
     "start_time": "2017-10-18T16:55:40.328296Z"
    }
   },
   "outputs": [
    {
     "data": {
      "text/plain": [
       "([['a', 'b'], ['b', 'c']], 3, [['e', 'a'], ['c', 'f']])"
      ]
     },
     "execution_count": 237,
     "metadata": {},
     "output_type": "execute_result"
    },
    {
     "data": {
      "text/plain": [
       "(['e', 'b', 'f', 'c', 'a'], {'bad': [0.2, 0.8], 'good': [0.8, 0.2]})"
      ]
     },
     "execution_count": 237,
     "metadata": {},
     "output_type": "execute_result"
    },
    {
     "data": {
      "text/plain": [
       "array([[ 0. ,  0.5,  0. ,  0. ,  0.5],\n",
       "       [ 0. ,  0.5,  0. ,  0.5,  0. ]])"
      ]
     },
     "execution_count": 237,
     "metadata": {},
     "output_type": "execute_result"
    },
    {
     "data": {
      "text/plain": [
       "array([[ 0.2,  0.4,  0.2,  0.2,  0.4],\n",
       "       [ 0.2,  0.4,  0.2,  0.4,  0.2]])"
      ]
     },
     "execution_count": 237,
     "metadata": {},
     "output_type": "execute_result"
    }
   ],
   "source": [
    "import numpy as np\n",
    "from collections import Counter\n",
    "\n",
    "def getSimilarTF(trainSet_, allWordsNum_train, allWords_train_other, lambda_):\n",
    "    '''得到输入训练集的类TF矩阵、所有可能的标签'''\n",
    "    def calcProbs(numerator, denominator):\n",
    "        '''根据输入的分子和分母计算先验概率值'''\n",
    "        return (numerator+lambda_) / (denominator+lambda_*allWordsNum_train)\n",
    "    #预分配内存\n",
    "    similarTF = np.zeros((len(trainSet_), len(allWords_train_other)))\n",
    "    #遍历整个数据集\n",
    "    for rowIdx, doc in enumerate(trainSet_):\n",
    "        #得到所有词的词频统计\n",
    "        wordCounter = Counter(doc)\n",
    "        #遍历每个词\n",
    "        for colIdx, word in enumerate(allWords_train_other):\n",
    "            #得到矩阵每个元素的概率值\n",
    "            similarTF[rowIdx, colIdx] = calcProbs(wordCounter.get(word,0), len(doc))\n",
    "    \n",
    "    return similarTF\n",
    "\n",
    "####################测试程序#################\n",
    "a = [['a','b'], ['b','c']]              #trainSet_\n",
    "b = len(set([j for i in a for j in i])) #allWordsNum_train\n",
    "c = [['e','a'], ['c','f']]              #otherSet\n",
    "                                        #allWords_train_other\n",
    "d = list(set([j for i in a for j in i]).union([j for i in c for j in i]))\n",
    "e = {'good':[0.8, 0.2],'bad':[0.2, 0.8]}#trainSet_label\n",
    "a, b, c\n",
    "d, e\n",
    "getSimilarTF(a, b, d, lambda_=0)        #lambda 为 0时\n",
    "getSimilarTF(a, b, d, lambda_=1)        #lambda 为 1时\n",
    "####################测试程序#################"
   ]
  },
  {
   "cell_type": "markdown",
   "metadata": {
    "hide_input": true
   },
   "source": [
    "下面来根据上面例子的输出来说明该函数的实现正确性。\n",
    "\n",
    "当 $\\lambda=0$ 时， 所求的即是TF矩阵，因此输出结果应为：\n",
    "\n",
    "```\n",
    "           'e'  'b'  'f'  'c'  'a'             'e'  'b'  'f'  'c'  'a'\n",
    "第一行数据  0/2  1/2  0/2  0/2  1/2  ---化简-->  0   0.5   0    0    1\n",
    "第二行数据  0/2  1/2  0/2  1/2  0/2              0   0.5   0   0.5   0\n",
    "```\n",
    "和结果相符。\n",
    "\n",
    "当 $\\lambda=1$ 时， 所求的即是使用拉普拉斯平滑的类TF矩阵，因此输出结果应为：\n",
    "\n",
    "```\n",
    "               'e'           'b'          'f'          'c'        'a'         \n",
    "第一行数据  (0+1)/(2+3)  (1+1)/(2+3)  (0+1)/(2+3)  (0+1)/(2+3)  (1+1)/(2+3)\n",
    "第二行数据  (0+1)/(2+3)  (1+1)/(2+3)  (0+1)/(2+3)  (1+1)/(2+3)  (0+1)/(2+3)    \n",
    "\n",
    "---化简-->\n",
    "\n",
    "               'e'           'b'          'f'          'c'        'a'         \n",
    "第一行数据      0.2           0.4          0.2          0.2        0.4\n",
    "第二行数据      0.2           0.4          0.2          0.4        0.2 \n",
    "```\n",
    "\n",
    "和结果相符。因此该函数的实现是正确的。"
   ]
  },
  {
   "cell_type": "markdown",
   "metadata": {},
   "source": [
    "### 回归函数实现及简单测试\n",
    "\n",
    "伪代码：\n",
    "\n",
    "```\n",
    "NB_regress(trainSet_, trainSet_label_, allWordsNum_train, allWords_train_other,\n",
    "               otherSet, lambda_):\n",
    "\n",
    "输入数据：\n",
    "------------\n",
    "trainSet_ - 训练集\n",
    "trainSet_label_ - 训练集标签\n",
    "allWordsNum_train - 训练集中所有不重复词的个数\n",
    "allWords_train_other - 训练集和验证集（或测试集）中的所有不重复词的列表\n",
    "otherSet - 验证集（或测试集）\n",
    "lambda_ - lambda\n",
    "------------\n",
    "\n",
    "输出数据：\n",
    "------------\n",
    "输入数据集的每行数据对应所有标签的可能概率值\n",
    "------------\n",
    "\n",
    "实现思路：\n",
    "------------\n",
    "1.得到类TF矩阵\n",
    "2.对于输入数据集的每一行数据：\n",
    "2.1.得到当前的一行数据中词在所有词向量的下标\n",
    "2.2.得到 P(data|d_i, class)的列向量\n",
    "2.3.得到基于每个类的概率值\n",
    "2.4.对于所有可能的标签\n",
    "2.4.1.将训练集对应标签的向量和上一步的概率向量相乘，再将结果相加，保存\n",
    "2.5.将上一步得到的概率值进行归一化\n",
    "3.返回分类结果\n",
    "------------\n",
    "```"
   ]
  },
  {
   "cell_type": "code",
   "execution_count": 319,
   "metadata": {
    "ExecuteTime": {
     "end_time": "2017-10-18T19:41:26.382991Z",
     "start_time": "2017-10-18T19:41:26.291446Z"
    }
   },
   "outputs": [
    {
     "data": {
      "text/plain": [
       "([['a', 'b'], ['b', 'c']], 3, [['e', 'a'], ['c', 'f']])"
      ]
     },
     "execution_count": 319,
     "metadata": {},
     "output_type": "execute_result"
    },
    {
     "data": {
      "text/plain": [
       "(['e', 'b', 'f', 'c', 'a'], {'bad': [0.2, 0.8], 'good': [0.8, 0.2]})"
      ]
     },
     "execution_count": 319,
     "metadata": {},
     "output_type": "execute_result"
    },
    {
     "data": {
      "text/plain": [
       "{'bad': array([ 0.,  0.]), 'good': array([ 0.,  0.])}"
      ]
     },
     "execution_count": 319,
     "metadata": {},
     "output_type": "execute_result"
    },
    {
     "data": {
      "text/plain": [
       "{'bad': array([ 0.4,  0.6]), 'good': array([ 0.6,  0.4])}"
      ]
     },
     "execution_count": 319,
     "metadata": {},
     "output_type": "execute_result"
    }
   ],
   "source": [
    "import numpy as np\n",
    "from functools import reduce\n",
    "\n",
    "def NB_regress(trainSet_, trainSet_label_, allWordsNum_train, allWords_train_other,\n",
    "               otherSet, lambda_):\n",
    "    '''使用NB进行回归，返回每个数据对应的类标签概率'''\n",
    "    #得到类TF矩阵\n",
    "    similarTF = getSimilarTF(trainSet_, allWordsNum_train, allWords_train_other,\n",
    "                            lambda_)\n",
    "    #要输出的label\n",
    "    outputLabel = dict() \n",
    "    #得到所有可能的标签\n",
    "    allLabels = list(trainSet_label_.keys())\n",
    "    #预分配内存\n",
    "    for label in allLabels:\n",
    "        outputLabel[label] = np.zeros(len(otherSet))\n",
    "    \n",
    "    similarTF = np.array(similarTF)\n",
    "    allWords_ = np.array(allWords_train_other)\n",
    "    for index, data in enumerate(otherSet):\n",
    "        #得到当前的一行数据中词在所有词向量allWords_的下标\n",
    "        matchIndex = np.array([np.argwhere(allWords_ == word)[0][0] \n",
    "                                                    for word in data])\n",
    "        #得到 P(data|d_i, class)的列向量\n",
    "        probs = similarTF[:, matchIndex].prod(axis=1)\n",
    "        #得到基于每个类的概率值\n",
    "        temp = np.zeros(len(allLabels))\n",
    "        for i, label in enumerate(allLabels):\n",
    "            #对应元素相乘再相加\n",
    "            temp[i] = (probs * np.array(trainSet_label_[label])).sum()\n",
    "        \n",
    "        #进行归一化\n",
    "        for i, label in enumerate(allLabels):\n",
    "            if temp.sum() != 0:\n",
    "                outputLabel[label][index] = temp[i] / temp.sum()\n",
    "    \n",
    "    return outputLabel\n",
    "\n",
    "####################测试程序#################\n",
    "a = [['a','b'], ['b','c']]              #trainSet_\n",
    "b = len(set([j for i in a for j in i])) #allWordsNum_train\n",
    "c = [['e','a'], ['c','f']]              #otherSet\n",
    "                                        #allWords_train_other\n",
    "d = list(set([j for i in a for j in i]).union([j for i in c for j in i]))\n",
    "e = {'good':[0.8, 0.2],'bad':[0.2, 0.8]}#trainSet_label\n",
    "a, b, c\n",
    "d, e\n",
    "NB_regress(a, e, b, d, c, lambda_ = 0)  #lambda 为 0时\n",
    "NB_regress(a, e, b, d, c, lambda_ = 1)  #lambda 为 1时\n",
    "####################测试程序#################"
   ]
  },
  {
   "cell_type": "markdown",
   "metadata": {},
   "source": [
    "下面来根据上面的输出来说明该函数的实现正确性。\n",
    "\n",
    "首先，根据该数据集得到的类TF矩阵和对应的标签为为：\n",
    "\n",
    "```\n",
    "               'e'    'b'   'f'   'c'   'a'   | 'bad' 'good'     \n",
    "第一行数据 d1   0.2    0.4   0.2   0.2   0.4   |  0.2   0.8\n",
    "第二行数据 d2   0.2    0.4   0.2   0.4   0.2   |  0.8   0.2\n",
    "```\n",
    "\n",
    "则：\n",
    "\n",
    "```\n",
    "P('good'|['e', 'a']) = P('e'|d1,'good')*P('a'|d1,'good')*P(d1,'good') +\n",
    "                       P('e'|d2,'good')*P('a'|d2,'good')*P(d2,'good')\n",
    "                     = 0.2*0.4*0.8 + 0.2*0.2*0.2 = 0.072\n",
    "                     \n",
    "P('bad'|['e', 'a'])  = P('e'|d1,'bad')*P('a'|d1,'bad')*P(d1,'bad') +\n",
    "                       P('e'|d2,'bad')*P('a'|d2,'bad')*P(d2,'bad')\n",
    "                     = 0.2*0.4*0.2 + 0.2*0.2*0.8 = 0.048   \n",
    "                     \n",
    "P('good'|['c', 'f']) = P('c'|d1,'good')*P('f'|d1,'good')*P(d1,'good') +\n",
    "                       P('c'|d2,'good')*P('f'|d2,'good')*P(d2,'good')\n",
    "                     = 0.2*0.2*0.8 + 0.4*0.2*0.2 = 0.048   \n",
    "                     \n",
    "P('bad'|['c', 'f'])  = P('c'|d1,'bad')*P('f'|d1,'bad')*P(d1,'bad') +\n",
    "                       P('c'|d2,'bad')*P('f'|d2,'bad')*P(d2,'bad')\n",
    "                     = 0.2*0.2*0.2 + 0.4*0.2*0.8 = 0.072                       \n",
    "```\n",
    "\n",
    "归一化之后，有：\n",
    "\n",
    "```\n",
    "P('good'|['e', 'a']) = 0.72/(0.72+0.48) = 0.6\n",
    "P('bad'|['e', 'a'])  = 0.48/(0.72+0.48) = 0.4\n",
    "P('good'|['c', 'f']) = 0.48/(0.72+0.48) = 0.4\n",
    "P('bad'|['c', 'f'])  = 0.72/(0.72+0.48) = 0.6\n",
    "```\n",
    "\n",
    "与输出的结果：\n",
    "\n",
    "```\n",
    "{'bad': array([ 0.4,  0.6]), 'good': array([ 0.6,  0.4])}\n",
    "```\n",
    "\n",
    "一致，因此该函数的实现正确。"
   ]
  },
  {
   "cell_type": "markdown",
   "metadata": {},
   "source": [
    "### 使用验证集调参\n",
    "\n",
    "和NB分类一样，这里需要调参的地方也是：平滑系数 $\\lambda$ 的选择。"
   ]
  },
  {
   "cell_type": "code",
   "execution_count": 323,
   "metadata": {
    "ExecuteTime": {
     "end_time": "2017-10-18T20:04:55.428988Z",
     "start_time": "2017-10-18T19:49:44.464930Z"
    }
   },
   "outputs": [
    {
     "name": "stdout",
     "output_type": "stream",
     "text": [
      "max correlation coefficient is 35.92402% when lambda is 0.03000\n"
     ]
    }
   ],
   "source": [
    "def run_NB_regress(lambda_):\n",
    "    '''使用验证集得到回归准确率，进行调参''' \n",
    "    #调用 NB 回归函数\n",
    "    predictLabel = NB_regress(trainSet2, trainSet_label2, len(allWords_trainSet2),\n",
    "                               allWords_train_validate2, validateSet2, lambda_)\n",
    "    #计算每一个label的相关系数\n",
    "    temp = []\n",
    "    for label, val in validateSet_label2.items():\n",
    "        checkPair = (predictLabel[label], validateSet_label2[label])\n",
    "        temp.append(np.corrcoef(checkPair)[0][1])\n",
    "    #得到平均的相关系数\n",
    "    averageCorrcoef = np.average(temp)\n",
    "    #print('lambda: %.5f --> corrcoeff: %.5f%%' % (lambda_, averageCorrcoef*100))\n",
    "    return averageCorrcoef\n",
    "    \n",
    "bestResult = (0, 0)\n",
    "testRange =  np.arange(0,3.1,0.01)\n",
    "corrcoefs = np.zeros(len(testRange))\n",
    "\n",
    "for index, lambda_ in enumerate(testRange):\n",
    "    corrcoef_ = run_NB_regress(lambda_) * 100\n",
    "    corrcoefs[index] = corrcoef_\n",
    "    bestResult = max(bestResult, (corrcoef_, lambda_))\n",
    "\n",
    "print('max correlation coefficient is %.5f%% when lambda is %.5f' % (bestResult))"
   ]
  },
  {
   "cell_type": "markdown",
   "metadata": {},
   "source": [
    "可见，在 $\\lambda$ 为0.03时，分类率最高，为35.92402%。 下面来绘制随着 $\\lambda$ 改变，NB回归相关系数的变化图："
   ]
  },
  {
   "cell_type": "code",
   "execution_count": 363,
   "metadata": {
    "ExecuteTime": {
     "end_time": "2017-10-18T23:34:28.141848Z",
     "start_time": "2017-10-18T23:34:27.825349Z"
    }
   },
   "outputs": [
    {
     "data": {
      "image/png": "[encoded data removed]",
      "text/plain": [
       "<matplotlib.figure.Figure at 0x20ae4bbb860>"
      ]
     },
     "metadata": {},
     "output_type": "display_data"
    }
   ],
   "source": [
    "import matplotlib.pyplot as plt\n",
    "\n",
    "_ = plt.plot(testRange, corrcoefs)\n",
    "_ = plt.xlabel('lambda')\n",
    "_ = plt.ylabel('correlation coefficient(%)')\n",
    "_ = plt.title(\"NB regression accuracy versus lambda\")\n",
    "plt.show()\n",
    "plt.close()"
   ]
  },
  {
   "cell_type": "markdown",
   "metadata": {},
   "source": [
    "### 对测试集进行分类\n",
    "\n",
    "下面使用最优的lambda来对测试集进行分类。"
   ]
  },
  {
   "cell_type": "code",
   "execution_count": 326,
   "metadata": {
    "ExecuteTime": {
     "end_time": "2017-10-18T21:40:16.285750Z",
     "start_time": "2017-10-18T21:40:13.158337Z"
    },
    "collapsed": true
   },
   "outputs": [],
   "source": [
    "outputFileName = \"15352220_linzecheng_NB_regression.csv\"\n",
    "\n",
    "#调用 NB 回归函数\n",
    "predictLabel = NB_regress(trainSet2, trainSet_label2, len(allWords_trainSet2),\n",
    "                           allWords_train_test2, testSet2, lambda_ = bestResult[1])\n",
    "\n",
    "columns_ = ['textid', 'anger', 'disgust', 'fear', 'joy', 'sad', 'surprise']\n",
    "\n",
    "res = pd.DataFrame({\n",
    "    'textid' : list(np.arange(1, len(testSet2)+1)),\n",
    "    'anger' :predictLabel['anger'],\n",
    "    'disgust':predictLabel['disgust'],\n",
    "    'fear':predictLabel['fear'],\n",
    "    'joy':predictLabel['joy'],\n",
    "    'sad':predictLabel['sad'],\n",
    "    'surprise':predictLabel['surprise']\n",
    "}, columns=columns_)\n",
    "\n",
    "res.to_csv(outputFileName, index=False)"
   ]
  },
  {
   "cell_type": "markdown",
   "metadata": {},
   "source": [
    "# 思考题\n",
    "\n",
    "- 1.KNN回归的公式为什么要以距离的倒数作为权重。\n",
    "\n",
    "    - 答：直观上也可以解释，距离越大，那么说明两个样本之间的相似度就越小，从这里就可以看出一个反比的关系了，因此可以用距离的倒数作为权重。\n",
    "    \n",
    "- 2.同一测试样本的各个情感概率总和应该为1，这如何处理？\n",
    "\n",
    "    - 答：将所有情感概率都除以所有情感概率的和即可。\n",
    "\n",
    "\n",
    "- 3.在矩阵稀疏程度不同的时候，曼哈顿距离和欧式距离表现有什么区别，为什么？\n",
    "\n",
    "    - 答：曼哈顿距离和欧式距离从定义上的区别就是一个是1范数，一个是2范数，而当矩阵稀疏程度低时，欧式距离由于需要对两个向量对应元素相减的差进行平方操作，运算量会比较大，而曼哈顿距离则只需要进行两个向量对应元素相减的操作即可，运算量相对减少很多。但是正所谓鱼与熊掌不可兼得，从实际的应用来看，欧式距离可以理解为两个向量直接的最短距离，而从空间中一个点到另外一个点的最短距离时唯一的；而曼哈顿距离则没有欧式距离的“严谨性”，从空间中一个点到另外一个点的距离相等的路径有许多条，这样的“多样性”使得曼哈顿距离在实际的应用效果会比欧式距离相对要差。\n",
    "    \n",
    "    \n",
    "    \n",
    "- 4.NB中伯努利模型和多项式模型各有什么优缺点？\n",
    "\n",
    "    - 答：**伯努利模型**的优点是模型比较简单，较方便实现，内存开销比较小；缺点是不能反映词数对分类的影响，有时可能会出现欠拟合的情况。\n",
    "    **多项式模型**的优点：有考虑词数对分类的影响，比伯努利模型的适用性更强；缺点是模型比较复杂，实现难度比伯努利模型要高，由于需要考虑词数的影响后需要的内存开销比较大；\n",
    "    \n",
    "\n",
    "- 5.如果测试集中出现了一个之前全词典中没有出现过的词该如何解决？\n",
    "\n",
    "    - 答：矩阵新加一列代表该词的列。\n",
    "    \n",
    "    \n",
    "# 附录\n",
    "\n",
    "## 参考资料\n",
    "\n",
    "1.[stackoverflow : how-to-get-indices-of-n-maximum-values-in-a-numpy-array][1]\n",
    "\n",
    "2.[stackoverflow : show-dataframe-as-table-in-ipython-notebook][2]\n",
    "\n",
    "3.[Machine Learning-Normalization][3]\n",
    "\n",
    "4.[为什么一些机器学习模型需要对数据进行归一化？][4]\n",
    "\n",
    "5.[stackexchange : Standardizing some features in K-Means][5]\n",
    "\n",
    "[1]:https://stackoverflow.com/questions/6910641/how-to-get-indices-of-n-maximum-values-in-a-numpy-array\n",
    "[2]:https://stackoverflow.com/questions/26873127/show-dataframe-as-table-in-ipython-notebook\n",
    "[3]:http://www.csuldw.com/2015/11/15/2015-11-15%20normalization/?utm_source=tuicool&utm_medium=referral\n",
    "[4]:http://www.cnblogs.com/LBSer/p/4440590.html\n",
    "[5]:https://stats.stackexchange.com/questions/223289/standardizing-some-features-in-k-means/223355#223355\n"
   ]
  },
  {
   "cell_type": "markdown",
   "metadata": {
    "ExecuteTime": {
     "end_time": "2017-10-12T11:51:36.355116Z",
     "start_time": "2017-10-12T11:51:36.351113Z"
    }
   },
   "source": [
    "## 相关函数测试"
   ]
  },
  {
   "cell_type": "markdown",
   "metadata": {},
   "source": [
    " **-------------------------------------------平台配置代码--------------------------------------------**"
   ]
  },
  {
   "cell_type": "code",
   "execution_count": 5,
   "metadata": {
    "ExecuteTime": {
     "end_time": "2017-10-17T22:39:35.790893Z",
     "start_time": "2017-10-17T22:39:35.783887Z"
    },
    "collapsed": true
   },
   "outputs": [],
   "source": [
    "from IPython.core.interactiveshell import InteractiveShell\n",
    "from IPython.display import display\n",
    "InteractiveShell.ast_node_interactivity = \"all\"\n",
    "\n",
    "# from IPython.display import Image\n",
    "# 其对应的三元顺序表为=Image(\"./images/1.jpg\")\n",
    "# 稀疏矩阵例子为=Image(\"./images/2.jpg\")"
   ]
  }
 ],
 "metadata": {
  "anaconda-cloud": {},
  "kernelspec": {
   "display_name": "Python [conda root]",
   "language": "python",
   "name": "conda-root-py"
  },
  "language_info": {
   "codemirror_mode": {
    "name": "ipython",
    "version": 3
   },
   "file_extension": ".py",
   "mimetype": "text/x-python",
   "name": "python",
   "nbconvert_exporter": "python",
   "pygments_lexer": "ipython3",
   "version": "3.5.2"
  },
  "toc": {
   "nav_menu": {},
   "number_sections": true,
   "sideBar": true,
   "skip_h1_title": false,
   "toc_cell": false,
   "toc_position": {
    "height": "636px",
    "left": "0px",
    "right": "916px",
    "top": "66px",
    "width": "356px"
   },
   "toc_section_display": "block",
   "toc_window_display": true
  }
 },
 "nbformat": 4,
 "nbformat_minor": 2
}
