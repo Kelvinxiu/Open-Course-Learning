{
 "cells": [
  {
   "cell_type": "code",
   "execution_count": 168,
   "metadata": {
    "ExecuteTime": {
     "end_time": "2018-01-08T14:21:52.218794Z",
     "start_time": "2018-01-08T14:21:52.201782Z"
    },
    "collapsed": true
   },
   "outputs": [],
   "source": [
    "from IPython.core.interactiveshell import InteractiveShell\n",
    "InteractiveShell.ast_node_interactivity = \"all\"\n",
    "\n",
    "from collections import Counter\n",
    "import numpy as np\n",
    "import matplotlib.pyplot as plt\n",
    "from functools import reduce\n",
    "import pdir as pr\n",
    "import pandas as pd\n",
    "import os\n",
    "from tqdm import tqdm, tnrange, tqdm_notebook\n",
    "\n",
    "DF = pd.DataFrame\n",
    "arr = np.array\n",
    "\n",
    "import re\n",
    "import string\n",
    "import operator"
   ]
  },
  {
   "cell_type": "markdown",
   "metadata": {},
   "source": [
    "# 读取数据集"
   ]
  },
  {
   "cell_type": "code",
   "execution_count": 169,
   "metadata": {
    "ExecuteTime": {
     "end_time": "2018-01-08T14:22:09.938728Z",
     "start_time": "2018-01-08T14:21:52.220795Z"
    }
   },
   "outputs": [
    {
     "data": {
      "text/plain": [
       "(62522, 8671)"
      ]
     },
     "execution_count": 169,
     "metadata": {},
     "output_type": "execute_result"
    }
   ],
   "source": [
    "def loadDataSet(filePath):\n",
    "    articles, labels = [], []\n",
    "    with open(filePath, 'r', encoding=\"utf-8\") as f:\n",
    "        for line in f.readlines():\n",
    "            part = line.split(\"\\t\")\n",
    "            #这里已经将标签转换为大写，数据转换成小写了\n",
    "            label, article = part[0].upper().strip(), part[2].lower().replace(\"<sssss>\", \" \").strip().split(\" \")\n",
    "            articles.append(article)\n",
    "            labels.append(label)\n",
    "    return articles, labels\n",
    "        \n",
    "\n",
    "train_articles, train_labels = loadDataSet(\".\\\\data\\\\MulLabelTrain.ss\")\n",
    "test_articles, test_labels = loadDataSet(\".\\\\data\\\\MulLabelTest.ss\")\n",
    "\n",
    "len(train_articles), len(test_articles)"
   ]
  },
  {
   "cell_type": "code",
   "execution_count": 170,
   "metadata": {
    "ExecuteTime": {
     "end_time": "2018-01-08T14:22:09.957741Z",
     "start_time": "2018-01-08T14:22:09.941729Z"
    }
   },
   "outputs": [
    {
     "name": "stdout",
     "output_type": "stream",
     "text": [
      "['we', 'went', 'on', 'a', 'sunday', 'around', '11am', 'we', 'got', 'seated', 'right', 'away', '.', '', '', 'the', 'menu', 'is', 'trying', 'to', 'be', 'like', 'a', 'new-american', 'style', 'type', 'of', 'menu', '.', '', '', 'i', 'ordered', 'chicken', 'and', 'waffles', 'and', 'the', 'bo', 'ordered', 'a', 'breakfast', 'burrito', '.', '', '', 'our', 'meals', 'took', 'around', '25', 'minutes', 'to', 'come', 'out', 'and', 'my', 'boyfriend', 'even', 'commented', 'saying', 'how', 'all', 'the', 'people', 'sitting', 'next', 'to', 'us', 'no', 'one', 'had', 'a', 'plate', 'in', 'front', 'of', 'them', '.', '', '', 'sunday', 'must', 'have', 'been', 'a', 'new', 'employee', 'training', 'day', 'because', 'there', 'was', 'so', 'many', 'kids', 'wandering', 'around', 'and', 'around', 'the', 'restaurant', 'with', 'no', 'real', 'task', 'at', 'hand', '.', '', '', 'the', 'coffee', '...', 'the', 'coffee', 'was', 'good', '.', '', '', 'then', ',', 'finally', 'our', 'food', 'came', 'out', '.', '', '', 'my', 'chicken', 'was', 'good', 'and', 'it', 'was', 'a', 'baked', 'chicken', 'breast', 'breaded', '.', '', '', 'my', 'waffle', 'was', 'half', 'a', 'waffle', '.', '', '', 'two', 'pieces', 'came', 'out', 'and', 'they', 'were', 'toasted', 'cajun', 'style', '-lrb-', 'like', 'a', 'brick', '-rrb-', 'i', 'think', 'they', 'were', 'seasoned', 'with', 'a', 'pepper', 'or', 'something', 'too', '?', '', '', 'my', 'scrambled', 'eggs', 'came', 'out', 'already', 'mixed', 'with', 'syrup', '.', '', '', 'boy', \"'s\", 'burrito', 'came', 'out', 'on', 'a', 'green', 'pita', 'wrap', 'tortilla', 'and', 'carne', 'mixed', 'with', 'eggs', 'and', 'some', 'avocado', 'on', 'the', 'side', '.', '', '', 'the', '``', 'carne', \"''\", 'or', 'meat', 'had', 'a', 'lot', 'of', 'fat', 'on', 'it', '.', '', '', 'breakfast', 'was', '$', '30', '.', '', '', 'i', 'wont', 'be', 'back', '.'] \n",
      "\n",
      " LOW\n"
     ]
    }
   ],
   "source": [
    "print(train_articles[0], \"\\n\\n\", train_labels[0])"
   ]
  },
  {
   "cell_type": "markdown",
   "metadata": {},
   "source": [
    "# 去除高频词和低频词得到所有词列表"
   ]
  },
  {
   "cell_type": "code",
   "execution_count": 171,
   "metadata": {
    "ExecuteTime": {
     "end_time": "2018-01-08T14:22:11.672854Z",
     "start_time": "2018-01-08T14:22:09.961745Z"
    }
   },
   "outputs": [
    {
     "data": {
      "text/plain": [
       "(12484342, 1718287)"
      ]
     },
     "execution_count": 171,
     "metadata": {},
     "output_type": "execute_result"
    }
   ],
   "source": [
    "all_word_train_mix = [j for i in train_articles for j in i]\n",
    "all_word_test_mix = [j for i in test_articles for j in i]\n",
    "\n",
    "len(all_word_train_mix), len(all_word_test_mix)"
   ]
  },
  {
   "cell_type": "code",
   "execution_count": 172,
   "metadata": {
    "ExecuteTime": {
     "end_time": "2018-01-08T14:22:12.334817Z",
     "start_time": "2018-01-08T14:22:11.675855Z"
    }
   },
   "outputs": [
    {
     "data": {
      "text/plain": [
       "14202629"
      ]
     },
     "execution_count": 172,
     "metadata": {},
     "output_type": "execute_result"
    }
   ],
   "source": [
    "all_word_mix = all_word_train_mix + all_word_test_mix\n",
    "len(all_word_mix)"
   ]
  },
  {
   "cell_type": "code",
   "execution_count": 173,
   "metadata": {
    "ExecuteTime": {
     "end_time": "2018-01-08T14:22:15.542808Z",
     "start_time": "2018-01-08T14:22:12.342823Z"
    },
    "scrolled": false
   },
   "outputs": [
    {
     "data": {
      "text/html": [
       "<div>\n",
       "<table border=\"1\" class=\"dataframe\">\n",
       "  <thead>\n",
       "    <tr style=\"text-align: right;\">\n",
       "      <th></th>\n",
       "      <th>words</th>\n",
       "      <th>count</th>\n",
       "    </tr>\n",
       "  </thead>\n",
       "  <tbody>\n",
       "    <tr>\n",
       "      <th>0</th>\n",
       "      <td></td>\n",
       "      <td>1409774</td>\n",
       "    </tr>\n",
       "    <tr>\n",
       "      <th>1</th>\n",
       "      <td>.</td>\n",
       "      <td>654655</td>\n",
       "    </tr>\n",
       "    <tr>\n",
       "      <th>2</th>\n",
       "      <td>the</td>\n",
       "      <td>570801</td>\n",
       "    </tr>\n",
       "    <tr>\n",
       "      <th>3</th>\n",
       "      <td>,</td>\n",
       "      <td>463638</td>\n",
       "    </tr>\n",
       "    <tr>\n",
       "      <th>4</th>\n",
       "      <td>and</td>\n",
       "      <td>367589</td>\n",
       "    </tr>\n",
       "    <tr>\n",
       "      <th>5</th>\n",
       "      <td>i</td>\n",
       "      <td>356670</td>\n",
       "    </tr>\n",
       "    <tr>\n",
       "      <th>6</th>\n",
       "      <td>a</td>\n",
       "      <td>307561</td>\n",
       "    </tr>\n",
       "    <tr>\n",
       "      <th>7</th>\n",
       "      <td>to</td>\n",
       "      <td>245392</td>\n",
       "    </tr>\n",
       "    <tr>\n",
       "      <th>8</th>\n",
       "      <td>it</td>\n",
       "      <td>189410</td>\n",
       "    </tr>\n",
       "    <tr>\n",
       "      <th>9</th>\n",
       "      <td>of</td>\n",
       "      <td>182720</td>\n",
       "    </tr>\n",
       "    <tr>\n",
       "      <th>10</th>\n",
       "      <td>was</td>\n",
       "      <td>182370</td>\n",
       "    </tr>\n",
       "    <tr>\n",
       "      <th>11</th>\n",
       "      <td>is</td>\n",
       "      <td>146625</td>\n",
       "    </tr>\n",
       "    <tr>\n",
       "      <th>12</th>\n",
       "      <td>for</td>\n",
       "      <td>127494</td>\n",
       "    </tr>\n",
       "    <tr>\n",
       "      <th>13</th>\n",
       "      <td>in</td>\n",
       "      <td>116523</td>\n",
       "    </tr>\n",
       "    <tr>\n",
       "      <th>14</th>\n",
       "      <td>that</td>\n",
       "      <td>109647</td>\n",
       "    </tr>\n",
       "    <tr>\n",
       "      <th>15</th>\n",
       "      <td>with</td>\n",
       "      <td>99121</td>\n",
       "    </tr>\n",
       "    <tr>\n",
       "      <th>16</th>\n",
       "      <td>but</td>\n",
       "      <td>96750</td>\n",
       "    </tr>\n",
       "    <tr>\n",
       "      <th>17</th>\n",
       "      <td>you</td>\n",
       "      <td>96635</td>\n",
       "    </tr>\n",
       "    <tr>\n",
       "      <th>18</th>\n",
       "      <td>my</td>\n",
       "      <td>89562</td>\n",
       "    </tr>\n",
       "    <tr>\n",
       "      <th>19</th>\n",
       "      <td>this</td>\n",
       "      <td>82824</td>\n",
       "    </tr>\n",
       "    <tr>\n",
       "      <th>20</th>\n",
       "      <td>'s</td>\n",
       "      <td>82302</td>\n",
       "    </tr>\n",
       "    <tr>\n",
       "      <th>21</th>\n",
       "      <td>we</td>\n",
       "      <td>80151</td>\n",
       "    </tr>\n",
       "    <tr>\n",
       "      <th>22</th>\n",
       "      <td>on</td>\n",
       "      <td>79246</td>\n",
       "    </tr>\n",
       "    <tr>\n",
       "      <th>23</th>\n",
       "      <td>!</td>\n",
       "      <td>79097</td>\n",
       "    </tr>\n",
       "    <tr>\n",
       "      <th>24</th>\n",
       "      <td>they</td>\n",
       "      <td>77313</td>\n",
       "    </tr>\n",
       "    <tr>\n",
       "      <th>25</th>\n",
       "      <td>n't</td>\n",
       "      <td>75843</td>\n",
       "    </tr>\n",
       "    <tr>\n",
       "      <th>26</th>\n",
       "      <td>have</td>\n",
       "      <td>74338</td>\n",
       "    </tr>\n",
       "    <tr>\n",
       "      <th>27</th>\n",
       "      <td>not</td>\n",
       "      <td>64428</td>\n",
       "    </tr>\n",
       "    <tr>\n",
       "      <th>28</th>\n",
       "      <td>had</td>\n",
       "      <td>63439</td>\n",
       "    </tr>\n",
       "    <tr>\n",
       "      <th>29</th>\n",
       "      <td>good</td>\n",
       "      <td>60518</td>\n",
       "    </tr>\n",
       "    <tr>\n",
       "      <th>...</th>\n",
       "      <td>...</td>\n",
       "      <td>...</td>\n",
       "    </tr>\n",
       "    <tr>\n",
       "      <th>96787</th>\n",
       "      <td>loooonnngg</td>\n",
       "      <td>1</td>\n",
       "    </tr>\n",
       "    <tr>\n",
       "      <th>96788</th>\n",
       "      <td>w/these</td>\n",
       "      <td>1</td>\n",
       "    </tr>\n",
       "    <tr>\n",
       "      <th>96789</th>\n",
       "      <td>spumante</td>\n",
       "      <td>1</td>\n",
       "    </tr>\n",
       "    <tr>\n",
       "      <th>96790</th>\n",
       "      <td>ice/spumoni</td>\n",
       "      <td>1</td>\n",
       "    </tr>\n",
       "    <tr>\n",
       "      <th>96791</th>\n",
       "      <td>http://www.yelp.com/biz_photos/village-tavern-...</td>\n",
       "      <td>1</td>\n",
       "    </tr>\n",
       "    <tr>\n",
       "      <th>96792</th>\n",
       "      <td>bass-driven</td>\n",
       "      <td>1</td>\n",
       "    </tr>\n",
       "    <tr>\n",
       "      <th>96793</th>\n",
       "      <td>simalar</td>\n",
       "      <td>1</td>\n",
       "    </tr>\n",
       "    <tr>\n",
       "      <th>96794</th>\n",
       "      <td>slitty</td>\n",
       "      <td>1</td>\n",
       "    </tr>\n",
       "    <tr>\n",
       "      <th>96795</th>\n",
       "      <td>minastrone</td>\n",
       "      <td>1</td>\n",
       "    </tr>\n",
       "    <tr>\n",
       "      <th>96796</th>\n",
       "      <td>overll</td>\n",
       "      <td>1</td>\n",
       "    </tr>\n",
       "    <tr>\n",
       "      <th>96797</th>\n",
       "      <td>nooooooorth</td>\n",
       "      <td>1</td>\n",
       "    </tr>\n",
       "    <tr>\n",
       "      <th>96798</th>\n",
       "      <td>backwater</td>\n",
       "      <td>1</td>\n",
       "    </tr>\n",
       "    <tr>\n",
       "      <th>96799</th>\n",
       "      <td>http://www.thirteenorthgrille.com/menu</td>\n",
       "      <td>1</td>\n",
       "    </tr>\n",
       "    <tr>\n",
       "      <th>96800</th>\n",
       "      <td>un/undercooked</td>\n",
       "      <td>1</td>\n",
       "    </tr>\n",
       "    <tr>\n",
       "      <th>96801</th>\n",
       "      <td>job/pet</td>\n",
       "      <td>1</td>\n",
       "    </tr>\n",
       "    <tr>\n",
       "      <th>96802</th>\n",
       "      <td>epicentre</td>\n",
       "      <td>1</td>\n",
       "    </tr>\n",
       "    <tr>\n",
       "      <th>96803</th>\n",
       "      <td>hand-wave</td>\n",
       "      <td>1</td>\n",
       "    </tr>\n",
       "    <tr>\n",
       "      <th>96804</th>\n",
       "      <td>ehtiopian</td>\n",
       "      <td>1</td>\n",
       "    </tr>\n",
       "    <tr>\n",
       "      <th>96805</th>\n",
       "      <td>tip/danger</td>\n",
       "      <td>1</td>\n",
       "    </tr>\n",
       "    <tr>\n",
       "      <th>96806</th>\n",
       "      <td>rewarmed</td>\n",
       "      <td>1</td>\n",
       "    </tr>\n",
       "    <tr>\n",
       "      <th>96807</th>\n",
       "      <td>next-time</td>\n",
       "      <td>1</td>\n",
       "    </tr>\n",
       "    <tr>\n",
       "      <th>96808</th>\n",
       "      <td>speciatly</td>\n",
       "      <td>1</td>\n",
       "    </tr>\n",
       "    <tr>\n",
       "      <th>96809</th>\n",
       "      <td>millionaire-like</td>\n",
       "      <td>1</td>\n",
       "    </tr>\n",
       "    <tr>\n",
       "      <th>96810</th>\n",
       "      <td>forkload</td>\n",
       "      <td>1</td>\n",
       "    </tr>\n",
       "    <tr>\n",
       "      <th>96811</th>\n",
       "      <td>light-haired</td>\n",
       "      <td>1</td>\n",
       "    </tr>\n",
       "    <tr>\n",
       "      <th>96812</th>\n",
       "      <td>ferguson</td>\n",
       "      <td>1</td>\n",
       "    </tr>\n",
       "    <tr>\n",
       "      <th>96813</th>\n",
       "      <td>disperses</td>\n",
       "      <td>1</td>\n",
       "    </tr>\n",
       "    <tr>\n",
       "      <th>96814</th>\n",
       "      <td>breads/pretzels/sausages</td>\n",
       "      <td>1</td>\n",
       "    </tr>\n",
       "    <tr>\n",
       "      <th>96815</th>\n",
       "      <td>aiyaaah</td>\n",
       "      <td>1</td>\n",
       "    </tr>\n",
       "    <tr>\n",
       "      <th>96816</th>\n",
       "      <td>cannolli</td>\n",
       "      <td>1</td>\n",
       "    </tr>\n",
       "  </tbody>\n",
       "</table>\n",
       "<p>96817 rows × 2 columns</p>\n",
       "</div>"
      ],
      "text/plain": [
       "                                                   words    count\n",
       "0                                                         1409774\n",
       "1                                                      .   654655\n",
       "2                                                    the   570801\n",
       "3                                                      ,   463638\n",
       "4                                                    and   367589\n",
       "5                                                      i   356670\n",
       "6                                                      a   307561\n",
       "7                                                     to   245392\n",
       "8                                                     it   189410\n",
       "9                                                     of   182720\n",
       "10                                                   was   182370\n",
       "11                                                    is   146625\n",
       "12                                                   for   127494\n",
       "13                                                    in   116523\n",
       "14                                                  that   109647\n",
       "15                                                  with    99121\n",
       "16                                                   but    96750\n",
       "17                                                   you    96635\n",
       "18                                                    my    89562\n",
       "19                                                  this    82824\n",
       "20                                                    's    82302\n",
       "21                                                    we    80151\n",
       "22                                                    on    79246\n",
       "23                                                     !    79097\n",
       "24                                                  they    77313\n",
       "25                                                   n't    75843\n",
       "26                                                  have    74338\n",
       "27                                                   not    64428\n",
       "28                                                   had    63439\n",
       "29                                                  good    60518\n",
       "...                                                  ...      ...\n",
       "96787                                         loooonnngg        1\n",
       "96788                                            w/these        1\n",
       "96789                                           spumante        1\n",
       "96790                                        ice/spumoni        1\n",
       "96791  http://www.yelp.com/biz_photos/village-tavern-...        1\n",
       "96792                                        bass-driven        1\n",
       "96793                                            simalar        1\n",
       "96794                                             slitty        1\n",
       "96795                                         minastrone        1\n",
       "96796                                             overll        1\n",
       "96797                                        nooooooorth        1\n",
       "96798                                          backwater        1\n",
       "96799             http://www.thirteenorthgrille.com/menu        1\n",
       "96800                                     un/undercooked        1\n",
       "96801                                            job/pet        1\n",
       "96802                                          epicentre        1\n",
       "96803                                          hand-wave        1\n",
       "96804                                          ehtiopian        1\n",
       "96805                                         tip/danger        1\n",
       "96806                                           rewarmed        1\n",
       "96807                                          next-time        1\n",
       "96808                                          speciatly        1\n",
       "96809                                   millionaire-like        1\n",
       "96810                                           forkload        1\n",
       "96811                                       light-haired        1\n",
       "96812                                           ferguson        1\n",
       "96813                                          disperses        1\n",
       "96814                           breads/pretzels/sausages        1\n",
       "96815                                            aiyaaah        1\n",
       "96816                                           cannolli        1\n",
       "\n",
       "[96817 rows x 2 columns]"
      ]
     },
     "execution_count": 173,
     "metadata": {},
     "output_type": "execute_result"
    }
   ],
   "source": [
    "def getCountDF(in_list):  \n",
    "    #根据Counter统计的词频初始化df\n",
    "    df = DF.from_dict(Counter(in_list), orient='index').reset_index()\n",
    "    #根据count值降序排序\n",
    "    df = df.rename(columns={'index':'words',\n",
    "                                  0:'count'}).sort_values([\"count\"],ascending=False).reset_index(drop=True)\n",
    "    return df\n",
    "\n",
    "all_word_mix_df = getCountDF(all_word_mix)\n",
    "all_word_mix_df"
   ]
  },
  {
   "cell_type": "code",
   "execution_count": 174,
   "metadata": {
    "ExecuteTime": {
     "end_time": "2018-01-08T14:22:15.593842Z",
     "start_time": "2018-01-08T14:22:15.545809Z"
    }
   },
   "outputs": [
    {
     "data": {
      "text/plain": [
       "(1789, 2)"
      ]
     },
     "execution_count": 174,
     "metadata": {},
     "output_type": "execute_result"
    },
    {
     "data": {
      "text/html": [
       "<div>\n",
       "<table border=\"1\" class=\"dataframe\">\n",
       "  <thead>\n",
       "    <tr style=\"text-align: right;\">\n",
       "      <th></th>\n",
       "      <th>words</th>\n",
       "      <th>count</th>\n",
       "    </tr>\n",
       "  </thead>\n",
       "  <tbody>\n",
       "    <tr>\n",
       "      <th>0</th>\n",
       "      <td>as</td>\n",
       "      <td>48376</td>\n",
       "    </tr>\n",
       "    <tr>\n",
       "      <th>1</th>\n",
       "      <td>be</td>\n",
       "      <td>46476</td>\n",
       "    </tr>\n",
       "    <tr>\n",
       "      <th>2</th>\n",
       "      <td>there</td>\n",
       "      <td>45697</td>\n",
       "    </tr>\n",
       "    <tr>\n",
       "      <th>3</th>\n",
       "      <td>like</td>\n",
       "      <td>45040</td>\n",
       "    </tr>\n",
       "    <tr>\n",
       "      <th>4</th>\n",
       "      <td>just</td>\n",
       "      <td>40068</td>\n",
       "    </tr>\n",
       "    <tr>\n",
       "      <th>5</th>\n",
       "      <td>great</td>\n",
       "      <td>39185</td>\n",
       "    </tr>\n",
       "    <tr>\n",
       "      <th>6</th>\n",
       "      <td>here</td>\n",
       "      <td>39174</td>\n",
       "    </tr>\n",
       "    <tr>\n",
       "      <th>7</th>\n",
       "      <td>all</td>\n",
       "      <td>38947</td>\n",
       "    </tr>\n",
       "    <tr>\n",
       "      <th>8</th>\n",
       "      <td>if</td>\n",
       "      <td>37434</td>\n",
       "    </tr>\n",
       "    <tr>\n",
       "      <th>9</th>\n",
       "      <td>out</td>\n",
       "      <td>37273</td>\n",
       "    </tr>\n",
       "    <tr>\n",
       "      <th>10</th>\n",
       "      <td>do</td>\n",
       "      <td>36223</td>\n",
       "    </tr>\n",
       "    <tr>\n",
       "      <th>11</th>\n",
       "      <td>me</td>\n",
       "      <td>36167</td>\n",
       "    </tr>\n",
       "    <tr>\n",
       "      <th>12</th>\n",
       "      <td>very</td>\n",
       "      <td>34755</td>\n",
       "    </tr>\n",
       "    <tr>\n",
       "      <th>13</th>\n",
       "      <td>one</td>\n",
       "      <td>33928</td>\n",
       "    </tr>\n",
       "    <tr>\n",
       "      <th>14</th>\n",
       "      <td>or</td>\n",
       "      <td>33419</td>\n",
       "    </tr>\n",
       "    <tr>\n",
       "      <th>15</th>\n",
       "      <td>their</td>\n",
       "      <td>32549</td>\n",
       "    </tr>\n",
       "    <tr>\n",
       "      <th>16</th>\n",
       "      <td>-</td>\n",
       "      <td>32416</td>\n",
       "    </tr>\n",
       "    <tr>\n",
       "      <th>17</th>\n",
       "      <td>really</td>\n",
       "      <td>31716</td>\n",
       "    </tr>\n",
       "    <tr>\n",
       "      <th>18</th>\n",
       "      <td>get</td>\n",
       "      <td>31635</td>\n",
       "    </tr>\n",
       "    <tr>\n",
       "      <th>19</th>\n",
       "      <td>some</td>\n",
       "      <td>30098</td>\n",
       "    </tr>\n",
       "    <tr>\n",
       "      <th>20</th>\n",
       "      <td>our</td>\n",
       "      <td>28952</td>\n",
       "    </tr>\n",
       "    <tr>\n",
       "      <th>21</th>\n",
       "      <td>time</td>\n",
       "      <td>28683</td>\n",
       "    </tr>\n",
       "    <tr>\n",
       "      <th>22</th>\n",
       "      <td>from</td>\n",
       "      <td>28257</td>\n",
       "    </tr>\n",
       "    <tr>\n",
       "      <th>23</th>\n",
       "      <td>up</td>\n",
       "      <td>28223</td>\n",
       "    </tr>\n",
       "    <tr>\n",
       "      <th>24</th>\n",
       "      <td>go</td>\n",
       "      <td>28060</td>\n",
       "    </tr>\n",
       "    <tr>\n",
       "      <th>25</th>\n",
       "      <td>would</td>\n",
       "      <td>27630</td>\n",
       "    </tr>\n",
       "    <tr>\n",
       "      <th>26</th>\n",
       "      <td>when</td>\n",
       "      <td>27378</td>\n",
       "    </tr>\n",
       "    <tr>\n",
       "      <th>27</th>\n",
       "      <td>which</td>\n",
       "      <td>27079</td>\n",
       "    </tr>\n",
       "    <tr>\n",
       "      <th>28</th>\n",
       "      <td>about</td>\n",
       "      <td>27070</td>\n",
       "    </tr>\n",
       "    <tr>\n",
       "      <th>29</th>\n",
       "      <td>can</td>\n",
       "      <td>25343</td>\n",
       "    </tr>\n",
       "    <tr>\n",
       "      <th>...</th>\n",
       "      <td>...</td>\n",
       "      <td>...</td>\n",
       "    </tr>\n",
       "    <tr>\n",
       "      <th>1759</th>\n",
       "      <td>relaxed</td>\n",
       "      <td>513</td>\n",
       "    </tr>\n",
       "    <tr>\n",
       "      <th>1760</th>\n",
       "      <td>dj</td>\n",
       "      <td>513</td>\n",
       "    </tr>\n",
       "    <tr>\n",
       "      <th>1761</th>\n",
       "      <td>accommodating</td>\n",
       "      <td>511</td>\n",
       "    </tr>\n",
       "    <tr>\n",
       "      <th>1762</th>\n",
       "      <td>sizes</td>\n",
       "      <td>511</td>\n",
       "    </tr>\n",
       "    <tr>\n",
       "      <th>1763</th>\n",
       "      <td>sampled</td>\n",
       "      <td>511</td>\n",
       "    </tr>\n",
       "    <tr>\n",
       "      <th>1764</th>\n",
       "      <td>shell</td>\n",
       "      <td>511</td>\n",
       "    </tr>\n",
       "    <tr>\n",
       "      <th>1765</th>\n",
       "      <td>played</td>\n",
       "      <td>510</td>\n",
       "    </tr>\n",
       "    <tr>\n",
       "      <th>1766</th>\n",
       "      <td>learned</td>\n",
       "      <td>509</td>\n",
       "    </tr>\n",
       "    <tr>\n",
       "      <th>1767</th>\n",
       "      <td>spending</td>\n",
       "      <td>509</td>\n",
       "    </tr>\n",
       "    <tr>\n",
       "      <th>1768</th>\n",
       "      <td>sharing</td>\n",
       "      <td>507</td>\n",
       "    </tr>\n",
       "    <tr>\n",
       "      <th>1769</th>\n",
       "      <td>???</td>\n",
       "      <td>506</td>\n",
       "    </tr>\n",
       "    <tr>\n",
       "      <th>1770</th>\n",
       "      <td>peach</td>\n",
       "      <td>506</td>\n",
       "    </tr>\n",
       "    <tr>\n",
       "      <th>1771</th>\n",
       "      <td>diners</td>\n",
       "      <td>506</td>\n",
       "    </tr>\n",
       "    <tr>\n",
       "      <th>1772</th>\n",
       "      <td>dropped</td>\n",
       "      <td>505</td>\n",
       "    </tr>\n",
       "    <tr>\n",
       "      <th>1773</th>\n",
       "      <td>buying</td>\n",
       "      <td>504</td>\n",
       "    </tr>\n",
       "    <tr>\n",
       "      <th>1774</th>\n",
       "      <td>compare</td>\n",
       "      <td>504</td>\n",
       "    </tr>\n",
       "    <tr>\n",
       "      <th>1775</th>\n",
       "      <td>stood</td>\n",
       "      <td>504</td>\n",
       "    </tr>\n",
       "    <tr>\n",
       "      <th>1776</th>\n",
       "      <td>culinary</td>\n",
       "      <td>504</td>\n",
       "    </tr>\n",
       "    <tr>\n",
       "      <th>1777</th>\n",
       "      <td>management</td>\n",
       "      <td>503</td>\n",
       "    </tr>\n",
       "    <tr>\n",
       "      <th>1778</th>\n",
       "      <td>pizzeria</td>\n",
       "      <td>503</td>\n",
       "    </tr>\n",
       "    <tr>\n",
       "      <th>1779</th>\n",
       "      <td>steamed</td>\n",
       "      <td>502</td>\n",
       "    </tr>\n",
       "    <tr>\n",
       "      <th>1780</th>\n",
       "      <td>fault</td>\n",
       "      <td>502</td>\n",
       "    </tr>\n",
       "    <tr>\n",
       "      <th>1781</th>\n",
       "      <td>pictures</td>\n",
       "      <td>502</td>\n",
       "    </tr>\n",
       "    <tr>\n",
       "      <th>1782</th>\n",
       "      <td>wear</td>\n",
       "      <td>502</td>\n",
       "    </tr>\n",
       "    <tr>\n",
       "      <th>1783</th>\n",
       "      <td>shake</td>\n",
       "      <td>501</td>\n",
       "    </tr>\n",
       "    <tr>\n",
       "      <th>1784</th>\n",
       "      <td>fondue</td>\n",
       "      <td>501</td>\n",
       "    </tr>\n",
       "    <tr>\n",
       "      <th>1785</th>\n",
       "      <td>miles</td>\n",
       "      <td>500</td>\n",
       "    </tr>\n",
       "    <tr>\n",
       "      <th>1786</th>\n",
       "      <td>self</td>\n",
       "      <td>500</td>\n",
       "    </tr>\n",
       "    <tr>\n",
       "      <th>1787</th>\n",
       "      <td>cards</td>\n",
       "      <td>500</td>\n",
       "    </tr>\n",
       "    <tr>\n",
       "      <th>1788</th>\n",
       "      <td>happens</td>\n",
       "      <td>500</td>\n",
       "    </tr>\n",
       "  </tbody>\n",
       "</table>\n",
       "<p>1789 rows × 2 columns</p>\n",
       "</div>"
      ],
      "text/plain": [
       "              words  count\n",
       "0                as  48376\n",
       "1                be  46476\n",
       "2             there  45697\n",
       "3              like  45040\n",
       "4              just  40068\n",
       "5             great  39185\n",
       "6              here  39174\n",
       "7               all  38947\n",
       "8                if  37434\n",
       "9               out  37273\n",
       "10               do  36223\n",
       "11               me  36167\n",
       "12             very  34755\n",
       "13              one  33928\n",
       "14               or  33419\n",
       "15            their  32549\n",
       "16                -  32416\n",
       "17           really  31716\n",
       "18              get  31635\n",
       "19             some  30098\n",
       "20              our  28952\n",
       "21             time  28683\n",
       "22             from  28257\n",
       "23               up  28223\n",
       "24               go  28060\n",
       "25            would  27630\n",
       "26             when  27378\n",
       "27            which  27079\n",
       "28            about  27070\n",
       "29              can  25343\n",
       "...             ...    ...\n",
       "1759        relaxed    513\n",
       "1760             dj    513\n",
       "1761  accommodating    511\n",
       "1762          sizes    511\n",
       "1763        sampled    511\n",
       "1764          shell    511\n",
       "1765         played    510\n",
       "1766        learned    509\n",
       "1767       spending    509\n",
       "1768        sharing    507\n",
       "1769            ???    506\n",
       "1770          peach    506\n",
       "1771         diners    506\n",
       "1772        dropped    505\n",
       "1773         buying    504\n",
       "1774        compare    504\n",
       "1775          stood    504\n",
       "1776       culinary    504\n",
       "1777     management    503\n",
       "1778       pizzeria    503\n",
       "1779        steamed    502\n",
       "1780          fault    502\n",
       "1781       pictures    502\n",
       "1782           wear    502\n",
       "1783          shake    501\n",
       "1784         fondue    501\n",
       "1785          miles    500\n",
       "1786           self    500\n",
       "1787          cards    500\n",
       "1788        happens    500\n",
       "\n",
       "[1789 rows x 2 columns]"
      ]
     },
     "execution_count": 174,
     "metadata": {},
     "output_type": "execute_result"
    }
   ],
   "source": [
    "low, high = 500, 50000\n",
    "df2 = all_word_mix_df[np.logical_and(low <= all_word_mix_df['count'], all_word_mix_df['count'] <= high)].reset_index(drop=True) \n",
    "df2.shape\n",
    "df2"
   ]
  },
  {
   "cell_type": "code",
   "execution_count": 175,
   "metadata": {
    "ExecuteTime": {
     "end_time": "2018-01-08T14:22:15.723948Z",
     "start_time": "2018-01-08T14:22:15.598847Z"
    },
    "scrolled": false
   },
   "outputs": [
    {
     "data": {
      "text/html": [
       "<div>\n",
       "<table border=\"1\" class=\"dataframe\">\n",
       "  <thead>\n",
       "    <tr style=\"text-align: right;\">\n",
       "      <th></th>\n",
       "      <th>words</th>\n",
       "    </tr>\n",
       "  </thead>\n",
       "  <tbody>\n",
       "    <tr>\n",
       "      <th>0</th>\n",
       "      <td>as</td>\n",
       "    </tr>\n",
       "    <tr>\n",
       "      <th>1</th>\n",
       "      <td>be</td>\n",
       "    </tr>\n",
       "    <tr>\n",
       "      <th>2</th>\n",
       "      <td>there</td>\n",
       "    </tr>\n",
       "    <tr>\n",
       "      <th>3</th>\n",
       "      <td>like</td>\n",
       "    </tr>\n",
       "    <tr>\n",
       "      <th>4</th>\n",
       "      <td>just</td>\n",
       "    </tr>\n",
       "    <tr>\n",
       "      <th>5</th>\n",
       "      <td>great</td>\n",
       "    </tr>\n",
       "    <tr>\n",
       "      <th>6</th>\n",
       "      <td>here</td>\n",
       "    </tr>\n",
       "    <tr>\n",
       "      <th>7</th>\n",
       "      <td>all</td>\n",
       "    </tr>\n",
       "    <tr>\n",
       "      <th>8</th>\n",
       "      <td>if</td>\n",
       "    </tr>\n",
       "    <tr>\n",
       "      <th>9</th>\n",
       "      <td>out</td>\n",
       "    </tr>\n",
       "    <tr>\n",
       "      <th>10</th>\n",
       "      <td>do</td>\n",
       "    </tr>\n",
       "    <tr>\n",
       "      <th>11</th>\n",
       "      <td>me</td>\n",
       "    </tr>\n",
       "    <tr>\n",
       "      <th>12</th>\n",
       "      <td>very</td>\n",
       "    </tr>\n",
       "    <tr>\n",
       "      <th>13</th>\n",
       "      <td>one</td>\n",
       "    </tr>\n",
       "    <tr>\n",
       "      <th>14</th>\n",
       "      <td>or</td>\n",
       "    </tr>\n",
       "    <tr>\n",
       "      <th>15</th>\n",
       "      <td>their</td>\n",
       "    </tr>\n",
       "    <tr>\n",
       "      <th>16</th>\n",
       "      <td>-</td>\n",
       "    </tr>\n",
       "    <tr>\n",
       "      <th>17</th>\n",
       "      <td>really</td>\n",
       "    </tr>\n",
       "    <tr>\n",
       "      <th>18</th>\n",
       "      <td>get</td>\n",
       "    </tr>\n",
       "    <tr>\n",
       "      <th>19</th>\n",
       "      <td>some</td>\n",
       "    </tr>\n",
       "  </tbody>\n",
       "</table>\n",
       "</div>"
      ],
      "text/plain": [
       "     words\n",
       "0       as\n",
       "1       be\n",
       "2    there\n",
       "3     like\n",
       "4     just\n",
       "5    great\n",
       "6     here\n",
       "7      all\n",
       "8       if\n",
       "9      out\n",
       "10      do\n",
       "11      me\n",
       "12    very\n",
       "13     one\n",
       "14      or\n",
       "15   their\n",
       "16       -\n",
       "17  really\n",
       "18     get\n",
       "19    some"
      ]
     },
     "execution_count": 175,
     "metadata": {},
     "output_type": "execute_result"
    }
   ],
   "source": [
    "df3 = df2.drop([\"count\"], axis=1)\n",
    "df3.head(20)"
   ]
  },
  {
   "cell_type": "markdown",
   "metadata": {},
   "source": [
    "## 去除数字以及其他无用词汇"
   ]
  },
  {
   "cell_type": "code",
   "execution_count": 176,
   "metadata": {
    "ExecuteTime": {
     "end_time": "2018-01-08T14:22:16.091016Z",
     "start_time": "2018-01-08T14:22:15.729452Z"
    }
   },
   "outputs": [
    {
     "data": {
      "text/plain": [
       "(1789,)"
      ]
     },
     "execution_count": 176,
     "metadata": {},
     "output_type": "execute_result"
    },
    {
     "data": {
      "text/plain": [
       "(1761,)"
      ]
     },
     "execution_count": 176,
     "metadata": {},
     "output_type": "execute_result"
    }
   ],
   "source": [
    "df3[\"words\"].shape\n",
    "df4 = df3[\"words\"].apply(lambda x: re.sub(\"[0-9||\\.||\\?||!]*\", \"\", x))\n",
    "df4 = df4[df4 != \"\"]\n",
    "df4.shape"
   ]
  },
  {
   "cell_type": "code",
   "execution_count": 177,
   "metadata": {
    "ExecuteTime": {
     "end_time": "2018-01-08T14:22:16.100005Z",
     "start_time": "2018-01-08T14:22:16.092999Z"
    }
   },
   "outputs": [
    {
     "data": {
      "text/plain": [
       "array(['as', 'be', 'there', ..., 'self', 'cards', 'happens'], dtype=object)"
      ]
     },
     "execution_count": 177,
     "metadata": {},
     "output_type": "execute_result"
    }
   ],
   "source": [
    "all_word_unique = df4.values\n",
    "all_word_unique"
   ]
  },
  {
   "cell_type": "markdown",
   "metadata": {},
   "source": [
    "## 测试-1\n",
    "\n",
    "检查训练集和测试集的词的不重复数"
   ]
  },
  {
   "cell_type": "code",
   "execution_count": 178,
   "metadata": {
    "ExecuteTime": {
     "end_time": "2018-01-08T14:22:16.246156Z",
     "start_time": "2018-01-08T14:22:16.102004Z"
    }
   },
   "outputs": [],
   "source": [
    "# all_word_train = set(all_word_train_mix)\n",
    "# all_word_test = set(all_word_test_mix)\n",
    "\n",
    "# len(all_word_train), len(all_word_test), (len(all_word_train) - len(all_word_test))\n",
    "\n",
    "# diff1 = all_word_train.difference(all_word_test)\n",
    "# diff2 = all_word_test.difference(all_word_train)\n",
    "\n",
    "# print(\"number of words in train but not in test: \", len(diff1))\n",
    "# print(\"number of words in test but not in train: \", len(diff2))\n",
    "\n",
    "# all_word = all_word_train.union(all_word_test)\n",
    "# len(all_word)"
   ]
  },
  {
   "cell_type": "markdown",
   "metadata": {},
   "source": [
    "## 测试-2\n",
    "检查词频分布"
   ]
  },
  {
   "cell_type": "code",
   "execution_count": 179,
   "metadata": {
    "ExecuteTime": {
     "end_time": "2018-01-08T14:22:16.356461Z",
     "start_time": "2018-01-08T14:22:16.250158Z"
    }
   },
   "outputs": [],
   "source": [
    "# def show_common_word_rate(lst, k):\n",
    "#     word_counter = Counter(lst)\n",
    "#     cnt = 0\n",
    "#     tot_cnt = len(lst)\n",
    "#     common_pair = word_counter.most_common(k)\n",
    "#     for key, val in common_pair:\n",
    "#         cnt += val\n",
    "#     print(\"max frequent word and count: \", common_pair[0])\n",
    "#     print(\"min frequent word and count: \", common_pair[-1])\n",
    "#     print(\"frequent word count: \", cnt)\n",
    "#     print(\"total word count: \", tot_cnt)\n",
    "#     print(\"remain word count: \", tot_cnt-cnt)\n",
    "#     print(\"rate:%.5f%%\" % (cnt/tot_cnt*100))\n",
    "\n",
    "# #测试\n",
    "# #show_common_word_rate([1,2,3,4,2,2], 2)\n",
    "# show_common_word_rate(all_word_mix, 500)\n",
    "# show_common_word_rate(all_word_mix, 50000)"
   ]
  },
  {
   "cell_type": "markdown",
   "metadata": {},
   "source": [
    "# 得到TF-IDF矩阵"
   ]
  },
  {
   "cell_type": "code",
   "execution_count": 180,
   "metadata": {
    "ExecuteTime": {
     "end_time": "2018-01-08T14:24:37.796750Z",
     "start_time": "2018-01-08T14:22:16.359463Z"
    }
   },
   "outputs": [
    {
     "name": "stdout",
     "output_type": "stream",
     "text": [
      "\n",
      "\n"
     ]
    },
    {
     "data": {
      "text/plain": [
       "((62522, 1761), (8671, 1761))"
      ]
     },
     "execution_count": 180,
     "metadata": {},
     "output_type": "execute_result"
    }
   ],
   "source": [
    "def getTF(dataSet, allWords):\n",
    "    '''得到输入数据集的TF矩阵'''\n",
    "    def safeDivide(a, b):\n",
    "        return a/b if b!=0 else 0\n",
    "    \n",
    "    TF=[]\n",
    "    for index in tnrange(len(dataSet)):\n",
    "        TF.append([])\n",
    "        wordCounter = Counter(dataSet[index])\n",
    "        for word in allWords:\n",
    "            TF[index].append(safeDivide(wordCounter.get(word,0), len(dataSet[index])))\n",
    "    return arr(TF)\n",
    "\n",
    "train_TF = getTF(train_articles, all_word_unique)\n",
    "test_TF = getTF(test_articles, all_word_unique)\n",
    "\n",
    "train_TF.shape, test_TF.shape"
   ]
  },
  {
   "cell_type": "markdown",
   "metadata": {},
   "source": [
    "## 保存TF矩阵"
   ]
  },
  {
   "cell_type": "code",
   "execution_count": 181,
   "metadata": {
    "ExecuteTime": {
     "end_time": "2018-01-08T14:29:30.853205Z",
     "start_time": "2018-01-08T14:24:38.685453Z"
    }
   },
   "outputs": [],
   "source": [
    "dirPath = \"E:\\\\Code\\\\_largeData\\\\Github--Open-Course-Learning--A04\\\\Project\\\\multiclass classification\\\\data preprocessed\\\\tf-idf\"\n",
    "dirPath += \"\\\\without removing stopwords\"\n",
    "\n",
    "if not os.path.exists(dirPath):\n",
    "    os.makedirs(dirPath)\n",
    "\n",
    "    \n",
    "train_tf_DF = DF(train_TF)\n",
    "train_tf_DF.columns = all_word_unique\n",
    "\n",
    "test_tf_DF = DF(test_TF)\n",
    "test_tf_DF.columns = all_word_unique\n",
    "\n",
    "train_tf_DF.to_csv(dirPath + '\\\\train_tf.csv', index=False, header=True)\n",
    "test_tf_DF.to_csv(dirPath + '\\\\test_tf.csv', index=False, header=True)\n",
    "\n",
    "DF(all_word_unique).to_csv(dirPath + '\\\\all_word_unique.csv', index=False, header=True)"
   ]
  },
  {
   "cell_type": "markdown",
   "metadata": {},
   "source": [
    "这里需要注意，有一些样本去掉停用词后整个都没有数据了，这时候就默认TF那一列都为0了。"
   ]
  },
  {
   "cell_type": "code",
   "execution_count": 182,
   "metadata": {
    "ExecuteTime": {
     "end_time": "2018-01-08T14:29:30.864211Z",
     "start_time": "2018-01-08T14:29:30.855205Z"
    }
   },
   "outputs": [
    {
     "data": {
      "text/plain": [
       "['i',\n",
       " 'tried',\n",
       " 'this',\n",
       " 'place',\n",
       " 'twice',\n",
       " 'because',\n",
       " 'it',\n",
       " 'was',\n",
       " 'very',\n",
       " 'different',\n",
       " '.',\n",
       " '',\n",
       " '',\n",
       " 'it',\n",
       " 'is',\n",
       " 'different',\n",
       " 'but',\n",
       " 'that',\n",
       " \"'s\",\n",
       " 'it',\n",
       " '.',\n",
       " '',\n",
       " '',\n",
       " 'the',\n",
       " 'place',\n",
       " 'does',\n",
       " \"n't\",\n",
       " 'have',\n",
       " 'much',\n",
       " 'else',\n",
       " 'going',\n",
       " 'for',\n",
       " 'it',\n",
       " '.']"
      ]
     },
     "execution_count": 182,
     "metadata": {},
     "output_type": "execute_result"
    }
   ],
   "source": [
    "train_articles[5773]"
   ]
  },
  {
   "cell_type": "markdown",
   "metadata": {},
   "source": [
    "## 计算TF-IDF矩阵"
   ]
  },
  {
   "cell_type": "code",
   "execution_count": 183,
   "metadata": {
    "ExecuteTime": {
     "end_time": "2018-01-08T14:39:02.733054Z",
     "start_time": "2018-01-08T14:29:30.867213Z"
    }
   },
   "outputs": [
    {
     "name": "stdout",
     "output_type": "stream",
     "text": [
      "\n",
      "\n"
     ]
    },
    {
     "data": {
      "text/plain": [
       "((1761,), (1761,))"
      ]
     },
     "execution_count": 183,
     "metadata": {},
     "output_type": "execute_result"
    }
   ],
   "source": [
    "import math\n",
    "\n",
    "def getIDF(dataSet, allWords):\n",
    "    '''得到输入数据集的IDF矩阵'''\n",
    "    def calcIDF(num):\n",
    "        '''计算对应数据集的单词的IDF值'''\n",
    "        return math.log(len(dataSet)/(1+num), 2)\n",
    "    \n",
    "    IDF=[]\n",
    "    for i in tnrange(len(allWords)):\n",
    "        cnt = 0\n",
    "        #计算词在每个文档出现的次数\n",
    "        for doc in dataSet: \n",
    "            if allWords[i] in doc:\n",
    "                cnt += 1\n",
    "        IDF.append(calcIDF(cnt))\n",
    "    return arr(IDF)\n",
    "\n",
    "train_IDF = getIDF(train_articles, all_word_unique)\n",
    "test_IDF = getIDF(test_articles, all_word_unique)\n",
    "\n",
    "train_IDF.shape, test_IDF.shape"
   ]
  },
  {
   "cell_type": "code",
   "execution_count": 184,
   "metadata": {
    "ExecuteTime": {
     "end_time": "2018-01-08T14:48:29.014478Z",
     "start_time": "2018-01-08T14:39:02.735058Z"
    }
   },
   "outputs": [
    {
     "name": "stdout",
     "output_type": "stream",
     "text": [
      "\n",
      "\n"
     ]
    },
    {
     "data": {
      "text/plain": [
       "((1761,), (1761,))"
      ]
     },
     "execution_count": 184,
     "metadata": {},
     "output_type": "execute_result"
    }
   ],
   "source": [
    "import math\n",
    "\n",
    "def getIDF(dataSet, allWords):\n",
    "    '''得到输入数据集的IDF矩阵'''\n",
    "    def calcIDF(num):\n",
    "        '''计算对应数据集的单词的IDF值'''\n",
    "        return math.log(len(dataSet)/(1+num), 2)\n",
    "    \n",
    "    IDF=[]\n",
    "    for i in tnrange(len(allWords)):\n",
    "        cnt = 0\n",
    "        #计算词在每个文档出现的次数\n",
    "        for doc in dataSet: \n",
    "            if allWords[i] in doc:\n",
    "                cnt += 1\n",
    "        IDF.append(calcIDF(cnt))\n",
    "    return arr(IDF)\n",
    "\n",
    "train_IDF = getIDF(train_articles, all_word_unique)\n",
    "test_IDF = getIDF(test_articles, all_word_unique)\n",
    "\n",
    "train_IDF.shape, test_IDF.shape"
   ]
  },
  {
   "cell_type": "code",
   "execution_count": 185,
   "metadata": {
    "ExecuteTime": {
     "end_time": "2018-01-08T14:48:29.623617Z",
     "start_time": "2018-01-08T14:48:29.016480Z"
    }
   },
   "outputs": [
    {
     "data": {
      "text/plain": [
       "((62522, 1761), (8671, 1761))"
      ]
     },
     "execution_count": 185,
     "metadata": {},
     "output_type": "execute_result"
    }
   ],
   "source": [
    "train_TFIDF = train_TF * train_IDF\n",
    "test_TFIDF = test_TF * test_IDF\n",
    "\n",
    "train_TFIDF.shape, test_TFIDF.shape"
   ]
  },
  {
   "cell_type": "markdown",
   "metadata": {},
   "source": [
    "### 保存TF-IDF矩阵"
   ]
  },
  {
   "cell_type": "code",
   "execution_count": 186,
   "metadata": {
    "ExecuteTime": {
     "end_time": "2018-01-08T14:52:59.351498Z",
     "start_time": "2018-01-08T14:48:29.647625Z"
    }
   },
   "outputs": [],
   "source": [
    "train_tfidf = DF(train_TFIDF)\n",
    "train_tfidf.columns = all_word_unique\n",
    "\n",
    "test_tfidf = DF(test_TFIDF)\n",
    "test_tfidf.columns = all_word_unique\n",
    "\n",
    "train_tfidf.to_csv(dirPath + '\\\\train_tfidf.csv', index=False, header=True)\n",
    "test_tfidf.to_csv(dirPath + '\\\\test_tfidf.csv', index=False, header=True)"
   ]
  },
  {
   "cell_type": "markdown",
   "metadata": {},
   "source": [
    "## 划分数据集"
   ]
  },
  {
   "cell_type": "code",
   "execution_count": 187,
   "metadata": {
    "ExecuteTime": {
     "end_time": "2018-01-08T14:52:59.453046Z",
     "start_time": "2018-01-08T14:52:59.353969Z"
    }
   },
   "outputs": [
    {
     "data": {
      "text/plain": [
       "((43766, 1761), (18756, 1761))"
      ]
     },
     "execution_count": 187,
     "metadata": {},
     "output_type": "execute_result"
    }
   ],
   "source": [
    "#划分比例\n",
    "splitRate = 0.3\n",
    "#划分的数目\n",
    "splitNum = int(train_TFIDF.shape[0]*splitRate) \n",
    "#得到 训练集 和验证集\n",
    "trainSet = train_TFIDF[:-splitNum]\n",
    "validateSet = train_TFIDF[-splitNum:]\n",
    "\n",
    "trainSet.shape, validateSet.shape"
   ]
  },
  {
   "cell_type": "code",
   "execution_count": 188,
   "metadata": {
    "ExecuteTime": {
     "end_time": "2018-01-08T14:52:59.893399Z",
     "start_time": "2018-01-08T14:52:59.462055Z"
    }
   },
   "outputs": [
    {
     "data": {
      "text/plain": [
       "((43766,), (18756,))"
      ]
     },
     "execution_count": 188,
     "metadata": {},
     "output_type": "execute_result"
    }
   ],
   "source": [
    "train_labels = arr(train_labels)\n",
    "test_labels = arr(test_labels)\n",
    "\n",
    "trainSetLabel = train_labels[:-splitNum]\n",
    "validateSetLabel = train_labels[-splitNum:]\n",
    "\n",
    "trainSetLabel.shape, validateSetLabel.shape"
   ]
  },
  {
   "cell_type": "code",
   "execution_count": 189,
   "metadata": {
    "ExecuteTime": {
     "end_time": "2018-01-08T14:53:01.800600Z",
     "start_time": "2018-01-08T14:53:00.014987Z"
    }
   },
   "outputs": [
    {
     "data": {
      "text/html": [
       "<div>\n",
       "<table border=\"1\" class=\"dataframe\">\n",
       "  <thead>\n",
       "    <tr style=\"text-align: right;\">\n",
       "      <th></th>\n",
       "      <th>0</th>\n",
       "    </tr>\n",
       "  </thead>\n",
       "  <tbody>\n",
       "    <tr>\n",
       "      <th>0</th>\n",
       "      <td>0</td>\n",
       "    </tr>\n",
       "    <tr>\n",
       "      <th>1</th>\n",
       "      <td>2</td>\n",
       "    </tr>\n",
       "    <tr>\n",
       "      <th>2</th>\n",
       "      <td>0</td>\n",
       "    </tr>\n",
       "    <tr>\n",
       "      <th>3</th>\n",
       "      <td>2</td>\n",
       "    </tr>\n",
       "    <tr>\n",
       "      <th>4</th>\n",
       "      <td>0</td>\n",
       "    </tr>\n",
       "    <tr>\n",
       "      <th>5</th>\n",
       "      <td>0</td>\n",
       "    </tr>\n",
       "    <tr>\n",
       "      <th>6</th>\n",
       "      <td>1</td>\n",
       "    </tr>\n",
       "    <tr>\n",
       "      <th>7</th>\n",
       "      <td>1</td>\n",
       "    </tr>\n",
       "    <tr>\n",
       "      <th>8</th>\n",
       "      <td>0</td>\n",
       "    </tr>\n",
       "    <tr>\n",
       "      <th>9</th>\n",
       "      <td>0</td>\n",
       "    </tr>\n",
       "    <tr>\n",
       "      <th>10</th>\n",
       "      <td>1</td>\n",
       "    </tr>\n",
       "    <tr>\n",
       "      <th>11</th>\n",
       "      <td>0</td>\n",
       "    </tr>\n",
       "    <tr>\n",
       "      <th>12</th>\n",
       "      <td>1</td>\n",
       "    </tr>\n",
       "    <tr>\n",
       "      <th>13</th>\n",
       "      <td>0</td>\n",
       "    </tr>\n",
       "    <tr>\n",
       "      <th>14</th>\n",
       "      <td>0</td>\n",
       "    </tr>\n",
       "    <tr>\n",
       "      <th>15</th>\n",
       "      <td>2</td>\n",
       "    </tr>\n",
       "    <tr>\n",
       "      <th>16</th>\n",
       "      <td>0</td>\n",
       "    </tr>\n",
       "    <tr>\n",
       "      <th>17</th>\n",
       "      <td>1</td>\n",
       "    </tr>\n",
       "    <tr>\n",
       "      <th>18</th>\n",
       "      <td>0</td>\n",
       "    </tr>\n",
       "    <tr>\n",
       "      <th>19</th>\n",
       "      <td>0</td>\n",
       "    </tr>\n",
       "  </tbody>\n",
       "</table>\n",
       "</div>"
      ],
      "text/plain": [
       "    0\n",
       "0   0\n",
       "1   2\n",
       "2   0\n",
       "3   2\n",
       "4   0\n",
       "5   0\n",
       "6   1\n",
       "7   1\n",
       "8   0\n",
       "9   0\n",
       "10  1\n",
       "11  0\n",
       "12  1\n",
       "13  0\n",
       "14  0\n",
       "15  2\n",
       "16  0\n",
       "17  1\n",
       "18  0\n",
       "19  0"
      ]
     },
     "execution_count": 189,
     "metadata": {},
     "output_type": "execute_result"
    }
   ],
   "source": [
    "DF(trainSetLabel[0:20]).replace(\"LOW\",0).replace(\"MID\",1).replace(\"HIG\",2)"
   ]
  },
  {
   "cell_type": "markdown",
   "metadata": {},
   "source": [
    "## 保存结果"
   ]
  },
  {
   "cell_type": "code",
   "execution_count": 190,
   "metadata": {
    "ExecuteTime": {
     "end_time": "2018-01-08T14:58:17.600230Z",
     "start_time": "2018-01-08T14:53:01.803600Z"
    }
   },
   "outputs": [],
   "source": [
    "DF(trainSet).to_csv(dirPath + '\\\\train.csv', index=False, header=False)\n",
    "DF(validateSet).to_csv(dirPath + '\\\\validate.csv', index=False, header=False)\n",
    "DF(test_TFIDF).to_csv(dirPath + '\\\\test.csv', index=False, header=False)"
   ]
  },
  {
   "cell_type": "markdown",
   "metadata": {},
   "source": [
    "输出标签映射为数字。"
   ]
  },
  {
   "cell_type": "code",
   "execution_count": 191,
   "metadata": {
    "ExecuteTime": {
     "end_time": "2018-01-08T14:58:18.044718Z",
     "start_time": "2018-01-08T14:58:17.618223Z"
    },
    "collapsed": true
   },
   "outputs": [],
   "source": [
    "trainSetLabel = DF(trainSetLabel).replace(\"LOW\",0).replace(\"MID\",1).replace(\"HIG\",2)\n",
    "validateSetLabel = DF(validateSetLabel).replace(\"LOW\",0).replace(\"MID\",1).replace(\"HIG\",2)\n",
    "\n",
    "DF(trainSetLabel).to_csv(dirPath + '\\\\train_label.csv', index=False, header=False)\n",
    "DF(validateSetLabel).to_csv(dirPath + '\\\\validate_label.csv', index=False, header=False)"
   ]
  }
 ],
 "metadata": {
  "anaconda-cloud": {},
  "kernelspec": {
   "display_name": "Python [conda root]",
   "language": "python",
   "name": "conda-root-py"
  },
  "language_info": {
   "codemirror_mode": {
    "name": "ipython",
    "version": 3
   },
   "file_extension": ".py",
   "mimetype": "text/x-python",
   "name": "python",
   "nbconvert_exporter": "python",
   "pygments_lexer": "ipython3",
   "version": "3.5.2"
  },
  "toc": {
   "nav_menu": {},
   "number_sections": true,
   "sideBar": true,
   "skip_h1_title": false,
   "toc_cell": false,
   "toc_position": {
    "height": "669px",
    "left": "0px",
    "right": "1175px",
    "top": "111px",
    "width": "299px"
   },
   "toc_section_display": "block",
   "toc_window_display": true
  },
  "widgets": {
   "state": {
    "0549a248f09045d5992d795c3d9788cf": {
     "views": [
      {
       "cell_index": 18
      }
     ]
    },
    "09353b0b60854243b180c8ee4f870265": {
     "views": [
      {
       "cell_index": 23
      }
     ]
    },
    "3f334775746b4389b33b75687d120001": {
     "views": [
      {
       "cell_index": 23
      }
     ]
    },
    "53e5c9f74d22478a8a31269c65ebc1f8": {
     "views": [
      {
       "cell_index": 25
      }
     ]
    },
    "60cbed852de14cb7953b03896bfff7a0": {
     "views": [
      {
       "cell_index": 25
      }
     ]
    },
    "651114c392a044b0b77021f7b39a85bd": {
     "views": [
      {
       "cell_index": 25
      }
     ]
    },
    "7126a2acd4f34beb8e2185904b317c79": {
     "views": [
      {
       "cell_index": 26
      }
     ]
    },
    "81144806500a4efa937d70324c425483": {
     "views": [
      {
       "cell_index": 18
      }
     ]
    },
    "8133121273bc4d0fa878d353353cc55e": {
     "views": [
      {
       "cell_index": 24
      }
     ]
    },
    "82a24719b4994cfcb4187d2794a4c54d": {
     "views": [
      {
       "cell_index": 24
      }
     ]
    },
    "95313b98d38c47118b86112bf44c30a6": {
     "views": [
      {
       "cell_index": 27
      }
     ]
    },
    "c6e5a454af6b47aa989cc975b0241733": {
     "views": [
      {
       "cell_index": 27
      }
     ]
    },
    "cb6dde4f9ebc4e4e8a603a13e44ca67c": {
     "views": [
      {
       "cell_index": 18
      }
     ]
    }
   },
   "version": "1.2.0"
  }
 },
 "nbformat": 4,
 "nbformat_minor": 2
}
