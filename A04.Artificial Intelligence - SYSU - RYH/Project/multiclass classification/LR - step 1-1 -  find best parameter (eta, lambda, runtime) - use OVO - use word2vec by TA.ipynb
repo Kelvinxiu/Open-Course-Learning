{
 "cells": [
  {
   "cell_type": "code",
   "execution_count": 2,
   "metadata": {
    "ExecuteTime": {
     "end_time": "2018-01-08T13:00:18.889431Z",
     "start_time": "2018-01-08T13:00:11.747512Z"
    },
    "collapsed": true
   },
   "outputs": [],
   "source": [
    "from IPython.core.interactiveshell import InteractiveShell\n",
    "InteractiveShell.ast_node_interactivity = \"all\"\n",
    "\n",
    "from collections import Counter\n",
    "import numpy as np\n",
    "import matplotlib.pyplot as plt\n",
    "from functools import reduce\n",
    "import pdir as pr\n",
    "import pandas as pd\n",
    "import os\n",
    "from tqdm import tqdm, tnrange, tqdm_notebook\n",
    "\n",
    "DF = pd.DataFrame\n",
    "arr = np.array"
   ]
  },
  {
   "cell_type": "markdown",
   "metadata": {},
   "source": [
    "# 读取数据集"
   ]
  },
  {
   "cell_type": "code",
   "execution_count": 3,
   "metadata": {
    "ExecuteTime": {
     "end_time": "2018-01-08T13:00:28.514864Z",
     "start_time": "2018-01-08T13:00:18.891401Z"
    }
   },
   "outputs": [
    {
     "data": {
      "text/plain": [
       "((43766, 50), (18756, 50), (8671, 50))"
      ]
     },
     "execution_count": 3,
     "metadata": {},
     "output_type": "execute_result"
    },
    {
     "data": {
      "text/plain": [
       "((43766,), (18756,))"
      ]
     },
     "execution_count": 3,
     "metadata": {},
     "output_type": "execute_result"
    }
   ],
   "source": [
    "dirPath2 = \"E:\\\\Code\\\\_largeData\\\\Github--Open-Course-Learning--A04\\\\Project\\\\multiclass classification\\\\data preprocessed\\\\wordvec_6B_50d - TA version\" \n",
    "dirPath = \"E:\\\\Code\\\\_largeData\\\\Github--Open-Course-Learning--A04\\\\Project\\\\multiclass classification\\\\data preprocessed\\\\tf-idf\"\n",
    "dirPath3 = dirPath2 + \"\\\\use tf-idf\"\n",
    "\n",
    "trainSet = np.loadtxt(dirPath2 + '\\\\train.csv', delimiter=\",\")\n",
    "validateSet = np.loadtxt(dirPath2 + '\\\\validate.csv', delimiter=\",\")\n",
    "testSet = np.loadtxt(dirPath2 + '\\\\test.csv', delimiter=\",\")\n",
    "\n",
    "\n",
    "trainSetLabel = np.loadtxt(dirPath + '\\\\train_label.csv', delimiter=\",\")\n",
    "validateSetLabel = np.loadtxt(dirPath + '\\\\validate_label.csv', delimiter=\",\")\n",
    "\n",
    "trainSet.shape, validateSet.shape, testSet.shape\n",
    "trainSetLabel.shape, validateSetLabel.shape"
   ]
  },
  {
   "cell_type": "code",
   "execution_count": 4,
   "metadata": {
    "ExecuteTime": {
     "end_time": "2018-01-08T13:00:28.544867Z",
     "start_time": "2018-01-08T13:00:28.516846Z"
    }
   },
   "outputs": [
    {
     "data": {
      "text/plain": [
       "Counter({0.0: 13606, 1.0: 18255, 2.0: 11905})"
      ]
     },
     "execution_count": 4,
     "metadata": {},
     "output_type": "execute_result"
    },
    {
     "data": {
      "text/plain": [
       "Counter({0.0: 5692, 1.0: 7802, 2.0: 5262})"
      ]
     },
     "execution_count": 4,
     "metadata": {},
     "output_type": "execute_result"
    }
   ],
   "source": [
    "Counter(trainSetLabel)\n",
    "Counter(validateSetLabel)"
   ]
  },
  {
   "cell_type": "markdown",
   "metadata": {},
   "source": [
    "## 实现OVO\n",
    "\n",
    "由于有OVO和OVA两种方式可选，但是在三元分类上，OVO的效果从理论上应比OVA的好，因此直接选择OVO。\n",
    "\n",
    "两者需要跑的子模型是一样的。\n",
    "\n",
    "为适应LR的模型输入，需要把不同类别的标签转换为0和1."
   ]
  },
  {
   "cell_type": "code",
   "execution_count": 5,
   "metadata": {
    "ExecuteTime": {
     "end_time": "2018-01-08T13:00:28.723497Z",
     "start_time": "2018-01-08T13:00:28.547367Z"
    }
   },
   "outputs": [
    {
     "data": {
      "text/plain": [
       "{0: 0, 1: 1}"
      ]
     },
     "execution_count": 5,
     "metadata": {},
     "output_type": "execute_result"
    },
    {
     "data": {
      "text/plain": [
       "{0: 0, 2: 1}"
      ]
     },
     "execution_count": 5,
     "metadata": {},
     "output_type": "execute_result"
    },
    {
     "data": {
      "text/plain": [
       "{1: 0, 2: 1}"
      ]
     },
     "execution_count": 5,
     "metadata": {},
     "output_type": "execute_result"
    }
   ],
   "source": [
    "mp = {\"01\":{0:0, 1:1}, \"02\":{0:0, 2:1}, \"12\":{1:0, 2:1}}\n",
    "mp[\"01\"]\n",
    "mp[\"02\"]\n",
    "mp[\"12\"]"
   ]
  },
  {
   "cell_type": "markdown",
   "metadata": {
    "ExecuteTime": {
     "end_time": "2018-01-08T09:39:02.864311Z",
     "start_time": "2018-01-08T09:39:02.747153Z"
    }
   },
   "source": [
    "01"
   ]
  },
  {
   "cell_type": "code",
   "execution_count": 6,
   "metadata": {
    "ExecuteTime": {
     "end_time": "2018-01-08T13:00:28.827750Z",
     "start_time": "2018-01-08T13:00:28.726000Z"
    }
   },
   "outputs": [
    {
     "data": {
      "text/plain": [
       "((31861, 50), (31861,))"
      ]
     },
     "execution_count": 6,
     "metadata": {},
     "output_type": "execute_result"
    },
    {
     "data": {
      "text/plain": [
       "Counter({0.0: 13606, 1.0: 18255})"
      ]
     },
     "execution_count": 6,
     "metadata": {},
     "output_type": "execute_result"
    }
   ],
   "source": [
    "idx_01 = np.logical_or(trainSetLabel == 0, trainSetLabel == 1)\n",
    "trainSet_01 = trainSet[idx_01]\n",
    "trainSetLabel_01 = trainSetLabel[idx_01]\n",
    "\n",
    "trainSet_01.shape, trainSetLabel_01.shape\n",
    "\n",
    "np.place(trainSetLabel_01, trainSetLabel_01==0, 0)\n",
    "np.place(trainSetLabel_01, trainSetLabel_01==1, 1)\n",
    "Counter(trainSetLabel_01)"
   ]
  },
  {
   "cell_type": "markdown",
   "metadata": {},
   "source": [
    "02"
   ]
  },
  {
   "cell_type": "code",
   "execution_count": 7,
   "metadata": {
    "ExecuteTime": {
     "end_time": "2018-01-08T13:00:28.962725Z",
     "start_time": "2018-01-08T13:00:28.830753Z"
    }
   },
   "outputs": [
    {
     "data": {
      "text/plain": [
       "((25511, 50), (25511,))"
      ]
     },
     "execution_count": 7,
     "metadata": {},
     "output_type": "execute_result"
    },
    {
     "data": {
      "text/plain": [
       "Counter({0.0: 13606, 1.0: 11905})"
      ]
     },
     "execution_count": 7,
     "metadata": {},
     "output_type": "execute_result"
    }
   ],
   "source": [
    "idx_02 = np.logical_or(trainSetLabel == 0, trainSetLabel == 2)\n",
    "trainSet_02 = trainSet[idx_02]\n",
    "trainSetLabel_02 = trainSetLabel[idx_02]\n",
    "\n",
    "trainSet_02.shape, trainSetLabel_02.shape\n",
    "\n",
    "np.place(trainSetLabel_02, trainSetLabel_02==0, 0)\n",
    "np.place(trainSetLabel_02, trainSetLabel_02==2, 1)\n",
    "Counter(trainSetLabel_02)"
   ]
  },
  {
   "cell_type": "markdown",
   "metadata": {},
   "source": [
    "12"
   ]
  },
  {
   "cell_type": "code",
   "execution_count": 8,
   "metadata": {
    "ExecuteTime": {
     "end_time": "2018-01-08T13:00:29.133840Z",
     "start_time": "2018-01-08T13:00:28.967211Z"
    }
   },
   "outputs": [
    {
     "data": {
      "text/plain": [
       "((30160, 50), (30160,))"
      ]
     },
     "execution_count": 8,
     "metadata": {},
     "output_type": "execute_result"
    },
    {
     "data": {
      "text/plain": [
       "Counter({0.0: 18255, 1.0: 11905})"
      ]
     },
     "execution_count": 8,
     "metadata": {},
     "output_type": "execute_result"
    }
   ],
   "source": [
    "idx_12 = np.logical_or(trainSetLabel == 1, trainSetLabel == 2)\n",
    "trainSet_12 = trainSet[idx_12]\n",
    "trainSetLabel_12 = trainSetLabel[idx_12]\n",
    "\n",
    "trainSet_12.shape, trainSetLabel_12.shape\n",
    "\n",
    "np.place(trainSetLabel_12, trainSetLabel_12==1, 0)\n",
    "np.place(trainSetLabel_12, trainSetLabel_12==2, 1)\n",
    "Counter(trainSetLabel_12)"
   ]
  },
  {
   "cell_type": "markdown",
   "metadata": {},
   "source": [
    "# 逻辑回归"
   ]
  },
  {
   "cell_type": "code",
   "execution_count": 9,
   "metadata": {
    "ExecuteTime": {
     "end_time": "2018-01-08T13:00:29.218900Z",
     "start_time": "2018-01-08T13:00:29.139344Z"
    },
    "collapsed": true
   },
   "outputs": [],
   "source": [
    "class LogisticRegression:\n",
    "    '''逻辑回归类实现'''\n",
    "    \n",
    "    def __addOne2Samples(self, dataSet):\n",
    "        '''给每一个样本前加一个常数1'''\n",
    "        ones = np.ones(len(dataSet))\n",
    "        return np.column_stack((ones, dataSet))\n",
    "    \n",
    "    def sigmoid(self, x):\n",
    "        '''sigmoid函数实现'''\n",
    "        return 1/(1+np.exp(-1*x))\n",
    "    \n",
    "    def fit(self, trainSet, label, eta=1e-3, lambda_=1, maxRunTimes=100):\n",
    "        '''根据给定的训练集和标签训练PLA的参数 w '''\n",
    "        #设置默认的 w 全为1\n",
    "        self.w = np.mat(np.ones(trainSet.shape[1]+1)).reshape(-1,1)\n",
    "        #给训练集中每一个样本前加一个常数1，并转换为numpy矩阵\n",
    "        trainSet = np.mat(self.__addOne2Samples(trainSet))\n",
    "        #将标签转换为numpy矩阵，并将其设置为只有一列的数据的矩阵\n",
    "        label = np.mat(label).reshape(-1,1)\n",
    "        for i in range(maxRunTimes):\n",
    "            eta_reduced = eta/(1+i)+1e-7\n",
    "            #根据矩阵运算得到整个数据集每个维度梯度\n",
    "            gradient = trainSet.transpose()*(self.sigmoid(trainSet*self.w) - label)\n",
    "            #正则化\n",
    "            gradient[1:,0] += lambda_*self.w[1:,0]\n",
    "            #更新 w\n",
    "            self.w -= eta_reduced*gradient\n",
    "        \n",
    "    def __apply(self, x):\n",
    "        '''利用训练好的 w 对输入的向量x进行分类'''\n",
    "        w = np.array(self.w)[:,0] #转换为numpy向量，方便后续计算\n",
    "        return 1 if self.sigmoid(np.dot(w, x)) > 0.5 else 0\n",
    "    \n",
    "    def apply(self, otherSet):\n",
    "        '''根据已训练出的 w 对其他数据集进行划分'''\n",
    "        otherSet = self.__addOne2Samples(otherSet)\n",
    "        outputLabel = np.zeros(otherSet.shape[0])\n",
    "        for index, sample in enumerate(otherSet):\n",
    "            outputLabel[index] = self.__apply(sample)\n",
    "        return outputLabel\n",
    "    \n",
    "    def getW(self):\n",
    "        return np.array(self.w)[:,0]"
   ]
  },
  {
   "cell_type": "markdown",
   "metadata": {},
   "source": [
    "# 计算平均准确率"
   ]
  },
  {
   "cell_type": "code",
   "execution_count": 10,
   "metadata": {
    "ExecuteTime": {
     "end_time": "2018-01-08T13:00:29.347509Z",
     "start_time": "2018-01-08T13:00:29.220901Z"
    }
   },
   "outputs": [
    {
     "data": {
      "text/plain": [
       "0.3333333333333333"
      ]
     },
     "execution_count": 10,
     "metadata": {},
     "output_type": "execute_result"
    }
   ],
   "source": [
    "def calcAvg(predict, actual):\n",
    "    all_labels = list(set(actual))\n",
    "    tot = 0.0\n",
    "    for i in all_labels:\n",
    "        counter = Counter(predict[actual == i] == i)\n",
    "        hit_num, miss_num = counter[True], counter[False]\n",
    "        tot += hit_num / (hit_num + miss_num)\n",
    "    return tot/len(all_labels)\n",
    "\n",
    "calcAvg(arr([1,2,3]), arr([3,2,1]))"
   ]
  },
  {
   "cell_type": "markdown",
   "metadata": {},
   "source": [
    "# 绘制图像"
   ]
  },
  {
   "cell_type": "code",
   "execution_count": 11,
   "metadata": {
    "ExecuteTime": {
     "end_time": "2018-01-08T13:00:29.445576Z",
     "start_time": "2018-01-08T13:00:29.355012Z"
    },
    "collapsed": true
   },
   "outputs": [],
   "source": [
    "def show_fig(testRange, avgs):\n",
    "    fig,ax = plt.subplots() \n",
    "    fig.set_size_inches(10, 4)\n",
    "    plt.plot(testRange, avgs, 'g')\n",
    "    plt.xlabel('eta')\n",
    "    plt.ylabel('avg(%)')\n",
    "    plt.title(\"avg versus eta with Logistic Regression\")\n",
    "    plt.show()\n",
    "    plt.close()"
   ]
  },
  {
   "cell_type": "markdown",
   "metadata": {},
   "source": [
    "# 调参\n",
    "\n",
    "暂调参数eta，暂定迭代次数为1000，不设置正则化项。"
   ]
  },
  {
   "cell_type": "code",
   "execution_count": 12,
   "metadata": {
    "ExecuteTime": {
     "end_time": "2018-01-08T13:00:29.559660Z",
     "start_time": "2018-01-08T13:00:29.456084Z"
    }
   },
   "outputs": [
    {
     "data": {
      "text/plain": [
       "array([[1, 1, 2, 1],\n",
       "       [1, 2, 0, 2],\n",
       "       [2, 0, 0, 2]])"
      ]
     },
     "execution_count": 12,
     "metadata": {},
     "output_type": "execute_result"
    },
    {
     "name": "stdout",
     "output_type": "stream",
     "text": [
      "[(1, 2), (2, 1)]\n",
      "1\n",
      "[(0, 1), (1, 1)]\n",
      "1\n",
      "[(0, 2), (2, 1)]\n",
      "0\n",
      "[(2, 2), (1, 1)]\n",
      "2\n"
     ]
    }
   ],
   "source": [
    "a = arr([1,1,2,1])\n",
    "b = arr([1,2,0,2])\n",
    "c = arr([2,0,0,2])\n",
    "\n",
    "d = np.vstack([a,b,c])\n",
    "d\n",
    "for i in range(d.shape[1]):\n",
    "    t = Counter(d[:, i]).most_common(2)\n",
    "    print(t)\n",
    "    if t[0][1] == t[1][1]:\n",
    "        print(1)\n",
    "    else:\n",
    "        print(t[0][0])"
   ]
  },
  {
   "cell_type": "code",
   "execution_count": 13,
   "metadata": {
    "ExecuteTime": {
     "end_time": "2018-01-08T13:01:29.596098Z",
     "start_time": "2018-01-08T13:00:29.562159Z"
    }
   },
   "outputs": [
    {
     "data": {
      "text/plain": [
       "[0.05]"
      ]
     },
     "execution_count": 13,
     "metadata": {},
     "output_type": "execute_result"
    },
    {
     "data": {
      "text/plain": [
       "[1040]"
      ]
     },
     "execution_count": 13,
     "metadata": {},
     "output_type": "execute_result"
    },
    {
     "data": {
      "text/plain": [
       "[0.0001, 0.001, 0.01, 0.1, 1, 10]"
      ]
     },
     "execution_count": 13,
     "metadata": {},
     "output_type": "execute_result"
    },
    {
     "name": "stdout",
     "output_type": "stream",
     "text": [
      "0.05 Counter({2.0: 8807, 0.0: 6267, 1.0: 3682})\n",
      "avg :  0.4275121837078373 runtime :  1040\n",
      "0.05 Counter({2.0: 8807, 0.0: 6258, 1.0: 3691})\n",
      "avg :  0.42734754735107366 runtime :  1040\n",
      "0.05 Counter({2.0: 8806, 0.0: 6261, 1.0: 3689})\n",
      "avg :  0.4278112523227224 runtime :  1040\n",
      "0.05 Counter({2.0: 8793, 0.0: 6247, 1.0: 3716})\n",
      "avg :  0.4279313246686842 runtime :  1040\n",
      "0.05 Counter({2.0: 8679, 0.0: 6355, 1.0: 3722})\n",
      "avg :  0.42802643509168464 runtime :  1040\n",
      "0.05 Counter({0.0: 10830, 2.0: 7820, 1.0: 106})\n",
      "avg :  0.41195873452934095 runtime :  1040\n",
      "\n"
     ]
    },
    {
     "data": {
      "text/plain": [
       "(1, 0.42802643509168464)"
      ]
     },
     "execution_count": 13,
     "metadata": {},
     "output_type": "execute_result"
    },
    {
     "data": {
      "image/png": "[encoded data removed]",
      "text/plain": [
       "<matplotlib.figure.Figure at 0x1650dea2dd8>"
      ]
     },
     "metadata": {},
     "output_type": "display_data"
    }
   ],
   "source": [
    "def runLR(dataSet, eta, runtime=1000, lambda_=0.1):\n",
    "    LR_01, LR_02, LR_12 = LogisticRegression(), LogisticRegression(), LogisticRegression()\n",
    "    \n",
    "    LR_01.fit(trainSet_01, trainSetLabel_01, eta=eta, lambda_=lambda_, maxRunTimes=runtime,)\n",
    "    LR_02.fit(trainSet_02, trainSetLabel_02, eta=eta, lambda_=lambda_, maxRunTimes=runtime)\n",
    "    LR_12.fit(trainSet_12, trainSetLabel_12, eta=eta, lambda_=lambda_, maxRunTimes=runtime)\n",
    "    \n",
    "    ansLabel_01 = LR_01.apply(dataSet)\n",
    "#     np.place(ansLabel_01, ansLabel_01==0, 0)\n",
    "#     np.place(ansLabel_01, ansLabel_01==1, 1)\n",
    "    \n",
    "    ansLabel_02 = LR_02.apply(dataSet)\n",
    "    np.place(ansLabel_02, ansLabel_02==0, 0)\n",
    "    np.place(ansLabel_02, ansLabel_02==1, 2)\n",
    "    \n",
    "    ansLabel_12 = LR_12.apply(dataSet)\n",
    "    np.place(ansLabel_12, ansLabel_12==0, 1)\n",
    "    np.place(ansLabel_12, ansLabel_12==1, 2)    \n",
    "    \n",
    "    labels = np.vstack([ansLabel_01, ansLabel_02, ansLabel_12])\n",
    "    ansLabel = np.zeros(labels.shape[1])\n",
    "    \n",
    "    for i in tnrange(labels.shape[1], leave=False):\n",
    "        t = Counter(labels[:, i]).most_common(2)\n",
    "        #print(t)\n",
    "        if t[0][1] == t[1][1]:\n",
    "            ansLabel[i] = 1 #默认选择MID\n",
    "        else:\n",
    "            ansLabel[i] =  t[0][0]\n",
    "    \n",
    "    print(eta, Counter(ansLabel))\n",
    "    \n",
    "    return ansLabel\n",
    "    \n",
    "\n",
    "def getTestAvg(eta, runtime, lambda_):\n",
    "    ansLabel = runLR(validateSet, eta, runtime, lambda_)\n",
    "    avg = calcAvg(ansLabel, validateSetLabel)\n",
    "    print(\"avg : \", avg, \"runtime : \", runtime)\n",
    "    return avg\n",
    "    \n",
    "# etaTestRange = [0.0005, 0.0010, 0.0050, 0.0100, 0.0500, 0.1000, 0.5000, 1, 5]\n",
    "# etaTestRange = np.arange(0.01 ,0.11, 0.01)\n",
    "# etaTestRange = np.arange(0.045 ,0.055, 0.001)\n",
    "etaTestRange = [0.05]\n",
    "etaTestRange \n",
    "\n",
    "# runtimeTestRange = np.arange(500, 3100, 50)\n",
    "# runtimeTestRange = np.arange(900, 1100, 25)\n",
    "# runtimeTestRange = np.arange(1000, 1200, 10)\n",
    "runtimeTestRange = [1040]\n",
    "runtimeTestRange\n",
    "\n",
    "lambdaTestRange = [1e-4, 1e-3, 1e-2, 1e-1, 1, 10]\n",
    "lambdaTestRange\n",
    "\n",
    "avgs = []\n",
    "for i in tnrange(len(lambdaTestRange)):\n",
    "    avgs.append(getTestAvg(etaTestRange[0], runtimeTestRange[0], lambdaTestRange[i]))\n",
    "    \n",
    "# bestEta = etaTestRange[np.argmax(avgs)]\n",
    "# bestEta, np.max(avgs) \n",
    "\n",
    "# bestRuntime = runtimeTestRange[np.argmax(avgs)]\n",
    "# bestRuntime, np.max(avgs) \n",
    "\n",
    "bestLambda = lambdaTestRange[np.argmax(avgs)]\n",
    "bestLambda, np.max(avgs) \n",
    "\n",
    "show_fig(lambdaTestRange, avgs)"
   ]
  },
  {
   "cell_type": "code",
   "execution_count": 14,
   "metadata": {
    "ExecuteTime": {
     "end_time": "2018-01-08T13:01:39.374700Z",
     "start_time": "2018-01-08T13:01:29.599082Z"
    }
   },
   "outputs": [
    {
     "name": "stdout",
     "output_type": "stream",
     "text": [
      "0.05 Counter({2.0: 4025, 0.0: 2945, 1.0: 1701})\n"
     ]
    },
    {
     "data": {
      "text/plain": [
       "Counter({0.0: 2945, 1.0: 1701, 2.0: 4025})"
      ]
     },
     "execution_count": 14,
     "metadata": {},
     "output_type": "execute_result"
    }
   ],
   "source": [
    "ansLabel = runLR(testSet, etaTestRange[0], runtimeTestRange[0], bestLambda)\n",
    "Counter(ansLabel)"
   ]
  },
  {
   "cell_type": "code",
   "execution_count": 15,
   "metadata": {
    "ExecuteTime": {
     "end_time": "2018-01-08T13:01:39.402719Z",
     "start_time": "2018-01-08T13:01:39.376683Z"
    },
    "collapsed": true
   },
   "outputs": [],
   "source": [
    "ans = DF(ansLabel).replace(0, \"LOW\").replace(1, \"MID\").replace(2, \"HIG\")\n",
    "ans.to_csv('.\\\\rank\\\\47_v1.csv', index=False, header=False)"
   ]
  }
 ],
 "metadata": {
  "anaconda-cloud": {},
  "kernelspec": {
   "display_name": "Python [conda root]",
   "language": "python",
   "name": "conda-root-py"
  },
  "language_info": {
   "codemirror_mode": {
    "name": "ipython",
    "version": 3
   },
   "file_extension": ".py",
   "mimetype": "text/x-python",
   "name": "python",
   "nbconvert_exporter": "python",
   "pygments_lexer": "ipython3",
   "version": "3.5.2"
  },
  "toc": {
   "nav_menu": {},
   "number_sections": true,
   "sideBar": true,
   "skip_h1_title": false,
   "toc_cell": false,
   "toc_position": {},
   "toc_section_display": "block",
   "toc_window_display": false
  },
  "widgets": {
   "state": {
    "ba87c081138144a8bb8805341612dbcb": {
     "views": [
      {
       "cell_index": 20
      }
     ]
    }
   },
   "version": "1.2.0"
  }
 },
 "nbformat": 4,
 "nbformat_minor": 2
}
