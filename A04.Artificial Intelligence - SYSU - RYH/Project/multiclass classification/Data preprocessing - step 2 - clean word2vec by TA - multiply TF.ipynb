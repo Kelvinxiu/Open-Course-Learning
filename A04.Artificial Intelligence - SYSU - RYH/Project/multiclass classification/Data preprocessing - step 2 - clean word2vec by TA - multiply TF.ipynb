{
 "cells": [
  {
   "cell_type": "code",
   "execution_count": 28,
   "metadata": {
    "ExecuteTime": {
     "end_time": "2018-01-08T17:05:32.225218Z",
     "start_time": "2018-01-08T17:05:32.202203Z"
    },
    "collapsed": true
   },
   "outputs": [],
   "source": [
    "from IPython.core.interactiveshell import InteractiveShell\n",
    "InteractiveShell.ast_node_interactivity = \"all\"\n",
    "\n",
    "from collections import Counter\n",
    "import numpy as np\n",
    "import matplotlib.pyplot as plt\n",
    "from functools import reduce\n",
    "import pdir as pr\n",
    "import pandas as pd\n",
    "import os\n",
    "from tqdm import tqdm, tnrange, tqdm_notebook\n",
    "\n",
    "DF = pd.DataFrame\n",
    "arr = np.array\n",
    "\n",
    "import csv"
   ]
  },
  {
   "cell_type": "markdown",
   "metadata": {},
   "source": [
    "# 读取TF矩阵与word2vec矩阵"
   ]
  },
  {
   "cell_type": "code",
   "execution_count": 29,
   "metadata": {
    "ExecuteTime": {
     "end_time": "2018-01-08T17:05:32.371322Z",
     "start_time": "2018-01-08T17:05:32.228221Z"
    },
    "collapsed": true
   },
   "outputs": [],
   "source": [
    "dirPath = \"E:\\\\Code\\\\_largeData\\\\Github--Open-Course-Learning--A04\\\\Project\\\\multiclass classification\\\\data preprocessed\\\\tf-idf\"\n",
    "dirPath2 = \"E:\\\\Code\\\\_largeData\\\\Github--Open-Course-Learning--A04\\\\Project\\\\multiclass classification\\\\data preprocessed\\\\wordvec_6B_50d - TA version\" \n",
    "# dirPath += \"\\\\without removing stopwords\""
   ]
  },
  {
   "cell_type": "code",
   "execution_count": 30,
   "metadata": {
    "ExecuteTime": {
     "end_time": "2018-01-08T17:05:43.007856Z",
     "start_time": "2018-01-08T17:05:32.373322Z"
    }
   },
   "outputs": [
    {
     "data": {
      "text/plain": [
       "((6060, 1644), (8671, 1644))"
      ]
     },
     "execution_count": 30,
     "metadata": {},
     "output_type": "execute_result"
    }
   ],
   "source": [
    "# train_tf = np.loadtxt(dirPath + '\\\\train_tf.csv', delimiter=\",\")\n",
    "# test_tf = np.loadtxt(dirPath + '\\\\test_tf.csv', delimiter=\",\")\n",
    "\n",
    "train_tf = pd.read_csv(dirPath + '\\\\train_tf.csv')\n",
    "test_tf = pd.read_csv(dirPath + '\\\\test_tf.csv')\n",
    "\n",
    "train_tf.shape, test_tf.shape"
   ]
  },
  {
   "cell_type": "code",
   "execution_count": 31,
   "metadata": {
    "ExecuteTime": {
     "end_time": "2018-01-08T17:05:43.093918Z",
     "start_time": "2018-01-08T17:05:43.011857Z"
    }
   },
   "outputs": [
    {
     "data": {
      "text/html": [
       "<div>\n",
       "<table border=\"1\" class=\"dataframe\">\n",
       "  <thead>\n",
       "    <tr style=\"text-align: right;\">\n",
       "      <th></th>\n",
       "      <th>good</th>\n",
       "      <th>-rrb-</th>\n",
       "      <th>place</th>\n",
       "      <th>-lrb-</th>\n",
       "      <th>food</th>\n",
       "      <th>like</th>\n",
       "      <th>great</th>\n",
       "      <th>one</th>\n",
       "      <th>really</th>\n",
       "      <th>time</th>\n",
       "      <th>...</th>\n",
       "      <th>compare</th>\n",
       "      <th>culinary</th>\n",
       "      <th>management</th>\n",
       "      <th>pizzeria</th>\n",
       "      <th>steamed</th>\n",
       "      <th>wear</th>\n",
       "      <th>pictures</th>\n",
       "      <th>fault</th>\n",
       "      <th>fondue</th>\n",
       "      <th>shake</th>\n",
       "    </tr>\n",
       "  </thead>\n",
       "  <tbody>\n",
       "    <tr>\n",
       "      <th>0</th>\n",
       "      <td>0.018359</td>\n",
       "      <td>0.011807</td>\n",
       "      <td>0.000000</td>\n",
       "      <td>0.012610</td>\n",
       "      <td>0.010593</td>\n",
       "      <td>0.024718</td>\n",
       "      <td>0.000000</td>\n",
       "      <td>0.014807</td>\n",
       "      <td>0.0</td>\n",
       "      <td>0.000000</td>\n",
       "      <td>...</td>\n",
       "      <td>0.0</td>\n",
       "      <td>0.0</td>\n",
       "      <td>0.0</td>\n",
       "      <td>0.0</td>\n",
       "      <td>0.0</td>\n",
       "      <td>0.0</td>\n",
       "      <td>0.0</td>\n",
       "      <td>0.0</td>\n",
       "      <td>0.0</td>\n",
       "      <td>0.0</td>\n",
       "    </tr>\n",
       "    <tr>\n",
       "      <th>1</th>\n",
       "      <td>0.034818</td>\n",
       "      <td>0.022393</td>\n",
       "      <td>0.036573</td>\n",
       "      <td>0.000000</td>\n",
       "      <td>0.040181</td>\n",
       "      <td>0.000000</td>\n",
       "      <td>0.024525</td>\n",
       "      <td>0.000000</td>\n",
       "      <td>0.0</td>\n",
       "      <td>0.000000</td>\n",
       "      <td>...</td>\n",
       "      <td>0.0</td>\n",
       "      <td>0.0</td>\n",
       "      <td>0.0</td>\n",
       "      <td>0.0</td>\n",
       "      <td>0.0</td>\n",
       "      <td>0.0</td>\n",
       "      <td>0.0</td>\n",
       "      <td>0.0</td>\n",
       "      <td>0.0</td>\n",
       "      <td>0.0</td>\n",
       "    </tr>\n",
       "    <tr>\n",
       "      <th>2</th>\n",
       "      <td>0.000000</td>\n",
       "      <td>0.000000</td>\n",
       "      <td>0.018286</td>\n",
       "      <td>0.000000</td>\n",
       "      <td>0.040181</td>\n",
       "      <td>0.023440</td>\n",
       "      <td>0.000000</td>\n",
       "      <td>0.000000</td>\n",
       "      <td>0.0</td>\n",
       "      <td>0.000000</td>\n",
       "      <td>...</td>\n",
       "      <td>0.0</td>\n",
       "      <td>0.0</td>\n",
       "      <td>0.0</td>\n",
       "      <td>0.0</td>\n",
       "      <td>0.0</td>\n",
       "      <td>0.0</td>\n",
       "      <td>0.0</td>\n",
       "      <td>0.0</td>\n",
       "      <td>0.0</td>\n",
       "      <td>0.0</td>\n",
       "    </tr>\n",
       "    <tr>\n",
       "      <th>3</th>\n",
       "      <td>0.000000</td>\n",
       "      <td>0.039357</td>\n",
       "      <td>0.032140</td>\n",
       "      <td>0.042032</td>\n",
       "      <td>0.000000</td>\n",
       "      <td>0.000000</td>\n",
       "      <td>0.000000</td>\n",
       "      <td>0.000000</td>\n",
       "      <td>0.0</td>\n",
       "      <td>0.000000</td>\n",
       "      <td>...</td>\n",
       "      <td>0.0</td>\n",
       "      <td>0.0</td>\n",
       "      <td>0.0</td>\n",
       "      <td>0.0</td>\n",
       "      <td>0.0</td>\n",
       "      <td>0.0</td>\n",
       "      <td>0.0</td>\n",
       "      <td>0.0</td>\n",
       "      <td>0.0</td>\n",
       "      <td>0.0</td>\n",
       "    </tr>\n",
       "    <tr>\n",
       "      <th>4</th>\n",
       "      <td>0.000000</td>\n",
       "      <td>0.000000</td>\n",
       "      <td>0.015151</td>\n",
       "      <td>0.000000</td>\n",
       "      <td>0.000000</td>\n",
       "      <td>0.058264</td>\n",
       "      <td>0.000000</td>\n",
       "      <td>0.000000</td>\n",
       "      <td>0.0</td>\n",
       "      <td>0.025669</td>\n",
       "      <td>...</td>\n",
       "      <td>0.0</td>\n",
       "      <td>0.0</td>\n",
       "      <td>0.0</td>\n",
       "      <td>0.0</td>\n",
       "      <td>0.0</td>\n",
       "      <td>0.0</td>\n",
       "      <td>0.0</td>\n",
       "      <td>0.0</td>\n",
       "      <td>0.0</td>\n",
       "      <td>0.0</td>\n",
       "    </tr>\n",
       "  </tbody>\n",
       "</table>\n",
       "<p>5 rows × 1644 columns</p>\n",
       "</div>"
      ],
      "text/plain": [
       "       good     -rrb-     place     -lrb-      food      like     great  \\\n",
       "0  0.018359  0.011807  0.000000  0.012610  0.010593  0.024718  0.000000   \n",
       "1  0.034818  0.022393  0.036573  0.000000  0.040181  0.000000  0.024525   \n",
       "2  0.000000  0.000000  0.018286  0.000000  0.040181  0.023440  0.000000   \n",
       "3  0.000000  0.039357  0.032140  0.042032  0.000000  0.000000  0.000000   \n",
       "4  0.000000  0.000000  0.015151  0.000000  0.000000  0.058264  0.000000   \n",
       "\n",
       "        one  really      time  ...    compare  culinary  management  pizzeria  \\\n",
       "0  0.014807     0.0  0.000000  ...        0.0       0.0         0.0       0.0   \n",
       "1  0.000000     0.0  0.000000  ...        0.0       0.0         0.0       0.0   \n",
       "2  0.000000     0.0  0.000000  ...        0.0       0.0         0.0       0.0   \n",
       "3  0.000000     0.0  0.000000  ...        0.0       0.0         0.0       0.0   \n",
       "4  0.000000     0.0  0.025669  ...        0.0       0.0         0.0       0.0   \n",
       "\n",
       "   steamed  wear  pictures  fault  fondue  shake  \n",
       "0      0.0   0.0       0.0    0.0     0.0    0.0  \n",
       "1      0.0   0.0       0.0    0.0     0.0    0.0  \n",
       "2      0.0   0.0       0.0    0.0     0.0    0.0  \n",
       "3      0.0   0.0       0.0    0.0     0.0    0.0  \n",
       "4      0.0   0.0       0.0    0.0     0.0    0.0  \n",
       "\n",
       "[5 rows x 1644 columns]"
      ]
     },
     "execution_count": 31,
     "metadata": {},
     "output_type": "execute_result"
    }
   ],
   "source": [
    "train_tf.head()"
   ]
  },
  {
   "cell_type": "code",
   "execution_count": 32,
   "metadata": {
    "ExecuteTime": {
     "end_time": "2018-01-08T17:05:43.147954Z",
     "start_time": "2018-01-08T17:05:43.096918Z"
    },
    "scrolled": true
   },
   "outputs": [
    {
     "data": {
      "text/plain": [
       "1644"
      ]
     },
     "execution_count": 32,
     "metadata": {},
     "output_type": "execute_result"
    }
   ],
   "source": [
    "all_word_unique = train_tf.columns\n",
    "len(all_word_unique)"
   ]
  },
  {
   "cell_type": "code",
   "execution_count": 33,
   "metadata": {
    "ExecuteTime": {
     "end_time": "2018-01-08T17:05:52.744751Z",
     "start_time": "2018-01-08T17:05:43.150957Z"
    },
    "collapsed": true
   },
   "outputs": [],
   "source": [
    "word2vec = pd.read_csv(dirPath2 + \"\\\\wordvec_6B_50d.txt\", header = None, delimiter=\" \",\n",
    "                       quoting=csv.QUOTE_NONE, encoding='utf-8')"
   ]
  },
  {
   "cell_type": "code",
   "execution_count": 34,
   "metadata": {
    "ExecuteTime": {
     "end_time": "2018-01-08T17:05:52.755758Z",
     "start_time": "2018-01-08T17:05:52.748754Z"
    }
   },
   "outputs": [
    {
     "data": {
      "text/plain": [
       "(400000, 51)"
      ]
     },
     "execution_count": 34,
     "metadata": {},
     "output_type": "execute_result"
    }
   ],
   "source": [
    "word2vec.shape"
   ]
  },
  {
   "cell_type": "code",
   "execution_count": 35,
   "metadata": {
    "ExecuteTime": {
     "end_time": "2018-01-08T17:05:52.903864Z",
     "start_time": "2018-01-08T17:05:52.762762Z"
    }
   },
   "outputs": [
    {
     "data": {
      "text/html": [
       "<div>\n",
       "<table border=\"1\" class=\"dataframe\">\n",
       "  <thead>\n",
       "    <tr style=\"text-align: right;\">\n",
       "      <th></th>\n",
       "      <th>0</th>\n",
       "      <th>1</th>\n",
       "      <th>2</th>\n",
       "      <th>3</th>\n",
       "      <th>4</th>\n",
       "      <th>5</th>\n",
       "      <th>6</th>\n",
       "      <th>7</th>\n",
       "      <th>8</th>\n",
       "      <th>9</th>\n",
       "      <th>...</th>\n",
       "      <th>41</th>\n",
       "      <th>42</th>\n",
       "      <th>43</th>\n",
       "      <th>44</th>\n",
       "      <th>45</th>\n",
       "      <th>46</th>\n",
       "      <th>47</th>\n",
       "      <th>48</th>\n",
       "      <th>49</th>\n",
       "      <th>50</th>\n",
       "    </tr>\n",
       "  </thead>\n",
       "  <tbody>\n",
       "    <tr>\n",
       "      <th>0</th>\n",
       "      <td>the</td>\n",
       "      <td>0.418000</td>\n",
       "      <td>0.249680</td>\n",
       "      <td>-0.41242</td>\n",
       "      <td>0.12170</td>\n",
       "      <td>0.34527</td>\n",
       "      <td>-0.044457</td>\n",
       "      <td>-0.49688</td>\n",
       "      <td>-0.17862</td>\n",
       "      <td>-0.00066</td>\n",
       "      <td>...</td>\n",
       "      <td>-0.298710</td>\n",
       "      <td>-0.157490</td>\n",
       "      <td>-0.347580</td>\n",
       "      <td>-0.045637</td>\n",
       "      <td>-0.44251</td>\n",
       "      <td>0.187850</td>\n",
       "      <td>0.002785</td>\n",
       "      <td>-0.184110</td>\n",
       "      <td>-0.115140</td>\n",
       "      <td>-0.78581</td>\n",
       "    </tr>\n",
       "    <tr>\n",
       "      <th>1</th>\n",
       "      <td>,</td>\n",
       "      <td>0.013441</td>\n",
       "      <td>0.236820</td>\n",
       "      <td>-0.16899</td>\n",
       "      <td>0.40951</td>\n",
       "      <td>0.63812</td>\n",
       "      <td>0.477090</td>\n",
       "      <td>-0.42852</td>\n",
       "      <td>-0.55641</td>\n",
       "      <td>-0.36400</td>\n",
       "      <td>...</td>\n",
       "      <td>-0.080262</td>\n",
       "      <td>0.630030</td>\n",
       "      <td>0.321110</td>\n",
       "      <td>-0.467650</td>\n",
       "      <td>0.22786</td>\n",
       "      <td>0.360340</td>\n",
       "      <td>-0.378180</td>\n",
       "      <td>-0.566570</td>\n",
       "      <td>0.044691</td>\n",
       "      <td>0.30392</td>\n",
       "    </tr>\n",
       "    <tr>\n",
       "      <th>2</th>\n",
       "      <td>.</td>\n",
       "      <td>0.151640</td>\n",
       "      <td>0.301770</td>\n",
       "      <td>-0.16763</td>\n",
       "      <td>0.17684</td>\n",
       "      <td>0.31719</td>\n",
       "      <td>0.339730</td>\n",
       "      <td>-0.43478</td>\n",
       "      <td>-0.31086</td>\n",
       "      <td>-0.44999</td>\n",
       "      <td>...</td>\n",
       "      <td>-0.000064</td>\n",
       "      <td>0.068987</td>\n",
       "      <td>0.087939</td>\n",
       "      <td>-0.102850</td>\n",
       "      <td>-0.13931</td>\n",
       "      <td>0.223140</td>\n",
       "      <td>-0.080803</td>\n",
       "      <td>-0.356520</td>\n",
       "      <td>0.016413</td>\n",
       "      <td>0.10216</td>\n",
       "    </tr>\n",
       "    <tr>\n",
       "      <th>3</th>\n",
       "      <td>of</td>\n",
       "      <td>0.708530</td>\n",
       "      <td>0.570880</td>\n",
       "      <td>-0.47160</td>\n",
       "      <td>0.18048</td>\n",
       "      <td>0.54449</td>\n",
       "      <td>0.726030</td>\n",
       "      <td>0.18157</td>\n",
       "      <td>-0.52393</td>\n",
       "      <td>0.10381</td>\n",
       "      <td>...</td>\n",
       "      <td>-0.347270</td>\n",
       "      <td>0.284830</td>\n",
       "      <td>0.075693</td>\n",
       "      <td>-0.062178</td>\n",
       "      <td>-0.38988</td>\n",
       "      <td>0.229020</td>\n",
       "      <td>-0.216170</td>\n",
       "      <td>-0.225620</td>\n",
       "      <td>-0.093918</td>\n",
       "      <td>-0.80375</td>\n",
       "    </tr>\n",
       "    <tr>\n",
       "      <th>4</th>\n",
       "      <td>to</td>\n",
       "      <td>0.680470</td>\n",
       "      <td>-0.039263</td>\n",
       "      <td>0.30186</td>\n",
       "      <td>-0.17792</td>\n",
       "      <td>0.42962</td>\n",
       "      <td>0.032246</td>\n",
       "      <td>-0.41376</td>\n",
       "      <td>0.13228</td>\n",
       "      <td>-0.29847</td>\n",
       "      <td>...</td>\n",
       "      <td>-0.094375</td>\n",
       "      <td>0.018324</td>\n",
       "      <td>0.210480</td>\n",
       "      <td>-0.030880</td>\n",
       "      <td>-0.19722</td>\n",
       "      <td>0.082279</td>\n",
       "      <td>-0.094340</td>\n",
       "      <td>-0.073297</td>\n",
       "      <td>-0.064699</td>\n",
       "      <td>-0.26044</td>\n",
       "    </tr>\n",
       "  </tbody>\n",
       "</table>\n",
       "<p>5 rows × 51 columns</p>\n",
       "</div>"
      ],
      "text/plain": [
       "    0         1         2        3        4        5         6        7   \\\n",
       "0  the  0.418000  0.249680 -0.41242  0.12170  0.34527 -0.044457 -0.49688   \n",
       "1    ,  0.013441  0.236820 -0.16899  0.40951  0.63812  0.477090 -0.42852   \n",
       "2    .  0.151640  0.301770 -0.16763  0.17684  0.31719  0.339730 -0.43478   \n",
       "3   of  0.708530  0.570880 -0.47160  0.18048  0.54449  0.726030  0.18157   \n",
       "4   to  0.680470 -0.039263  0.30186 -0.17792  0.42962  0.032246 -0.41376   \n",
       "\n",
       "        8        9    ...           41        42        43        44       45  \\\n",
       "0 -0.17862 -0.00066   ...    -0.298710 -0.157490 -0.347580 -0.045637 -0.44251   \n",
       "1 -0.55641 -0.36400   ...    -0.080262  0.630030  0.321110 -0.467650  0.22786   \n",
       "2 -0.31086 -0.44999   ...    -0.000064  0.068987  0.087939 -0.102850 -0.13931   \n",
       "3 -0.52393  0.10381   ...    -0.347270  0.284830  0.075693 -0.062178 -0.38988   \n",
       "4  0.13228 -0.29847   ...    -0.094375  0.018324  0.210480 -0.030880 -0.19722   \n",
       "\n",
       "         46        47        48        49       50  \n",
       "0  0.187850  0.002785 -0.184110 -0.115140 -0.78581  \n",
       "1  0.360340 -0.378180 -0.566570  0.044691  0.30392  \n",
       "2  0.223140 -0.080803 -0.356520  0.016413  0.10216  \n",
       "3  0.229020 -0.216170 -0.225620 -0.093918 -0.80375  \n",
       "4  0.082279 -0.094340 -0.073297 -0.064699 -0.26044  \n",
       "\n",
       "[5 rows x 51 columns]"
      ]
     },
     "execution_count": 35,
     "metadata": {},
     "output_type": "execute_result"
    }
   ],
   "source": [
    "word2vec.head(5)"
   ]
  },
  {
   "cell_type": "markdown",
   "metadata": {},
   "source": [
    "# 去除没有在word2vec的词语"
   ]
  },
  {
   "cell_type": "code",
   "execution_count": 36,
   "metadata": {
    "ExecuteTime": {
     "end_time": "2018-01-08T17:06:30.528524Z",
     "start_time": "2018-01-08T17:05:52.906866Z"
    },
    "scrolled": true
   },
   "outputs": [
    {
     "data": {
      "text/plain": [
       "0         False\n",
       "1         False\n",
       "2         False\n",
       "3         False\n",
       "4         False\n",
       "5         False\n",
       "6         False\n",
       "7         False\n",
       "8         False\n",
       "9         False\n",
       "10        False\n",
       "11        False\n",
       "12        False\n",
       "13        False\n",
       "14        False\n",
       "15        False\n",
       "16         True\n",
       "17        False\n",
       "18        False\n",
       "19        False\n",
       "20        False\n",
       "21        False\n",
       "22        False\n",
       "23        False\n",
       "24        False\n",
       "25        False\n",
       "26        False\n",
       "27        False\n",
       "28        False\n",
       "29        False\n",
       "          ...  \n",
       "399970    False\n",
       "399971    False\n",
       "399972    False\n",
       "399973    False\n",
       "399974    False\n",
       "399975    False\n",
       "399976    False\n",
       "399977    False\n",
       "399978    False\n",
       "399979    False\n",
       "399980    False\n",
       "399981    False\n",
       "399982    False\n",
       "399983    False\n",
       "399984    False\n",
       "399985    False\n",
       "399986    False\n",
       "399987    False\n",
       "399988    False\n",
       "399989    False\n",
       "399990    False\n",
       "399991    False\n",
       "399992    False\n",
       "399993    False\n",
       "399994    False\n",
       "399995    False\n",
       "399996    False\n",
       "399997    False\n",
       "399998    False\n",
       "399999    False\n",
       "Name: 0, dtype: bool"
      ]
     },
     "execution_count": 36,
     "metadata": {},
     "output_type": "execute_result"
    }
   ],
   "source": [
    "index = word2vec[0] == all_word_unique[0]\n",
    "for i in all_word_unique[1:]:\n",
    "    index |=  word2vec[0] == i\n",
    "index"
   ]
  },
  {
   "cell_type": "code",
   "execution_count": 37,
   "metadata": {
    "ExecuteTime": {
     "end_time": "2018-01-08T17:06:30.575540Z",
     "start_time": "2018-01-08T17:06:30.531510Z"
    }
   },
   "outputs": [
    {
     "data": {
      "text/plain": [
       "Counter({False: 398362, True: 1638})"
      ]
     },
     "execution_count": 37,
     "metadata": {},
     "output_type": "execute_result"
    }
   ],
   "source": [
    "Counter(index)"
   ]
  },
  {
   "cell_type": "code",
   "execution_count": 38,
   "metadata": {
    "ExecuteTime": {
     "end_time": "2018-01-08T17:06:30.755669Z",
     "start_time": "2018-01-08T17:06:30.579542Z"
    }
   },
   "outputs": [
    {
     "data": {
      "text/plain": [
       "(1638, 51)"
      ]
     },
     "execution_count": 38,
     "metadata": {},
     "output_type": "execute_result"
    },
    {
     "data": {
      "text/html": [
       "<div>\n",
       "<table border=\"1\" class=\"dataframe\">\n",
       "  <thead>\n",
       "    <tr style=\"text-align: right;\">\n",
       "      <th></th>\n",
       "      <th>0</th>\n",
       "      <th>1</th>\n",
       "      <th>2</th>\n",
       "      <th>3</th>\n",
       "      <th>4</th>\n",
       "      <th>5</th>\n",
       "      <th>6</th>\n",
       "      <th>7</th>\n",
       "      <th>8</th>\n",
       "      <th>9</th>\n",
       "      <th>...</th>\n",
       "      <th>41</th>\n",
       "      <th>42</th>\n",
       "      <th>43</th>\n",
       "      <th>44</th>\n",
       "      <th>45</th>\n",
       "      <th>46</th>\n",
       "      <th>47</th>\n",
       "      <th>48</th>\n",
       "      <th>49</th>\n",
       "      <th>50</th>\n",
       "    </tr>\n",
       "  </thead>\n",
       "  <tbody>\n",
       "    <tr>\n",
       "      <th>16</th>\n",
       "      <td>said</td>\n",
       "      <td>0.38973</td>\n",
       "      <td>-0.21210</td>\n",
       "      <td>0.518370</td>\n",
       "      <td>0.801360</td>\n",
       "      <td>1.03360</td>\n",
       "      <td>-0.277840</td>\n",
       "      <td>-0.84525</td>\n",
       "      <td>-0.253330</td>\n",
       "      <td>0.12586</td>\n",
       "      <td>...</td>\n",
       "      <td>-0.46297</td>\n",
       "      <td>1.318600</td>\n",
       "      <td>0.327050</td>\n",
       "      <td>-0.73446</td>\n",
       "      <td>0.893010</td>\n",
       "      <td>-0.453240</td>\n",
       "      <td>-1.26980</td>\n",
       "      <td>0.861190</td>\n",
       "      <td>0.141500</td>\n",
       "      <td>1.20180</td>\n",
       "    </tr>\n",
       "    <tr>\n",
       "      <th>48</th>\n",
       "      <td>one</td>\n",
       "      <td>0.31474</td>\n",
       "      <td>0.41662</td>\n",
       "      <td>0.134800</td>\n",
       "      <td>0.158540</td>\n",
       "      <td>0.88812</td>\n",
       "      <td>0.433170</td>\n",
       "      <td>-0.55916</td>\n",
       "      <td>0.030476</td>\n",
       "      <td>-0.14623</td>\n",
       "      <td>...</td>\n",
       "      <td>-0.15556</td>\n",
       "      <td>0.308180</td>\n",
       "      <td>-0.093586</td>\n",
       "      <td>0.33296</td>\n",
       "      <td>-0.146130</td>\n",
       "      <td>0.016332</td>\n",
       "      <td>-0.24251</td>\n",
       "      <td>-0.205260</td>\n",
       "      <td>0.070090</td>\n",
       "      <td>-0.11568</td>\n",
       "    </tr>\n",
       "    <tr>\n",
       "      <th>50</th>\n",
       "      <td>new</td>\n",
       "      <td>0.19511</td>\n",
       "      <td>0.50739</td>\n",
       "      <td>0.001471</td>\n",
       "      <td>0.041914</td>\n",
       "      <td>-0.16759</td>\n",
       "      <td>0.037517</td>\n",
       "      <td>-1.39700</td>\n",
       "      <td>-0.923980</td>\n",
       "      <td>-0.24296</td>\n",
       "      <td>...</td>\n",
       "      <td>-0.27055</td>\n",
       "      <td>0.060425</td>\n",
       "      <td>0.095107</td>\n",
       "      <td>-0.23679</td>\n",
       "      <td>-0.086108</td>\n",
       "      <td>1.024300</td>\n",
       "      <td>-0.22779</td>\n",
       "      <td>0.030488</td>\n",
       "      <td>-0.142720</td>\n",
       "      <td>0.45411</td>\n",
       "    </tr>\n",
       "    <tr>\n",
       "      <th>55</th>\n",
       "      <td>two</td>\n",
       "      <td>0.58289</td>\n",
       "      <td>0.36258</td>\n",
       "      <td>0.340650</td>\n",
       "      <td>0.364160</td>\n",
       "      <td>0.34337</td>\n",
       "      <td>0.793870</td>\n",
       "      <td>-0.93620</td>\n",
       "      <td>0.114320</td>\n",
       "      <td>-0.63005</td>\n",
       "      <td>...</td>\n",
       "      <td>-0.54738</td>\n",
       "      <td>0.152440</td>\n",
       "      <td>0.410000</td>\n",
       "      <td>0.15702</td>\n",
       "      <td>0.007794</td>\n",
       "      <td>-0.015106</td>\n",
       "      <td>-0.28653</td>\n",
       "      <td>-0.161580</td>\n",
       "      <td>-0.351690</td>\n",
       "      <td>-0.82555</td>\n",
       "    </tr>\n",
       "    <tr>\n",
       "      <th>58</th>\n",
       "      <td>first</td>\n",
       "      <td>-0.14168</td>\n",
       "      <td>0.41108</td>\n",
       "      <td>-0.312270</td>\n",
       "      <td>0.166330</td>\n",
       "      <td>0.26124</td>\n",
       "      <td>0.457080</td>\n",
       "      <td>-1.20010</td>\n",
       "      <td>0.014923</td>\n",
       "      <td>-0.22779</td>\n",
       "      <td>...</td>\n",
       "      <td>-0.14998</td>\n",
       "      <td>-0.277230</td>\n",
       "      <td>-0.466580</td>\n",
       "      <td>-0.44268</td>\n",
       "      <td>-0.436910</td>\n",
       "      <td>0.384550</td>\n",
       "      <td>0.13690</td>\n",
       "      <td>-0.254240</td>\n",
       "      <td>0.017821</td>\n",
       "      <td>-0.14890</td>\n",
       "    </tr>\n",
       "  </tbody>\n",
       "</table>\n",
       "<p>5 rows × 51 columns</p>\n",
       "</div>"
      ],
      "text/plain": [
       "       0        1        2         3         4        5         6        7   \\\n",
       "16   said  0.38973 -0.21210  0.518370  0.801360  1.03360 -0.277840 -0.84525   \n",
       "48    one  0.31474  0.41662  0.134800  0.158540  0.88812  0.433170 -0.55916   \n",
       "50    new  0.19511  0.50739  0.001471  0.041914 -0.16759  0.037517 -1.39700   \n",
       "55    two  0.58289  0.36258  0.340650  0.364160  0.34337  0.793870 -0.93620   \n",
       "58  first -0.14168  0.41108 -0.312270  0.166330  0.26124  0.457080 -1.20010   \n",
       "\n",
       "          8        9    ...          41        42        43       44  \\\n",
       "16 -0.253330  0.12586   ...    -0.46297  1.318600  0.327050 -0.73446   \n",
       "48  0.030476 -0.14623   ...    -0.15556  0.308180 -0.093586  0.33296   \n",
       "50 -0.923980 -0.24296   ...    -0.27055  0.060425  0.095107 -0.23679   \n",
       "55  0.114320 -0.63005   ...    -0.54738  0.152440  0.410000  0.15702   \n",
       "58  0.014923 -0.22779   ...    -0.14998 -0.277230 -0.466580 -0.44268   \n",
       "\n",
       "          45        46       47        48        49       50  \n",
       "16  0.893010 -0.453240 -1.26980  0.861190  0.141500  1.20180  \n",
       "48 -0.146130  0.016332 -0.24251 -0.205260  0.070090 -0.11568  \n",
       "50 -0.086108  1.024300 -0.22779  0.030488 -0.142720  0.45411  \n",
       "55  0.007794 -0.015106 -0.28653 -0.161580 -0.351690 -0.82555  \n",
       "58 -0.436910  0.384550  0.13690 -0.254240  0.017821 -0.14890  \n",
       "\n",
       "[5 rows x 51 columns]"
      ]
     },
     "execution_count": 38,
     "metadata": {},
     "output_type": "execute_result"
    }
   ],
   "source": [
    "word2vec2 = word2vec[index]\n",
    "word2vec2.shape\n",
    "word2vec2.head()"
   ]
  },
  {
   "cell_type": "code",
   "execution_count": 39,
   "metadata": {
    "ExecuteTime": {
     "end_time": "2018-01-08T17:06:30.799697Z",
     "start_time": "2018-01-08T17:06:30.758669Z"
    }
   },
   "outputs": [
    {
     "data": {
      "text/plain": [
       "{'-lrb-', '-rrb-', 'delish', 'guac', 'phx', 'yelpers'}"
      ]
     },
     "execution_count": 39,
     "metadata": {},
     "output_type": "execute_result"
    }
   ],
   "source": [
    "t = set(all_word_unique).difference(set(list(word2vec2[0].values)))\n",
    "t"
   ]
  },
  {
   "cell_type": "markdown",
   "metadata": {},
   "source": [
    "TA给的数据少了这几个词。那么为了兼容，需要去除这些词，TF矩阵要修改。"
   ]
  },
  {
   "cell_type": "code",
   "execution_count": 40,
   "metadata": {
    "ExecuteTime": {
     "end_time": "2018-01-08T17:06:30.924789Z",
     "start_time": "2018-01-08T17:06:30.801718Z"
    }
   },
   "outputs": [
    {
     "data": {
      "text/plain": [
       "(6060, 1644)"
      ]
     },
     "execution_count": 40,
     "metadata": {},
     "output_type": "execute_result"
    },
    {
     "data": {
      "text/plain": [
       "(6060, 1638)"
      ]
     },
     "execution_count": 40,
     "metadata": {},
     "output_type": "execute_result"
    }
   ],
   "source": [
    "train_tf.shape\n",
    "train_tf.drop(t, axis=1, inplace=True)\n",
    "train_tf.shape"
   ]
  },
  {
   "cell_type": "code",
   "execution_count": 41,
   "metadata": {
    "ExecuteTime": {
     "end_time": "2018-01-08T17:06:31.085900Z",
     "start_time": "2018-01-08T17:06:30.926788Z"
    }
   },
   "outputs": [
    {
     "data": {
      "text/plain": [
       "(8671, 1644)"
      ]
     },
     "execution_count": 41,
     "metadata": {},
     "output_type": "execute_result"
    },
    {
     "data": {
      "text/plain": [
       "(8671, 1638)"
      ]
     },
     "execution_count": 41,
     "metadata": {},
     "output_type": "execute_result"
    }
   ],
   "source": [
    "test_tf.shape\n",
    "test_tf.drop(t, axis=1, inplace=True)\n",
    "test_tf.shape"
   ]
  },
  {
   "cell_type": "markdown",
   "metadata": {
    "ExecuteTime": {
     "end_time": "2018-01-08T00:09:24.699332Z",
     "start_time": "2018-01-08T00:09:24.271300Z"
    }
   },
   "source": [
    "# 按照词语排序\n",
    "由于要根据词语进行矩阵的对应乘法，这里要将所有数据对应排列好。"
   ]
  },
  {
   "cell_type": "code",
   "execution_count": 42,
   "metadata": {
    "ExecuteTime": {
     "end_time": "2018-01-08T17:06:31.186972Z",
     "start_time": "2018-01-08T17:06:31.088902Z"
    }
   },
   "outputs": [
    {
     "data": {
      "text/plain": [
       "(1638, 51)"
      ]
     },
     "execution_count": 42,
     "metadata": {},
     "output_type": "execute_result"
    },
    {
     "data": {
      "text/html": [
       "<div>\n",
       "<table border=\"1\" class=\"dataframe\">\n",
       "  <thead>\n",
       "    <tr style=\"text-align: right;\">\n",
       "      <th></th>\n",
       "      <th>0</th>\n",
       "      <th>1</th>\n",
       "      <th>2</th>\n",
       "      <th>3</th>\n",
       "      <th>4</th>\n",
       "      <th>5</th>\n",
       "      <th>6</th>\n",
       "      <th>7</th>\n",
       "      <th>8</th>\n",
       "      <th>9</th>\n",
       "      <th>...</th>\n",
       "      <th>41</th>\n",
       "      <th>42</th>\n",
       "      <th>43</th>\n",
       "      <th>44</th>\n",
       "      <th>45</th>\n",
       "      <th>46</th>\n",
       "      <th>47</th>\n",
       "      <th>48</th>\n",
       "      <th>49</th>\n",
       "      <th>50</th>\n",
       "    </tr>\n",
       "  </thead>\n",
       "  <tbody>\n",
       "    <tr>\n",
       "      <th>0</th>\n",
       "      <td>--</td>\n",
       "      <td>0.498060</td>\n",
       "      <td>1.238200</td>\n",
       "      <td>0.86976</td>\n",
       "      <td>0.002529</td>\n",
       "      <td>-0.56263</td>\n",
       "      <td>-0.387810</td>\n",
       "      <td>-0.47155</td>\n",
       "      <td>-0.957170</td>\n",
       "      <td>-0.123140</td>\n",
       "      <td>...</td>\n",
       "      <td>-0.924910</td>\n",
       "      <td>1.520500</td>\n",
       "      <td>0.810550</td>\n",
       "      <td>0.059992</td>\n",
       "      <td>0.836290</td>\n",
       "      <td>0.171340</td>\n",
       "      <td>-0.526200</td>\n",
       "      <td>-0.157500</td>\n",
       "      <td>0.174090</td>\n",
       "      <td>0.10790</td>\n",
       "    </tr>\n",
       "    <tr>\n",
       "      <th>1</th>\n",
       "      <td>/</td>\n",
       "      <td>-0.499350</td>\n",
       "      <td>1.475900</td>\n",
       "      <td>0.89591</td>\n",
       "      <td>0.864800</td>\n",
       "      <td>-0.71297</td>\n",
       "      <td>-0.056885</td>\n",
       "      <td>0.14008</td>\n",
       "      <td>-1.817900</td>\n",
       "      <td>-0.246480</td>\n",
       "      <td>...</td>\n",
       "      <td>1.574700</td>\n",
       "      <td>0.160610</td>\n",
       "      <td>0.674240</td>\n",
       "      <td>-0.953330</td>\n",
       "      <td>0.638840</td>\n",
       "      <td>0.494900</td>\n",
       "      <td>0.602750</td>\n",
       "      <td>0.068522</td>\n",
       "      <td>0.677290</td>\n",
       "      <td>0.71499</td>\n",
       "    </tr>\n",
       "    <tr>\n",
       "      <th>2</th>\n",
       "      <td>able</td>\n",
       "      <td>0.864540</td>\n",
       "      <td>-0.390890</td>\n",
       "      <td>0.98069</td>\n",
       "      <td>-0.433110</td>\n",
       "      <td>0.54404</td>\n",
       "      <td>-0.316480</td>\n",
       "      <td>-0.32186</td>\n",
       "      <td>0.832060</td>\n",
       "      <td>-0.053605</td>\n",
       "      <td>...</td>\n",
       "      <td>0.050596</td>\n",
       "      <td>-0.215260</td>\n",
       "      <td>0.402560</td>\n",
       "      <td>0.326370</td>\n",
       "      <td>0.069126</td>\n",
       "      <td>-0.048120</td>\n",
       "      <td>0.178840</td>\n",
       "      <td>-0.138790</td>\n",
       "      <td>-0.225270</td>\n",
       "      <td>0.23315</td>\n",
       "    </tr>\n",
       "    <tr>\n",
       "      <th>3</th>\n",
       "      <td>absolutely</td>\n",
       "      <td>0.365820</td>\n",
       "      <td>-0.439750</td>\n",
       "      <td>-0.35016</td>\n",
       "      <td>0.096443</td>\n",
       "      <td>0.99511</td>\n",
       "      <td>-0.161160</td>\n",
       "      <td>0.50959</td>\n",
       "      <td>0.297730</td>\n",
       "      <td>-0.099699</td>\n",
       "      <td>...</td>\n",
       "      <td>-0.000256</td>\n",
       "      <td>-0.478440</td>\n",
       "      <td>0.183160</td>\n",
       "      <td>0.256340</td>\n",
       "      <td>-0.289930</td>\n",
       "      <td>0.329920</td>\n",
       "      <td>-1.101100</td>\n",
       "      <td>0.868700</td>\n",
       "      <td>0.686870</td>\n",
       "      <td>0.96048</td>\n",
       "    </tr>\n",
       "    <tr>\n",
       "      <th>4</th>\n",
       "      <td>accommodating</td>\n",
       "      <td>0.684430</td>\n",
       "      <td>0.178750</td>\n",
       "      <td>0.13739</td>\n",
       "      <td>-1.012300</td>\n",
       "      <td>0.32028</td>\n",
       "      <td>-0.250790</td>\n",
       "      <td>0.56531</td>\n",
       "      <td>-0.173910</td>\n",
       "      <td>-0.414580</td>\n",
       "      <td>...</td>\n",
       "      <td>-0.070533</td>\n",
       "      <td>-0.268600</td>\n",
       "      <td>0.851200</td>\n",
       "      <td>1.063300</td>\n",
       "      <td>-0.193460</td>\n",
       "      <td>-0.187170</td>\n",
       "      <td>-0.506470</td>\n",
       "      <td>0.328510</td>\n",
       "      <td>-0.361410</td>\n",
       "      <td>0.42840</td>\n",
       "    </tr>\n",
       "    <tr>\n",
       "      <th>5</th>\n",
       "      <td>across</td>\n",
       "      <td>0.523600</td>\n",
       "      <td>-0.020293</td>\n",
       "      <td>0.26881</td>\n",
       "      <td>-0.484250</td>\n",
       "      <td>-0.54396</td>\n",
       "      <td>-0.461810</td>\n",
       "      <td>-0.90864</td>\n",
       "      <td>-0.329930</td>\n",
       "      <td>0.627310</td>\n",
       "      <td>...</td>\n",
       "      <td>-0.564290</td>\n",
       "      <td>0.481730</td>\n",
       "      <td>0.388640</td>\n",
       "      <td>0.038322</td>\n",
       "      <td>-0.210970</td>\n",
       "      <td>0.140940</td>\n",
       "      <td>0.146370</td>\n",
       "      <td>-0.914320</td>\n",
       "      <td>-0.615700</td>\n",
       "      <td>-1.31120</td>\n",
       "    </tr>\n",
       "    <tr>\n",
       "      <th>6</th>\n",
       "      <td>actual</td>\n",
       "      <td>0.508210</td>\n",
       "      <td>0.364630</td>\n",
       "      <td>0.10179</td>\n",
       "      <td>-0.087690</td>\n",
       "      <td>0.76352</td>\n",
       "      <td>0.458140</td>\n",
       "      <td>0.37515</td>\n",
       "      <td>-0.123200</td>\n",
       "      <td>0.395520</td>\n",
       "      <td>...</td>\n",
       "      <td>-0.240840</td>\n",
       "      <td>-0.370010</td>\n",
       "      <td>-0.062719</td>\n",
       "      <td>0.383100</td>\n",
       "      <td>-0.565100</td>\n",
       "      <td>-0.848000</td>\n",
       "      <td>0.556210</td>\n",
       "      <td>0.578850</td>\n",
       "      <td>0.340660</td>\n",
       "      <td>0.22470</td>\n",
       "    </tr>\n",
       "    <tr>\n",
       "      <th>7</th>\n",
       "      <td>actually</td>\n",
       "      <td>0.420790</td>\n",
       "      <td>-0.127380</td>\n",
       "      <td>0.36681</td>\n",
       "      <td>-0.572930</td>\n",
       "      <td>0.73362</td>\n",
       "      <td>0.417580</td>\n",
       "      <td>-0.41780</td>\n",
       "      <td>-0.091456</td>\n",
       "      <td>-0.215470</td>\n",
       "      <td>...</td>\n",
       "      <td>-0.393190</td>\n",
       "      <td>-0.093921</td>\n",
       "      <td>0.062569</td>\n",
       "      <td>0.297270</td>\n",
       "      <td>-0.127810</td>\n",
       "      <td>-0.256530</td>\n",
       "      <td>-0.018763</td>\n",
       "      <td>-0.259300</td>\n",
       "      <td>-0.023835</td>\n",
       "      <td>0.52329</td>\n",
       "    </tr>\n",
       "    <tr>\n",
       "      <th>8</th>\n",
       "      <td>add</td>\n",
       "      <td>-0.036357</td>\n",
       "      <td>0.422480</td>\n",
       "      <td>0.27717</td>\n",
       "      <td>0.146910</td>\n",
       "      <td>0.35807</td>\n",
       "      <td>0.061560</td>\n",
       "      <td>0.39441</td>\n",
       "      <td>0.010002</td>\n",
       "      <td>-0.301520</td>\n",
       "      <td>...</td>\n",
       "      <td>0.910270</td>\n",
       "      <td>0.266490</td>\n",
       "      <td>0.292730</td>\n",
       "      <td>-0.164580</td>\n",
       "      <td>0.169010</td>\n",
       "      <td>1.477500</td>\n",
       "      <td>0.680400</td>\n",
       "      <td>0.529650</td>\n",
       "      <td>-0.312120</td>\n",
       "      <td>0.42680</td>\n",
       "    </tr>\n",
       "    <tr>\n",
       "      <th>9</th>\n",
       "      <td>added</td>\n",
       "      <td>-0.171030</td>\n",
       "      <td>0.217030</td>\n",
       "      <td>0.31748</td>\n",
       "      <td>0.479150</td>\n",
       "      <td>1.10860</td>\n",
       "      <td>-0.069950</td>\n",
       "      <td>-0.57346</td>\n",
       "      <td>-0.473570</td>\n",
       "      <td>-0.485320</td>\n",
       "      <td>...</td>\n",
       "      <td>0.112050</td>\n",
       "      <td>0.397420</td>\n",
       "      <td>0.218510</td>\n",
       "      <td>-0.465910</td>\n",
       "      <td>0.206790</td>\n",
       "      <td>0.016375</td>\n",
       "      <td>-0.362960</td>\n",
       "      <td>0.641380</td>\n",
       "      <td>0.366590</td>\n",
       "      <td>0.41078</td>\n",
       "    </tr>\n",
       "  </tbody>\n",
       "</table>\n",
       "<p>10 rows × 51 columns</p>\n",
       "</div>"
      ],
      "text/plain": [
       "              0         1         2        3         4        5         6   \\\n",
       "0             --  0.498060  1.238200  0.86976  0.002529 -0.56263 -0.387810   \n",
       "1              / -0.499350  1.475900  0.89591  0.864800 -0.71297 -0.056885   \n",
       "2           able  0.864540 -0.390890  0.98069 -0.433110  0.54404 -0.316480   \n",
       "3     absolutely  0.365820 -0.439750 -0.35016  0.096443  0.99511 -0.161160   \n",
       "4  accommodating  0.684430  0.178750  0.13739 -1.012300  0.32028 -0.250790   \n",
       "5         across  0.523600 -0.020293  0.26881 -0.484250 -0.54396 -0.461810   \n",
       "6         actual  0.508210  0.364630  0.10179 -0.087690  0.76352  0.458140   \n",
       "7       actually  0.420790 -0.127380  0.36681 -0.572930  0.73362  0.417580   \n",
       "8            add -0.036357  0.422480  0.27717  0.146910  0.35807  0.061560   \n",
       "9          added -0.171030  0.217030  0.31748  0.479150  1.10860 -0.069950   \n",
       "\n",
       "        7         8         9    ...           41        42        43  \\\n",
       "0 -0.47155 -0.957170 -0.123140   ...    -0.924910  1.520500  0.810550   \n",
       "1  0.14008 -1.817900 -0.246480   ...     1.574700  0.160610  0.674240   \n",
       "2 -0.32186  0.832060 -0.053605   ...     0.050596 -0.215260  0.402560   \n",
       "3  0.50959  0.297730 -0.099699   ...    -0.000256 -0.478440  0.183160   \n",
       "4  0.56531 -0.173910 -0.414580   ...    -0.070533 -0.268600  0.851200   \n",
       "5 -0.90864 -0.329930  0.627310   ...    -0.564290  0.481730  0.388640   \n",
       "6  0.37515 -0.123200  0.395520   ...    -0.240840 -0.370010 -0.062719   \n",
       "7 -0.41780 -0.091456 -0.215470   ...    -0.393190 -0.093921  0.062569   \n",
       "8  0.39441  0.010002 -0.301520   ...     0.910270  0.266490  0.292730   \n",
       "9 -0.57346 -0.473570 -0.485320   ...     0.112050  0.397420  0.218510   \n",
       "\n",
       "         44        45        46        47        48        49       50  \n",
       "0  0.059992  0.836290  0.171340 -0.526200 -0.157500  0.174090  0.10790  \n",
       "1 -0.953330  0.638840  0.494900  0.602750  0.068522  0.677290  0.71499  \n",
       "2  0.326370  0.069126 -0.048120  0.178840 -0.138790 -0.225270  0.23315  \n",
       "3  0.256340 -0.289930  0.329920 -1.101100  0.868700  0.686870  0.96048  \n",
       "4  1.063300 -0.193460 -0.187170 -0.506470  0.328510 -0.361410  0.42840  \n",
       "5  0.038322 -0.210970  0.140940  0.146370 -0.914320 -0.615700 -1.31120  \n",
       "6  0.383100 -0.565100 -0.848000  0.556210  0.578850  0.340660  0.22470  \n",
       "7  0.297270 -0.127810 -0.256530 -0.018763 -0.259300 -0.023835  0.52329  \n",
       "8 -0.164580  0.169010  1.477500  0.680400  0.529650 -0.312120  0.42680  \n",
       "9 -0.465910  0.206790  0.016375 -0.362960  0.641380  0.366590  0.41078  \n",
       "\n",
       "[10 rows x 51 columns]"
      ]
     },
     "execution_count": 42,
     "metadata": {},
     "output_type": "execute_result"
    }
   ],
   "source": [
    "word2vec3 = word2vec2.sort_values([0],ascending=True).reset_index(drop=True)\n",
    "word2vec3.shape\n",
    "word2vec3.head(10)"
   ]
  },
  {
   "cell_type": "code",
   "execution_count": 43,
   "metadata": {
    "ExecuteTime": {
     "end_time": "2018-01-08T17:06:31.314063Z",
     "start_time": "2018-01-08T17:06:31.188974Z"
    }
   },
   "outputs": [
    {
     "data": {
      "text/plain": [
       "(6060, 1638)"
      ]
     },
     "execution_count": 43,
     "metadata": {},
     "output_type": "execute_result"
    },
    {
     "data": {
      "text/html": [
       "<div>\n",
       "<table border=\"1\" class=\"dataframe\">\n",
       "  <thead>\n",
       "    <tr style=\"text-align: right;\">\n",
       "      <th></th>\n",
       "      <th>--</th>\n",
       "      <th>/</th>\n",
       "      <th>able</th>\n",
       "      <th>absolutely</th>\n",
       "      <th>accommodating</th>\n",
       "      <th>across</th>\n",
       "      <th>actual</th>\n",
       "      <th>actually</th>\n",
       "      <th>add</th>\n",
       "      <th>added</th>\n",
       "      <th>...</th>\n",
       "      <th>years</th>\n",
       "      <th>yellow</th>\n",
       "      <th>yelp</th>\n",
       "      <th>yes</th>\n",
       "      <th>yesterday</th>\n",
       "      <th>yet</th>\n",
       "      <th>yogurt</th>\n",
       "      <th>young</th>\n",
       "      <th>yum</th>\n",
       "      <th>yummy</th>\n",
       "    </tr>\n",
       "  </thead>\n",
       "  <tbody>\n",
       "    <tr>\n",
       "      <th>0</th>\n",
       "      <td>0.0</td>\n",
       "      <td>0.0</td>\n",
       "      <td>0.0</td>\n",
       "      <td>0.0</td>\n",
       "      <td>0.0</td>\n",
       "      <td>0.0</td>\n",
       "      <td>0.0</td>\n",
       "      <td>0.0</td>\n",
       "      <td>0.0</td>\n",
       "      <td>0.0</td>\n",
       "      <td>...</td>\n",
       "      <td>0.0</td>\n",
       "      <td>0.0</td>\n",
       "      <td>0.0</td>\n",
       "      <td>0.0</td>\n",
       "      <td>0.0</td>\n",
       "      <td>0.0</td>\n",
       "      <td>0.0</td>\n",
       "      <td>0.0</td>\n",
       "      <td>0.0</td>\n",
       "      <td>0.0</td>\n",
       "    </tr>\n",
       "  </tbody>\n",
       "</table>\n",
       "<p>1 rows × 1638 columns</p>\n",
       "</div>"
      ],
      "text/plain": [
       "    --    /  able  absolutely  accommodating  across  actual  actually  add  \\\n",
       "0  0.0  0.0   0.0         0.0            0.0     0.0     0.0       0.0  0.0   \n",
       "\n",
       "   added  ...    years  yellow  yelp  yes  yesterday  yet  yogurt  young  yum  \\\n",
       "0    0.0  ...      0.0     0.0   0.0  0.0        0.0  0.0     0.0    0.0  0.0   \n",
       "\n",
       "   yummy  \n",
       "0    0.0  \n",
       "\n",
       "[1 rows x 1638 columns]"
      ]
     },
     "execution_count": 43,
     "metadata": {},
     "output_type": "execute_result"
    }
   ],
   "source": [
    "train_tf2 = train_tf.sort_index(axis=1, ascending=True)\n",
    "train_tf2.shape\n",
    "train_tf2.head(1)"
   ]
  },
  {
   "cell_type": "code",
   "execution_count": 44,
   "metadata": {
    "ExecuteTime": {
     "end_time": "2018-01-08T17:06:31.439150Z",
     "start_time": "2018-01-08T17:06:31.316063Z"
    }
   },
   "outputs": [
    {
     "data": {
      "text/plain": [
       "(8671, 1638)"
      ]
     },
     "execution_count": 44,
     "metadata": {},
     "output_type": "execute_result"
    },
    {
     "data": {
      "text/html": [
       "<div>\n",
       "<table border=\"1\" class=\"dataframe\">\n",
       "  <thead>\n",
       "    <tr style=\"text-align: right;\">\n",
       "      <th></th>\n",
       "      <th>--</th>\n",
       "      <th>/</th>\n",
       "      <th>able</th>\n",
       "      <th>absolutely</th>\n",
       "      <th>accommodating</th>\n",
       "      <th>across</th>\n",
       "      <th>actual</th>\n",
       "      <th>actually</th>\n",
       "      <th>add</th>\n",
       "      <th>added</th>\n",
       "      <th>...</th>\n",
       "      <th>years</th>\n",
       "      <th>yellow</th>\n",
       "      <th>yelp</th>\n",
       "      <th>yes</th>\n",
       "      <th>yesterday</th>\n",
       "      <th>yet</th>\n",
       "      <th>yogurt</th>\n",
       "      <th>young</th>\n",
       "      <th>yum</th>\n",
       "      <th>yummy</th>\n",
       "    </tr>\n",
       "  </thead>\n",
       "  <tbody>\n",
       "    <tr>\n",
       "      <th>0</th>\n",
       "      <td>0.0</td>\n",
       "      <td>0.0</td>\n",
       "      <td>0.0</td>\n",
       "      <td>0.0</td>\n",
       "      <td>0.0</td>\n",
       "      <td>0.0</td>\n",
       "      <td>0.0</td>\n",
       "      <td>0.0</td>\n",
       "      <td>0.0</td>\n",
       "      <td>0.0</td>\n",
       "      <td>...</td>\n",
       "      <td>0.0</td>\n",
       "      <td>0.0</td>\n",
       "      <td>0.0</td>\n",
       "      <td>0.0</td>\n",
       "      <td>0.0</td>\n",
       "      <td>0.0</td>\n",
       "      <td>0.030303</td>\n",
       "      <td>0.0</td>\n",
       "      <td>0.0</td>\n",
       "      <td>0.030303</td>\n",
       "    </tr>\n",
       "  </tbody>\n",
       "</table>\n",
       "<p>1 rows × 1638 columns</p>\n",
       "</div>"
      ],
      "text/plain": [
       "    --    /  able  absolutely  accommodating  across  actual  actually  add  \\\n",
       "0  0.0  0.0   0.0         0.0            0.0     0.0     0.0       0.0  0.0   \n",
       "\n",
       "   added    ...     years  yellow  yelp  yes  yesterday  yet    yogurt  young  \\\n",
       "0    0.0    ...       0.0     0.0   0.0  0.0        0.0  0.0  0.030303    0.0   \n",
       "\n",
       "   yum     yummy  \n",
       "0  0.0  0.030303  \n",
       "\n",
       "[1 rows x 1638 columns]"
      ]
     },
     "execution_count": 44,
     "metadata": {},
     "output_type": "execute_result"
    }
   ],
   "source": [
    "test_tf2 = test_tf.sort_index(axis=1, ascending=True)\n",
    "test_tf2.shape\n",
    "test_tf2.head(1)"
   ]
  },
  {
   "cell_type": "markdown",
   "metadata": {},
   "source": [
    "# 准备进行矩阵乘法"
   ]
  },
  {
   "cell_type": "code",
   "execution_count": 45,
   "metadata": {
    "ExecuteTime": {
     "end_time": "2018-01-08T17:06:31.648299Z",
     "start_time": "2018-01-08T17:06:31.442156Z"
    }
   },
   "outputs": [
    {
     "data": {
      "text/plain": [
       "(1638, 51)"
      ]
     },
     "execution_count": 45,
     "metadata": {},
     "output_type": "execute_result"
    },
    {
     "name": "stderr",
     "output_type": "stream",
     "text": [
      "E:\\Anaconda3\\lib\\site-packages\\ipykernel\\__main__.py:2: SettingWithCopyWarning: \n",
      "A value is trying to be set on a copy of a slice from a DataFrame\n",
      "\n",
      "See the caveats in the documentation: http://pandas.pydata.org/pandas-docs/stable/indexing.html#indexing-view-versus-copy\n",
      "  from ipykernel import kernelapp as app\n"
     ]
    },
    {
     "data": {
      "text/plain": [
       "(1638, 50)"
      ]
     },
     "execution_count": 45,
     "metadata": {},
     "output_type": "execute_result"
    }
   ],
   "source": [
    "word2vec2.shape\n",
    "word2vec2.drop([0], axis=1, inplace=True)\n",
    "word2vec2.shape"
   ]
  },
  {
   "cell_type": "code",
   "execution_count": 46,
   "metadata": {
    "ExecuteTime": {
     "end_time": "2018-01-08T17:06:31.735361Z",
     "start_time": "2018-01-08T17:06:31.653303Z"
    }
   },
   "outputs": [
    {
     "data": {
      "text/plain": [
       "(1638, 50)"
      ]
     },
     "execution_count": 46,
     "metadata": {},
     "output_type": "execute_result"
    },
    {
     "data": {
      "text/plain": [
       "array([ 0.38973  , -0.2121   ,  0.51837  ,  0.80136  ,  1.0336   ,\n",
       "       -0.27784  , -0.84525  , -0.25333  ,  0.12586  , -0.90342  ,\n",
       "        0.24975  ,  0.22022  , -1.2053   , -0.53771  ,  1.0446   ,\n",
       "        0.62778  ,  0.39704  , -0.15812  ,  0.38102  , -0.54674  ,\n",
       "       -0.44009  ,  1.0976   ,  0.013069 , -0.89971  ,  0.41226  ,\n",
       "       -2.2309   ,  0.28997  ,  0.32175  , -0.72738  , -0.092244 ,\n",
       "        3.028    , -0.062599 ,  0.038329 ,  0.0072918, -0.35388  ,\n",
       "       -0.92256  ,  0.097932 ,  0.10068  ,  1.2116   ,  0.88233  ,\n",
       "       -0.46297  ,  1.3186   ,  0.32705  , -0.73446  ,  0.89301  ,\n",
       "       -0.45324  , -1.2698   ,  0.86119  ,  0.1415   ,  1.2018   ])"
      ]
     },
     "execution_count": 46,
     "metadata": {},
     "output_type": "execute_result"
    }
   ],
   "source": [
    "word2vec_arr = arr(word2vec2.values)\n",
    "word2vec_arr.shape\n",
    "word2vec_arr[0]"
   ]
  },
  {
   "cell_type": "code",
   "execution_count": 47,
   "metadata": {
    "ExecuteTime": {
     "end_time": "2018-01-08T17:06:31.905480Z",
     "start_time": "2018-01-08T17:06:31.738362Z"
    }
   },
   "outputs": [
    {
     "data": {
      "text/plain": [
       "((6060, 50), (8671, 50))"
      ]
     },
     "execution_count": 47,
     "metadata": {},
     "output_type": "execute_result"
    }
   ],
   "source": [
    "train_w2v = np.dot(train_tf2.values, word2vec_arr)\n",
    "test_w2v = np.dot(test_tf2.values, word2vec_arr)\n",
    "\n",
    "train_w2v.shape, test_w2v.shape"
   ]
  },
  {
   "cell_type": "markdown",
   "metadata": {},
   "source": [
    "# 划分数据集"
   ]
  },
  {
   "cell_type": "code",
   "execution_count": 48,
   "metadata": {
    "ExecuteTime": {
     "end_time": "2018-01-08T17:06:31.926496Z",
     "start_time": "2018-01-08T17:06:31.908484Z"
    }
   },
   "outputs": [
    {
     "data": {
      "text/plain": [
       "((4242, 50), (1818, 50))"
      ]
     },
     "execution_count": 48,
     "metadata": {},
     "output_type": "execute_result"
    }
   ],
   "source": [
    "#划分比例\n",
    "splitRate = 0.3\n",
    "#划分的数目\n",
    "splitNum = int(train_w2v.shape[0]*splitRate) \n",
    "#得到 训练集 和验证集\n",
    "trainSet_w2v = train_w2v[:-splitNum]\n",
    "validateSet_w2v = train_w2v[-splitNum:]\n",
    "\n",
    "trainSet_w2v.shape, validateSet_w2v.shape"
   ]
  },
  {
   "cell_type": "code",
   "execution_count": 50,
   "metadata": {
    "ExecuteTime": {
     "end_time": "2018-01-08T17:08:29.537677Z",
     "start_time": "2018-01-08T17:08:27.596301Z"
    }
   },
   "outputs": [],
   "source": [
    "dirPath3 = dirPath2 #+\"\\\\without removing stopwords\"\n",
    "\n",
    "if not os.path.exists(dirPath3):\n",
    "    os.makedirs(dirPath3)\n",
    "\n",
    "np.savetxt(dirPath3 + '\\\\train.csv', trainSet_w2v, delimiter=\",\")\n",
    "np.savetxt(dirPath3 + '\\\\validate.csv', validateSet_w2v, delimiter=\",\")\n",
    "np.savetxt(dirPath3 + '\\\\test.csv', test_w2v, delimiter=\",\")"
   ]
  }
 ],
 "metadata": {
  "anaconda-cloud": {},
  "kernelspec": {
   "display_name": "Python [conda root]",
   "language": "python",
   "name": "conda-root-py"
  },
  "language_info": {
   "codemirror_mode": {
    "name": "ipython",
    "version": 3
   },
   "file_extension": ".py",
   "mimetype": "text/x-python",
   "name": "python",
   "nbconvert_exporter": "python",
   "pygments_lexer": "ipython3",
   "version": "3.5.2"
  },
  "toc": {
   "nav_menu": {},
   "number_sections": true,
   "sideBar": true,
   "skip_h1_title": false,
   "toc_cell": false,
   "toc_position": {
    "height": "840px",
    "left": "0px",
    "right": "1491px",
    "top": "107px",
    "width": "282px"
   },
   "toc_section_display": "block",
   "toc_window_display": false
  }
 },
 "nbformat": 4,
 "nbformat_minor": 2
}
