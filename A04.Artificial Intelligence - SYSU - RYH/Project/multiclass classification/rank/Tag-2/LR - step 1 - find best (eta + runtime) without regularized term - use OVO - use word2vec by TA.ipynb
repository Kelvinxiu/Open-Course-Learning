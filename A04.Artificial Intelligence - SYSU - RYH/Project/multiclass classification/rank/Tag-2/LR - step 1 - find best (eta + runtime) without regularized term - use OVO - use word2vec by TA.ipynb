{
 "cells": [
  {
   "cell_type": "code",
   "execution_count": 184,
   "metadata": {
    "ExecuteTime": {
     "end_time": "2018-01-08T19:36:31.979770Z",
     "start_time": "2018-01-08T19:36:30.827162Z"
    },
    "collapsed": true
   },
   "outputs": [],
   "source": [
    "from IPython.core.interactiveshell import InteractiveShell\n",
    "InteractiveShell.ast_node_interactivity = \"all\"\n",
    "\n",
    "from collections import Counter\n",
    "import numpy as np\n",
    "import matplotlib.pyplot as plt\n",
    "from functools import reduce\n",
    "import pdir as pr\n",
    "import pandas as pd\n",
    "import os\n",
    "from tqdm import tqdm, tnrange, tqdm_notebook\n",
    "\n",
    "DF = pd.DataFrame\n",
    "arr = np.array"
   ]
  },
  {
   "cell_type": "markdown",
   "metadata": {},
   "source": [
    "# 读取数据集"
   ]
  },
  {
   "cell_type": "code",
   "execution_count": 185,
   "metadata": {
    "ExecuteTime": {
     "end_time": "2018-01-08T19:36:46.645177Z",
     "start_time": "2018-01-08T19:36:32.100277Z"
    }
   },
   "outputs": [
    {
     "data": {
      "text/plain": [
       "((43766, 50), (18756, 50), (8671, 50))"
      ]
     },
     "execution_count": 185,
     "metadata": {},
     "output_type": "execute_result"
    },
    {
     "data": {
      "text/plain": [
       "((43766,), (18756,))"
      ]
     },
     "execution_count": 185,
     "metadata": {},
     "output_type": "execute_result"
    }
   ],
   "source": [
    "dirPath2 = \"E:\\\\Code\\\\_largeData\\\\Github--Open-Course-Learning--A04\\\\Project\\\\multiclass classification\\\\data preprocessed\\\\wordvec_6B_50d - TA version\" \n",
    "dirPath = \"E:\\\\Code\\\\_largeData\\\\Github--Open-Course-Learning--A04\\\\Project\\\\multiclass classification\\\\data preprocessed\\\\tf-idf\"\n",
    "# dirPath2 = dirPath2  +\"\\\\without removing stopwords\"\n",
    "\n",
    "trainSet = np.loadtxt(dirPath2 + '\\\\train.csv', delimiter=\",\")\n",
    "validateSet = np.loadtxt(dirPath2 + '\\\\validate.csv', delimiter=\",\")\n",
    "testSet = np.loadtxt(dirPath2 + '\\\\test.csv', delimiter=\",\")\n",
    "\n",
    "\n",
    "trainSetLabel = np.loadtxt(dirPath + '\\\\train_label.csv', delimiter=\",\")\n",
    "validateSetLabel = np.loadtxt(dirPath + '\\\\validate_label.csv', delimiter=\",\")\n",
    "\n",
    "trainSet.shape, validateSet.shape, testSet.shape\n",
    "\n",
    "trainSetLabel.shape, validateSetLabel.shape"
   ]
  },
  {
   "cell_type": "code",
   "execution_count": 186,
   "metadata": {
    "ExecuteTime": {
     "end_time": "2018-01-08T19:36:46.692213Z",
     "start_time": "2018-01-08T19:36:46.647659Z"
    }
   },
   "outputs": [
    {
     "data": {
      "text/plain": [
       "Counter({0.0: 13606, 1.0: 18255, 2.0: 11905})"
      ]
     },
     "execution_count": 186,
     "metadata": {},
     "output_type": "execute_result"
    },
    {
     "data": {
      "text/plain": [
       "Counter({0.0: 5692, 1.0: 7802, 2.0: 5262})"
      ]
     },
     "execution_count": 186,
     "metadata": {},
     "output_type": "execute_result"
    }
   ],
   "source": [
    "Counter(trainSetLabel)\n",
    "Counter(validateSetLabel)"
   ]
  },
  {
   "cell_type": "markdown",
   "metadata": {},
   "source": [
    "## 实现OVO\n",
    "\n",
    "由于有OVO和OVA两种方式可选，但是在三元分类上，OVO的效果从理论上应比OVA的好，因此直接选择OVO。\n",
    "\n",
    "两者需要跑的子模型是一样的。\n",
    "\n",
    "为适应LR的模型输入，需要把不同类别的标签转换为0和1."
   ]
  },
  {
   "cell_type": "code",
   "execution_count": 187,
   "metadata": {
    "ExecuteTime": {
     "end_time": "2018-01-08T19:36:46.840794Z",
     "start_time": "2018-01-08T19:36:46.695192Z"
    }
   },
   "outputs": [
    {
     "data": {
      "text/plain": [
       "{0: 0, 1: 1}"
      ]
     },
     "execution_count": 187,
     "metadata": {},
     "output_type": "execute_result"
    },
    {
     "data": {
      "text/plain": [
       "{0: 0, 2: 1}"
      ]
     },
     "execution_count": 187,
     "metadata": {},
     "output_type": "execute_result"
    },
    {
     "data": {
      "text/plain": [
       "{1: 0, 2: 1}"
      ]
     },
     "execution_count": 187,
     "metadata": {},
     "output_type": "execute_result"
    }
   ],
   "source": [
    "mp = {\"01\":{0:0, 1:1}, \"02\":{0:0, 2:1}, \"12\":{1:0, 2:1}}\n",
    "mp[\"01\"]\n",
    "mp[\"02\"]\n",
    "mp[\"12\"]"
   ]
  },
  {
   "cell_type": "markdown",
   "metadata": {
    "ExecuteTime": {
     "end_time": "2018-01-08T09:39:02.864311Z",
     "start_time": "2018-01-08T09:39:02.747153Z"
    }
   },
   "source": [
    "01"
   ]
  },
  {
   "cell_type": "code",
   "execution_count": 188,
   "metadata": {
    "ExecuteTime": {
     "end_time": "2018-01-08T19:36:47.238746Z",
     "start_time": "2018-01-08T19:36:46.848800Z"
    }
   },
   "outputs": [
    {
     "data": {
      "text/plain": [
       "((31861, 50), (31861,))"
      ]
     },
     "execution_count": 188,
     "metadata": {},
     "output_type": "execute_result"
    },
    {
     "data": {
      "text/plain": [
       "Counter({0.0: 13606, 1.0: 18255})"
      ]
     },
     "execution_count": 188,
     "metadata": {},
     "output_type": "execute_result"
    }
   ],
   "source": [
    "idx_01 = np.logical_or(trainSetLabel == 0, trainSetLabel == 1)\n",
    "trainSet_01 = trainSet[idx_01]\n",
    "trainSetLabel_01 = trainSetLabel[idx_01]\n",
    "\n",
    "trainSet_01.shape, trainSetLabel_01.shape\n",
    "\n",
    "np.place(trainSetLabel_01, trainSetLabel_01==0, 0)\n",
    "np.place(trainSetLabel_01, trainSetLabel_01==1, 1)\n",
    "Counter(trainSetLabel_01)"
   ]
  },
  {
   "cell_type": "markdown",
   "metadata": {},
   "source": [
    "02"
   ]
  },
  {
   "cell_type": "code",
   "execution_count": 189,
   "metadata": {
    "ExecuteTime": {
     "end_time": "2018-01-08T19:36:47.407621Z",
     "start_time": "2018-01-08T19:36:47.244250Z"
    }
   },
   "outputs": [
    {
     "data": {
      "text/plain": [
       "((25511, 50), (25511,))"
      ]
     },
     "execution_count": 189,
     "metadata": {},
     "output_type": "execute_result"
    },
    {
     "data": {
      "text/plain": [
       "Counter({0.0: 13606, 1.0: 11905})"
      ]
     },
     "execution_count": 189,
     "metadata": {},
     "output_type": "execute_result"
    }
   ],
   "source": [
    "idx_02 = np.logical_or(trainSetLabel == 0, trainSetLabel == 2)\n",
    "trainSet_02 = trainSet[idx_02]\n",
    "trainSetLabel_02 = trainSetLabel[idx_02]\n",
    "\n",
    "trainSet_02.shape, trainSetLabel_02.shape\n",
    "\n",
    "np.place(trainSetLabel_02, trainSetLabel_02==0, 0)\n",
    "np.place(trainSetLabel_02, trainSetLabel_02==2, 1)\n",
    "Counter(trainSetLabel_02)"
   ]
  },
  {
   "cell_type": "markdown",
   "metadata": {},
   "source": [
    "12"
   ]
  },
  {
   "cell_type": "code",
   "execution_count": 190,
   "metadata": {
    "ExecuteTime": {
     "end_time": "2018-01-08T19:36:47.735759Z",
     "start_time": "2018-01-08T19:36:47.412617Z"
    }
   },
   "outputs": [
    {
     "data": {
      "text/plain": [
       "((30160, 50), (30160,))"
      ]
     },
     "execution_count": 190,
     "metadata": {},
     "output_type": "execute_result"
    },
    {
     "data": {
      "text/plain": [
       "Counter({0.0: 18255, 1.0: 11905})"
      ]
     },
     "execution_count": 190,
     "metadata": {},
     "output_type": "execute_result"
    }
   ],
   "source": [
    "idx_12 = np.logical_or(trainSetLabel == 1, trainSetLabel == 2)\n",
    "trainSet_12 = trainSet[idx_12]\n",
    "trainSetLabel_12 = trainSetLabel[idx_12]\n",
    "\n",
    "trainSet_12.shape, trainSetLabel_12.shape\n",
    "\n",
    "np.place(trainSetLabel_12, trainSetLabel_12==1, 0)\n",
    "np.place(trainSetLabel_12, trainSetLabel_12==2, 1)\n",
    "Counter(trainSetLabel_12)"
   ]
  },
  {
   "cell_type": "markdown",
   "metadata": {},
   "source": [
    "# 逻辑回归"
   ]
  },
  {
   "cell_type": "code",
   "execution_count": 191,
   "metadata": {
    "ExecuteTime": {
     "end_time": "2018-01-08T19:36:48.816266Z",
     "start_time": "2018-01-08T19:36:47.738762Z"
    }
   },
   "outputs": [],
   "source": [
    "class LogisticRegression:\n",
    "    '''逻辑回归类实现'''\n",
    "    \n",
    "    def __addOne2Samples(self, dataSet):\n",
    "        '''给每一个样本前加一个常数1'''\n",
    "        ones = np.ones(len(dataSet))\n",
    "        return np.column_stack((ones, dataSet))\n",
    "    \n",
    "    def sigmoid(self, x):\n",
    "        '''sigmoid函数实现'''\n",
    "        return 1/(1+np.exp(-1*x))\n",
    "    \n",
    "    def fit(self, trainSet, label, eta=1e-3, maxRunTimes=100):\n",
    "        '''根据给定的训练集和标签训练PLA的参数 w '''\n",
    "        #设置默认的 w 全为1\n",
    "        self.w = np.mat(np.ones(trainSet.shape[1]+1)).reshape(-1,1)\n",
    "        #给训练集中每一个样本前加一个常数1，并转换为numpy矩阵\n",
    "        trainSet = np.mat(self.__addOne2Samples(trainSet))\n",
    "        #将标签转换为numpy矩阵，并将其设置为只有一列的数据的矩阵\n",
    "        label = np.mat(label).reshape(-1,1)\n",
    "        for i in range(maxRunTimes):\n",
    "            eta_reduced = eta/(1+i)+1e-7\n",
    "            #根据矩阵运算得到整个数据集每个维度梯度\n",
    "            gradient = trainSet.T*(self.sigmoid(trainSet*self.w) - label)\n",
    "            #更新 w\n",
    "            self.w -= eta_reduced*gradient\n",
    "        \n",
    "    def __apply(self, x):\n",
    "        '''利用训练好的 w 对输入的向量x进行分类'''\n",
    "        w = np.array(self.w)[:,0] #转换为numpy向量，方便后续计算\n",
    "        return 1 if self.sigmoid(np.dot(w, x)) > 0.5 else 0\n",
    "    \n",
    "    def apply(self, otherSet):\n",
    "        '''根据已训练出的 w 对其他数据集进行划分'''\n",
    "        otherSet = self.__addOne2Samples(otherSet)\n",
    "        outputLabel = np.zeros(otherSet.shape[0])\n",
    "        for index, sample in enumerate(otherSet):\n",
    "            outputLabel[index] = self.__apply(sample)\n",
    "        return outputLabel\n",
    "    \n",
    "    def getW(self):\n",
    "        return np.array(self.w)[:,0]"
   ]
  },
  {
   "cell_type": "markdown",
   "metadata": {},
   "source": [
    "# 计算平均准确率"
   ]
  },
  {
   "cell_type": "code",
   "execution_count": 192,
   "metadata": {
    "ExecuteTime": {
     "end_time": "2018-01-08T19:36:49.215758Z",
     "start_time": "2018-01-08T19:36:48.820769Z"
    }
   },
   "outputs": [
    {
     "data": {
      "text/plain": [
       "0.3333333333333333"
      ]
     },
     "execution_count": 192,
     "metadata": {},
     "output_type": "execute_result"
    }
   ],
   "source": [
    "def calcAvg(predict, actual):\n",
    "    all_labels = list(set(actual))\n",
    "    tot = 0.0\n",
    "    for i in all_labels:\n",
    "        counter = Counter(predict[actual == i] == i)\n",
    "        hit_num, miss_num = counter[True], counter[False]\n",
    "        tot += hit_num / (hit_num + miss_num)\n",
    "    return tot/len(all_labels)\n",
    "\n",
    "calcAvg(arr([1,2,3]), arr([3,2,1]))"
   ]
  },
  {
   "cell_type": "markdown",
   "metadata": {},
   "source": [
    "# 绘制图像"
   ]
  },
  {
   "cell_type": "code",
   "execution_count": 193,
   "metadata": {
    "ExecuteTime": {
     "end_time": "2018-01-08T19:36:49.394429Z",
     "start_time": "2018-01-08T19:36:49.218275Z"
    },
    "collapsed": true
   },
   "outputs": [],
   "source": [
    "def show_fig(testRange, avgs):\n",
    "    fig,ax = plt.subplots() \n",
    "    fig.set_size_inches(10, 4)\n",
    "    plt.plot(testRange, avgs, 'g')\n",
    "    plt.xlabel('eta')\n",
    "    plt.ylabel('avg(%)')\n",
    "    plt.title(\"avg versus eta with Logistic Regression\")\n",
    "    plt.show()\n",
    "    plt.close()"
   ]
  },
  {
   "cell_type": "markdown",
   "metadata": {},
   "source": [
    "# 调参\n",
    "\n",
    "暂调参数eta，暂定迭代次数为1000，不设置正则化项。"
   ]
  },
  {
   "cell_type": "code",
   "execution_count": 194,
   "metadata": {
    "ExecuteTime": {
     "end_time": "2018-01-08T19:36:50.563773Z",
     "start_time": "2018-01-08T19:36:49.396901Z"
    }
   },
   "outputs": [
    {
     "data": {
      "text/plain": [
       "array([[1, 1, 2, 1],\n",
       "       [1, 2, 0, 2],\n",
       "       [2, 0, 0, 2]])"
      ]
     },
     "execution_count": 194,
     "metadata": {},
     "output_type": "execute_result"
    },
    {
     "name": "stdout",
     "output_type": "stream",
     "text": [
      "[(1, 2), (2, 1)]\n",
      "1\n",
      "[(0, 1), (1, 1)]\n",
      "1\n",
      "[(0, 2), (2, 1)]\n",
      "0\n",
      "[(2, 2), (1, 1)]\n",
      "2\n"
     ]
    }
   ],
   "source": [
    "a = arr([1,1,2,1])\n",
    "b = arr([1,2,0,2])\n",
    "c = arr([2,0,0,2])\n",
    "\n",
    "d = np.vstack([a,b,c])\n",
    "d\n",
    "for i in range(d.shape[1]):\n",
    "    t = Counter(d[:, i]).most_common(2)\n",
    "    print(t)\n",
    "    if t[0][1] == t[1][1]:\n",
    "        print(1)\n",
    "    else:\n",
    "        print(t[0][0])"
   ]
  },
  {
   "cell_type": "code",
   "execution_count": 197,
   "metadata": {
    "ExecuteTime": {
     "end_time": "2018-01-08T19:55:27.970578Z",
     "start_time": "2018-01-08T19:41:26.376449Z"
    },
    "scrolled": false
   },
   "outputs": [
    {
     "data": {
      "text/plain": [
       "[0.1]"
      ]
     },
     "execution_count": 197,
     "metadata": {},
     "output_type": "execute_result"
    },
    {
     "data": {
      "text/plain": [
       "array([ 500,  550,  600,  650,  700,  750,  800,  850,  900,  950, 1000,\n",
       "       1050, 1100, 1150, 1200, 1250, 1300, 1350, 1400, 1450, 1500, 1550,\n",
       "       1600, 1650, 1700, 1750, 1800, 1850, 1900, 1950, 2000, 2050, 2100,\n",
       "       2150, 2200, 2250, 2300, 2350, 2400, 2450, 2500, 2550, 2600, 2650,\n",
       "       2700, 2750, 2800, 2850, 2900, 2950, 3000, 3050])"
      ]
     },
     "execution_count": 197,
     "metadata": {},
     "output_type": "execute_result"
    },
    {
     "name": "stdout",
     "output_type": "stream",
     "text": [
      "0.1 Counter({2.0: 9095, 0.0: 8854, 1.0: 807})\n",
      "avg :  0.4279858929499767 runtime :  500\n",
      "0.1 Counter({2.0: 9087, 0.0: 8785, 1.0: 884})\n",
      "avg :  0.42877883788382204 runtime :  550\n",
      "0.1 Counter({2.0: 9066, 0.0: 8696, 1.0: 994})\n",
      "avg :  0.427690493807857 runtime :  600\n",
      "0.1 Counter({2.0: 9048, 0.0: 8634, 1.0: 1074})\n",
      "avg :  0.4275328838724734 runtime :  650\n",
      "0.1 Counter({2.0: 9013, 0.0: 8580, 1.0: 1163})\n",
      "avg :  0.4271380683176143 runtime :  700\n",
      "0.1 Counter({2.0: 8979, 0.0: 8491, 1.0: 1286})\n",
      "avg :  0.42689943027818744 runtime :  750\n",
      "0.1 Counter({2.0: 8948, 0.0: 8391, 1.0: 1417})\n",
      "avg :  0.4257205001073605 runtime :  800\n",
      "0.1 Counter({2.0: 8952, 0.0: 8239, 1.0: 1565})\n",
      "avg :  0.4250026620081744 runtime :  850\n",
      "0.1 Counter({2.0: 8923, 0.0: 8070, 1.0: 1763})\n",
      "avg :  0.4251547843782481 runtime :  900\n",
      "0.1 Counter({2.0: 8899, 0.0: 7864, 1.0: 1993})\n",
      "avg :  0.42528627046589756 runtime :  950\n",
      "0.1 Counter({2.0: 8868, 0.0: 7594, 1.0: 2294})\n",
      "avg :  0.42429881070132963 runtime :  1000\n",
      "0.1 Counter({2.0: 8846, 0.0: 7194, 1.0: 2716})\n",
      "avg :  0.4228594382813702 runtime :  1050\n",
      "0.1 Counter({2.0: 8850, 0.0: 6705, 1.0: 3201})\n",
      "avg :  0.4206904190703022 runtime :  1100\n",
      "0.1 Counter({2.0: 8833, 0.0: 6309, 1.0: 3614})\n",
      "avg :  0.4167111570839735 runtime :  1150\n",
      "0.1 Counter({2.0: 8819, 0.0: 6161, 1.0: 3776})\n",
      "avg :  0.41718481117378525 runtime :  1200\n",
      "0.1 Counter({2.0: 8807, 0.0: 6118, 1.0: 3831})\n",
      "avg :  0.41691226026135414 runtime :  1250\n",
      "0.1 Counter({2.0: 8794, 0.0: 6094, 1.0: 3868})\n",
      "avg :  0.4166080439018893 runtime :  1300\n",
      "0.1 Counter({2.0: 8780, 0.0: 6071, 1.0: 3905})\n",
      "avg :  0.41649534707567937 runtime :  1350\n",
      "0.1 Counter({2.0: 8772, 0.0: 6042, 1.0: 3942})\n",
      "avg :  0.4165281345981318 runtime :  1400\n",
      "0.1 Counter({2.0: 8760, 0.0: 6030, 1.0: 3966})\n",
      "avg :  0.41744265580306034 runtime :  1450\n",
      "0.1 Counter({2.0: 8756, 0.0: 6018, 1.0: 3982})\n",
      "avg :  0.41784448795390006 runtime :  1500\n",
      "0.1 Counter({2.0: 8757, 0.0: 5988, 1.0: 4011})\n",
      "avg :  0.41756568032200275 runtime :  1550\n",
      "0.1 Counter({2.0: 8753, 0.0: 5960, 1.0: 4043})\n",
      "avg :  0.41672188190655884 runtime :  1600\n",
      "0.1 Counter({2.0: 8741, 0.0: 5957, 1.0: 4058})\n",
      "avg :  0.41689721143009223 runtime :  1650\n",
      "0.1 Counter({2.0: 8737, 0.0: 5918, 1.0: 4101})\n",
      "avg :  0.41663571588333514 runtime :  1700\n",
      "0.1 Counter({2.0: 8712, 0.0: 5880, 1.0: 4164})\n",
      "avg :  0.41621732824873664 runtime :  1750\n",
      "0.1 Counter({2.0: 8701, 0.0: 5838, 1.0: 4217})\n",
      "avg :  0.4160350176079286 runtime :  1800\n",
      "0.1 Counter({2.0: 8702, 0.0: 5808, 1.0: 4246})\n",
      "avg :  0.4157182714338661 runtime :  1850\n",
      "0.1 Counter({2.0: 8700, 0.0: 5782, 1.0: 4274})\n",
      "avg :  0.41525751863519794 runtime :  1900\n",
      "0.1 Counter({2.0: 8692, 0.0: 5758, 1.0: 4306})\n",
      "avg :  0.415186071447905 runtime :  1950\n",
      "0.1 Counter({2.0: 8683, 0.0: 5725, 1.0: 4348})\n",
      "avg :  0.4155547407768559 runtime :  2000\n",
      "0.1 Counter({2.0: 8678, 0.0: 5701, 1.0: 4377})\n",
      "avg :  0.41532048733036114 runtime :  2050\n",
      "0.1 Counter({2.0: 8677, 0.0: 5671, 1.0: 4408})\n",
      "avg :  0.41491350743494165 runtime :  2100\n",
      "0.1 Counter({2.0: 8666, 0.0: 5640, 1.0: 4450})\n",
      "avg :  0.4148531057879235 runtime :  2150\n",
      "0.1 Counter({2.0: 8658, 0.0: 5609, 1.0: 4489})\n",
      "avg :  0.414464915701701 runtime :  2200\n",
      "0.1 Counter({2.0: 8649, 0.0: 5577, 1.0: 4530})\n",
      "avg :  0.4146862705844277 runtime :  2250\n",
      "0.1 Counter({2.0: 8637, 0.0: 5537, 1.0: 4582})\n",
      "avg :  0.4146652852036316 runtime :  2300\n",
      "0.1 Counter({2.0: 8632, 0.0: 5503, 1.0: 4621})\n",
      "avg :  0.4143374869390281 runtime :  2350\n",
      "0.1 Counter({2.0: 8632, 0.0: 5474, 1.0: 4650})\n",
      "avg :  0.41437541565579417 runtime :  2400\n",
      "0.1 Counter({2.0: 8626, 0.0: 5438, 1.0: 4692})\n",
      "avg :  0.4142501890149865 runtime :  2450\n",
      "0.1 Counter({2.0: 8614, 0.0: 5405, 1.0: 4737})\n",
      "avg :  0.4144350830796048 runtime :  2500\n",
      "0.1 Counter({2.0: 8606, 0.0: 5365, 1.0: 4785})\n",
      "avg :  0.41508367884073877 runtime :  2550\n",
      "0.1 Counter({2.0: 8591, 0.0: 5333, 1.0: 4832})\n",
      "avg :  0.4156372553348402 runtime :  2600\n",
      "0.1 Counter({2.0: 8579, 0.0: 5290, 1.0: 4887})\n",
      "avg :  0.4155831169575544 runtime :  2650\n",
      "0.1 Counter({2.0: 8577, 0.0: 5244, 1.0: 4935})\n",
      "avg :  0.41484538989968395 runtime :  2700\n",
      "0.1 Counter({2.0: 8574, 0.0: 5216, 1.0: 4966})\n",
      "avg :  0.4153374492216145 runtime :  2750\n",
      "0.1 Counter({2.0: 8558, 0.0: 5198, 1.0: 5000})\n",
      "avg :  0.4152184891256723 runtime :  2800\n",
      "0.1 Counter({2.0: 8554, 0.0: 5162, 1.0: 5040})\n",
      "avg :  0.41589249688950664 runtime :  2850\n",
      "0.1 Counter({2.0: 8551, 0.0: 5121, 1.0: 5084})\n",
      "avg :  0.41622949422115774 runtime :  2900\n",
      "0.1 Counter({2.0: 8546, 1.0: 5121, 0.0: 5089})\n",
      "avg :  0.4164652090160441 runtime :  2950\n",
      "0.1 Counter({2.0: 8543, 1.0: 5157, 0.0: 5056})\n",
      "avg :  0.41609468666359994 runtime :  3000\n",
      "0.1 Counter({2.0: 8537, 1.0: 5199, 0.0: 5020})\n",
      "avg :  0.41616724282577944 runtime :  3050\n",
      "\n"
     ]
    },
    {
     "data": {
      "text/plain": [
       "(550, 0.42877883788382204)"
      ]
     },
     "execution_count": 197,
     "metadata": {},
     "output_type": "execute_result"
    },
    {
     "data": {
      "image/png": "[encoded data removed]",
      "text/plain": [
       "<matplotlib.figure.Figure at 0x162577f4d30>"
      ]
     },
     "metadata": {},
     "output_type": "display_data"
    }
   ],
   "source": [
    "def runLR(dataSet, eta, runtime=1000):\n",
    "    LR_01, LR_02, LR_12 = LogisticRegression(), LogisticRegression(), LogisticRegression()\n",
    "    \n",
    "    LR_01.fit(trainSet_01, trainSetLabel_01, eta=eta, maxRunTimes=runtime)\n",
    "    LR_02.fit(trainSet_02, trainSetLabel_02, eta=eta, maxRunTimes=runtime)\n",
    "    LR_12.fit(trainSet_12, trainSetLabel_12, eta=eta, maxRunTimes=runtime)\n",
    "    \n",
    "    ansLabel_01 = LR_01.apply(dataSet)\n",
    "#     np.place(ansLabel_01, ansLabel_01==0, 0)\n",
    "#     np.place(ansLabel_01, ansLabel_01==1, 1)\n",
    "    \n",
    "    ansLabel_02 = LR_02.apply(dataSet)\n",
    "    np.place(ansLabel_02, ansLabel_02==0, 0)\n",
    "    np.place(ansLabel_02, ansLabel_02==1, 2)\n",
    "    \n",
    "    ansLabel_12 = LR_12.apply(dataSet)\n",
    "    np.place(ansLabel_12, ansLabel_12==0, 1)\n",
    "    np.place(ansLabel_12, ansLabel_12==1, 2)    \n",
    "    \n",
    "    labels = np.vstack([ansLabel_01, ansLabel_02, ansLabel_12])\n",
    "    ansLabel = np.zeros(labels.shape[1])\n",
    "    \n",
    "    for i in tnrange(labels.shape[1], leave=False):\n",
    "        t = Counter(labels[:, i]).most_common(2)\n",
    "        #print(t)\n",
    "        if t[0][1] == t[1][1]:\n",
    "            ansLabel[i] = 1 #默认选择MID\n",
    "        else:\n",
    "            ansLabel[i] =  t[0][0]\n",
    "    \n",
    "    print(eta, Counter(ansLabel))\n",
    "    \n",
    "    return ansLabel\n",
    "    \n",
    "\n",
    "def getTestAvg(eta, runtime):\n",
    "    ansLabel = runLR(validateSet, eta, runtime)\n",
    "    avg = calcAvg(ansLabel, validateSetLabel)\n",
    "    print(\"avg : \", avg, \"runtime : \", runtime)\n",
    "    return avg\n",
    "    \n",
    "# etaTestRange = [0.0005, 0.0010, 0.0050, 0.0100, 0.0500, 0.1000, 0.5000, 1, 5]\n",
    "# etaTestRange = np.arange(5,6.1,0.1)\n",
    "# etaTestRange = np.arange(0.01 ,0.11, 0.01)\n",
    "# etaTestRange = np.arange(0.045 ,0.055, 0.001)\n",
    "etaTestRange = [0.1]\n",
    "etaTestRange \n",
    "\n",
    "runtimeTestRange = np.arange(500, 3100, 50)\n",
    "# runtimeTestRange = np.arange(900, 1100, 25)\n",
    "# runtimeTestRange = np.arange(1000, 1200, 10)\n",
    "# runtimeTestRange = [1000]\n",
    "runtimeTestRange\n",
    "\n",
    "avgs = []\n",
    "for i in tnrange(len(runtimeTestRange)):\n",
    "    avgs.append(getTestAvg(etaTestRange[0], runtimeTestRange[i]))\n",
    "    \n",
    "# bestEta = etaTestRange[np.argmax(avgs)]\n",
    "# bestEta, np.max(avgs) \n",
    "\n",
    "bestRuntime = runtimeTestRange[np.argmax(avgs)]\n",
    "bestRuntime, np.max(avgs) \n",
    "\n",
    "show_fig(runtimeTestRange, avgs)"
   ]
  },
  {
   "cell_type": "code",
   "execution_count": 198,
   "metadata": {
    "ExecuteTime": {
     "end_time": "2018-01-08T20:30:19.457294Z",
     "start_time": "2018-01-08T20:30:13.340988Z"
    }
   },
   "outputs": [
    {
     "name": "stdout",
     "output_type": "stream",
     "text": [
      "0.1 Counter({2.0: 4154, 0.0: 4108, 1.0: 409})\n"
     ]
    },
    {
     "data": {
      "text/plain": [
       "Counter({0.0: 4108, 1.0: 409, 2.0: 4154})"
      ]
     },
     "execution_count": 198,
     "metadata": {},
     "output_type": "execute_result"
    }
   ],
   "source": [
    "ansLabel = runLR(testSet, 0.1, 550)\n",
    "Counter(ansLabel)"
   ]
  },
  {
   "cell_type": "code",
   "execution_count": 199,
   "metadata": {
    "ExecuteTime": {
     "end_time": "2018-01-08T20:30:33.725740Z",
     "start_time": "2018-01-08T20:30:33.676205Z"
    }
   },
   "outputs": [],
   "source": [
    "ans = DF(ansLabel).replace(0, \"LOW\").replace(1, \"MID\").replace(2, \"HIG\")\n",
    "ans.to_csv('.\\\\rank\\\\47_v6.csv', index=False, header=False)"
   ]
  }
 ],
 "metadata": {
  "anaconda-cloud": {},
  "kernelspec": {
   "display_name": "Python [conda root]",
   "language": "python",
   "name": "conda-root-py"
  },
  "language_info": {
   "codemirror_mode": {
    "name": "ipython",
    "version": 3
   },
   "file_extension": ".py",
   "mimetype": "text/x-python",
   "name": "python",
   "nbconvert_exporter": "python",
   "pygments_lexer": "ipython3",
   "version": "3.5.2"
  },
  "toc": {
   "nav_menu": {},
   "number_sections": true,
   "sideBar": true,
   "skip_h1_title": false,
   "toc_cell": false,
   "toc_position": {},
   "toc_section_display": "block",
   "toc_window_display": false
  },
  "widgets": {
   "state": {
    "74c2f5f52b66431da3a0c5b8744655ac": {
     "views": [
      {
       "cell_index": 20
      }
     ]
    },
    "9bba24b67723444d9530939d3835f36c": {
     "views": [
      {
       "cell_index": 20
      }
     ]
    },
    "ab559d522df245cfbc3aa2ea0af750cf": {
     "views": [
      {
       "cell_index": 20
      }
     ]
    },
    "dbcdc2c3b8d94fb2b10fc0c566fe1e93": {
     "views": [
      {
       "cell_index": 20
      }
     ]
    }
   },
   "version": "1.2.0"
  }
 },
 "nbformat": 4,
 "nbformat_minor": 2
}
