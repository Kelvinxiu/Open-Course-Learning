{
 "cells": [
  {
   "cell_type": "code",
   "execution_count": 156,
   "metadata": {
    "ExecuteTime": {
     "end_time": "2018-01-08T16:55:51.997214Z",
     "start_time": "2018-01-08T16:55:51.988212Z"
    },
    "collapsed": true
   },
   "outputs": [],
   "source": [
    "from IPython.core.interactiveshell import InteractiveShell\n",
    "InteractiveShell.ast_node_interactivity = \"all\"\n",
    "\n",
    "from collections import Counter\n",
    "import numpy as np\n",
    "import matplotlib.pyplot as plt\n",
    "from functools import reduce\n",
    "import pdir as pr\n",
    "import pandas as pd\n",
    "import os\n",
    "from tqdm import tqdm, tnrange, tqdm_notebook\n",
    "\n",
    "DF = pd.DataFrame\n",
    "arr = np.array"
   ]
  },
  {
   "cell_type": "markdown",
   "metadata": {},
   "source": [
    "# 读取数据集"
   ]
  },
  {
   "cell_type": "code",
   "execution_count": 157,
   "metadata": {
    "ExecuteTime": {
     "end_time": "2018-01-08T16:56:01.875241Z",
     "start_time": "2018-01-08T16:55:52.000216Z"
    }
   },
   "outputs": [
    {
     "data": {
      "text/plain": [
       "((43766, 50), (18756, 50), (8671, 50))"
      ]
     },
     "execution_count": 157,
     "metadata": {},
     "output_type": "execute_result"
    },
    {
     "data": {
      "text/plain": [
       "((43766,), (18756,))"
      ]
     },
     "execution_count": 157,
     "metadata": {},
     "output_type": "execute_result"
    }
   ],
   "source": [
    "dirPath2 = \"E:\\\\Code\\\\_largeData\\\\Github--Open-Course-Learning--A04\\\\Project\\\\multiclass classification\\\\data preprocessed\\\\wordvec_6B_50d - TA version\" \n",
    "dirPath = \"E:\\\\Code\\\\_largeData\\\\Github--Open-Course-Learning--A04\\\\Project\\\\multiclass classification\\\\data preprocessed\\\\tf-idf\"\n",
    "dirPath2 = dirPath2  +\"\\\\without removing stopwords\"\n",
    "\n",
    "trainSet = np.loadtxt(dirPath2 + '\\\\train.csv', delimiter=\",\")\n",
    "validateSet = np.loadtxt(dirPath2 + '\\\\validate.csv', delimiter=\",\")\n",
    "testSet = np.loadtxt(dirPath2 + '\\\\test.csv', delimiter=\",\")\n",
    "\n",
    "\n",
    "trainSetLabel = np.loadtxt(dirPath + '\\\\train_label.csv', delimiter=\",\")\n",
    "validateSetLabel = np.loadtxt(dirPath + '\\\\validate_label.csv', delimiter=\",\")\n",
    "\n",
    "trainSet.shape, validateSet.shape, testSet.shape\n",
    "trainSetLabel.shape, validateSetLabel.shape"
   ]
  },
  {
   "cell_type": "code",
   "execution_count": 158,
   "metadata": {
    "ExecuteTime": {
     "end_time": "2018-01-08T16:56:01.911267Z",
     "start_time": "2018-01-08T16:56:01.878243Z"
    }
   },
   "outputs": [
    {
     "data": {
      "text/plain": [
       "Counter({0.0: 13606, 1.0: 18255, 2.0: 11905})"
      ]
     },
     "execution_count": 158,
     "metadata": {},
     "output_type": "execute_result"
    },
    {
     "data": {
      "text/plain": [
       "Counter({0.0: 5692, 1.0: 7802, 2.0: 5262})"
      ]
     },
     "execution_count": 158,
     "metadata": {},
     "output_type": "execute_result"
    }
   ],
   "source": [
    "Counter(trainSetLabel)\n",
    "Counter(validateSetLabel)"
   ]
  },
  {
   "cell_type": "markdown",
   "metadata": {},
   "source": [
    "## 实现OVO\n",
    "\n",
    "由于有OVO和OVA两种方式可选，但是在三元分类上，OVO的效果从理论上应比OVA的好，因此直接选择OVO。\n",
    "\n",
    "两者需要跑的子模型是一样的。\n",
    "\n",
    "为适应LR的模型输入，需要把不同类别的标签转换为0和1."
   ]
  },
  {
   "cell_type": "code",
   "execution_count": 159,
   "metadata": {
    "ExecuteTime": {
     "end_time": "2018-01-08T16:56:02.062373Z",
     "start_time": "2018-01-08T16:56:01.915269Z"
    }
   },
   "outputs": [
    {
     "data": {
      "text/plain": [
       "{0: 0, 1: 1}"
      ]
     },
     "execution_count": 159,
     "metadata": {},
     "output_type": "execute_result"
    },
    {
     "data": {
      "text/plain": [
       "{0: 0, 2: 1}"
      ]
     },
     "execution_count": 159,
     "metadata": {},
     "output_type": "execute_result"
    },
    {
     "data": {
      "text/plain": [
       "{1: 0, 2: 1}"
      ]
     },
     "execution_count": 159,
     "metadata": {},
     "output_type": "execute_result"
    }
   ],
   "source": [
    "mp = {\"01\":{0:0, 1:1}, \"02\":{0:0, 2:1}, \"12\":{1:0, 2:1}}\n",
    "mp[\"01\"]\n",
    "mp[\"02\"]\n",
    "mp[\"12\"]"
   ]
  },
  {
   "cell_type": "markdown",
   "metadata": {
    "ExecuteTime": {
     "end_time": "2018-01-08T09:39:02.864311Z",
     "start_time": "2018-01-08T09:39:02.747153Z"
    }
   },
   "source": [
    "01"
   ]
  },
  {
   "cell_type": "code",
   "execution_count": 160,
   "metadata": {
    "ExecuteTime": {
     "end_time": "2018-01-08T16:56:02.304563Z",
     "start_time": "2018-01-08T16:56:02.105406Z"
    }
   },
   "outputs": [
    {
     "data": {
      "text/plain": [
       "((31861, 50), (31861,))"
      ]
     },
     "execution_count": 160,
     "metadata": {},
     "output_type": "execute_result"
    },
    {
     "data": {
      "text/plain": [
       "Counter({0.0: 13606, 1.0: 18255})"
      ]
     },
     "execution_count": 160,
     "metadata": {},
     "output_type": "execute_result"
    }
   ],
   "source": [
    "idx_01 = np.logical_or(trainSetLabel == 0, trainSetLabel == 1)\n",
    "trainSet_01 = trainSet[idx_01]\n",
    "trainSetLabel_01 = trainSetLabel[idx_01]\n",
    "\n",
    "trainSet_01.shape, trainSetLabel_01.shape\n",
    "\n",
    "np.place(trainSetLabel_01, trainSetLabel_01==0, 0)\n",
    "np.place(trainSetLabel_01, trainSetLabel_01==1, 1)\n",
    "Counter(trainSetLabel_01)"
   ]
  },
  {
   "cell_type": "markdown",
   "metadata": {},
   "source": [
    "02"
   ]
  },
  {
   "cell_type": "code",
   "execution_count": 161,
   "metadata": {
    "ExecuteTime": {
     "end_time": "2018-01-08T16:56:02.468661Z",
     "start_time": "2018-01-08T16:56:02.306546Z"
    }
   },
   "outputs": [
    {
     "data": {
      "text/plain": [
       "((25511, 50), (25511,))"
      ]
     },
     "execution_count": 161,
     "metadata": {},
     "output_type": "execute_result"
    },
    {
     "data": {
      "text/plain": [
       "Counter({0.0: 13606, 1.0: 11905})"
      ]
     },
     "execution_count": 161,
     "metadata": {},
     "output_type": "execute_result"
    }
   ],
   "source": [
    "idx_02 = np.logical_or(trainSetLabel == 0, trainSetLabel == 2)\n",
    "trainSet_02 = trainSet[idx_02]\n",
    "trainSetLabel_02 = trainSetLabel[idx_02]\n",
    "\n",
    "trainSet_02.shape, trainSetLabel_02.shape\n",
    "\n",
    "np.place(trainSetLabel_02, trainSetLabel_02==0, 0)\n",
    "np.place(trainSetLabel_02, trainSetLabel_02==2, 1)\n",
    "Counter(trainSetLabel_02)"
   ]
  },
  {
   "cell_type": "markdown",
   "metadata": {},
   "source": [
    "12"
   ]
  },
  {
   "cell_type": "code",
   "execution_count": 162,
   "metadata": {
    "ExecuteTime": {
     "end_time": "2018-01-08T16:56:02.623772Z",
     "start_time": "2018-01-08T16:56:02.470662Z"
    }
   },
   "outputs": [
    {
     "data": {
      "text/plain": [
       "((30160, 50), (30160,))"
      ]
     },
     "execution_count": 162,
     "metadata": {},
     "output_type": "execute_result"
    },
    {
     "data": {
      "text/plain": [
       "Counter({0.0: 18255, 1.0: 11905})"
      ]
     },
     "execution_count": 162,
     "metadata": {},
     "output_type": "execute_result"
    }
   ],
   "source": [
    "idx_12 = np.logical_or(trainSetLabel == 1, trainSetLabel == 2)\n",
    "trainSet_12 = trainSet[idx_12]\n",
    "trainSetLabel_12 = trainSetLabel[idx_12]\n",
    "\n",
    "trainSet_12.shape, trainSetLabel_12.shape\n",
    "\n",
    "np.place(trainSetLabel_12, trainSetLabel_12==1, 0)\n",
    "np.place(trainSetLabel_12, trainSetLabel_12==2, 1)\n",
    "Counter(trainSetLabel_12)"
   ]
  },
  {
   "cell_type": "markdown",
   "metadata": {},
   "source": [
    "# 逻辑回归"
   ]
  },
  {
   "cell_type": "code",
   "execution_count": 163,
   "metadata": {
    "ExecuteTime": {
     "end_time": "2018-01-08T16:56:02.717837Z",
     "start_time": "2018-01-08T16:56:02.635779Z"
    }
   },
   "outputs": [],
   "source": [
    "class LogisticRegression:\n",
    "    '''逻辑回归类实现'''\n",
    "    \n",
    "    def __addOne2Samples(self, dataSet):\n",
    "        '''给每一个样本前加一个常数1'''\n",
    "        ones = np.ones(len(dataSet))\n",
    "        return np.column_stack((ones, dataSet))\n",
    "    \n",
    "    def sigmoid(self, x):\n",
    "        '''sigmoid函数实现'''\n",
    "        return 1/(1+np.exp(-1*x))\n",
    "    \n",
    "    def fit(self, trainSet, label, eta=1e-3, maxRunTimes=100):\n",
    "        '''根据给定的训练集和标签训练PLA的参数 w '''\n",
    "        #设置默认的 w 全为1\n",
    "        self.w = np.mat(np.ones(trainSet.shape[1]+1)).reshape(-1,1)\n",
    "        #给训练集中每一个样本前加一个常数1，并转换为numpy矩阵\n",
    "        trainSet = np.mat(self.__addOne2Samples(trainSet))\n",
    "        #将标签转换为numpy矩阵，并将其设置为只有一列的数据的矩阵\n",
    "        label = np.mat(label).reshape(-1,1)\n",
    "        for i in range(maxRunTimes):\n",
    "            eta_reduced = eta/(1+i)+1e-7\n",
    "            #根据矩阵运算得到整个数据集每个维度梯度\n",
    "            gradient = trainSet.T*(self.sigmoid(trainSet*self.w) - label)\n",
    "            #更新 w\n",
    "            self.w -= eta_reduced*gradient\n",
    "        \n",
    "    def __apply(self, x):\n",
    "        '''利用训练好的 w 对输入的向量x进行分类'''\n",
    "        w = np.array(self.w)[:,0] #转换为numpy向量，方便后续计算\n",
    "        return 1 if self.sigmoid(np.dot(w, x)) > 0.5 else 0\n",
    "    \n",
    "    def apply(self, otherSet):\n",
    "        '''根据已训练出的 w 对其他数据集进行划分'''\n",
    "        otherSet = self.__addOne2Samples(otherSet)\n",
    "        outputLabel = np.zeros(otherSet.shape[0])\n",
    "        for index, sample in enumerate(otherSet):\n",
    "            outputLabel[index] = self.__apply(sample)\n",
    "        return outputLabel\n",
    "    \n",
    "    def getW(self):\n",
    "        return np.array(self.w)[:,0]"
   ]
  },
  {
   "cell_type": "markdown",
   "metadata": {},
   "source": [
    "# 计算平均准确率"
   ]
  },
  {
   "cell_type": "code",
   "execution_count": 164,
   "metadata": {
    "ExecuteTime": {
     "end_time": "2018-01-08T16:56:02.811904Z",
     "start_time": "2018-01-08T16:56:02.719839Z"
    }
   },
   "outputs": [
    {
     "data": {
      "text/plain": [
       "0.3333333333333333"
      ]
     },
     "execution_count": 164,
     "metadata": {},
     "output_type": "execute_result"
    }
   ],
   "source": [
    "def calcAvg(predict, actual):\n",
    "    all_labels = list(set(actual))\n",
    "    tot = 0.0\n",
    "    for i in all_labels:\n",
    "        counter = Counter(predict[actual == i] == i)\n",
    "        hit_num, miss_num = counter[True], counter[False]\n",
    "        tot += hit_num / (hit_num + miss_num)\n",
    "    return tot/len(all_labels)\n",
    "\n",
    "calcAvg(arr([1,2,3]), arr([3,2,1]))"
   ]
  },
  {
   "cell_type": "markdown",
   "metadata": {},
   "source": [
    "# 绘制图像"
   ]
  },
  {
   "cell_type": "code",
   "execution_count": 165,
   "metadata": {
    "ExecuteTime": {
     "end_time": "2018-01-08T16:56:02.885965Z",
     "start_time": "2018-01-08T16:56:02.816908Z"
    },
    "collapsed": true
   },
   "outputs": [],
   "source": [
    "def show_fig(testRange, avgs):\n",
    "    fig,ax = plt.subplots() \n",
    "    fig.set_size_inches(10, 4)\n",
    "    plt.plot(testRange, avgs, 'g')\n",
    "    plt.xlabel('eta')\n",
    "    plt.ylabel('avg(%)')\n",
    "    plt.title(\"avg versus eta with Logistic Regression\")\n",
    "    plt.show()\n",
    "    plt.close()"
   ]
  },
  {
   "cell_type": "markdown",
   "metadata": {},
   "source": [
    "# 调参\n",
    "\n",
    "暂调参数eta，暂定迭代次数为1000，不设置正则化项。"
   ]
  },
  {
   "cell_type": "code",
   "execution_count": 166,
   "metadata": {
    "ExecuteTime": {
     "end_time": "2018-01-08T16:56:03.045076Z",
     "start_time": "2018-01-08T16:56:02.888958Z"
    }
   },
   "outputs": [
    {
     "data": {
      "text/plain": [
       "array([[1, 1, 2, 1],\n",
       "       [1, 2, 0, 2],\n",
       "       [2, 0, 0, 2]])"
      ]
     },
     "execution_count": 166,
     "metadata": {},
     "output_type": "execute_result"
    },
    {
     "name": "stdout",
     "output_type": "stream",
     "text": [
      "[(1, 2), (2, 1)]\n",
      "1\n",
      "[(0, 1), (1, 1)]\n",
      "1\n",
      "[(0, 2), (2, 1)]\n",
      "0\n",
      "[(2, 2), (1, 1)]\n",
      "2\n"
     ]
    }
   ],
   "source": [
    "a = arr([1,1,2,1])\n",
    "b = arr([1,2,0,2])\n",
    "c = arr([2,0,0,2])\n",
    "\n",
    "d = np.vstack([a,b,c])\n",
    "d\n",
    "for i in range(d.shape[1]):\n",
    "    t = Counter(d[:, i]).most_common(2)\n",
    "    print(t)\n",
    "    if t[0][1] == t[1][1]:\n",
    "        print(1)\n",
    "    else:\n",
    "        print(t[0][0])"
   ]
  },
  {
   "cell_type": "code",
   "execution_count": 175,
   "metadata": {
    "ExecuteTime": {
     "end_time": "2018-01-08T17:20:47.386312Z",
     "start_time": "2018-01-08T17:07:30.320742Z"
    },
    "scrolled": false
   },
   "outputs": [
    {
     "data": {
      "text/plain": [
       "[5.1]"
      ]
     },
     "execution_count": 175,
     "metadata": {},
     "output_type": "execute_result"
    },
    {
     "data": {
      "text/plain": [
       "array([ 500,  550,  600,  650,  700,  750,  800,  850,  900,  950, 1000,\n",
       "       1050, 1100, 1150, 1200, 1250, 1300, 1350, 1400, 1450, 1500, 1550,\n",
       "       1600, 1650, 1700, 1750, 1800, 1850, 1900, 1950, 2000, 2050, 2100,\n",
       "       2150, 2200, 2250, 2300, 2350, 2400, 2450, 2500, 2550, 2600, 2650,\n",
       "       2700, 2750, 2800, 2850, 2900, 2950, 3000, 3050])"
      ]
     },
     "execution_count": 175,
     "metadata": {},
     "output_type": "execute_result"
    },
    {
     "name": "stdout",
     "output_type": "stream",
     "text": [
      "5.1 Counter({2.0: 9434, 1.0: 6622, 0.0: 2700})\n",
      "avg :  0.3958612088594484 runtime :  500\n",
      "5.1 Counter({2.0: 9441, 1.0: 6100, 0.0: 3215})\n",
      "avg :  0.4005737876574085 runtime :  550\n",
      "5.1 Counter({2.0: 9479, 1.0: 5504, 0.0: 3773})\n",
      "avg :  0.40498618559046395 runtime :  600\n",
      "5.1 Counter({2.0: 9507, 1.0: 4752, 0.0: 4497})\n",
      "avg :  0.4113852784454897 runtime :  650\n",
      "5.1 Counter({2.0: 9494, 0.0: 5260, 1.0: 4002})\n",
      "avg :  0.4160334501258263 runtime :  700\n",
      "5.1 Counter({2.0: 9488, 0.0: 5685, 1.0: 3583})\n",
      "avg :  0.4195423980475352 runtime :  750\n",
      "5.1 Counter({2.0: 9487, 0.0: 5864, 1.0: 3405})\n",
      "avg :  0.4209438412029711 runtime :  800\n",
      "5.1 Counter({2.0: 9474, 0.0: 6321, 1.0: 2961})\n",
      "avg :  0.42256777496484227 runtime :  850\n",
      "5.1 Counter({2.0: 9467, 0.0: 6816, 1.0: 2473})\n",
      "avg :  0.42524948650513195 runtime :  900\n",
      "5.1 Counter({2.0: 9449, 0.0: 6966, 1.0: 2341})\n",
      "avg :  0.42530991762834763 runtime :  950\n",
      "5.1 Counter({2.0: 9423, 0.0: 7002, 1.0: 2331})\n",
      "avg :  0.42570218523810244 runtime :  1000\n",
      "5.1 Counter({2.0: 9415, 0.0: 7012, 1.0: 2329})\n",
      "avg :  0.4257909412354026 runtime :  1050\n",
      "5.1 Counter({2.0: 9411, 0.0: 7009, 1.0: 2336})\n",
      "avg :  0.42662185091247756 runtime :  1100\n",
      "5.1 Counter({2.0: 9408, 0.0: 7000, 1.0: 2348})\n",
      "avg :  0.42639091183786765 runtime :  1150\n",
      "5.1 Counter({2.0: 9408, 0.0: 6988, 1.0: 2360})\n",
      "avg :  0.42625168093353843 runtime :  1200\n",
      "5.1 Counter({2.0: 9408, 0.0: 6982, 1.0: 2366})\n",
      "avg :  0.42644946373652565 runtime :  1250\n",
      "5.1 Counter({2.0: 9395, 0.0: 6973, 1.0: 2388})\n",
      "avg :  0.4266962338970859 runtime :  1300\n",
      "5.1 Counter({2.0: 9381, 0.0: 6965, 1.0: 2410})\n",
      "avg :  0.4273245686752321 runtime :  1350\n",
      "5.1 Counter({2.0: 9374, 0.0: 6959, 1.0: 2423})\n",
      "avg :  0.42752234820308627 runtime :  1400\n",
      "5.1 Counter({2.0: 9372, 0.0: 6947, 1.0: 2437})\n",
      "avg :  0.42695552732197783 runtime :  1450\n",
      "5.1 Counter({2.0: 9367, 0.0: 6945, 1.0: 2444})\n",
      "avg :  0.4273035832944359 runtime :  1500\n",
      "5.1 Counter({2.0: 9362, 0.0: 6950, 1.0: 2444})\n",
      "avg :  0.42750284709661296 runtime :  1550\n",
      "5.1 Counter({2.0: 9351, 0.0: 6958, 1.0: 2447})\n",
      "avg :  0.4269456038571217 runtime :  1600\n",
      "5.1 Counter({2.0: 9353, 0.0: 6950, 1.0: 2453})\n",
      "avg :  0.4266892560549443 runtime :  1650\n",
      "5.1 Counter({2.0: 9348, 0.0: 6952, 1.0: 2456})\n",
      "avg :  0.42696770476307044 runtime :  1700\n",
      "5.1 Counter({2.0: 9346, 0.0: 6944, 1.0: 2466})\n",
      "avg :  0.42680159068225004 runtime :  1750\n",
      "5.1 Counter({2.0: 9341, 0.0: 6943, 1.0: 2472})\n",
      "avg :  0.4260322014524789 runtime :  1800\n",
      "5.1 Counter({2.0: 9340, 0.0: 6930, 1.0: 2486})\n",
      "avg :  0.42601009399626405 runtime :  1850\n",
      "5.1 Counter({2.0: 9344, 0.0: 6912, 1.0: 2500})\n",
      "avg :  0.42540054247704884 runtime :  1900\n",
      "5.1 Counter({2.0: 9344, 0.0: 6904, 1.0: 2508})\n",
      "avg :  0.42497920921973575 runtime :  1950\n",
      "5.1 Counter({2.0: 9340, 0.0: 6898, 1.0: 2518})\n",
      "avg :  0.424725816865672 runtime :  2000\n",
      "5.1 Counter({2.0: 9345, 0.0: 6871, 1.0: 2540})\n",
      "avg :  0.4243869730607938 runtime :  2050\n",
      "5.1 Counter({2.0: 9349, 0.0: 5045, 1.0: 4362})\n",
      "avg :  0.41668099804408687 runtime :  2100\n",
      "5.1 Counter({2.0: 9352, 0.0: 4773, 1.0: 4631})\n",
      "avg :  0.4153314714932732 runtime :  2150\n",
      "5.1 Counter({2.0: 9355, 1.0: 4821, 0.0: 4580})\n",
      "avg :  0.4142025661497361 runtime :  2200\n",
      "5.1 Counter({2.0: 9357, 1.0: 5004, 0.0: 4395})\n",
      "avg :  0.4123672631975224 runtime :  2250\n",
      "5.1 Counter({2.0: 9355, 1.0: 5203, 0.0: 4198})\n",
      "avg :  0.4118913933375558 runtime :  2300\n",
      "5.1 Counter({2.0: 9353, 1.0: 5397, 0.0: 4006})\n",
      "avg :  0.4095688035085548 runtime :  2350\n",
      "5.1 Counter({2.0: 9351, 1.0: 5560, 0.0: 3845})\n",
      "avg :  0.4092008514793887 runtime :  2400\n",
      "5.1 Counter({2.0: 9339, 1.0: 5704, 0.0: 3713})\n",
      "avg :  0.4076616780696117 runtime :  2450\n",
      "5.1 Counter({2.0: 9338, 1.0: 5830, 0.0: 3588})\n",
      "avg :  0.4060974450306392 runtime :  2500\n",
      "5.1 Counter({2.0: 9344, 1.0: 5931, 0.0: 3481})\n",
      "avg :  0.40474240908409903 runtime :  2550\n",
      "5.1 Counter({2.0: 9349, 1.0: 6054, 0.0: 3353})\n",
      "avg :  0.40342677957838174 runtime :  2600\n",
      "5.1 Counter({2.0: 9342, 1.0: 6177, 0.0: 3237})\n",
      "avg :  0.40285330702757244 runtime :  2650\n",
      "5.1 Counter({2.0: 9341, 1.0: 6248, 0.0: 3167})\n",
      "avg :  0.4026676787397465 runtime :  2700\n",
      "5.1 Counter({2.0: 9339, 1.0: 6348, 0.0: 3069})\n",
      "avg :  0.40143603278618606 runtime :  2750\n",
      "5.1 Counter({2.0: 9334, 1.0: 6447, 0.0: 2975})\n",
      "avg :  0.3999749287572056 runtime :  2800\n",
      "5.1 Counter({2.0: 9326, 1.0: 6538, 0.0: 2892})\n",
      "avg :  0.39986847882506266 runtime :  2850\n",
      "5.1 Counter({2.0: 9323, 1.0: 6624, 0.0: 2809})\n",
      "avg :  0.3996986816231871 runtime :  2900\n",
      "5.1 Counter({2.0: 9313, 1.0: 6712, 0.0: 2731})\n",
      "avg :  0.39913331554020415 runtime :  2950\n",
      "5.1 Counter({2.0: 9315, 1.0: 6783, 0.0: 2658})\n",
      "avg :  0.39861067682019496 runtime :  3000\n",
      "5.1 Counter({2.0: 9324, 1.0: 6857, 0.0: 2575})\n",
      "avg :  0.3978033228471943 runtime :  3050\n",
      "\n"
     ]
    },
    {
     "data": {
      "text/plain": [
       "(1400, 0.42752234820308627)"
      ]
     },
     "execution_count": 175,
     "metadata": {},
     "output_type": "execute_result"
    },
    {
     "data": {
      "image/png": "[encoded data removed]",
      "text/plain": [
       "<matplotlib.figure.Figure at 0x162567e2c50>"
      ]
     },
     "metadata": {},
     "output_type": "display_data"
    }
   ],
   "source": [
    "def runLR(dataSet, eta, runtime=1000):\n",
    "    LR_01, LR_02, LR_12 = LogisticRegression(), LogisticRegression(), LogisticRegression()\n",
    "    \n",
    "    LR_01.fit(trainSet_01, trainSetLabel_01, eta=eta, maxRunTimes=runtime)\n",
    "    LR_02.fit(trainSet_02, trainSetLabel_02, eta=eta, maxRunTimes=runtime)\n",
    "    LR_12.fit(trainSet_12, trainSetLabel_12, eta=eta, maxRunTimes=runtime)\n",
    "    \n",
    "    ansLabel_01 = LR_01.apply(dataSet)\n",
    "#     np.place(ansLabel_01, ansLabel_01==0, 0)\n",
    "#     np.place(ansLabel_01, ansLabel_01==1, 1)\n",
    "    \n",
    "    ansLabel_02 = LR_02.apply(dataSet)\n",
    "    np.place(ansLabel_02, ansLabel_02==0, 0)\n",
    "    np.place(ansLabel_02, ansLabel_02==1, 2)\n",
    "    \n",
    "    ansLabel_12 = LR_12.apply(dataSet)\n",
    "    np.place(ansLabel_12, ansLabel_12==0, 1)\n",
    "    np.place(ansLabel_12, ansLabel_12==1, 2)    \n",
    "    \n",
    "    labels = np.vstack([ansLabel_01, ansLabel_02, ansLabel_12])\n",
    "    ansLabel = np.zeros(labels.shape[1])\n",
    "    \n",
    "    for i in tnrange(labels.shape[1], leave=False):\n",
    "        t = Counter(labels[:, i]).most_common(2)\n",
    "        #print(t)\n",
    "        if t[0][1] == t[1][1]:\n",
    "            ansLabel[i] = 1 #默认选择MID\n",
    "        else:\n",
    "            ansLabel[i] =  t[0][0]\n",
    "    \n",
    "    print(eta, Counter(ansLabel))\n",
    "    \n",
    "    return ansLabel\n",
    "    \n",
    "\n",
    "def getTestAvg(eta, runtime):\n",
    "    ansLabel = runLR(validateSet, eta, runtime)\n",
    "    avg = calcAvg(ansLabel, validateSetLabel)\n",
    "    print(\"avg : \", avg, \"runtime : \", runtime)\n",
    "    return avg\n",
    "    \n",
    "# etaTestRange = [0.0005, 0.0010, 0.0050, 0.0100, 0.0500, 0.1000, 0.5000, 1, 5]\n",
    "# etaTestRange = np.arange(5,6.1,0.1)\n",
    "# etaTestRange = np.arange(0.01 ,0.11, 0.01)\n",
    "# etaTestRange = np.arange(0.045 ,0.055, 0.001)\n",
    "etaTestRange = [5.1]\n",
    "etaTestRange \n",
    "\n",
    "runtimeTestRange = np.arange(500, 3100, 50)\n",
    "# runtimeTestRange = np.arange(900, 1100, 25)\n",
    "# runtimeTestRange = np.arange(1000, 1200, 10)\n",
    "# runtimeTestRange = [1040]\n",
    "runtimeTestRange\n",
    "\n",
    "avgs = []\n",
    "for i in tnrange(len(runtimeTestRange)):\n",
    "    avgs.append(getTestAvg(etaTestRange[0], runtimeTestRange[i]))\n",
    "    \n",
    "# bestEta = etaTestRange[np.argmax(avgs)]\n",
    "# bestEta, np.max(avgs) \n",
    "\n",
    "bestRuntime = runtimeTestRange[np.argmax(avgs)]\n",
    "bestRuntime, np.max(avgs) \n",
    "\n",
    "show_fig(runtimeTestRange, avgs)"
   ]
  },
  {
   "cell_type": "code",
   "execution_count": 176,
   "metadata": {
    "ExecuteTime": {
     "end_time": "2018-01-08T17:23:50.715795Z",
     "start_time": "2018-01-08T17:23:37.881706Z"
    }
   },
   "outputs": [
    {
     "name": "stdout",
     "output_type": "stream",
     "text": [
      "5.1 Counter({2.0: 4318, 0.0: 3129, 1.0: 1224})\n"
     ]
    },
    {
     "data": {
      "text/plain": [
       "Counter({0.0: 3129, 1.0: 1224, 2.0: 4318})"
      ]
     },
     "execution_count": 176,
     "metadata": {},
     "output_type": "execute_result"
    }
   ],
   "source": [
    "ansLabel = runLR(testSet, 5.1, bestRuntime)\n",
    "Counter(ansLabel)"
   ]
  },
  {
   "cell_type": "code",
   "execution_count": 177,
   "metadata": {
    "ExecuteTime": {
     "end_time": "2018-01-08T17:23:58.306089Z",
     "start_time": "2018-01-08T17:23:58.275068Z"
    }
   },
   "outputs": [],
   "source": [
    "ans = DF(ansLabel).replace(0, \"LOW\").replace(1, \"MID\").replace(2, \"HIG\")\n",
    "ans.to_csv('.\\\\rank\\\\47_v5.csv', index=False, header=False)"
   ]
  }
 ],
 "metadata": {
  "anaconda-cloud": {},
  "kernelspec": {
   "display_name": "Python [conda root]",
   "language": "python",
   "name": "conda-root-py"
  },
  "language_info": {
   "codemirror_mode": {
    "name": "ipython",
    "version": 3
   },
   "file_extension": ".py",
   "mimetype": "text/x-python",
   "name": "python",
   "nbconvert_exporter": "python",
   "pygments_lexer": "ipython3",
   "version": "3.5.2"
  },
  "toc": {
   "nav_menu": {},
   "number_sections": true,
   "sideBar": true,
   "skip_h1_title": false,
   "toc_cell": false,
   "toc_position": {},
   "toc_section_display": "block",
   "toc_window_display": false
  },
  "widgets": {
   "state": {
    "5a8abe016c8f4a7cb076a1cbbc3b3496": {
     "views": [
      {
       "cell_index": 20
      }
     ]
    },
    "9bba24b67723444d9530939d3835f36c": {
     "views": [
      {
       "cell_index": 20
      }
     ]
    },
    "ab559d522df245cfbc3aa2ea0af750cf": {
     "views": [
      {
       "cell_index": 20
      }
     ]
    },
    "dbcdc2c3b8d94fb2b10fc0c566fe1e93": {
     "views": [
      {
       "cell_index": 20
      }
     ]
    }
   },
   "version": "1.2.0"
  }
 },
 "nbformat": 4,
 "nbformat_minor": 2
}
