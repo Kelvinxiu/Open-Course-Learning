{
 "cells": [
  {
   "cell_type": "code",
   "execution_count": 8,
   "metadata": {
    "ExecuteTime": {
     "end_time": "2018-01-08T01:24:31.123835Z",
     "start_time": "2018-01-08T01:24:29.510184Z"
    },
    "collapsed": true
   },
   "outputs": [],
   "source": [
    "from IPython.core.interactiveshell import InteractiveShell\n",
    "InteractiveShell.ast_node_interactivity = \"all\"\n",
    "\n",
    "from collections import Counter\n",
    "import numpy as np\n",
    "import matplotlib.pyplot as plt\n",
    "from functools import reduce\n",
    "import pdir as pr\n",
    "import pandas as pd\n",
    "import os\n",
    "from tqdm import tqdm, tnrange, tqdm_notebook\n",
    "\n",
    "DF = pd.DataFrame\n",
    "arr = np.array"
   ]
  },
  {
   "cell_type": "markdown",
   "metadata": {},
   "source": [
    "# 读取数据集"
   ]
  },
  {
   "cell_type": "code",
   "execution_count": 9,
   "metadata": {
    "ExecuteTime": {
     "end_time": "2018-01-08T01:24:48.637290Z",
     "start_time": "2018-01-08T01:24:35.832417Z"
    }
   },
   "outputs": [
    {
     "data": {
      "text/plain": [
       "((43766, 50), (18756, 50), (8671, 50))"
      ]
     },
     "execution_count": 9,
     "metadata": {},
     "output_type": "execute_result"
    },
    {
     "data": {
      "text/plain": [
       "((43766,), (18756,))"
      ]
     },
     "execution_count": 9,
     "metadata": {},
     "output_type": "execute_result"
    }
   ],
   "source": [
    "dirPath2 = \"E:\\\\Code\\\\_largeData\\\\Github--Open-Course-Learning--A04\\\\Project\\\\multiclass classification\\\\data preprocessed\\\\wordvec_6B_50d - TA version\" \n",
    "\n",
    "\n",
    "trainSet = np.loadtxt(dirPath2 + '\\\\train.csv', delimiter=\",\")\n",
    "validateSet = np.loadtxt(dirPath2 + '\\\\validate.csv', delimiter=\",\")\n",
    "testSet = np.loadtxt(dirPath2 + '\\\\test.csv', delimiter=\",\")\n",
    "\n",
    "dirPath = \"E:\\\\Code\\\\_largeData\\\\Github--Open-Course-Learning--A04\\\\Project\\\\multiclass classification\\\\data preprocessed\\\\tf-idf\"\n",
    "trainSetLabel = np.loadtxt(dirPath + '\\\\train_label.csv', delimiter=\",\")\n",
    "validateSetLabel = np.loadtxt(dirPath + '\\\\validate_label.csv', delimiter=\",\")\n",
    "\n",
    "trainSet.shape, validateSet.shape, testSet.shape\n",
    "trainSetLabel.shape, validateSetLabel.shape"
   ]
  },
  {
   "cell_type": "markdown",
   "metadata": {},
   "source": [
    "# KNN"
   ]
  },
  {
   "cell_type": "code",
   "execution_count": 10,
   "metadata": {
    "ExecuteTime": {
     "end_time": "2018-01-08T01:24:48.740569Z",
     "start_time": "2018-01-08T01:24:48.640290Z"
    }
   },
   "outputs": [
    {
     "data": {
      "text/plain": [
       "0"
      ]
     },
     "execution_count": 10,
     "metadata": {},
     "output_type": "execute_result"
    }
   ],
   "source": [
    "def knn_classify(dataSet, labels, k, inputVector):\n",
    "    '''使用knn对输入的向量进行分类，使用欧式距离'''\n",
    "    #得到输入向量与数据集的差值的平方\n",
    "    diffMat = (dataSet - inputVector)**2\n",
    "    #计算每一行上元素的和\n",
    "    distancesSquare = diffMat.sum(axis=1)\n",
    "    #可以不用计算距离，用距离的平方也可以，这样效率更高\n",
    "    #print(distancesSquare)\n",
    "    #得到 K 个近邻的下标\n",
    "    kNeighborsIndex  = distancesSquare.argpartition(k-1)[0:k]\n",
    "    \n",
    "    #计算 K 个近邻的距离倒数\n",
    "    kDatas = 1/distancesSquare[kNeighborsIndex]\n",
    "    #得到 对应的 K 个标签\n",
    "    kLabels = labels[kNeighborsIndex]\n",
    "    \n",
    "    predictLabel = np.NAN\n",
    "    maxDis = -np.inf\n",
    "    for i in np.unique(kLabels):\n",
    "        dis = np.sum(kDatas[kLabels==i]) \n",
    "        #print(dis)\n",
    "        if dis > maxDis:\n",
    "            maxDis = dis\n",
    "            predictLabel = i\n",
    "    #返回分类结果\n",
    "    return predictLabel\n",
    "\n",
    "##############测试程序#######################\n",
    "knn_classify(arr([[1,1,0,0],\n",
    "              [0,1,1,1],\n",
    "              [1,0,0,1]]), arr([1, 0, 1]), 3, arr([0,1,1,0]))\n",
    "##############测试程序#######################"
   ]
  },
  {
   "cell_type": "markdown",
   "metadata": {},
   "source": [
    "# 计算平均准确率"
   ]
  },
  {
   "cell_type": "code",
   "execution_count": 11,
   "metadata": {
    "ExecuteTime": {
     "end_time": "2018-01-08T01:24:50.927500Z",
     "start_time": "2018-01-08T01:24:50.894437Z"
    }
   },
   "outputs": [
    {
     "data": {
      "text/plain": [
       "0.3333333333333333"
      ]
     },
     "execution_count": 11,
     "metadata": {},
     "output_type": "execute_result"
    }
   ],
   "source": [
    "def calcAvg(predict, actual):\n",
    "    all_labels = list(set(actual))\n",
    "    tot = 0.0\n",
    "    for i in all_labels:\n",
    "        counter = Counter(predict[actual == i] == i)\n",
    "        hit_num, miss_num = counter[True], counter[False]\n",
    "        tot += hit_num / (hit_num + miss_num)\n",
    "    return tot/len(all_labels)\n",
    "\n",
    "calcAvg(arr([1,2,3]), arr([3,2,1]))"
   ]
  },
  {
   "cell_type": "code",
   "execution_count": 12,
   "metadata": {
    "ExecuteTime": {
     "end_time": "2018-01-08T01:24:52.928337Z",
     "start_time": "2018-01-08T01:24:52.921335Z"
    }
   },
   "outputs": [
    {
     "data": {
      "text/plain": [
       "array([ 0.23078921,  0.27323677, -0.02954577, -0.04853166,  0.28180856,\n",
       "        0.0592143 , -0.42988769, -0.02372992, -0.03119839, -0.14007146,\n",
       "       -0.15106738, -0.12000525, -0.14026137, -0.07444043,  0.27119987,\n",
       "        0.13343253,  0.10473174,  0.05121908, -0.37115628, -0.23900846,\n",
       "        0.06559   ,  0.09519941,  0.09231085,  0.06028896,  0.04956119,\n",
       "       -1.22946585, -0.21750375,  0.17548555,  0.24603385, -0.17863073,\n",
       "        2.47236468,  0.15369629, -0.12115178, -0.08087972,  0.0796592 ,\n",
       "       -0.05632091, -0.04942061,  0.03542139,  0.02938966, -0.07193589,\n",
       "       -0.18563327,  0.12049308,  0.10473326, -0.00497364,  0.01172083,\n",
       "        0.14822382, -0.14478865, -0.09108413, -0.06119572, -0.0590018 ])"
      ]
     },
     "execution_count": 12,
     "metadata": {},
     "output_type": "execute_result"
    }
   ],
   "source": [
    "trainSet[0,:]"
   ]
  },
  {
   "cell_type": "code",
   "execution_count": 13,
   "metadata": {
    "ExecuteTime": {
     "end_time": "2018-01-08T01:24:58.311359Z",
     "start_time": "2018-01-08T01:24:58.301353Z"
    },
    "collapsed": true
   },
   "outputs": [],
   "source": [
    "def run_knn_classify(dataSet, k):\n",
    "    ansLabel = []\n",
    "    for i in tnrange(len(dataSet), leave=False):\n",
    "        ansLabel.append(knn_classify(trainSet, trainSetLabel, k, dataSet[i]))\n",
    "    return arr(ansLabel)\n",
    "\n",
    "def getTestAvg(k):\n",
    "    ansLabel = run_knn_classify(validateSet, k)\n",
    "    return calcAvg(ansLabel, validateSetLabel)\n"
   ]
  },
  {
   "cell_type": "code",
   "execution_count": 29,
   "metadata": {
    "ExecuteTime": {
     "end_time": "2018-01-08T08:08:59.613994Z",
     "start_time": "2018-01-08T08:08:59.608988Z"
    }
   },
   "outputs": [
    {
     "data": {
      "text/plain": [
       "array([ 1,  2,  3,  4,  5,  6,  7,  8,  9, 10, 11, 12, 13, 14, 15, 16, 17,\n",
       "       18, 19])"
      ]
     },
     "execution_count": 29,
     "metadata": {},
     "output_type": "execute_result"
    }
   ],
   "source": [
    "testRange = np.arange(1, 20)\n",
    "testRange"
   ]
  },
  {
   "cell_type": "code",
   "execution_count": 15,
   "metadata": {
    "ExecuteTime": {
     "end_time": "2018-01-08T03:38:40.193384Z",
     "start_time": "2018-01-08T01:25:04.013248Z"
    }
   },
   "outputs": [
    {
     "name": "stdout",
     "output_type": "stream",
     "text": [
      "\n"
     ]
    }
   ],
   "source": [
    "avgs = []\n",
    "for k in tnrange(1, len(testRange)+1):\n",
    "    avgs.append(getTestAvg(k))"
   ]
  },
  {
   "cell_type": "code",
   "execution_count": 31,
   "metadata": {
    "ExecuteTime": {
     "end_time": "2018-01-08T08:09:28.475984Z",
     "start_time": "2018-01-08T08:09:28.470980Z"
    }
   },
   "outputs": [
    {
     "data": {
      "text/plain": [
       "[0.3578445901925988,\n",
       " 0.3578445901925988,\n",
       " 0.3616307061427058,\n",
       " 0.36172214982031653,\n",
       " 0.36239742922017526,\n",
       " 0.3651701332628215,\n",
       " 0.36934386585987083,\n",
       " 0.3691623314712426,\n",
       " 0.36884008517909533,\n",
       " 0.37023350919978243,\n",
       " 0.37285770521561606,\n",
       " 0.375936801538528,\n",
       " 0.3756842372910154,\n",
       " 0.37891022745660985,\n",
       " 0.3578445901925988,\n",
       " 0.3578445901925988,\n",
       " 0.3616307061427058,\n",
       " 0.36172214982031653,\n",
       " 0.36239742922017526]"
      ]
     },
     "execution_count": 31,
     "metadata": {},
     "output_type": "execute_result"
    }
   ],
   "source": [
    "avgs"
   ]
  },
  {
   "cell_type": "code",
   "execution_count": 32,
   "metadata": {
    "ExecuteTime": {
     "end_time": "2018-01-08T08:09:33.670031Z",
     "start_time": "2018-01-08T08:09:33.664028Z"
    }
   },
   "outputs": [
    {
     "data": {
      "text/plain": [
       "(14, 0.37891022745660985)"
      ]
     },
     "execution_count": 32,
     "metadata": {},
     "output_type": "execute_result"
    }
   ],
   "source": [
    "bestK = testRange[np.argmax(avgs)]\n",
    "bestK, np.max(avgs) "
   ]
  },
  {
   "cell_type": "code",
   "execution_count": 33,
   "metadata": {
    "ExecuteTime": {
     "end_time": "2018-01-08T08:09:36.414183Z",
     "start_time": "2018-01-08T08:09:36.184145Z"
    }
   },
   "outputs": [
    {
     "data": {
      "image/png": "[encoded data removed]",
      "text/plain": [
       "<matplotlib.figure.Figure at 0x1f0795b9470>"
      ]
     },
     "metadata": {},
     "output_type": "display_data"
    }
   ],
   "source": [
    "def show_fig():\n",
    "    fig,ax = plt.subplots() \n",
    "    fig.set_size_inches(10, 4)\n",
    "    plt.plot(testRange, avgs, 'g')\n",
    "    plt.xlabel('K')\n",
    "    plt.ylabel('avg(%)')\n",
    "    plt.title(\"avg versus K with KNN\")\n",
    "    plt.show()\n",
    "    plt.close()\n",
    "show_fig()"
   ]
  },
  {
   "cell_type": "code",
   "execution_count": 19,
   "metadata": {
    "ExecuteTime": {
     "end_time": "2018-01-08T03:43:08.340468Z",
     "start_time": "2018-01-08T03:38:41.044748Z"
    }
   },
   "outputs": [
    {
     "name": "stdout",
     "output_type": "stream",
     "text": [
      "\r"
     ]
    }
   ],
   "source": [
    "ansLabel = run_knn_classify(testSet, bestK)"
   ]
  },
  {
   "cell_type": "code",
   "execution_count": 35,
   "metadata": {
    "ExecuteTime": {
     "end_time": "2018-01-08T09:07:17.726711Z",
     "start_time": "2018-01-08T09:07:17.694689Z"
    }
   },
   "outputs": [
    {
     "data": {
      "text/plain": [
       "Counter({0.0: 13606, 1.0: 18255, 2.0: 11905})"
      ]
     },
     "execution_count": 35,
     "metadata": {},
     "output_type": "execute_result"
    },
    {
     "data": {
      "text/plain": [
       "Counter({0.0: 5692, 1.0: 7802, 2.0: 5262})"
      ]
     },
     "execution_count": 35,
     "metadata": {},
     "output_type": "execute_result"
    },
    {
     "data": {
      "text/plain": [
       "Counter({0.0: 2739, 1.0: 4454, 2.0: 1478})"
      ]
     },
     "execution_count": 35,
     "metadata": {},
     "output_type": "execute_result"
    }
   ],
   "source": [
    "Counter(trainSetLabel)\n",
    "Counter(validateSetLabel)\n",
    "Counter(ansLabel)"
   ]
  },
  {
   "cell_type": "code",
   "execution_count": 20,
   "metadata": {
    "ExecuteTime": {
     "end_time": "2018-01-08T03:43:08.445879Z",
     "start_time": "2018-01-08T03:43:08.340468Z"
    }
   },
   "outputs": [
    {
     "data": {
      "text/plain": [
       "Counter({'HIG': 1478, 'LOW': 2739, 'MID': 4454})"
      ]
     },
     "execution_count": 20,
     "metadata": {},
     "output_type": "execute_result"
    }
   ],
   "source": [
    "ans = DF(ansLabel).replace(0, \"LOW\").replace(1, \"MID\").replace(2, \"HIG\")\n",
    "ans.to_csv('.\\\\rank\\\\47_v1.csv', index=False, header=False)\n",
    "\n",
    "Counter(ans[0])"
   ]
  }
 ],
 "metadata": {
  "anaconda-cloud": {},
  "kernelspec": {
   "display_name": "Python [conda root]",
   "language": "python",
   "name": "conda-root-py"
  },
  "language_info": {
   "codemirror_mode": {
    "name": "ipython",
    "version": 3
   },
   "file_extension": ".py",
   "mimetype": "text/x-python",
   "name": "python",
   "nbconvert_exporter": "python",
   "pygments_lexer": "ipython3",
   "version": "3.5.2"
  },
  "toc": {
   "nav_menu": {},
   "number_sections": true,
   "sideBar": true,
   "skip_h1_title": false,
   "toc_cell": false,
   "toc_position": {},
   "toc_section_display": "block",
   "toc_window_display": false
  },
  "widgets": {
   "state": {
    "671310616d114439a75c8bc4afb33973": {
     "views": [
      {
       "cell_index": 10
      }
     ]
    }
   },
   "version": "1.2.0"
  }
 },
 "nbformat": 4,
 "nbformat_minor": 2
}
