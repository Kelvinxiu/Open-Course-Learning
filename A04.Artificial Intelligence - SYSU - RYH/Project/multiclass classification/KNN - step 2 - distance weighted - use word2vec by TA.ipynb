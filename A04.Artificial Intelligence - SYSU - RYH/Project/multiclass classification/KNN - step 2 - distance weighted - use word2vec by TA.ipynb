{
 "cells": [
  {
   "cell_type": "code",
   "execution_count": 2,
   "metadata": {
    "ExecuteTime": {
     "end_time": "2017-12-29T07:49:51.720878Z",
     "start_time": "2017-12-29T07:49:46.883143Z"
    },
    "collapsed": true
   },
   "outputs": [],
   "source": [
    "from IPython.core.interactiveshell import InteractiveShell\n",
    "InteractiveShell.ast_node_interactivity = \"all\"\n",
    "\n",
    "from collections import Counter\n",
    "import numpy as np\n",
    "import matplotlib.pyplot as plt\n",
    "from functools import reduce\n",
    "import pdir as pr\n",
    "import pandas as pd\n",
    "import os\n",
    "from tqdm import tqdm, tnrange, tqdm_notebook\n",
    "\n",
    "DF = pd.DataFrame\n",
    "arr = np.array"
   ]
  },
  {
   "cell_type": "markdown",
   "metadata": {},
   "source": [
    "# 读取数据集"
   ]
  },
  {
   "cell_type": "code",
   "execution_count": 3,
   "metadata": {
    "ExecuteTime": {
     "end_time": "2017-12-29T07:50:05.370202Z",
     "start_time": "2017-12-29T07:49:51.720878Z"
    }
   },
   "outputs": [
    {
     "data": {
      "text/plain": [
       "((43766, 50), (18756, 50), (8671, 50))"
      ]
     },
     "execution_count": 3,
     "metadata": {},
     "output_type": "execute_result"
    },
    {
     "data": {
      "text/plain": [
       "((43766,), (18756,))"
      ]
     },
     "execution_count": 3,
     "metadata": {},
     "output_type": "execute_result"
    }
   ],
   "source": [
    "dirPath2 = \"data preprocessed\\\\wordvec_6B_50d - TA version\" \n",
    "\n",
    "\n",
    "trainSet = np.loadtxt(dirPath2 + '\\\\train.csv', delimiter=\",\")\n",
    "validateSet = np.loadtxt(dirPath2 + '\\\\validate.csv', delimiter=\",\")\n",
    "testSet = np.loadtxt(dirPath2 + '\\\\test.csv', delimiter=\",\")\n",
    "\n",
    "dirPath = \".\\\\data preprocessed\\\\tf-idf\"\n",
    "trainSetLabel = np.loadtxt(dirPath + '\\\\train_label.csv', delimiter=\",\")\n",
    "validateSetLabel = np.loadtxt(dirPath + '\\\\validate_label.csv', delimiter=\",\")\n",
    "\n",
    "trainSet.shape, validateSet.shape, testSet.shape\n",
    "trainSetLabel.shape, validateSetLabel.shape"
   ]
  },
  {
   "cell_type": "markdown",
   "metadata": {},
   "source": [
    "# KNN"
   ]
  },
  {
   "cell_type": "code",
   "execution_count": 4,
   "metadata": {
    "ExecuteTime": {
     "end_time": "2017-12-29T07:50:05.418235Z",
     "start_time": "2017-12-29T07:50:05.374204Z"
    }
   },
   "outputs": [
    {
     "data": {
      "text/plain": [
       "0"
      ]
     },
     "execution_count": 4,
     "metadata": {},
     "output_type": "execute_result"
    }
   ],
   "source": [
    "def knn_classify(dataSet, labels, k, inputVector):\n",
    "    '''使用knn对输入的向量进行分类，使用欧式距离'''\n",
    "    #得到输入向量与数据集的差值的平方\n",
    "    diffMat = (dataSet - inputVector)**2\n",
    "    #计算每一行上元素的和\n",
    "    distancesSquare = diffMat.sum(axis=1)\n",
    "    #可以不用计算距离，用距离的平方也可以，这样效率更高\n",
    "    #print(distancesSquare)\n",
    "    #得到 K 个近邻的下标\n",
    "    kNeighborsIndex  = distancesSquare.argpartition(k-1)[0:k]\n",
    "    \n",
    "    #计算 K 个近邻的距离倒数\n",
    "    kDatas = 1/distancesSquare[kNeighborsIndex]\n",
    "    #得到 对应的 K 个标签\n",
    "    kLabels = labels[kNeighborsIndex]\n",
    "    \n",
    "    predictLabel = np.NAN\n",
    "    maxDis = -np.inf\n",
    "    for i in np.unique(kLabels):\n",
    "        dis = np.sum(kDatas[kLabels==i]) \n",
    "        #print(dis)\n",
    "        if dis > maxDis:\n",
    "            maxDis = dis\n",
    "            predictLabel = i\n",
    "    #返回分类结果\n",
    "    return predictLabel\n",
    "\n",
    "##############测试程序#######################\n",
    "knn_classify(arr([[1,1,0,0],\n",
    "              [0,1,1,1],\n",
    "              [1,0,0,1]]), arr([1, 0, 1]), 3, arr([0,1,1,0]))\n",
    "##############测试程序#######################"
   ]
  },
  {
   "cell_type": "markdown",
   "metadata": {},
   "source": [
    "# 计算平均准确率"
   ]
  },
  {
   "cell_type": "code",
   "execution_count": 5,
   "metadata": {
    "ExecuteTime": {
     "end_time": "2017-12-29T07:50:09.108173Z",
     "start_time": "2017-12-29T07:50:09.092164Z"
    }
   },
   "outputs": [
    {
     "data": {
      "text/plain": [
       "0.3333333333333333"
      ]
     },
     "execution_count": 5,
     "metadata": {},
     "output_type": "execute_result"
    }
   ],
   "source": [
    "def calcAvg(predict, actual):\n",
    "    all_labels = list(set(actual))\n",
    "    tot = 0.0\n",
    "    for i in all_labels:\n",
    "        counter = Counter(predict[actual == i] == i)\n",
    "        hit_num, miss_num = counter[True], counter[False]\n",
    "        tot += hit_num / (hit_num + miss_num)\n",
    "    return tot/len(all_labels)\n",
    "\n",
    "calcAvg(arr([1,2,3]), arr([3,2,1]))"
   ]
  },
  {
   "cell_type": "code",
   "execution_count": 7,
   "metadata": {
    "ExecuteTime": {
     "end_time": "2017-12-29T07:50:21.024712Z",
     "start_time": "2017-12-29T07:50:21.015707Z"
    }
   },
   "outputs": [
    {
     "data": {
      "text/plain": [
       "array([  1.23829862e-01,   2.50570797e-01,  -1.61819230e-01,\n",
       "        -1.54766699e-01,   1.77189946e-01,  -1.05322620e-01,\n",
       "        -5.22355270e-01,   1.53324973e-01,  -1.01816743e-01,\n",
       "        -1.29281297e-01,  -1.24611497e-01,  -1.22830554e-01,\n",
       "        -8.66971216e-02,  -5.61720270e-02,   1.92646162e-01,\n",
       "         4.90908432e-02,   8.09077027e-02,  -1.58393378e-02,\n",
       "        -3.72756054e-01,  -2.65370581e-01,   1.33082757e-01,\n",
       "         2.64064797e-01,   5.42573469e-02,   2.07145297e-01,\n",
       "         1.06557608e-01,  -8.76695959e-01,  -1.71635162e-01,\n",
       "         1.32052527e-01,   2.48080306e-01,  -1.11433405e-01,\n",
       "         2.02514480e+00,   1.92924689e-01,  -1.03246661e-01,\n",
       "         3.19465838e-02,   7.84354959e-02,  -6.87133514e-02,\n",
       "        -3.31299459e-02,   5.07176216e-02,   2.83994473e-02,\n",
       "        -1.19154784e-01,  -3.07002162e-02,   2.40311811e-02,\n",
       "         1.00482824e-01,  -5.49468919e-02,   5.14289324e-02,\n",
       "         1.28533338e-01,  -9.48613378e-02,  -2.18191851e-01,\n",
       "         1.77455676e-03,  -3.47538803e-02])"
      ]
     },
     "execution_count": 7,
     "metadata": {},
     "output_type": "execute_result"
    }
   ],
   "source": [
    "trainSet[0,:]"
   ]
  },
  {
   "cell_type": "code",
   "execution_count": 20,
   "metadata": {
    "ExecuteTime": {
     "end_time": "2017-12-29T10:23:36.039823Z",
     "start_time": "2017-12-29T10:23:36.029814Z"
    },
    "collapsed": true
   },
   "outputs": [],
   "source": [
    "def run_knn_classify(dataSet, k):\n",
    "    ansLabel = []\n",
    "    for i in tnrange(len(dataSet), leave=False):\n",
    "        ansLabel.append(knn_classify(trainSet, trainSetLabel, k, dataSet[i]))\n",
    "    return arr(ansLabel)\n",
    "\n",
    "def getTestAvg(k):\n",
    "    ansLabel = run_knn_classify(validateSet, k)\n",
    "    return calcAvg(ansLabel, validateSetLabel)\n"
   ]
  },
  {
   "cell_type": "code",
   "execution_count": 30,
   "metadata": {
    "ExecuteTime": {
     "end_time": "2017-12-29T22:15:50.244342Z",
     "start_time": "2017-12-29T22:15:50.234339Z"
    }
   },
   "outputs": [
    {
     "data": {
      "text/plain": [
       "array([ 1,  2,  3,  4,  5,  6,  7,  8,  9, 10, 11, 12, 13, 14])"
      ]
     },
     "execution_count": 30,
     "metadata": {},
     "output_type": "execute_result"
    }
   ],
   "source": [
    "testRange = np.arange(1, 15)\n",
    "testRange"
   ]
  },
  {
   "cell_type": "code",
   "execution_count": 25,
   "metadata": {
    "ExecuteTime": {
     "end_time": "2017-12-29T11:38:50.052730Z",
     "start_time": "2017-12-29T10:57:45.727790Z"
    }
   },
   "outputs": [
    {
     "name": "stdout",
     "output_type": "stream",
     "text": [
      "\n"
     ]
    }
   ],
   "source": [
    "avgs = []\n",
    "for k in tnrange(1, len(testRange)+1):\n",
    "    avgs.append(getTestAvg(k))"
   ]
  },
  {
   "cell_type": "code",
   "execution_count": 29,
   "metadata": {
    "ExecuteTime": {
     "end_time": "2017-12-29T22:15:47.079883Z",
     "start_time": "2017-12-29T22:15:47.071875Z"
    }
   },
   "outputs": [
    {
     "data": {
      "text/plain": [
       "[0.3625801528872136,\n",
       " 0.36253264325369733,\n",
       " 0.36587197791732734,\n",
       " 0.3685588584848558,\n",
       " 0.36903623444956185,\n",
       " 0.3702194239080998,\n",
       " 0.37238404760532157,\n",
       " 0.374551626750657,\n",
       " 0.37584445333079103,\n",
       " 0.3625801528872136,\n",
       " 0.36253264325369733,\n",
       " 0.36587197791732734,\n",
       " 0.3685588584848558,\n",
       " 0.36903623444956185]"
      ]
     },
     "execution_count": 29,
     "metadata": {},
     "output_type": "execute_result"
    }
   ],
   "source": [
    "avgs"
   ]
  },
  {
   "cell_type": "code",
   "execution_count": 31,
   "metadata": {
    "ExecuteTime": {
     "end_time": "2017-12-29T22:15:54.527449Z",
     "start_time": "2017-12-29T22:15:54.519442Z"
    }
   },
   "outputs": [
    {
     "data": {
      "text/plain": [
       "(9, 0.37584445333079103)"
      ]
     },
     "execution_count": 31,
     "metadata": {},
     "output_type": "execute_result"
    }
   ],
   "source": [
    "bestK = testRange[np.argmax(avgs)]\n",
    "bestK, np.max(avgs) "
   ]
  },
  {
   "cell_type": "code",
   "execution_count": 32,
   "metadata": {
    "ExecuteTime": {
     "end_time": "2017-12-29T22:15:57.386355Z",
     "start_time": "2017-12-29T22:15:57.100226Z"
    }
   },
   "outputs": [
    {
     "data": {
      "image/png": "[encoded data removed]",
      "text/plain": [
       "<matplotlib.figure.Figure at 0x2128ef344e0>"
      ]
     },
     "metadata": {},
     "output_type": "display_data"
    }
   ],
   "source": [
    "def show_fig():\n",
    "    fig,ax = plt.subplots() \n",
    "    fig.set_size_inches(10, 4)\n",
    "    plt.plot(testRange, avgs, 'g')\n",
    "    plt.xlabel('K')\n",
    "    plt.ylabel('avg(%)')\n",
    "    plt.title(\"avg versus K with KNN\")\n",
    "    plt.show()\n",
    "    plt.close()\n",
    "show_fig()"
   ]
  },
  {
   "cell_type": "code",
   "execution_count": 33,
   "metadata": {
    "ExecuteTime": {
     "end_time": "2017-12-29T22:21:10.405253Z",
     "start_time": "2017-12-29T22:17:07.130186Z"
    }
   },
   "outputs": [
    {
     "name": "stdout",
     "output_type": "stream",
     "text": [
      "\r"
     ]
    }
   ],
   "source": [
    "ansLabel = run_knn_classify(testSet, bestK)"
   ]
  },
  {
   "cell_type": "code",
   "execution_count": 41,
   "metadata": {
    "ExecuteTime": {
     "end_time": "2017-12-29T22:35:30.201321Z",
     "start_time": "2017-12-29T22:35:30.162293Z"
    }
   },
   "outputs": [
    {
     "data": {
      "text/plain": [
       "Counter({'HIG': 1700, 'LOW': 2363, 'MID': 4608})"
      ]
     },
     "execution_count": 41,
     "metadata": {},
     "output_type": "execute_result"
    }
   ],
   "source": [
    "ans = DF(ansLabel).replace(0, \"LOW\").replace(1, \"MID\").replace(2, \"HIG\")\n",
    "ans.to_csv('.\\\\rank\\\\47_v1.csv', index=False, header=False)\n",
    "\n",
    "Counter(ans[0])"
   ]
  }
 ],
 "metadata": {
  "anaconda-cloud": {},
  "kernelspec": {
   "display_name": "Python [conda root]",
   "language": "python",
   "name": "conda-root-py"
  },
  "language_info": {
   "codemirror_mode": {
    "name": "ipython",
    "version": 3
   },
   "file_extension": ".py",
   "mimetype": "text/x-python",
   "name": "python",
   "nbconvert_exporter": "python",
   "pygments_lexer": "ipython3",
   "version": "3.5.2"
  },
  "toc": {
   "nav_menu": {},
   "number_sections": true,
   "sideBar": true,
   "skip_h1_title": false,
   "toc_cell": false,
   "toc_position": {},
   "toc_section_display": "block",
   "toc_window_display": false
  },
  "widgets": {
   "state": {
    "4cddd5c9f35d42fd99afc73287f07638": {
     "views": [
      {
       "cell_index": 10
      }
     ]
    }
   },
   "version": "1.2.0"
  }
 },
 "nbformat": 4,
 "nbformat_minor": 2
}
