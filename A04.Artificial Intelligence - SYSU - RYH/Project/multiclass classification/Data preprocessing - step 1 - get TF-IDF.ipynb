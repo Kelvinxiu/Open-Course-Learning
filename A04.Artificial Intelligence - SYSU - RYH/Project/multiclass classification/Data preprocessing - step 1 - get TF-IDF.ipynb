{
 "cells": [
  {
   "cell_type": "code",
   "execution_count": 67,
   "metadata": {
    "ExecuteTime": {
     "end_time": "2017-12-28T09:36:59.146938Z",
     "start_time": "2017-12-28T09:36:59.122936Z"
    },
    "collapsed": true
   },
   "outputs": [],
   "source": [
    "from IPython.core.interactiveshell import InteractiveShell\n",
    "InteractiveShell.ast_node_interactivity = \"all\"\n",
    "\n",
    "from collections import Counter\n",
    "import numpy as np\n",
    "import matplotlib.pyplot as plt\n",
    "from functools import reduce\n",
    "import pdir as pr\n",
    "import pandas as pd\n",
    "import os\n",
    "from tqdm import tqdm, tnrange, tqdm_notebook\n",
    "\n",
    "DF = pd.DataFrame\n",
    "arr = np.array\n",
    "\n",
    "import re\n",
    "import string\n",
    "import operator"
   ]
  },
  {
   "cell_type": "markdown",
   "metadata": {},
   "source": [
    "# 读取数据集"
   ]
  },
  {
   "cell_type": "code",
   "execution_count": 68,
   "metadata": {
    "ExecuteTime": {
     "end_time": "2017-12-28T09:37:04.074038Z",
     "start_time": "2017-12-28T09:36:59.146938Z"
    }
   },
   "outputs": [
    {
     "data": {
      "text/plain": [
       "(62522, 8671)"
      ]
     },
     "execution_count": 68,
     "metadata": {},
     "output_type": "execute_result"
    }
   ],
   "source": [
    "def loadDataSet(filePath):\n",
    "    articles, labels = [], []\n",
    "    with open(filePath, 'r', encoding=\"utf-8\") as f:\n",
    "        for line in f.readlines():\n",
    "            part = line.split(\"\\t\")\n",
    "            #这里已经将标签转换为大写，数据转换成小写了\n",
    "            label, article = part[0].upper().strip(), part[2].lower().replace(\"<sssss>\", \" \").strip().split(\" \")\n",
    "            articles.append(article)\n",
    "            labels.append(label)\n",
    "    return articles, labels\n",
    "        \n",
    "\n",
    "train_articles, train_labels = loadDataSet(\".\\\\data\\\\MulLabelTrain.ss\")\n",
    "test_articles, test_labels = loadDataSet(\".\\\\data\\\\MulLabelTest.ss\")\n",
    "\n",
    "len(train_articles), len(test_articles)"
   ]
  },
  {
   "cell_type": "code",
   "execution_count": 69,
   "metadata": {
    "ExecuteTime": {
     "end_time": "2017-12-28T09:37:04.102040Z",
     "start_time": "2017-12-28T09:37:04.074038Z"
    }
   },
   "outputs": [
    {
     "name": "stdout",
     "output_type": "stream",
     "text": [
      "['we', 'went', 'on', 'a', 'sunday', 'around', '11am', 'we', 'got', 'seated', 'right', 'away', '.', '', '', 'the', 'menu', 'is', 'trying', 'to', 'be', 'like', 'a', 'new-american', 'style', 'type', 'of', 'menu', '.', '', '', 'i', 'ordered', 'chicken', 'and', 'waffles', 'and', 'the', 'bo', 'ordered', 'a', 'breakfast', 'burrito', '.', '', '', 'our', 'meals', 'took', 'around', '25', 'minutes', 'to', 'come', 'out', 'and', 'my', 'boyfriend', 'even', 'commented', 'saying', 'how', 'all', 'the', 'people', 'sitting', 'next', 'to', 'us', 'no', 'one', 'had', 'a', 'plate', 'in', 'front', 'of', 'them', '.', '', '', 'sunday', 'must', 'have', 'been', 'a', 'new', 'employee', 'training', 'day', 'because', 'there', 'was', 'so', 'many', 'kids', 'wandering', 'around', 'and', 'around', 'the', 'restaurant', 'with', 'no', 'real', 'task', 'at', 'hand', '.', '', '', 'the', 'coffee', '...', 'the', 'coffee', 'was', 'good', '.', '', '', 'then', ',', 'finally', 'our', 'food', 'came', 'out', '.', '', '', 'my', 'chicken', 'was', 'good', 'and', 'it', 'was', 'a', 'baked', 'chicken', 'breast', 'breaded', '.', '', '', 'my', 'waffle', 'was', 'half', 'a', 'waffle', '.', '', '', 'two', 'pieces', 'came', 'out', 'and', 'they', 'were', 'toasted', 'cajun', 'style', '-lrb-', 'like', 'a', 'brick', '-rrb-', 'i', 'think', 'they', 'were', 'seasoned', 'with', 'a', 'pepper', 'or', 'something', 'too', '?', '', '', 'my', 'scrambled', 'eggs', 'came', 'out', 'already', 'mixed', 'with', 'syrup', '.', '', '', 'boy', \"'s\", 'burrito', 'came', 'out', 'on', 'a', 'green', 'pita', 'wrap', 'tortilla', 'and', 'carne', 'mixed', 'with', 'eggs', 'and', 'some', 'avocado', 'on', 'the', 'side', '.', '', '', 'the', '``', 'carne', \"''\", 'or', 'meat', 'had', 'a', 'lot', 'of', 'fat', 'on', 'it', '.', '', '', 'breakfast', 'was', '$', '30', '.', '', '', 'i', 'wont', 'be', 'back', '.'] \n",
      "\n",
      " LOW\n"
     ]
    }
   ],
   "source": [
    "print(train_articles[0], \"\\n\\n\", train_labels[0])"
   ]
  },
  {
   "cell_type": "markdown",
   "metadata": {},
   "source": [
    "# 去除停用词"
   ]
  },
  {
   "cell_type": "code",
   "execution_count": 70,
   "metadata": {
    "ExecuteTime": {
     "end_time": "2017-12-28T09:37:04.226049Z",
     "start_time": "2017-12-28T09:37:04.102040Z"
    }
   },
   "outputs": [
    {
     "data": {
      "text/plain": [
       "922"
      ]
     },
     "execution_count": 70,
     "metadata": {},
     "output_type": "execute_result"
    },
    {
     "name": "stdout",
     "output_type": "stream",
     "text": [
      "['', \"''\", '``', '$', '?', '...', '●', '-', '–', '*', '.', ',', ':', '0', '1', '2', ')', '(', '/', '3', '4', '5', '6', ';', '7', '8', '9', '’', '“', \"'d\", \"'ll\", \"'m\", \"'re\", \"'s\", \"'t\", \"'ve\", 'zt', 'zz', 'a', 'our', 'yours', \"a's\", 'able', 'about', 'above', 'abst', 'accordance', 'according', 'accordingly', 'across', 'act', 'actually', 'added', 'adj', 'adopted', 'affected', 'affecting', 'affects', 'after', 'afterwards', 'again', 'against', 'ah', \"ain't\", 'all', 'allow', 'allows', 'almost', 'alone', 'along', 'already', 'also', 'although', 'always', 'am', 'among', 'amongst', 'an', 'and', 'announce', 'another', 'any', 'anybody', 'anyhow', 'anymore', 'anyone', 'anything', 'anyway', 'anyways', 'anywhere', 'apart', 'apparently', 'appear', 'appreciate', 'appropriate', 'approximately', 'are', 'area', 'areas', 'aren']\n"
     ]
    }
   ],
   "source": [
    "stopwords = []\n",
    "with open(\".\\\\data\\\\stopwords-en.txt\", \"r\", encoding='utf-8') as f:\n",
    "    for i in f.readlines():\n",
    "        stopwords.append(i.lower().strip())\n",
    "        \n",
    "len(stopwords)\n",
    "print(stopwords[0:100])"
   ]
  },
  {
   "cell_type": "code",
   "execution_count": 71,
   "metadata": {
    "ExecuteTime": {
     "end_time": "2017-12-28T09:37:05.311871Z",
     "start_time": "2017-12-28T09:37:04.226049Z"
    },
    "collapsed": true
   },
   "outputs": [],
   "source": [
    "train_articles_backup = train_articles\n",
    "test_articles_backup = test_articles"
   ]
  },
  {
   "cell_type": "code",
   "execution_count": 72,
   "metadata": {
    "ExecuteTime": {
     "end_time": "2017-12-28T09:40:12.384642Z",
     "start_time": "2017-12-28T09:37:05.311871Z"
    },
    "collapsed": true
   },
   "outputs": [],
   "source": [
    "def remove_stopwords(articles):\n",
    "    new_articles = []\n",
    "    for article in articles:\n",
    "        new_articles.append([j  for j in article if j not in stopwords and len(j)>1])\n",
    "    return new_articles\n",
    "\n",
    "train_articles = remove_stopwords(train_articles_backup)\n",
    "test_articles = remove_stopwords(test_articles_backup)"
   ]
  },
  {
   "cell_type": "code",
   "execution_count": 73,
   "metadata": {
    "ExecuteTime": {
     "end_time": "2017-12-28T09:40:12.396628Z",
     "start_time": "2017-12-28T09:40:12.384642Z"
    },
    "scrolled": false
   },
   "outputs": [
    {
     "name": "stdout",
     "output_type": "stream",
     "text": [
      "['sunday', '11am', 'seated', 'menu', 'new-american', 'style', 'type', 'menu', 'chicken', 'waffles', 'bo', 'breakfast', 'burrito', 'meals', '25', 'minutes', 'boyfriend', 'commented', 'people', 'sitting', 'plate', 'front', 'sunday', 'employee', 'training', 'day', 'kids', 'wandering', 'restaurant', 'real', 'task', 'hand', 'coffee', 'coffee', 'finally', 'food', 'chicken', 'baked', 'chicken', 'breast', 'breaded', 'waffle', 'half', 'waffle', 'pieces', 'toasted', 'cajun', 'style', '-lrb-', 'brick', '-rrb-', 'seasoned', 'pepper', 'scrambled', 'eggs', 'mixed', 'syrup', 'boy', 'burrito', 'green', 'pita', 'wrap', 'tortilla', 'carne', 'mixed', 'eggs', 'avocado', 'carne', 'meat', 'lot', 'fat', 'breakfast', '30', 'wont']\n",
      "['love', 'mojo', 'evil', 'treat', 'flavors', 'yummy', 'minor', 'downfall', 'mix-ins', 'hard', 'reach', 'girl', 'literally', 'head', 'bar', 'grossed', 'idea', 'aka', 'human', 'debris', 'hair', 'yogurt']\n"
     ]
    }
   ],
   "source": [
    "print(train_articles[0])\n",
    "print(test_articles[0])"
   ]
  },
  {
   "cell_type": "markdown",
   "metadata": {},
   "source": [
    "# 去除高频词和低频词得到所有词列表"
   ]
  },
  {
   "cell_type": "code",
   "execution_count": 75,
   "metadata": {
    "ExecuteTime": {
     "end_time": "2017-12-28T09:41:17.870369Z",
     "start_time": "2017-12-28T09:41:17.497505Z"
    }
   },
   "outputs": [
    {
     "data": {
      "text/plain": [
       "(3461195, 475782)"
      ]
     },
     "execution_count": 75,
     "metadata": {},
     "output_type": "execute_result"
    }
   ],
   "source": [
    "all_word_train_mix = [j for i in train_articles for j in i]\n",
    "all_word_test_mix = [j for i in test_articles for j in i]\n",
    "\n",
    "len(all_word_train_mix), len(all_word_test_mix)"
   ]
  },
  {
   "cell_type": "code",
   "execution_count": 125,
   "metadata": {
    "ExecuteTime": {
     "end_time": "2017-12-28T11:07:41.579776Z",
     "start_time": "2017-12-28T11:07:41.444679Z"
    }
   },
   "outputs": [
    {
     "data": {
      "text/plain": [
       "3936977"
      ]
     },
     "execution_count": 125,
     "metadata": {},
     "output_type": "execute_result"
    }
   ],
   "source": [
    "all_word_mix = all_word_train_mix + all_word_test_mix\n",
    "len(all_word_mix)"
   ]
  },
  {
   "cell_type": "code",
   "execution_count": 143,
   "metadata": {
    "ExecuteTime": {
     "end_time": "2017-12-28T12:11:32.719567Z",
     "start_time": "2017-12-28T12:11:31.710847Z"
    },
    "scrolled": false
   },
   "outputs": [
    {
     "data": {
      "text/html": [
       "<div>\n",
       "<table border=\"1\" class=\"dataframe\">\n",
       "  <thead>\n",
       "    <tr style=\"text-align: right;\">\n",
       "      <th></th>\n",
       "      <th>words</th>\n",
       "      <th>count</th>\n",
       "    </tr>\n",
       "  </thead>\n",
       "  <tbody>\n",
       "    <tr>\n",
       "      <th>0</th>\n",
       "      <td>-rrb-</td>\n",
       "      <td>57854</td>\n",
       "    </tr>\n",
       "    <tr>\n",
       "      <th>1</th>\n",
       "      <td>-lrb-</td>\n",
       "      <td>52751</td>\n",
       "    </tr>\n",
       "    <tr>\n",
       "      <th>2</th>\n",
       "      <td>food</td>\n",
       "      <td>50410</td>\n",
       "    </tr>\n",
       "    <tr>\n",
       "      <th>3</th>\n",
       "      <td>time</td>\n",
       "      <td>28683</td>\n",
       "    </tr>\n",
       "    <tr>\n",
       "      <th>4</th>\n",
       "      <td>service</td>\n",
       "      <td>23633</td>\n",
       "    </tr>\n",
       "    <tr>\n",
       "      <th>5</th>\n",
       "      <td>love</td>\n",
       "      <td>19774</td>\n",
       "    </tr>\n",
       "    <tr>\n",
       "      <th>6</th>\n",
       "      <td>nice</td>\n",
       "      <td>18475</td>\n",
       "    </tr>\n",
       "    <tr>\n",
       "      <th>7</th>\n",
       "      <td>menu</td>\n",
       "      <td>18262</td>\n",
       "    </tr>\n",
       "    <tr>\n",
       "      <th>8</th>\n",
       "      <td>pretty</td>\n",
       "      <td>16828</td>\n",
       "    </tr>\n",
       "    <tr>\n",
       "      <th>9</th>\n",
       "      <td>bar</td>\n",
       "      <td>16221</td>\n",
       "    </tr>\n",
       "    <tr>\n",
       "      <th>10</th>\n",
       "      <td>chicken</td>\n",
       "      <td>15716</td>\n",
       "    </tr>\n",
       "    <tr>\n",
       "      <th>11</th>\n",
       "      <td>restaurant</td>\n",
       "      <td>14619</td>\n",
       "    </tr>\n",
       "    <tr>\n",
       "      <th>12</th>\n",
       "      <td>cheese</td>\n",
       "      <td>14202</td>\n",
       "    </tr>\n",
       "    <tr>\n",
       "      <th>13</th>\n",
       "      <td>people</td>\n",
       "      <td>13959</td>\n",
       "    </tr>\n",
       "    <tr>\n",
       "      <th>14</th>\n",
       "      <td>lunch</td>\n",
       "      <td>13323</td>\n",
       "    </tr>\n",
       "    <tr>\n",
       "      <th>15</th>\n",
       "      <td>night</td>\n",
       "      <td>13036</td>\n",
       "    </tr>\n",
       "    <tr>\n",
       "      <th>16</th>\n",
       "      <td>delicious</td>\n",
       "      <td>12970</td>\n",
       "    </tr>\n",
       "    <tr>\n",
       "      <th>17</th>\n",
       "      <td>salad</td>\n",
       "      <td>12699</td>\n",
       "    </tr>\n",
       "    <tr>\n",
       "      <th>18</th>\n",
       "      <td>pizza</td>\n",
       "      <td>12444</td>\n",
       "    </tr>\n",
       "    <tr>\n",
       "      <th>19</th>\n",
       "      <td>happy</td>\n",
       "      <td>11818</td>\n",
       "    </tr>\n",
       "    <tr>\n",
       "      <th>20</th>\n",
       "      <td>sauce</td>\n",
       "      <td>11753</td>\n",
       "    </tr>\n",
       "    <tr>\n",
       "      <th>21</th>\n",
       "      <td>fresh</td>\n",
       "      <td>11173</td>\n",
       "    </tr>\n",
       "    <tr>\n",
       "      <th>22</th>\n",
       "      <td>eat</td>\n",
       "      <td>10330</td>\n",
       "    </tr>\n",
       "    <tr>\n",
       "      <th>23</th>\n",
       "      <td>wait</td>\n",
       "      <td>10269</td>\n",
       "    </tr>\n",
       "    <tr>\n",
       "      <th>24</th>\n",
       "      <td>table</td>\n",
       "      <td>10252</td>\n",
       "    </tr>\n",
       "    <tr>\n",
       "      <th>25</th>\n",
       "      <td>bit</td>\n",
       "      <td>10237</td>\n",
       "    </tr>\n",
       "    <tr>\n",
       "      <th>26</th>\n",
       "      <td>friendly</td>\n",
       "      <td>9957</td>\n",
       "    </tr>\n",
       "    <tr>\n",
       "      <th>27</th>\n",
       "      <td>meal</td>\n",
       "      <td>9661</td>\n",
       "    </tr>\n",
       "    <tr>\n",
       "      <th>28</th>\n",
       "      <td>hour</td>\n",
       "      <td>9632</td>\n",
       "    </tr>\n",
       "    <tr>\n",
       "      <th>29</th>\n",
       "      <td>dinner</td>\n",
       "      <td>9540</td>\n",
       "    </tr>\n",
       "    <tr>\n",
       "      <th>...</th>\n",
       "      <td>...</td>\n",
       "      <td>...</td>\n",
       "    </tr>\n",
       "    <tr>\n",
       "      <th>95940</th>\n",
       "      <td>medium-hot</td>\n",
       "      <td>1</td>\n",
       "    </tr>\n",
       "    <tr>\n",
       "      <th>95941</th>\n",
       "      <td>amateure</td>\n",
       "      <td>1</td>\n",
       "    </tr>\n",
       "    <tr>\n",
       "      <th>95942</th>\n",
       "      <td>interupting</td>\n",
       "      <td>1</td>\n",
       "    </tr>\n",
       "    <tr>\n",
       "      <th>95943</th>\n",
       "      <td>spang</td>\n",
       "      <td>1</td>\n",
       "    </tr>\n",
       "    <tr>\n",
       "      <th>95944</th>\n",
       "      <td>plaza-style</td>\n",
       "      <td>1</td>\n",
       "    </tr>\n",
       "    <tr>\n",
       "      <th>95945</th>\n",
       "      <td>dessert-like</td>\n",
       "      <td>1</td>\n",
       "    </tr>\n",
       "    <tr>\n",
       "      <th>95946</th>\n",
       "      <td>or.dominoes</td>\n",
       "      <td>1</td>\n",
       "    </tr>\n",
       "    <tr>\n",
       "      <th>95947</th>\n",
       "      <td>self-image</td>\n",
       "      <td>1</td>\n",
       "    </tr>\n",
       "    <tr>\n",
       "      <th>95948</th>\n",
       "      <td>other/boyfriend/husband</td>\n",
       "      <td>1</td>\n",
       "    </tr>\n",
       "    <tr>\n",
       "      <th>95949</th>\n",
       "      <td>telepathy</td>\n",
       "      <td>1</td>\n",
       "    </tr>\n",
       "    <tr>\n",
       "      <th>95950</th>\n",
       "      <td>5-star-review-bar</td>\n",
       "      <td>1</td>\n",
       "    </tr>\n",
       "    <tr>\n",
       "      <th>95951</th>\n",
       "      <td>me-really-for</td>\n",
       "      <td>1</td>\n",
       "    </tr>\n",
       "    <tr>\n",
       "      <th>95952</th>\n",
       "      <td>+43</td>\n",
       "      <td>1</td>\n",
       "    </tr>\n",
       "    <tr>\n",
       "      <th>95953</th>\n",
       "      <td>?!!?!?</td>\n",
       "      <td>1</td>\n",
       "    </tr>\n",
       "    <tr>\n",
       "      <th>95954</th>\n",
       "      <td>greenbacks</td>\n",
       "      <td>1</td>\n",
       "    </tr>\n",
       "    <tr>\n",
       "      <th>95955</th>\n",
       "      <td>buslines</td>\n",
       "      <td>1</td>\n",
       "    </tr>\n",
       "    <tr>\n",
       "      <th>95956</th>\n",
       "      <td>marjerle</td>\n",
       "      <td>1</td>\n",
       "    </tr>\n",
       "    <tr>\n",
       "      <th>95957</th>\n",
       "      <td>vigorish</td>\n",
       "      <td>1</td>\n",
       "    </tr>\n",
       "    <tr>\n",
       "      <th>95958</th>\n",
       "      <td>johny-on-the-spot</td>\n",
       "      <td>1</td>\n",
       "    </tr>\n",
       "    <tr>\n",
       "      <th>95959</th>\n",
       "      <td>room-like</td>\n",
       "      <td>1</td>\n",
       "    </tr>\n",
       "    <tr>\n",
       "      <th>95960</th>\n",
       "      <td>early-60s</td>\n",
       "      <td>1</td>\n",
       "    </tr>\n",
       "    <tr>\n",
       "      <th>95961</th>\n",
       "      <td>urbanspoon</td>\n",
       "      <td>1</td>\n",
       "    </tr>\n",
       "    <tr>\n",
       "      <th>95962</th>\n",
       "      <td>blackstreet</td>\n",
       "      <td>1</td>\n",
       "    </tr>\n",
       "    <tr>\n",
       "      <th>95963</th>\n",
       "      <td>dayumn</td>\n",
       "      <td>1</td>\n",
       "    </tr>\n",
       "    <tr>\n",
       "      <th>95964</th>\n",
       "      <td>www.tradicionesrestaurant.com</td>\n",
       "      <td>1</td>\n",
       "    </tr>\n",
       "    <tr>\n",
       "      <th>95965</th>\n",
       "      <td>fawkes</td>\n",
       "      <td>1</td>\n",
       "    </tr>\n",
       "    <tr>\n",
       "      <th>95966</th>\n",
       "      <td>notecards</td>\n",
       "      <td>1</td>\n",
       "    </tr>\n",
       "    <tr>\n",
       "      <th>95967</th>\n",
       "      <td>highly-recommended</td>\n",
       "      <td>1</td>\n",
       "    </tr>\n",
       "    <tr>\n",
       "      <th>95968</th>\n",
       "      <td>royce</td>\n",
       "      <td>1</td>\n",
       "    </tr>\n",
       "    <tr>\n",
       "      <th>95969</th>\n",
       "      <td>co-chair</td>\n",
       "      <td>1</td>\n",
       "    </tr>\n",
       "  </tbody>\n",
       "</table>\n",
       "<p>95970 rows × 2 columns</p>\n",
       "</div>"
      ],
      "text/plain": [
       "                               words  count\n",
       "0                              -rrb-  57854\n",
       "1                              -lrb-  52751\n",
       "2                               food  50410\n",
       "3                               time  28683\n",
       "4                            service  23633\n",
       "5                               love  19774\n",
       "6                               nice  18475\n",
       "7                               menu  18262\n",
       "8                             pretty  16828\n",
       "9                                bar  16221\n",
       "10                           chicken  15716\n",
       "11                        restaurant  14619\n",
       "12                            cheese  14202\n",
       "13                            people  13959\n",
       "14                             lunch  13323\n",
       "15                             night  13036\n",
       "16                         delicious  12970\n",
       "17                             salad  12699\n",
       "18                             pizza  12444\n",
       "19                             happy  11818\n",
       "20                             sauce  11753\n",
       "21                             fresh  11173\n",
       "22                               eat  10330\n",
       "23                              wait  10269\n",
       "24                             table  10252\n",
       "25                               bit  10237\n",
       "26                          friendly   9957\n",
       "27                              meal   9661\n",
       "28                              hour   9632\n",
       "29                            dinner   9540\n",
       "...                              ...    ...\n",
       "95940                     medium-hot      1\n",
       "95941                       amateure      1\n",
       "95942                    interupting      1\n",
       "95943                          spang      1\n",
       "95944                    plaza-style      1\n",
       "95945                   dessert-like      1\n",
       "95946                    or.dominoes      1\n",
       "95947                     self-image      1\n",
       "95948        other/boyfriend/husband      1\n",
       "95949                      telepathy      1\n",
       "95950              5-star-review-bar      1\n",
       "95951                  me-really-for      1\n",
       "95952                            +43      1\n",
       "95953                         ?!!?!?      1\n",
       "95954                     greenbacks      1\n",
       "95955                       buslines      1\n",
       "95956                       marjerle      1\n",
       "95957                       vigorish      1\n",
       "95958              johny-on-the-spot      1\n",
       "95959                      room-like      1\n",
       "95960                      early-60s      1\n",
       "95961                     urbanspoon      1\n",
       "95962                    blackstreet      1\n",
       "95963                         dayumn      1\n",
       "95964  www.tradicionesrestaurant.com      1\n",
       "95965                         fawkes      1\n",
       "95966                      notecards      1\n",
       "95967             highly-recommended      1\n",
       "95968                          royce      1\n",
       "95969                       co-chair      1\n",
       "\n",
       "[95970 rows x 2 columns]"
      ]
     },
     "execution_count": 143,
     "metadata": {},
     "output_type": "execute_result"
    }
   ],
   "source": [
    "#根据Counter统计的词频初始化df\n",
    "df = DF.from_dict(Counter(all_word_mix), orient='index').reset_index()\n",
    "#根据count值降序排序\n",
    "df = df.rename(columns={'index':'words',\n",
    "                              0:'count'}).sort_values([\"count\"],ascending=False).reset_index(drop=True) \n",
    "df"
   ]
  },
  {
   "cell_type": "code",
   "execution_count": 141,
   "metadata": {
    "ExecuteTime": {
     "end_time": "2017-12-28T12:01:06.428249Z",
     "start_time": "2017-12-28T12:01:06.398228Z"
    }
   },
   "outputs": [
    {
     "data": {
      "text/plain": [
       "(1334, 2)"
      ]
     },
     "execution_count": 141,
     "metadata": {},
     "output_type": "execute_result"
    },
    {
     "data": {
      "text/html": [
       "<div>\n",
       "<table border=\"1\" class=\"dataframe\">\n",
       "  <thead>\n",
       "    <tr style=\"text-align: right;\">\n",
       "      <th></th>\n",
       "      <th>words</th>\n",
       "      <th>count</th>\n",
       "    </tr>\n",
       "  </thead>\n",
       "  <tbody>\n",
       "    <tr>\n",
       "      <th>0</th>\n",
       "      <td>time</td>\n",
       "      <td>28683</td>\n",
       "    </tr>\n",
       "    <tr>\n",
       "      <th>1</th>\n",
       "      <td>service</td>\n",
       "      <td>23633</td>\n",
       "    </tr>\n",
       "    <tr>\n",
       "      <th>2</th>\n",
       "      <td>love</td>\n",
       "      <td>19774</td>\n",
       "    </tr>\n",
       "    <tr>\n",
       "      <th>3</th>\n",
       "      <td>nice</td>\n",
       "      <td>18475</td>\n",
       "    </tr>\n",
       "    <tr>\n",
       "      <th>4</th>\n",
       "      <td>menu</td>\n",
       "      <td>18262</td>\n",
       "    </tr>\n",
       "    <tr>\n",
       "      <th>5</th>\n",
       "      <td>pretty</td>\n",
       "      <td>16828</td>\n",
       "    </tr>\n",
       "    <tr>\n",
       "      <th>6</th>\n",
       "      <td>bar</td>\n",
       "      <td>16221</td>\n",
       "    </tr>\n",
       "    <tr>\n",
       "      <th>7</th>\n",
       "      <td>chicken</td>\n",
       "      <td>15716</td>\n",
       "    </tr>\n",
       "    <tr>\n",
       "      <th>8</th>\n",
       "      <td>restaurant</td>\n",
       "      <td>14619</td>\n",
       "    </tr>\n",
       "    <tr>\n",
       "      <th>9</th>\n",
       "      <td>cheese</td>\n",
       "      <td>14202</td>\n",
       "    </tr>\n",
       "    <tr>\n",
       "      <th>10</th>\n",
       "      <td>people</td>\n",
       "      <td>13959</td>\n",
       "    </tr>\n",
       "    <tr>\n",
       "      <th>11</th>\n",
       "      <td>lunch</td>\n",
       "      <td>13323</td>\n",
       "    </tr>\n",
       "    <tr>\n",
       "      <th>12</th>\n",
       "      <td>night</td>\n",
       "      <td>13036</td>\n",
       "    </tr>\n",
       "    <tr>\n",
       "      <th>13</th>\n",
       "      <td>delicious</td>\n",
       "      <td>12970</td>\n",
       "    </tr>\n",
       "    <tr>\n",
       "      <th>14</th>\n",
       "      <td>salad</td>\n",
       "      <td>12699</td>\n",
       "    </tr>\n",
       "    <tr>\n",
       "      <th>15</th>\n",
       "      <td>pizza</td>\n",
       "      <td>12444</td>\n",
       "    </tr>\n",
       "    <tr>\n",
       "      <th>16</th>\n",
       "      <td>happy</td>\n",
       "      <td>11818</td>\n",
       "    </tr>\n",
       "    <tr>\n",
       "      <th>17</th>\n",
       "      <td>sauce</td>\n",
       "      <td>11753</td>\n",
       "    </tr>\n",
       "    <tr>\n",
       "      <th>18</th>\n",
       "      <td>fresh</td>\n",
       "      <td>11173</td>\n",
       "    </tr>\n",
       "    <tr>\n",
       "      <th>19</th>\n",
       "      <td>eat</td>\n",
       "      <td>10330</td>\n",
       "    </tr>\n",
       "    <tr>\n",
       "      <th>20</th>\n",
       "      <td>wait</td>\n",
       "      <td>10269</td>\n",
       "    </tr>\n",
       "    <tr>\n",
       "      <th>21</th>\n",
       "      <td>table</td>\n",
       "      <td>10252</td>\n",
       "    </tr>\n",
       "    <tr>\n",
       "      <th>22</th>\n",
       "      <td>bit</td>\n",
       "      <td>10237</td>\n",
       "    </tr>\n",
       "    <tr>\n",
       "      <th>23</th>\n",
       "      <td>friendly</td>\n",
       "      <td>9957</td>\n",
       "    </tr>\n",
       "    <tr>\n",
       "      <th>24</th>\n",
       "      <td>meal</td>\n",
       "      <td>9661</td>\n",
       "    </tr>\n",
       "    <tr>\n",
       "      <th>25</th>\n",
       "      <td>hour</td>\n",
       "      <td>9632</td>\n",
       "    </tr>\n",
       "    <tr>\n",
       "      <th>26</th>\n",
       "      <td>dinner</td>\n",
       "      <td>9540</td>\n",
       "    </tr>\n",
       "    <tr>\n",
       "      <th>27</th>\n",
       "      <td>drinks</td>\n",
       "      <td>9528</td>\n",
       "    </tr>\n",
       "    <tr>\n",
       "      <th>28</th>\n",
       "      <td>day</td>\n",
       "      <td>9347</td>\n",
       "    </tr>\n",
       "    <tr>\n",
       "      <th>29</th>\n",
       "      <td>times</td>\n",
       "      <td>8877</td>\n",
       "    </tr>\n",
       "    <tr>\n",
       "      <th>...</th>\n",
       "      <td>...</td>\n",
       "      <td>...</td>\n",
       "    </tr>\n",
       "    <tr>\n",
       "      <th>1304</th>\n",
       "      <td>stage</td>\n",
       "      <td>513</td>\n",
       "    </tr>\n",
       "    <tr>\n",
       "      <th>1305</th>\n",
       "      <td>dj</td>\n",
       "      <td>513</td>\n",
       "    </tr>\n",
       "    <tr>\n",
       "      <th>1306</th>\n",
       "      <td>relaxed</td>\n",
       "      <td>513</td>\n",
       "    </tr>\n",
       "    <tr>\n",
       "      <th>1307</th>\n",
       "      <td>team</td>\n",
       "      <td>513</td>\n",
       "    </tr>\n",
       "    <tr>\n",
       "      <th>1308</th>\n",
       "      <td>sizes</td>\n",
       "      <td>511</td>\n",
       "    </tr>\n",
       "    <tr>\n",
       "      <th>1309</th>\n",
       "      <td>shell</td>\n",
       "      <td>511</td>\n",
       "    </tr>\n",
       "    <tr>\n",
       "      <th>1310</th>\n",
       "      <td>sampled</td>\n",
       "      <td>511</td>\n",
       "    </tr>\n",
       "    <tr>\n",
       "      <th>1311</th>\n",
       "      <td>accommodating</td>\n",
       "      <td>511</td>\n",
       "    </tr>\n",
       "    <tr>\n",
       "      <th>1312</th>\n",
       "      <td>played</td>\n",
       "      <td>510</td>\n",
       "    </tr>\n",
       "    <tr>\n",
       "      <th>1313</th>\n",
       "      <td>learned</td>\n",
       "      <td>509</td>\n",
       "    </tr>\n",
       "    <tr>\n",
       "      <th>1314</th>\n",
       "      <td>spending</td>\n",
       "      <td>509</td>\n",
       "    </tr>\n",
       "    <tr>\n",
       "      <th>1315</th>\n",
       "      <td>sharing</td>\n",
       "      <td>507</td>\n",
       "    </tr>\n",
       "    <tr>\n",
       "      <th>1316</th>\n",
       "      <td>peach</td>\n",
       "      <td>506</td>\n",
       "    </tr>\n",
       "    <tr>\n",
       "      <th>1317</th>\n",
       "      <td>diners</td>\n",
       "      <td>506</td>\n",
       "    </tr>\n",
       "    <tr>\n",
       "      <th>1318</th>\n",
       "      <td>???</td>\n",
       "      <td>506</td>\n",
       "    </tr>\n",
       "    <tr>\n",
       "      <th>1319</th>\n",
       "      <td>dropped</td>\n",
       "      <td>505</td>\n",
       "    </tr>\n",
       "    <tr>\n",
       "      <th>1320</th>\n",
       "      <td>compare</td>\n",
       "      <td>504</td>\n",
       "    </tr>\n",
       "    <tr>\n",
       "      <th>1321</th>\n",
       "      <td>culinary</td>\n",
       "      <td>504</td>\n",
       "    </tr>\n",
       "    <tr>\n",
       "      <th>1322</th>\n",
       "      <td>buying</td>\n",
       "      <td>504</td>\n",
       "    </tr>\n",
       "    <tr>\n",
       "      <th>1323</th>\n",
       "      <td>stood</td>\n",
       "      <td>504</td>\n",
       "    </tr>\n",
       "    <tr>\n",
       "      <th>1324</th>\n",
       "      <td>management</td>\n",
       "      <td>503</td>\n",
       "    </tr>\n",
       "    <tr>\n",
       "      <th>1325</th>\n",
       "      <td>pizzeria</td>\n",
       "      <td>503</td>\n",
       "    </tr>\n",
       "    <tr>\n",
       "      <th>1326</th>\n",
       "      <td>wear</td>\n",
       "      <td>502</td>\n",
       "    </tr>\n",
       "    <tr>\n",
       "      <th>1327</th>\n",
       "      <td>fault</td>\n",
       "      <td>502</td>\n",
       "    </tr>\n",
       "    <tr>\n",
       "      <th>1328</th>\n",
       "      <td>pictures</td>\n",
       "      <td>502</td>\n",
       "    </tr>\n",
       "    <tr>\n",
       "      <th>1329</th>\n",
       "      <td>steamed</td>\n",
       "      <td>502</td>\n",
       "    </tr>\n",
       "    <tr>\n",
       "      <th>1330</th>\n",
       "      <td>shake</td>\n",
       "      <td>501</td>\n",
       "    </tr>\n",
       "    <tr>\n",
       "      <th>1331</th>\n",
       "      <td>fondue</td>\n",
       "      <td>501</td>\n",
       "    </tr>\n",
       "    <tr>\n",
       "      <th>1332</th>\n",
       "      <td>cards</td>\n",
       "      <td>500</td>\n",
       "    </tr>\n",
       "    <tr>\n",
       "      <th>1333</th>\n",
       "      <td>miles</td>\n",
       "      <td>500</td>\n",
       "    </tr>\n",
       "  </tbody>\n",
       "</table>\n",
       "<p>1334 rows × 2 columns</p>\n",
       "</div>"
      ],
      "text/plain": [
       "              words  count\n",
       "0              time  28683\n",
       "1           service  23633\n",
       "2              love  19774\n",
       "3              nice  18475\n",
       "4              menu  18262\n",
       "5            pretty  16828\n",
       "6               bar  16221\n",
       "7           chicken  15716\n",
       "8        restaurant  14619\n",
       "9            cheese  14202\n",
       "10           people  13959\n",
       "11            lunch  13323\n",
       "12            night  13036\n",
       "13        delicious  12970\n",
       "14            salad  12699\n",
       "15            pizza  12444\n",
       "16            happy  11818\n",
       "17            sauce  11753\n",
       "18            fresh  11173\n",
       "19              eat  10330\n",
       "20             wait  10269\n",
       "21            table  10252\n",
       "22              bit  10237\n",
       "23         friendly   9957\n",
       "24             meal   9661\n",
       "25             hour   9632\n",
       "26           dinner   9540\n",
       "27           drinks   9528\n",
       "28              day   9347\n",
       "29            times   8877\n",
       "...             ...    ...\n",
       "1304          stage    513\n",
       "1305             dj    513\n",
       "1306        relaxed    513\n",
       "1307           team    513\n",
       "1308          sizes    511\n",
       "1309          shell    511\n",
       "1310        sampled    511\n",
       "1311  accommodating    511\n",
       "1312         played    510\n",
       "1313        learned    509\n",
       "1314       spending    509\n",
       "1315        sharing    507\n",
       "1316          peach    506\n",
       "1317         diners    506\n",
       "1318            ???    506\n",
       "1319        dropped    505\n",
       "1320        compare    504\n",
       "1321       culinary    504\n",
       "1322         buying    504\n",
       "1323          stood    504\n",
       "1324     management    503\n",
       "1325       pizzeria    503\n",
       "1326           wear    502\n",
       "1327          fault    502\n",
       "1328       pictures    502\n",
       "1329        steamed    502\n",
       "1330          shake    501\n",
       "1331         fondue    501\n",
       "1332          cards    500\n",
       "1333          miles    500\n",
       "\n",
       "[1334 rows x 2 columns]"
      ]
     },
     "execution_count": 141,
     "metadata": {},
     "output_type": "execute_result"
    }
   ],
   "source": [
    "low, high = 500, 50000\n",
    "df2 = df[low <= df['count']]\n",
    "df2 = df2[df2['count'] <= high].reset_index(drop=True) \n",
    "df2.shape\n",
    "df2"
   ]
  },
  {
   "cell_type": "code",
   "execution_count": 167,
   "metadata": {
    "ExecuteTime": {
     "end_time": "2017-12-28T12:32:54.513898Z",
     "start_time": "2017-12-28T12:32:54.494887Z"
    },
    "scrolled": false
   },
   "outputs": [
    {
     "data": {
      "text/html": [
       "<div>\n",
       "<table border=\"1\" class=\"dataframe\">\n",
       "  <thead>\n",
       "    <tr style=\"text-align: right;\">\n",
       "      <th></th>\n",
       "      <th>words</th>\n",
       "    </tr>\n",
       "  </thead>\n",
       "  <tbody>\n",
       "    <tr>\n",
       "      <th>0</th>\n",
       "      <td>time</td>\n",
       "    </tr>\n",
       "    <tr>\n",
       "      <th>1</th>\n",
       "      <td>service</td>\n",
       "    </tr>\n",
       "    <tr>\n",
       "      <th>2</th>\n",
       "      <td>love</td>\n",
       "    </tr>\n",
       "    <tr>\n",
       "      <th>3</th>\n",
       "      <td>nice</td>\n",
       "    </tr>\n",
       "    <tr>\n",
       "      <th>4</th>\n",
       "      <td>menu</td>\n",
       "    </tr>\n",
       "    <tr>\n",
       "      <th>5</th>\n",
       "      <td>pretty</td>\n",
       "    </tr>\n",
       "    <tr>\n",
       "      <th>6</th>\n",
       "      <td>bar</td>\n",
       "    </tr>\n",
       "    <tr>\n",
       "      <th>7</th>\n",
       "      <td>chicken</td>\n",
       "    </tr>\n",
       "    <tr>\n",
       "      <th>8</th>\n",
       "      <td>restaurant</td>\n",
       "    </tr>\n",
       "    <tr>\n",
       "      <th>9</th>\n",
       "      <td>cheese</td>\n",
       "    </tr>\n",
       "    <tr>\n",
       "      <th>10</th>\n",
       "      <td>people</td>\n",
       "    </tr>\n",
       "    <tr>\n",
       "      <th>11</th>\n",
       "      <td>lunch</td>\n",
       "    </tr>\n",
       "    <tr>\n",
       "      <th>12</th>\n",
       "      <td>night</td>\n",
       "    </tr>\n",
       "    <tr>\n",
       "      <th>13</th>\n",
       "      <td>delicious</td>\n",
       "    </tr>\n",
       "    <tr>\n",
       "      <th>14</th>\n",
       "      <td>salad</td>\n",
       "    </tr>\n",
       "    <tr>\n",
       "      <th>15</th>\n",
       "      <td>pizza</td>\n",
       "    </tr>\n",
       "    <tr>\n",
       "      <th>16</th>\n",
       "      <td>happy</td>\n",
       "    </tr>\n",
       "    <tr>\n",
       "      <th>17</th>\n",
       "      <td>sauce</td>\n",
       "    </tr>\n",
       "    <tr>\n",
       "      <th>18</th>\n",
       "      <td>fresh</td>\n",
       "    </tr>\n",
       "    <tr>\n",
       "      <th>19</th>\n",
       "      <td>eat</td>\n",
       "    </tr>\n",
       "  </tbody>\n",
       "</table>\n",
       "</div>"
      ],
      "text/plain": [
       "         words\n",
       "0         time\n",
       "1      service\n",
       "2         love\n",
       "3         nice\n",
       "4         menu\n",
       "5       pretty\n",
       "6          bar\n",
       "7      chicken\n",
       "8   restaurant\n",
       "9       cheese\n",
       "10      people\n",
       "11       lunch\n",
       "12       night\n",
       "13   delicious\n",
       "14       salad\n",
       "15       pizza\n",
       "16       happy\n",
       "17       sauce\n",
       "18       fresh\n",
       "19         eat"
      ]
     },
     "execution_count": 167,
     "metadata": {},
     "output_type": "execute_result"
    }
   ],
   "source": [
    "df3 = df2.drop([\"count\"], axis=1)\n",
    "df3.head(20)"
   ]
  },
  {
   "cell_type": "markdown",
   "metadata": {},
   "source": [
    "## 去除数字以及其他无用词汇"
   ]
  },
  {
   "cell_type": "code",
   "execution_count": 159,
   "metadata": {
    "ExecuteTime": {
     "end_time": "2017-12-28T12:27:38.408014Z",
     "start_time": "2017-12-28T12:27:38.394986Z"
    },
    "collapsed": true
   },
   "outputs": [],
   "source": [
    "# df3.to_csv(\"temp.csv\")"
   ]
  },
  {
   "cell_type": "code",
   "execution_count": 190,
   "metadata": {
    "ExecuteTime": {
     "end_time": "2017-12-28T12:44:52.714852Z",
     "start_time": "2017-12-28T12:44:52.694837Z"
    }
   },
   "outputs": [
    {
     "data": {
      "text/plain": [
       "(1334, 1)"
      ]
     },
     "execution_count": 190,
     "metadata": {},
     "output_type": "execute_result"
    },
    {
     "data": {
      "text/plain": [
       "(1316,)"
      ]
     },
     "execution_count": 190,
     "metadata": {},
     "output_type": "execute_result"
    }
   ],
   "source": [
    "df3.shape\n",
    "df4 = df3[\"words\"].apply(lambda x: re.sub(\"[0-9||\\.||\\?||!]*\", \"\", x))\n",
    "df4 = df4[df4 != \"\"]\n",
    "df4.shape"
   ]
  },
  {
   "cell_type": "code",
   "execution_count": 189,
   "metadata": {
    "ExecuteTime": {
     "end_time": "2017-12-28T12:43:43.682378Z",
     "start_time": "2017-12-28T12:43:43.676374Z"
    }
   },
   "outputs": [
    {
     "data": {
      "text/plain": [
       "array(['time', 'service', 'love', ..., 'fondue', 'cards', 'miles'], dtype=object)"
      ]
     },
     "execution_count": 189,
     "metadata": {},
     "output_type": "execute_result"
    }
   ],
   "source": [
    "all_word_unique = df4.values\n",
    "all_word_unique"
   ]
  },
  {
   "cell_type": "markdown",
   "metadata": {},
   "source": [
    "## 测试-1\n",
    "\n",
    "检查训练集和测试集的词的不重复数"
   ]
  },
  {
   "cell_type": "code",
   "execution_count": 113,
   "metadata": {
    "ExecuteTime": {
     "end_time": "2017-12-28T10:51:10.604352Z",
     "start_time": "2017-12-28T10:51:09.991327Z"
    }
   },
   "outputs": [
    {
     "data": {
      "text/plain": [
       "(89453, 31612, 57841)"
      ]
     },
     "execution_count": 113,
     "metadata": {},
     "output_type": "execute_result"
    },
    {
     "name": "stdout",
     "output_type": "stream",
     "text": [
      "number of words in train but not in test:  64358\n",
      "number of words in test but not in train:  6517\n"
     ]
    },
    {
     "data": {
      "text/plain": [
       "95970"
      ]
     },
     "execution_count": 113,
     "metadata": {},
     "output_type": "execute_result"
    }
   ],
   "source": [
    "all_word_train = set(all_word_train_mix)\n",
    "all_word_test = set(all_word_test_mix)\n",
    "\n",
    "len(all_word_train), len(all_word_test), (len(all_word_train) - len(all_word_test))\n",
    "\n",
    "diff1 = all_word_train.difference(all_word_test)\n",
    "diff2 = all_word_test.difference(all_word_train)\n",
    "\n",
    "print(\"number of words in train but not in test: \", len(diff1))\n",
    "print(\"number of words in test but not in train: \", len(diff2))\n",
    "\n",
    "all_word = all_word_train.union(all_word_test)\n",
    "len(all_word)"
   ]
  },
  {
   "cell_type": "markdown",
   "metadata": {},
   "source": [
    "## 测试-2\n",
    "检查词频分布"
   ]
  },
  {
   "cell_type": "code",
   "execution_count": 129,
   "metadata": {
    "ExecuteTime": {
     "end_time": "2017-12-28T11:41:31.976634Z",
     "start_time": "2017-12-28T11:41:29.617937Z"
    }
   },
   "outputs": [
    {
     "name": "stdout",
     "output_type": "stream",
     "text": [
      "max frequent word and count:  ('-rrb-', 57854)\n",
      "min frequent word and count:  ('cocktails', 1404)\n",
      "frequent word count:  1996109\n",
      "total word count:  3936977\n",
      "remain word count:  1940868\n",
      "rate:50.70157%\n",
      "max frequent word and count:  ('-rrb-', 57854)\n",
      "min frequent word and count:  ('candeliar', 1)\n",
      "frequent word count:  3891007\n",
      "total word count:  3936977\n",
      "remain word count:  45970\n",
      "rate:98.83235%\n"
     ]
    }
   ],
   "source": [
    "def show_common_word_rate(lst, k):\n",
    "    word_counter = Counter(lst)\n",
    "    cnt = 0\n",
    "    tot_cnt = len(lst)\n",
    "    common_pair = word_counter.most_common(k)\n",
    "    for key, val in common_pair:\n",
    "        cnt += val\n",
    "    print(\"max frequent word and count: \", common_pair[0])\n",
    "    print(\"min frequent word and count: \", common_pair[-1])\n",
    "    print(\"frequent word count: \", cnt)\n",
    "    print(\"total word count: \", tot_cnt)\n",
    "    print(\"remain word count: \", tot_cnt-cnt)\n",
    "    print(\"rate:%.5f%%\" % (cnt/tot_cnt*100))\n",
    "\n",
    "#测试\n",
    "#show_common_word_rate([1,2,3,4,2,2], 2)\n",
    "show_common_word_rate(all_word_mix, 500)\n",
    "show_common_word_rate(all_word_mix, 50000)"
   ]
  },
  {
   "cell_type": "markdown",
   "metadata": {},
   "source": [
    "# 得到TF-IDF矩阵"
   ]
  },
  {
   "cell_type": "code",
   "execution_count": 199,
   "metadata": {
    "ExecuteTime": {
     "end_time": "2017-12-28T13:01:04.273946Z",
     "start_time": "2017-12-28T12:59:32.600339Z"
    }
   },
   "outputs": [
    {
     "name": "stdout",
     "output_type": "stream",
     "text": [
      "\n",
      "\n"
     ]
    },
    {
     "data": {
      "text/plain": [
       "((62522, 1316), (8671, 1316))"
      ]
     },
     "execution_count": 199,
     "metadata": {},
     "output_type": "execute_result"
    }
   ],
   "source": [
    "def getTF(dataSet, allWords):\n",
    "    '''得到输入数据集的TF矩阵'''\n",
    "    def safeDivide(a, b):\n",
    "        return a/b if b!=0 else 0\n",
    "    \n",
    "    TF=[]\n",
    "    for index in tnrange(len(dataSet)):\n",
    "        TF.append([])\n",
    "        wordCounter = Counter(dataSet[index])\n",
    "        for word in allWords:\n",
    "            TF[index].append(safeDivide(wordCounter.get(word,0), len(dataSet[index])))\n",
    "    return arr(TF)\n",
    "\n",
    "train_TF = getTF(train_articles, all_word_unique)\n",
    "test_TF = getTF(test_articles, all_word_unique)\n",
    "\n",
    "train_TF.shape, test_TF.shape"
   ]
  },
  {
   "cell_type": "code",
   "execution_count": 220,
   "metadata": {
    "ExecuteTime": {
     "end_time": "2017-12-29T06:53:41.135683Z",
     "start_time": "2017-12-29T06:48:12.908822Z"
    },
    "collapsed": true
   },
   "outputs": [],
   "source": [
    "dirPath = \"data preprocessed\\\\tf-idf\"\n",
    "if not os.path.exists(dirPath):\n",
    "    os.makedirs(dirPath)\n",
    "\n",
    "DF(train_TF).to_csv(dirPath + '\\\\train_tf.csv', index=False, header=False)\n",
    "DF(test_TF).to_csv(dirPath + '\\\\test_tf.csv', index=False, header=False)\n",
    "DF(all_word_unique).to_csv(dirPath + '\\\\all_word_unique.csv', index=False, header=False)"
   ]
  },
  {
   "cell_type": "markdown",
   "metadata": {},
   "source": [
    "这里需要注意，有一些样本去掉停用词后整个都没有数据了，这时候就默认TF那一列都为0了。"
   ]
  },
  {
   "cell_type": "code",
   "execution_count": 200,
   "metadata": {
    "ExecuteTime": {
     "end_time": "2017-12-28T13:01:04.281954Z",
     "start_time": "2017-12-28T13:01:04.275931Z"
    }
   },
   "outputs": [
    {
     "data": {
      "text/plain": [
       "[]"
      ]
     },
     "execution_count": 200,
     "metadata": {},
     "output_type": "execute_result"
    }
   ],
   "source": [
    "train_articles[5773]"
   ]
  },
  {
   "cell_type": "code",
   "execution_count": 205,
   "metadata": {
    "ExecuteTime": {
     "end_time": "2017-12-28T13:16:24.461389Z",
     "start_time": "2017-12-28T13:13:06.648197Z"
    }
   },
   "outputs": [
    {
     "name": "stdout",
     "output_type": "stream",
     "text": [
      "\n",
      "\n"
     ]
    },
    {
     "data": {
      "text/plain": [
       "((1316,), (1316,))"
      ]
     },
     "execution_count": 205,
     "metadata": {},
     "output_type": "execute_result"
    }
   ],
   "source": [
    "import math\n",
    "\n",
    "def getIDF(dataSet, allWords):\n",
    "    '''得到输入数据集的IDF矩阵'''\n",
    "    def calcIDF(num):\n",
    "        '''计算对应数据集的单词的IDF值'''\n",
    "        return math.log(len(dataSet)/(1+num), 2)\n",
    "    \n",
    "    IDF=[]\n",
    "    for i in tnrange(len(allWords)):\n",
    "        cnt = 0\n",
    "        #计算词在每个文档出现的次数\n",
    "        for doc in dataSet: \n",
    "            if allWords[i] in doc:\n",
    "                cnt += 1\n",
    "        IDF.append(calcIDF(cnt))\n",
    "    return arr(IDF)\n",
    "\n",
    "train_IDF = getIDF(train_articles, all_word_unique)\n",
    "test_IDF = getIDF(test_articles, all_word_unique)\n",
    "\n",
    "train_IDF.shape, test_IDF.shape"
   ]
  },
  {
   "cell_type": "code",
   "execution_count": 206,
   "metadata": {
    "ExecuteTime": {
     "end_time": "2017-12-28T13:39:05.290573Z",
     "start_time": "2017-12-28T13:39:04.795223Z"
    }
   },
   "outputs": [
    {
     "data": {
      "text/plain": [
       "((62522, 1316), (8671, 1316))"
      ]
     },
     "execution_count": 206,
     "metadata": {},
     "output_type": "execute_result"
    }
   ],
   "source": [
    "train_TFIDF = train_TF * train_IDF\n",
    "test_TFIDF = test_TF * test_IDF\n",
    "\n",
    "train_TFIDF.shape, test_TFIDF.shape"
   ]
  },
  {
   "cell_type": "markdown",
   "metadata": {},
   "source": [
    "## 划分数据集"
   ]
  },
  {
   "cell_type": "code",
   "execution_count": 208,
   "metadata": {
    "ExecuteTime": {
     "end_time": "2017-12-28T13:53:47.953591Z",
     "start_time": "2017-12-28T13:53:47.883541Z"
    }
   },
   "outputs": [
    {
     "data": {
      "text/plain": [
       "((43766, 1316), (18756, 1316))"
      ]
     },
     "execution_count": 208,
     "metadata": {},
     "output_type": "execute_result"
    }
   ],
   "source": [
    "#划分比例\n",
    "splitRate = 0.3\n",
    "#划分的数目\n",
    "splitNum = int(train_TFIDF.shape[0]*splitRate) \n",
    "#得到 训练集 和验证集\n",
    "trainSet = train_TFIDF[:-splitNum]\n",
    "validateSet = train_TFIDF[-splitNum:]\n",
    "\n",
    "trainSet.shape, validateSet.shape"
   ]
  },
  {
   "cell_type": "code",
   "execution_count": 210,
   "metadata": {
    "ExecuteTime": {
     "end_time": "2017-12-28T13:57:47.550067Z",
     "start_time": "2017-12-28T13:57:44.468873Z"
    }
   },
   "outputs": [
    {
     "data": {
      "text/plain": [
       "((43766,), (18756,))"
      ]
     },
     "execution_count": 210,
     "metadata": {},
     "output_type": "execute_result"
    }
   ],
   "source": [
    "train_labels = arr(train_labels)\n",
    "test_labels = arr(test_labels)\n",
    "\n",
    "trainSetLabel = train_labels[:-splitNum]\n",
    "validateSetLabel = train_labels[-splitNum:]\n",
    "\n",
    "trainSetLabel.shape, validateSetLabel.shape"
   ]
  },
  {
   "cell_type": "code",
   "execution_count": 218,
   "metadata": {
    "ExecuteTime": {
     "end_time": "2017-12-28T19:50:10.376827Z",
     "start_time": "2017-12-28T19:50:10.360797Z"
    }
   },
   "outputs": [
    {
     "data": {
      "text/html": [
       "<div>\n",
       "<table border=\"1\" class=\"dataframe\">\n",
       "  <thead>\n",
       "    <tr style=\"text-align: right;\">\n",
       "      <th></th>\n",
       "      <th>0</th>\n",
       "    </tr>\n",
       "  </thead>\n",
       "  <tbody>\n",
       "    <tr>\n",
       "      <th>0</th>\n",
       "      <td>0</td>\n",
       "    </tr>\n",
       "    <tr>\n",
       "      <th>1</th>\n",
       "      <td>2</td>\n",
       "    </tr>\n",
       "    <tr>\n",
       "      <th>2</th>\n",
       "      <td>0</td>\n",
       "    </tr>\n",
       "    <tr>\n",
       "      <th>3</th>\n",
       "      <td>2</td>\n",
       "    </tr>\n",
       "    <tr>\n",
       "      <th>4</th>\n",
       "      <td>0</td>\n",
       "    </tr>\n",
       "    <tr>\n",
       "      <th>5</th>\n",
       "      <td>0</td>\n",
       "    </tr>\n",
       "    <tr>\n",
       "      <th>6</th>\n",
       "      <td>1</td>\n",
       "    </tr>\n",
       "    <tr>\n",
       "      <th>7</th>\n",
       "      <td>1</td>\n",
       "    </tr>\n",
       "    <tr>\n",
       "      <th>8</th>\n",
       "      <td>0</td>\n",
       "    </tr>\n",
       "    <tr>\n",
       "      <th>9</th>\n",
       "      <td>0</td>\n",
       "    </tr>\n",
       "    <tr>\n",
       "      <th>10</th>\n",
       "      <td>1</td>\n",
       "    </tr>\n",
       "    <tr>\n",
       "      <th>11</th>\n",
       "      <td>0</td>\n",
       "    </tr>\n",
       "    <tr>\n",
       "      <th>12</th>\n",
       "      <td>1</td>\n",
       "    </tr>\n",
       "    <tr>\n",
       "      <th>13</th>\n",
       "      <td>0</td>\n",
       "    </tr>\n",
       "    <tr>\n",
       "      <th>14</th>\n",
       "      <td>0</td>\n",
       "    </tr>\n",
       "    <tr>\n",
       "      <th>15</th>\n",
       "      <td>2</td>\n",
       "    </tr>\n",
       "    <tr>\n",
       "      <th>16</th>\n",
       "      <td>0</td>\n",
       "    </tr>\n",
       "    <tr>\n",
       "      <th>17</th>\n",
       "      <td>1</td>\n",
       "    </tr>\n",
       "    <tr>\n",
       "      <th>18</th>\n",
       "      <td>0</td>\n",
       "    </tr>\n",
       "    <tr>\n",
       "      <th>19</th>\n",
       "      <td>0</td>\n",
       "    </tr>\n",
       "  </tbody>\n",
       "</table>\n",
       "</div>"
      ],
      "text/plain": [
       "    0\n",
       "0   0\n",
       "1   2\n",
       "2   0\n",
       "3   2\n",
       "4   0\n",
       "5   0\n",
       "6   1\n",
       "7   1\n",
       "8   0\n",
       "9   0\n",
       "10  1\n",
       "11  0\n",
       "12  1\n",
       "13  0\n",
       "14  0\n",
       "15  2\n",
       "16  0\n",
       "17  1\n",
       "18  0\n",
       "19  0"
      ]
     },
     "execution_count": 218,
     "metadata": {},
     "output_type": "execute_result"
    }
   ],
   "source": [
    "DF(trainSetLabel[0:20]).replace(\"LOW\",0).replace(\"MID\",1).replace(\"HIG\",2)"
   ]
  },
  {
   "cell_type": "markdown",
   "metadata": {},
   "source": [
    "## 保存结果"
   ]
  },
  {
   "cell_type": "code",
   "execution_count": 212,
   "metadata": {
    "ExecuteTime": {
     "end_time": "2017-12-28T19:41:23.912944Z",
     "start_time": "2017-12-28T19:37:33.499905Z"
    },
    "collapsed": true
   },
   "outputs": [],
   "source": [
    "dirPath = \"data preprocessed\\\\tf-idf\"\n",
    "if not os.path.exists(dirPath):\n",
    "    os.makedirs(dirPath)\n",
    "\n",
    "DF(trainSet).to_csv(dirPath + '\\\\train.csv', index=False, header=False)\n",
    "DF(validateSet).to_csv(dirPath + '\\\\validate.csv', index=False, header=False)\n",
    "DF(test_TFIDF).to_csv(dirPath + '\\\\test.csv', index=False, header=False)"
   ]
  },
  {
   "cell_type": "markdown",
   "metadata": {},
   "source": [
    "输出标签映射为数字。"
   ]
  },
  {
   "cell_type": "code",
   "execution_count": 219,
   "metadata": {
    "ExecuteTime": {
     "end_time": "2017-12-28T19:51:07.692198Z",
     "start_time": "2017-12-28T19:51:07.467039Z"
    },
    "collapsed": true
   },
   "outputs": [],
   "source": [
    "trainSetLabel = DF(trainSetLabel).replace(\"LOW\",0).replace(\"MID\",1).replace(\"HIG\",2)\n",
    "validateSetLabel = DF(validateSetLabel).replace(\"LOW\",0).replace(\"MID\",1).replace(\"HIG\",2)\n",
    "\n",
    "DF(trainSetLabel).to_csv(dirPath + '\\\\train_label.csv', index=False, header=False)\n",
    "DF(validateSetLabel).to_csv(dirPath + '\\\\validate_label.csv', index=False, header=False)"
   ]
  }
 ],
 "metadata": {
  "anaconda-cloud": {},
  "kernelspec": {
   "display_name": "Python [conda root]",
   "language": "python",
   "name": "conda-root-py"
  },
  "language_info": {
   "codemirror_mode": {
    "name": "ipython",
    "version": 3
   },
   "file_extension": ".py",
   "mimetype": "text/x-python",
   "name": "python",
   "nbconvert_exporter": "python",
   "pygments_lexer": "ipython3",
   "version": "3.5.2"
  },
  "toc": {
   "nav_menu": {},
   "number_sections": true,
   "sideBar": true,
   "skip_h1_title": false,
   "toc_cell": false,
   "toc_position": {
    "height": "788px",
    "left": "0px",
    "right": "1175px",
    "top": "107px",
    "width": "299px"
   },
   "toc_section_display": "block",
   "toc_window_display": true
  },
  "widgets": {
   "state": {
    "6aa5e91f1cea417f95f14d3e85b74877": {
     "views": [
      {
       "cell_index": 27
      }
     ]
    },
    "c4024ddb433a4c798587b719b461c800": {
     "views": [
      {
       "cell_index": 24
      }
     ]
    },
    "f382bda29e8b4b4788db2f773fdcfadd": {
     "views": [
      {
       "cell_index": 24
      }
     ]
    },
    "f9c95c0ab7ff4ba08e05a357925ccc2c": {
     "views": [
      {
       "cell_index": 27
      }
     ]
    },
    "fd1618414e4e4550bf93c6a5a9181bc4": {
     "views": [
      {
       "cell_index": 27
      }
     ]
    }
   },
   "version": "1.2.0"
  }
 },
 "nbformat": 4,
 "nbformat_minor": 2
}
