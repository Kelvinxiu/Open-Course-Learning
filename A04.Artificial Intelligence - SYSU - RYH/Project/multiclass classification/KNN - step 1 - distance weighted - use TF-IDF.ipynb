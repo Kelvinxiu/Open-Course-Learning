{
 "cells": [
  {
   "cell_type": "code",
   "execution_count": 1,
   "metadata": {
    "ExecuteTime": {
     "end_time": "2017-12-28T19:40:42.303053Z",
     "start_time": "2017-12-28T19:40:34.977905Z"
    },
    "collapsed": true
   },
   "outputs": [],
   "source": [
    "from IPython.core.interactiveshell import InteractiveShell\n",
    "InteractiveShell.ast_node_interactivity = \"all\"\n",
    "\n",
    "from collections import Counter\n",
    "import numpy as np\n",
    "import matplotlib.pyplot as plt\n",
    "from functools import reduce\n",
    "import pdir as pr\n",
    "import pandas as pd\n",
    "import os\n",
    "from tqdm import tqdm, tnrange, tqdm_notebook\n",
    "\n",
    "DF = pd.DataFrame\n",
    "arr = np.array"
   ]
  },
  {
   "cell_type": "markdown",
   "metadata": {},
   "source": [
    "# 读取数据集"
   ]
  },
  {
   "cell_type": "code",
   "execution_count": 35,
   "metadata": {
    "ExecuteTime": {
     "end_time": "2017-12-29T06:42:54.752141Z",
     "start_time": "2017-12-29T06:40:47.298483Z"
    }
   },
   "outputs": [
    {
     "data": {
      "text/plain": [
       "((43766, 1316), (18756, 1316), (8671, 1316))"
      ]
     },
     "execution_count": 35,
     "metadata": {},
     "output_type": "execute_result"
    }
   ],
   "source": [
    "dirPath = \".\\\\data preprocessed\\\\tf-idf\"\n",
    "\n",
    "\n",
    "trainSet = np.loadtxt(dirPath + '\\\\train.csv', delimiter=\",\")\n",
    "trainSetLabel = np.loadtxt(dirPath + '\\\\train_label.csv', delimiter=\",\")\n",
    "\n",
    "validateSet = np.loadtxt(dirPath + '\\\\validate.csv', delimiter=\",\")\n",
    "validateSetLabel = np.loadtxt(dirPath + '\\\\validate_label.csv', delimiter=\",\")\n",
    "\n",
    "testSet = np.loadtxt(dirPath + '\\\\test.csv', delimiter=\",\")\n",
    "\n",
    "trainSet.shape, validateSet.shape, testSet.shape"
   ]
  },
  {
   "cell_type": "markdown",
   "metadata": {},
   "source": [
    "# KNN"
   ]
  },
  {
   "cell_type": "code",
   "execution_count": 16,
   "metadata": {
    "ExecuteTime": {
     "end_time": "2017-12-28T20:17:07.725787Z",
     "start_time": "2017-12-28T20:17:07.622713Z"
    }
   },
   "outputs": [
    {
     "data": {
      "text/plain": [
       "0"
      ]
     },
     "execution_count": 16,
     "metadata": {},
     "output_type": "execute_result"
    }
   ],
   "source": [
    "def knn_classify(dataSet, labels, k, inputVector):\n",
    "    '''使用knn对输入的向量进行分类，使用欧式距离'''\n",
    "    #得到输入向量与数据集的差值的平方\n",
    "    diffMat = (dataSet - inputVector)**2\n",
    "    #计算每一行上元素的和\n",
    "    distancesSquare = diffMat.sum(axis=1)\n",
    "    #可以不用计算距离，用距离的平方也可以，这样效率更高\n",
    "    #print(distancesSquare)\n",
    "    #得到 K 个近邻的下标\n",
    "    kNeighborsIndex  = distancesSquare.argpartition(k-1)[0:k]\n",
    "    \n",
    "    #计算 K 个近邻的距离倒数\n",
    "    kDatas = 1/distancesSquare[kNeighborsIndex]\n",
    "    #得到 对应的 K 个标签\n",
    "    kLabels = labels[kNeighborsIndex]\n",
    "    \n",
    "    predictLabel = np.NAN\n",
    "    maxDis = -np.inf\n",
    "    for i in np.unique(kLabels):\n",
    "        dis = np.sum(kDatas[kLabels==i]) \n",
    "        #print(dis)\n",
    "        if dis > maxDis:\n",
    "            maxDis = dis\n",
    "            predictLabel = i\n",
    "    #返回分类结果\n",
    "    return predictLabel\n",
    "\n",
    "##############测试程序#######################\n",
    "knn_classify(arr([[1,1,0,0],\n",
    "              [0,1,1,1],\n",
    "              [1,0,0,1]]), arr([1, 0, 1]), 3, arr([0,1,1,0]))\n",
    "##############测试程序#######################"
   ]
  },
  {
   "cell_type": "markdown",
   "metadata": {},
   "source": [
    "# 计算平均准确率"
   ]
  },
  {
   "cell_type": "code",
   "execution_count": 22,
   "metadata": {
    "ExecuteTime": {
     "end_time": "2017-12-28T20:30:30.270354Z",
     "start_time": "2017-12-28T20:30:30.259325Z"
    }
   },
   "outputs": [
    {
     "data": {
      "text/plain": [
       "0.3333333333333333"
      ]
     },
     "execution_count": 22,
     "metadata": {},
     "output_type": "execute_result"
    }
   ],
   "source": [
    "def calcAvg(predict, actual):\n",
    "    all_labels = list(set(actual))\n",
    "    tot = 0.0\n",
    "    for i in all_labels:\n",
    "        counter = Counter(predict[actual == i] == i)\n",
    "        hit_num, miss_num = counter[True], counter[False]\n",
    "        tot += hit_num / (hit_num + miss_num)\n",
    "    return tot/len(all_labels)\n",
    "\n",
    "calcAvg(arr([1,2,3]), arr([3,2,1]))"
   ]
  },
  {
   "cell_type": "code",
   "execution_count": 29,
   "metadata": {
    "ExecuteTime": {
     "end_time": "2017-12-29T06:37:28.392572Z",
     "start_time": "2017-12-29T06:37:28.244438Z"
    }
   },
   "outputs": [
    {
     "data": {
      "text/plain": [
       "array([[ 0.        ,  0.        ,  0.        , ...,  0.        ,\n",
       "         0.        ,  0.        ],\n",
       "       [ 0.        ,  0.04894589,  0.        , ...,  0.        ,\n",
       "         0.        ,  0.        ],\n",
       "       [ 0.        ,  0.        ,  0.        , ...,  0.        ,\n",
       "         0.        ,  0.        ],\n",
       "       [ 0.        ,  0.        ,  0.        , ...,  0.        ,\n",
       "         0.        ,  0.        ],\n",
       "       [ 0.03593696,  0.        ,  0.        , ...,  0.        ,\n",
       "         0.        ,  0.        ]])"
      ]
     },
     "execution_count": 29,
     "metadata": {},
     "output_type": "execute_result"
    }
   ],
   "source": [
    "trainSet[0:5,:]"
   ]
  },
  {
   "cell_type": "code",
   "execution_count": 40,
   "metadata": {
    "ExecuteTime": {
     "end_time": "2017-12-29T10:42:06.213855Z",
     "start_time": "2017-12-29T06:44:03.803855Z"
    }
   },
   "outputs": [
    {
     "name": "stdout",
     "output_type": "stream",
     "text": [
      "\r"
     ]
    },
    {
     "data": {
      "text/plain": [
       "0.36832400641365"
      ]
     },
     "execution_count": 40,
     "metadata": {},
     "output_type": "execute_result"
    }
   ],
   "source": [
    "def run_knn_classify(dataSet, k):\n",
    "    ansLabel = []\n",
    "    for i in tnrange(len(dataSet), leave=False):\n",
    "        ansLabel.append(knn_classify(trainSet, trainSetLabel, k, dataSet[i]))\n",
    "    return arr(ansLabel)\n",
    "\n",
    "def getTestAvg(k):\n",
    "    ansLabel = run_knn_classify(validateSet, k)\n",
    "    return calcAvg(ansLabel, validateSetLabel)\n",
    "\n",
    "ansLabel = run_knn_classify(validateSet, 1)\n",
    "calcAvg(ansLabel, validateSetLabel)"
   ]
  }
 ],
 "metadata": {
  "anaconda-cloud": {},
  "kernelspec": {
   "display_name": "Python [conda root]",
   "language": "python",
   "name": "conda-root-py"
  },
  "language_info": {
   "codemirror_mode": {
    "name": "ipython",
    "version": 3
   },
   "file_extension": ".py",
   "mimetype": "text/x-python",
   "name": "python",
   "nbconvert_exporter": "python",
   "pygments_lexer": "ipython3",
   "version": "3.5.2"
  },
  "toc": {
   "nav_menu": {},
   "number_sections": true,
   "sideBar": true,
   "skip_h1_title": false,
   "toc_cell": false,
   "toc_position": {},
   "toc_section_display": "block",
   "toc_window_display": false
  }
 },
 "nbformat": 4,
 "nbformat_minor": 2
}
