{
 "cells": [
  {
   "cell_type": "code",
   "execution_count": 7,
   "metadata": {
    "ExecuteTime": {
     "end_time": "2017-12-29T07:03:11.194718Z",
     "start_time": "2017-12-29T07:03:11.150688Z"
    },
    "collapsed": true
   },
   "outputs": [],
   "source": [
    "from IPython.core.interactiveshell import InteractiveShell\n",
    "InteractiveShell.ast_node_interactivity = \"all\"\n",
    "\n",
    "from collections import Counter\n",
    "import numpy as np\n",
    "import matplotlib.pyplot as plt\n",
    "from functools import reduce\n",
    "import pdir as pr\n",
    "import pandas as pd\n",
    "import os\n",
    "from tqdm import tqdm, tnrange, tqdm_notebook\n",
    "\n",
    "DF = pd.DataFrame\n",
    "arr = np.array\n",
    "\n",
    "import csv"
   ]
  },
  {
   "cell_type": "code",
   "execution_count": 3,
   "metadata": {
    "ExecuteTime": {
     "end_time": "2017-12-29T07:00:27.635052Z",
     "start_time": "2017-12-29T07:00:27.630052Z"
    },
    "collapsed": true
   },
   "outputs": [],
   "source": [
    "dirPath = \"data preprocessed\\\\tf-idf\"\n",
    "dirPath2 = \"data preprocessed\\\\wordvec_6B_50d - TA version\" "
   ]
  },
  {
   "cell_type": "code",
   "execution_count": 10,
   "metadata": {
    "ExecuteTime": {
     "end_time": "2017-12-29T07:09:34.131447Z",
     "start_time": "2017-12-29T07:06:12.231582Z"
    },
    "collapsed": true
   },
   "outputs": [],
   "source": [
    "train_tf = np.loadtxt(dirPath + '\\\\train_tf.csv', delimiter=\",\")\n",
    "test_tf = np.loadtxt(dirPath + '\\\\test_tf.csv', delimiter=\",\")"
   ]
  },
  {
   "cell_type": "code",
   "execution_count": 52,
   "metadata": {
    "ExecuteTime": {
     "end_time": "2017-12-29T12:33:16.561707Z",
     "start_time": "2017-12-29T12:33:16.544698Z"
    }
   },
   "outputs": [
    {
     "data": {
      "text/plain": [
       "((62522, 1312), (8671, 1312))"
      ]
     },
     "execution_count": 52,
     "metadata": {},
     "output_type": "execute_result"
    }
   ],
   "source": [
    "train_tf.shape, test_tf.shape"
   ]
  },
  {
   "cell_type": "code",
   "execution_count": 34,
   "metadata": {
    "ExecuteTime": {
     "end_time": "2017-12-29T07:25:07.018828Z",
     "start_time": "2017-12-29T07:25:07.008822Z"
    },
    "scrolled": true
   },
   "outputs": [
    {
     "data": {
      "text/plain": [
       "1316"
      ]
     },
     "execution_count": 34,
     "metadata": {},
     "output_type": "execute_result"
    }
   ],
   "source": [
    "all_word_unique = open(dirPath + \"\\\\all_word_unique.csv\", \"r\").read().split(\"\\n\")[:-1]\n",
    "len(all_word_unique)"
   ]
  },
  {
   "cell_type": "code",
   "execution_count": 8,
   "metadata": {
    "ExecuteTime": {
     "end_time": "2017-12-29T07:03:22.064335Z",
     "start_time": "2017-12-29T07:03:13.286821Z"
    },
    "collapsed": true
   },
   "outputs": [],
   "source": [
    "word2vec = pd.read_csv(dirPath2 + \"\\\\wordvec_6B_50d.txt\", header = None, delimiter=\" \",\n",
    "                       quoting=csv.QUOTE_NONE, encoding='utf-8')"
   ]
  },
  {
   "cell_type": "code",
   "execution_count": 27,
   "metadata": {
    "ExecuteTime": {
     "end_time": "2017-12-29T07:19:58.250930Z",
     "start_time": "2017-12-29T07:19:18.544966Z"
    }
   },
   "outputs": [
    {
     "data": {
      "text/plain": [
       "0         False\n",
       "1         False\n",
       "2         False\n",
       "3         False\n",
       "4         False\n",
       "5         False\n",
       "6         False\n",
       "7         False\n",
       "8         False\n",
       "9         False\n",
       "10        False\n",
       "11        False\n",
       "12        False\n",
       "13        False\n",
       "14        False\n",
       "15        False\n",
       "16        False\n",
       "17        False\n",
       "18        False\n",
       "19        False\n",
       "20        False\n",
       "21        False\n",
       "22        False\n",
       "23        False\n",
       "24        False\n",
       "25        False\n",
       "26        False\n",
       "27        False\n",
       "28        False\n",
       "29        False\n",
       "          ...  \n",
       "399970    False\n",
       "399971    False\n",
       "399972    False\n",
       "399973    False\n",
       "399974    False\n",
       "399975    False\n",
       "399976    False\n",
       "399977    False\n",
       "399978    False\n",
       "399979    False\n",
       "399980    False\n",
       "399981    False\n",
       "399982    False\n",
       "399983    False\n",
       "399984    False\n",
       "399985    False\n",
       "399986    False\n",
       "399987    False\n",
       "399988    False\n",
       "399989    False\n",
       "399990    False\n",
       "399991    False\n",
       "399992    False\n",
       "399993    False\n",
       "399994    False\n",
       "399995    False\n",
       "399996    False\n",
       "399997    False\n",
       "399998    False\n",
       "399999    False\n",
       "Name: 0, dtype: bool"
      ]
     },
     "execution_count": 27,
     "metadata": {},
     "output_type": "execute_result"
    }
   ],
   "source": [
    "index = word2vec[0] == all_word_unique[0]\n",
    "for i in all_word_unique[1:]:\n",
    "    index |=  word2vec[0] == i\n",
    "index"
   ]
  },
  {
   "cell_type": "code",
   "execution_count": 30,
   "metadata": {
    "ExecuteTime": {
     "end_time": "2017-12-29T07:21:59.446768Z",
     "start_time": "2017-12-29T07:21:59.368714Z"
    }
   },
   "outputs": [
    {
     "data": {
      "text/plain": [
       "(1312, 51)"
      ]
     },
     "execution_count": 30,
     "metadata": {},
     "output_type": "execute_result"
    },
    {
     "data": {
      "text/html": [
       "<div>\n",
       "<table border=\"1\" class=\"dataframe\">\n",
       "  <thead>\n",
       "    <tr style=\"text-align: right;\">\n",
       "      <th></th>\n",
       "      <th>0</th>\n",
       "      <th>1</th>\n",
       "      <th>2</th>\n",
       "      <th>3</th>\n",
       "      <th>4</th>\n",
       "      <th>5</th>\n",
       "      <th>6</th>\n",
       "      <th>7</th>\n",
       "      <th>8</th>\n",
       "      <th>9</th>\n",
       "      <th>...</th>\n",
       "      <th>41</th>\n",
       "      <th>42</th>\n",
       "      <th>43</th>\n",
       "      <th>44</th>\n",
       "      <th>45</th>\n",
       "      <th>46</th>\n",
       "      <th>47</th>\n",
       "      <th>48</th>\n",
       "      <th>49</th>\n",
       "      <th>50</th>\n",
       "    </tr>\n",
       "  </thead>\n",
       "  <tbody>\n",
       "    <tr>\n",
       "      <th>65</th>\n",
       "      <td>--</td>\n",
       "      <td>0.49806</td>\n",
       "      <td>1.23820</td>\n",
       "      <td>0.869760</td>\n",
       "      <td>0.002529</td>\n",
       "      <td>-0.562630</td>\n",
       "      <td>-0.387810</td>\n",
       "      <td>-0.47155</td>\n",
       "      <td>-0.957170</td>\n",
       "      <td>-0.123140</td>\n",
       "      <td>...</td>\n",
       "      <td>-0.92491</td>\n",
       "      <td>1.520500</td>\n",
       "      <td>0.81055</td>\n",
       "      <td>0.059992</td>\n",
       "      <td>0.83629</td>\n",
       "      <td>0.17134</td>\n",
       "      <td>-0.526200</td>\n",
       "      <td>-0.15750</td>\n",
       "      <td>0.17409</td>\n",
       "      <td>0.107900</td>\n",
       "    </tr>\n",
       "    <tr>\n",
       "      <th>69</th>\n",
       "      <td>people</td>\n",
       "      <td>0.95281</td>\n",
       "      <td>-0.20608</td>\n",
       "      <td>0.556180</td>\n",
       "      <td>-0.463230</td>\n",
       "      <td>0.733540</td>\n",
       "      <td>0.029137</td>\n",
       "      <td>-0.19367</td>\n",
       "      <td>-0.090066</td>\n",
       "      <td>-0.229580</td>\n",
       "      <td>...</td>\n",
       "      <td>-0.95447</td>\n",
       "      <td>0.404820</td>\n",
       "      <td>0.89410</td>\n",
       "      <td>0.652510</td>\n",
       "      <td>0.39858</td>\n",
       "      <td>0.20884</td>\n",
       "      <td>-1.328100</td>\n",
       "      <td>-0.10882</td>\n",
       "      <td>-0.22822</td>\n",
       "      <td>-0.463030</td>\n",
       "    </tr>\n",
       "    <tr>\n",
       "      <th>79</th>\n",
       "      <td>time</td>\n",
       "      <td>0.02648</td>\n",
       "      <td>0.33737</td>\n",
       "      <td>0.065667</td>\n",
       "      <td>-0.116090</td>\n",
       "      <td>0.416510</td>\n",
       "      <td>-0.211420</td>\n",
       "      <td>-0.69582</td>\n",
       "      <td>0.282200</td>\n",
       "      <td>-0.360770</td>\n",
       "      <td>...</td>\n",
       "      <td>-0.10344</td>\n",
       "      <td>0.006977</td>\n",
       "      <td>-0.17328</td>\n",
       "      <td>0.355360</td>\n",
       "      <td>-0.46369</td>\n",
       "      <td>0.15285</td>\n",
       "      <td>0.414750</td>\n",
       "      <td>-0.33980</td>\n",
       "      <td>-0.23043</td>\n",
       "      <td>0.190690</td>\n",
       "    </tr>\n",
       "    <tr>\n",
       "      <th>115</th>\n",
       "      <td>city</td>\n",
       "      <td>0.43945</td>\n",
       "      <td>0.43268</td>\n",
       "      <td>-0.366540</td>\n",
       "      <td>0.277810</td>\n",
       "      <td>0.062932</td>\n",
       "      <td>-0.802010</td>\n",
       "      <td>-0.93041</td>\n",
       "      <td>0.016388</td>\n",
       "      <td>-0.550300</td>\n",
       "      <td>...</td>\n",
       "      <td>-0.66711</td>\n",
       "      <td>0.607990</td>\n",
       "      <td>0.23787</td>\n",
       "      <td>-0.653780</td>\n",
       "      <td>-0.70550</td>\n",
       "      <td>0.51650</td>\n",
       "      <td>-1.078000</td>\n",
       "      <td>-0.71524</td>\n",
       "      <td>0.48402</td>\n",
       "      <td>-0.325600</td>\n",
       "    </tr>\n",
       "    <tr>\n",
       "      <th>122</th>\n",
       "      <td>day</td>\n",
       "      <td>0.11626</td>\n",
       "      <td>0.53897</td>\n",
       "      <td>-0.395140</td>\n",
       "      <td>-0.260270</td>\n",
       "      <td>0.577060</td>\n",
       "      <td>-0.791980</td>\n",
       "      <td>-0.88374</td>\n",
       "      <td>0.301190</td>\n",
       "      <td>0.082896</td>\n",
       "      <td>...</td>\n",
       "      <td>-0.87920</td>\n",
       "      <td>0.261340</td>\n",
       "      <td>-0.32132</td>\n",
       "      <td>-0.126520</td>\n",
       "      <td>0.25573</td>\n",
       "      <td>0.32818</td>\n",
       "      <td>0.024073</td>\n",
       "      <td>-0.39062</td>\n",
       "      <td>-0.10885</td>\n",
       "      <td>0.084513</td>\n",
       "    </tr>\n",
       "  </tbody>\n",
       "</table>\n",
       "<p>5 rows × 51 columns</p>\n",
       "</div>"
      ],
      "text/plain": [
       "         0        1        2         3         4         5         6   \\\n",
       "65       --  0.49806  1.23820  0.869760  0.002529 -0.562630 -0.387810   \n",
       "69   people  0.95281 -0.20608  0.556180 -0.463230  0.733540  0.029137   \n",
       "79     time  0.02648  0.33737  0.065667 -0.116090  0.416510 -0.211420   \n",
       "115    city  0.43945  0.43268 -0.366540  0.277810  0.062932 -0.802010   \n",
       "122     day  0.11626  0.53897 -0.395140 -0.260270  0.577060 -0.791980   \n",
       "\n",
       "          7         8         9     ...          41        42       43  \\\n",
       "65  -0.47155 -0.957170 -0.123140    ...    -0.92491  1.520500  0.81055   \n",
       "69  -0.19367 -0.090066 -0.229580    ...    -0.95447  0.404820  0.89410   \n",
       "79  -0.69582  0.282200 -0.360770    ...    -0.10344  0.006977 -0.17328   \n",
       "115 -0.93041  0.016388 -0.550300    ...    -0.66711  0.607990  0.23787   \n",
       "122 -0.88374  0.301190  0.082896    ...    -0.87920  0.261340 -0.32132   \n",
       "\n",
       "           44       45       46        47       48       49        50  \n",
       "65   0.059992  0.83629  0.17134 -0.526200 -0.15750  0.17409  0.107900  \n",
       "69   0.652510  0.39858  0.20884 -1.328100 -0.10882 -0.22822 -0.463030  \n",
       "79   0.355360 -0.46369  0.15285  0.414750 -0.33980 -0.23043  0.190690  \n",
       "115 -0.653780 -0.70550  0.51650 -1.078000 -0.71524  0.48402 -0.325600  \n",
       "122 -0.126520  0.25573  0.32818  0.024073 -0.39062 -0.10885  0.084513  \n",
       "\n",
       "[5 rows x 51 columns]"
      ]
     },
     "execution_count": 30,
     "metadata": {},
     "output_type": "execute_result"
    }
   ],
   "source": [
    "word2vec2 = word2vec[index]\n",
    "word2vec2.shape\n",
    "word2vec2.head()"
   ]
  },
  {
   "cell_type": "code",
   "execution_count": 35,
   "metadata": {
    "ExecuteTime": {
     "end_time": "2017-12-29T07:25:17.815803Z",
     "start_time": "2017-12-29T07:25:17.807799Z"
    }
   },
   "outputs": [
    {
     "data": {
      "text/plain": [
       "{'delish', 'guac', 'phx', 'yelpers'}"
      ]
     },
     "execution_count": 35,
     "metadata": {},
     "output_type": "execute_result"
    }
   ],
   "source": [
    "set(all_word_unique).difference(set(list(word2vec2[0])))"
   ]
  },
  {
   "cell_type": "code",
   "execution_count": 37,
   "metadata": {
    "ExecuteTime": {
     "end_time": "2017-12-29T07:30:23.236968Z",
     "start_time": "2017-12-29T07:30:23.215954Z"
    }
   },
   "outputs": [
    {
     "name": "stdout",
     "output_type": "stream",
     "text": [
      "626\n",
      "1195\n",
      "1045\n",
      "935\n"
     ]
    }
   ],
   "source": [
    "for i in {'delish', 'guac', 'phx', 'yelpers'}:\n",
    "    print(all_word_unique.index(i))"
   ]
  },
  {
   "cell_type": "markdown",
   "metadata": {},
   "source": [
    "TA给的数据少了这几个词频大于500的词。那么为了兼容，需要去除这4个词，TF矩阵要修改。"
   ]
  },
  {
   "cell_type": "code",
   "execution_count": 43,
   "metadata": {
    "ExecuteTime": {
     "end_time": "2017-12-29T07:35:24.344578Z",
     "start_time": "2017-12-29T07:35:22.265277Z"
    }
   },
   "outputs": [
    {
     "data": {
      "text/plain": [
       "(62522, 1312)"
      ]
     },
     "execution_count": 43,
     "metadata": {},
     "output_type": "execute_result"
    }
   ],
   "source": [
    "train_tf = np.delete(train_tf, [626, 1195, 1045, 935], axis=1)\n",
    "train_tf.shape"
   ]
  },
  {
   "cell_type": "code",
   "execution_count": 44,
   "metadata": {
    "ExecuteTime": {
     "end_time": "2017-12-29T07:35:39.624592Z",
     "start_time": "2017-12-29T07:35:39.337295Z"
    }
   },
   "outputs": [
    {
     "data": {
      "text/plain": [
       "(8671, 1312)"
      ]
     },
     "execution_count": 44,
     "metadata": {},
     "output_type": "execute_result"
    }
   ],
   "source": [
    "test_tf = np.delete(test_tf, [626, 1195, 1045, 935], axis=1)\n",
    "test_tf.shape"
   ]
  },
  {
   "cell_type": "code",
   "execution_count": 36,
   "metadata": {
    "ExecuteTime": {
     "end_time": "2017-12-29T07:28:10.201174Z",
     "start_time": "2017-12-29T07:28:10.193170Z"
    }
   },
   "outputs": [
    {
     "data": {
      "text/plain": [
       "1312"
      ]
     },
     "execution_count": 36,
     "metadata": {},
     "output_type": "execute_result"
    }
   ],
   "source": [
    "all_word_unique_ta= list(word2vec2[0])\n",
    "len(all_word_unique_ta)"
   ]
  },
  {
   "cell_type": "code",
   "execution_count": 45,
   "metadata": {
    "ExecuteTime": {
     "end_time": "2017-12-29T07:36:38.300754Z",
     "start_time": "2017-12-29T07:36:38.002128Z"
    }
   },
   "outputs": [
    {
     "data": {
      "text/plain": [
       "(1312, 51)"
      ]
     },
     "execution_count": 45,
     "metadata": {},
     "output_type": "execute_result"
    },
    {
     "name": "stderr",
     "output_type": "stream",
     "text": [
      "E:\\Anaconda3\\lib\\site-packages\\ipykernel\\__main__.py:2: SettingWithCopyWarning: \n",
      "A value is trying to be set on a copy of a slice from a DataFrame\n",
      "\n",
      "See the caveats in the documentation: http://pandas.pydata.org/pandas-docs/stable/indexing.html#indexing-view-versus-copy\n",
      "  from ipykernel import kernelapp as app\n"
     ]
    },
    {
     "data": {
      "text/plain": [
       "(1312, 50)"
      ]
     },
     "execution_count": 45,
     "metadata": {},
     "output_type": "execute_result"
    }
   ],
   "source": [
    "word2vec2.shape\n",
    "word2vec2.drop([0], axis=1, inplace=True)\n",
    "word2vec2.shape"
   ]
  },
  {
   "cell_type": "code",
   "execution_count": 46,
   "metadata": {
    "ExecuteTime": {
     "end_time": "2017-12-29T07:38:00.347406Z",
     "start_time": "2017-12-29T07:38:00.274362Z"
    }
   },
   "outputs": [
    {
     "data": {
      "text/plain": [
       "(1312, 50)"
      ]
     },
     "execution_count": 46,
     "metadata": {},
     "output_type": "execute_result"
    },
    {
     "data": {
      "text/plain": [
       "array([  4.98060000e-01,   1.23820000e+00,   8.69760000e-01,\n",
       "         2.52930000e-03,  -5.62630000e-01,  -3.87810000e-01,\n",
       "        -4.71550000e-01,  -9.57170000e-01,  -1.23140000e-01,\n",
       "         6.32620000e-01,  -7.33750000e-01,  -6.34570000e-02,\n",
       "        -6.64770000e-01,   6.80960000e-01,   6.35950000e-01,\n",
       "         8.17480000e-01,   1.51830000e-01,  -9.75820000e-01,\n",
       "         2.36740000e-01,   1.77670000e-01,  -4.17310000e-01,\n",
       "         1.25860000e-01,   8.80720000e-01,  -4.94020000e-02,\n",
       "        -8.30490000e-01,  -2.42830000e+00,  -1.30540000e+00,\n",
       "         1.65000000e-01,  -5.60370000e-02,  -1.19530000e-02,\n",
       "         3.01080000e+00,   8.93620000e-01,  -4.98190000e-01,\n",
       "         5.65450000e-01,   9.55350000e-01,  -6.85070000e-01,\n",
       "        -1.45200000e-01,   1.40260000e-01,   2.28410000e-01,\n",
       "         1.97700000e-01,  -9.24910000e-01,   1.52050000e+00,\n",
       "         8.10550000e-01,   5.99920000e-02,   8.36290000e-01,\n",
       "         1.71340000e-01,  -5.26200000e-01,  -1.57500000e-01,\n",
       "         1.74090000e-01,   1.07900000e-01])"
      ]
     },
     "execution_count": 46,
     "metadata": {},
     "output_type": "execute_result"
    }
   ],
   "source": [
    "word2vec_arr = arr(word2vec2.values)\n",
    "word2vec_arr.shape\n",
    "word2vec_arr[0]"
   ]
  },
  {
   "cell_type": "code",
   "execution_count": 49,
   "metadata": {
    "ExecuteTime": {
     "end_time": "2017-12-29T07:39:44.774365Z",
     "start_time": "2017-12-29T07:39:44.265628Z"
    }
   },
   "outputs": [
    {
     "data": {
      "text/plain": [
       "((62522, 50), (8671, 50))"
      ]
     },
     "execution_count": 49,
     "metadata": {},
     "output_type": "execute_result"
    }
   ],
   "source": [
    "train_w2v = np.dot(train_tf, word2vec_arr)\n",
    "test_w2v = np.dot(test_tf, word2vec_arr)\n",
    "\n",
    "train_w2v.shape, test_w2v.shape"
   ]
  },
  {
   "cell_type": "code",
   "execution_count": 50,
   "metadata": {
    "ExecuteTime": {
     "end_time": "2017-12-29T07:41:21.567841Z",
     "start_time": "2017-12-29T07:41:21.555837Z"
    }
   },
   "outputs": [
    {
     "data": {
      "text/plain": [
       "((43766, 50), (18756, 50))"
      ]
     },
     "execution_count": 50,
     "metadata": {},
     "output_type": "execute_result"
    }
   ],
   "source": [
    "#划分比例\n",
    "splitRate = 0.3\n",
    "#划分的数目\n",
    "splitNum = int(train_w2v.shape[0]*splitRate) \n",
    "#得到 训练集 和验证集\n",
    "trainSet_w2v = train_w2v[:-splitNum]\n",
    "validateSet_w2v = train_w2v[-splitNum:]\n",
    "\n",
    "trainSet_w2v.shape, validateSet_w2v.shape"
   ]
  },
  {
   "cell_type": "code",
   "execution_count": 51,
   "metadata": {
    "ExecuteTime": {
     "end_time": "2017-12-29T07:44:09.717867Z",
     "start_time": "2017-12-29T07:44:02.601663Z"
    },
    "collapsed": true
   },
   "outputs": [],
   "source": [
    "dirPath2 = \"data preprocessed\\\\wordvec_6B_50d - TA version\" \n",
    "np.savetxt(dirPath2 + '\\\\train.csv', trainSet_w2v, delimiter=\",\")\n",
    "np.savetxt(dirPath2 + '\\\\validate.csv', validateSet_w2v, delimiter=\",\")\n",
    "np.savetxt(dirPath2 + '\\\\test.csv', test_w2v, delimiter=\",\")"
   ]
  }
 ],
 "metadata": {
  "anaconda-cloud": {},
  "kernelspec": {
   "display_name": "Python [conda root]",
   "language": "python",
   "name": "conda-root-py"
  },
  "language_info": {
   "codemirror_mode": {
    "name": "ipython",
    "version": 3
   },
   "file_extension": ".py",
   "mimetype": "text/x-python",
   "name": "python",
   "nbconvert_exporter": "python",
   "pygments_lexer": "ipython3",
   "version": "3.5.2"
  },
  "toc": {
   "nav_menu": {},
   "number_sections": true,
   "sideBar": true,
   "skip_h1_title": false,
   "toc_cell": false,
   "toc_position": {},
   "toc_section_display": "block",
   "toc_window_display": false
  }
 },
 "nbformat": 4,
 "nbformat_minor": 2
}
