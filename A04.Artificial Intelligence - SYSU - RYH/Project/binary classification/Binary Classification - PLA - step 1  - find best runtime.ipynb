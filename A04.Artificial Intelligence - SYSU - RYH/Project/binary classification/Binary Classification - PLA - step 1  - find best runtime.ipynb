{
 "cells": [
  {
   "cell_type": "code",
   "execution_count": 1,
   "metadata": {
    "ExecuteTime": {
     "end_time": "2017-12-21T21:42:10.410310Z",
     "start_time": "2017-12-21T21:42:08.791659Z"
    },
    "collapsed": true
   },
   "outputs": [],
   "source": [
    "from IPython.core.interactiveshell import InteractiveShell\n",
    "InteractiveShell.ast_node_interactivity = \"all\"\n",
    "\n",
    "from collections import Counter\n",
    "import numpy as np\n",
    "import matplotlib.pyplot as plt\n",
    "from functools import reduce\n",
    "import pdir as pr\n",
    "import pandas as pd\n",
    "import os\n",
    "from tqdm import tqdm, tnrange, tqdm_notebook\n",
    "\n",
    "DF = pd.DataFrame\n",
    "arr = np.array"
   ]
  },
  {
   "cell_type": "markdown",
   "metadata": {},
   "source": [
    "# 读取数据"
   ]
  },
  {
   "cell_type": "code",
   "execution_count": 2,
   "metadata": {
    "ExecuteTime": {
     "end_time": "2017-12-21T21:42:18.881125Z",
     "start_time": "2017-12-21T21:42:13.618589Z"
    }
   },
   "outputs": [
    {
     "data": {
      "text/plain": [
       "((33600, 18), (14400, 18), (12000, 17))"
      ]
     },
     "execution_count": 2,
     "metadata": {},
     "output_type": "execute_result"
    }
   ],
   "source": [
    "dirPath = \"data preprocessed\"\n",
    "\n",
    "means, stds = eval(open(dirPath + \"\\\\means_and_stds_about_trainset.py\").read())\n",
    "\n",
    "trainSet_origin = np.loadtxt(dirPath + '\\\\train.csv', delimiter=\",\")\n",
    "validateSet_origin = np.loadtxt(dirPath + '\\\\validate.csv', delimiter=\",\")\n",
    "testSet = np.loadtxt(dirPath + '\\\\test.csv', delimiter=\",\")\n",
    "\n",
    "trainSet_origin.shape, validateSet_origin.shape, testSet.shape"
   ]
  },
  {
   "cell_type": "markdown",
   "metadata": {
    "ExecuteTime": {
     "end_time": "2017-12-20T23:04:38.482750Z",
     "start_time": "2017-12-20T23:04:38.462735Z"
    }
   },
   "source": [
    "划分数据集特征和标签："
   ]
  },
  {
   "cell_type": "code",
   "execution_count": 3,
   "metadata": {
    "ExecuteTime": {
     "end_time": "2017-12-21T21:42:21.215783Z",
     "start_time": "2017-12-21T21:42:21.206778Z"
    }
   },
   "outputs": [
    {
     "data": {
      "text/plain": [
       "((33600, 17), (14400, 17))"
      ]
     },
     "execution_count": 3,
     "metadata": {},
     "output_type": "execute_result"
    }
   ],
   "source": [
    "trainSet, trainSetLabel = trainSet_origin[:, :-1], trainSet_origin[:, -1]\n",
    "validateSet, validateSetLabel = validateSet_origin[:, :-1], validateSet_origin[:, -1]\n",
    "trainSet.shape, validateSet.shape"
   ]
  },
  {
   "cell_type": "markdown",
   "metadata": {},
   "source": [
    "由于PLA的分类标签为+1和-1，因此要把原来数据集的0标签替换为-1."
   ]
  },
  {
   "cell_type": "code",
   "execution_count": 22,
   "metadata": {
    "ExecuteTime": {
     "end_time": "2017-12-21T22:09:41.945436Z",
     "start_time": "2017-12-21T22:09:41.912912Z"
    }
   },
   "outputs": [
    {
     "data": {
      "text/plain": [
       "(Counter({-1.0: 17216, 1.0: 16384}), Counter({-1.0: 7377, 1.0: 7023}))"
      ]
     },
     "execution_count": 22,
     "metadata": {},
     "output_type": "execute_result"
    }
   ],
   "source": [
    "trainSetLabel[trainSetLabel == 0.0] = -1.0\n",
    "validateSetLabel[validateSetLabel == 0.0] = -1.0\n",
    "\n",
    "Counter(trainSetLabel), Counter(validateSetLabel)"
   ]
  },
  {
   "cell_type": "markdown",
   "metadata": {},
   "source": [
    "# 实现评测指标"
   ]
  },
  {
   "cell_type": "code",
   "execution_count": 89,
   "metadata": {
    "ExecuteTime": {
     "end_time": "2017-12-22T12:56:04.035889Z",
     "start_time": "2017-12-22T12:56:03.978339Z"
    }
   },
   "outputs": [
    {
     "name": "stdout",
     "output_type": "stream",
     "text": [
      "test 1: normal one\n",
      "TP FN FP 1 1 1\n"
     ]
    },
    {
     "data": {
      "text/plain": [
       "0.5"
      ]
     },
     "execution_count": 89,
     "metadata": {},
     "output_type": "execute_result"
    },
    {
     "name": "stdout",
     "output_type": "stream",
     "text": [
      "\n",
      "test 2: may have zero division error\n",
      "TP FN FP 1 1 0\n"
     ]
    },
    {
     "data": {
      "text/plain": [
       "0.6666666666666666"
      ]
     },
     "execution_count": 89,
     "metadata": {},
     "output_type": "execute_result"
    }
   ],
   "source": [
    "def calcF1(predictLabel, realLabel, printRes=False):\n",
    "    '''给定算法得到的分类结果和实际的分类结果，计算评测指标\n",
    "    注意：标签为1则为正标签，标签不为1则为负标签'''\n",
    "    def safeDivide(a, b):\n",
    "        '''子函数：当分母为0时返回除式结果为 -1'''\n",
    "        return a/b if b != 0 else 0\n",
    "    \n",
    "    TP = Counter(np.logical_and(predictLabel==1, realLabel==1))[True]\n",
    "    FN = Counter(np.logical_and(predictLabel!=1, realLabel==1))[True]\n",
    "    FP = Counter(np.logical_and(predictLabel==1, realLabel!=1))[True]\n",
    "    if(printRes):\n",
    "        print(\"TP FN FP\", TP, FN, FP)\n",
    "    F1 = safeDivide(2*TP, 2*TP+FN+FP)\n",
    "    return F1\n",
    "\n",
    "print('test 1: normal one')\n",
    "calcF1(arr([1, 1, 0, 0]), arr([1, 0, 1, 0]), True)\n",
    "print('\\ntest 2: may have zero division error')\n",
    "calcF1(arr([0, 0, 1, 0]), arr([1, 0, 1, 0]), True)"
   ]
  },
  {
   "cell_type": "markdown",
   "metadata": {},
   "source": [
    "# PLA"
   ]
  },
  {
   "cell_type": "code",
   "execution_count": 92,
   "metadata": {
    "ExecuteTime": {
     "end_time": "2017-12-22T12:56:34.624022Z",
     "start_time": "2017-12-22T12:56:34.485414Z"
    }
   },
   "outputs": [
    {
     "name": "stdout",
     "output_type": "stream",
     "text": [
      "最终训练得到的参数 w 为： [ 1. -3. -3.]\n",
      "对测试数据集 [[-2, 3]] 划分的结果为： [-1.] \n"
     ]
    }
   ],
   "source": [
    "class PLA_origin:\n",
    "    \n",
    "    def addOne2Samples(self, dataSet):\n",
    "        '''给每一个样本前加一个常数1'''\n",
    "        ones = np.ones(len(dataSet))\n",
    "        dataSet = np.array(dataSet)\n",
    "        return np.column_stack((ones, dataSet))\n",
    "    \n",
    "    def fit(self, trainSet, label, maxRunTimes=100):\n",
    "        '''根据给定的训练集和标签训练PLA的参数 w '''\n",
    "        #设置默认的 w 全为1\n",
    "        self.w = np.ones(trainSet.shape[1]+1)\n",
    "        #给每一个样本前加一个常数1\n",
    "        trainSet = self.addOne2Samples(trainSet)\n",
    "        for i in range(maxRunTimes):\n",
    "            #遍历所有样本\n",
    "            for index, sample in enumerate(trainSet):\n",
    "                #更新预测错误的样本\n",
    "                if np.sign(np.dot(sample, self.w)) != label[index]:\n",
    "                    self.w += label[index]*sample\n",
    "                    \n",
    "    def apply(self, otherSet):\n",
    "        '''根据已训练出的 w 对其他数据集进行划分'''\n",
    "        otherSet = self.addOne2Samples(otherSet)\n",
    "        outputLabel = np.zeros(otherSet.shape[0])\n",
    "        for index, sample in enumerate(otherSet):\n",
    "            outputLabel[index] = np.sign(np.dot(sample, self.w))\n",
    "        return outputLabel\n",
    "    \n",
    "    def getW(self):\n",
    "        return self.w\n",
    "\n",
    "class PLA_test(PLA_origin):\n",
    "    def __init__(self, rumTimeStart=100, runTimeEnd=10000, runTimeStep=100):\n",
    "        self.rumTimeStart = rumTimeStart\n",
    "        self.runTimeEnd = runTimeEnd\n",
    "        self.runTimeStep = runTimeStep\n",
    "        self.testRange = np.arange(rumTimeStart, runTimeEnd+runTimeStep, runTimeStep)\n",
    "        \n",
    "    def fit(self, trainSet, trainSetlabel, validateSet, validateSetLabel):\n",
    "        '''根据给定的训练集和标签训练PLA的参数 w '''\n",
    "        #设置默认的 w 全为1\n",
    "        self.w = np.ones(trainSet.shape[1]+1)\n",
    "        #给每一个样本前加一个常数1\n",
    "        train = self.addOne2Samples(trainSet)\n",
    "        validate = self.addOne2Samples(validateSet)\n",
    "        F1s = []\n",
    "        for i in tnrange(1, self.runTimeEnd+1):\n",
    "            #遍历所有样本\n",
    "            for index, sample in enumerate(train):\n",
    "                #更新预测错误的样本\n",
    "                if np.sign(np.dot(sample, self.w)) != trainSetlabel[index]:\n",
    "                    self.w += trainSetlabel[index]*sample\n",
    "            #在验证集上测试\n",
    "            if i%self.runTimeStep == 0:\n",
    "                ansLabel = self.apply(validate)\n",
    "                F1s.append(calcF1(ansLabel, validateSetLabel))\n",
    "        return F1s\n",
    "               \n",
    "    def apply(self, otherSet):\n",
    "        '''根据已训练出的 w 对其他数据集进行划分'''\n",
    "        #otherSet = self.addOne2Samples(otherSet)\n",
    "        outputLabel = np.zeros(otherSet.shape[0])\n",
    "        for index, sample in enumerate(otherSet):\n",
    "            outputLabel[index] = np.sign(np.dot(sample, self.w))\n",
    "        return outputLabel            \n",
    "############测试程序###################\n",
    "a = [[-4, -1], [0, 3]] # trainSet\n",
    "b = [1,-1]             # label\n",
    "e = [[-2, 3]]          # otherSet\n",
    "\n",
    "p = PLA_origin() # 得到PLA类\n",
    "p.fit(arr(a), arr(b), maxRunTimes=10)      # 给定的训练集和标签，训练PLA的参数 w\n",
    "print(\"最终训练得到的参数 w 为：\", p.getW())  \n",
    "print(\"对测试数据集 %s 划分的结果为： %s \" %(e, p.apply(arr(e))))\n",
    "############测试程序###################"
   ]
  },
  {
   "cell_type": "markdown",
   "metadata": {},
   "source": [
    "# 调参\n",
    "\n",
    "所调参数只有迭代次数。"
   ]
  },
  {
   "cell_type": "code",
   "execution_count": 93,
   "metadata": {
    "ExecuteTime": {
     "end_time": "2017-12-22T12:56:37.283626Z",
     "start_time": "2017-12-22T12:56:37.274619Z"
    }
   },
   "outputs": [
    {
     "data": {
      "text/plain": [
       "array([  100,   200,   300,   400,   500,   600,   700,   800,   900,\n",
       "        1000,  1100,  1200,  1300,  1400,  1500,  1600,  1700,  1800,\n",
       "        1900,  2000,  2100,  2200,  2300,  2400,  2500,  2600,  2700,\n",
       "        2800,  2900,  3000,  3100,  3200,  3300,  3400,  3500,  3600,\n",
       "        3700,  3800,  3900,  4000,  4100,  4200,  4300,  4400,  4500,\n",
       "        4600,  4700,  4800,  4900,  5000,  5100,  5200,  5300,  5400,\n",
       "        5500,  5600,  5700,  5800,  5900,  6000,  6100,  6200,  6300,\n",
       "        6400,  6500,  6600,  6700,  6800,  6900,  7000,  7100,  7200,\n",
       "        7300,  7400,  7500,  7600,  7700,  7800,  7900,  8000,  8100,\n",
       "        8200,  8300,  8400,  8500,  8600,  8700,  8800,  8900,  9000,\n",
       "        9100,  9200,  9300,  9400,  9500,  9600,  9700,  9800,  9900, 10000])"
      ]
     },
     "execution_count": 93,
     "metadata": {},
     "output_type": "execute_result"
    },
    {
     "data": {
      "text/plain": [
       "100"
      ]
     },
     "execution_count": 93,
     "metadata": {},
     "output_type": "execute_result"
    }
   ],
   "source": [
    "pla_test = PLA_test()\n",
    "pla_test.testRange\n",
    "len(pla_test.testRange)"
   ]
  },
  {
   "cell_type": "code",
   "execution_count": 94,
   "metadata": {
    "ExecuteTime": {
     "end_time": "2017-12-22T13:16:46.810480Z",
     "start_time": "2017-12-22T12:56:40.345012Z"
    }
   },
   "outputs": [
    {
     "name": "stdout",
     "output_type": "stream",
     "text": [
      "\n"
     ]
    }
   ],
   "source": [
    "ansF1s = pla_test.fit(trainSet, trainSetLabel, validateSet, validateSetLabel)    "
   ]
  },
  {
   "cell_type": "code",
   "execution_count": 95,
   "metadata": {
    "ExecuteTime": {
     "end_time": "2017-12-22T13:21:07.326339Z",
     "start_time": "2017-12-22T13:21:07.318333Z"
    }
   },
   "outputs": [
    {
     "data": {
      "text/plain": [
       "(3600, 0.66703910614525141)"
      ]
     },
     "execution_count": 95,
     "metadata": {},
     "output_type": "execute_result"
    }
   ],
   "source": [
    "bestRuntime = pla_test.testRange[np.argmax(ansF1s)]\n",
    "bestRuntime, np.max(ansF1s)"
   ]
  },
  {
   "cell_type": "code",
   "execution_count": 96,
   "metadata": {
    "ExecuteTime": {
     "end_time": "2017-12-22T13:21:17.739314Z",
     "start_time": "2017-12-22T13:21:17.736312Z"
    },
    "collapsed": true
   },
   "outputs": [],
   "source": [
    "InteractiveShell.ast_node_interactivity = \"none\""
   ]
  },
  {
   "cell_type": "code",
   "execution_count": 97,
   "metadata": {
    "ExecuteTime": {
     "end_time": "2017-12-22T13:21:19.977871Z",
     "start_time": "2017-12-22T13:21:19.740166Z"
    }
   },
   "outputs": [
    {
     "data": {
      "image/png": "[encoded data removed]",
      "text/plain": [
       "<matplotlib.figure.Figure at 0x1f0d14b8e80>"
      ]
     },
     "metadata": {},
     "output_type": "display_data"
    }
   ],
   "source": [
    "fig,ax = plt.subplots() \n",
    "fig.set_size_inches(7.5, 4)\n",
    "plt.plot(pla_test.testRange, ansF1s, 'g')\n",
    "plt.xlabel('run time')\n",
    "plt.ylabel('F1(%)')\n",
    "plt.title(\"F1 versus run time with PLA\")\n",
    "plt.show()\n",
    "plt.close()"
   ]
  },
  {
   "cell_type": "code",
   "execution_count": 98,
   "metadata": {
    "ExecuteTime": {
     "end_time": "2017-12-22T13:21:22.557225Z",
     "start_time": "2017-12-22T13:21:22.553240Z"
    },
    "collapsed": true
   },
   "outputs": [],
   "source": [
    "InteractiveShell.ast_node_interactivity = \"all\""
   ]
  },
  {
   "cell_type": "markdown",
   "metadata": {},
   "source": [
    "# 应用算法到测试集"
   ]
  },
  {
   "cell_type": "code",
   "execution_count": 64,
   "metadata": {
    "ExecuteTime": {
     "end_time": "2017-12-22T08:57:13.750432Z",
     "start_time": "2017-12-22T08:57:02.383485Z"
    },
    "collapsed": true
   },
   "outputs": [],
   "source": [
    "bestPLA = PLA_origin()\n",
    "bestPLA.fit(trainSet, trainSetLabel, maxRunTimes=bestRuntime)\n",
    "ansLabel = bestPLA.apply(testSet)\n",
    "ansLabel[ansLabel == -1.0] = 0.0 #记得要把-1标签转为0\n",
    "np.savetxt('.\\\\rank\\\\47_v2.csv', ansLabel, fmt=\"%d\", delimiter=\"\\n\")"
   ]
  },
  {
   "cell_type": "code",
   "execution_count": 68,
   "metadata": {
    "ExecuteTime": {
     "end_time": "2017-12-22T09:18:12.613765Z",
     "start_time": "2017-12-22T09:18:12.596756Z"
    }
   },
   "outputs": [
    {
     "data": {
      "text/plain": [
       "Counter({0.0: 6585, 1.0: 5415})"
      ]
     },
     "execution_count": 68,
     "metadata": {},
     "output_type": "execute_result"
    },
    {
     "data": {
      "text/plain": [
       "0.45125"
      ]
     },
     "execution_count": 68,
     "metadata": {},
     "output_type": "execute_result"
    }
   ],
   "source": [
    "Counter(ansLabel)\n",
    "one = Counter(ansLabel)[1.0]\n",
    "zero = Counter(ansLabel)[0.0]\n",
    "one/(one + zero)"
   ]
  }
 ],
 "metadata": {
  "anaconda-cloud": {},
  "kernelspec": {
   "display_name": "Python [conda root]",
   "language": "python",
   "name": "conda-root-py"
  },
  "language_info": {
   "codemirror_mode": {
    "name": "ipython",
    "version": 3
   },
   "file_extension": ".py",
   "mimetype": "text/x-python",
   "name": "python",
   "nbconvert_exporter": "python",
   "pygments_lexer": "ipython3",
   "version": "3.5.2"
  },
  "toc": {
   "nav_menu": {},
   "number_sections": true,
   "sideBar": true,
   "skip_h1_title": false,
   "toc_cell": false,
   "toc_position": {},
   "toc_section_display": "block",
   "toc_window_display": false
  },
  "widgets": {
   "state": {
    "82c664f96b824183a57a642a106496fa": {
     "views": [
      {
       "cell_index": 13
      }
     ]
    }
   },
   "version": "1.2.0"
  }
 },
 "nbformat": 4,
 "nbformat_minor": 2
}
