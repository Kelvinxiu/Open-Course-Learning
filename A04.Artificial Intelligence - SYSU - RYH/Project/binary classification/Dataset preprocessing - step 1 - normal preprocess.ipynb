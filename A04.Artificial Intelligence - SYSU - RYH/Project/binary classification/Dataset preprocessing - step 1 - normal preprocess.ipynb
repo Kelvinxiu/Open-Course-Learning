{
 "cells": [
  {
   "cell_type": "code",
   "execution_count": 1,
   "metadata": {
    "ExecuteTime": {
     "end_time": "2018-01-05T17:50:42.566573Z",
     "start_time": "2018-01-05T17:50:41.518316Z"
    },
    "collapsed": true
   },
   "outputs": [],
   "source": [
    "from IPython.core.interactiveshell import InteractiveShell\n",
    "InteractiveShell.ast_node_interactivity = \"all\"\n",
    "\n",
    "from collections import Counter\n",
    "import numpy as np\n",
    "import matplotlib.pyplot as plt\n",
    "from functools import reduce\n",
    "import pdir as pr\n",
    "import pandas as pd\n",
    "import os\n",
    "from tqdm import tqdm, tnrange, tqdm_notebook\n",
    "\n",
    "DF = pd.DataFrame"
   ]
  },
  {
   "cell_type": "markdown",
   "metadata": {},
   "source": [
    "# 读取训练集和测试集"
   ]
  },
  {
   "cell_type": "code",
   "execution_count": 2,
   "metadata": {
    "ExecuteTime": {
     "end_time": "2018-01-05T17:50:42.750693Z",
     "start_time": "2018-01-05T17:50:42.568576Z"
    }
   },
   "outputs": [
    {
     "data": {
      "text/plain": [
       "(48000, 14)"
      ]
     },
     "execution_count": 2,
     "metadata": {},
     "output_type": "execute_result"
    },
    {
     "data": {
      "text/html": [
       "<div>\n",
       "<table border=\"1\" class=\"dataframe\">\n",
       "  <thead>\n",
       "    <tr style=\"text-align: right;\">\n",
       "      <th></th>\n",
       "      <th>C0</th>\n",
       "      <th>C1</th>\n",
       "      <th>C2</th>\n",
       "      <th>C3</th>\n",
       "      <th>C4</th>\n",
       "      <th>C5</th>\n",
       "      <th>C6</th>\n",
       "      <th>C7</th>\n",
       "      <th>C8</th>\n",
       "      <th>C9</th>\n",
       "      <th>C10</th>\n",
       "      <th>C11</th>\n",
       "      <th>C12</th>\n",
       "      <th>C13</th>\n",
       "    </tr>\n",
       "  </thead>\n",
       "  <tbody>\n",
       "    <tr>\n",
       "      <th>0</th>\n",
       "      <td>3003</td>\n",
       "      <td>type_C</td>\n",
       "      <td>15</td>\n",
       "      <td>867</td>\n",
       "      <td>204</td>\n",
       "      <td>2961</td>\n",
       "      <td>219</td>\n",
       "      <td>207</td>\n",
       "      <td>120.0</td>\n",
       "      <td>740.0</td>\n",
       "      <td>1.0</td>\n",
       "      <td>3.0</td>\n",
       "      <td>2.665508</td>\n",
       "      <td>1</td>\n",
       "    </tr>\n",
       "    <tr>\n",
       "      <th>1</th>\n",
       "      <td>3138</td>\n",
       "      <td>type_D</td>\n",
       "      <td>10</td>\n",
       "      <td>43</td>\n",
       "      <td>2</td>\n",
       "      <td>5583</td>\n",
       "      <td>196</td>\n",
       "      <td>243</td>\n",
       "      <td>187.0</td>\n",
       "      <td>2401.0</td>\n",
       "      <td>1.0</td>\n",
       "      <td>3.0</td>\n",
       "      <td>2.358066</td>\n",
       "      <td>1</td>\n",
       "    </tr>\n",
       "    <tr>\n",
       "      <th>2</th>\n",
       "      <td>2789</td>\n",
       "      <td>type_C</td>\n",
       "      <td>13</td>\n",
       "      <td>574</td>\n",
       "      <td>4</td>\n",
       "      <td>1650</td>\n",
       "      <td>234</td>\n",
       "      <td>213</td>\n",
       "      <td>110.0</td>\n",
       "      <td>1021.0</td>\n",
       "      <td>1.0</td>\n",
       "      <td>3.0</td>\n",
       "      <td>2.067060</td>\n",
       "      <td>1</td>\n",
       "    </tr>\n",
       "    <tr>\n",
       "      <th>3</th>\n",
       "      <td>2824</td>\n",
       "      <td>type_C</td>\n",
       "      <td>33</td>\n",
       "      <td>336</td>\n",
       "      <td>237</td>\n",
       "      <td>159</td>\n",
       "      <td>29</td>\n",
       "      <td>2260</td>\n",
       "      <td>1.0</td>\n",
       "      <td>0.0</td>\n",
       "      <td>0.0</td>\n",
       "      <td>0.0</td>\n",
       "      <td>2.698755</td>\n",
       "      <td>1</td>\n",
       "    </tr>\n",
       "    <tr>\n",
       "      <th>4</th>\n",
       "      <td>3264</td>\n",
       "      <td>type_D</td>\n",
       "      <td>11</td>\n",
       "      <td>515</td>\n",
       "      <td>39</td>\n",
       "      <td>1200</td>\n",
       "      <td>239</td>\n",
       "      <td>226</td>\n",
       "      <td>117.0</td>\n",
       "      <td>2206.0</td>\n",
       "      <td>1.0</td>\n",
       "      <td>3.0</td>\n",
       "      <td>2.513698</td>\n",
       "      <td>1</td>\n",
       "    </tr>\n",
       "  </tbody>\n",
       "</table>\n",
       "</div>"
      ],
      "text/plain": [
       "     C0      C1  C2   C3   C4    C5   C6    C7     C8      C9  C10  C11  \\\n",
       "0  3003  type_C  15  867  204  2961  219   207  120.0   740.0  1.0  3.0   \n",
       "1  3138  type_D  10   43    2  5583  196   243  187.0  2401.0  1.0  3.0   \n",
       "2  2789  type_C  13  574    4  1650  234   213  110.0  1021.0  1.0  3.0   \n",
       "3  2824  type_C  33  336  237   159   29  2260    1.0     0.0  0.0  0.0   \n",
       "4  3264  type_D  11  515   39  1200  239   226  117.0  2206.0  1.0  3.0   \n",
       "\n",
       "        C12  C13  \n",
       "0  2.665508    1  \n",
       "1  2.358066    1  \n",
       "2  2.067060    1  \n",
       "3  2.698755    1  \n",
       "4  2.513698    1  "
      ]
     },
     "execution_count": 2,
     "metadata": {},
     "output_type": "execute_result"
    }
   ],
   "source": [
    "columnsName = [\"C\" + str(i) for i in range(14)]\n",
    "trainSet_origin = pd.read_csv('data\\\\train.csv',  names = columnsName)\n",
    "trainSet_origin.shape\n",
    "trainSet_origin.head(5)"
   ]
  },
  {
   "cell_type": "code",
   "execution_count": 3,
   "metadata": {
    "ExecuteTime": {
     "end_time": "2018-01-05T17:50:42.834750Z",
     "start_time": "2018-01-05T17:50:42.759694Z"
    }
   },
   "outputs": [
    {
     "data": {
      "text/plain": [
       "(12000, 13)"
      ]
     },
     "execution_count": 3,
     "metadata": {},
     "output_type": "execute_result"
    },
    {
     "data": {
      "text/html": [
       "<div>\n",
       "<table border=\"1\" class=\"dataframe\">\n",
       "  <thead>\n",
       "    <tr style=\"text-align: right;\">\n",
       "      <th></th>\n",
       "      <th>C0</th>\n",
       "      <th>C1</th>\n",
       "      <th>C2</th>\n",
       "      <th>C3</th>\n",
       "      <th>C4</th>\n",
       "      <th>C5</th>\n",
       "      <th>C6</th>\n",
       "      <th>C7</th>\n",
       "      <th>C8</th>\n",
       "      <th>C9</th>\n",
       "      <th>C10</th>\n",
       "      <th>C11</th>\n",
       "      <th>C12</th>\n",
       "    </tr>\n",
       "  </thead>\n",
       "  <tbody>\n",
       "    <tr>\n",
       "      <th>0</th>\n",
       "      <td>2883</td>\n",
       "      <td>type_C</td>\n",
       "      <td>14</td>\n",
       "      <td>475</td>\n",
       "      <td>71</td>\n",
       "      <td>1718</td>\n",
       "      <td>244</td>\n",
       "      <td>223</td>\n",
       "      <td>106.0</td>\n",
       "      <td>2851.0</td>\n",
       "      <td>1.0</td>\n",
       "      <td>3.0</td>\n",
       "      <td>2.288722</td>\n",
       "    </tr>\n",
       "    <tr>\n",
       "      <th>1</th>\n",
       "      <td>2546</td>\n",
       "      <td>type_B</td>\n",
       "      <td>9</td>\n",
       "      <td>31</td>\n",
       "      <td>2</td>\n",
       "      <td>1457</td>\n",
       "      <td>218</td>\n",
       "      <td>223</td>\n",
       "      <td>142.0</td>\n",
       "      <td>1290.0</td>\n",
       "      <td>1.0</td>\n",
       "      <td>3.0</td>\n",
       "      <td>2.053396</td>\n",
       "    </tr>\n",
       "    <tr>\n",
       "      <th>2</th>\n",
       "      <td>3178</td>\n",
       "      <td>type_D</td>\n",
       "      <td>15</td>\n",
       "      <td>286</td>\n",
       "      <td>35</td>\n",
       "      <td>2999</td>\n",
       "      <td>230</td>\n",
       "      <td>208</td>\n",
       "      <td>110.0</td>\n",
       "      <td>4503.0</td>\n",
       "      <td>1.0</td>\n",
       "      <td>3.0</td>\n",
       "      <td>2.648367</td>\n",
       "    </tr>\n",
       "    <tr>\n",
       "      <th>3</th>\n",
       "      <td>3282</td>\n",
       "      <td>type_D</td>\n",
       "      <td>23</td>\n",
       "      <td>451</td>\n",
       "      <td>116</td>\n",
       "      <td>1679</td>\n",
       "      <td>248</td>\n",
       "      <td>228</td>\n",
       "      <td>96.0</td>\n",
       "      <td>1404.0</td>\n",
       "      <td>1.0</td>\n",
       "      <td>3.0</td>\n",
       "      <td>2.985833</td>\n",
       "    </tr>\n",
       "    <tr>\n",
       "      <th>4</th>\n",
       "      <td>2954</td>\n",
       "      <td>type_C</td>\n",
       "      <td>23</td>\n",
       "      <td>525</td>\n",
       "      <td>304</td>\n",
       "      <td>1828</td>\n",
       "      <td>160</td>\n",
       "      <td>246</td>\n",
       "      <td>221.0</td>\n",
       "      <td>1623.0</td>\n",
       "      <td>1.0</td>\n",
       "      <td>3.0</td>\n",
       "      <td>2.009470</td>\n",
       "    </tr>\n",
       "  </tbody>\n",
       "</table>\n",
       "</div>"
      ],
      "text/plain": [
       "     C0      C1  C2   C3   C4    C5   C6   C7     C8      C9  C10  C11  \\\n",
       "0  2883  type_C  14  475   71  1718  244  223  106.0  2851.0  1.0  3.0   \n",
       "1  2546  type_B   9   31    2  1457  218  223  142.0  1290.0  1.0  3.0   \n",
       "2  3178  type_D  15  286   35  2999  230  208  110.0  4503.0  1.0  3.0   \n",
       "3  3282  type_D  23  451  116  1679  248  228   96.0  1404.0  1.0  3.0   \n",
       "4  2954  type_C  23  525  304  1828  160  246  221.0  1623.0  1.0  3.0   \n",
       "\n",
       "        C12  \n",
       "0  2.288722  \n",
       "1  2.053396  \n",
       "2  2.648367  \n",
       "3  2.985833  \n",
       "4  2.009470  "
      ]
     },
     "execution_count": 3,
     "metadata": {},
     "output_type": "execute_result"
    }
   ],
   "source": [
    "testSet_origin = pd.read_csv('data\\\\test.csv',  names = columnsName[:-1])\n",
    "testSet_origin.shape\n",
    "testSet_origin.head(5)"
   ]
  },
  {
   "cell_type": "markdown",
   "metadata": {},
   "source": [
    "# 对离散变量进行0-1编码\n",
    "\n",
    "数据集共有三个离散特征。"
   ]
  },
  {
   "cell_type": "code",
   "execution_count": 4,
   "metadata": {
    "ExecuteTime": {
     "end_time": "2018-01-05T17:50:42.885282Z",
     "start_time": "2018-01-05T17:50:42.836749Z"
    }
   },
   "outputs": [
    {
     "data": {
      "text/plain": [
       "array(['type_C', 'type_D', 'type_A', 'type_B', 'type_E'], dtype=object)"
      ]
     },
     "execution_count": 4,
     "metadata": {},
     "output_type": "execute_result"
    },
    {
     "data": {
      "text/plain": [
       "array([ 1.,  0.])"
      ]
     },
     "execution_count": 4,
     "metadata": {},
     "output_type": "execute_result"
    },
    {
     "data": {
      "text/plain": [
       "array([ 3.,  0.])"
      ]
     },
     "execution_count": 4,
     "metadata": {},
     "output_type": "execute_result"
    },
    {
     "data": {
      "text/plain": [
       "array(['type_C', 'type_B', 'type_D', 'type_A', 'type_E'], dtype=object)"
      ]
     },
     "execution_count": 4,
     "metadata": {},
     "output_type": "execute_result"
    },
    {
     "data": {
      "text/plain": [
       "array([ 1.,  0.])"
      ]
     },
     "execution_count": 4,
     "metadata": {},
     "output_type": "execute_result"
    },
    {
     "data": {
      "text/plain": [
       "array([ 3.,  0.])"
      ]
     },
     "execution_count": 4,
     "metadata": {},
     "output_type": "execute_result"
    }
   ],
   "source": [
    "trainSet_origin[\"C1\"].unique()  #需编码\n",
    "trainSet_origin[\"C10\"].unique() #无需改动\n",
    "trainSet_origin[\"C11\"].unique() #测试将3替代为1\n",
    "\n",
    "testSet_origin[\"C1\"].unique()  #需编码\n",
    "testSet_origin[\"C10\"].unique() #无需改动\n",
    "testSet_origin[\"C11\"].unique() #测试将3替代为1"
   ]
  },
  {
   "cell_type": "code",
   "execution_count": 5,
   "metadata": {
    "ExecuteTime": {
     "end_time": "2018-01-05T17:50:42.967341Z",
     "start_time": "2018-01-05T17:50:42.888285Z"
    }
   },
   "outputs": [
    {
     "data": {
      "text/plain": [
       "array([ 3.,  0.])"
      ]
     },
     "execution_count": 5,
     "metadata": {},
     "output_type": "execute_result"
    },
    {
     "data": {
      "text/plain": [
       "array([ 3.,  0.])"
      ]
     },
     "execution_count": 5,
     "metadata": {},
     "output_type": "execute_result"
    }
   ],
   "source": [
    "#trainSet_origin[\"C11\"] = trainSet_origin[\"C11\"].replace(3, 1)\n",
    "trainSet_origin[\"C11\"].unique()\n",
    "\n",
    "#testSet_origin[\"C11\"] = testSet_origin[\"C11\"].replace(3, 1)\n",
    "testSet_origin[\"C11\"].unique()"
   ]
  },
  {
   "cell_type": "markdown",
   "metadata": {},
   "source": [
    "这里有个需要注意的地方，这里的3也不一定要替换成1，所以处于待测试状态。"
   ]
  },
  {
   "cell_type": "code",
   "execution_count": 6,
   "metadata": {
    "ExecuteTime": {
     "end_time": "2018-01-05T17:50:43.148971Z",
     "start_time": "2018-01-05T17:50:42.974346Z"
    },
    "scrolled": false
   },
   "outputs": [
    {
     "data": {
      "text/html": [
       "<div>\n",
       "<table border=\"1\" class=\"dataframe\">\n",
       "  <thead>\n",
       "    <tr style=\"text-align: right;\">\n",
       "      <th></th>\n",
       "      <th>C1_type_A</th>\n",
       "      <th>C1_type_B</th>\n",
       "      <th>C1_type_C</th>\n",
       "      <th>C1_type_D</th>\n",
       "      <th>C1_type_E</th>\n",
       "      <th>C0</th>\n",
       "      <th>C2</th>\n",
       "      <th>C3</th>\n",
       "      <th>C4</th>\n",
       "      <th>C5</th>\n",
       "      <th>C6</th>\n",
       "      <th>C7</th>\n",
       "      <th>C8</th>\n",
       "      <th>C9</th>\n",
       "      <th>C10</th>\n",
       "      <th>C11</th>\n",
       "      <th>C12</th>\n",
       "      <th>C13</th>\n",
       "    </tr>\n",
       "  </thead>\n",
       "  <tbody>\n",
       "    <tr>\n",
       "      <th>0</th>\n",
       "      <td>0.0</td>\n",
       "      <td>0.0</td>\n",
       "      <td>1.0</td>\n",
       "      <td>0.0</td>\n",
       "      <td>0.0</td>\n",
       "      <td>3003</td>\n",
       "      <td>15</td>\n",
       "      <td>867</td>\n",
       "      <td>204</td>\n",
       "      <td>2961</td>\n",
       "      <td>219</td>\n",
       "      <td>207</td>\n",
       "      <td>120.0</td>\n",
       "      <td>740.0</td>\n",
       "      <td>1.0</td>\n",
       "      <td>3.0</td>\n",
       "      <td>2.665508</td>\n",
       "      <td>1</td>\n",
       "    </tr>\n",
       "    <tr>\n",
       "      <th>1</th>\n",
       "      <td>0.0</td>\n",
       "      <td>0.0</td>\n",
       "      <td>0.0</td>\n",
       "      <td>1.0</td>\n",
       "      <td>0.0</td>\n",
       "      <td>3138</td>\n",
       "      <td>10</td>\n",
       "      <td>43</td>\n",
       "      <td>2</td>\n",
       "      <td>5583</td>\n",
       "      <td>196</td>\n",
       "      <td>243</td>\n",
       "      <td>187.0</td>\n",
       "      <td>2401.0</td>\n",
       "      <td>1.0</td>\n",
       "      <td>3.0</td>\n",
       "      <td>2.358066</td>\n",
       "      <td>1</td>\n",
       "    </tr>\n",
       "    <tr>\n",
       "      <th>2</th>\n",
       "      <td>0.0</td>\n",
       "      <td>0.0</td>\n",
       "      <td>1.0</td>\n",
       "      <td>0.0</td>\n",
       "      <td>0.0</td>\n",
       "      <td>2789</td>\n",
       "      <td>13</td>\n",
       "      <td>574</td>\n",
       "      <td>4</td>\n",
       "      <td>1650</td>\n",
       "      <td>234</td>\n",
       "      <td>213</td>\n",
       "      <td>110.0</td>\n",
       "      <td>1021.0</td>\n",
       "      <td>1.0</td>\n",
       "      <td>3.0</td>\n",
       "      <td>2.067060</td>\n",
       "      <td>1</td>\n",
       "    </tr>\n",
       "    <tr>\n",
       "      <th>3</th>\n",
       "      <td>0.0</td>\n",
       "      <td>0.0</td>\n",
       "      <td>1.0</td>\n",
       "      <td>0.0</td>\n",
       "      <td>0.0</td>\n",
       "      <td>2824</td>\n",
       "      <td>33</td>\n",
       "      <td>336</td>\n",
       "      <td>237</td>\n",
       "      <td>159</td>\n",
       "      <td>29</td>\n",
       "      <td>2260</td>\n",
       "      <td>1.0</td>\n",
       "      <td>0.0</td>\n",
       "      <td>0.0</td>\n",
       "      <td>0.0</td>\n",
       "      <td>2.698755</td>\n",
       "      <td>1</td>\n",
       "    </tr>\n",
       "    <tr>\n",
       "      <th>4</th>\n",
       "      <td>0.0</td>\n",
       "      <td>0.0</td>\n",
       "      <td>0.0</td>\n",
       "      <td>1.0</td>\n",
       "      <td>0.0</td>\n",
       "      <td>3264</td>\n",
       "      <td>11</td>\n",
       "      <td>515</td>\n",
       "      <td>39</td>\n",
       "      <td>1200</td>\n",
       "      <td>239</td>\n",
       "      <td>226</td>\n",
       "      <td>117.0</td>\n",
       "      <td>2206.0</td>\n",
       "      <td>1.0</td>\n",
       "      <td>3.0</td>\n",
       "      <td>2.513698</td>\n",
       "      <td>1</td>\n",
       "    </tr>\n",
       "  </tbody>\n",
       "</table>\n",
       "</div>"
      ],
      "text/plain": [
       "   C1_type_A  C1_type_B  C1_type_C  C1_type_D  C1_type_E    C0  C2   C3   C4  \\\n",
       "0        0.0        0.0        1.0        0.0        0.0  3003  15  867  204   \n",
       "1        0.0        0.0        0.0        1.0        0.0  3138  10   43    2   \n",
       "2        0.0        0.0        1.0        0.0        0.0  2789  13  574    4   \n",
       "3        0.0        0.0        1.0        0.0        0.0  2824  33  336  237   \n",
       "4        0.0        0.0        0.0        1.0        0.0  3264  11  515   39   \n",
       "\n",
       "     C5   C6    C7     C8      C9  C10  C11       C12  C13  \n",
       "0  2961  219   207  120.0   740.0  1.0  3.0  2.665508    1  \n",
       "1  5583  196   243  187.0  2401.0  1.0  3.0  2.358066    1  \n",
       "2  1650  234   213  110.0  1021.0  1.0  3.0  2.067060    1  \n",
       "3   159   29  2260    1.0     0.0  0.0  0.0  2.698755    1  \n",
       "4  1200  239   226  117.0  2206.0  1.0  3.0  2.513698    1  "
      ]
     },
     "execution_count": 6,
     "metadata": {},
     "output_type": "execute_result"
    },
    {
     "data": {
      "text/html": [
       "<div>\n",
       "<table border=\"1\" class=\"dataframe\">\n",
       "  <thead>\n",
       "    <tr style=\"text-align: right;\">\n",
       "      <th></th>\n",
       "      <th>C1_type_A</th>\n",
       "      <th>C1_type_B</th>\n",
       "      <th>C1_type_C</th>\n",
       "      <th>C1_type_D</th>\n",
       "      <th>C1_type_E</th>\n",
       "      <th>C0</th>\n",
       "      <th>C2</th>\n",
       "      <th>C3</th>\n",
       "      <th>C4</th>\n",
       "      <th>C5</th>\n",
       "      <th>C6</th>\n",
       "      <th>C7</th>\n",
       "      <th>C8</th>\n",
       "      <th>C9</th>\n",
       "      <th>C10</th>\n",
       "      <th>C11</th>\n",
       "      <th>C12</th>\n",
       "    </tr>\n",
       "  </thead>\n",
       "  <tbody>\n",
       "    <tr>\n",
       "      <th>0</th>\n",
       "      <td>0.0</td>\n",
       "      <td>0.0</td>\n",
       "      <td>1.0</td>\n",
       "      <td>0.0</td>\n",
       "      <td>0.0</td>\n",
       "      <td>2883</td>\n",
       "      <td>14</td>\n",
       "      <td>475</td>\n",
       "      <td>71</td>\n",
       "      <td>1718</td>\n",
       "      <td>244</td>\n",
       "      <td>223</td>\n",
       "      <td>106.0</td>\n",
       "      <td>2851.0</td>\n",
       "      <td>1.0</td>\n",
       "      <td>3.0</td>\n",
       "      <td>2.288722</td>\n",
       "    </tr>\n",
       "    <tr>\n",
       "      <th>1</th>\n",
       "      <td>0.0</td>\n",
       "      <td>1.0</td>\n",
       "      <td>0.0</td>\n",
       "      <td>0.0</td>\n",
       "      <td>0.0</td>\n",
       "      <td>2546</td>\n",
       "      <td>9</td>\n",
       "      <td>31</td>\n",
       "      <td>2</td>\n",
       "      <td>1457</td>\n",
       "      <td>218</td>\n",
       "      <td>223</td>\n",
       "      <td>142.0</td>\n",
       "      <td>1290.0</td>\n",
       "      <td>1.0</td>\n",
       "      <td>3.0</td>\n",
       "      <td>2.053396</td>\n",
       "    </tr>\n",
       "    <tr>\n",
       "      <th>2</th>\n",
       "      <td>0.0</td>\n",
       "      <td>0.0</td>\n",
       "      <td>0.0</td>\n",
       "      <td>1.0</td>\n",
       "      <td>0.0</td>\n",
       "      <td>3178</td>\n",
       "      <td>15</td>\n",
       "      <td>286</td>\n",
       "      <td>35</td>\n",
       "      <td>2999</td>\n",
       "      <td>230</td>\n",
       "      <td>208</td>\n",
       "      <td>110.0</td>\n",
       "      <td>4503.0</td>\n",
       "      <td>1.0</td>\n",
       "      <td>3.0</td>\n",
       "      <td>2.648367</td>\n",
       "    </tr>\n",
       "    <tr>\n",
       "      <th>3</th>\n",
       "      <td>0.0</td>\n",
       "      <td>0.0</td>\n",
       "      <td>0.0</td>\n",
       "      <td>1.0</td>\n",
       "      <td>0.0</td>\n",
       "      <td>3282</td>\n",
       "      <td>23</td>\n",
       "      <td>451</td>\n",
       "      <td>116</td>\n",
       "      <td>1679</td>\n",
       "      <td>248</td>\n",
       "      <td>228</td>\n",
       "      <td>96.0</td>\n",
       "      <td>1404.0</td>\n",
       "      <td>1.0</td>\n",
       "      <td>3.0</td>\n",
       "      <td>2.985833</td>\n",
       "    </tr>\n",
       "    <tr>\n",
       "      <th>4</th>\n",
       "      <td>0.0</td>\n",
       "      <td>0.0</td>\n",
       "      <td>1.0</td>\n",
       "      <td>0.0</td>\n",
       "      <td>0.0</td>\n",
       "      <td>2954</td>\n",
       "      <td>23</td>\n",
       "      <td>525</td>\n",
       "      <td>304</td>\n",
       "      <td>1828</td>\n",
       "      <td>160</td>\n",
       "      <td>246</td>\n",
       "      <td>221.0</td>\n",
       "      <td>1623.0</td>\n",
       "      <td>1.0</td>\n",
       "      <td>3.0</td>\n",
       "      <td>2.009470</td>\n",
       "    </tr>\n",
       "  </tbody>\n",
       "</table>\n",
       "</div>"
      ],
      "text/plain": [
       "   C1_type_A  C1_type_B  C1_type_C  C1_type_D  C1_type_E    C0  C2   C3   C4  \\\n",
       "0        0.0        0.0        1.0        0.0        0.0  2883  14  475   71   \n",
       "1        0.0        1.0        0.0        0.0        0.0  2546   9   31    2   \n",
       "2        0.0        0.0        0.0        1.0        0.0  3178  15  286   35   \n",
       "3        0.0        0.0        0.0        1.0        0.0  3282  23  451  116   \n",
       "4        0.0        0.0        1.0        0.0        0.0  2954  23  525  304   \n",
       "\n",
       "     C5   C6   C7     C8      C9  C10  C11       C12  \n",
       "0  1718  244  223  106.0  2851.0  1.0  3.0  2.288722  \n",
       "1  1457  218  223  142.0  1290.0  1.0  3.0  2.053396  \n",
       "2  2999  230  208  110.0  4503.0  1.0  3.0  2.648367  \n",
       "3  1679  248  228   96.0  1404.0  1.0  3.0  2.985833  \n",
       "4  1828  160  246  221.0  1623.0  1.0  3.0  2.009470  "
      ]
     },
     "execution_count": 6,
     "metadata": {},
     "output_type": "execute_result"
    }
   ],
   "source": [
    "################ 注意这个 cell 只需运行一次 ########################\n",
    "def reduceDummies(dataSet):    \n",
    "    #创键 哑变量\n",
    "    dummies = pd.get_dummies(dataSet[\"C1\"], prefix=\"C1\", drop_first=False)\n",
    "    #合并数据集\n",
    "    dataSet = pd.concat([dummies, dataSet], axis=1)\n",
    "    return dataSet.drop([\"C1\"], axis=1)\n",
    "\n",
    "trainSet_origin = reduceDummies(trainSet_origin)\n",
    "trainSet_origin.head(5)\n",
    "\n",
    "testSet_origin = reduceDummies(testSet_origin)\n",
    "testSet_origin.head(5)"
   ]
  },
  {
   "cell_type": "markdown",
   "metadata": {},
   "source": [
    "# 从训练集中划分验证集\n",
    "\n",
    "**需要注意，划分验证集需在归一化连续特征之前完成。**\n",
    "\n",
    "突发奇想：若是后来利用验证集调好了参数，在判断增加样本个数可提高算法performance的前提下，可使用整个原始训练集来进行训练。不过这个时候就没有验证集了，到时候权衡一下。"
   ]
  },
  {
   "cell_type": "code",
   "execution_count": 7,
   "metadata": {
    "ExecuteTime": {
     "end_time": "2018-01-05T17:50:43.358920Z",
     "start_time": "2018-01-05T17:50:43.156976Z"
    }
   },
   "outputs": [
    {
     "data": {
      "text/plain": [
       "(48000, 18)"
      ]
     },
     "execution_count": 7,
     "metadata": {},
     "output_type": "execute_result"
    }
   ],
   "source": [
    "#首先打乱原始训练集\n",
    "trainSet_origin = trainSet_origin.sample(frac=1).reset_index(drop=True)\n",
    "trainSet_origin.shape"
   ]
  },
  {
   "cell_type": "code",
   "execution_count": 8,
   "metadata": {
    "ExecuteTime": {
     "end_time": "2018-01-05T17:50:43.480518Z",
     "start_time": "2018-01-05T17:50:43.361403Z"
    }
   },
   "outputs": [
    {
     "data": {
      "text/plain": [
       "((33600, 18), (14400, 18))"
      ]
     },
     "execution_count": 8,
     "metadata": {},
     "output_type": "execute_result"
    },
    {
     "data": {
      "text/html": [
       "<div>\n",
       "<table border=\"1\" class=\"dataframe\">\n",
       "  <thead>\n",
       "    <tr style=\"text-align: right;\">\n",
       "      <th></th>\n",
       "      <th>C1_type_A</th>\n",
       "      <th>C1_type_B</th>\n",
       "      <th>C1_type_C</th>\n",
       "      <th>C1_type_D</th>\n",
       "      <th>C1_type_E</th>\n",
       "      <th>C0</th>\n",
       "      <th>C2</th>\n",
       "      <th>C3</th>\n",
       "      <th>C4</th>\n",
       "      <th>C5</th>\n",
       "      <th>C6</th>\n",
       "      <th>C7</th>\n",
       "      <th>C8</th>\n",
       "      <th>C9</th>\n",
       "      <th>C10</th>\n",
       "      <th>C11</th>\n",
       "      <th>C12</th>\n",
       "      <th>C13</th>\n",
       "    </tr>\n",
       "  </thead>\n",
       "  <tbody>\n",
       "    <tr>\n",
       "      <th>0</th>\n",
       "      <td>1.0</td>\n",
       "      <td>0.0</td>\n",
       "      <td>0.0</td>\n",
       "      <td>0.0</td>\n",
       "      <td>0.0</td>\n",
       "      <td>2154</td>\n",
       "      <td>38</td>\n",
       "      <td>128</td>\n",
       "      <td>28</td>\n",
       "      <td>588</td>\n",
       "      <td>155</td>\n",
       "      <td>136</td>\n",
       "      <td>96.0</td>\n",
       "      <td>552.0</td>\n",
       "      <td>1.0</td>\n",
       "      <td>3.0</td>\n",
       "      <td>2.593327</td>\n",
       "      <td>0</td>\n",
       "    </tr>\n",
       "    <tr>\n",
       "      <th>1</th>\n",
       "      <td>0.0</td>\n",
       "      <td>0.0</td>\n",
       "      <td>0.0</td>\n",
       "      <td>1.0</td>\n",
       "      <td>0.0</td>\n",
       "      <td>3278</td>\n",
       "      <td>13</td>\n",
       "      <td>838</td>\n",
       "      <td>142</td>\n",
       "      <td>784</td>\n",
       "      <td>188</td>\n",
       "      <td>246</td>\n",
       "      <td>198.0</td>\n",
       "      <td>2662.0</td>\n",
       "      <td>1.0</td>\n",
       "      <td>3.0</td>\n",
       "      <td>2.157359</td>\n",
       "      <td>1</td>\n",
       "    </tr>\n",
       "    <tr>\n",
       "      <th>2</th>\n",
       "      <td>0.0</td>\n",
       "      <td>0.0</td>\n",
       "      <td>1.0</td>\n",
       "      <td>0.0</td>\n",
       "      <td>0.0</td>\n",
       "      <td>3038</td>\n",
       "      <td>10</td>\n",
       "      <td>489</td>\n",
       "      <td>196</td>\n",
       "      <td>1145</td>\n",
       "      <td>231</td>\n",
       "      <td>219</td>\n",
       "      <td>121.0</td>\n",
       "      <td>552.0</td>\n",
       "      <td>1.0</td>\n",
       "      <td>3.0</td>\n",
       "      <td>2.025876</td>\n",
       "      <td>1</td>\n",
       "    </tr>\n",
       "  </tbody>\n",
       "</table>\n",
       "</div>"
      ],
      "text/plain": [
       "   C1_type_A  C1_type_B  C1_type_C  C1_type_D  C1_type_E    C0  C2   C3   C4  \\\n",
       "0        1.0        0.0        0.0        0.0        0.0  2154  38  128   28   \n",
       "1        0.0        0.0        0.0        1.0        0.0  3278  13  838  142   \n",
       "2        0.0        0.0        1.0        0.0        0.0  3038  10  489  196   \n",
       "\n",
       "     C5   C6   C7     C8      C9  C10  C11       C12  C13  \n",
       "0   588  155  136   96.0   552.0  1.0  3.0  2.593327    0  \n",
       "1   784  188  246  198.0  2662.0  1.0  3.0  2.157359    1  \n",
       "2  1145  231  219  121.0   552.0  1.0  3.0  2.025876    1  "
      ]
     },
     "execution_count": 8,
     "metadata": {},
     "output_type": "execute_result"
    },
    {
     "data": {
      "text/html": [
       "<div>\n",
       "<table border=\"1\" class=\"dataframe\">\n",
       "  <thead>\n",
       "    <tr style=\"text-align: right;\">\n",
       "      <th></th>\n",
       "      <th>C1_type_A</th>\n",
       "      <th>C1_type_B</th>\n",
       "      <th>C1_type_C</th>\n",
       "      <th>C1_type_D</th>\n",
       "      <th>C1_type_E</th>\n",
       "      <th>C0</th>\n",
       "      <th>C2</th>\n",
       "      <th>C3</th>\n",
       "      <th>C4</th>\n",
       "      <th>C5</th>\n",
       "      <th>C6</th>\n",
       "      <th>C7</th>\n",
       "      <th>C8</th>\n",
       "      <th>C9</th>\n",
       "      <th>C10</th>\n",
       "      <th>C11</th>\n",
       "      <th>C12</th>\n",
       "      <th>C13</th>\n",
       "    </tr>\n",
       "  </thead>\n",
       "  <tbody>\n",
       "    <tr>\n",
       "      <th>0</th>\n",
       "      <td>0.0</td>\n",
       "      <td>0.0</td>\n",
       "      <td>1.0</td>\n",
       "      <td>0.0</td>\n",
       "      <td>0.0</td>\n",
       "      <td>3003</td>\n",
       "      <td>7</td>\n",
       "      <td>193</td>\n",
       "      <td>1</td>\n",
       "      <td>2686</td>\n",
       "      <td>217</td>\n",
       "      <td>225</td>\n",
       "      <td>146.0</td>\n",
       "      <td>1600.0</td>\n",
       "      <td>1.0</td>\n",
       "      <td>3.0</td>\n",
       "      <td>2.771940</td>\n",
       "      <td>1</td>\n",
       "    </tr>\n",
       "    <tr>\n",
       "      <th>1</th>\n",
       "      <td>0.0</td>\n",
       "      <td>0.0</td>\n",
       "      <td>0.0</td>\n",
       "      <td>1.0</td>\n",
       "      <td>0.0</td>\n",
       "      <td>3248</td>\n",
       "      <td>5</td>\n",
       "      <td>451</td>\n",
       "      <td>3</td>\n",
       "      <td>4359</td>\n",
       "      <td>231</td>\n",
       "      <td>232</td>\n",
       "      <td>137.0</td>\n",
       "      <td>2371.0</td>\n",
       "      <td>1.0</td>\n",
       "      <td>3.0</td>\n",
       "      <td>2.186326</td>\n",
       "      <td>0</td>\n",
       "    </tr>\n",
       "    <tr>\n",
       "      <th>2</th>\n",
       "      <td>0.0</td>\n",
       "      <td>0.0</td>\n",
       "      <td>1.0</td>\n",
       "      <td>0.0</td>\n",
       "      <td>0.0</td>\n",
       "      <td>2711</td>\n",
       "      <td>20</td>\n",
       "      <td>211</td>\n",
       "      <td>70</td>\n",
       "      <td>1153</td>\n",
       "      <td>243</td>\n",
       "      <td>201</td>\n",
       "      <td>81.0</td>\n",
       "      <td>2088.0</td>\n",
       "      <td>1.0</td>\n",
       "      <td>3.0</td>\n",
       "      <td>2.771145</td>\n",
       "      <td>1</td>\n",
       "    </tr>\n",
       "  </tbody>\n",
       "</table>\n",
       "</div>"
      ],
      "text/plain": [
       "   C1_type_A  C1_type_B  C1_type_C  C1_type_D  C1_type_E    C0  C2   C3  C4  \\\n",
       "0        0.0        0.0        1.0        0.0        0.0  3003   7  193   1   \n",
       "1        0.0        0.0        0.0        1.0        0.0  3248   5  451   3   \n",
       "2        0.0        0.0        1.0        0.0        0.0  2711  20  211  70   \n",
       "\n",
       "     C5   C6   C7     C8      C9  C10  C11       C12  C13  \n",
       "0  2686  217  225  146.0  1600.0  1.0  3.0  2.771940    1  \n",
       "1  4359  231  232  137.0  2371.0  1.0  3.0  2.186326    0  \n",
       "2  1153  243  201   81.0  2088.0  1.0  3.0  2.771145    1  "
      ]
     },
     "execution_count": 8,
     "metadata": {},
     "output_type": "execute_result"
    }
   ],
   "source": [
    "#划分比例\n",
    "splitRate = 0.3\n",
    "#划分的数目\n",
    "splitNum = int(trainSet_origin.shape[0]*splitRate) \n",
    "#得到 训练集 和验证集\n",
    "trainSet = trainSet_origin[:-splitNum].reset_index(drop=True)\n",
    "validateSet = trainSet_origin[-splitNum:].reset_index(drop=True)\n",
    "\n",
    "trainSet.shape, validateSet.shape\n",
    "trainSet.head(3)\n",
    "validateSet.head(3)"
   ]
  },
  {
   "cell_type": "markdown",
   "metadata": {},
   "source": [
    "# 保存未归一化的数据"
   ]
  },
  {
   "cell_type": "code",
   "execution_count": 9,
   "metadata": {
    "ExecuteTime": {
     "end_time": "2018-01-05T17:50:45.720341Z",
     "start_time": "2018-01-05T17:50:43.485022Z"
    }
   },
   "outputs": [
    {
     "data": {
      "text/plain": [
       "((33600, 18), (14400, 18), (12000, 17))"
      ]
     },
     "execution_count": 9,
     "metadata": {},
     "output_type": "execute_result"
    }
   ],
   "source": [
    "trainSet.shape, validateSet.shape, testSet_origin.shape\n",
    "\n",
    "dirPath = \"data preprocessed\\\\unnormalized\"\n",
    "if not os.path.exists(dirPath):\n",
    "    os.mkdir(dirPath)\n",
    "    \n",
    "trainSet.to_csv(dirPath + '\\\\train.csv', index=False, header=False)\n",
    "validateSet.to_csv(dirPath + '\\\\validate.csv', index=False, header=False)\n",
    "testSet_origin.to_csv(dirPath + '\\\\test.csv', index=False, header=False)"
   ]
  },
  {
   "cell_type": "markdown",
   "metadata": {},
   "source": [
    "# 标准化连续特征"
   ]
  },
  {
   "cell_type": "code",
   "execution_count": 10,
   "metadata": {
    "ExecuteTime": {
     "end_time": "2018-01-05T17:50:46.017552Z",
     "start_time": "2018-01-05T17:50:45.723842Z"
    }
   },
   "outputs": [
    {
     "data": {
      "text/plain": [
       "['C0', 'C2', 'C3', 'C4', 'C5', 'C6', 'C7', 'C8', 'C9', 'C12']"
      ]
     },
     "execution_count": 10,
     "metadata": {},
     "output_type": "execute_result"
    },
    {
     "ename": "NameError",
     "evalue": "name 'continousFeature' is not defined",
     "output_type": "error",
     "traceback": [
      "\u001b[0;31m---------------------------------------------------------------------------\u001b[0m",
      "\u001b[0;31mNameError\u001b[0m                                 Traceback (most recent call last)",
      "\u001b[0;32m<ipython-input-10-55a4bdc0c4f3>\u001b[0m in \u001b[0;36m<module>\u001b[0;34m()\u001b[0m\n\u001b[1;32m     16\u001b[0m \u001b[0mcontinousFeatures\u001b[0m \u001b[1;33m=\u001b[0m \u001b[1;33m[\u001b[0m\u001b[1;34m\"C\"\u001b[0m \u001b[1;33m+\u001b[0m \u001b[0mstr\u001b[0m\u001b[1;33m(\u001b[0m\u001b[0mi\u001b[0m\u001b[1;33m)\u001b[0m \u001b[1;32mfor\u001b[0m \u001b[0mi\u001b[0m \u001b[1;32min\u001b[0m \u001b[1;33m[\u001b[0m\u001b[1;36m0\u001b[0m\u001b[1;33m]\u001b[0m \u001b[1;33m+\u001b[0m \u001b[0mlist\u001b[0m\u001b[1;33m(\u001b[0m\u001b[0mrange\u001b[0m\u001b[1;33m(\u001b[0m\u001b[1;36m2\u001b[0m\u001b[1;33m,\u001b[0m\u001b[1;36m10\u001b[0m\u001b[1;33m)\u001b[0m\u001b[1;33m)\u001b[0m \u001b[1;33m+\u001b[0m \u001b[1;33m[\u001b[0m\u001b[1;36m12\u001b[0m\u001b[1;33m]\u001b[0m\u001b[1;33m]\u001b[0m\u001b[1;33m\u001b[0m\u001b[0m\n\u001b[1;32m     17\u001b[0m \u001b[0mcontinousFeatures\u001b[0m\u001b[1;33m\u001b[0m\u001b[0m\n\u001b[0;32m---> 18\u001b[0;31m \u001b[0mtrainSet\u001b[0m\u001b[1;33m,\u001b[0m \u001b[0mvalidateSet\u001b[0m\u001b[1;33m,\u001b[0m \u001b[0mtestSet\u001b[0m\u001b[1;33m,\u001b[0m \u001b[0mmeans\u001b[0m\u001b[1;33m,\u001b[0m \u001b[0mstds\u001b[0m \u001b[1;33m=\u001b[0m \u001b[0mnormalizeFeature\u001b[0m\u001b[1;33m(\u001b[0m\u001b[0mtrainSet\u001b[0m\u001b[1;33m,\u001b[0m \u001b[0mvalidateSet\u001b[0m\u001b[1;33m,\u001b[0m \u001b[0mtestSet_origin\u001b[0m\u001b[1;33m)\u001b[0m\u001b[1;33m\u001b[0m\u001b[0m\n\u001b[0m\u001b[1;32m     19\u001b[0m \u001b[0mtrainSet\u001b[0m\u001b[1;33m.\u001b[0m\u001b[0mhead\u001b[0m\u001b[1;33m(\u001b[0m\u001b[1;36m3\u001b[0m\u001b[1;33m)\u001b[0m\u001b[1;33m\u001b[0m\u001b[0m\n\u001b[1;32m     20\u001b[0m \u001b[0mvalidateSet\u001b[0m\u001b[1;33m.\u001b[0m\u001b[0mhead\u001b[0m\u001b[1;33m(\u001b[0m\u001b[1;36m3\u001b[0m\u001b[1;33m)\u001b[0m\u001b[1;33m\u001b[0m\u001b[0m\n",
      "\u001b[0;32m<ipython-input-10-55a4bdc0c4f3>\u001b[0m in \u001b[0;36mnormalizeFeature\u001b[0;34m(train, validate, test)\u001b[0m\n\u001b[1;32m      1\u001b[0m \u001b[1;32mdef\u001b[0m \u001b[0mnormalizeFeature\u001b[0m\u001b[1;33m(\u001b[0m\u001b[0mtrain\u001b[0m\u001b[1;33m,\u001b[0m \u001b[0mvalidate\u001b[0m\u001b[1;33m,\u001b[0m \u001b[0mtest\u001b[0m\u001b[1;33m)\u001b[0m\u001b[1;33m:\u001b[0m\u001b[1;33m\u001b[0m\u001b[0m\n\u001b[1;32m      2\u001b[0m     \u001b[0mmeans_\u001b[0m\u001b[1;33m,\u001b[0m \u001b[0mstds_\u001b[0m \u001b[1;33m=\u001b[0m \u001b[1;33m[\u001b[0m\u001b[1;33m]\u001b[0m\u001b[1;33m,\u001b[0m \u001b[1;33m[\u001b[0m\u001b[1;33m]\u001b[0m\u001b[1;33m\u001b[0m\u001b[0m\n\u001b[0;32m----> 3\u001b[0;31m     \u001b[1;32mfor\u001b[0m \u001b[0mfeature\u001b[0m \u001b[1;32min\u001b[0m \u001b[0mcontinousFeature\u001b[0m\u001b[1;33m:\u001b[0m\u001b[1;33m\u001b[0m\u001b[0m\n\u001b[0m\u001b[1;32m      4\u001b[0m         \u001b[0mmean_\u001b[0m\u001b[1;33m,\u001b[0m \u001b[0mstd_\u001b[0m \u001b[1;33m=\u001b[0m \u001b[0mtrain\u001b[0m\u001b[1;33m[\u001b[0m\u001b[0mfeature\u001b[0m\u001b[1;33m]\u001b[0m\u001b[1;33m.\u001b[0m\u001b[0mmean\u001b[0m\u001b[1;33m(\u001b[0m\u001b[1;33m)\u001b[0m\u001b[1;33m,\u001b[0m \u001b[0mtrain\u001b[0m\u001b[1;33m[\u001b[0m\u001b[0mfeature\u001b[0m\u001b[1;33m]\u001b[0m\u001b[1;33m.\u001b[0m\u001b[0mstd\u001b[0m\u001b[1;33m(\u001b[0m\u001b[1;33m)\u001b[0m\u001b[1;33m\u001b[0m\u001b[0m\n\u001b[1;32m      5\u001b[0m         \u001b[0mfeatureIndex\u001b[0m \u001b[1;33m=\u001b[0m \u001b[0mlist\u001b[0m\u001b[1;33m(\u001b[0m\u001b[0mtrainSet\u001b[0m\u001b[1;33m.\u001b[0m\u001b[0mcolumns\u001b[0m\u001b[1;33m)\u001b[0m\u001b[1;33m.\u001b[0m\u001b[0mindex\u001b[0m\u001b[1;33m(\u001b[0m\u001b[0mfeature\u001b[0m\u001b[1;33m)\u001b[0m\u001b[1;33m\u001b[0m\u001b[0m\n",
      "\u001b[0;31mNameError\u001b[0m: name 'continousFeature' is not defined"
     ]
    }
   ],
   "source": [
    "def normalizeFeature(train, validate, test):\n",
    "    means_, stds_ = [], []\n",
    "    for feature in continousFeature:\n",
    "        mean_, std_ = train[feature].mean(), train[feature].std()\n",
    "        featureIndex = list(trainSet.columns).index(feature)\n",
    "        means_.append({featureIndex:mean_})\n",
    "        stds_.append({featureIndex:std_})\n",
    "        \n",
    "        train[feature] = (train[feature] - mean_)/std_\n",
    "        validate[feature] = (validate[feature] - mean_)/std_\n",
    "        test[feature] = (test[feature] - mean_)/std_\n",
    "\n",
    "    return train, validate, test, means_, stds_\n",
    "        \n",
    "    \n",
    "continousFeatures = [\"C\" + str(i) for i in [0] + list(range(2,10)) + [12]]\n",
    "continousFeatures\n",
    "trainSet, validateSet, testSet, means, stds = normalizeFeature(trainSet, validateSet, testSet_origin)\n",
    "trainSet.head(3)\n",
    "validateSet.head(3)"
   ]
  },
  {
   "cell_type": "markdown",
   "metadata": {
    "ExecuteTime": {
     "end_time": "2017-12-20T20:04:31.593552Z",
     "start_time": "2017-12-20T20:04:31.505448Z"
    }
   },
   "source": [
    "验证归一化的结果：可看到训练集归一化后的均值接近0，方差为1。"
   ]
  },
  {
   "cell_type": "code",
   "execution_count": null,
   "metadata": {
    "ExecuteTime": {
     "end_time": "2018-01-05T17:50:46.018551Z",
     "start_time": "2018-01-05T09:50:41.572Z"
    }
   },
   "outputs": [],
   "source": [
    "means,stds"
   ]
  },
  {
   "cell_type": "code",
   "execution_count": null,
   "metadata": {
    "ExecuteTime": {
     "end_time": "2018-01-05T17:50:46.019050Z",
     "start_time": "2018-01-05T09:50:41.590Z"
    }
   },
   "outputs": [],
   "source": [
    "trainSet[continousFeatures].describe()\n",
    "validateSet[continousFeatures].describe()\n",
    "testSet[continousFeatures].describe()"
   ]
  },
  {
   "cell_type": "markdown",
   "metadata": {},
   "source": [
    "# 保存归一化的数据"
   ]
  },
  {
   "cell_type": "code",
   "execution_count": null,
   "metadata": {
    "ExecuteTime": {
     "end_time": "2018-01-05T17:50:46.019551Z",
     "start_time": "2018-01-05T09:50:41.595Z"
    }
   },
   "outputs": [],
   "source": [
    "trainSet.shape, validateSet.shape, testSet.shape\n",
    "\n",
    "dirPath = \"data preprocessed\\\\normalized\"\n",
    "if not os.path.exists(dirPath):\n",
    "    os.makedirs(dirPath)\n",
    "    \n",
    "trainSet.to_csv(dirPath + '\\\\train.csv', index=False, header=False)\n",
    "validateSet.to_csv(dirPath + '\\\\validate.csv', index=False, header=False)\n",
    "testSet.to_csv(dirPath + '\\\\test.csv', index=False, header=False)"
   ]
  },
  {
   "cell_type": "markdown",
   "metadata": {},
   "source": [
    "# 测试数据读取"
   ]
  },
  {
   "cell_type": "code",
   "execution_count": null,
   "metadata": {
    "ExecuteTime": {
     "end_time": "2018-01-05T17:50:46.020051Z",
     "start_time": "2018-01-05T09:50:41.601Z"
    }
   },
   "outputs": [],
   "source": [
    "t = np.loadtxt(dirPath + '\\\\train.csv', delimiter=\",\")\n",
    "t.shape, t.dtype\n",
    "t[:3]"
   ]
  },
  {
   "cell_type": "markdown",
   "metadata": {},
   "source": [
    "# 参考资料\n",
    "\n",
    "- 1.[Shuffle DataFrame rows][1]\n",
    "\n",
    "[1]:https://stackoverflow.com/questions/29576430/shuffle-dataframe-rows"
   ]
  }
 ],
 "metadata": {
  "anaconda-cloud": {},
  "kernelspec": {
   "display_name": "Python [conda root]",
   "language": "python",
   "name": "conda-root-py"
  },
  "language_info": {
   "codemirror_mode": {
    "name": "ipython",
    "version": 3
   },
   "file_extension": ".py",
   "mimetype": "text/x-python",
   "name": "python",
   "nbconvert_exporter": "python",
   "pygments_lexer": "ipython3",
   "version": "3.5.2"
  },
  "toc": {
   "nav_menu": {},
   "number_sections": true,
   "sideBar": true,
   "skip_h1_title": false,
   "toc_cell": false,
   "toc_position": {},
   "toc_section_display": "block",
   "toc_window_display": true
  }
 },
 "nbformat": 4,
 "nbformat_minor": 2
}
