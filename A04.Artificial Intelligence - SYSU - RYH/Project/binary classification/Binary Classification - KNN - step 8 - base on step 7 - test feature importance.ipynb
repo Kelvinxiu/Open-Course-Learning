{
 "cells": [
  {
   "cell_type": "code",
   "execution_count": 1,
   "metadata": {
    "ExecuteTime": {
     "end_time": "2018-01-11T21:37:02.771245Z",
     "start_time": "2018-01-11T21:37:00.486128Z"
    },
    "collapsed": true
   },
   "outputs": [],
   "source": [
    "from IPython.core.interactiveshell import InteractiveShell\n",
    "InteractiveShell.ast_node_interactivity = \"all\"\n",
    "\n",
    "from collections import Counter\n",
    "import numpy as np\n",
    "import matplotlib.pyplot as plt\n",
    "from functools import reduce\n",
    "import pdir as pr\n",
    "import pandas as pd\n",
    "import os\n",
    "from tqdm import tqdm, tnrange, tqdm_notebook\n",
    "\n",
    "DF = pd.DataFrame\n",
    "arr = np.array"
   ]
  },
  {
   "cell_type": "markdown",
   "metadata": {},
   "source": [
    "前面调参只是一直在调K的值，但是KNN实际除了K这个参数还有距离度量方式这个参数，因此这里便来测试这个新的参数。"
   ]
  },
  {
   "cell_type": "markdown",
   "metadata": {},
   "source": [
    "# 读取数据"
   ]
  },
  {
   "cell_type": "code",
   "execution_count": 2,
   "metadata": {
    "ExecuteTime": {
     "end_time": "2018-01-11T21:37:07.798805Z",
     "start_time": "2018-01-11T21:37:02.782753Z"
    }
   },
   "outputs": [
    {
     "data": {
      "text/plain": [
       "((33600, 18), (14400, 18), (12000, 17))"
      ]
     },
     "execution_count": 2,
     "metadata": {},
     "output_type": "execute_result"
    }
   ],
   "source": [
    "dirPath = \"data preprocessed\\\\unnormalized\"\n",
    "\n",
    "trainSet_origin = np.loadtxt(dirPath + '\\\\train.csv', delimiter=\",\")\n",
    "validateSet_origin = np.loadtxt(dirPath + '\\\\validate.csv', delimiter=\",\")\n",
    "testSet = np.loadtxt(dirPath + '\\\\test.csv', delimiter=\",\")\n",
    "\n",
    "trainSet_origin.shape, validateSet_origin.shape, testSet.shape"
   ]
  },
  {
   "cell_type": "markdown",
   "metadata": {
    "ExecuteTime": {
     "end_time": "2017-12-20T23:04:38.482750Z",
     "start_time": "2017-12-20T23:04:38.462735Z"
    }
   },
   "source": [
    "划分数据集特征和标签："
   ]
  },
  {
   "cell_type": "code",
   "execution_count": 3,
   "metadata": {
    "ExecuteTime": {
     "end_time": "2018-01-11T21:37:07.847340Z",
     "start_time": "2018-01-11T21:37:07.820821Z"
    }
   },
   "outputs": [
    {
     "data": {
      "text/plain": [
       "((33600, 17), (14400, 17))"
      ]
     },
     "execution_count": 3,
     "metadata": {},
     "output_type": "execute_result"
    }
   ],
   "source": [
    "trainSet, trainSetLabel = trainSet_origin[:, :-1], trainSet_origin[:, -1]\n",
    "validateSet, validateSetLabel = validateSet_origin[:, :-1], validateSet_origin[:, -1]\n",
    "trainSet.shape, validateSet.shape"
   ]
  },
  {
   "cell_type": "markdown",
   "metadata": {},
   "source": [
    "# 实现评测指标"
   ]
  },
  {
   "cell_type": "code",
   "execution_count": 4,
   "metadata": {
    "ExecuteTime": {
     "end_time": "2018-01-11T21:37:08.190649Z",
     "start_time": "2018-01-11T21:37:07.857848Z"
    }
   },
   "outputs": [
    {
     "name": "stdout",
     "output_type": "stream",
     "text": [
      "test 1: normal one\n",
      "TP FN FP 1 1 1\n"
     ]
    },
    {
     "data": {
      "text/plain": [
       "0.5"
      ]
     },
     "execution_count": 4,
     "metadata": {},
     "output_type": "execute_result"
    },
    {
     "name": "stdout",
     "output_type": "stream",
     "text": [
      "\n",
      "test 2: may have zero division error\n",
      "TP FN FP 1 1 0\n"
     ]
    },
    {
     "data": {
      "text/plain": [
       "0.6666666666666666"
      ]
     },
     "execution_count": 4,
     "metadata": {},
     "output_type": "execute_result"
    }
   ],
   "source": [
    "def calcF1(predictLabel, realLabel, printRes=False):\n",
    "    '''给定算法得到的分类结果和实际的分类结果，计算评测指标\n",
    "    注意：标签为1则为正标签，标签不为1则为负标签'''\n",
    "    def safeDivide(a, b):\n",
    "        '''子函数：当分母为0时返回除式结果为 -1'''\n",
    "        return a/b if b != 0 else 0\n",
    "    \n",
    "    TP = Counter(np.logical_and(predictLabel==1, realLabel==1))[True]\n",
    "    FN = Counter(np.logical_and(predictLabel!=1, realLabel==1))[True]\n",
    "    FP = Counter(np.logical_and(predictLabel==1, realLabel!=1))[True]\n",
    "    if(printRes):\n",
    "        print(\"TP FN FP\", TP, FN, FP)\n",
    "    F1 = safeDivide(2*TP, 2*TP+FN+FP)\n",
    "    return F1\n",
    "\n",
    "print('test 1: normal one')\n",
    "calcF1(arr([1, 1, 0, 0]), arr([1, 0, 1, 0]), True)\n",
    "print('\\ntest 2: may have zero division error')\n",
    "calcF1(arr([0, 0, 1, 0]), arr([1, 0, 1, 0]), True)"
   ]
  },
  {
   "cell_type": "markdown",
   "metadata": {},
   "source": [
    "# 距离度量方式\n",
    "\n",
    "欧式距离之前测试过了，这里便测试下其他9种距离。\n",
    "\n",
    "参考：https://www.cnblogs.com/heaad/archive/2011/03/08/1977733.html"
   ]
  },
  {
   "cell_type": "code",
   "execution_count": 5,
   "metadata": {
    "ExecuteTime": {
     "end_time": "2018-01-11T21:37:08.628671Z",
     "start_time": "2018-01-11T21:37:08.199655Z"
    },
    "collapsed": true
   },
   "outputs": [],
   "source": [
    "class distanceMetric:\n",
    "    \n",
    "    def __init__(self, tag):\n",
    "        self.tag = tag\n",
    "        \n",
    "    def Manhattan(self, dataSet, inputVector):\n",
    "        '''曼哈顿距离'''\n",
    "        diff = np.abs(dataSet - inputVector)\n",
    "        distances = diff.sum(axis=1)\n",
    "        return distances\n",
    "    \n",
    "    def Chebyshev(self, dataSet, inputVector):\n",
    "        '''切比雪夫距离'''\n",
    "        diff = np.abs(dataSet - inputVector)\n",
    "        distances = np.max(diff, axis=1)\n",
    "        return distances\n",
    "\n",
    "    def Minkowski(self, dataSet, inputVector):\n",
    "        '''闵可夫斯基距离:\n",
    "        闵氏距离不是一种距离，而是一组距离的定义。\n",
    "        \n",
    "        其中p是一个变参数。\n",
    "\n",
    "        当p=1时，就是曼哈顿距离\n",
    "\n",
    "        当p=2时，就是欧氏距离\n",
    "\n",
    "        当p→∞时，就是切比雪夫距离\n",
    "        \n",
    "        这里暂不实现'''\n",
    "        pass    \n",
    "    \n",
    "    def StandardizedEuclidean(self, dataSet, inputVector):\n",
    "        '''标准化欧氏距离:\n",
    "        这个也测试过了，在这个project上不适用'''\n",
    "        pass\n",
    "    \n",
    "    def Mahalanobis(self, dataSet, inputVector):\n",
    "        '''马氏距离'''\n",
    "        def SubMahalanobis(vec1, vec2):\n",
    "            npvec = np.array([vec1, vec2])\n",
    "            sub = npvec.T[0]-npvec.T[1]\n",
    "            #print(np.cov(vec1, vec2))\n",
    "            inv_sub = np.linalg.pinv(np.cov(vec1, vec2))\n",
    "            return np.sqrt(np.dot(inv_sub, sub).dot(sub.T))  \n",
    "        \n",
    "        distances = np.zeros(dataSet.shape[0])\n",
    "        for i in range(dataSet.shape[0]):\n",
    "            distances[i] = SubMahalanobis(dataSet[i,:], inputVector)\n",
    "        return distances\n",
    "    \n",
    "    def Cosine(self, dataSet, inputVector):\n",
    "        '''夹角余弦'''\n",
    "        a = np.dot(dataSet, inputVector.T)\n",
    "        b = np.sqrt(np.sum(dataSet**2, axis=1))\n",
    "        c = np.sqrt(np.sum(inputVector**2))\n",
    "        distances = a/(b*c)\n",
    "        return distances\n",
    "    \n",
    "    def Hamming(self, dataSet, inputVector):\n",
    "        '''汉明距离:\n",
    "        两个等长字符串s1与s2之间的汉明距离定义为将其中一个变为另外一个所需要作的最小替换次数。\n",
    "        例如字符串“1111”与“1001”之间的汉明距离为2。\n",
    "        这个在离散变量上可能有效果，但是在连续数据上直接应用怕是不行'''\n",
    "        pass    \n",
    "    \n",
    "    def JaccardSimilarity(self, dataSet, inputVector):\n",
    "        '''杰卡德相似系数：\n",
    "        两个集合A和B的交集元素在A，B的并集中所占的比例，称为两个集合的杰卡德相似系数\n",
    "        在此次project怕也是无法应用'''\n",
    "        pass\n",
    "    \n",
    "    def Correlation(self, dataSet, inputVector):\n",
    "        '''相关距离'''\n",
    "        distances = np.zeros(dataSet.shape[0])\n",
    "        for i in range(dataSet.shape[0]):\n",
    "            distances[i] = 1 - np.corrcoef(np.vstack([dataSet[i,:], inputVector]))[0,1]\n",
    "#         distances = 1 - np.corrcoef(np.vstack([dataSet, inputVector]))[]\n",
    "        return distances\n",
    "     \n",
    "    def calcDistance(self, dataSet, inputVector):\n",
    "        \n",
    "        if self.tag == 1:\n",
    "            return self.Manhattan(dataSet, inputVector)\n",
    "        elif self.tag == 2:\n",
    "            return self.Chebyshev(dataSet, inputVector)\n",
    "        elif self.tag == 3:\n",
    "            return self.Cosine(dataSet, inputVector)\n",
    "        elif self.tag == 4:\n",
    "            return self.Mahalanobis(dataSet, inputVector)\n",
    "        else:\n",
    "            return self.Correlation(dataSet, inputVector)\n",
    "\n",
    "############### 函数测试 ##################                \n",
    "# distanceMetric(1).calcDistance(arr([[1,1,0,0],\n",
    "#                                     [0,1,1,1],\n",
    "#                                     [1,0,0,1]]), arr([0,1,1,0]))\n",
    "\n",
    "# distanceMetric(2).calcDistance(arr([[2,1,0,0],\n",
    "#                                     [0,1,8,1],\n",
    "#                                     [1,0,0,6]]), arr([0,1,1,0]))\n",
    "\n",
    "# distanceMetric(4).calcDistance(arr([[2,1,0,0],\n",
    "#                                     [0,1,8,1],\n",
    "#                                     [1,0,0,6]]), arr([0,1,1,0]))\n",
    "                    \n",
    "# distanceMetric(3).calcDistance(arr([[2,1,0,0],\n",
    "#                                     [0,1,8,1],\n",
    "#                                     [1,0,0,6]]), arr([0,1,1,0]))\n",
    "\n",
    "# distanceMetric(5).calcDistance(arr([[1,2,3,4]]), arr([3,8,7,6]))"
   ]
  },
  {
   "cell_type": "markdown",
   "metadata": {},
   "source": [
    "# KNN"
   ]
  },
  {
   "cell_type": "code",
   "execution_count": 6,
   "metadata": {
    "ExecuteTime": {
     "end_time": "2018-01-11T21:37:08.762766Z",
     "start_time": "2018-01-11T21:37:08.639179Z"
    }
   },
   "outputs": [
    {
     "data": {
      "text/plain": [
       "1"
      ]
     },
     "execution_count": 6,
     "metadata": {},
     "output_type": "execute_result"
    }
   ],
   "source": [
    "def knn_classify(dataSet, labels, k, inputVector, distanceMetricID):\n",
    "    '''使用knn对输入的向量进行分类，使用距离加权'''\n",
    "    dm = distanceMetric(distanceMetricID)\n",
    "    distances = dm.calcDistance(dataSet, inputVector)\n",
    "    #得到 K 个近邻的下标\n",
    "    kNeighborsIndex  = distances.argpartition(k-1)[0:k]\n",
    "    #计算 K 个近邻的距离倒数\n",
    "    kDatas = 1/distances[kNeighborsIndex]\n",
    "    #得到 对应的 K 个标签\n",
    "    kLabels = labels[kNeighborsIndex]\n",
    "    \n",
    "    predictLabel = np.NAN\n",
    "    maxDis = -np.inf\n",
    "    for i in np.unique(kLabels):\n",
    "        dis = np.sum(kDatas[kLabels==i]) \n",
    "        #print(dis)\n",
    "        if dis > maxDis:\n",
    "            maxDis = dis\n",
    "            predictLabel = i\n",
    "    #返回分类结果\n",
    "    return predictLabel\n",
    "\n",
    "##############测试程序#######################\n",
    "knn_classify(arr([[1,1,0,0],\n",
    "              [0,1,1,1],\n",
    "              [1,0,0,1]]).copy(), arr([1, 0, 1]), 3, arr([0,1,1,0]), 2)\n",
    "##############测试程序#######################"
   ]
  },
  {
   "cell_type": "markdown",
   "metadata": {},
   "source": [
    "# 调参\n",
    "\n",
    "所调参数只有K。"
   ]
  },
  {
   "cell_type": "code",
   "execution_count": 7,
   "metadata": {
    "ExecuteTime": {
     "end_time": "2018-01-11T21:37:09.028454Z",
     "start_time": "2018-01-11T21:37:08.772272Z"
    },
    "collapsed": true
   },
   "outputs": [],
   "source": [
    "def run_knn_classify(dataSet, k, distanceId):\n",
    "    ansLabel = []\n",
    "    for i in tnrange(len(dataSet), leave=False):\n",
    "        ansLabel.append(knn_classify(trainSet, trainSetLabel, k, dataSet[i], distanceId))\n",
    "    return arr(ansLabel)\n",
    "\n",
    "def getTestF1(k, distanceId):\n",
    "    ansLabel = run_knn_classify(validateSet, k, distanceId)\n",
    "    return calcF1(ansLabel, validateSetLabel)"
   ]
  },
  {
   "cell_type": "code",
   "execution_count": 18,
   "metadata": {
    "ExecuteTime": {
     "end_time": "2018-01-11T23:04:11.948417Z",
     "start_time": "2018-01-11T23:00:56.124350Z"
    }
   },
   "outputs": [
    {
     "name": "stdout",
     "output_type": "stream",
     "text": [
      "\r"
     ]
    },
    {
     "data": {
      "text/plain": [
       "0.8460229689493832"
      ]
     },
     "execution_count": 18,
     "metadata": {},
     "output_type": "execute_result"
    }
   ],
   "source": [
    "idx_1 = [5]\n",
    "idx_2 = [16]\n",
    "a = 10\n",
    "b = 3\n",
    "\n",
    "trainSet[:, idx_1] *= a\n",
    "validateSet[:, idx_1] *= a\n",
    "# trainSet[:, idx_2] *= b\n",
    "# validateSet[:, idx_2] *= b\n",
    "\n",
    "getTestF1(1,1)\n",
    "\n",
    "trainSet[:, idx_1] /= a\n",
    "validateSet[:, idx_1] /= a\n",
    "# trainSet[:, idx_2] /= b\n",
    "# validateSet[:, idx_2] /= b"
   ]
  },
  {
   "cell_type": "markdown",
   "metadata": {},
   "source": [
    "```\n",
    "feature   correlation    P-value\n",
    "C0:     (-0.1367228801231376, 5.6128076980813327e-199)\n",
    "C2:     (-0.010606971574000507, 0.020132146981624768)\n",
    "C3:     (-0.020491007131788752, 7.13204838678767e-06)\n",
    "C4:     (-0.018251452638581255, 6.3631684408671407e-05)\n",
    "C5:     (0.060864948512591527, 1.2353251190166544e-40)\n",
    "C6:     (0.033848102804751375, 1.1918967614351947e-13)\n",
    "C7:     (-0.003857965644441051, 0.39798854401833916)\n",
    "C8:     (0.0096253273294879434, 0.034962065531650773)\n",
    "C9:     (0.14238764472723386, 8.4129813312857441e-216)\n",
    "C10:     (0.048925696083644915, 7.7496877848978146e-27)\n",
    "C11:     (0.050970941935891474, 5.4572580679401273e-29)\n",
    "C12:     (-0.010848298342236428, 0.017465868226132608)\n",
    "C13:     (1.0, 0.0)\n",
    "```"
   ]
  },
  {
   "cell_type": "code",
   "execution_count": 8,
   "metadata": {
    "ExecuteTime": {
     "end_time": "2018-01-11T21:37:09.209597Z",
     "start_time": "2018-01-11T21:37:09.036461Z"
    },
    "collapsed": true
   },
   "outputs": [],
   "source": [
    "def getTestF1_2(train, validate, k, distanceId):\n",
    "    ansLabel = []\n",
    "    for i in tnrange(len(validate), leave=False):\n",
    "        ansLabel.append(knn_classify(train, trainSetLabel, k, validate[i], distanceId))\n",
    "    return calcF1(arr(ansLabel), validateSetLabel)"
   ]
  },
  {
   "cell_type": "code",
   "execution_count": 9,
   "metadata": {
    "ExecuteTime": {
     "end_time": "2018-01-11T22:20:02.770211Z",
     "start_time": "2018-01-11T21:37:09.218604Z"
    }
   },
   "outputs": [
    {
     "name": "stdout",
     "output_type": "stream",
     "text": [
      "0 0.8902005404636609\n",
      "1 0.8901372395648155\n",
      "2 0.8901372395648155\n",
      "3 0.8902005404636609\n",
      "4 0.8902005404636609\n",
      "5 0.7710622710622711\n",
      "6 0.8885413704862098\n",
      "7 0.8704964539007092\n",
      "8 0.8806479113384484\n",
      "9 0.8137227105188546\n",
      "10 0.8843992316995092\n",
      "11 0.8834730709108995\n",
      "12 0.8822901089510788\n",
      "13 0.8206153187236777\n",
      "14 0.8902005404636609\n",
      "15 0.8902005404636609\n",
      "16 0.8903749021839653\n",
      "\n"
     ]
    }
   ],
   "source": [
    "for i in tnrange(trainSet.shape[1]):\n",
    "    train = np.delete(trainSet, i, 1)\n",
    "    validate = np.delete(validateSet, i, 1)\n",
    "    print(i, getTestF1_2(train, validate, 1, 1))"
   ]
  },
  {
   "cell_type": "code",
   "execution_count": 10,
   "metadata": {
    "ExecuteTime": {
     "end_time": "2018-01-05T21:56:55.828918Z",
     "start_time": "2018-01-05T21:54:30.745175Z"
    }
   },
   "outputs": [
    {
     "name": "stdout",
     "output_type": "stream",
     "text": [
      "\r"
     ]
    },
    {
     "data": {
      "text/plain": [
       "0.8602700781805259"
      ]
     },
     "execution_count": 10,
     "metadata": {},
     "output_type": "execute_result"
    }
   ],
   "source": [
    "getTestF1(1, 2)"
   ]
  },
  {
   "cell_type": "code",
   "execution_count": 11,
   "metadata": {
    "ExecuteTime": {
     "end_time": "2018-01-05T21:59:29.338922Z",
     "start_time": "2018-01-05T21:56:55.832419Z"
    }
   },
   "outputs": [
    {
     "name": "stdout",
     "output_type": "stream",
     "text": [
      "\r"
     ]
    },
    {
     "data": {
      "text/plain": [
       "0.6559446444434055"
      ]
     },
     "execution_count": 11,
     "metadata": {},
     "output_type": "execute_result"
    }
   ],
   "source": [
    "getTestF1(1, 3)"
   ]
  },
  {
   "cell_type": "markdown",
   "metadata": {},
   "source": [
    "1-5:\n",
    "\n",
    "测试了之后发现曼哈顿和切比雪夫的表现比较好。\n",
    "\n",
    "所以尝试跑一下这两个距离的rank."
   ]
  },
  {
   "cell_type": "code",
   "execution_count": 13,
   "metadata": {
    "ExecuteTime": {
     "end_time": "2018-01-05T22:13:46.967079Z",
     "start_time": "2018-01-05T22:13:46.960577Z"
    }
   },
   "outputs": [
    {
     "data": {
      "text/plain": [
       "array([1, 2, 3, 4, 5, 6, 7, 8, 9])"
      ]
     },
     "execution_count": 13,
     "metadata": {},
     "output_type": "execute_result"
    }
   ],
   "source": [
    "testRange = np.arange(1, 10)\n",
    "testRange"
   ]
  },
  {
   "cell_type": "markdown",
   "metadata": {},
   "source": [
    "## 测试曼哈顿距离"
   ]
  },
  {
   "cell_type": "code",
   "execution_count": 14,
   "metadata": {
    "ExecuteTime": {
     "end_time": "2018-01-05T22:35:15.913652Z",
     "start_time": "2018-01-05T22:13:54.455111Z"
    }
   },
   "outputs": [
    {
     "name": "stdout",
     "output_type": "stream",
     "text": [
      "\n"
     ]
    },
    {
     "data": {
      "text/plain": [
       "(1, 0.89020054046366093)"
      ]
     },
     "execution_count": 14,
     "metadata": {},
     "output_type": "execute_result"
    }
   ],
   "source": [
    "F1s_1 = []\n",
    "for k in tnrange(1, len(testRange)+1):\n",
    "    F1s_1.append(getTestF1(k, 1))\n",
    "\n",
    "bestK_1 = testRange[np.argmax(F1s_1)]\n",
    "bestK_1, np.max(F1s_1) "
   ]
  },
  {
   "cell_type": "code",
   "execution_count": 10,
   "metadata": {
    "ExecuteTime": {
     "end_time": "2018-01-05T18:14:24.424401Z",
     "start_time": "2018-01-05T18:14:23.662462Z"
    }
   },
   "outputs": [
    {
     "data": {
      "image/png": "[encoded data removed]",
      "text/plain": [
       "<matplotlib.figure.Figure at 0x1f473aacc50>"
      ]
     },
     "metadata": {},
     "output_type": "display_data"
    }
   ],
   "source": [
    "def show_fig():\n",
    "    fig,ax = plt.subplots() \n",
    "    fig.set_size_inches(10, 4)\n",
    "    plt.plot(testRange, F1s_1, 'g')\n",
    "    plt.xlabel('K')\n",
    "    plt.ylabel('F1(%)')\n",
    "    plt.title(\"F1 versus K with KNN\")\n",
    "    plt.show()\n",
    "    plt.close()\n",
    "    \n",
    "show_fig()"
   ]
  },
  {
   "cell_type": "markdown",
   "metadata": {},
   "source": [
    "## 测试切比雪夫距离"
   ]
  },
  {
   "cell_type": "code",
   "execution_count": 15,
   "metadata": {
    "ExecuteTime": {
     "end_time": "2018-01-05T22:56:50.940089Z",
     "start_time": "2018-01-05T22:35:15.916155Z"
    }
   },
   "outputs": [
    {
     "name": "stdout",
     "output_type": "stream",
     "text": [
      "\n"
     ]
    },
    {
     "data": {
      "text/plain": [
       "(1, 0.86027007818052592)"
      ]
     },
     "execution_count": 15,
     "metadata": {},
     "output_type": "execute_result"
    }
   ],
   "source": [
    "F1s_2 = []\n",
    "for k in tnrange(1, len(testRange)+1):\n",
    "    F1s_2.append(getTestF1(k, 2))\n",
    "\n",
    "bestK_2 = testRange[np.argmax(F1s_2)]\n",
    "bestK_2, np.max(F1s_2) "
   ]
  },
  {
   "cell_type": "code",
   "execution_count": 16,
   "metadata": {
    "ExecuteTime": {
     "end_time": "2018-01-05T22:56:51.603857Z",
     "start_time": "2018-01-05T22:56:50.942591Z"
    }
   },
   "outputs": [
    {
     "data": {
      "image/png": "[encoded data removed]",
      "text/plain": [
       "<matplotlib.figure.Figure at 0x22b0f945c50>"
      ]
     },
     "metadata": {},
     "output_type": "display_data"
    }
   ],
   "source": [
    "def show_fig():\n",
    "    fig,ax = plt.subplots() \n",
    "    fig.set_size_inches(10, 4)\n",
    "    plt.plot(testRange, F1s_2, 'g')\n",
    "    plt.xlabel('K')\n",
    "    plt.ylabel('F1(%)')\n",
    "    plt.title(\"F1 versus K with KNN\")\n",
    "    plt.show()\n",
    "    plt.close()\n",
    "    \n",
    "show_fig()"
   ]
  },
  {
   "cell_type": "markdown",
   "metadata": {},
   "source": [
    "# 应用算法到测试集"
   ]
  },
  {
   "cell_type": "code",
   "execution_count": 11,
   "metadata": {
    "ExecuteTime": {
     "end_time": "2018-01-05T18:14:24.432907Z",
     "start_time": "2018-01-05T18:14:24.426902Z"
    },
    "collapsed": true
   },
   "outputs": [],
   "source": [
    "# ansLabel = run_knn_classify(testSet, bestK)\n",
    "# np.savetxt('.\\\\rank\\\\47_v2.csv', ansLabel, fmt=\"%d\", delimiter=\"\\n\")"
   ]
  }
 ],
 "metadata": {
  "anaconda-cloud": {},
  "kernelspec": {
   "display_name": "Python [conda root]",
   "language": "python",
   "name": "conda-root-py"
  },
  "language_info": {
   "codemirror_mode": {
    "name": "ipython",
    "version": 3
   },
   "file_extension": ".py",
   "mimetype": "text/x-python",
   "name": "python",
   "nbconvert_exporter": "python",
   "pygments_lexer": "ipython3",
   "version": "3.5.2"
  },
  "toc": {
   "nav_menu": {},
   "number_sections": true,
   "sideBar": true,
   "skip_h1_title": false,
   "toc_cell": false,
   "toc_position": {},
   "toc_section_display": "block",
   "toc_window_display": false
  },
  "widgets": {
   "state": {
    "96b5143961454521ba8fa5f368bce6f7": {
     "views": [
      {
       "cell_index": 16
      }
     ]
    }
   },
   "version": "1.2.0"
  }
 },
 "nbformat": 4,
 "nbformat_minor": 2
}
