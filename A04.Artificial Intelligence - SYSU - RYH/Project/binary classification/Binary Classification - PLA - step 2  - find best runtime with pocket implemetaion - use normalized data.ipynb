{
 "cells": [
  {
   "cell_type": "code",
   "execution_count": 7,
   "metadata": {
    "ExecuteTime": {
     "end_time": "2017-12-22T17:22:18.903200Z",
     "start_time": "2017-12-22T17:22:18.889693Z"
    },
    "collapsed": true
   },
   "outputs": [],
   "source": [
    "from IPython.core.interactiveshell import InteractiveShell\n",
    "InteractiveShell.ast_node_interactivity = \"all\"\n",
    "\n",
    "from collections import Counter\n",
    "import numpy as np\n",
    "import matplotlib.pyplot as plt\n",
    "from functools import reduce\n",
    "import pdir as pr\n",
    "import pandas as pd\n",
    "import os\n",
    "from tqdm import tqdm, tnrange, tqdm_notebook\n",
    "\n",
    "DF = pd.DataFrame\n",
    "arr = np.array"
   ]
  },
  {
   "cell_type": "markdown",
   "metadata": {},
   "source": [
    "# 读取数据"
   ]
  },
  {
   "cell_type": "code",
   "execution_count": 8,
   "metadata": {
    "ExecuteTime": {
     "end_time": "2017-12-22T17:22:23.890909Z",
     "start_time": "2017-12-22T17:22:18.907205Z"
    }
   },
   "outputs": [
    {
     "data": {
      "text/plain": [
       "((33600, 18), (14400, 18), (12000, 17))"
      ]
     },
     "execution_count": 8,
     "metadata": {},
     "output_type": "execute_result"
    }
   ],
   "source": [
    "dirPath = \"data preprocessed\\\\normalized\"\n",
    "\n",
    "means, stds = eval(open(dirPath + \"\\\\means_and_stds_about_trainset.py\").read())\n",
    "\n",
    "trainSet_origin = np.loadtxt(dirPath + '\\\\train.csv', delimiter=\",\")\n",
    "validateSet_origin = np.loadtxt(dirPath + '\\\\validate.csv', delimiter=\",\")\n",
    "testSet = np.loadtxt(dirPath + '\\\\test.csv', delimiter=\",\")\n",
    "\n",
    "trainSet_origin.shape, validateSet_origin.shape, testSet.shape"
   ]
  },
  {
   "cell_type": "markdown",
   "metadata": {
    "ExecuteTime": {
     "end_time": "2017-12-20T23:04:38.482750Z",
     "start_time": "2017-12-20T23:04:38.462735Z"
    }
   },
   "source": [
    "划分数据集特征和标签："
   ]
  },
  {
   "cell_type": "code",
   "execution_count": 9,
   "metadata": {
    "ExecuteTime": {
     "end_time": "2017-12-22T17:22:23.904418Z",
     "start_time": "2017-12-22T17:22:23.894412Z"
    }
   },
   "outputs": [
    {
     "data": {
      "text/plain": [
       "((33600, 17), (14400, 17))"
      ]
     },
     "execution_count": 9,
     "metadata": {},
     "output_type": "execute_result"
    }
   ],
   "source": [
    "trainSet, trainSetLabel = trainSet_origin[:, :-1], trainSet_origin[:, -1]\n",
    "validateSet, validateSetLabel = validateSet_origin[:, :-1], validateSet_origin[:, -1]\n",
    "trainSet.shape, validateSet.shape"
   ]
  },
  {
   "cell_type": "markdown",
   "metadata": {},
   "source": [
    "由于PLA的分类标签为+1和-1，因此要把原来数据集的0标签替换为-1."
   ]
  },
  {
   "cell_type": "code",
   "execution_count": 10,
   "metadata": {
    "ExecuteTime": {
     "end_time": "2017-12-22T17:22:24.045019Z",
     "start_time": "2017-12-22T17:22:23.907422Z"
    }
   },
   "outputs": [
    {
     "data": {
      "text/plain": [
       "(Counter({-1.0: 17216, 1.0: 16384}), Counter({-1.0: 7377, 1.0: 7023}))"
      ]
     },
     "execution_count": 10,
     "metadata": {},
     "output_type": "execute_result"
    }
   ],
   "source": [
    "trainSetLabel[trainSetLabel == 0.0] = -1.0\n",
    "validateSetLabel[validateSetLabel == 0.0] = -1.0\n",
    "\n",
    "Counter(trainSetLabel), Counter(validateSetLabel)"
   ]
  },
  {
   "cell_type": "markdown",
   "metadata": {},
   "source": [
    "# 实现评测指标"
   ]
  },
  {
   "cell_type": "code",
   "execution_count": 11,
   "metadata": {
    "ExecuteTime": {
     "end_time": "2017-12-22T17:22:24.198129Z",
     "start_time": "2017-12-22T17:22:24.064033Z"
    }
   },
   "outputs": [
    {
     "name": "stdout",
     "output_type": "stream",
     "text": [
      "test 1: normal one\n",
      "TP FN FP 1 1 1\n"
     ]
    },
    {
     "data": {
      "text/plain": [
       "0.5"
      ]
     },
     "execution_count": 11,
     "metadata": {},
     "output_type": "execute_result"
    },
    {
     "name": "stdout",
     "output_type": "stream",
     "text": [
      "\n",
      "test 2: may have zero division error\n",
      "TP FN FP 1 1 0\n"
     ]
    },
    {
     "data": {
      "text/plain": [
       "0.6666666666666666"
      ]
     },
     "execution_count": 11,
     "metadata": {},
     "output_type": "execute_result"
    }
   ],
   "source": [
    "def calcF1(predictLabel, realLabel, printRes=False):\n",
    "    '''给定算法得到的分类结果和实际的分类结果，计算评测指标\n",
    "    注意：标签为1则为正标签，标签不为1则为负标签'''\n",
    "    def safeDivide(a, b):\n",
    "        '''子函数：当分母为0时返回除式结果为 -1'''\n",
    "        return a/b if b != 0 else 0\n",
    "    \n",
    "    TP = Counter(np.logical_and(predictLabel==1, realLabel==1))[True]\n",
    "    FN = Counter(np.logical_and(predictLabel!=1, realLabel==1))[True]\n",
    "    FP = Counter(np.logical_and(predictLabel==1, realLabel!=1))[True]\n",
    "    if(printRes):\n",
    "        print(\"TP FN FP\", TP, FN, FP)\n",
    "    F1 = safeDivide(2*TP, 2*TP+FN+FP)\n",
    "    return F1\n",
    "\n",
    "print('test 1: normal one')\n",
    "calcF1(arr([1, 1, 0, 0]), arr([1, 0, 1, 0]), True)\n",
    "print('\\ntest 2: may have zero division error')\n",
    "calcF1(arr([0, 0, 1, 0]), arr([1, 0, 1, 0]), True)"
   ]
  },
  {
   "cell_type": "markdown",
   "metadata": {},
   "source": [
    "# PLA"
   ]
  },
  {
   "cell_type": "code",
   "execution_count": 43,
   "metadata": {
    "ExecuteTime": {
     "end_time": "2017-12-22T17:51:32.273375Z",
     "start_time": "2017-12-22T17:51:31.972660Z"
    }
   },
   "outputs": [
    {
     "name": "stdout",
     "output_type": "stream",
     "text": [
      "最终训练得到的参数 w 为： [ 1. -3. -3.]\n",
      "对测试数据集 [[-2  3]] 划分的结果为： [-1.] \n"
     ]
    }
   ],
   "source": [
    "class PLA_pocket:\n",
    "    \n",
    "    def addOne2Samples(self, dataSet):\n",
    "        '''给每一个样本前加一个常数1'''\n",
    "        ones = np.ones(len(dataSet))\n",
    "        return np.column_stack((ones, dataSet))\n",
    "    \n",
    "    def apply2TrainSet(self, trainSet):\n",
    "        '''根据当前的 w 对训练集进行划分，在计算评估值时调用'''\n",
    "        outputLabel = np.zeros(trainSet.shape[0])\n",
    "        for index, sample in enumerate(trainSet):\n",
    "            outputLabel[index] = np.sign(np.dot(sample, self.w))\n",
    "        return outputLabel\n",
    "    \n",
    "    def calcCurrentF1(self, trainSet, reallabel):\n",
    "        '''计算当前 w 的用指定指标评估的效果'''\n",
    "        #得到当前 w 对训练集进行划分结果\n",
    "        outputLabel = self.apply2TrainSet(trainSet)\n",
    "        #返回指定评估结果\n",
    "        return calcF1(outputLabel, reallabel)\n",
    "    \n",
    "    def fit(self, trainSet, label, maxRunTimes=100):\n",
    "        '''根据给定的训练集和标签训练PLA的参数 w '''\n",
    "        #设置默认的 w 全为1\n",
    "        self.w = np.ones(trainSet.shape[1]+1)\n",
    "        self.w_best = np.ones(trainSet.shape[1]+1)\n",
    "        #给每一个样本前加一个常数1\n",
    "        trainSet = self.addOne2Samples(trainSet)\n",
    "        \n",
    "        maxF1 = -0.1\n",
    "        for i in range(maxRunTimes):\n",
    "            #遍历所有样本\n",
    "            for index, sample in enumerate(trainSet):\n",
    "                #更新预测错误的样本\n",
    "                if np.sign(np.dot(sample, self.w)) != label[index]:\n",
    "                    self.w += label[index]*sample\n",
    "                    #检查是否更新最优的 w \n",
    "                    currentF1 = self.calcCurrentF1(trainSet, label)\n",
    "                    if currentF1 > maxF1:\n",
    "                        self.w_best = self.w.copy()\n",
    "                        maxF1 = currentF1\n",
    "                        \n",
    "    def apply(self, otherSet):\n",
    "        '''根据已训练出最优的 w 对其他数据集进行划分'''\n",
    "        otherSet = self.addOne2Samples(otherSet)\n",
    "        outputLabel = np.zeros(otherSet.shape[0])\n",
    "        for index, sample in enumerate(otherSet):\n",
    "            outputLabel[index] = np.sign(np.dot(sample, self.w_best))\n",
    "        return outputLabel\n",
    "    \n",
    "    def getW(self):\n",
    "        return self.w_best\n",
    "\n",
    "class PLA_pocket_test(PLA_pocket):\n",
    "    \n",
    "    def __init__(self, runTimeEnd=10000, runTimeStep=100):\n",
    "        self.runTimeEnd = runTimeEnd\n",
    "        self.runTimeStep = runTimeStep\n",
    "        self.testRange = np.arange(runTimeStep, runTimeEnd+runTimeStep, runTimeStep)\n",
    "        \n",
    "    def fit(self, trainSet, trainSetlabel, validateSet, validateSetLabel):\n",
    "        '''根据给定的训练集和标签训练PLA的参数 w '''\n",
    "        #设置默认的 w 全为1\n",
    "        self.w = np.ones(trainSet.shape[1]+1)\n",
    "        self.w_best = np.ones(trainSet.shape[1]+1)\n",
    "        #给每一个样本前加一个常数1\n",
    "        trainSet = self.addOne2Samples(trainSet)\n",
    "        validate = self.addOne2Samples(validateSet)\n",
    "        maxF1 = -0.1\n",
    "        F1s = []\n",
    "        for i in tnrange(1, self.runTimeEnd+1):\n",
    "            #遍历所有样本\n",
    "            for index in tnrange(len(trainSet), leave=False):\n",
    "                sample = trainSet[index]\n",
    "                #更新预测错误的样本\n",
    "                if np.sign(np.dot(sample, self.w)) != trainSetlabel[index]:\n",
    "                    self.w += trainSetlabel[index]*sample\n",
    "                    #检查是否更新最优的 w \n",
    "                    currentF1 = self.calcCurrentF1(trainSet, trainSetlabel)\n",
    "                    if currentF1 > maxF1:\n",
    "                        self.w_best = self.w.copy()\n",
    "                        maxF1 = currentF1\n",
    "            #在验证集上测试\n",
    "            if i%self.runTimeStep == 0:\n",
    "                ansLabel = self.apply(validate)\n",
    "                F1s.append(calcF1(ansLabel, validateSetLabel))\n",
    "        return F1s\n",
    "                \n",
    "    def apply(self, otherSet):\n",
    "        '''根据已训练出最优的 w 对其他数据集进行划分'''\n",
    "        #otherSet = self.addOne2Samples(otherSet)\n",
    "        outputLabel = np.zeros(otherSet.shape[0])\n",
    "        for index, sample in enumerate(otherSet):\n",
    "            outputLabel[index] = np.sign(np.dot(sample, self.w_best))\n",
    "        return outputLabel    \n",
    "\n",
    "############测试程序###################\n",
    "a = arr([[-4, -1], [0, 3]]) # trainSet\n",
    "b = arr([1,-1])             # label\n",
    "e = arr([[-2, 3]])          # otherSet\n",
    "\n",
    "p = PLA_pocket()    # 得到PLA类\n",
    "p.fit(a, b, maxRunTimes=10)      # 给定的训练集和标签，训练PLA的参数 w\n",
    "print(\"最终训练得到的参数 w 为：\", p.getW())  \n",
    "print(\"对测试数据集 %s 划分的结果为： %s \" %(e, p.apply(e)))\n",
    "############测试程序###################"
   ]
  },
  {
   "cell_type": "markdown",
   "metadata": {},
   "source": [
    "# 调参\n",
    "\n",
    "所调参数只有迭代次数。"
   ]
  },
  {
   "cell_type": "code",
   "execution_count": 46,
   "metadata": {
    "ExecuteTime": {
     "end_time": "2017-12-22T18:21:13.813661Z",
     "start_time": "2017-12-22T18:21:13.803654Z"
    }
   },
   "outputs": [
    {
     "data": {
      "text/plain": [
       "array([ 1,  2,  3,  4,  5,  6,  7,  8,  9, 10])"
      ]
     },
     "execution_count": 46,
     "metadata": {},
     "output_type": "execute_result"
    },
    {
     "data": {
      "text/plain": [
       "10"
      ]
     },
     "execution_count": 46,
     "metadata": {},
     "output_type": "execute_result"
    }
   ],
   "source": [
    "pla_test = PLA_pocket_test(runTimeEnd=10, runTimeStep=1)\n",
    "pla_test.testRange\n",
    "len(pla_test.testRange)"
   ]
  },
  {
   "cell_type": "code",
   "execution_count": 47,
   "metadata": {
    "ExecuteTime": {
     "end_time": "2017-12-22T22:35:50.894939Z",
     "start_time": "2017-12-22T18:21:17.397247Z"
    }
   },
   "outputs": [
    {
     "name": "stdout",
     "output_type": "stream",
     "text": [
      "\n"
     ]
    }
   ],
   "source": [
    "ansF1s = pla_test.fit(trainSet, trainSetLabel, validateSet, validateSetLabel)    "
   ]
  },
  {
   "cell_type": "code",
   "execution_count": 48,
   "metadata": {
    "ExecuteTime": {
     "end_time": "2017-12-22T22:40:03.018070Z",
     "start_time": "2017-12-22T22:40:02.996548Z"
    }
   },
   "outputs": [
    {
     "data": {
      "text/plain": [
       "(9, 0.72790253225035839)"
      ]
     },
     "execution_count": 48,
     "metadata": {},
     "output_type": "execute_result"
    }
   ],
   "source": [
    "bestRuntime = pla_test.testRange[np.argmax(ansF1s)]\n",
    "bestRuntime, np.max(ansF1s)"
   ]
  },
  {
   "cell_type": "code",
   "execution_count": 49,
   "metadata": {
    "ExecuteTime": {
     "end_time": "2017-12-22T22:40:12.760713Z",
     "start_time": "2017-12-22T22:40:12.757709Z"
    },
    "collapsed": true
   },
   "outputs": [],
   "source": [
    "InteractiveShell.ast_node_interactivity = \"none\""
   ]
  },
  {
   "cell_type": "code",
   "execution_count": 50,
   "metadata": {
    "ExecuteTime": {
     "end_time": "2017-12-22T22:40:17.194232Z",
     "start_time": "2017-12-22T22:40:16.917998Z"
    }
   },
   "outputs": [
    {
     "data": {
      "image/png": "[encoded data removed]",
      "text/plain": [
       "<matplotlib.figure.Figure at 0x16c19198c88>"
      ]
     },
     "metadata": {},
     "output_type": "display_data"
    }
   ],
   "source": [
    "fig,ax = plt.subplots() \n",
    "fig.set_size_inches(7.5, 4)\n",
    "plt.plot(pla_test.testRange, ansF1s, 'g')\n",
    "plt.xlabel('run time')\n",
    "plt.ylabel('F1(%)')\n",
    "plt.title(\"F1 versus run time with PLA\")\n",
    "plt.show()\n",
    "plt.close()"
   ]
  },
  {
   "cell_type": "code",
   "execution_count": 53,
   "metadata": {
    "ExecuteTime": {
     "end_time": "2017-12-22T22:44:50.230950Z",
     "start_time": "2017-12-22T22:44:50.226948Z"
    },
    "collapsed": true
   },
   "outputs": [],
   "source": [
    "InteractiveShell.ast_node_interactivity = \"all\""
   ]
  },
  {
   "cell_type": "markdown",
   "metadata": {},
   "source": [
    "# 应用算法到测试集"
   ]
  },
  {
   "cell_type": "code",
   "execution_count": 54,
   "metadata": {
    "ExecuteTime": {
     "end_time": "2017-12-22T22:44:52.346402Z",
     "start_time": "2017-12-22T22:44:52.259787Z"
    },
    "collapsed": true
   },
   "outputs": [],
   "source": [
    "ansLabel = pla_test.apply(pla_test.addOne2Samples(testSet))\n",
    "ansLabel[ansLabel == -1.0] = 0.0 #记得要把-1标签转为0\n",
    "np.savetxt('.\\\\rank\\\\47_v3.csv', ansLabel, fmt=\"%d\", delimiter=\"\\n\")"
   ]
  },
  {
   "cell_type": "code",
   "execution_count": 55,
   "metadata": {
    "ExecuteTime": {
     "end_time": "2017-12-22T22:44:56.524735Z",
     "start_time": "2017-12-22T22:44:56.505716Z"
    }
   },
   "outputs": [
    {
     "data": {
      "text/plain": [
       "Counter({0.0: 3849, 1.0: 8151})"
      ]
     },
     "execution_count": 55,
     "metadata": {},
     "output_type": "execute_result"
    },
    {
     "data": {
      "text/plain": [
       "0.67925"
      ]
     },
     "execution_count": 55,
     "metadata": {},
     "output_type": "execute_result"
    }
   ],
   "source": [
    "Counter(ansLabel)\n",
    "one = Counter(ansLabel)[1.0]\n",
    "zero = Counter(ansLabel)[0.0]\n",
    "one/(one + zero)"
   ]
  }
 ],
 "metadata": {
  "anaconda-cloud": {},
  "kernelspec": {
   "display_name": "Python [conda root]",
   "language": "python",
   "name": "conda-root-py"
  },
  "language_info": {
   "codemirror_mode": {
    "name": "ipython",
    "version": 3
   },
   "file_extension": ".py",
   "mimetype": "text/x-python",
   "name": "python",
   "nbconvert_exporter": "python",
   "pygments_lexer": "ipython3",
   "version": "3.5.2"
  },
  "toc": {
   "nav_menu": {},
   "number_sections": true,
   "sideBar": true,
   "skip_h1_title": false,
   "toc_cell": false,
   "toc_position": {},
   "toc_section_display": "block",
   "toc_window_display": false
  },
  "widgets": {
   "state": {
    "e496c8ce2e2c43d7b9dd4086abadbfb0": {
     "views": [
      {
       "cell_index": 13
      }
     ]
    },
    "fd76cc4c68eb47ab87f38a976084abc5": {
     "views": [
      {
       "cell_index": 13
      }
     ]
    }
   },
   "version": "1.2.0"
  }
 },
 "nbformat": 4,
 "nbformat_minor": 2
}
