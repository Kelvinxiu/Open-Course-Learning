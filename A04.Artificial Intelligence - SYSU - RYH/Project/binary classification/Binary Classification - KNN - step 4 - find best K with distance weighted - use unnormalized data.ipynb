{
 "cells": [
  {
   "cell_type": "code",
   "execution_count": 1,
   "metadata": {
    "ExecuteTime": {
     "end_time": "2017-12-23T12:55:57.857807Z",
     "start_time": "2017-12-23T12:55:56.933896Z"
    },
    "collapsed": true
   },
   "outputs": [],
   "source": [
    "from IPython.core.interactiveshell import InteractiveShell\n",
    "InteractiveShell.ast_node_interactivity = \"all\"\n",
    "\n",
    "from collections import Counter\n",
    "import numpy as np\n",
    "import matplotlib.pyplot as plt\n",
    "from functools import reduce\n",
    "import pdir as pr\n",
    "import pandas as pd\n",
    "import os\n",
    "from tqdm import tqdm, tnrange, tqdm_notebook\n",
    "\n",
    "DF = pd.DataFrame\n",
    "arr = np.array"
   ]
  },
  {
   "cell_type": "markdown",
   "metadata": {},
   "source": [
    "# 读取数据"
   ]
  },
  {
   "cell_type": "code",
   "execution_count": 2,
   "metadata": {
    "ExecuteTime": {
     "end_time": "2017-12-23T12:56:00.324643Z",
     "start_time": "2017-12-23T12:55:57.860306Z"
    }
   },
   "outputs": [
    {
     "data": {
      "text/plain": [
       "((33600, 18), (14400, 18), (12000, 17))"
      ]
     },
     "execution_count": 2,
     "metadata": {},
     "output_type": "execute_result"
    }
   ],
   "source": [
    "dirPath = \"data preprocessed\\\\unnormalized\"\n",
    "\n",
    "trainSet_origin = np.loadtxt(dirPath + '\\\\train.csv', delimiter=\",\")\n",
    "validateSet_origin = np.loadtxt(dirPath + '\\\\validate.csv', delimiter=\",\")\n",
    "testSet = np.loadtxt(dirPath + '\\\\test.csv', delimiter=\",\")\n",
    "\n",
    "trainSet_origin.shape, validateSet_origin.shape, testSet.shape"
   ]
  },
  {
   "cell_type": "markdown",
   "metadata": {
    "ExecuteTime": {
     "end_time": "2017-12-20T23:04:38.482750Z",
     "start_time": "2017-12-20T23:04:38.462735Z"
    }
   },
   "source": [
    "划分数据集特征和标签："
   ]
  },
  {
   "cell_type": "code",
   "execution_count": 3,
   "metadata": {
    "ExecuteTime": {
     "end_time": "2017-12-23T12:56:00.336635Z",
     "start_time": "2017-12-23T12:56:00.327126Z"
    }
   },
   "outputs": [
    {
     "data": {
      "text/plain": [
       "((33600, 17), (14400, 17))"
      ]
     },
     "execution_count": 3,
     "metadata": {},
     "output_type": "execute_result"
    }
   ],
   "source": [
    "trainSet, trainSetLabel = trainSet_origin[:, :-1], trainSet_origin[:, -1]\n",
    "validateSet, validateSetLabel = validateSet_origin[:, :-1], validateSet_origin[:, -1]\n",
    "trainSet.shape, validateSet.shape"
   ]
  },
  {
   "cell_type": "markdown",
   "metadata": {},
   "source": [
    "# 实现评测指标"
   ]
  },
  {
   "cell_type": "code",
   "execution_count": 4,
   "metadata": {
    "ExecuteTime": {
     "end_time": "2017-12-23T12:56:00.520288Z",
     "start_time": "2017-12-23T12:56:00.339135Z"
    }
   },
   "outputs": [
    {
     "name": "stdout",
     "output_type": "stream",
     "text": [
      "test 1: normal one\n",
      "TP FN FP 1 1 1\n"
     ]
    },
    {
     "data": {
      "text/plain": [
       "0.5"
      ]
     },
     "execution_count": 4,
     "metadata": {},
     "output_type": "execute_result"
    },
    {
     "name": "stdout",
     "output_type": "stream",
     "text": [
      "\n",
      "test 2: may have zero division error\n",
      "TP FN FP 1 1 0\n"
     ]
    },
    {
     "data": {
      "text/plain": [
       "0.6666666666666666"
      ]
     },
     "execution_count": 4,
     "metadata": {},
     "output_type": "execute_result"
    }
   ],
   "source": [
    "def calcF1(predictLabel, realLabel, printRes=False):\n",
    "    '''给定算法得到的分类结果和实际的分类结果，计算评测指标\n",
    "    注意：标签为1则为正标签，标签不为1则为负标签'''\n",
    "    def safeDivide(a, b):\n",
    "        '''子函数：当分母为0时返回除式结果为 -1'''\n",
    "        return a/b if b != 0 else 0\n",
    "    \n",
    "    TP = Counter(np.logical_and(predictLabel==1, realLabel==1))[True]\n",
    "    FN = Counter(np.logical_and(predictLabel!=1, realLabel==1))[True]\n",
    "    FP = Counter(np.logical_and(predictLabel==1, realLabel!=1))[True]\n",
    "    if(printRes):\n",
    "        print(\"TP FN FP\", TP, FN, FP)\n",
    "    F1 = safeDivide(2*TP, 2*TP+FN+FP)\n",
    "    return F1\n",
    "\n",
    "print('test 1: normal one')\n",
    "calcF1(arr([1, 1, 0, 0]), arr([1, 0, 1, 0]), True)\n",
    "print('\\ntest 2: may have zero division error')\n",
    "calcF1(arr([0, 0, 1, 0]), arr([1, 0, 1, 0]), True)"
   ]
  },
  {
   "cell_type": "markdown",
   "metadata": {},
   "source": [
    "# KNN"
   ]
  },
  {
   "cell_type": "code",
   "execution_count": 36,
   "metadata": {
    "ExecuteTime": {
     "end_time": "2017-12-23T13:34:19.252050Z",
     "start_time": "2017-12-23T13:34:19.227533Z"
    }
   },
   "outputs": [
    {
     "data": {
      "text/plain": [
       "0"
      ]
     },
     "execution_count": 36,
     "metadata": {},
     "output_type": "execute_result"
    }
   ],
   "source": [
    "def knn_classify(dataSet, labels, k, inputVector):\n",
    "    '''使用knn对输入的向量进行分类，使用欧式距离'''\n",
    "    #得到输入向量与数据集的差值的平方\n",
    "    diffMat = (dataSet - inputVector)**2\n",
    "    #计算每一行上元素的和\n",
    "    distancesSquare = diffMat.sum(axis=1)\n",
    "    #可以不用计算距离，用距离的平方也可以，这样效率更高\n",
    "    #print(distancesSquare)\n",
    "    #得到 K 个近邻的下标\n",
    "    kNeighborsIndex  = distancesSquare.argpartition(k-1)[0:k]\n",
    "    \n",
    "    #计算 K 个近邻的距离倒数\n",
    "    kDatas = 1/distancesSquare[kNeighborsIndex]\n",
    "    #得到 对应的 K 个标签\n",
    "    kLabels = labels[kNeighborsIndex]\n",
    "    \n",
    "    predictLabel = np.NAN\n",
    "    maxDis = -np.inf\n",
    "    for i in np.unique(kLabels):\n",
    "        dis = np.sum(kDatas[kLabels==i]) \n",
    "        #print(dis)\n",
    "        if dis > maxDis:\n",
    "            maxDis = dis\n",
    "            predictLabel = i\n",
    "    #返回分类结果\n",
    "    return predictLabel\n",
    "\n",
    "##############测试程序#######################\n",
    "knn_classify(arr([[1,1,0,0],\n",
    "              [0,1,1,1],\n",
    "              [1,0,0,1]]), arr([1, 0, 1]), 3, arr([0,1,1,0]))\n",
    "##############测试程序#######################"
   ]
  },
  {
   "cell_type": "markdown",
   "metadata": {},
   "source": [
    "# 调参\n",
    "\n",
    "所调参数只有K。"
   ]
  },
  {
   "cell_type": "code",
   "execution_count": 26,
   "metadata": {
    "ExecuteTime": {
     "end_time": "2017-12-23T13:23:21.895766Z",
     "start_time": "2017-12-23T13:23:21.887743Z"
    },
    "collapsed": true
   },
   "outputs": [],
   "source": [
    "def run_knn_classify(dataSet, k):\n",
    "    ansLabel = []\n",
    "    for i in tnrange(len(dataSet), leave=False):\n",
    "        ansLabel.append(knn_classify(trainSet, trainSetLabel, k, dataSet[i]))\n",
    "    return arr(ansLabel)\n",
    "\n",
    "def getTestF1(k):\n",
    "    ansLabel = run_knn_classify(validateSet, k)\n",
    "    return calcF1(ansLabel, validateSetLabel)"
   ]
  },
  {
   "cell_type": "code",
   "execution_count": 38,
   "metadata": {
    "ExecuteTime": {
     "end_time": "2017-12-23T13:35:26.484729Z",
     "start_time": "2017-12-23T13:35:26.476723Z"
    }
   },
   "outputs": [
    {
     "data": {
      "text/plain": [
       "array([1, 2, 3, 4, 5, 6, 7, 8, 9])"
      ]
     },
     "execution_count": 38,
     "metadata": {},
     "output_type": "execute_result"
    }
   ],
   "source": [
    "testRange = np.arange(1, 10)\n",
    "testRange"
   ]
  },
  {
   "cell_type": "code",
   "execution_count": 39,
   "metadata": {
    "ExecuteTime": {
     "end_time": "2017-12-23T13:53:05.500583Z",
     "start_time": "2017-12-23T13:35:26.486728Z"
    }
   },
   "outputs": [
    {
     "name": "stdout",
     "output_type": "stream",
     "text": [
      "\n"
     ]
    }
   ],
   "source": [
    "F1s = []\n",
    "for k in tnrange(1, len(testRange)+1):\n",
    "    F1s.append(getTestF1(k))"
   ]
  },
  {
   "cell_type": "code",
   "execution_count": 40,
   "metadata": {
    "ExecuteTime": {
     "end_time": "2017-12-23T13:53:05.510035Z",
     "start_time": "2017-12-23T13:53:05.503530Z"
    }
   },
   "outputs": [
    {
     "data": {
      "text/plain": [
       "(1, 0.87826086956521743)"
      ]
     },
     "execution_count": 40,
     "metadata": {},
     "output_type": "execute_result"
    }
   ],
   "source": [
    "bestK = testRange[np.argmax(F1s)]\n",
    "bestK, np.max(F1s) "
   ]
  },
  {
   "cell_type": "code",
   "execution_count": 41,
   "metadata": {
    "ExecuteTime": {
     "end_time": "2017-12-23T13:53:05.692573Z",
     "start_time": "2017-12-23T13:53:05.512536Z"
    },
    "collapsed": true
   },
   "outputs": [],
   "source": [
    "InteractiveShell.ast_node_interactivity = \"none\""
   ]
  },
  {
   "cell_type": "code",
   "execution_count": 42,
   "metadata": {
    "ExecuteTime": {
     "end_time": "2017-12-23T13:53:06.009583Z",
     "start_time": "2017-12-23T13:53:05.695576Z"
    }
   },
   "outputs": [
    {
     "data": {
      "image/png": "[encoded data removed]",
      "text/plain": [
       "<matplotlib.figure.Figure at 0x2205d3e2b70>"
      ]
     },
     "metadata": {},
     "output_type": "display_data"
    }
   ],
   "source": [
    "fig,ax = plt.subplots() \n",
    "fig.set_size_inches(10, 4)\n",
    "plt.plot(testRange, F1s, 'g')\n",
    "plt.xlabel('K')\n",
    "plt.ylabel('F1(%)')\n",
    "plt.title(\"F1 versus K with KNN\")\n",
    "plt.show()\n",
    "plt.close()"
   ]
  },
  {
   "cell_type": "markdown",
   "metadata": {},
   "source": [
    "12-23：\n",
    "\n",
    "结果表明，加权对于当前70%训练集30%验证集的数据集划分情况下，与step2相比准确率都是一样的。\n",
    "\n",
    "但是，有提升的是，在K $\\in$ 1-5之间的F1值比step2的要好，因此猜测将整个训练集用来训练加权KNN，当K取大于1的值的时候可能有比较好的效果。\n",
    "\n",
    "转自step5进行测试。"
   ]
  },
  {
   "cell_type": "code",
   "execution_count": 43,
   "metadata": {
    "ExecuteTime": {
     "end_time": "2017-12-23T13:53:06.015590Z",
     "start_time": "2017-12-23T13:53:06.011586Z"
    },
    "collapsed": true
   },
   "outputs": [],
   "source": [
    "InteractiveShell.ast_node_interactivity = \"all\""
   ]
  },
  {
   "cell_type": "markdown",
   "metadata": {},
   "source": [
    "# 应用算法到测试集"
   ]
  },
  {
   "cell_type": "code",
   "execution_count": 44,
   "metadata": {
    "ExecuteTime": {
     "end_time": "2017-12-23T13:53:06.114527Z",
     "start_time": "2017-12-23T13:53:06.018591Z"
    },
    "collapsed": true
   },
   "outputs": [],
   "source": [
    "# ansLabel = run_knn_classify(testSet, bestK)\n",
    "# np.savetxt('.\\\\rank\\\\47_v2.csv', ansLabel, fmt=\"%d\", delimiter=\"\\n\")"
   ]
  },
  {
   "cell_type": "code",
   "execution_count": 45,
   "metadata": {
    "ExecuteTime": {
     "end_time": "2017-12-23T13:53:06.210338Z",
     "start_time": "2017-12-23T13:53:06.116493Z"
    },
    "collapsed": true
   },
   "outputs": [],
   "source": [
    "# Counter(ansLabel)\n",
    "# one = Counter(ansLabel)[1.0]\n",
    "# zero = Counter(ansLabel)[0.0]\n",
    "# one/(one + zero)"
   ]
  }
 ],
 "metadata": {
  "anaconda-cloud": {},
  "kernelspec": {
   "display_name": "Python [conda root]",
   "language": "python",
   "name": "conda-root-py"
  },
  "language_info": {
   "codemirror_mode": {
    "name": "ipython",
    "version": 3
   },
   "file_extension": ".py",
   "mimetype": "text/x-python",
   "name": "python",
   "nbconvert_exporter": "python",
   "pygments_lexer": "ipython3",
   "version": "3.5.2"
  },
  "toc": {
   "nav_menu": {},
   "number_sections": true,
   "sideBar": true,
   "skip_h1_title": false,
   "toc_cell": false,
   "toc_position": {},
   "toc_section_display": "block",
   "toc_window_display": false
  }
 },
 "nbformat": 4,
 "nbformat_minor": 2
}
