{
 "cells": [
  {
   "cell_type": "code",
   "execution_count": 1,
   "metadata": {
    "ExecuteTime": {
     "end_time": "2018-01-05T16:34:06.335794Z",
     "start_time": "2018-01-05T16:33:57.409150Z"
    },
    "collapsed": true
   },
   "outputs": [],
   "source": [
    "from IPython.core.interactiveshell import InteractiveShell\n",
    "InteractiveShell.ast_node_interactivity = \"all\"\n",
    "\n",
    "from collections import Counter\n",
    "import numpy as np\n",
    "import matplotlib.pyplot as plt\n",
    "from functools import reduce\n",
    "import pdir as pr\n",
    "import pandas as pd\n",
    "import os\n",
    "from tqdm import tqdm, tnrange, tqdm_notebook\n",
    "\n",
    "DF = pd.DataFrame\n",
    "arr = np.array"
   ]
  },
  {
   "cell_type": "code",
   "execution_count": 2,
   "metadata": {
    "ExecuteTime": {
     "end_time": "2018-01-05T16:35:06.169757Z",
     "start_time": "2018-01-05T16:35:05.847720Z"
    }
   },
   "outputs": [
    {
     "data": {
      "text/plain": [
       "(48000, 14)"
      ]
     },
     "execution_count": 2,
     "metadata": {},
     "output_type": "execute_result"
    },
    {
     "data": {
      "text/html": [
       "<div>\n",
       "<table border=\"1\" class=\"dataframe\">\n",
       "  <thead>\n",
       "    <tr style=\"text-align: right;\">\n",
       "      <th></th>\n",
       "      <th>C0</th>\n",
       "      <th>C1</th>\n",
       "      <th>C2</th>\n",
       "      <th>C3</th>\n",
       "      <th>C4</th>\n",
       "      <th>C5</th>\n",
       "      <th>C6</th>\n",
       "      <th>C7</th>\n",
       "      <th>C8</th>\n",
       "      <th>C9</th>\n",
       "      <th>C10</th>\n",
       "      <th>C11</th>\n",
       "      <th>C12</th>\n",
       "      <th>C13</th>\n",
       "    </tr>\n",
       "  </thead>\n",
       "  <tbody>\n",
       "    <tr>\n",
       "      <th>0</th>\n",
       "      <td>3003</td>\n",
       "      <td>type_C</td>\n",
       "      <td>15</td>\n",
       "      <td>867</td>\n",
       "      <td>204</td>\n",
       "      <td>2961</td>\n",
       "      <td>219</td>\n",
       "      <td>207</td>\n",
       "      <td>120.0</td>\n",
       "      <td>740.0</td>\n",
       "      <td>1.0</td>\n",
       "      <td>3.0</td>\n",
       "      <td>2.665508</td>\n",
       "      <td>1</td>\n",
       "    </tr>\n",
       "    <tr>\n",
       "      <th>1</th>\n",
       "      <td>3138</td>\n",
       "      <td>type_D</td>\n",
       "      <td>10</td>\n",
       "      <td>43</td>\n",
       "      <td>2</td>\n",
       "      <td>5583</td>\n",
       "      <td>196</td>\n",
       "      <td>243</td>\n",
       "      <td>187.0</td>\n",
       "      <td>2401.0</td>\n",
       "      <td>1.0</td>\n",
       "      <td>3.0</td>\n",
       "      <td>2.358066</td>\n",
       "      <td>1</td>\n",
       "    </tr>\n",
       "    <tr>\n",
       "      <th>2</th>\n",
       "      <td>2789</td>\n",
       "      <td>type_C</td>\n",
       "      <td>13</td>\n",
       "      <td>574</td>\n",
       "      <td>4</td>\n",
       "      <td>1650</td>\n",
       "      <td>234</td>\n",
       "      <td>213</td>\n",
       "      <td>110.0</td>\n",
       "      <td>1021.0</td>\n",
       "      <td>1.0</td>\n",
       "      <td>3.0</td>\n",
       "      <td>2.067060</td>\n",
       "      <td>1</td>\n",
       "    </tr>\n",
       "    <tr>\n",
       "      <th>3</th>\n",
       "      <td>2824</td>\n",
       "      <td>type_C</td>\n",
       "      <td>33</td>\n",
       "      <td>336</td>\n",
       "      <td>237</td>\n",
       "      <td>159</td>\n",
       "      <td>29</td>\n",
       "      <td>2260</td>\n",
       "      <td>1.0</td>\n",
       "      <td>0.0</td>\n",
       "      <td>0.0</td>\n",
       "      <td>0.0</td>\n",
       "      <td>2.698755</td>\n",
       "      <td>1</td>\n",
       "    </tr>\n",
       "    <tr>\n",
       "      <th>4</th>\n",
       "      <td>3264</td>\n",
       "      <td>type_D</td>\n",
       "      <td>11</td>\n",
       "      <td>515</td>\n",
       "      <td>39</td>\n",
       "      <td>1200</td>\n",
       "      <td>239</td>\n",
       "      <td>226</td>\n",
       "      <td>117.0</td>\n",
       "      <td>2206.0</td>\n",
       "      <td>1.0</td>\n",
       "      <td>3.0</td>\n",
       "      <td>2.513698</td>\n",
       "      <td>1</td>\n",
       "    </tr>\n",
       "  </tbody>\n",
       "</table>\n",
       "</div>"
      ],
      "text/plain": [
       "     C0      C1  C2   C3   C4    C5   C6    C7     C8      C9  C10  C11  \\\n",
       "0  3003  type_C  15  867  204  2961  219   207  120.0   740.0  1.0  3.0   \n",
       "1  3138  type_D  10   43    2  5583  196   243  187.0  2401.0  1.0  3.0   \n",
       "2  2789  type_C  13  574    4  1650  234   213  110.0  1021.0  1.0  3.0   \n",
       "3  2824  type_C  33  336  237   159   29  2260    1.0     0.0  0.0  0.0   \n",
       "4  3264  type_D  11  515   39  1200  239   226  117.0  2206.0  1.0  3.0   \n",
       "\n",
       "        C12  C13  \n",
       "0  2.665508    1  \n",
       "1  2.358066    1  \n",
       "2  2.067060    1  \n",
       "3  2.698755    1  \n",
       "4  2.513698    1  "
      ]
     },
     "execution_count": 2,
     "metadata": {},
     "output_type": "execute_result"
    },
    {
     "data": {
      "text/plain": [
       "(12000, 13)"
      ]
     },
     "execution_count": 2,
     "metadata": {},
     "output_type": "execute_result"
    },
    {
     "data": {
      "text/html": [
       "<div>\n",
       "<table border=\"1\" class=\"dataframe\">\n",
       "  <thead>\n",
       "    <tr style=\"text-align: right;\">\n",
       "      <th></th>\n",
       "      <th>C0</th>\n",
       "      <th>C1</th>\n",
       "      <th>C2</th>\n",
       "      <th>C3</th>\n",
       "      <th>C4</th>\n",
       "      <th>C5</th>\n",
       "      <th>C6</th>\n",
       "      <th>C7</th>\n",
       "      <th>C8</th>\n",
       "      <th>C9</th>\n",
       "      <th>C10</th>\n",
       "      <th>C11</th>\n",
       "      <th>C12</th>\n",
       "    </tr>\n",
       "  </thead>\n",
       "  <tbody>\n",
       "    <tr>\n",
       "      <th>0</th>\n",
       "      <td>2883</td>\n",
       "      <td>type_C</td>\n",
       "      <td>14</td>\n",
       "      <td>475</td>\n",
       "      <td>71</td>\n",
       "      <td>1718</td>\n",
       "      <td>244</td>\n",
       "      <td>223</td>\n",
       "      <td>106.0</td>\n",
       "      <td>2851.0</td>\n",
       "      <td>1.0</td>\n",
       "      <td>3.0</td>\n",
       "      <td>2.288722</td>\n",
       "    </tr>\n",
       "    <tr>\n",
       "      <th>1</th>\n",
       "      <td>2546</td>\n",
       "      <td>type_B</td>\n",
       "      <td>9</td>\n",
       "      <td>31</td>\n",
       "      <td>2</td>\n",
       "      <td>1457</td>\n",
       "      <td>218</td>\n",
       "      <td>223</td>\n",
       "      <td>142.0</td>\n",
       "      <td>1290.0</td>\n",
       "      <td>1.0</td>\n",
       "      <td>3.0</td>\n",
       "      <td>2.053396</td>\n",
       "    </tr>\n",
       "    <tr>\n",
       "      <th>2</th>\n",
       "      <td>3178</td>\n",
       "      <td>type_D</td>\n",
       "      <td>15</td>\n",
       "      <td>286</td>\n",
       "      <td>35</td>\n",
       "      <td>2999</td>\n",
       "      <td>230</td>\n",
       "      <td>208</td>\n",
       "      <td>110.0</td>\n",
       "      <td>4503.0</td>\n",
       "      <td>1.0</td>\n",
       "      <td>3.0</td>\n",
       "      <td>2.648367</td>\n",
       "    </tr>\n",
       "    <tr>\n",
       "      <th>3</th>\n",
       "      <td>3282</td>\n",
       "      <td>type_D</td>\n",
       "      <td>23</td>\n",
       "      <td>451</td>\n",
       "      <td>116</td>\n",
       "      <td>1679</td>\n",
       "      <td>248</td>\n",
       "      <td>228</td>\n",
       "      <td>96.0</td>\n",
       "      <td>1404.0</td>\n",
       "      <td>1.0</td>\n",
       "      <td>3.0</td>\n",
       "      <td>2.985833</td>\n",
       "    </tr>\n",
       "    <tr>\n",
       "      <th>4</th>\n",
       "      <td>2954</td>\n",
       "      <td>type_C</td>\n",
       "      <td>23</td>\n",
       "      <td>525</td>\n",
       "      <td>304</td>\n",
       "      <td>1828</td>\n",
       "      <td>160</td>\n",
       "      <td>246</td>\n",
       "      <td>221.0</td>\n",
       "      <td>1623.0</td>\n",
       "      <td>1.0</td>\n",
       "      <td>3.0</td>\n",
       "      <td>2.009470</td>\n",
       "    </tr>\n",
       "  </tbody>\n",
       "</table>\n",
       "</div>"
      ],
      "text/plain": [
       "     C0      C1  C2   C3   C4    C5   C6   C7     C8      C9  C10  C11  \\\n",
       "0  2883  type_C  14  475   71  1718  244  223  106.0  2851.0  1.0  3.0   \n",
       "1  2546  type_B   9   31    2  1457  218  223  142.0  1290.0  1.0  3.0   \n",
       "2  3178  type_D  15  286   35  2999  230  208  110.0  4503.0  1.0  3.0   \n",
       "3  3282  type_D  23  451  116  1679  248  228   96.0  1404.0  1.0  3.0   \n",
       "4  2954  type_C  23  525  304  1828  160  246  221.0  1623.0  1.0  3.0   \n",
       "\n",
       "        C12  \n",
       "0  2.288722  \n",
       "1  2.053396  \n",
       "2  2.648367  \n",
       "3  2.985833  \n",
       "4  2.009470  "
      ]
     },
     "execution_count": 2,
     "metadata": {},
     "output_type": "execute_result"
    }
   ],
   "source": [
    "columnsName = [\"C\" + str(i) for i in range(14)]\n",
    "trainSet = pd.read_csv('data\\\\train.csv',  names = columnsName)\n",
    "trainSet.shape\n",
    "trainSet.head(5)\n",
    "\n",
    "testSet = pd.read_csv('data\\\\test.csv',  names = columnsName[:-1])\n",
    "testSet.shape\n",
    "testSet.head(5)"
   ]
  },
  {
   "cell_type": "markdown",
   "metadata": {},
   "source": [
    "看两者是否算相关要看两方面：显著水平以及相关系数\n",
    "\n",
    "（1）显著水平,就是P值,这是首要的,因为如果不显著,相关系数再高也没用,可能只是因为偶然因素引起的,那么多少才算显著,一般p值小于0.05就是显著了；如果小于0.01就更显著；例如p值=0.001,就是很高的显著水平了,只要显著,就可以下结论说：拒绝原假设无关,两组数据显著相关也说两者间确实有明显关系.通常需要p值小于0.1,最好小于0.05设甚至0.01,才可得出结论：两组数据有明显关系,如果p=0.5,远大于0.1,只能说明相关程度不明显甚至不相关.起码不是线性相关.\n",
    "\n",
    "（2）相关系数,也就是Pearson Correlation(皮尔逊相关系数),通常也称为R值,在确认上面指标显著情况下,再来看这个指标,一般相关系数越高表明两者间关系越密切.\n",
    "R>0 代表连个变量正相关,即一个变大另一个随之变大\n",
    "\n",
    "\n",
    "\n",
    "\n",
    "如何理解皮尔逊相关系数（Pearson Correlation Coefficient）？\n",
    "\n",
    "https://www.zhihu.com/question/19734616/answer/174098489 "
   ]
  },
  {
   "cell_type": "code",
   "execution_count": 30,
   "metadata": {
    "ExecuteTime": {
     "end_time": "2018-01-05T17:19:14.577565Z",
     "start_time": "2018-01-05T17:19:14.475990Z"
    }
   },
   "outputs": [
    {
     "name": "stdout",
     "output_type": "stream",
     "text": [
      "feature   correlation    P-value\n",
      "C0:     (-0.1367228801231376, 5.6128076980813327e-199)\n",
      "C2:     (-0.010606971574000507, 0.020132146981624768)\n",
      "C3:     (-0.020491007131788752, 7.13204838678767e-06)\n",
      "C4:     (-0.018251452638581255, 6.3631684408671407e-05)\n",
      "C5:     (0.060864948512591527, 1.2353251190166544e-40)\n",
      "C6:     (0.033848102804751375, 1.1918967614351947e-13)\n",
      "C7:     (-0.003857965644441051, 0.39798854401833916)\n",
      "C8:     (0.0096253273294879434, 0.034962065531650773)\n",
      "C9:     (0.14238764472723386, 8.4129813312857441e-216)\n",
      "C10:     (0.048925696083644915, 7.7496877848978146e-27)\n",
      "C11:     (0.050970941935891474, 5.4572580679401273e-29)\n",
      "C12:     (-0.010848298342236428, 0.017465868226132608)\n",
      "C13:     (1.0, 0.0)\n"
     ]
    }
   ],
   "source": [
    "print(\"feature   correlation    P-value\")\n",
    "print(\"C0:    \", pearsonr(trainSet['C0'].values, trainSet['C13'].values))\n",
    "for i in columnsName[2:]:\n",
    "    print(i + \":    \", pearsonr(trainSet[i].values, trainSet['C13'].values))"
   ]
  },
  {
   "cell_type": "markdown",
   "metadata": {},
   "source": [
    "测试结果表明，这些特征还是都还是比较相关的，所以这些特征还是比较线性相关的，因此可以不用删除特征。特征也不多现在。。"
   ]
  },
  {
   "cell_type": "code",
   "execution_count": 31,
   "metadata": {
    "ExecuteTime": {
     "end_time": "2018-01-05T17:26:48.881128Z",
     "start_time": "2018-01-05T17:26:48.811040Z"
    },
    "collapsed": true
   },
   "outputs": [],
   "source": [
    "from scipy.stats import chi2_contingency\n",
    "\n",
    "?chi2_contingency"
   ]
  }
 ],
 "metadata": {
  "anaconda-cloud": {},
  "kernelspec": {
   "display_name": "Python [conda root]",
   "language": "python",
   "name": "conda-root-py"
  },
  "language_info": {
   "codemirror_mode": {
    "name": "ipython",
    "version": 3
   },
   "file_extension": ".py",
   "mimetype": "text/x-python",
   "name": "python",
   "nbconvert_exporter": "python",
   "pygments_lexer": "ipython3",
   "version": "3.5.2"
  },
  "toc": {
   "nav_menu": {},
   "number_sections": true,
   "sideBar": true,
   "skip_h1_title": false,
   "toc_cell": false,
   "toc_position": {},
   "toc_section_display": "block",
   "toc_window_display": false
  }
 },
 "nbformat": 4,
 "nbformat_minor": 2
}
