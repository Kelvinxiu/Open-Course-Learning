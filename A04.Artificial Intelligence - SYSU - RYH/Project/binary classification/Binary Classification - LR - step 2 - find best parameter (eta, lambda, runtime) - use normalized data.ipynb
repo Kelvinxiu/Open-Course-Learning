{
 "cells": [
  {
   "cell_type": "code",
   "execution_count": 7,
   "metadata": {
    "ExecuteTime": {
     "end_time": "2017-12-21T14:39:03.507099Z",
     "start_time": "2017-12-21T14:39:03.495591Z"
    },
    "collapsed": true
   },
   "outputs": [],
   "source": [
    "from IPython.core.interactiveshell import InteractiveShell\n",
    "InteractiveShell.ast_node_interactivity = \"all\"\n",
    "\n",
    "from collections import Counter\n",
    "import numpy as np\n",
    "import matplotlib.pyplot as plt\n",
    "from functools import reduce\n",
    "import pdir as pr\n",
    "import pandas as pd\n",
    "import os\n",
    "from tqdm import tqdm, tnrange, tqdm_notebook\n",
    "\n",
    "DF = pd.DataFrame\n",
    "arr = np.array"
   ]
  },
  {
   "cell_type": "markdown",
   "metadata": {},
   "source": [
    "# 读取数据"
   ]
  },
  {
   "cell_type": "code",
   "execution_count": 8,
   "metadata": {
    "ExecuteTime": {
     "end_time": "2017-12-21T14:39:07.099151Z",
     "start_time": "2017-12-21T14:39:03.510101Z"
    }
   },
   "outputs": [
    {
     "data": {
      "text/plain": [
       "((33600, 18), (14400, 18), (12000, 17))"
      ]
     },
     "execution_count": 8,
     "metadata": {},
     "output_type": "execute_result"
    }
   ],
   "source": [
    "dirPath = \"data preprocessed\"\n",
    "\n",
    "means, stds = eval(open(dirPath + \"\\\\means_and_stds_about_trainset.py\").read())\n",
    "\n",
    "trainSet_origin = np.loadtxt(dirPath + '\\\\train.csv', delimiter=\",\")\n",
    "validateSet_origin = np.loadtxt(dirPath + '\\\\validate.csv', delimiter=\",\")\n",
    "testSet = np.loadtxt(dirPath + '\\\\test.csv', delimiter=\",\")\n",
    "\n",
    "trainSet_origin.shape, validateSet_origin.shape, testSet.shape"
   ]
  },
  {
   "cell_type": "markdown",
   "metadata": {
    "ExecuteTime": {
     "end_time": "2017-12-20T23:04:38.482750Z",
     "start_time": "2017-12-20T23:04:38.462735Z"
    }
   },
   "source": [
    "划分数据集特征和标签："
   ]
  },
  {
   "cell_type": "code",
   "execution_count": 9,
   "metadata": {
    "ExecuteTime": {
     "end_time": "2017-12-21T14:39:07.114661Z",
     "start_time": "2017-12-21T14:39:07.102653Z"
    }
   },
   "outputs": [
    {
     "data": {
      "text/plain": [
       "((33600, 17), (14400, 17))"
      ]
     },
     "execution_count": 9,
     "metadata": {},
     "output_type": "execute_result"
    }
   ],
   "source": [
    "trainSet, trainSetLabel = trainSet_origin[:, :-1], trainSet_origin[:, -1]\n",
    "validateSet, validateSetLabel = validateSet_origin[:, :-1], validateSet_origin[:, -1]\n",
    "trainSet.shape, validateSet.shape"
   ]
  },
  {
   "cell_type": "markdown",
   "metadata": {},
   "source": [
    "# 实现评测指标"
   ]
  },
  {
   "cell_type": "code",
   "execution_count": 128,
   "metadata": {
    "ExecuteTime": {
     "end_time": "2017-12-22T14:51:46.068269Z",
     "start_time": "2017-12-22T14:51:45.979193Z"
    }
   },
   "outputs": [
    {
     "name": "stdout",
     "output_type": "stream",
     "text": [
      "test 1: normal one\n",
      "TP FN FP 1 1 1\n"
     ]
    },
    {
     "data": {
      "text/plain": [
       "0.5"
      ]
     },
     "execution_count": 128,
     "metadata": {},
     "output_type": "execute_result"
    },
    {
     "name": "stdout",
     "output_type": "stream",
     "text": [
      "\n",
      "test 2: may have zero division error\n",
      "TP FN FP 1 1 0\n"
     ]
    },
    {
     "data": {
      "text/plain": [
       "0.6666666666666666"
      ]
     },
     "execution_count": 128,
     "metadata": {},
     "output_type": "execute_result"
    }
   ],
   "source": [
    "def calcF1(predictLabel, realLabel, printRes=False):\n",
    "    '''给定算法得到的分类结果和实际的分类结果，计算评测指标\n",
    "    注意：标签为1则为正标签，标签不为1则为负标签'''\n",
    "    def safeDivide(a, b):\n",
    "        '''子函数：当分母为0时返回除式结果为 -1'''\n",
    "        return a/b if b != 0 else 0\n",
    "    \n",
    "    TP = Counter(np.logical_and(predictLabel==1, realLabel==1))[True]\n",
    "    FN = Counter(np.logical_and(predictLabel!=1, realLabel==1))[True]\n",
    "    FP = Counter(np.logical_and(predictLabel==1, realLabel!=1))[True]\n",
    "    if(printRes):\n",
    "        print(\"TP FN FP\", TP, FN, FP)\n",
    "    F1 = safeDivide(2*TP, 2*TP+FN+FP)\n",
    "    return F1\n",
    "\n",
    "print('test 1: normal one')\n",
    "calcF1(arr([1, 1, 0, 0]), arr([1, 0, 1, 0]), True)\n",
    "print('\\ntest 2: may have zero division error')\n",
    "calcF1(arr([0, 0, 1, 0]), arr([1, 0, 1, 0]), True)"
   ]
  },
  {
   "cell_type": "markdown",
   "metadata": {},
   "source": [
    "# 逻辑回归"
   ]
  },
  {
   "cell_type": "code",
   "execution_count": 29,
   "metadata": {
    "ExecuteTime": {
     "end_time": "2017-12-21T15:31:40.891711Z",
     "start_time": "2017-12-21T15:31:40.843166Z"
    },
    "collapsed": true
   },
   "outputs": [],
   "source": [
    "class LogisticRegression:\n",
    "    '''逻辑回归类实现'''\n",
    "    \n",
    "    def __addOne2Samples(self, dataSet):\n",
    "        '''给每一个样本前加一个常数1'''\n",
    "        ones = np.ones(len(dataSet))\n",
    "        return np.column_stack((ones, dataSet))\n",
    "    \n",
    "    def sigmoid(self, x):\n",
    "        '''sigmoid函数实现'''\n",
    "        return 1/(1+np.exp(-1*x))\n",
    "    \n",
    "    def fit(self, trainSet, label, eta=1e-3, lambda_=1, maxRunTimes=100):\n",
    "        '''根据给定的训练集和标签训练PLA的参数 w '''\n",
    "        #设置默认的 w 全为1\n",
    "        self.w = np.mat(np.ones(trainSet.shape[1]+1)).reshape(-1,1)\n",
    "        #给训练集中每一个样本前加一个常数1，并转换为numpy矩阵\n",
    "        trainSet = np.mat(self.__addOne2Samples(trainSet))\n",
    "        #将标签转换为numpy矩阵，并将其设置为只有一列的数据的矩阵\n",
    "        label = np.mat(label).reshape(-1,1)\n",
    "        for i in range(maxRunTimes):\n",
    "            eta_reduced = eta/(1+i)+1e-7\n",
    "            #根据矩阵运算得到整个数据集每个维度梯度\n",
    "            gradient = trainSet.transpose()*(self.sigmoid(trainSet*self.w) - label)\n",
    "            #正则化\n",
    "            gradient[1:,0] += lambda_*self.w[1:,0]\n",
    "            #更新 w\n",
    "            self.w -= eta_reduced*gradient\n",
    "        \n",
    "    def __apply(self, x):\n",
    "        '''利用训练好的 w 对输入的向量x进行分类'''\n",
    "        w = np.array(self.w)[:,0] #转换为numpy向量，方便后续计算\n",
    "        return 1 if self.sigmoid(np.dot(w, x)) > 0.5 else 0\n",
    "    \n",
    "    def apply(self, otherSet):\n",
    "        '''根据已训练出的 w 对其他数据集进行划分'''\n",
    "        otherSet = self.__addOne2Samples(otherSet)\n",
    "        outputLabel = np.zeros(otherSet.shape[0])\n",
    "        for index, sample in enumerate(otherSet):\n",
    "            outputLabel[index] = self.__apply(sample)\n",
    "        return outputLabel\n",
    "    \n",
    "    def getW(self):\n",
    "        return np.array(self.w)[:,0]"
   ]
  },
  {
   "cell_type": "markdown",
   "metadata": {},
   "source": [
    "# 调参\n",
    "\n",
    "调参流程：eta->迭代次数->lambda\n",
    "\n",
    "eta最优为0.1 基于这个数值，lambda最优为0.001"
   ]
  },
  {
   "cell_type": "code",
   "execution_count": 114,
   "metadata": {
    "ExecuteTime": {
     "end_time": "2017-12-21T19:08:54.692623Z",
     "start_time": "2017-12-21T19:08:54.682617Z"
    }
   },
   "outputs": [
    {
     "data": {
      "text/plain": [
       "(array([  5.00000000e-05,   1.00000000e-04,   5.00000000e-04,\n",
       "          1.00000000e-03,   5.00000000e-03,   1.00000000e-02,\n",
       "          5.00000000e-02,   1.00000000e-01,   5.00000000e-01,\n",
       "          1.00000000e+00,   5.00000000e+00,   1.00000000e+01]),\n",
       " array([  5.00000000e-05,   1.00000000e-04,   5.00000000e-04,\n",
       "          1.00000000e-03,   5.00000000e-03,   1.00000000e-02,\n",
       "          5.00000000e-02,   1.00000000e-01,   5.00000000e-01,\n",
       "          1.00000000e+00,   5.00000000e+00,   1.00000000e+01]))"
      ]
     },
     "execution_count": 114,
     "metadata": {},
     "output_type": "execute_result"
    }
   ],
   "source": [
    "def getTestRange(testNumList):\n",
    "    testScale = np.array([1e-4, 1e-3, 1e-2, 1e-1, 1, 10]).reshape(-1,1)\n",
    "    testNum = np.array(testNumList).reshape(1,-1)\n",
    "    return (testNum*testScale).flatten() #广播运算\n",
    "\n",
    "etaTestRange = getTestRange([0.5, 1])\n",
    "lambdaTestRange = getTestRange([0.5, 1])\n",
    "\n",
    "etaTestRange, lambdaTestRange"
   ]
  },
  {
   "cell_type": "code",
   "execution_count": 115,
   "metadata": {
    "ExecuteTime": {
     "end_time": "2017-12-21T19:08:57.319915Z",
     "start_time": "2017-12-21T19:08:57.314413Z"
    }
   },
   "outputs": [
    {
     "data": {
      "text/plain": [
       "array([ 500,  600,  700,  800,  900, 1000, 1100, 1200, 1300, 1400, 1500,\n",
       "       1600, 1700, 1800, 1900, 2000, 2100, 2200, 2300, 2400, 2500, 2600,\n",
       "       2700, 2800, 2900, 3000])"
      ]
     },
     "execution_count": 115,
     "metadata": {},
     "output_type": "execute_result"
    }
   ],
   "source": [
    "runTimeTestRange = np.arange(500, 3100, 100)\n",
    "runTimeTestRange"
   ]
  },
  {
   "cell_type": "code",
   "execution_count": 117,
   "metadata": {
    "ExecuteTime": {
     "end_time": "2017-12-21T19:10:13.925407Z",
     "start_time": "2017-12-21T19:10:13.916404Z"
    },
    "scrolled": false
   },
   "outputs": [
    {
     "data": {
      "text/plain": [
       "3744"
      ]
     },
     "execution_count": 117,
     "metadata": {},
     "output_type": "execute_result"
    }
   ],
   "source": [
    "testRange = [(i, j, k) for i in runTimeTestRange for j in etaTestRange for k in lambdaTestRange]\n",
    "len(testRange)"
   ]
  },
  {
   "cell_type": "code",
   "execution_count": 118,
   "metadata": {
    "ExecuteTime": {
     "end_time": "2017-12-21T23:22:44.832613Z",
     "start_time": "2017-12-21T19:10:21.849060Z"
    }
   },
   "outputs": [],
   "source": [
    "def runLR(runTimes, eta_, lambda_):\n",
    "    LR = LogisticRegression()\n",
    "    LR.fit(trainSet, trainSetLabel, eta=eta_, lambda_ = lambda_, maxRunTimes=runTimes)\n",
    "    ansLabel = LR.apply(validateSet)\n",
    "    F1 = calcF1(ansLabel, validateSetLabel)\n",
    "    return F1\n",
    "\n",
    "F1s = []\n",
    "for i in tnrange(len(testRange)):\n",
    "    F1s.append(runLR(testRange[i][0], testRange[i][1], testRange[i][2]))\n",
    "    \n",
    "bestParam = testRange[np.argmax(F1s)]"
   ]
  },
  {
   "cell_type": "code",
   "execution_count": 125,
   "metadata": {
    "ExecuteTime": {
     "end_time": "2017-12-21T23:27:53.381269Z",
     "start_time": "2017-12-21T23:27:53.376266Z"
    }
   },
   "outputs": [
    {
     "data": {
      "text/plain": [
       "((1200, 5.0, 0.10000000000000001), 0.73137277693827729)"
      ]
     },
     "execution_count": 125,
     "metadata": {},
     "output_type": "execute_result"
    }
   ],
   "source": [
    "bestParam, np.max(F1s)"
   ]
  },
  {
   "cell_type": "code",
   "execution_count": 120,
   "metadata": {
    "ExecuteTime": {
     "end_time": "2017-12-21T23:26:29.160676Z",
     "start_time": "2017-12-21T23:26:29.157674Z"
    },
    "collapsed": true
   },
   "outputs": [],
   "source": [
    "InteractiveShell.ast_node_interactivity = \"none\""
   ]
  },
  {
   "cell_type": "code",
   "execution_count": 122,
   "metadata": {
    "ExecuteTime": {
     "end_time": "2017-12-21T23:26:46.371053Z",
     "start_time": "2017-12-21T23:26:46.081660Z"
    }
   },
   "outputs": [
    {
     "data": {
      "image/png": "[encoded data removed]",
      "text/plain": [
       "<matplotlib.figure.Figure at 0x23b9a51c080>"
      ]
     },
     "metadata": {},
     "output_type": "display_data"
    }
   ],
   "source": [
    "fig,ax = plt.subplots() \n",
    "fig.set_size_inches(10, 4)\n",
    "plt.plot(testRange, F1s, 'g')\n",
    "plt.xlabel('eta')\n",
    "plt.ylabel('F1(%)')\n",
    "plt.title(\"F1 versus eta with Logistic Regression\")\n",
    "plt.show()\n",
    "plt.close()"
   ]
  },
  {
   "cell_type": "code",
   "execution_count": 123,
   "metadata": {
    "ExecuteTime": {
     "end_time": "2017-12-21T23:27:04.524565Z",
     "start_time": "2017-12-21T23:27:04.521562Z"
    },
    "collapsed": true
   },
   "outputs": [],
   "source": [
    "InteractiveShell.ast_node_interactivity = \"all\""
   ]
  },
  {
   "cell_type": "markdown",
   "metadata": {},
   "source": [
    "# 应用算法到测试集"
   ]
  },
  {
   "cell_type": "code",
   "execution_count": 126,
   "metadata": {
    "ExecuteTime": {
     "end_time": "2017-12-21T23:29:17.974242Z",
     "start_time": "2017-12-21T23:29:15.091566Z"
    },
    "collapsed": true
   },
   "outputs": [],
   "source": [
    "bestLR = LogisticRegression()\n",
    "bestLR.fit(trainSet, trainSetLabel, eta=bestParam[1], lambda_ = bestParam[2], maxRunTimes=bestParam[0])\n",
    "ansLabel = bestLR.apply(testSet)\n",
    "np.savetxt('.\\\\rank\\\\47_v1.csv', ansLabel, fmt=\"%d\", delimiter=\"\\n\")"
   ]
  },
  {
   "cell_type": "code",
   "execution_count": 127,
   "metadata": {
    "ExecuteTime": {
     "end_time": "2017-12-21T23:29:41.799632Z",
     "start_time": "2017-12-21T23:29:41.787623Z"
    }
   },
   "outputs": [
    {
     "data": {
      "text/plain": [
       "0.70725"
      ]
     },
     "execution_count": 127,
     "metadata": {},
     "output_type": "execute_result"
    }
   ],
   "source": [
    "one = Counter(ansLabel)[1.0]\n",
    "zero = Counter(ansLabel)[0.0]\n",
    "one/(one + zero)"
   ]
  }
 ],
 "metadata": {
  "anaconda-cloud": {},
  "kernelspec": {
   "display_name": "Python [conda root]",
   "language": "python",
   "name": "conda-root-py"
  },
  "language_info": {
   "codemirror_mode": {
    "name": "ipython",
    "version": 3
   },
   "file_extension": ".py",
   "mimetype": "text/x-python",
   "name": "python",
   "nbconvert_exporter": "python",
   "pygments_lexer": "ipython3",
   "version": "3.5.2"
  },
  "toc": {
   "nav_menu": {},
   "number_sections": true,
   "sideBar": true,
   "skip_h1_title": false,
   "toc_cell": false,
   "toc_position": {},
   "toc_section_display": "block",
   "toc_window_display": false
  },
  "widgets": {
   "state": {
    "0091eb8cba7343aeae10f5665c920ce9": {
     "views": [
      {
       "cell_index": 12
      }
     ]
    },
    "0105b6b35f0844e1b660e32315b04ba4": {
     "views": [
      {
       "cell_index": 12
      }
     ]
    },
    "01416c65e8c34e0b8d1af378f6d2a207": {
     "views": [
      {
       "cell_index": 12
      }
     ]
    },
    "01b9017bce3c401688c9d82c372b04cc": {
     "views": [
      {
       "cell_index": 12
      }
     ]
    },
    "01c4a72dff2e4a90988d81bdca8e8a3b": {
     "views": [
      {
       "cell_index": 12
      }
     ]
    },
    "02e07db8887841cb9b860327224ac993": {
     "views": [
      {
       "cell_index": 12
      }
     ]
    },
    "03f2c79fa3e1451897337b1931f18397": {
     "views": [
      {
       "cell_index": 12
      }
     ]
    },
    "05a826402cbe40f69ea7fb07ef0bbc38": {
     "views": [
      {
       "cell_index": 12
      }
     ]
    },
    "05f21e63fa30407da8702759d91c9282": {
     "views": [
      {
       "cell_index": 12
      }
     ]
    },
    "06e953ebf62f4147a013ea44df80584f": {
     "views": [
      {
       "cell_index": 12
      }
     ]
    },
    "0702931c39ff423083c70a42b3bcba19": {
     "views": [
      {
       "cell_index": 12
      }
     ]
    },
    "075bc7126e954625a9068e0e17dd22b9": {
     "views": [
      {
       "cell_index": 12
      }
     ]
    },
    "0875a15004b74a20b943c2c1bac738a4": {
     "views": [
      {
       "cell_index": 12
      }
     ]
    },
    "0a761efc990a46ccbefa6d0b99451c69": {
     "views": [
      {
       "cell_index": 12
      }
     ]
    },
    "0bcc0aee59754a93b376a4012715c929": {
     "views": [
      {
       "cell_index": 12
      }
     ]
    },
    "0d451de7a87047ad99d8762ccbed40b3": {
     "views": [
      {
       "cell_index": 12
      }
     ]
    },
    "0e463a573613432c95dc34ead35b59ec": {
     "views": [
      {
       "cell_index": 12
      }
     ]
    },
    "0eea5baea42f42948a181399e62a82b3": {
     "views": [
      {
       "cell_index": 12
      }
     ]
    },
    "0ffde4b897f6484ab0fcfb33fd964086": {
     "views": [
      {
       "cell_index": 12
      }
     ]
    },
    "1055136d6f0f4bf1be7f5249827cd52a": {
     "views": [
      {
       "cell_index": 12
      }
     ]
    },
    "11097734b02143e39972d0a38746f1bb": {
     "views": [
      {
       "cell_index": 12
      }
     ]
    },
    "110c1d56b0d64c32a10a1fc89cdca109": {
     "views": [
      {
       "cell_index": 12
      }
     ]
    },
    "111b651409814bc693ca04493c1b4a3d": {
     "views": [
      {
       "cell_index": 12
      }
     ]
    },
    "1165fc7c78284dddb42f8e5c752b92e6": {
     "views": [
      {
       "cell_index": 12
      }
     ]
    },
    "11b9e91b542e4d7da85a95c9861e222e": {
     "views": [
      {
       "cell_index": 12
      }
     ]
    },
    "13dda1a8fe524527be7f6a00626a6c62": {
     "views": [
      {
       "cell_index": 12
      }
     ]
    },
    "1511df1c28c8447dabeec9f55dd6a755": {
     "views": [
      {
       "cell_index": 12
      }
     ]
    },
    "15e10b569a154276b895321a6be4c2e0": {
     "views": [
      {
       "cell_index": 12
      }
     ]
    },
    "160fb99d17a2488f8d42e4db88b26a82": {
     "views": [
      {
       "cell_index": 12
      }
     ]
    },
    "16a9df6366c94204b7cfaabf52dabda9": {
     "views": [
      {
       "cell_index": 12
      }
     ]
    },
    "171377870ae7420fabdc025e9ff5044e": {
     "views": [
      {
       "cell_index": 12
      }
     ]
    },
    "175d31e73b854c45b842949d23805a9c": {
     "views": [
      {
       "cell_index": 12
      }
     ]
    },
    "1852d49183f540029db13deb3c518ffb": {
     "views": [
      {
       "cell_index": 12
      }
     ]
    },
    "192020e596b149f08a34e7d7afea53a8": {
     "views": [
      {
       "cell_index": 12
      }
     ]
    },
    "1ba9d79d7fc54cce9757ff512ba26a91": {
     "views": [
      {
       "cell_index": 12
      }
     ]
    },
    "1bf407c9ca7b4449ab1e3937b67e741b": {
     "views": [
      {
       "cell_index": 12
      }
     ]
    },
    "1e2977173f2749c7b5222953a93fdc44": {
     "views": [
      {
       "cell_index": 12
      }
     ]
    },
    "1f0b414ce7f54a30a5e40c43d5aad7fe": {
     "views": [
      {
       "cell_index": 12
      }
     ]
    },
    "22e70bc66d95489192330cd0107d6cd1": {
     "views": [
      {
       "cell_index": 12
      }
     ]
    },
    "23b71ad1e059495e892ceb2b96e1c6eb": {
     "views": [
      {
       "cell_index": 12
      }
     ]
    },
    "25b467fd7b834d4c890342b67ef6f552": {
     "views": [
      {
       "cell_index": 12
      }
     ]
    },
    "297194f14752442391b5d6def45c261e": {
     "views": [
      {
       "cell_index": 12
      }
     ]
    },
    "2b1f02f97db84204b61a24465d4a2b92": {
     "views": [
      {
       "cell_index": 12
      }
     ]
    },
    "2ba80645fdf449d4a79f3924fb340873": {
     "views": [
      {
       "cell_index": 12
      }
     ]
    },
    "2bc9477a02ea4805add9d7fa719a010b": {
     "views": [
      {
       "cell_index": 12
      }
     ]
    },
    "2c16902330b642b3aa6910f25ca8832a": {
     "views": [
      {
       "cell_index": 12
      }
     ]
    },
    "2c21fdae62724a35b012989ba2cb16c8": {
     "views": [
      {
       "cell_index": 12
      }
     ]
    },
    "2c9320fc86f04e19bdbc2f48aa6dee47": {
     "views": [
      {
       "cell_index": 12
      }
     ]
    },
    "2ca7effd2d7443319ac3d7da5939a44a": {
     "views": [
      {
       "cell_index": 12
      }
     ]
    },
    "2d8a6574785f49e49c3e340dbdf4d70d": {
     "views": [
      {
       "cell_index": 12
      }
     ]
    },
    "2d9574eaa2134c1e8a0f14f1ccc71c17": {
     "views": [
      {
       "cell_index": 12
      }
     ]
    },
    "2dee54fc032d4232a14c6e1661249d97": {
     "views": [
      {
       "cell_index": 12
      }
     ]
    },
    "2e22e86fa5164bafb681b85e135b9a3b": {
     "views": [
      {
       "cell_index": 12
      }
     ]
    },
    "31e531779aa8466c99cfd2644484194b": {
     "views": [
      {
       "cell_index": 12
      }
     ]
    },
    "321891269773419a84f2bf01f3e1701e": {
     "views": [
      {
       "cell_index": 12
      }
     ]
    },
    "328d81332abf472fb184aa706be5444c": {
     "views": [
      {
       "cell_index": 12
      }
     ]
    },
    "33972ae23be14bf7bfc7edeb30787560": {
     "views": [
      {
       "cell_index": 12
      }
     ]
    },
    "3398653ecfcd4198a142ebe4a3c2cc48": {
     "views": [
      {
       "cell_index": 12
      }
     ]
    },
    "33b9bf1ea8014d79b5684e85d5f13aff": {
     "views": [
      {
       "cell_index": 12
      }
     ]
    },
    "354b0fa69ca441c0898f7d1a2766848c": {
     "views": [
      {
       "cell_index": 12
      }
     ]
    },
    "36882f1a37f4494c871dea911d943444": {
     "views": [
      {
       "cell_index": 12
      }
     ]
    },
    "38dd85edb51c4e348ba1fb2ec76bb45c": {
     "views": [
      {
       "cell_index": 12
      }
     ]
    },
    "39496445cfbf4165a3e60196fa49c992": {
     "views": [
      {
       "cell_index": 12
      }
     ]
    },
    "3d5d1abc28f84fb9be77ef4f982ae682": {
     "views": [
      {
       "cell_index": 12
      }
     ]
    },
    "3d7efceb5406409a81b99d1910e678ff": {
     "views": [
      {
       "cell_index": 12
      }
     ]
    },
    "3dee90589724428eb810e32c81577d1b": {
     "views": [
      {
       "cell_index": 12
      }
     ]
    },
    "409d72d64e1b48d1993150dadd63bd92": {
     "views": [
      {
       "cell_index": 12
      }
     ]
    },
    "42a72ded18b941c58b70bb1951892bab": {
     "views": [
      {
       "cell_index": 12
      }
     ]
    },
    "44685742df774e498e68d1e22bcf204b": {
     "views": [
      {
       "cell_index": 12
      }
     ]
    },
    "45ddbc938f7b427b95a3755e2a3e9b88": {
     "views": [
      {
       "cell_index": 12
      }
     ]
    },
    "48ef52b1fc3949b9a5165e72f488858e": {
     "views": [
      {
       "cell_index": 12
      }
     ]
    },
    "4a15875b1def4b2a899a81285357ca1e": {
     "views": [
      {
       "cell_index": 12
      }
     ]
    },
    "4a2ef90e2d724f9394ccf5a1ee75f6f8": {
     "views": [
      {
       "cell_index": 12
      }
     ]
    },
    "4b11f504fbf846df8feb379078c72021": {
     "views": [
      {
       "cell_index": 12
      }
     ]
    },
    "4bf7a27e0bbd474f90ca71d3bba2b77b": {
     "views": [
      {
       "cell_index": 12
      }
     ]
    },
    "4c724848daeb4687b7251768b291f885": {
     "views": [
      {
       "cell_index": 12
      }
     ]
    },
    "4ecb638277b843608345c5613629f42d": {
     "views": [
      {
       "cell_index": 12
      }
     ]
    },
    "4f2adfa48990420b83f26bc2f3ae5f61": {
     "views": [
      {
       "cell_index": 12
      }
     ]
    },
    "4feaf1ca9606497f8eebdffe8ae88a37": {
     "views": [
      {
       "cell_index": 12
      }
     ]
    },
    "50431b67e7a2476dbd3456fc58ef49a0": {
     "views": [
      {
       "cell_index": 12
      }
     ]
    },
    "51c02c51aa5d4856b3eb5b323d1558b2": {
     "views": [
      {
       "cell_index": 12
      }
     ]
    },
    "525aa8c53a2a48cda87764ba525d3360": {
     "views": [
      {
       "cell_index": 12
      }
     ]
    },
    "53c0e603574346dd98c74118336bd656": {
     "views": [
      {
       "cell_index": 12
      }
     ]
    },
    "551ea17b1af14b2a986d3f278ef8d181": {
     "views": [
      {
       "cell_index": 12
      }
     ]
    },
    "55a2ffe771bc4027a3a0baa831dd1700": {
     "views": [
      {
       "cell_index": 12
      }
     ]
    },
    "55b9e90aea154805961d0bb6cbbe628a": {
     "views": [
      {
       "cell_index": 12
      }
     ]
    },
    "57495bfc6c03470d88c3f05a68dc19a8": {
     "views": [
      {
       "cell_index": 12
      }
     ]
    },
    "579e0101c2a0432a940325032e9fcf3c": {
     "views": [
      {
       "cell_index": 12
      }
     ]
    },
    "58a39746ae0f4fa7be484fa69dbad655": {
     "views": [
      {
       "cell_index": 12
      }
     ]
    },
    "58c8a035d4ae4981b7ac08566ff838ed": {
     "views": [
      {
       "cell_index": 12
      }
     ]
    },
    "5960c6cbd861412bb594a1397184ad81": {
     "views": [
      {
       "cell_index": 12
      }
     ]
    },
    "59a030cba51842028825f80c4406c234": {
     "views": [
      {
       "cell_index": 12
      }
     ]
    },
    "5ad2168dd66f49f7b4b6c743f7cfc7d5": {
     "views": [
      {
       "cell_index": 12
      }
     ]
    },
    "5e0e515cbce3478794f6b52cb87a2dde": {
     "views": [
      {
       "cell_index": 12
      }
     ]
    },
    "5e2095930e844a0eaef35d2ece708187": {
     "views": [
      {
       "cell_index": 12
      }
     ]
    },
    "5e61acf42bc54ea389cf0ef0cc6f7505": {
     "views": [
      {
       "cell_index": 12
      }
     ]
    },
    "5ead6400478844109b4263319e5d6898": {
     "views": [
      {
       "cell_index": 12
      }
     ]
    },
    "5f84fb384c0c491aa40f538fffd2795c": {
     "views": [
      {
       "cell_index": 12
      }
     ]
    },
    "5fb2f3ffe5f5412bbb1862aea70dbbb0": {
     "views": [
      {
       "cell_index": 12
      }
     ]
    },
    "6087fcc2e5bf44d793d8bfcfa34d6dd4": {
     "views": [
      {
       "cell_index": 12
      }
     ]
    },
    "60c34159e71d4fdc9f763718a206716f": {
     "views": [
      {
       "cell_index": 12
      }
     ]
    },
    "656e14a60af2465ca9e7a0c23e0731e9": {
     "views": [
      {
       "cell_index": 12
      }
     ]
    },
    "662bc7673dda4b78a29d331c258ebdc6": {
     "views": [
      {
       "cell_index": 12
      }
     ]
    },
    "67a2dc4d0c5741b58ef479b504a71455": {
     "views": [
      {
       "cell_index": 12
      }
     ]
    },
    "687a68f81da84a07af0c0000ac328655": {
     "views": [
      {
       "cell_index": 12
      }
     ]
    },
    "68e925e6ee1144beb69c53165ada8768": {
     "views": [
      {
       "cell_index": 12
      }
     ]
    },
    "6931af866e304ac79a3b545fec2e8c88": {
     "views": [
      {
       "cell_index": 12
      }
     ]
    },
    "6bb98e2328ff49d198077ffd420c878c": {
     "views": [
      {
       "cell_index": 12
      }
     ]
    },
    "6eacd07ea5984ba8b02734d36866e7a6": {
     "views": [
      {
       "cell_index": 12
      }
     ]
    },
    "6fb217d7df594848b40132253595a7b0": {
     "views": [
      {
       "cell_index": 12
      }
     ]
    },
    "70186403dcf74cc6a8ef497a1a6591c8": {
     "views": [
      {
       "cell_index": 12
      }
     ]
    },
    "719062aa630e4c8690b2385f3c112af9": {
     "views": [
      {
       "cell_index": 12
      }
     ]
    },
    "73cfc2bc89be4ec3a524cd4c50871f78": {
     "views": [
      {
       "cell_index": 12
      }
     ]
    },
    "7407a252dd36483e85415b25914f3767": {
     "views": [
      {
       "cell_index": 12
      }
     ]
    },
    "76130664a8ae4583974fcf8de2e2b4ce": {
     "views": [
      {
       "cell_index": 12
      }
     ]
    },
    "7685f0930ab94803943dc594f1fb94e0": {
     "views": [
      {
       "cell_index": 12
      }
     ]
    },
    "76efe51e7e8240008741191677f40499": {
     "views": [
      {
       "cell_index": 12
      }
     ]
    },
    "77f6d2cd2f1349b7b08a157aa07f8a65": {
     "views": [
      {
       "cell_index": 12
      }
     ]
    },
    "7803163ee01f4a7fa62c1e31ed411c7a": {
     "views": [
      {
       "cell_index": 12
      }
     ]
    },
    "7a520ef0bd7e4a91ab400ddc5d20441a": {
     "views": [
      {
       "cell_index": 12
      }
     ]
    },
    "7b381bf84c1243419177aa2fa84c141e": {
     "views": [
      {
       "cell_index": 12
      }
     ]
    },
    "7b415d25de47435098b919281f059fa8": {
     "views": [
      {
       "cell_index": 12
      }
     ]
    },
    "7e89f06b616449138544f19bab4f95e1": {
     "views": [
      {
       "cell_index": 12
      }
     ]
    },
    "801cd8d52c474593ba3c8f9cc72bda2d": {
     "views": [
      {
       "cell_index": 12
      }
     ]
    },
    "80f75a3070834b47a6e1b565281a6e26": {
     "views": [
      {
       "cell_index": 12
      }
     ]
    },
    "82efe3bbbf404ddb9b123b1f7321287f": {
     "views": [
      {
       "cell_index": 12
      }
     ]
    },
    "8560ae49a90b40ce957033ea114be3ef": {
     "views": [
      {
       "cell_index": 12
      }
     ]
    },
    "86c838dfe0d54b1a878beb886c7ebdde": {
     "views": [
      {
       "cell_index": 12
      }
     ]
    },
    "875acdeef8434d979465f1eb3a48e08b": {
     "views": [
      {
       "cell_index": 12
      }
     ]
    },
    "8767c3504d9142b092d53d26f002378d": {
     "views": [
      {
       "cell_index": 12
      }
     ]
    },
    "87ae92caa18049eaa880e2d5e1555d6b": {
     "views": [
      {
       "cell_index": 12
      }
     ]
    },
    "88c7868ee327477a8dedf93304c3502a": {
     "views": [
      {
       "cell_index": 12
      }
     ]
    },
    "88fe3ab6d4c44cb8be1a3f38ee4f9e70": {
     "views": [
      {
       "cell_index": 12
      }
     ]
    },
    "8a8defaaeac741af966566f5d5e1715b": {
     "views": [
      {
       "cell_index": 12
      }
     ]
    },
    "8ace0cea85b4406ca4e209545322b054": {
     "views": [
      {
       "cell_index": 12
      }
     ]
    },
    "8ad2515abaaa48f7b90eda5f42ec9139": {
     "views": [
      {
       "cell_index": 12
      }
     ]
    },
    "8b1b7d0d24954476b06bc619017b7764": {
     "views": [
      {
       "cell_index": 12
      }
     ]
    },
    "8cdfb2ef621c4a05b632bb591fe7f66a": {
     "views": [
      {
       "cell_index": 12
      }
     ]
    },
    "8ce46dbeecc842039331cc5776638fcb": {
     "views": [
      {
       "cell_index": 12
      }
     ]
    },
    "8e6f353058fa417c9be2d509b496c489": {
     "views": [
      {
       "cell_index": 12
      }
     ]
    },
    "8f49d5534d0b412182c3fed8a3b6b751": {
     "views": [
      {
       "cell_index": 12
      }
     ]
    },
    "8fe9dee752334172a13e7ee1cd3c3638": {
     "views": [
      {
       "cell_index": 12
      }
     ]
    },
    "90a73953728e40b1bf7fb14c134f11f0": {
     "views": [
      {
       "cell_index": 12
      }
     ]
    },
    "90bfb7bf25d6490ea05297454a142df4": {
     "views": [
      {
       "cell_index": 12
      }
     ]
    },
    "914a99fdf8864b38bdab5f725c59184b": {
     "views": [
      {
       "cell_index": 12
      }
     ]
    },
    "916e3b497c554c16bdcdadd5bb08b318": {
     "views": [
      {
       "cell_index": 12
      }
     ]
    },
    "91a928fa60a4413e8e528e916c6335ae": {
     "views": [
      {
       "cell_index": 12
      }
     ]
    },
    "9253e01e31e043559d02ef91e0852639": {
     "views": [
      {
       "cell_index": 12
      }
     ]
    },
    "92f67d5d5b914fd789359f094652756e": {
     "views": [
      {
       "cell_index": 12
      }
     ]
    },
    "943ba0e09e594311a1f0ac8caf00a367": {
     "views": [
      {
       "cell_index": 12
      }
     ]
    },
    "968e4da55e46497f8ded426cd11735b7": {
     "views": [
      {
       "cell_index": 12
      }
     ]
    },
    "9789710351024303a3c8538df798a29b": {
     "views": [
      {
       "cell_index": 12
      }
     ]
    },
    "9789d378b099426fb389828694834330": {
     "views": [
      {
       "cell_index": 12
      }
     ]
    },
    "97db0a559371472ebcf0343d3b621482": {
     "views": [
      {
       "cell_index": 12
      }
     ]
    },
    "99135a27f24842048a149cd828953fc9": {
     "views": [
      {
       "cell_index": 12
      }
     ]
    },
    "9cf4228d6b824a369381c7a4acaf9dc5": {
     "views": [
      {
       "cell_index": 12
      }
     ]
    },
    "9eab25488b804ee7bbd808a17d742776": {
     "views": [
      {
       "cell_index": 12
      }
     ]
    },
    "a05147c3d40448aa97c33c9b1b38d7f0": {
     "views": [
      {
       "cell_index": 12
      }
     ]
    },
    "a15ce2dddc2841c385dde609e383619c": {
     "views": [
      {
       "cell_index": 12
      }
     ]
    },
    "a36e0b766b1b4d83a863e4f1dff44de0": {
     "views": [
      {
       "cell_index": 12
      }
     ]
    },
    "a5bd468098604c5a9ba53eefbf3da960": {
     "views": [
      {
       "cell_index": 12
      }
     ]
    },
    "a6a4e20824eb4221a495e2e8cdfc6352": {
     "views": [
      {
       "cell_index": 12
      }
     ]
    },
    "a8870f6ca6f54463ba9f439444f1a0e6": {
     "views": [
      {
       "cell_index": 12
      }
     ]
    },
    "a893f77e888e416693079c0c05c43797": {
     "views": [
      {
       "cell_index": 12
      }
     ]
    },
    "a8a78ca0fd024da98ce844b91960aff5": {
     "views": [
      {
       "cell_index": 12
      }
     ]
    },
    "a91bf509778e40c9ac9b01c32c9f8e3d": {
     "views": [
      {
       "cell_index": 12
      }
     ]
    },
    "a9571acd94524cbd98841da2e96d8f1e": {
     "views": [
      {
       "cell_index": 12
      }
     ]
    },
    "a9912a77b20a4151bdf1de03ba2bca32": {
     "views": [
      {
       "cell_index": 12
      }
     ]
    },
    "aa8a541d4cef4497878db69a4cb044d0": {
     "views": [
      {
       "cell_index": 12
      }
     ]
    },
    "abc826e682304996951c09f231922030": {
     "views": [
      {
       "cell_index": 12
      }
     ]
    },
    "acc2a94c96c44b0aabba3983df80d16e": {
     "views": [
      {
       "cell_index": 12
      }
     ]
    },
    "af0ffbf00d344e10a835c9c105a02b6b": {
     "views": [
      {
       "cell_index": 12
      }
     ]
    },
    "af1863f9bdea4ab49f016517658900e2": {
     "views": [
      {
       "cell_index": 12
      }
     ]
    },
    "b0557932fb014bb9b9dc31390a792c14": {
     "views": [
      {
       "cell_index": 12
      }
     ]
    },
    "b28907590b9f4d868faec16f5d9451df": {
     "views": [
      {
       "cell_index": 12
      }
     ]
    },
    "b324717c2cef4b1aa270f035916d5e6f": {
     "views": [
      {
       "cell_index": 12
      }
     ]
    },
    "b34a663bcf8946d795ff62e884adad78": {
     "views": [
      {
       "cell_index": 12
      }
     ]
    },
    "b43f81b7f301475fb741120e1fb425bb": {
     "views": [
      {
       "cell_index": 12
      }
     ]
    },
    "b4b00f84453e4a489fb53193a7229cba": {
     "views": [
      {
       "cell_index": 12
      }
     ]
    },
    "b54a179398694c758b13ae11565bd681": {
     "views": [
      {
       "cell_index": 12
      }
     ]
    },
    "b5af542f94474f16b3d1e1679598307e": {
     "views": [
      {
       "cell_index": 12
      }
     ]
    },
    "b6075094bd904ab2b9fde7d0f200e381": {
     "views": [
      {
       "cell_index": 12
      }
     ]
    },
    "b6f5b76d8e03427e8cdfa4e6ea286394": {
     "views": [
      {
       "cell_index": 12
      }
     ]
    },
    "b83544f0ba9c46dd8bd2ae14dd446d1d": {
     "views": [
      {
       "cell_index": 12
      }
     ]
    },
    "b928c547a7a94e2ea3c07e18a170ffcd": {
     "views": [
      {
       "cell_index": 12
      }
     ]
    },
    "ba2541a74e5a46a38ebd06d7d225d3cf": {
     "views": [
      {
       "cell_index": 12
      }
     ]
    },
    "bbf3ce2bff33494da34dcad04995de6f": {
     "views": [
      {
       "cell_index": 12
      }
     ]
    },
    "bcb91cfd00aa4dc9a01affb9ee0c783e": {
     "views": [
      {
       "cell_index": 12
      }
     ]
    },
    "bcc14afed41c47c79ef971696b1ff33e": {
     "views": [
      {
       "cell_index": 12
      }
     ]
    },
    "bd0d70419ae845b29dea4533f5075cd8": {
     "views": [
      {
       "cell_index": 12
      }
     ]
    },
    "bdbe212fa823416a989fed8a01b28617": {
     "views": [
      {
       "cell_index": 13
      }
     ]
    },
    "be654c3d53724d759fbc16a34be54f4f": {
     "views": [
      {
       "cell_index": 12
      }
     ]
    },
    "bf62857b20434c7f8d3d396c609eaa26": {
     "views": [
      {
       "cell_index": 12
      }
     ]
    },
    "c015d0fabca248c2b6b9056368f4b4b2": {
     "views": [
      {
       "cell_index": 12
      }
     ]
    },
    "c2db9248d4284a12aae05ba1620576ca": {
     "views": [
      {
       "cell_index": 12
      }
     ]
    },
    "c2f9701d27c8426386b3a50faf90cdfb": {
     "views": [
      {
       "cell_index": 12
      }
     ]
    },
    "c336e71723904bb99810a7deeba3db22": {
     "views": [
      {
       "cell_index": 12
      }
     ]
    },
    "c420564e37d54420abf37e98a0314707": {
     "views": [
      {
       "cell_index": 12
      }
     ]
    },
    "c449f87e831342bfb78e25c3358bfc0e": {
     "views": [
      {
       "cell_index": 12
      }
     ]
    },
    "c5eda9de7b09463fb54c28c55650c002": {
     "views": [
      {
       "cell_index": 12
      }
     ]
    },
    "c76bb611f64d43aebba502a0dc38bf3f": {
     "views": [
      {
       "cell_index": 12
      }
     ]
    },
    "c83a15fc20b0436ebf217df027c107f5": {
     "views": [
      {
       "cell_index": 12
      }
     ]
    },
    "cac6393a0838429895b1f7056ed26dfc": {
     "views": [
      {
       "cell_index": 12
      }
     ]
    },
    "cc32abc4ca854903b89021b7615dc29a": {
     "views": [
      {
       "cell_index": 12
      }
     ]
    },
    "cccb08becbef43918fe06ad901df5d35": {
     "views": [
      {
       "cell_index": 12
      }
     ]
    },
    "ce1b8ce8502e432d82eceac68fcee652": {
     "views": [
      {
       "cell_index": 12
      }
     ]
    },
    "d077933d02f44d558959aca63e88acf3": {
     "views": [
      {
       "cell_index": 12
      }
     ]
    },
    "d1eb0aaeebb34746a632c2d87e91b41f": {
     "views": [
      {
       "cell_index": 12
      }
     ]
    },
    "d2a47efd92cc4e149a379c707a19ab7a": {
     "views": [
      {
       "cell_index": 12
      }
     ]
    },
    "d38c7f0560744743ae9ba14c2f9c4a14": {
     "views": [
      {
       "cell_index": 12
      }
     ]
    },
    "d3a66b6b15c944b88a1419c0031b2bd8": {
     "views": [
      {
       "cell_index": 12
      }
     ]
    },
    "d3cbc3244b4748c58ad07af3dfed1b00": {
     "views": [
      {
       "cell_index": 12
      }
     ]
    },
    "d3eb442fa89e47e9849d87a475404763": {
     "views": [
      {
       "cell_index": 12
      }
     ]
    },
    "d454e9cb694d4bb6920088604778e77a": {
     "views": [
      {
       "cell_index": 12
      }
     ]
    },
    "d6b092dca0c344489f46404b9c507392": {
     "views": [
      {
       "cell_index": 12
      }
     ]
    },
    "d753a47b9d834930948c2fd2b762c72e": {
     "views": [
      {
       "cell_index": 12
      }
     ]
    },
    "db64ec0e3e7f473d870738056994706f": {
     "views": [
      {
       "cell_index": 12
      }
     ]
    },
    "dc4723642e414afa8a9e8f56009de6b5": {
     "views": [
      {
       "cell_index": 12
      }
     ]
    },
    "dca4d8cb5c0f41d4841aea7dcbffc1cb": {
     "views": [
      {
       "cell_index": 12
      }
     ]
    },
    "dca766f785fa48279bf1eafe42d2389f": {
     "views": [
      {
       "cell_index": 12
      }
     ]
    },
    "dd11d9593941444a9d23b1fce3ededd0": {
     "views": [
      {
       "cell_index": 12
      }
     ]
    },
    "ddd1b2fb1f694ea5b30ec737433db645": {
     "views": [
      {
       "cell_index": 12
      }
     ]
    },
    "ddea093329fb4e2ea513d3b9a2b5fb36": {
     "views": [
      {
       "cell_index": 12
      }
     ]
    },
    "de2d830a5a1443229d4ff3908c7343b1": {
     "views": [
      {
       "cell_index": 12
      }
     ]
    },
    "df053f3601b54681b6bff4ed9a581b5d": {
     "views": [
      {
       "cell_index": 12
      }
     ]
    },
    "df175828748e43aaaedbf6726ead6ebb": {
     "views": [
      {
       "cell_index": 12
      }
     ]
    },
    "df257114836244af9bb8acce2ca8dac4": {
     "views": [
      {
       "cell_index": 12
      }
     ]
    },
    "e0e1a89c6ba64eada27838599fd8a1bc": {
     "views": [
      {
       "cell_index": 12
      }
     ]
    },
    "e28963a0634142f996114d1d03ab95fd": {
     "views": [
      {
       "cell_index": 12
      }
     ]
    },
    "e2a9db9b83514dae95fe07eebf9e1dec": {
     "views": [
      {
       "cell_index": 12
      }
     ]
    },
    "e39e00fc442f45c29be9dd2d96d57e3d": {
     "views": [
      {
       "cell_index": 12
      }
     ]
    },
    "e3a1a53647ae45fca1b7996f40fd21df": {
     "views": [
      {
       "cell_index": 12
      }
     ]
    },
    "e3d09c41f62b4e61ae2bfc699ebe6b8f": {
     "views": [
      {
       "cell_index": 12
      }
     ]
    },
    "e401983415f445a7a12cf2b8b49a661b": {
     "views": [
      {
       "cell_index": 12
      }
     ]
    },
    "e5d79639cf8040ba93fc59ee01160f30": {
     "views": [
      {
       "cell_index": 12
      }
     ]
    },
    "e60effb5d0f7426187ed7cc22a2604c8": {
     "views": [
      {
       "cell_index": 12
      }
     ]
    },
    "e7073eefcbc04472b66d3ee5e067f5c2": {
     "views": [
      {
       "cell_index": 12
      }
     ]
    },
    "e8d805f6f58b48328ac71d14d8063a14": {
     "views": [
      {
       "cell_index": 12
      }
     ]
    },
    "e8d9b94aa9a3494a96c961ab3f8f29fb": {
     "views": [
      {
       "cell_index": 12
      }
     ]
    },
    "eb989f1a03f344b9a1a4985f8c788fcf": {
     "views": [
      {
       "cell_index": 12
      }
     ]
    },
    "ec0c29090b4a427bbc34b4aaaab61b9c": {
     "views": [
      {
       "cell_index": 12
      }
     ]
    },
    "eed5f0eb053e491182c3666d2c53b62c": {
     "views": [
      {
       "cell_index": 12
      }
     ]
    },
    "f06d880643c046c09f0cfd5d9687f9b1": {
     "views": [
      {
       "cell_index": 12
      }
     ]
    },
    "f076f62324af43e1ae4ea05bbcf5bedc": {
     "views": [
      {
       "cell_index": 12
      }
     ]
    },
    "f1d84239faa74925be2fb6b7f9d7f578": {
     "views": [
      {
       "cell_index": 12
      }
     ]
    },
    "f33a06d4df174b6081737f4cc5bf2bd5": {
     "views": [
      {
       "cell_index": 12
      }
     ]
    },
    "f4799f7ba34348bf9e1abbffc39f0052": {
     "views": [
      {
       "cell_index": 12
      }
     ]
    },
    "f54bacdd11bf4e9f9219aaf39eb8b1dd": {
     "views": [
      {
       "cell_index": 12
      }
     ]
    },
    "f803f31407394b4a8194e1e462f7b4b7": {
     "views": [
      {
       "cell_index": 12
      }
     ]
    },
    "f9b4e454b92e4355b4e82004f2aa059a": {
     "views": [
      {
       "cell_index": 12
      }
     ]
    },
    "f9c3768ec23645ce9060ccf7c8cbd568": {
     "views": [
      {
       "cell_index": 12
      }
     ]
    },
    "fa32861623a042e5ad64bb555eb87d79": {
     "views": [
      {
       "cell_index": 12
      }
     ]
    },
    "fa6342fb94ee42e5a15ae612168f5c4d": {
     "views": [
      {
       "cell_index": 12
      }
     ]
    },
    "fbf246de2b0f47a1a41a3dab6ce21837": {
     "views": [
      {
       "cell_index": 12
      }
     ]
    },
    "fc0deb83fdcc4c68af1a091c6dd94e76": {
     "views": [
      {
       "cell_index": 12
      }
     ]
    },
    "fd10c2b5d3c6413eb695b39f4fb9fd0f": {
     "views": [
      {
       "cell_index": 12
      }
     ]
    },
    "fd4e84c1f4c64df98494a3ac1cac6459": {
     "views": [
      {
       "cell_index": 12
      }
     ]
    },
    "fe63af2d4ed74581a938222c34ee13d5": {
     "views": [
      {
       "cell_index": 12
      }
     ]
    },
    "fe9eac75fbc4426ab847e6f922a965d7": {
     "views": [
      {
       "cell_index": 12
      }
     ]
    },
    "ff9bf2ebec7a4333a81e2bb5ad4dad29": {
     "views": [
      {
       "cell_index": 12
      }
     ]
    }
   },
   "version": "1.2.0"
  }
 },
 "nbformat": 4,
 "nbformat_minor": 2
}
