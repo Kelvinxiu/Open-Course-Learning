{
 "cells": [
  {
   "cell_type": "code",
   "execution_count": 1,
   "metadata": {
    "ExecuteTime": {
     "end_time": "2018-01-05T23:02:17.250754Z",
     "start_time": "2018-01-05T23:02:16.341109Z"
    },
    "collapsed": true
   },
   "outputs": [],
   "source": [
    "from IPython.core.interactiveshell import InteractiveShell\n",
    "InteractiveShell.ast_node_interactivity = \"all\"\n",
    "\n",
    "from collections import Counter\n",
    "import numpy as np\n",
    "import matplotlib.pyplot as plt\n",
    "from functools import reduce\n",
    "import pdir as pr\n",
    "import pandas as pd\n",
    "import os\n",
    "from tqdm import tqdm, tnrange, tqdm_notebook\n",
    "\n",
    "DF = pd.DataFrame\n",
    "arr = np.array"
   ]
  },
  {
   "cell_type": "markdown",
   "metadata": {},
   "source": [
    "前面调参只是一直在调K的值，但是KNN实际除了K这个参数还有距离度量方式这个参数，因此这里便来测试这个新的参数。"
   ]
  },
  {
   "cell_type": "markdown",
   "metadata": {},
   "source": [
    "# 读取数据"
   ]
  },
  {
   "cell_type": "code",
   "execution_count": 2,
   "metadata": {
    "ExecuteTime": {
     "end_time": "2018-01-05T23:02:19.499366Z",
     "start_time": "2018-01-05T23:02:17.252755Z"
    }
   },
   "outputs": [
    {
     "data": {
      "text/plain": [
       "((33600, 18), (14400, 18), (12000, 17))"
      ]
     },
     "execution_count": 2,
     "metadata": {},
     "output_type": "execute_result"
    }
   ],
   "source": [
    "dirPath = \"data preprocessed\\\\unnormalized\"\n",
    "\n",
    "trainSet_origin = np.loadtxt(dirPath + '\\\\train.csv', delimiter=\",\")\n",
    "validateSet_origin = np.loadtxt(dirPath + '\\\\validate.csv', delimiter=\",\")\n",
    "testSet = np.loadtxt(dirPath + '\\\\test.csv', delimiter=\",\")\n",
    "\n",
    "trainSet_origin.shape, validateSet_origin.shape, testSet.shape"
   ]
  },
  {
   "cell_type": "markdown",
   "metadata": {
    "ExecuteTime": {
     "end_time": "2017-12-20T23:04:38.482750Z",
     "start_time": "2017-12-20T23:04:38.462735Z"
    }
   },
   "source": [
    "划分数据集特征和标签："
   ]
  },
  {
   "cell_type": "code",
   "execution_count": 4,
   "metadata": {
    "ExecuteTime": {
     "end_time": "2018-01-05T23:02:46.496261Z",
     "start_time": "2018-01-05T23:02:46.480249Z"
    }
   },
   "outputs": [
    {
     "data": {
      "text/plain": [
       "(48000, 18)"
      ]
     },
     "execution_count": 4,
     "metadata": {},
     "output_type": "execute_result"
    },
    {
     "data": {
      "text/plain": [
       "(48000, 17)"
      ]
     },
     "execution_count": 4,
     "metadata": {},
     "output_type": "execute_result"
    }
   ],
   "source": [
    "trainSet_merge = np.row_stack([trainSet_origin, validateSet_origin])\n",
    "trainSet_merge.shape\n",
    "\n",
    "trainSet, trainSetLabel = trainSet_merge[:, :-1], trainSet_merge[:, -1]\n",
    "trainSet.shape"
   ]
  },
  {
   "cell_type": "markdown",
   "metadata": {},
   "source": [
    "# 实现评测指标"
   ]
  },
  {
   "cell_type": "code",
   "execution_count": 5,
   "metadata": {
    "ExecuteTime": {
     "end_time": "2018-01-05T23:02:50.716534Z",
     "start_time": "2018-01-05T23:02:50.665999Z"
    }
   },
   "outputs": [
    {
     "name": "stdout",
     "output_type": "stream",
     "text": [
      "test 1: normal one\n",
      "TP FN FP 1 1 1\n"
     ]
    },
    {
     "data": {
      "text/plain": [
       "0.5"
      ]
     },
     "execution_count": 5,
     "metadata": {},
     "output_type": "execute_result"
    },
    {
     "name": "stdout",
     "output_type": "stream",
     "text": [
      "\n",
      "test 2: may have zero division error\n",
      "TP FN FP 1 1 0\n"
     ]
    },
    {
     "data": {
      "text/plain": [
       "0.6666666666666666"
      ]
     },
     "execution_count": 5,
     "metadata": {},
     "output_type": "execute_result"
    }
   ],
   "source": [
    "def calcF1(predictLabel, realLabel, printRes=False):\n",
    "    '''给定算法得到的分类结果和实际的分类结果，计算评测指标\n",
    "    注意：标签为1则为正标签，标签不为1则为负标签'''\n",
    "    def safeDivide(a, b):\n",
    "        '''子函数：当分母为0时返回除式结果为 -1'''\n",
    "        return a/b if b != 0 else 0\n",
    "    \n",
    "    TP = Counter(np.logical_and(predictLabel==1, realLabel==1))[True]\n",
    "    FN = Counter(np.logical_and(predictLabel!=1, realLabel==1))[True]\n",
    "    FP = Counter(np.logical_and(predictLabel==1, realLabel!=1))[True]\n",
    "    if(printRes):\n",
    "        print(\"TP FN FP\", TP, FN, FP)\n",
    "    F1 = safeDivide(2*TP, 2*TP+FN+FP)\n",
    "    return F1\n",
    "\n",
    "print('test 1: normal one')\n",
    "calcF1(arr([1, 1, 0, 0]), arr([1, 0, 1, 0]), True)\n",
    "print('\\ntest 2: may have zero division error')\n",
    "calcF1(arr([0, 0, 1, 0]), arr([1, 0, 1, 0]), True)"
   ]
  },
  {
   "cell_type": "markdown",
   "metadata": {},
   "source": [
    "# 距离度量方式\n",
    "\n",
    "欧式距离之前测试过了，这里便测试下其他9种距离。\n",
    "\n",
    "参考：https://www.cnblogs.com/heaad/archive/2011/03/08/1977733.html"
   ]
  },
  {
   "cell_type": "code",
   "execution_count": 6,
   "metadata": {
    "ExecuteTime": {
     "end_time": "2018-01-05T23:02:54.685635Z",
     "start_time": "2018-01-05T23:02:54.509482Z"
    },
    "collapsed": true
   },
   "outputs": [],
   "source": [
    "class distanceMetric:\n",
    "    \n",
    "    def __init__(self, tag):\n",
    "        self.tag = tag\n",
    "        \n",
    "    def Manhattan(self, dataSet, inputVector):\n",
    "        '''曼哈顿距离'''\n",
    "        diff = np.abs(dataSet - inputVector)\n",
    "        distances = diff.sum(axis=1)\n",
    "        return distances\n",
    "    \n",
    "    def Chebyshev(self, dataSet, inputVector):\n",
    "        '''切比雪夫距离'''\n",
    "        diff = np.abs(dataSet - inputVector)\n",
    "        distances = np.max(diff, axis=1)\n",
    "        return distances\n",
    "\n",
    "    def Minkowski(self, dataSet, inputVector):\n",
    "        '''闵可夫斯基距离:\n",
    "        闵氏距离不是一种距离，而是一组距离的定义。\n",
    "        \n",
    "        其中p是一个变参数。\n",
    "\n",
    "        当p=1时，就是曼哈顿距离\n",
    "\n",
    "        当p=2时，就是欧氏距离\n",
    "\n",
    "        当p→∞时，就是切比雪夫距离\n",
    "        \n",
    "        这里暂不实现'''\n",
    "        pass    \n",
    "    \n",
    "    def StandardizedEuclidean(self, dataSet, inputVector):\n",
    "        '''标准化欧氏距离:\n",
    "        这个也测试过了，在这个project上不适用'''\n",
    "        pass\n",
    "    \n",
    "    def Mahalanobis(self, dataSet, inputVector):\n",
    "        '''马氏距离'''\n",
    "        def SubMahalanobis(vec1, vec2):\n",
    "            npvec = np.array([vec1, vec2])\n",
    "            sub = npvec.T[0]-npvec.T[1]\n",
    "            #print(np.cov(vec1, vec2))\n",
    "            inv_sub = np.linalg.pinv(np.cov(vec1, vec2))\n",
    "            return np.sqrt(np.dot(inv_sub, sub).dot(sub.T))  \n",
    "        \n",
    "        distances = np.zeros(dataSet.shape[0])\n",
    "        for i in range(dataSet.shape[0]):\n",
    "            distances[i] = SubMahalanobis(dataSet[i,:], inputVector)\n",
    "        return distances\n",
    "    \n",
    "    def Cosine(self, dataSet, inputVector):\n",
    "        '''夹角余弦'''\n",
    "        a = np.dot(dataSet, inputVector.T)\n",
    "        b = np.sqrt(np.sum(dataSet**2, axis=1))\n",
    "        c = np.sqrt(np.sum(inputVector**2))\n",
    "        distances = a/(b*c)\n",
    "        return distances\n",
    "    \n",
    "    def Hamming(self, dataSet, inputVector):\n",
    "        '''汉明距离:\n",
    "        两个等长字符串s1与s2之间的汉明距离定义为将其中一个变为另外一个所需要作的最小替换次数。\n",
    "        例如字符串“1111”与“1001”之间的汉明距离为2。\n",
    "        这个在离散变量上可能有效果，但是在连续数据上直接应用怕是不行'''\n",
    "        pass    \n",
    "    \n",
    "    def JaccardSimilarity(self, dataSet, inputVector):\n",
    "        '''杰卡德相似系数：\n",
    "        两个集合A和B的交集元素在A，B的并集中所占的比例，称为两个集合的杰卡德相似系数\n",
    "        在此次project怕也是无法应用'''\n",
    "        pass\n",
    "    \n",
    "    def Correlation(self, dataSet, inputVector):\n",
    "        '''相关距离'''\n",
    "        distances = np.zeros(dataSet.shape[0])\n",
    "        for i in range(dataSet.shape[0]):\n",
    "            distances[i] = 1 - np.corrcoef(np.vstack([dataSet[i,:], inputVector]))[0,1]\n",
    "#         distances = 1 - np.corrcoef(np.vstack([dataSet, inputVector]))[]\n",
    "        return distances\n",
    "     \n",
    "    def calcDistance(self, dataSet, inputVector):\n",
    "        \n",
    "        if self.tag == 1:\n",
    "            return self.Manhattan(dataSet, inputVector)\n",
    "        elif self.tag == 2:\n",
    "            return self.Chebyshev(dataSet, inputVector)\n",
    "        elif self.tag == 3:\n",
    "            return self.Cosine(dataSet, inputVector)\n",
    "        elif self.tag == 4:\n",
    "            return self.Mahalanobis(dataSet, inputVector)\n",
    "        else:\n",
    "            return self.Correlation(dataSet, inputVector)\n",
    "\n",
    "############### 函数测试 ##################                \n",
    "# distanceMetric(1).calcDistance(arr([[1,1,0,0],\n",
    "#                                     [0,1,1,1],\n",
    "#                                     [1,0,0,1]]), arr([0,1,1,0]))\n",
    "\n",
    "# distanceMetric(2).calcDistance(arr([[2,1,0,0],\n",
    "#                                     [0,1,8,1],\n",
    "#                                     [1,0,0,6]]), arr([0,1,1,0]))\n",
    "\n",
    "# distanceMetric(4).calcDistance(arr([[2,1,0,0],\n",
    "#                                     [0,1,8,1],\n",
    "#                                     [1,0,0,6]]), arr([0,1,1,0]))\n",
    "                    \n",
    "# distanceMetric(3).calcDistance(arr([[2,1,0,0],\n",
    "#                                     [0,1,8,1],\n",
    "#                                     [1,0,0,6]]), arr([0,1,1,0]))\n",
    "\n",
    "# distanceMetric(5).calcDistance(arr([[1,2,3,4]]), arr([3,8,7,6]))"
   ]
  },
  {
   "cell_type": "markdown",
   "metadata": {},
   "source": [
    "# KNN"
   ]
  },
  {
   "cell_type": "code",
   "execution_count": 7,
   "metadata": {
    "ExecuteTime": {
     "end_time": "2018-01-05T23:02:57.013639Z",
     "start_time": "2018-01-05T23:02:56.985621Z"
    }
   },
   "outputs": [
    {
     "data": {
      "text/plain": [
       "1"
      ]
     },
     "execution_count": 7,
     "metadata": {},
     "output_type": "execute_result"
    }
   ],
   "source": [
    "def knn_classify(dataSet, labels, k, inputVector, distanceMetricID):\n",
    "    '''使用knn对输入的向量进行分类，使用距离加权'''\n",
    "    dm = distanceMetric(distanceMetricID)\n",
    "    distances = dm.calcDistance(dataSet, inputVector)\n",
    "    #得到 K 个近邻的下标\n",
    "    kNeighborsIndex  = distances.argpartition(k-1)[0:k]\n",
    "    #计算 K 个近邻的距离倒数\n",
    "    kDatas = 1/distances[kNeighborsIndex]\n",
    "    #得到 对应的 K 个标签\n",
    "    kLabels = labels[kNeighborsIndex]\n",
    "    \n",
    "    predictLabel = np.NAN\n",
    "    maxDis = -np.inf\n",
    "    for i in np.unique(kLabels):\n",
    "        dis = np.sum(kDatas[kLabels==i]) \n",
    "        #print(dis)\n",
    "        if dis > maxDis:\n",
    "            maxDis = dis\n",
    "            predictLabel = i\n",
    "    #返回分类结果\n",
    "    return predictLabel\n",
    "\n",
    "##############测试程序#######################\n",
    "knn_classify(arr([[1,1,0,0],\n",
    "              [0,1,1,1],\n",
    "              [1,0,0,1]]).copy(), arr([1, 0, 1]), 3, arr([0,1,1,0]), 2)\n",
    "##############测试程序#######################"
   ]
  },
  {
   "cell_type": "markdown",
   "metadata": {},
   "source": [
    "# 调参\n",
    "\n",
    "所调参数只有K。"
   ]
  },
  {
   "cell_type": "code",
   "execution_count": 10,
   "metadata": {
    "ExecuteTime": {
     "end_time": "2018-01-05T23:03:50.533829Z",
     "start_time": "2018-01-05T23:03:50.526826Z"
    },
    "collapsed": true
   },
   "outputs": [],
   "source": [
    "def run_knn_classify(dataSet, k, distanceId):\n",
    "    ansLabel = []\n",
    "    for i in tnrange(len(dataSet), leave=False):\n",
    "        ansLabel.append(knn_classify(trainSet, trainSetLabel, k, dataSet[i], distanceId))\n",
    "    return arr(ansLabel)\n",
    "\n",
    "def getTestF1(k, distanceId):\n",
    "    ansLabel = run_knn_classify(validateSet, k, distanceId)\n",
    "    return calcF1(ansLabel, validateSetLabel)"
   ]
  },
  {
   "cell_type": "markdown",
   "metadata": {},
   "source": [
    "## 使用曼哈顿距离"
   ]
  },
  {
   "cell_type": "code",
   "execution_count": 13,
   "metadata": {
    "ExecuteTime": {
     "end_time": "2018-01-05T23:34:28.416634Z",
     "start_time": "2018-01-05T23:05:33.767731Z"
    }
   },
   "outputs": [
    {
     "name": "stdout",
     "output_type": "stream",
     "text": []
    }
   ],
   "source": [
    "ansLabel = run_knn_classify(testSet, 1, 1)\n",
    "np.savetxt('.\\\\rank\\\\47_v1.csv', ansLabel, fmt=\"%d\", delimiter=\"\\n\")"
   ]
  }
 ],
 "metadata": {
  "anaconda-cloud": {},
  "kernelspec": {
   "display_name": "Python [conda root]",
   "language": "python",
   "name": "conda-root-py"
  },
  "language_info": {
   "codemirror_mode": {
    "name": "ipython",
    "version": 3
   },
   "file_extension": ".py",
   "mimetype": "text/x-python",
   "name": "python",
   "nbconvert_exporter": "python",
   "pygments_lexer": "ipython3",
   "version": "3.5.2"
  },
  "toc": {
   "nav_menu": {},
   "number_sections": true,
   "sideBar": true,
   "skip_h1_title": false,
   "toc_cell": false,
   "toc_position": {},
   "toc_section_display": "block",
   "toc_window_display": false
  }
 },
 "nbformat": 4,
 "nbformat_minor": 2
}
