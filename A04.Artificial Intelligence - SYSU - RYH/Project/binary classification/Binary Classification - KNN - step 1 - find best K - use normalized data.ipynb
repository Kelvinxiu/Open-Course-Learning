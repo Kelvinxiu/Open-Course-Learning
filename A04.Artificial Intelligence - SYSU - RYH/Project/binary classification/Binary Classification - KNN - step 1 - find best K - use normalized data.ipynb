{
 "cells": [
  {
   "cell_type": "code",
   "execution_count": 1,
   "metadata": {
    "ExecuteTime": {
     "end_time": "2017-12-22T16:56:53.030913Z",
     "start_time": "2017-12-22T16:56:43.680983Z"
    },
    "collapsed": true
   },
   "outputs": [],
   "source": [
    "from IPython.core.interactiveshell import InteractiveShell\n",
    "InteractiveShell.ast_node_interactivity = \"all\"\n",
    "\n",
    "from collections import Counter\n",
    "import numpy as np\n",
    "import matplotlib.pyplot as plt\n",
    "from functools import reduce\n",
    "import pdir as pr\n",
    "import pandas as pd\n",
    "import os\n",
    "from tqdm import tqdm, tnrange, tqdm_notebook\n",
    "\n",
    "DF = pd.DataFrame\n",
    "arr = np.array"
   ]
  },
  {
   "cell_type": "markdown",
   "metadata": {},
   "source": [
    "# 读取数据"
   ]
  },
  {
   "cell_type": "code",
   "execution_count": 2,
   "metadata": {
    "ExecuteTime": {
     "end_time": "2017-12-22T16:56:57.164966Z",
     "start_time": "2017-12-22T16:56:53.033385Z"
    }
   },
   "outputs": [
    {
     "data": {
      "text/plain": [
       "((33600, 18), (14400, 18), (12000, 17))"
      ]
     },
     "execution_count": 2,
     "metadata": {},
     "output_type": "execute_result"
    }
   ],
   "source": [
    "dirPath = \"data preprocessed\\\\normalized\"\n",
    "\n",
    "means, stds = eval(open(dirPath + \"\\\\means_and_stds_about_trainset.py\").read())\n",
    "\n",
    "trainSet_origin = np.loadtxt(dirPath + '\\\\train.csv', delimiter=\",\")\n",
    "validateSet_origin = np.loadtxt(dirPath + '\\\\validate.csv', delimiter=\",\")\n",
    "testSet = np.loadtxt(dirPath + '\\\\test.csv', delimiter=\",\")\n",
    "\n",
    "trainSet_origin.shape, validateSet_origin.shape, testSet.shape"
   ]
  },
  {
   "cell_type": "markdown",
   "metadata": {
    "ExecuteTime": {
     "end_time": "2017-12-20T23:04:38.482750Z",
     "start_time": "2017-12-20T23:04:38.462735Z"
    }
   },
   "source": [
    "划分数据集特征和标签："
   ]
  },
  {
   "cell_type": "code",
   "execution_count": 3,
   "metadata": {
    "ExecuteTime": {
     "end_time": "2017-12-22T16:56:57.176994Z",
     "start_time": "2017-12-22T16:56:57.167972Z"
    }
   },
   "outputs": [
    {
     "data": {
      "text/plain": [
       "((33600, 17), (14400, 17))"
      ]
     },
     "execution_count": 3,
     "metadata": {},
     "output_type": "execute_result"
    }
   ],
   "source": [
    "trainSet, trainSetLabel = trainSet_origin[:, :-1], trainSet_origin[:, -1]\n",
    "validateSet, validateSetLabel = validateSet_origin[:, :-1], validateSet_origin[:, -1]\n",
    "trainSet.shape, validateSet.shape"
   ]
  },
  {
   "cell_type": "markdown",
   "metadata": {},
   "source": [
    "# 实现评测指标"
   ]
  },
  {
   "cell_type": "code",
   "execution_count": 4,
   "metadata": {
    "ExecuteTime": {
     "end_time": "2017-12-22T16:56:57.437705Z",
     "start_time": "2017-12-22T16:56:57.179476Z"
    }
   },
   "outputs": [
    {
     "name": "stdout",
     "output_type": "stream",
     "text": [
      "test 1: normal one\n",
      "TP FN FP 1 1 1\n"
     ]
    },
    {
     "data": {
      "text/plain": [
       "0.5"
      ]
     },
     "execution_count": 4,
     "metadata": {},
     "output_type": "execute_result"
    },
    {
     "name": "stdout",
     "output_type": "stream",
     "text": [
      "\n",
      "test 2: may have zero division error\n",
      "TP FN FP 1 1 0\n"
     ]
    },
    {
     "data": {
      "text/plain": [
       "0.6666666666666666"
      ]
     },
     "execution_count": 4,
     "metadata": {},
     "output_type": "execute_result"
    }
   ],
   "source": [
    "def calcF1(predictLabel, realLabel, printRes=False):\n",
    "    '''给定算法得到的分类结果和实际的分类结果，计算评测指标\n",
    "    注意：标签为1则为正标签，标签不为1则为负标签'''\n",
    "    def safeDivide(a, b):\n",
    "        '''子函数：当分母为0时返回除式结果为 -1'''\n",
    "        return a/b if b != 0 else 0\n",
    "    \n",
    "    TP = Counter(np.logical_and(predictLabel==1, realLabel==1))[True]\n",
    "    FN = Counter(np.logical_and(predictLabel!=1, realLabel==1))[True]\n",
    "    FP = Counter(np.logical_and(predictLabel==1, realLabel!=1))[True]\n",
    "    if(printRes):\n",
    "        print(\"TP FN FP\", TP, FN, FP)\n",
    "    F1 = safeDivide(2*TP, 2*TP+FN+FP)\n",
    "    return F1\n",
    "\n",
    "print('test 1: normal one')\n",
    "calcF1(arr([1, 1, 0, 0]), arr([1, 0, 1, 0]), True)\n",
    "print('\\ntest 2: may have zero division error')\n",
    "calcF1(arr([0, 0, 1, 0]), arr([1, 0, 1, 0]), True)"
   ]
  },
  {
   "cell_type": "markdown",
   "metadata": {},
   "source": [
    "# KNN"
   ]
  },
  {
   "cell_type": "code",
   "execution_count": 5,
   "metadata": {
    "ExecuteTime": {
     "end_time": "2017-12-22T16:56:57.541097Z",
     "start_time": "2017-12-22T16:56:57.440206Z"
    }
   },
   "outputs": [
    {
     "data": {
      "text/plain": [
       "0"
      ]
     },
     "execution_count": 5,
     "metadata": {},
     "output_type": "execute_result"
    }
   ],
   "source": [
    "def knn_classify(dataSet, labels, k, inputVector):\n",
    "    '''使用knn对输入的向量进行分类，使用欧式距离'''\n",
    "    #得到输入向量与数据集的差值的平方\n",
    "    diffMat = (dataSet - inputVector)**2\n",
    "    #计算每一行上元素的和并开方，得到距离向量\n",
    "    distances = np.sqrt(diffMat.sum(axis=1))\n",
    "    #print(\"输入向量与训练集每个向量的距离依次为：\",list(distances))\n",
    "    #得到 K个近邻的下标\n",
    "    kNeighborsIndex  = distances.argpartition(k-1)[0:k]\n",
    "    #返回分类结果\n",
    "    return Counter(labels[kNeighborsIndex]).most_common(1)[0][0]\n",
    "\n",
    "##############测试程序#######################\n",
    "knn_classify(arr([[1,1,0,0],\n",
    "              [0,1,1,1],\n",
    "              [1,0,0,1]]), arr([1, 0, 1]), 1, arr([0,1,1,0]))\n",
    "##############测试程序#######################"
   ]
  },
  {
   "cell_type": "markdown",
   "metadata": {},
   "source": [
    "# 调参\n",
    "\n",
    "所调参数只有K。"
   ]
  },
  {
   "cell_type": "code",
   "execution_count": 16,
   "metadata": {
    "ExecuteTime": {
     "end_time": "2017-12-22T19:07:43.332617Z",
     "start_time": "2017-12-22T19:07:43.322609Z"
    },
    "collapsed": true
   },
   "outputs": [],
   "source": [
    "def run_knn_classify(dataSet, k):\n",
    "    ansLabel = []\n",
    "    for i in tnrange(len(dataSet), leave=False):\n",
    "        ansLabel.append(knn_classify(trainSet, trainSetLabel, k, dataSet[i]))\n",
    "    return arr(ansLabel)\n",
    "\n",
    "def getTestF1(k):\n",
    "    ansLabel = run_knn_classify(validateSet, k)\n",
    "    return calcF1(ansLabel, validateSetLabel)"
   ]
  },
  {
   "cell_type": "code",
   "execution_count": 13,
   "metadata": {
    "ExecuteTime": {
     "end_time": "2017-12-22T19:02:39.487979Z",
     "start_time": "2017-12-22T19:02:39.481973Z"
    }
   },
   "outputs": [
    {
     "data": {
      "text/plain": [
       "array([ 1,  2,  3,  4,  5,  6,  7,  8,  9, 10, 11, 12, 13, 14, 15, 16, 17,\n",
       "       18, 19, 20, 21, 22, 23, 24, 25, 26, 27, 28, 29, 30, 31, 32, 33, 34,\n",
       "       35, 36, 37, 38, 39, 40, 41, 42, 43, 44, 45, 46, 47, 48, 49])"
      ]
     },
     "execution_count": 13,
     "metadata": {},
     "output_type": "execute_result"
    }
   ],
   "source": [
    "testRange = np.arange(1, 50)\n",
    "testRange"
   ]
  },
  {
   "cell_type": "code",
   "execution_count": 6,
   "metadata": {
    "ExecuteTime": {
     "end_time": "2017-12-22T18:52:07.245152Z",
     "start_time": "2017-12-22T16:57:03.417785Z"
    }
   },
   "outputs": [
    {
     "name": "stdout",
     "output_type": "stream",
     "text": [
      "\n"
     ]
    }
   ],
   "source": [
    "F1s = []\n",
    "for k in tnrange(1, len(testRange)):\n",
    "    F1s.append(getTestF1(k))"
   ]
  },
  {
   "cell_type": "code",
   "execution_count": 18,
   "metadata": {
    "ExecuteTime": {
     "end_time": "2017-12-22T19:11:23.881519Z",
     "start_time": "2017-12-22T19:11:23.874515Z"
    }
   },
   "outputs": [
    {
     "data": {
      "text/plain": [
       "(3, 0.79932284686463995)"
      ]
     },
     "execution_count": 18,
     "metadata": {},
     "output_type": "execute_result"
    }
   ],
   "source": [
    "bestK = testRange[np.argmax(F1s)]\n",
    "bestK, np.max(F1s)"
   ]
  },
  {
   "cell_type": "code",
   "execution_count": 20,
   "metadata": {
    "ExecuteTime": {
     "end_time": "2017-12-22T19:11:30.818971Z",
     "start_time": "2017-12-22T19:11:30.814967Z"
    },
    "collapsed": true
   },
   "outputs": [],
   "source": [
    "InteractiveShell.ast_node_interactivity = \"none\""
   ]
  },
  {
   "cell_type": "code",
   "execution_count": 21,
   "metadata": {
    "ExecuteTime": {
     "end_time": "2017-12-22T19:11:32.778879Z",
     "start_time": "2017-12-22T19:11:32.525699Z"
    }
   },
   "outputs": [
    {
     "data": {
      "image/png": "[encoded data removed]",
      "text/plain": [
       "<matplotlib.figure.Figure at 0x240cf52d160>"
      ]
     },
     "metadata": {},
     "output_type": "display_data"
    }
   ],
   "source": [
    "fig,ax = plt.subplots() \n",
    "fig.set_size_inches(10, 4)\n",
    "plt.plot(testRange, F1s, 'g')\n",
    "plt.xlabel('K')\n",
    "plt.ylabel('F1(%)')\n",
    "plt.title(\"F1 versus K with KNN\")\n",
    "plt.show()\n",
    "plt.close()"
   ]
  },
  {
   "cell_type": "code",
   "execution_count": 22,
   "metadata": {
    "ExecuteTime": {
     "end_time": "2017-12-22T19:11:35.552135Z",
     "start_time": "2017-12-22T19:11:35.548132Z"
    },
    "collapsed": true
   },
   "outputs": [],
   "source": [
    "InteractiveShell.ast_node_interactivity = \"all\""
   ]
  },
  {
   "cell_type": "markdown",
   "metadata": {},
   "source": [
    "# 应用算法到测试集"
   ]
  },
  {
   "cell_type": "code",
   "execution_count": 23,
   "metadata": {
    "ExecuteTime": {
     "end_time": "2017-12-22T19:15:13.353668Z",
     "start_time": "2017-12-22T19:13:14.262527Z"
    }
   },
   "outputs": [
    {
     "name": "stdout",
     "output_type": "stream",
     "text": [
      "\r"
     ]
    }
   ],
   "source": [
    "ansLabel = run_knn_classify(testSet, bestK)\n",
    "np.savetxt('.\\\\rank\\\\47_v1.csv', ansLabel, fmt=\"%d\", delimiter=\"\\n\")"
   ]
  },
  {
   "cell_type": "code",
   "execution_count": 25,
   "metadata": {
    "ExecuteTime": {
     "end_time": "2017-12-22T19:15:37.351376Z",
     "start_time": "2017-12-22T19:15:37.325857Z"
    }
   },
   "outputs": [
    {
     "data": {
      "text/plain": [
       "Counter({0.0: 5938, 1.0: 6062})"
      ]
     },
     "execution_count": 25,
     "metadata": {},
     "output_type": "execute_result"
    },
    {
     "data": {
      "text/plain": [
       "0.5051666666666667"
      ]
     },
     "execution_count": 25,
     "metadata": {},
     "output_type": "execute_result"
    }
   ],
   "source": [
    "Counter(ansLabel)\n",
    "one = Counter(ansLabel)[1.0]\n",
    "zero = Counter(ansLabel)[0.0]\n",
    "one/(one + zero)"
   ]
  }
 ],
 "metadata": {
  "anaconda-cloud": {},
  "kernelspec": {
   "display_name": "Python [conda root]",
   "language": "python",
   "name": "conda-root-py"
  },
  "language_info": {
   "codemirror_mode": {
    "name": "ipython",
    "version": 3
   },
   "file_extension": ".py",
   "mimetype": "text/x-python",
   "name": "python",
   "nbconvert_exporter": "python",
   "pygments_lexer": "ipython3",
   "version": "3.5.2"
  },
  "toc": {
   "nav_menu": {},
   "number_sections": true,
   "sideBar": true,
   "skip_h1_title": false,
   "toc_cell": false,
   "toc_position": {},
   "toc_section_display": "block",
   "toc_window_display": false
  },
  "widgets": {
   "state": {
    "7a563f4581404e6588cae36b0a1a332a": {
     "views": [
      {
       "cell_index": 10
      }
     ]
    }
   },
   "version": "1.2.0"
  }
 },
 "nbformat": 4,
 "nbformat_minor": 2
}
