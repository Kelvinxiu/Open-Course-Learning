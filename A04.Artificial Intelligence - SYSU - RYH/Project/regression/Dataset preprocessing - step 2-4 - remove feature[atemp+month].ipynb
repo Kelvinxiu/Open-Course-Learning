{
 "cells": [
  {
   "cell_type": "code",
   "execution_count": 1,
   "metadata": {
    "ExecuteTime": {
     "end_time": "2017-12-27T21:41:00.075833Z",
     "start_time": "2017-12-27T21:40:59.101017Z"
    },
    "collapsed": true
   },
   "outputs": [],
   "source": [
    "from IPython.core.interactiveshell import InteractiveShell\n",
    "InteractiveShell.ast_node_interactivity = \"all\"\n",
    "\n",
    "from collections import Counter\n",
    "import numpy as np\n",
    "import matplotlib.pyplot as plt\n",
    "from functools import reduce\n",
    "import pdir as pr\n",
    "import pandas as pd\n",
    "import os\n",
    "from tqdm import tqdm, tnrange, tqdm_notebook\n",
    "\n",
    "DF = pd.DataFrame"
   ]
  },
  {
   "cell_type": "markdown",
   "metadata": {},
   "source": [
    "# 读取训练集和测试集"
   ]
  },
  {
   "cell_type": "code",
   "execution_count": 2,
   "metadata": {
    "ExecuteTime": {
     "end_time": "2017-12-27T21:41:00.125845Z",
     "start_time": "2017-12-27T21:41:00.077804Z"
    }
   },
   "outputs": [
    {
     "data": {
      "text/plain": [
       "((16659, 9), (742, 9))"
      ]
     },
     "execution_count": 2,
     "metadata": {},
     "output_type": "execute_result"
    }
   ],
   "source": [
    "trainSet_origin = pd.read_csv('data\\\\train.csv')\n",
    "testSet_origin = pd.read_csv('data\\\\test.csv')\n",
    "\n",
    "trainSet_origin.shape, testSet_origin.shape"
   ]
  },
  {
   "cell_type": "code",
   "execution_count": 3,
   "metadata": {
    "ExecuteTime": {
     "end_time": "2017-12-27T21:41:00.232432Z",
     "start_time": "2017-12-27T21:41:00.129348Z"
    }
   },
   "outputs": [
    {
     "data": {
      "text/html": [
       "<div>\n",
       "<table border=\"1\" class=\"dataframe\">\n",
       "  <thead>\n",
       "    <tr style=\"text-align: right;\">\n",
       "      <th></th>\n",
       "      <th>instant</th>\n",
       "      <th>dteday</th>\n",
       "      <th>hr</th>\n",
       "      <th>weathersit</th>\n",
       "      <th>temp</th>\n",
       "      <th>atemp</th>\n",
       "      <th>hum</th>\n",
       "      <th>windspeed</th>\n",
       "      <th>cnt</th>\n",
       "    </tr>\n",
       "  </thead>\n",
       "  <tbody>\n",
       "    <tr>\n",
       "      <th>0</th>\n",
       "      <td>1</td>\n",
       "      <td>2011/1/1</td>\n",
       "      <td>0</td>\n",
       "      <td>1</td>\n",
       "      <td>9.84</td>\n",
       "      <td>14.395</td>\n",
       "      <td>81</td>\n",
       "      <td>0</td>\n",
       "      <td>16</td>\n",
       "    </tr>\n",
       "    <tr>\n",
       "      <th>1</th>\n",
       "      <td>2</td>\n",
       "      <td>2011/1/1</td>\n",
       "      <td>1</td>\n",
       "      <td>1</td>\n",
       "      <td>9.02</td>\n",
       "      <td>13.635</td>\n",
       "      <td>80</td>\n",
       "      <td>0</td>\n",
       "      <td>40</td>\n",
       "    </tr>\n",
       "    <tr>\n",
       "      <th>2</th>\n",
       "      <td>3</td>\n",
       "      <td>2011/1/1</td>\n",
       "      <td>2</td>\n",
       "      <td>1</td>\n",
       "      <td>9.02</td>\n",
       "      <td>13.635</td>\n",
       "      <td>80</td>\n",
       "      <td>0</td>\n",
       "      <td>32</td>\n",
       "    </tr>\n",
       "    <tr>\n",
       "      <th>3</th>\n",
       "      <td>4</td>\n",
       "      <td>2011/1/1</td>\n",
       "      <td>3</td>\n",
       "      <td>1</td>\n",
       "      <td>9.84</td>\n",
       "      <td>14.395</td>\n",
       "      <td>75</td>\n",
       "      <td>0</td>\n",
       "      <td>13</td>\n",
       "    </tr>\n",
       "    <tr>\n",
       "      <th>4</th>\n",
       "      <td>5</td>\n",
       "      <td>2011/1/1</td>\n",
       "      <td>4</td>\n",
       "      <td>1</td>\n",
       "      <td>9.84</td>\n",
       "      <td>14.395</td>\n",
       "      <td>75</td>\n",
       "      <td>0</td>\n",
       "      <td>1</td>\n",
       "    </tr>\n",
       "  </tbody>\n",
       "</table>\n",
       "</div>"
      ],
      "text/plain": [
       "   instant    dteday hr weathersit  temp   atemp hum windspeed  cnt\n",
       "0        1  2011/1/1  0          1  9.84  14.395  81         0   16\n",
       "1        2  2011/1/1  1          1  9.02  13.635  80         0   40\n",
       "2        3  2011/1/1  2          1  9.02  13.635  80         0   32\n",
       "3        4  2011/1/1  3          1  9.84  14.395  75         0   13\n",
       "4        5  2011/1/1  4          1  9.84  14.395  75         0    1"
      ]
     },
     "execution_count": 3,
     "metadata": {},
     "output_type": "execute_result"
    }
   ],
   "source": [
    "trainSet_origin.head()"
   ]
  },
  {
   "cell_type": "code",
   "execution_count": 4,
   "metadata": {
    "ExecuteTime": {
     "end_time": "2017-12-27T21:41:00.328299Z",
     "start_time": "2017-12-27T21:41:00.234725Z"
    }
   },
   "outputs": [
    {
     "data": {
      "text/html": [
       "<div>\n",
       "<table border=\"1\" class=\"dataframe\">\n",
       "  <thead>\n",
       "    <tr style=\"text-align: right;\">\n",
       "      <th></th>\n",
       "      <th>instant</th>\n",
       "      <th>dteday</th>\n",
       "      <th>hr</th>\n",
       "      <th>weathersit</th>\n",
       "      <th>temp</th>\n",
       "      <th>atemp</th>\n",
       "      <th>hum</th>\n",
       "      <th>windspeed</th>\n",
       "      <th>cnt</th>\n",
       "    </tr>\n",
       "  </thead>\n",
       "  <tbody>\n",
       "    <tr>\n",
       "      <th>0</th>\n",
       "      <td>16638</td>\n",
       "      <td>2012/12/1</td>\n",
       "      <td>0</td>\n",
       "      <td>1</td>\n",
       "      <td>10.66</td>\n",
       "      <td>15.150</td>\n",
       "      <td>81</td>\n",
       "      <td>0.0000</td>\n",
       "      <td>?</td>\n",
       "    </tr>\n",
       "    <tr>\n",
       "      <th>1</th>\n",
       "      <td>16639</td>\n",
       "      <td>2012/12/1</td>\n",
       "      <td>1</td>\n",
       "      <td>1</td>\n",
       "      <td>10.66</td>\n",
       "      <td>15.150</td>\n",
       "      <td>81</td>\n",
       "      <td>0.0000</td>\n",
       "      <td>?</td>\n",
       "    </tr>\n",
       "    <tr>\n",
       "      <th>2</th>\n",
       "      <td>16640</td>\n",
       "      <td>2012/12/1</td>\n",
       "      <td>2</td>\n",
       "      <td>2</td>\n",
       "      <td>10.66</td>\n",
       "      <td>15.150</td>\n",
       "      <td>81</td>\n",
       "      <td>0.0000</td>\n",
       "      <td>?</td>\n",
       "    </tr>\n",
       "    <tr>\n",
       "      <th>3</th>\n",
       "      <td>16641</td>\n",
       "      <td>2012/12/1</td>\n",
       "      <td>3</td>\n",
       "      <td>2</td>\n",
       "      <td>10.66</td>\n",
       "      <td>13.635</td>\n",
       "      <td>81</td>\n",
       "      <td>8.9981</td>\n",
       "      <td>?</td>\n",
       "    </tr>\n",
       "    <tr>\n",
       "      <th>4</th>\n",
       "      <td>16642</td>\n",
       "      <td>2012/12/1</td>\n",
       "      <td>4</td>\n",
       "      <td>1</td>\n",
       "      <td>10.66</td>\n",
       "      <td>14.395</td>\n",
       "      <td>81</td>\n",
       "      <td>6.0032</td>\n",
       "      <td>?</td>\n",
       "    </tr>\n",
       "  </tbody>\n",
       "</table>\n",
       "</div>"
      ],
      "text/plain": [
       "   instant     dteday  hr  weathersit   temp   atemp  hum  windspeed cnt\n",
       "0    16638  2012/12/1   0           1  10.66  15.150   81     0.0000   ?\n",
       "1    16639  2012/12/1   1           1  10.66  15.150   81     0.0000   ?\n",
       "2    16640  2012/12/1   2           2  10.66  15.150   81     0.0000   ?\n",
       "3    16641  2012/12/1   3           2  10.66  13.635   81     8.9981   ?\n",
       "4    16642  2012/12/1   4           1  10.66  14.395   81     6.0032   ?"
      ]
     },
     "execution_count": 4,
     "metadata": {},
     "output_type": "execute_result"
    }
   ],
   "source": [
    "testSet_origin.head()"
   ]
  },
  {
   "cell_type": "markdown",
   "metadata": {},
   "source": [
    "# 去除异常数据\n",
    "\n",
    "## 去除xxxx/xx/00类数据\n",
    "\n",
    "用excel打开训练集，发现有22条异常数据，这类数据都有一个特点，那就是dteday的具体是xxxx/xx/00这样的形式的。测试集则没有这种数据。"
   ]
  },
  {
   "cell_type": "code",
   "execution_count": 5,
   "metadata": {
    "ExecuteTime": {
     "end_time": "2017-12-27T21:41:00.454903Z",
     "start_time": "2017-12-27T21:41:00.331301Z"
    },
    "scrolled": false
   },
   "outputs": [
    {
     "data": {
      "text/html": [
       "<div>\n",
       "<table border=\"1\" class=\"dataframe\">\n",
       "  <thead>\n",
       "    <tr style=\"text-align: right;\">\n",
       "      <th></th>\n",
       "      <th>instant</th>\n",
       "      <th>dteday</th>\n",
       "      <th>hr</th>\n",
       "      <th>weathersit</th>\n",
       "      <th>temp</th>\n",
       "      <th>atemp</th>\n",
       "      <th>hum</th>\n",
       "      <th>windspeed</th>\n",
       "      <th>cnt</th>\n",
       "    </tr>\n",
       "  </thead>\n",
       "  <tbody>\n",
       "    <tr>\n",
       "      <th>688</th>\n",
       "      <td>0</td>\n",
       "      <td>2011/1/00</td>\n",
       "      <td>0</td>\n",
       "      <td>0</td>\n",
       "      <td>0</td>\n",
       "      <td>0</td>\n",
       "      <td>0</td>\n",
       "      <td>0</td>\n",
       "      <td>38189</td>\n",
       "    </tr>\n",
       "    <tr>\n",
       "      <th>1338</th>\n",
       "      <td>0</td>\n",
       "      <td>2011/2/00</td>\n",
       "      <td>0</td>\n",
       "      <td>0</td>\n",
       "      <td>0</td>\n",
       "      <td>0</td>\n",
       "      <td>0</td>\n",
       "      <td>0</td>\n",
       "      <td>48215</td>\n",
       "    </tr>\n",
       "    <tr>\n",
       "      <th>2069</th>\n",
       "      <td>0</td>\n",
       "      <td>2011/3/00</td>\n",
       "      <td>0</td>\n",
       "      <td>0</td>\n",
       "      <td>0</td>\n",
       "      <td>0</td>\n",
       "      <td>0</td>\n",
       "      <td>0</td>\n",
       "      <td>64045</td>\n",
       "    </tr>\n",
       "    <tr>\n",
       "      <th>2789</th>\n",
       "      <td>0</td>\n",
       "      <td>2011/4/00</td>\n",
       "      <td>0</td>\n",
       "      <td>0</td>\n",
       "      <td>0</td>\n",
       "      <td>0</td>\n",
       "      <td>0</td>\n",
       "      <td>0</td>\n",
       "      <td>94870</td>\n",
       "    </tr>\n",
       "    <tr>\n",
       "      <th>3534</th>\n",
       "      <td>0</td>\n",
       "      <td>2011/5/00</td>\n",
       "      <td>0</td>\n",
       "      <td>0</td>\n",
       "      <td>0</td>\n",
       "      <td>0</td>\n",
       "      <td>0</td>\n",
       "      <td>0</td>\n",
       "      <td>135821</td>\n",
       "    </tr>\n",
       "    <tr>\n",
       "      <th>4255</th>\n",
       "      <td>0</td>\n",
       "      <td>2011/6/00</td>\n",
       "      <td>0</td>\n",
       "      <td>0</td>\n",
       "      <td>0</td>\n",
       "      <td>0</td>\n",
       "      <td>0</td>\n",
       "      <td>0</td>\n",
       "      <td>143512</td>\n",
       "    </tr>\n",
       "    <tr>\n",
       "      <th>5000</th>\n",
       "      <td>0</td>\n",
       "      <td>2011/7/00</td>\n",
       "      <td>0</td>\n",
       "      <td>0</td>\n",
       "      <td>0</td>\n",
       "      <td>0</td>\n",
       "      <td>0</td>\n",
       "      <td>0</td>\n",
       "      <td>143512</td>\n",
       "    </tr>\n",
       "    <tr>\n",
       "      <th>5732</th>\n",
       "      <td>0</td>\n",
       "      <td>2011/8/00</td>\n",
       "      <td>0</td>\n",
       "      <td>0</td>\n",
       "      <td>0</td>\n",
       "      <td>0</td>\n",
       "      <td>0</td>\n",
       "      <td>0</td>\n",
       "      <td>136691</td>\n",
       "    </tr>\n",
       "    <tr>\n",
       "      <th>6450</th>\n",
       "      <td>0</td>\n",
       "      <td>2011/9/00</td>\n",
       "      <td>0</td>\n",
       "      <td>0</td>\n",
       "      <td>0</td>\n",
       "      <td>0</td>\n",
       "      <td>0</td>\n",
       "      <td>0</td>\n",
       "      <td>127418</td>\n",
       "    </tr>\n",
       "    <tr>\n",
       "      <th>7194</th>\n",
       "      <td>0</td>\n",
       "      <td>2011/10/00</td>\n",
       "      <td>0</td>\n",
       "      <td>0</td>\n",
       "      <td>0</td>\n",
       "      <td>0</td>\n",
       "      <td>0</td>\n",
       "      <td>0</td>\n",
       "      <td>123511</td>\n",
       "    </tr>\n",
       "    <tr>\n",
       "      <th>7914</th>\n",
       "      <td>0</td>\n",
       "      <td>2011/11/00</td>\n",
       "      <td>0</td>\n",
       "      <td>0</td>\n",
       "      <td>0</td>\n",
       "      <td>0</td>\n",
       "      <td>0</td>\n",
       "      <td>0</td>\n",
       "      <td>102167</td>\n",
       "    </tr>\n",
       "    <tr>\n",
       "      <th>8656</th>\n",
       "      <td>0</td>\n",
       "      <td>2011/12/00</td>\n",
       "      <td>0</td>\n",
       "      <td>0</td>\n",
       "      <td>0</td>\n",
       "      <td>0</td>\n",
       "      <td>0</td>\n",
       "      <td>0</td>\n",
       "      <td>87323</td>\n",
       "    </tr>\n",
       "    <tr>\n",
       "      <th>8657</th>\n",
       "      <td>0</td>\n",
       "      <td>2011/00/00</td>\n",
       "      <td>0</td>\n",
       "      <td>0</td>\n",
       "      <td>0</td>\n",
       "      <td>0</td>\n",
       "      <td>0</td>\n",
       "      <td>0</td>\n",
       "      <td>2401054</td>\n",
       "    </tr>\n",
       "    <tr>\n",
       "      <th>9399</th>\n",
       "      <td>0</td>\n",
       "      <td>2012/1/00</td>\n",
       "      <td>0</td>\n",
       "      <td>0</td>\n",
       "      <td>0</td>\n",
       "      <td>NaN</td>\n",
       "      <td>0</td>\n",
       "      <td>0</td>\n",
       "      <td>96744</td>\n",
       "    </tr>\n",
       "    <tr>\n",
       "      <th>10092</th>\n",
       "      <td>0</td>\n",
       "      <td>2012/2/00</td>\n",
       "      <td>0</td>\n",
       "      <td>0</td>\n",
       "      <td>0</td>\n",
       "      <td>0</td>\n",
       "      <td>0</td>\n",
       "      <td>0</td>\n",
       "      <td>103137</td>\n",
       "    </tr>\n",
       "    <tr>\n",
       "      <th>10836</th>\n",
       "      <td>0</td>\n",
       "      <td>2012/3/00</td>\n",
       "      <td>0</td>\n",
       "      <td>0</td>\n",
       "      <td>0</td>\n",
       "      <td>0</td>\n",
       "      <td>0</td>\n",
       "      <td>0</td>\n",
       "      <td>164875</td>\n",
       "    </tr>\n",
       "    <tr>\n",
       "      <th>12299</th>\n",
       "      <td>0</td>\n",
       "      <td>2012/5/00</td>\n",
       "      <td>0</td>\n",
       "      <td>0</td>\n",
       "      <td>0</td>\n",
       "      <td>0</td>\n",
       "      <td>0</td>\n",
       "      <td>0</td>\n",
       "      <td>195865</td>\n",
       "    </tr>\n",
       "    <tr>\n",
       "      <th>13020</th>\n",
       "      <td>0</td>\n",
       "      <td>2012/6/00</td>\n",
       "      <td>0</td>\n",
       "      <td>0</td>\n",
       "      <td>0</td>\n",
       "      <td>0</td>\n",
       "      <td>0</td>\n",
       "      <td>0</td>\n",
       "      <td>202830</td>\n",
       "    </tr>\n",
       "    <tr>\n",
       "      <th>13765</th>\n",
       "      <td>0</td>\n",
       "      <td>2012/7/00</td>\n",
       "      <td>0</td>\n",
       "      <td>0</td>\n",
       "      <td>0</td>\n",
       "      <td>0</td>\n",
       "      <td>0</td>\n",
       "      <td>0</td>\n",
       "      <td>203607</td>\n",
       "    </tr>\n",
       "    <tr>\n",
       "      <th>14510</th>\n",
       "      <td>0</td>\n",
       "      <td>2012/8/00</td>\n",
       "      <td>0</td>\n",
       "      <td>0</td>\n",
       "      <td>0</td>\n",
       "      <td>0</td>\n",
       "      <td>0</td>\n",
       "      <td>0</td>\n",
       "      <td>214503</td>\n",
       "    </tr>\n",
       "    <tr>\n",
       "      <th>15231</th>\n",
       "      <td>0</td>\n",
       "      <td>2012/9/00</td>\n",
       "      <td>0</td>\n",
       "      <td>0</td>\n",
       "      <td>0</td>\n",
       "      <td>0</td>\n",
       "      <td>0</td>\n",
       "      <td>0</td>\n",
       "      <td>218573</td>\n",
       "    </tr>\n",
       "    <tr>\n",
       "      <th>15940</th>\n",
       "      <td>0</td>\n",
       "      <td>2012/10/00</td>\n",
       "      <td>0</td>\n",
       "      <td>0</td>\n",
       "      <td>0</td>\n",
       "      <td>0</td>\n",
       "      <td>0</td>\n",
       "      <td>0</td>\n",
       "      <td>198841</td>\n",
       "    </tr>\n",
       "  </tbody>\n",
       "</table>\n",
       "</div>"
      ],
      "text/plain": [
       "       instant      dteday hr weathersit temp atemp hum windspeed      cnt\n",
       "688          0   2011/1/00  0          0    0     0   0         0    38189\n",
       "1338         0   2011/2/00  0          0    0     0   0         0    48215\n",
       "2069         0   2011/3/00  0          0    0     0   0         0    64045\n",
       "2789         0   2011/4/00  0          0    0     0   0         0    94870\n",
       "3534         0   2011/5/00  0          0    0     0   0         0   135821\n",
       "4255         0   2011/6/00  0          0    0     0   0         0   143512\n",
       "5000         0   2011/7/00  0          0    0     0   0         0   143512\n",
       "5732         0   2011/8/00  0          0    0     0   0         0   136691\n",
       "6450         0   2011/9/00  0          0    0     0   0         0   127418\n",
       "7194         0  2011/10/00  0          0    0     0   0         0   123511\n",
       "7914         0  2011/11/00  0          0    0     0   0         0   102167\n",
       "8656         0  2011/12/00  0          0    0     0   0         0    87323\n",
       "8657         0  2011/00/00  0          0    0     0   0         0  2401054\n",
       "9399         0   2012/1/00  0          0    0   NaN   0         0    96744\n",
       "10092        0   2012/2/00  0          0    0     0   0         0   103137\n",
       "10836        0   2012/3/00  0          0    0     0   0         0   164875\n",
       "12299        0   2012/5/00  0          0    0     0   0         0   195865\n",
       "13020        0   2012/6/00  0          0    0     0   0         0   202830\n",
       "13765        0   2012/7/00  0          0    0     0   0         0   203607\n",
       "14510        0   2012/8/00  0          0    0     0   0         0   214503\n",
       "15231        0   2012/9/00  0          0    0     0   0         0   218573\n",
       "15940        0  2012/10/00  0          0    0     0   0         0   198841"
      ]
     },
     "execution_count": 5,
     "metadata": {},
     "output_type": "execute_result"
    },
    {
     "data": {
      "text/plain": [
       "(22, 9)"
      ]
     },
     "execution_count": 5,
     "metadata": {},
     "output_type": "execute_result"
    }
   ],
   "source": [
    "t = trainSet_origin[trainSet_origin.dteday.str.contains('/00')]\n",
    "t\n",
    "t.shape"
   ]
  },
  {
   "cell_type": "code",
   "execution_count": 6,
   "metadata": {
    "ExecuteTime": {
     "end_time": "2017-12-27T21:41:00.554820Z",
     "start_time": "2017-12-27T21:41:00.456905Z"
    }
   },
   "outputs": [
    {
     "data": {
      "text/plain": [
       "(16659, 9)"
      ]
     },
     "execution_count": 6,
     "metadata": {},
     "output_type": "execute_result"
    },
    {
     "data": {
      "text/plain": [
       "(16637, 9)"
      ]
     },
     "execution_count": 6,
     "metadata": {},
     "output_type": "execute_result"
    }
   ],
   "source": [
    "trainSet_origin.shape\n",
    "trainSet_origin = trainSet_origin[~trainSet_origin.dteday.str.contains('/00')]\n",
    "trainSet_origin.shape"
   ]
  },
  {
   "cell_type": "markdown",
   "metadata": {},
   "source": [
    "## 去除带有缺失值的数据\n",
    "\n",
    "训练集中有些数据是用？来代替缺失值的，用excel查看后发现有22处缺失值，由于整个数据集比较大，所以把这些数据直接删除掉也无所谓。"
   ]
  },
  {
   "cell_type": "code",
   "execution_count": 7,
   "metadata": {
    "ExecuteTime": {
     "end_time": "2017-12-27T21:41:00.615863Z",
     "start_time": "2017-12-27T21:41:00.556821Z"
    }
   },
   "outputs": [
    {
     "data": {
      "text/plain": [
       "Index(['instant', 'dteday', 'hr', 'weathersit', 'temp', 'atemp', 'hum',\n",
       "       'windspeed', 'cnt'],\n",
       "      dtype='object')"
      ]
     },
     "execution_count": 7,
     "metadata": {},
     "output_type": "execute_result"
    }
   ],
   "source": [
    "trainSet_origin.columns"
   ]
  },
  {
   "cell_type": "code",
   "execution_count": 8,
   "metadata": {
    "ExecuteTime": {
     "end_time": "2017-12-27T21:41:00.821055Z",
     "start_time": "2017-12-27T21:41:00.618371Z"
    }
   },
   "outputs": [
    {
     "data": {
      "text/html": [
       "<div>\n",
       "<table border=\"1\" class=\"dataframe\">\n",
       "  <thead>\n",
       "    <tr style=\"text-align: right;\">\n",
       "      <th></th>\n",
       "      <th>instant</th>\n",
       "      <th>dteday</th>\n",
       "      <th>hr</th>\n",
       "      <th>weathersit</th>\n",
       "      <th>temp</th>\n",
       "      <th>atemp</th>\n",
       "      <th>hum</th>\n",
       "      <th>windspeed</th>\n",
       "      <th>cnt</th>\n",
       "    </tr>\n",
       "  </thead>\n",
       "  <tbody>\n",
       "  </tbody>\n",
       "</table>\n",
       "</div>"
      ],
      "text/plain": [
       "Empty DataFrame\n",
       "Columns: [instant, dteday, hr, weathersit, temp, atemp, hum, windspeed, cnt]\n",
       "Index: []"
      ]
     },
     "execution_count": 8,
     "metadata": {},
     "output_type": "execute_result"
    },
    {
     "data": {
      "text/html": [
       "<div>\n",
       "<table border=\"1\" class=\"dataframe\">\n",
       "  <thead>\n",
       "    <tr style=\"text-align: right;\">\n",
       "      <th></th>\n",
       "      <th>instant</th>\n",
       "      <th>dteday</th>\n",
       "      <th>hr</th>\n",
       "      <th>weathersit</th>\n",
       "      <th>temp</th>\n",
       "      <th>atemp</th>\n",
       "      <th>hum</th>\n",
       "      <th>windspeed</th>\n",
       "      <th>cnt</th>\n",
       "    </tr>\n",
       "  </thead>\n",
       "  <tbody>\n",
       "    <tr>\n",
       "      <th>10751</th>\n",
       "      <td>10737</td>\n",
       "      <td>2012/3/28</td>\n",
       "      <td>?</td>\n",
       "      <td>1</td>\n",
       "      <td>20.5</td>\n",
       "      <td>24.24</td>\n",
       "      <td>42</td>\n",
       "      <td>26.0027</td>\n",
       "      <td>222</td>\n",
       "    </tr>\n",
       "    <tr>\n",
       "      <th>14416</th>\n",
       "      <td>14398</td>\n",
       "      <td>2012/8/28</td>\n",
       "      <td>?</td>\n",
       "      <td>1</td>\n",
       "      <td>27.88</td>\n",
       "      <td>31.82</td>\n",
       "      <td>83</td>\n",
       "      <td>16.9979</td>\n",
       "      <td>15</td>\n",
       "    </tr>\n",
       "  </tbody>\n",
       "</table>\n",
       "</div>"
      ],
      "text/plain": [
       "       instant     dteday hr weathersit   temp  atemp hum windspeed  cnt\n",
       "10751    10737  2012/3/28  ?          1   20.5  24.24  42   26.0027  222\n",
       "14416    14398  2012/8/28  ?          1  27.88  31.82  83   16.9979   15"
      ]
     },
     "execution_count": 8,
     "metadata": {},
     "output_type": "execute_result"
    },
    {
     "data": {
      "text/html": [
       "<div>\n",
       "<table border=\"1\" class=\"dataframe\">\n",
       "  <thead>\n",
       "    <tr style=\"text-align: right;\">\n",
       "      <th></th>\n",
       "      <th>instant</th>\n",
       "      <th>dteday</th>\n",
       "      <th>hr</th>\n",
       "      <th>weathersit</th>\n",
       "      <th>temp</th>\n",
       "      <th>atemp</th>\n",
       "      <th>hum</th>\n",
       "      <th>windspeed</th>\n",
       "      <th>cnt</th>\n",
       "    </tr>\n",
       "  </thead>\n",
       "  <tbody>\n",
       "    <tr>\n",
       "      <th>304</th>\n",
       "      <td>305</td>\n",
       "      <td>2011/1/14</td>\n",
       "      <td>3</td>\n",
       "      <td>?</td>\n",
       "      <td>4.1</td>\n",
       "      <td>6.82</td>\n",
       "      <td>54</td>\n",
       "      <td>7.0015</td>\n",
       "      <td>1</td>\n",
       "    </tr>\n",
       "    <tr>\n",
       "      <th>3669</th>\n",
       "      <td>3665</td>\n",
       "      <td>2011/6/6</td>\n",
       "      <td>14</td>\n",
       "      <td>?</td>\n",
       "      <td>31.98</td>\n",
       "      <td>34.09</td>\n",
       "      <td>31</td>\n",
       "      <td>8.9981</td>\n",
       "      <td>145</td>\n",
       "    </tr>\n",
       "    <tr>\n",
       "      <th>15813</th>\n",
       "      <td>15793</td>\n",
       "      <td>2012/10/25</td>\n",
       "      <td>5</td>\n",
       "      <td>?</td>\n",
       "      <td>21.32</td>\n",
       "      <td>25</td>\n",
       "      <td>88</td>\n",
       "      <td>11.0014</td>\n",
       "      <td>55</td>\n",
       "    </tr>\n",
       "  </tbody>\n",
       "</table>\n",
       "</div>"
      ],
      "text/plain": [
       "       instant      dteday  hr weathersit   temp  atemp hum windspeed  cnt\n",
       "304        305   2011/1/14   3          ?    4.1   6.82  54    7.0015    1\n",
       "3669      3665    2011/6/6  14          ?  31.98  34.09  31    8.9981  145\n",
       "15813    15793  2012/10/25   5          ?  21.32     25  88   11.0014   55"
      ]
     },
     "execution_count": 8,
     "metadata": {},
     "output_type": "execute_result"
    },
    {
     "data": {
      "text/html": [
       "<div>\n",
       "<table border=\"1\" class=\"dataframe\">\n",
       "  <thead>\n",
       "    <tr style=\"text-align: right;\">\n",
       "      <th></th>\n",
       "      <th>instant</th>\n",
       "      <th>dteday</th>\n",
       "      <th>hr</th>\n",
       "      <th>weathersit</th>\n",
       "      <th>temp</th>\n",
       "      <th>atemp</th>\n",
       "      <th>hum</th>\n",
       "      <th>windspeed</th>\n",
       "      <th>cnt</th>\n",
       "    </tr>\n",
       "  </thead>\n",
       "  <tbody>\n",
       "    <tr>\n",
       "      <th>218</th>\n",
       "      <td>219</td>\n",
       "      <td>2011/1/10</td>\n",
       "      <td>9</td>\n",
       "      <td>2</td>\n",
       "      <td>?</td>\n",
       "      <td>6.06</td>\n",
       "      <td>50</td>\n",
       "      <td>16.9979</td>\n",
       "      <td>94</td>\n",
       "    </tr>\n",
       "    <tr>\n",
       "      <th>9783</th>\n",
       "      <td>9770</td>\n",
       "      <td>2012/2/17</td>\n",
       "      <td>0</td>\n",
       "      <td>2</td>\n",
       "      <td>?</td>\n",
       "      <td>16.665</td>\n",
       "      <td>87</td>\n",
       "      <td>0</td>\n",
       "      <td>34</td>\n",
       "    </tr>\n",
       "    <tr>\n",
       "      <th>13954</th>\n",
       "      <td>13936</td>\n",
       "      <td>2012/8/8</td>\n",
       "      <td>20</td>\n",
       "      <td>1</td>\n",
       "      <td>?</td>\n",
       "      <td>34.85</td>\n",
       "      <td>66</td>\n",
       "      <td>12.998</td>\n",
       "      <td>500</td>\n",
       "    </tr>\n",
       "    <tr>\n",
       "      <th>16143</th>\n",
       "      <td>16122</td>\n",
       "      <td>2012/11/9</td>\n",
       "      <td>11</td>\n",
       "      <td>1</td>\n",
       "      <td>?</td>\n",
       "      <td>20.455</td>\n",
       "      <td>47</td>\n",
       "      <td>19.9995</td>\n",
       "      <td>251</td>\n",
       "    </tr>\n",
       "  </tbody>\n",
       "</table>\n",
       "</div>"
      ],
      "text/plain": [
       "       instant     dteday  hr weathersit temp   atemp hum windspeed  cnt\n",
       "218        219  2011/1/10   9          2    ?    6.06  50   16.9979   94\n",
       "9783      9770  2012/2/17   0          2    ?  16.665  87         0   34\n",
       "13954    13936   2012/8/8  20          1    ?   34.85  66    12.998  500\n",
       "16143    16122  2012/11/9  11          1    ?  20.455  47   19.9995  251"
      ]
     },
     "execution_count": 8,
     "metadata": {},
     "output_type": "execute_result"
    },
    {
     "data": {
      "text/html": [
       "<div>\n",
       "<table border=\"1\" class=\"dataframe\">\n",
       "  <thead>\n",
       "    <tr style=\"text-align: right;\">\n",
       "      <th></th>\n",
       "      <th>instant</th>\n",
       "      <th>dteday</th>\n",
       "      <th>hr</th>\n",
       "      <th>weathersit</th>\n",
       "      <th>temp</th>\n",
       "      <th>atemp</th>\n",
       "      <th>hum</th>\n",
       "      <th>windspeed</th>\n",
       "      <th>cnt</th>\n",
       "    </tr>\n",
       "  </thead>\n",
       "  <tbody>\n",
       "    <tr>\n",
       "      <th>479</th>\n",
       "      <td>480</td>\n",
       "      <td>2011/1/22</td>\n",
       "      <td>0</td>\n",
       "      <td>1</td>\n",
       "      <td>1.64</td>\n",
       "      <td>?</td>\n",
       "      <td>45</td>\n",
       "      <td>16.9979</td>\n",
       "      <td>13</td>\n",
       "    </tr>\n",
       "    <tr>\n",
       "      <th>6097</th>\n",
       "      <td>6090</td>\n",
       "      <td>2011/9/16</td>\n",
       "      <td>7</td>\n",
       "      <td>1</td>\n",
       "      <td>16.4</td>\n",
       "      <td>?</td>\n",
       "      <td>71</td>\n",
       "      <td>19.0012</td>\n",
       "      <td>299</td>\n",
       "    </tr>\n",
       "    <tr>\n",
       "      <th>8817</th>\n",
       "      <td>8805</td>\n",
       "      <td>2012/1/7</td>\n",
       "      <td>16</td>\n",
       "      <td>2</td>\n",
       "      <td>22.96</td>\n",
       "      <td>?</td>\n",
       "      <td>37</td>\n",
       "      <td>19.0012</td>\n",
       "      <td>401</td>\n",
       "    </tr>\n",
       "    <tr>\n",
       "      <th>9038</th>\n",
       "      <td>9026</td>\n",
       "      <td>2012/1/16</td>\n",
       "      <td>22</td>\n",
       "      <td>2</td>\n",
       "      <td>12.3</td>\n",
       "      <td>?</td>\n",
       "      <td>49</td>\n",
       "      <td>23.9994</td>\n",
       "      <td>43</td>\n",
       "    </tr>\n",
       "    <tr>\n",
       "      <th>10596</th>\n",
       "      <td>10582</td>\n",
       "      <td>2012/3/22</td>\n",
       "      <td>0</td>\n",
       "      <td>1</td>\n",
       "      <td>21.32</td>\n",
       "      <td>?</td>\n",
       "      <td>83</td>\n",
       "      <td>6.0032</td>\n",
       "      <td>41</td>\n",
       "    </tr>\n",
       "    <tr>\n",
       "      <th>11992</th>\n",
       "      <td>11977</td>\n",
       "      <td>2012/5/19</td>\n",
       "      <td>5</td>\n",
       "      <td>1</td>\n",
       "      <td>18.86</td>\n",
       "      <td>?</td>\n",
       "      <td>67</td>\n",
       "      <td>0</td>\n",
       "      <td>12</td>\n",
       "    </tr>\n",
       "    <tr>\n",
       "      <th>13726</th>\n",
       "      <td>13709</td>\n",
       "      <td>2012/7/30</td>\n",
       "      <td>9</td>\n",
       "      <td>2</td>\n",
       "      <td>30.34</td>\n",
       "      <td>?</td>\n",
       "      <td>70</td>\n",
       "      <td>0</td>\n",
       "      <td>293</td>\n",
       "    </tr>\n",
       "  </tbody>\n",
       "</table>\n",
       "</div>"
      ],
      "text/plain": [
       "       instant     dteday  hr weathersit   temp atemp hum windspeed  cnt\n",
       "479        480  2011/1/22   0          1   1.64     ?  45   16.9979   13\n",
       "6097      6090  2011/9/16   7          1   16.4     ?  71   19.0012  299\n",
       "8817      8805   2012/1/7  16          2  22.96     ?  37   19.0012  401\n",
       "9038      9026  2012/1/16  22          2   12.3     ?  49   23.9994   43\n",
       "10596    10582  2012/3/22   0          1  21.32     ?  83    6.0032   41\n",
       "11992    11977  2012/5/19   5          1  18.86     ?  67         0   12\n",
       "13726    13709  2012/7/30   9          2  30.34     ?  70         0  293"
      ]
     },
     "execution_count": 8,
     "metadata": {},
     "output_type": "execute_result"
    },
    {
     "data": {
      "text/html": [
       "<div>\n",
       "<table border=\"1\" class=\"dataframe\">\n",
       "  <thead>\n",
       "    <tr style=\"text-align: right;\">\n",
       "      <th></th>\n",
       "      <th>instant</th>\n",
       "      <th>dteday</th>\n",
       "      <th>hr</th>\n",
       "      <th>weathersit</th>\n",
       "      <th>temp</th>\n",
       "      <th>atemp</th>\n",
       "      <th>hum</th>\n",
       "      <th>windspeed</th>\n",
       "      <th>cnt</th>\n",
       "    </tr>\n",
       "  </thead>\n",
       "  <tbody>\n",
       "    <tr>\n",
       "      <th>5255</th>\n",
       "      <td>5249</td>\n",
       "      <td>2011/8/11</td>\n",
       "      <td>14</td>\n",
       "      <td>1</td>\n",
       "      <td>32.8</td>\n",
       "      <td>34.85</td>\n",
       "      <td>?</td>\n",
       "      <td>0</td>\n",
       "      <td>142</td>\n",
       "    </tr>\n",
       "    <tr>\n",
       "      <th>14101</th>\n",
       "      <td>14083</td>\n",
       "      <td>2012/8/14</td>\n",
       "      <td>23</td>\n",
       "      <td>1</td>\n",
       "      <td>29.52</td>\n",
       "      <td>34.09</td>\n",
       "      <td>?</td>\n",
       "      <td>11.0014</td>\n",
       "      <td>167</td>\n",
       "    </tr>\n",
       "    <tr>\n",
       "      <th>14672</th>\n",
       "      <td>14653</td>\n",
       "      <td>2012/9/7</td>\n",
       "      <td>17</td>\n",
       "      <td>1</td>\n",
       "      <td>31.98</td>\n",
       "      <td>37.12</td>\n",
       "      <td>?</td>\n",
       "      <td>22.0028</td>\n",
       "      <td>772</td>\n",
       "    </tr>\n",
       "  </tbody>\n",
       "</table>\n",
       "</div>"
      ],
      "text/plain": [
       "       instant     dteday  hr weathersit   temp  atemp hum windspeed  cnt\n",
       "5255      5249  2011/8/11  14          1   32.8  34.85   ?         0  142\n",
       "14101    14083  2012/8/14  23          1  29.52  34.09   ?   11.0014  167\n",
       "14672    14653   2012/9/7  17          1  31.98  37.12   ?   22.0028  772"
      ]
     },
     "execution_count": 8,
     "metadata": {},
     "output_type": "execute_result"
    },
    {
     "data": {
      "text/html": [
       "<div>\n",
       "<table border=\"1\" class=\"dataframe\">\n",
       "  <thead>\n",
       "    <tr style=\"text-align: right;\">\n",
       "      <th></th>\n",
       "      <th>instant</th>\n",
       "      <th>dteday</th>\n",
       "      <th>hr</th>\n",
       "      <th>weathersit</th>\n",
       "      <th>temp</th>\n",
       "      <th>atemp</th>\n",
       "      <th>hum</th>\n",
       "      <th>windspeed</th>\n",
       "      <th>cnt</th>\n",
       "    </tr>\n",
       "  </thead>\n",
       "  <tbody>\n",
       "    <tr>\n",
       "      <th>355</th>\n",
       "      <td>356</td>\n",
       "      <td>2011/1/16</td>\n",
       "      <td>7</td>\n",
       "      <td>2</td>\n",
       "      <td>9.84</td>\n",
       "      <td>10.605</td>\n",
       "      <td>56</td>\n",
       "      <td>?</td>\n",
       "      <td>3</td>\n",
       "    </tr>\n",
       "    <tr>\n",
       "      <th>12581</th>\n",
       "      <td>12565</td>\n",
       "      <td>2012/6/12</td>\n",
       "      <td>17</td>\n",
       "      <td>2</td>\n",
       "      <td>27.06</td>\n",
       "      <td>29.545</td>\n",
       "      <td>89</td>\n",
       "      <td>?</td>\n",
       "      <td>681</td>\n",
       "    </tr>\n",
       "    <tr>\n",
       "      <th>15460</th>\n",
       "      <td>15440</td>\n",
       "      <td>2012/10/10</td>\n",
       "      <td>12</td>\n",
       "      <td>1</td>\n",
       "      <td>22.14</td>\n",
       "      <td>25.76</td>\n",
       "      <td>56</td>\n",
       "      <td>?</td>\n",
       "      <td>390</td>\n",
       "    </tr>\n",
       "  </tbody>\n",
       "</table>\n",
       "</div>"
      ],
      "text/plain": [
       "       instant      dteday  hr weathersit   temp   atemp hum windspeed  cnt\n",
       "355        356   2011/1/16   7          2   9.84  10.605  56         ?    3\n",
       "12581    12565   2012/6/12  17          2  27.06  29.545  89         ?  681\n",
       "15460    15440  2012/10/10  12          1  22.14   25.76  56         ?  390"
      ]
     },
     "execution_count": 8,
     "metadata": {},
     "output_type": "execute_result"
    }
   ],
   "source": [
    "trainSet_origin[trainSet_origin.dteday == \"?\"]\n",
    "trainSet_origin[trainSet_origin.hr == \"?\"]\n",
    "trainSet_origin[trainSet_origin.weathersit == \"?\"]\n",
    "trainSet_origin[trainSet_origin.temp == \"?\"]\n",
    "trainSet_origin[trainSet_origin.atemp == \"?\"]\n",
    "trainSet_origin[trainSet_origin.hum == \"?\"]\n",
    "trainSet_origin[trainSet_origin.windspeed == \"?\"]"
   ]
  },
  {
   "cell_type": "code",
   "execution_count": 9,
   "metadata": {
    "ExecuteTime": {
     "end_time": "2017-12-27T21:41:00.864098Z",
     "start_time": "2017-12-27T21:41:00.823056Z"
    }
   },
   "outputs": [
    {
     "data": {
      "text/plain": [
       "(16637, 9)"
      ]
     },
     "execution_count": 9,
     "metadata": {},
     "output_type": "execute_result"
    },
    {
     "data": {
      "text/plain": [
       "(16615, 9)"
      ]
     },
     "execution_count": 9,
     "metadata": {},
     "output_type": "execute_result"
    }
   ],
   "source": [
    "trainSet_origin.shape\n",
    "trainSet_origin = trainSet_origin.replace(\"?\", np.NAN)\n",
    "trainSet_origin = trainSet_origin.dropna()\n",
    "trainSet_origin.shape"
   ]
  },
  {
   "cell_type": "markdown",
   "metadata": {},
   "source": [
    "# 去除无关特征"
   ]
  },
  {
   "cell_type": "code",
   "execution_count": 10,
   "metadata": {
    "ExecuteTime": {
     "end_time": "2017-12-27T21:41:01.039409Z",
     "start_time": "2017-12-27T21:41:00.869093Z"
    }
   },
   "outputs": [
    {
     "data": {
      "text/html": [
       "<div>\n",
       "<table border=\"1\" class=\"dataframe\">\n",
       "  <thead>\n",
       "    <tr style=\"text-align: right;\">\n",
       "      <th></th>\n",
       "      <th>instant</th>\n",
       "      <th>dteday</th>\n",
       "      <th>hr</th>\n",
       "      <th>weathersit</th>\n",
       "      <th>temp</th>\n",
       "      <th>atemp</th>\n",
       "      <th>hum</th>\n",
       "      <th>windspeed</th>\n",
       "      <th>cnt</th>\n",
       "    </tr>\n",
       "  </thead>\n",
       "  <tbody>\n",
       "    <tr>\n",
       "      <th>0</th>\n",
       "      <td>1</td>\n",
       "      <td>2011/1/1</td>\n",
       "      <td>0</td>\n",
       "      <td>1</td>\n",
       "      <td>9.84</td>\n",
       "      <td>14.395</td>\n",
       "      <td>81</td>\n",
       "      <td>0</td>\n",
       "      <td>16</td>\n",
       "    </tr>\n",
       "    <tr>\n",
       "      <th>1</th>\n",
       "      <td>2</td>\n",
       "      <td>2011/1/1</td>\n",
       "      <td>1</td>\n",
       "      <td>1</td>\n",
       "      <td>9.02</td>\n",
       "      <td>13.635</td>\n",
       "      <td>80</td>\n",
       "      <td>0</td>\n",
       "      <td>40</td>\n",
       "    </tr>\n",
       "    <tr>\n",
       "      <th>2</th>\n",
       "      <td>3</td>\n",
       "      <td>2011/1/1</td>\n",
       "      <td>2</td>\n",
       "      <td>1</td>\n",
       "      <td>9.02</td>\n",
       "      <td>13.635</td>\n",
       "      <td>80</td>\n",
       "      <td>0</td>\n",
       "      <td>32</td>\n",
       "    </tr>\n",
       "    <tr>\n",
       "      <th>3</th>\n",
       "      <td>4</td>\n",
       "      <td>2011/1/1</td>\n",
       "      <td>3</td>\n",
       "      <td>1</td>\n",
       "      <td>9.84</td>\n",
       "      <td>14.395</td>\n",
       "      <td>75</td>\n",
       "      <td>0</td>\n",
       "      <td>13</td>\n",
       "    </tr>\n",
       "    <tr>\n",
       "      <th>4</th>\n",
       "      <td>5</td>\n",
       "      <td>2011/1/1</td>\n",
       "      <td>4</td>\n",
       "      <td>1</td>\n",
       "      <td>9.84</td>\n",
       "      <td>14.395</td>\n",
       "      <td>75</td>\n",
       "      <td>0</td>\n",
       "      <td>1</td>\n",
       "    </tr>\n",
       "  </tbody>\n",
       "</table>\n",
       "</div>"
      ],
      "text/plain": [
       "   instant    dteday hr weathersit  temp   atemp hum windspeed  cnt\n",
       "0        1  2011/1/1  0          1  9.84  14.395  81         0   16\n",
       "1        2  2011/1/1  1          1  9.02  13.635  80         0   40\n",
       "2        3  2011/1/1  2          1  9.02  13.635  80         0   32\n",
       "3        4  2011/1/1  3          1  9.84  14.395  75         0   13\n",
       "4        5  2011/1/1  4          1  9.84  14.395  75         0    1"
      ]
     },
     "execution_count": 10,
     "metadata": {},
     "output_type": "execute_result"
    },
    {
     "data": {
      "text/html": [
       "<div>\n",
       "<table border=\"1\" class=\"dataframe\">\n",
       "  <thead>\n",
       "    <tr style=\"text-align: right;\">\n",
       "      <th></th>\n",
       "      <th>instant</th>\n",
       "      <th>dteday</th>\n",
       "      <th>hr</th>\n",
       "      <th>weathersit</th>\n",
       "      <th>temp</th>\n",
       "      <th>atemp</th>\n",
       "      <th>hum</th>\n",
       "      <th>windspeed</th>\n",
       "      <th>cnt</th>\n",
       "    </tr>\n",
       "  </thead>\n",
       "  <tbody>\n",
       "    <tr>\n",
       "      <th>0</th>\n",
       "      <td>16638</td>\n",
       "      <td>2012/12/1</td>\n",
       "      <td>0</td>\n",
       "      <td>1</td>\n",
       "      <td>10.66</td>\n",
       "      <td>15.150</td>\n",
       "      <td>81</td>\n",
       "      <td>0.0000</td>\n",
       "      <td>?</td>\n",
       "    </tr>\n",
       "    <tr>\n",
       "      <th>1</th>\n",
       "      <td>16639</td>\n",
       "      <td>2012/12/1</td>\n",
       "      <td>1</td>\n",
       "      <td>1</td>\n",
       "      <td>10.66</td>\n",
       "      <td>15.150</td>\n",
       "      <td>81</td>\n",
       "      <td>0.0000</td>\n",
       "      <td>?</td>\n",
       "    </tr>\n",
       "    <tr>\n",
       "      <th>2</th>\n",
       "      <td>16640</td>\n",
       "      <td>2012/12/1</td>\n",
       "      <td>2</td>\n",
       "      <td>2</td>\n",
       "      <td>10.66</td>\n",
       "      <td>15.150</td>\n",
       "      <td>81</td>\n",
       "      <td>0.0000</td>\n",
       "      <td>?</td>\n",
       "    </tr>\n",
       "    <tr>\n",
       "      <th>3</th>\n",
       "      <td>16641</td>\n",
       "      <td>2012/12/1</td>\n",
       "      <td>3</td>\n",
       "      <td>2</td>\n",
       "      <td>10.66</td>\n",
       "      <td>13.635</td>\n",
       "      <td>81</td>\n",
       "      <td>8.9981</td>\n",
       "      <td>?</td>\n",
       "    </tr>\n",
       "    <tr>\n",
       "      <th>4</th>\n",
       "      <td>16642</td>\n",
       "      <td>2012/12/1</td>\n",
       "      <td>4</td>\n",
       "      <td>1</td>\n",
       "      <td>10.66</td>\n",
       "      <td>14.395</td>\n",
       "      <td>81</td>\n",
       "      <td>6.0032</td>\n",
       "      <td>?</td>\n",
       "    </tr>\n",
       "  </tbody>\n",
       "</table>\n",
       "</div>"
      ],
      "text/plain": [
       "   instant     dteday  hr  weathersit   temp   atemp  hum  windspeed cnt\n",
       "0    16638  2012/12/1   0           1  10.66  15.150   81     0.0000   ?\n",
       "1    16639  2012/12/1   1           1  10.66  15.150   81     0.0000   ?\n",
       "2    16640  2012/12/1   2           2  10.66  15.150   81     0.0000   ?\n",
       "3    16641  2012/12/1   3           2  10.66  13.635   81     8.9981   ?\n",
       "4    16642  2012/12/1   4           1  10.66  14.395   81     6.0032   ?"
      ]
     },
     "execution_count": 10,
     "metadata": {},
     "output_type": "execute_result"
    }
   ],
   "source": [
    "trainSet_origin.head()\n",
    "testSet_origin.head()"
   ]
  },
  {
   "cell_type": "markdown",
   "metadata": {},
   "source": [
    "测试集的最后一列也没有用，直接删掉。"
   ]
  },
  {
   "cell_type": "code",
   "execution_count": 11,
   "metadata": {
    "ExecuteTime": {
     "end_time": "2017-12-27T21:41:01.157507Z",
     "start_time": "2017-12-27T21:41:01.042411Z"
    },
    "collapsed": true
   },
   "outputs": [],
   "source": [
    "useless_features = ['instant', 'atemp'] #, \n",
    "trainSet_origin.drop(useless_features, axis=1, inplace=True)\n",
    "testSet_origin.drop(useless_features, axis=1, inplace=True)"
   ]
  },
  {
   "cell_type": "code",
   "execution_count": 12,
   "metadata": {
    "ExecuteTime": {
     "end_time": "2017-12-27T21:41:01.275596Z",
     "start_time": "2017-12-27T21:41:01.158508Z"
    }
   },
   "outputs": [
    {
     "data": {
      "text/html": [
       "<div>\n",
       "<table border=\"1\" class=\"dataframe\">\n",
       "  <thead>\n",
       "    <tr style=\"text-align: right;\">\n",
       "      <th></th>\n",
       "      <th>dteday</th>\n",
       "      <th>hr</th>\n",
       "      <th>weathersit</th>\n",
       "      <th>temp</th>\n",
       "      <th>hum</th>\n",
       "      <th>windspeed</th>\n",
       "      <th>cnt</th>\n",
       "    </tr>\n",
       "  </thead>\n",
       "  <tbody>\n",
       "    <tr>\n",
       "      <th>0</th>\n",
       "      <td>2011/1/1</td>\n",
       "      <td>0</td>\n",
       "      <td>1</td>\n",
       "      <td>9.84</td>\n",
       "      <td>81</td>\n",
       "      <td>0</td>\n",
       "      <td>16</td>\n",
       "    </tr>\n",
       "    <tr>\n",
       "      <th>1</th>\n",
       "      <td>2011/1/1</td>\n",
       "      <td>1</td>\n",
       "      <td>1</td>\n",
       "      <td>9.02</td>\n",
       "      <td>80</td>\n",
       "      <td>0</td>\n",
       "      <td>40</td>\n",
       "    </tr>\n",
       "    <tr>\n",
       "      <th>2</th>\n",
       "      <td>2011/1/1</td>\n",
       "      <td>2</td>\n",
       "      <td>1</td>\n",
       "      <td>9.02</td>\n",
       "      <td>80</td>\n",
       "      <td>0</td>\n",
       "      <td>32</td>\n",
       "    </tr>\n",
       "    <tr>\n",
       "      <th>3</th>\n",
       "      <td>2011/1/1</td>\n",
       "      <td>3</td>\n",
       "      <td>1</td>\n",
       "      <td>9.84</td>\n",
       "      <td>75</td>\n",
       "      <td>0</td>\n",
       "      <td>13</td>\n",
       "    </tr>\n",
       "    <tr>\n",
       "      <th>4</th>\n",
       "      <td>2011/1/1</td>\n",
       "      <td>4</td>\n",
       "      <td>1</td>\n",
       "      <td>9.84</td>\n",
       "      <td>75</td>\n",
       "      <td>0</td>\n",
       "      <td>1</td>\n",
       "    </tr>\n",
       "  </tbody>\n",
       "</table>\n",
       "</div>"
      ],
      "text/plain": [
       "     dteday hr weathersit  temp hum windspeed  cnt\n",
       "0  2011/1/1  0          1  9.84  81         0   16\n",
       "1  2011/1/1  1          1  9.02  80         0   40\n",
       "2  2011/1/1  2          1  9.02  80         0   32\n",
       "3  2011/1/1  3          1  9.84  75         0   13\n",
       "4  2011/1/1  4          1  9.84  75         0    1"
      ]
     },
     "execution_count": 12,
     "metadata": {},
     "output_type": "execute_result"
    },
    {
     "data": {
      "text/html": [
       "<div>\n",
       "<table border=\"1\" class=\"dataframe\">\n",
       "  <thead>\n",
       "    <tr style=\"text-align: right;\">\n",
       "      <th></th>\n",
       "      <th>dteday</th>\n",
       "      <th>hr</th>\n",
       "      <th>weathersit</th>\n",
       "      <th>temp</th>\n",
       "      <th>hum</th>\n",
       "      <th>windspeed</th>\n",
       "      <th>cnt</th>\n",
       "    </tr>\n",
       "  </thead>\n",
       "  <tbody>\n",
       "    <tr>\n",
       "      <th>0</th>\n",
       "      <td>2012/12/1</td>\n",
       "      <td>0</td>\n",
       "      <td>1</td>\n",
       "      <td>10.66</td>\n",
       "      <td>81</td>\n",
       "      <td>0.0000</td>\n",
       "      <td>?</td>\n",
       "    </tr>\n",
       "    <tr>\n",
       "      <th>1</th>\n",
       "      <td>2012/12/1</td>\n",
       "      <td>1</td>\n",
       "      <td>1</td>\n",
       "      <td>10.66</td>\n",
       "      <td>81</td>\n",
       "      <td>0.0000</td>\n",
       "      <td>?</td>\n",
       "    </tr>\n",
       "    <tr>\n",
       "      <th>2</th>\n",
       "      <td>2012/12/1</td>\n",
       "      <td>2</td>\n",
       "      <td>2</td>\n",
       "      <td>10.66</td>\n",
       "      <td>81</td>\n",
       "      <td>0.0000</td>\n",
       "      <td>?</td>\n",
       "    </tr>\n",
       "    <tr>\n",
       "      <th>3</th>\n",
       "      <td>2012/12/1</td>\n",
       "      <td>3</td>\n",
       "      <td>2</td>\n",
       "      <td>10.66</td>\n",
       "      <td>81</td>\n",
       "      <td>8.9981</td>\n",
       "      <td>?</td>\n",
       "    </tr>\n",
       "    <tr>\n",
       "      <th>4</th>\n",
       "      <td>2012/12/1</td>\n",
       "      <td>4</td>\n",
       "      <td>1</td>\n",
       "      <td>10.66</td>\n",
       "      <td>81</td>\n",
       "      <td>6.0032</td>\n",
       "      <td>?</td>\n",
       "    </tr>\n",
       "  </tbody>\n",
       "</table>\n",
       "</div>"
      ],
      "text/plain": [
       "      dteday  hr  weathersit   temp  hum  windspeed cnt\n",
       "0  2012/12/1   0           1  10.66   81     0.0000   ?\n",
       "1  2012/12/1   1           1  10.66   81     0.0000   ?\n",
       "2  2012/12/1   2           2  10.66   81     0.0000   ?\n",
       "3  2012/12/1   3           2  10.66   81     8.9981   ?\n",
       "4  2012/12/1   4           1  10.66   81     6.0032   ?"
      ]
     },
     "execution_count": 12,
     "metadata": {},
     "output_type": "execute_result"
    }
   ],
   "source": [
    "trainSet_origin.head()\n",
    "testSet_origin.head()"
   ]
  },
  {
   "cell_type": "markdown",
   "metadata": {},
   "source": [
    "# 去除重复数据"
   ]
  },
  {
   "cell_type": "code",
   "execution_count": 13,
   "metadata": {
    "ExecuteTime": {
     "end_time": "2017-12-27T21:41:01.362664Z",
     "start_time": "2017-12-27T21:41:01.277600Z"
    }
   },
   "outputs": [
    {
     "data": {
      "text/plain": [
       "(16615, 7)"
      ]
     },
     "execution_count": 13,
     "metadata": {},
     "output_type": "execute_result"
    }
   ],
   "source": [
    "trainSet_origin.drop_duplicates(inplace=True)\n",
    "trainSet_origin.shape"
   ]
  },
  {
   "cell_type": "markdown",
   "metadata": {},
   "source": [
    "# 划分dteday特征\n",
    "\n",
    "dteday特征包含年月日信息，可能对算法有用，因此打算将该特征划分为三个特征。\n",
    "\n",
    "首先看一下训练集和测试集在dteday这个特征的数据分布。"
   ]
  },
  {
   "cell_type": "code",
   "execution_count": 14,
   "metadata": {
    "ExecuteTime": {
     "end_time": "2017-12-27T21:41:01.546805Z",
     "start_time": "2017-12-27T21:41:01.370669Z"
    }
   },
   "outputs": [
    {
     "name": "stdout",
     "output_type": "stream",
     "text": [
      "[2011, 2012]\n",
      "[1, 2, 3, 4, 5, 6, 7, 8, 9, 10, 11, 12]\n",
      "[1, 2, 3, 4, 5, 6, 7, 8, 9, 10, 11, 12, 13, 14, 15, 16, 17, 18, 19, 20, 21, 22, 23, 24, 25, 26, 27, 28, 29, 30, 31]\n"
     ]
    },
    {
     "data": {
      "text/plain": [
       "'---------'"
      ]
     },
     "execution_count": 14,
     "metadata": {},
     "output_type": "execute_result"
    },
    {
     "name": "stdout",
     "output_type": "stream",
     "text": [
      "[2012]\n",
      "[12]\n",
      "[1, 2, 3, 4, 5, 6, 7, 8, 9, 10, 11, 12, 13, 14, 15, 16, 17, 18, 19, 20, 21, 22, 23, 24, 25, 26, 27, 28, 29, 30, 31]\n"
     ]
    }
   ],
   "source": [
    "def test_dteday(df):\n",
    "    date = list(df.dteday.str.split(\"/\"))\n",
    "\n",
    "    year = [int(i[0]) for i in date]\n",
    "    month = [int(i[1]) for i in date]\n",
    "    day = [int(i[2]) for i in date]\n",
    "\n",
    "    print(list(Counter(year).keys()))\n",
    "    print(list(Counter(month).keys()))\n",
    "    print(list(Counter(day).keys()))\n",
    "    \n",
    "    \n",
    "test_dteday(trainSet_origin)\n",
    "'---------'\n",
    "test_dteday(testSet_origin)"
   ]
  },
  {
   "cell_type": "markdown",
   "metadata": {},
   "source": [
    "从这里也可以看到，测试中数据只包含年份2012和月份12的数据，也就是说，现在年份这个特征是肯定没有用的。\n",
    "\n",
    "删除月份，保留日期。"
   ]
  },
  {
   "cell_type": "code",
   "execution_count": 15,
   "metadata": {
    "ExecuteTime": {
     "end_time": "2017-12-27T21:41:01.650899Z",
     "start_time": "2017-12-27T21:41:01.548807Z"
    }
   },
   "outputs": [
    {
     "data": {
      "text/plain": [
       "(16615, 7)"
      ]
     },
     "execution_count": 15,
     "metadata": {},
     "output_type": "execute_result"
    },
    {
     "data": {
      "text/html": [
       "<div>\n",
       "<table border=\"1\" class=\"dataframe\">\n",
       "  <thead>\n",
       "    <tr style=\"text-align: right;\">\n",
       "      <th></th>\n",
       "      <th>day</th>\n",
       "      <th>hr</th>\n",
       "      <th>weathersit</th>\n",
       "      <th>temp</th>\n",
       "      <th>hum</th>\n",
       "      <th>windspeed</th>\n",
       "      <th>cnt</th>\n",
       "    </tr>\n",
       "  </thead>\n",
       "  <tbody>\n",
       "    <tr>\n",
       "      <th>0</th>\n",
       "      <td>1</td>\n",
       "      <td>0</td>\n",
       "      <td>1</td>\n",
       "      <td>9.84</td>\n",
       "      <td>81</td>\n",
       "      <td>0</td>\n",
       "      <td>16</td>\n",
       "    </tr>\n",
       "    <tr>\n",
       "      <th>1</th>\n",
       "      <td>1</td>\n",
       "      <td>1</td>\n",
       "      <td>1</td>\n",
       "      <td>9.02</td>\n",
       "      <td>80</td>\n",
       "      <td>0</td>\n",
       "      <td>40</td>\n",
       "    </tr>\n",
       "    <tr>\n",
       "      <th>2</th>\n",
       "      <td>1</td>\n",
       "      <td>2</td>\n",
       "      <td>1</td>\n",
       "      <td>9.02</td>\n",
       "      <td>80</td>\n",
       "      <td>0</td>\n",
       "      <td>32</td>\n",
       "    </tr>\n",
       "    <tr>\n",
       "      <th>3</th>\n",
       "      <td>1</td>\n",
       "      <td>3</td>\n",
       "      <td>1</td>\n",
       "      <td>9.84</td>\n",
       "      <td>75</td>\n",
       "      <td>0</td>\n",
       "      <td>13</td>\n",
       "    </tr>\n",
       "    <tr>\n",
       "      <th>4</th>\n",
       "      <td>1</td>\n",
       "      <td>4</td>\n",
       "      <td>1</td>\n",
       "      <td>9.84</td>\n",
       "      <td>75</td>\n",
       "      <td>0</td>\n",
       "      <td>1</td>\n",
       "    </tr>\n",
       "  </tbody>\n",
       "</table>\n",
       "</div>"
      ],
      "text/plain": [
       "   day hr weathersit  temp hum windspeed  cnt\n",
       "0    1  0          1  9.84  81         0   16\n",
       "1    1  1          1  9.02  80         0   40\n",
       "2    1  2          1  9.02  80         0   32\n",
       "3    1  3          1  9.84  75         0   13\n",
       "4    1  4          1  9.84  75         0    1"
      ]
     },
     "execution_count": 15,
     "metadata": {},
     "output_type": "execute_result"
    }
   ],
   "source": [
    "date = list(trainSet_origin.dteday.str.split(\"/\"))\n",
    "\n",
    "#month = [int(i[1]) for i in date]\n",
    "day = [int(i[2]) for i in date]\n",
    "\n",
    "trainSet_origin.insert(1, 'day', day)\n",
    "trainSet_origin.drop(['dteday'], axis=1, inplace=True)\n",
    "\n",
    "trainSet_origin.shape\n",
    "trainSet_origin.head()"
   ]
  },
  {
   "cell_type": "code",
   "execution_count": 16,
   "metadata": {
    "ExecuteTime": {
     "end_time": "2017-12-27T21:41:01.719452Z",
     "start_time": "2017-12-27T21:41:01.652904Z"
    }
   },
   "outputs": [
    {
     "data": {
      "text/plain": [
       "(742, 7)"
      ]
     },
     "execution_count": 16,
     "metadata": {},
     "output_type": "execute_result"
    },
    {
     "data": {
      "text/html": [
       "<div>\n",
       "<table border=\"1\" class=\"dataframe\">\n",
       "  <thead>\n",
       "    <tr style=\"text-align: right;\">\n",
       "      <th></th>\n",
       "      <th>day</th>\n",
       "      <th>hr</th>\n",
       "      <th>weathersit</th>\n",
       "      <th>temp</th>\n",
       "      <th>hum</th>\n",
       "      <th>windspeed</th>\n",
       "      <th>cnt</th>\n",
       "    </tr>\n",
       "  </thead>\n",
       "  <tbody>\n",
       "    <tr>\n",
       "      <th>0</th>\n",
       "      <td>1</td>\n",
       "      <td>0</td>\n",
       "      <td>1</td>\n",
       "      <td>10.66</td>\n",
       "      <td>81</td>\n",
       "      <td>0.0000</td>\n",
       "      <td>?</td>\n",
       "    </tr>\n",
       "    <tr>\n",
       "      <th>1</th>\n",
       "      <td>1</td>\n",
       "      <td>1</td>\n",
       "      <td>1</td>\n",
       "      <td>10.66</td>\n",
       "      <td>81</td>\n",
       "      <td>0.0000</td>\n",
       "      <td>?</td>\n",
       "    </tr>\n",
       "    <tr>\n",
       "      <th>2</th>\n",
       "      <td>1</td>\n",
       "      <td>2</td>\n",
       "      <td>2</td>\n",
       "      <td>10.66</td>\n",
       "      <td>81</td>\n",
       "      <td>0.0000</td>\n",
       "      <td>?</td>\n",
       "    </tr>\n",
       "    <tr>\n",
       "      <th>3</th>\n",
       "      <td>1</td>\n",
       "      <td>3</td>\n",
       "      <td>2</td>\n",
       "      <td>10.66</td>\n",
       "      <td>81</td>\n",
       "      <td>8.9981</td>\n",
       "      <td>?</td>\n",
       "    </tr>\n",
       "    <tr>\n",
       "      <th>4</th>\n",
       "      <td>1</td>\n",
       "      <td>4</td>\n",
       "      <td>1</td>\n",
       "      <td>10.66</td>\n",
       "      <td>81</td>\n",
       "      <td>6.0032</td>\n",
       "      <td>?</td>\n",
       "    </tr>\n",
       "  </tbody>\n",
       "</table>\n",
       "</div>"
      ],
      "text/plain": [
       "   day  hr  weathersit   temp  hum  windspeed cnt\n",
       "0    1   0           1  10.66   81     0.0000   ?\n",
       "1    1   1           1  10.66   81     0.0000   ?\n",
       "2    1   2           2  10.66   81     0.0000   ?\n",
       "3    1   3           2  10.66   81     8.9981   ?\n",
       "4    1   4           1  10.66   81     6.0032   ?"
      ]
     },
     "execution_count": 16,
     "metadata": {},
     "output_type": "execute_result"
    }
   ],
   "source": [
    "date = list(testSet_origin.dteday.str.split(\"/\"))\n",
    "\n",
    "#month = [int(i[1]) for i in date]\n",
    "day = [int(i[2]) for i in date]\n",
    "\n",
    "testSet_origin.insert(1, 'day', day)\n",
    "testSet_origin.drop(['dteday'], axis=1, inplace=True)\n",
    "\n",
    "testSet_origin.shape\n",
    "testSet_origin.head()"
   ]
  },
  {
   "cell_type": "markdown",
   "metadata": {
    "ExecuteTime": {
     "end_time": "2017-12-23T18:50:41.349640Z",
     "start_time": "2017-12-23T18:50:41.344637Z"
    }
   },
   "source": [
    "# 合并训练集和测试集\n",
    "\n",
    "由于后续需要对训练集和测试集都进行同样的数据处理，在处理过程中可能会涉及到数据集维度的变化，因此这里事先把两个数据集合并起来，以免后续因为维度不统一而出现问题。"
   ]
  },
  {
   "cell_type": "code",
   "execution_count": 17,
   "metadata": {
    "ExecuteTime": {
     "end_time": "2017-12-27T21:41:01.835045Z",
     "start_time": "2017-12-27T21:41:01.721955Z"
    }
   },
   "outputs": [
    {
     "data": {
      "text/plain": [
       "(17357, 7)"
      ]
     },
     "execution_count": 17,
     "metadata": {},
     "output_type": "execute_result"
    },
    {
     "data": {
      "text/html": [
       "<div>\n",
       "<table border=\"1\" class=\"dataframe\">\n",
       "  <thead>\n",
       "    <tr style=\"text-align: right;\">\n",
       "      <th></th>\n",
       "      <th>day</th>\n",
       "      <th>hr</th>\n",
       "      <th>weathersit</th>\n",
       "      <th>temp</th>\n",
       "      <th>hum</th>\n",
       "      <th>windspeed</th>\n",
       "      <th>cnt</th>\n",
       "    </tr>\n",
       "  </thead>\n",
       "  <tbody>\n",
       "    <tr>\n",
       "      <th>0</th>\n",
       "      <td>1</td>\n",
       "      <td>0</td>\n",
       "      <td>1</td>\n",
       "      <td>9.84</td>\n",
       "      <td>81</td>\n",
       "      <td>0</td>\n",
       "      <td>16</td>\n",
       "    </tr>\n",
       "    <tr>\n",
       "      <th>1</th>\n",
       "      <td>1</td>\n",
       "      <td>1</td>\n",
       "      <td>1</td>\n",
       "      <td>9.02</td>\n",
       "      <td>80</td>\n",
       "      <td>0</td>\n",
       "      <td>40</td>\n",
       "    </tr>\n",
       "    <tr>\n",
       "      <th>2</th>\n",
       "      <td>1</td>\n",
       "      <td>2</td>\n",
       "      <td>1</td>\n",
       "      <td>9.02</td>\n",
       "      <td>80</td>\n",
       "      <td>0</td>\n",
       "      <td>32</td>\n",
       "    </tr>\n",
       "    <tr>\n",
       "      <th>3</th>\n",
       "      <td>1</td>\n",
       "      <td>3</td>\n",
       "      <td>1</td>\n",
       "      <td>9.84</td>\n",
       "      <td>75</td>\n",
       "      <td>0</td>\n",
       "      <td>13</td>\n",
       "    </tr>\n",
       "    <tr>\n",
       "      <th>4</th>\n",
       "      <td>1</td>\n",
       "      <td>4</td>\n",
       "      <td>1</td>\n",
       "      <td>9.84</td>\n",
       "      <td>75</td>\n",
       "      <td>0</td>\n",
       "      <td>1</td>\n",
       "    </tr>\n",
       "  </tbody>\n",
       "</table>\n",
       "</div>"
      ],
      "text/plain": [
       "   day hr weathersit  temp hum windspeed cnt\n",
       "0    1  0          1  9.84  81         0  16\n",
       "1    1  1          1  9.02  80         0  40\n",
       "2    1  2          1  9.02  80         0  32\n",
       "3    1  3          1  9.84  75         0  13\n",
       "4    1  4          1  9.84  75         0   1"
      ]
     },
     "execution_count": 17,
     "metadata": {},
     "output_type": "execute_result"
    }
   ],
   "source": [
    "allDataSet_origin = pd.concat([trainSet_origin, testSet_origin], axis=0)\n",
    "allDataSet_origin.shape\n",
    "allDataSet_origin.head()"
   ]
  },
  {
   "cell_type": "code",
   "execution_count": 18,
   "metadata": {
    "ExecuteTime": {
     "end_time": "2017-12-27T21:41:01.951133Z",
     "start_time": "2017-12-27T21:41:01.837047Z"
    }
   },
   "outputs": [
    {
     "data": {
      "text/plain": [
       "Counter({1: 11399, 2: 4536, 3: 1419, 4: 3})"
      ]
     },
     "execution_count": 18,
     "metadata": {},
     "output_type": "execute_result"
    },
    {
     "data": {
      "text/plain": [
       "Counter({0: 723,\n",
       "         1: 724,\n",
       "         2: 714,\n",
       "         3: 696,\n",
       "         4: 697,\n",
       "         5: 715,\n",
       "         6: 725,\n",
       "         7: 725,\n",
       "         8: 727,\n",
       "         9: 725,\n",
       "         10: 727,\n",
       "         11: 725,\n",
       "         12: 727,\n",
       "         13: 729,\n",
       "         14: 727,\n",
       "         15: 729,\n",
       "         16: 729,\n",
       "         17: 728,\n",
       "         18: 728,\n",
       "         19: 728,\n",
       "         20: 727,\n",
       "         21: 728,\n",
       "         22: 727,\n",
       "         23: 727})"
      ]
     },
     "execution_count": 18,
     "metadata": {},
     "output_type": "execute_result"
    }
   ],
   "source": [
    "allDataSet_origin.weathersit = allDataSet_origin.weathersit.astype(\"int64\")\n",
    "Counter(allDataSet_origin.weathersit)\n",
    "\n",
    "# allDataSet_origin.month = allDataSet_origin.month.astype(\"int64\")\n",
    "# Counter(allDataSet_origin.month)\n",
    "\n",
    "allDataSet_origin.hr = allDataSet_origin.hr.astype(\"int64\")\n",
    "Counter(allDataSet_origin.hr)"
   ]
  },
  {
   "cell_type": "markdown",
   "metadata": {},
   "source": [
    "# 对离散变量进行编码"
   ]
  },
  {
   "cell_type": "code",
   "execution_count": 19,
   "metadata": {
    "ExecuteTime": {
     "end_time": "2017-12-27T21:41:02.222849Z",
     "start_time": "2017-12-27T21:41:01.953134Z"
    }
   },
   "outputs": [
    {
     "data": {
      "text/plain": [
       "(17357, 63)"
      ]
     },
     "execution_count": 19,
     "metadata": {},
     "output_type": "execute_result"
    },
    {
     "data": {
      "text/plain": [
       "Index(['weathersit_1', 'weathersit_2', 'weathersit_3', 'weathersit_4', 'hr_0',\n",
       "       'hr_1', 'hr_2', 'hr_3', 'hr_4', 'hr_5', 'hr_6', 'hr_7', 'hr_8', 'hr_9',\n",
       "       'hr_10', 'hr_11', 'hr_12', 'hr_13', 'hr_14', 'hr_15', 'hr_16', 'hr_17',\n",
       "       'hr_18', 'hr_19', 'hr_20', 'hr_21', 'hr_22', 'hr_23', 'day_1', 'day_2',\n",
       "       'day_3', 'day_4', 'day_5', 'day_6', 'day_7', 'day_8', 'day_9', 'day_10',\n",
       "       'day_11', 'day_12', 'day_13', 'day_14', 'day_15', 'day_16', 'day_17',\n",
       "       'day_18', 'day_19', 'day_20', 'day_21', 'day_22', 'day_23', 'day_24',\n",
       "       'day_25', 'day_26', 'day_27', 'day_28', 'day_29', 'day_30', 'day_31',\n",
       "       'temp', 'hum', 'windspeed', 'cnt'],\n",
       "      dtype='object')"
      ]
     },
     "execution_count": 19,
     "metadata": {},
     "output_type": "execute_result"
    },
    {
     "data": {
      "text/html": [
       "<div>\n",
       "<table border=\"1\" class=\"dataframe\">\n",
       "  <thead>\n",
       "    <tr style=\"text-align: right;\">\n",
       "      <th></th>\n",
       "      <th>weathersit_1</th>\n",
       "      <th>weathersit_2</th>\n",
       "      <th>weathersit_3</th>\n",
       "      <th>weathersit_4</th>\n",
       "      <th>hr_0</th>\n",
       "      <th>hr_1</th>\n",
       "      <th>hr_2</th>\n",
       "      <th>hr_3</th>\n",
       "      <th>hr_4</th>\n",
       "      <th>hr_5</th>\n",
       "      <th>...</th>\n",
       "      <th>day_26</th>\n",
       "      <th>day_27</th>\n",
       "      <th>day_28</th>\n",
       "      <th>day_29</th>\n",
       "      <th>day_30</th>\n",
       "      <th>day_31</th>\n",
       "      <th>temp</th>\n",
       "      <th>hum</th>\n",
       "      <th>windspeed</th>\n",
       "      <th>cnt</th>\n",
       "    </tr>\n",
       "  </thead>\n",
       "  <tbody>\n",
       "    <tr>\n",
       "      <th>0</th>\n",
       "      <td>1.0</td>\n",
       "      <td>0.0</td>\n",
       "      <td>0.0</td>\n",
       "      <td>0.0</td>\n",
       "      <td>1.0</td>\n",
       "      <td>0.0</td>\n",
       "      <td>0.0</td>\n",
       "      <td>0.0</td>\n",
       "      <td>0.0</td>\n",
       "      <td>0.0</td>\n",
       "      <td>...</td>\n",
       "      <td>0.0</td>\n",
       "      <td>0.0</td>\n",
       "      <td>0.0</td>\n",
       "      <td>0.0</td>\n",
       "      <td>0.0</td>\n",
       "      <td>0.0</td>\n",
       "      <td>9.84</td>\n",
       "      <td>81</td>\n",
       "      <td>0</td>\n",
       "      <td>16</td>\n",
       "    </tr>\n",
       "    <tr>\n",
       "      <th>1</th>\n",
       "      <td>1.0</td>\n",
       "      <td>0.0</td>\n",
       "      <td>0.0</td>\n",
       "      <td>0.0</td>\n",
       "      <td>0.0</td>\n",
       "      <td>1.0</td>\n",
       "      <td>0.0</td>\n",
       "      <td>0.0</td>\n",
       "      <td>0.0</td>\n",
       "      <td>0.0</td>\n",
       "      <td>...</td>\n",
       "      <td>0.0</td>\n",
       "      <td>0.0</td>\n",
       "      <td>0.0</td>\n",
       "      <td>0.0</td>\n",
       "      <td>0.0</td>\n",
       "      <td>0.0</td>\n",
       "      <td>9.02</td>\n",
       "      <td>80</td>\n",
       "      <td>0</td>\n",
       "      <td>40</td>\n",
       "    </tr>\n",
       "    <tr>\n",
       "      <th>2</th>\n",
       "      <td>1.0</td>\n",
       "      <td>0.0</td>\n",
       "      <td>0.0</td>\n",
       "      <td>0.0</td>\n",
       "      <td>0.0</td>\n",
       "      <td>0.0</td>\n",
       "      <td>1.0</td>\n",
       "      <td>0.0</td>\n",
       "      <td>0.0</td>\n",
       "      <td>0.0</td>\n",
       "      <td>...</td>\n",
       "      <td>0.0</td>\n",
       "      <td>0.0</td>\n",
       "      <td>0.0</td>\n",
       "      <td>0.0</td>\n",
       "      <td>0.0</td>\n",
       "      <td>0.0</td>\n",
       "      <td>9.02</td>\n",
       "      <td>80</td>\n",
       "      <td>0</td>\n",
       "      <td>32</td>\n",
       "    </tr>\n",
       "    <tr>\n",
       "      <th>3</th>\n",
       "      <td>1.0</td>\n",
       "      <td>0.0</td>\n",
       "      <td>0.0</td>\n",
       "      <td>0.0</td>\n",
       "      <td>0.0</td>\n",
       "      <td>0.0</td>\n",
       "      <td>0.0</td>\n",
       "      <td>1.0</td>\n",
       "      <td>0.0</td>\n",
       "      <td>0.0</td>\n",
       "      <td>...</td>\n",
       "      <td>0.0</td>\n",
       "      <td>0.0</td>\n",
       "      <td>0.0</td>\n",
       "      <td>0.0</td>\n",
       "      <td>0.0</td>\n",
       "      <td>0.0</td>\n",
       "      <td>9.84</td>\n",
       "      <td>75</td>\n",
       "      <td>0</td>\n",
       "      <td>13</td>\n",
       "    </tr>\n",
       "    <tr>\n",
       "      <th>4</th>\n",
       "      <td>1.0</td>\n",
       "      <td>0.0</td>\n",
       "      <td>0.0</td>\n",
       "      <td>0.0</td>\n",
       "      <td>0.0</td>\n",
       "      <td>0.0</td>\n",
       "      <td>0.0</td>\n",
       "      <td>0.0</td>\n",
       "      <td>1.0</td>\n",
       "      <td>0.0</td>\n",
       "      <td>...</td>\n",
       "      <td>0.0</td>\n",
       "      <td>0.0</td>\n",
       "      <td>0.0</td>\n",
       "      <td>0.0</td>\n",
       "      <td>0.0</td>\n",
       "      <td>0.0</td>\n",
       "      <td>9.84</td>\n",
       "      <td>75</td>\n",
       "      <td>0</td>\n",
       "      <td>1</td>\n",
       "    </tr>\n",
       "  </tbody>\n",
       "</table>\n",
       "<p>5 rows × 63 columns</p>\n",
       "</div>"
      ],
      "text/plain": [
       "   weathersit_1  weathersit_2  weathersit_3  weathersit_4  hr_0  hr_1  hr_2  \\\n",
       "0           1.0           0.0           0.0           0.0   1.0   0.0   0.0   \n",
       "1           1.0           0.0           0.0           0.0   0.0   1.0   0.0   \n",
       "2           1.0           0.0           0.0           0.0   0.0   0.0   1.0   \n",
       "3           1.0           0.0           0.0           0.0   0.0   0.0   0.0   \n",
       "4           1.0           0.0           0.0           0.0   0.0   0.0   0.0   \n",
       "\n",
       "   hr_3  hr_4  hr_5 ...   day_26  day_27  day_28  day_29  day_30  day_31  \\\n",
       "0   0.0   0.0   0.0 ...      0.0     0.0     0.0     0.0     0.0     0.0   \n",
       "1   0.0   0.0   0.0 ...      0.0     0.0     0.0     0.0     0.0     0.0   \n",
       "2   0.0   0.0   0.0 ...      0.0     0.0     0.0     0.0     0.0     0.0   \n",
       "3   1.0   0.0   0.0 ...      0.0     0.0     0.0     0.0     0.0     0.0   \n",
       "4   0.0   1.0   0.0 ...      0.0     0.0     0.0     0.0     0.0     0.0   \n",
       "\n",
       "   temp  hum  windspeed  cnt  \n",
       "0  9.84   81          0   16  \n",
       "1  9.02   80          0   40  \n",
       "2  9.02   80          0   32  \n",
       "3  9.84   75          0   13  \n",
       "4  9.84   75          0    1  \n",
       "\n",
       "[5 rows x 63 columns]"
      ]
     },
     "execution_count": 19,
     "metadata": {},
     "output_type": "execute_result"
    }
   ],
   "source": [
    "def encodeCategoricalFeatures(dataSet):\n",
    "    categorical_features = ['day', 'hr', 'weathersit'] #所有离散变量\n",
    "    for feature in categorical_features:\n",
    "        #创键 哑变量\n",
    "        dummies = pd.get_dummies(dataSet[feature], prefix=feature, drop_first=False)\n",
    "        #合并数据集\n",
    "        dataSet = pd.concat([dummies, dataSet], axis=1)\n",
    "    return dataSet.drop(categorical_features, axis=1)\n",
    "\n",
    "allDataSet = encodeCategoricalFeatures(allDataSet_origin)\n",
    "\n",
    "allDataSet.shape\n",
    "allDataSet.columns\n",
    "allDataSet.head()"
   ]
  },
  {
   "cell_type": "markdown",
   "metadata": {},
   "source": [
    "# 还原训练集和测试集\n",
    "对两个数据集要一并处理的步骤已经完成，这里先把两个数据集分开回去。"
   ]
  },
  {
   "cell_type": "code",
   "execution_count": 20,
   "metadata": {
    "ExecuteTime": {
     "end_time": "2017-12-27T21:41:02.273386Z",
     "start_time": "2017-12-27T21:41:02.224849Z"
    }
   },
   "outputs": [
    {
     "data": {
      "text/plain": [
       "((16615, 63), (742, 63))"
      ]
     },
     "execution_count": 20,
     "metadata": {},
     "output_type": "execute_result"
    }
   ],
   "source": [
    "divideLine = testSet_origin.shape[0]\n",
    "trainSet_origin2 = allDataSet[:-divideLine].astype('float64')\n",
    "testSet_origin2 = allDataSet[-divideLine:].astype('float64', raise_on_error=False)\n",
    "\n",
    "trainSet_origin2.shape, testSet_origin2.shape"
   ]
  },
  {
   "cell_type": "code",
   "execution_count": 21,
   "metadata": {
    "ExecuteTime": {
     "end_time": "2017-12-27T21:41:02.685385Z",
     "start_time": "2017-12-27T21:41:02.276389Z"
    }
   },
   "outputs": [
    {
     "data": {
      "text/html": [
       "<div>\n",
       "<table border=\"1\" class=\"dataframe\">\n",
       "  <thead>\n",
       "    <tr style=\"text-align: right;\">\n",
       "      <th></th>\n",
       "      <th>weathersit_1</th>\n",
       "      <th>weathersit_2</th>\n",
       "      <th>weathersit_3</th>\n",
       "      <th>weathersit_4</th>\n",
       "      <th>hr_0</th>\n",
       "      <th>hr_1</th>\n",
       "      <th>hr_2</th>\n",
       "      <th>hr_3</th>\n",
       "      <th>hr_4</th>\n",
       "      <th>hr_5</th>\n",
       "      <th>...</th>\n",
       "      <th>day_26</th>\n",
       "      <th>day_27</th>\n",
       "      <th>day_28</th>\n",
       "      <th>day_29</th>\n",
       "      <th>day_30</th>\n",
       "      <th>day_31</th>\n",
       "      <th>temp</th>\n",
       "      <th>hum</th>\n",
       "      <th>windspeed</th>\n",
       "      <th>cnt</th>\n",
       "    </tr>\n",
       "  </thead>\n",
       "  <tbody>\n",
       "    <tr>\n",
       "      <th>0</th>\n",
       "      <td>1.0</td>\n",
       "      <td>0.0</td>\n",
       "      <td>0.0</td>\n",
       "      <td>0.0</td>\n",
       "      <td>1.0</td>\n",
       "      <td>0.0</td>\n",
       "      <td>0.0</td>\n",
       "      <td>0.0</td>\n",
       "      <td>0.0</td>\n",
       "      <td>0.0</td>\n",
       "      <td>...</td>\n",
       "      <td>0.0</td>\n",
       "      <td>0.0</td>\n",
       "      <td>0.0</td>\n",
       "      <td>0.0</td>\n",
       "      <td>0.0</td>\n",
       "      <td>0.0</td>\n",
       "      <td>9.84</td>\n",
       "      <td>81.0</td>\n",
       "      <td>0.0</td>\n",
       "      <td>16.0</td>\n",
       "    </tr>\n",
       "    <tr>\n",
       "      <th>1</th>\n",
       "      <td>1.0</td>\n",
       "      <td>0.0</td>\n",
       "      <td>0.0</td>\n",
       "      <td>0.0</td>\n",
       "      <td>0.0</td>\n",
       "      <td>1.0</td>\n",
       "      <td>0.0</td>\n",
       "      <td>0.0</td>\n",
       "      <td>0.0</td>\n",
       "      <td>0.0</td>\n",
       "      <td>...</td>\n",
       "      <td>0.0</td>\n",
       "      <td>0.0</td>\n",
       "      <td>0.0</td>\n",
       "      <td>0.0</td>\n",
       "      <td>0.0</td>\n",
       "      <td>0.0</td>\n",
       "      <td>9.02</td>\n",
       "      <td>80.0</td>\n",
       "      <td>0.0</td>\n",
       "      <td>40.0</td>\n",
       "    </tr>\n",
       "    <tr>\n",
       "      <th>2</th>\n",
       "      <td>1.0</td>\n",
       "      <td>0.0</td>\n",
       "      <td>0.0</td>\n",
       "      <td>0.0</td>\n",
       "      <td>0.0</td>\n",
       "      <td>0.0</td>\n",
       "      <td>1.0</td>\n",
       "      <td>0.0</td>\n",
       "      <td>0.0</td>\n",
       "      <td>0.0</td>\n",
       "      <td>...</td>\n",
       "      <td>0.0</td>\n",
       "      <td>0.0</td>\n",
       "      <td>0.0</td>\n",
       "      <td>0.0</td>\n",
       "      <td>0.0</td>\n",
       "      <td>0.0</td>\n",
       "      <td>9.02</td>\n",
       "      <td>80.0</td>\n",
       "      <td>0.0</td>\n",
       "      <td>32.0</td>\n",
       "    </tr>\n",
       "    <tr>\n",
       "      <th>3</th>\n",
       "      <td>1.0</td>\n",
       "      <td>0.0</td>\n",
       "      <td>0.0</td>\n",
       "      <td>0.0</td>\n",
       "      <td>0.0</td>\n",
       "      <td>0.0</td>\n",
       "      <td>0.0</td>\n",
       "      <td>1.0</td>\n",
       "      <td>0.0</td>\n",
       "      <td>0.0</td>\n",
       "      <td>...</td>\n",
       "      <td>0.0</td>\n",
       "      <td>0.0</td>\n",
       "      <td>0.0</td>\n",
       "      <td>0.0</td>\n",
       "      <td>0.0</td>\n",
       "      <td>0.0</td>\n",
       "      <td>9.84</td>\n",
       "      <td>75.0</td>\n",
       "      <td>0.0</td>\n",
       "      <td>13.0</td>\n",
       "    </tr>\n",
       "    <tr>\n",
       "      <th>4</th>\n",
       "      <td>1.0</td>\n",
       "      <td>0.0</td>\n",
       "      <td>0.0</td>\n",
       "      <td>0.0</td>\n",
       "      <td>0.0</td>\n",
       "      <td>0.0</td>\n",
       "      <td>0.0</td>\n",
       "      <td>0.0</td>\n",
       "      <td>1.0</td>\n",
       "      <td>0.0</td>\n",
       "      <td>...</td>\n",
       "      <td>0.0</td>\n",
       "      <td>0.0</td>\n",
       "      <td>0.0</td>\n",
       "      <td>0.0</td>\n",
       "      <td>0.0</td>\n",
       "      <td>0.0</td>\n",
       "      <td>9.84</td>\n",
       "      <td>75.0</td>\n",
       "      <td>0.0</td>\n",
       "      <td>1.0</td>\n",
       "    </tr>\n",
       "  </tbody>\n",
       "</table>\n",
       "<p>5 rows × 63 columns</p>\n",
       "</div>"
      ],
      "text/plain": [
       "   weathersit_1  weathersit_2  weathersit_3  weathersit_4  hr_0  hr_1  hr_2  \\\n",
       "0           1.0           0.0           0.0           0.0   1.0   0.0   0.0   \n",
       "1           1.0           0.0           0.0           0.0   0.0   1.0   0.0   \n",
       "2           1.0           0.0           0.0           0.0   0.0   0.0   1.0   \n",
       "3           1.0           0.0           0.0           0.0   0.0   0.0   0.0   \n",
       "4           1.0           0.0           0.0           0.0   0.0   0.0   0.0   \n",
       "\n",
       "   hr_3  hr_4  hr_5  ...   day_26  day_27  day_28  day_29  day_30  day_31  \\\n",
       "0   0.0   0.0   0.0  ...      0.0     0.0     0.0     0.0     0.0     0.0   \n",
       "1   0.0   0.0   0.0  ...      0.0     0.0     0.0     0.0     0.0     0.0   \n",
       "2   0.0   0.0   0.0  ...      0.0     0.0     0.0     0.0     0.0     0.0   \n",
       "3   1.0   0.0   0.0  ...      0.0     0.0     0.0     0.0     0.0     0.0   \n",
       "4   0.0   1.0   0.0  ...      0.0     0.0     0.0     0.0     0.0     0.0   \n",
       "\n",
       "   temp   hum  windspeed   cnt  \n",
       "0  9.84  81.0        0.0  16.0  \n",
       "1  9.02  80.0        0.0  40.0  \n",
       "2  9.02  80.0        0.0  32.0  \n",
       "3  9.84  75.0        0.0  13.0  \n",
       "4  9.84  75.0        0.0   1.0  \n",
       "\n",
       "[5 rows x 63 columns]"
      ]
     },
     "execution_count": 21,
     "metadata": {},
     "output_type": "execute_result"
    },
    {
     "data": {
      "text/html": [
       "<div>\n",
       "<table border=\"1\" class=\"dataframe\">\n",
       "  <thead>\n",
       "    <tr style=\"text-align: right;\">\n",
       "      <th></th>\n",
       "      <th>weathersit_1</th>\n",
       "      <th>weathersit_2</th>\n",
       "      <th>weathersit_3</th>\n",
       "      <th>weathersit_4</th>\n",
       "      <th>hr_0</th>\n",
       "      <th>hr_1</th>\n",
       "      <th>hr_2</th>\n",
       "      <th>hr_3</th>\n",
       "      <th>hr_4</th>\n",
       "      <th>hr_5</th>\n",
       "      <th>...</th>\n",
       "      <th>day_26</th>\n",
       "      <th>day_27</th>\n",
       "      <th>day_28</th>\n",
       "      <th>day_29</th>\n",
       "      <th>day_30</th>\n",
       "      <th>day_31</th>\n",
       "      <th>temp</th>\n",
       "      <th>hum</th>\n",
       "      <th>windspeed</th>\n",
       "      <th>cnt</th>\n",
       "    </tr>\n",
       "  </thead>\n",
       "  <tbody>\n",
       "    <tr>\n",
       "      <th>0</th>\n",
       "      <td>1.0</td>\n",
       "      <td>0.0</td>\n",
       "      <td>0.0</td>\n",
       "      <td>0.0</td>\n",
       "      <td>1.0</td>\n",
       "      <td>0.0</td>\n",
       "      <td>0.0</td>\n",
       "      <td>0.0</td>\n",
       "      <td>0.0</td>\n",
       "      <td>0.0</td>\n",
       "      <td>...</td>\n",
       "      <td>0.0</td>\n",
       "      <td>0.0</td>\n",
       "      <td>0.0</td>\n",
       "      <td>0.0</td>\n",
       "      <td>0.0</td>\n",
       "      <td>0.0</td>\n",
       "      <td>10.66</td>\n",
       "      <td>81</td>\n",
       "      <td>0</td>\n",
       "      <td>?</td>\n",
       "    </tr>\n",
       "    <tr>\n",
       "      <th>1</th>\n",
       "      <td>1.0</td>\n",
       "      <td>0.0</td>\n",
       "      <td>0.0</td>\n",
       "      <td>0.0</td>\n",
       "      <td>0.0</td>\n",
       "      <td>1.0</td>\n",
       "      <td>0.0</td>\n",
       "      <td>0.0</td>\n",
       "      <td>0.0</td>\n",
       "      <td>0.0</td>\n",
       "      <td>...</td>\n",
       "      <td>0.0</td>\n",
       "      <td>0.0</td>\n",
       "      <td>0.0</td>\n",
       "      <td>0.0</td>\n",
       "      <td>0.0</td>\n",
       "      <td>0.0</td>\n",
       "      <td>10.66</td>\n",
       "      <td>81</td>\n",
       "      <td>0</td>\n",
       "      <td>?</td>\n",
       "    </tr>\n",
       "    <tr>\n",
       "      <th>2</th>\n",
       "      <td>0.0</td>\n",
       "      <td>1.0</td>\n",
       "      <td>0.0</td>\n",
       "      <td>0.0</td>\n",
       "      <td>0.0</td>\n",
       "      <td>0.0</td>\n",
       "      <td>1.0</td>\n",
       "      <td>0.0</td>\n",
       "      <td>0.0</td>\n",
       "      <td>0.0</td>\n",
       "      <td>...</td>\n",
       "      <td>0.0</td>\n",
       "      <td>0.0</td>\n",
       "      <td>0.0</td>\n",
       "      <td>0.0</td>\n",
       "      <td>0.0</td>\n",
       "      <td>0.0</td>\n",
       "      <td>10.66</td>\n",
       "      <td>81</td>\n",
       "      <td>0</td>\n",
       "      <td>?</td>\n",
       "    </tr>\n",
       "    <tr>\n",
       "      <th>3</th>\n",
       "      <td>0.0</td>\n",
       "      <td>1.0</td>\n",
       "      <td>0.0</td>\n",
       "      <td>0.0</td>\n",
       "      <td>0.0</td>\n",
       "      <td>0.0</td>\n",
       "      <td>0.0</td>\n",
       "      <td>1.0</td>\n",
       "      <td>0.0</td>\n",
       "      <td>0.0</td>\n",
       "      <td>...</td>\n",
       "      <td>0.0</td>\n",
       "      <td>0.0</td>\n",
       "      <td>0.0</td>\n",
       "      <td>0.0</td>\n",
       "      <td>0.0</td>\n",
       "      <td>0.0</td>\n",
       "      <td>10.66</td>\n",
       "      <td>81</td>\n",
       "      <td>8.9981</td>\n",
       "      <td>?</td>\n",
       "    </tr>\n",
       "    <tr>\n",
       "      <th>4</th>\n",
       "      <td>1.0</td>\n",
       "      <td>0.0</td>\n",
       "      <td>0.0</td>\n",
       "      <td>0.0</td>\n",
       "      <td>0.0</td>\n",
       "      <td>0.0</td>\n",
       "      <td>0.0</td>\n",
       "      <td>0.0</td>\n",
       "      <td>1.0</td>\n",
       "      <td>0.0</td>\n",
       "      <td>...</td>\n",
       "      <td>0.0</td>\n",
       "      <td>0.0</td>\n",
       "      <td>0.0</td>\n",
       "      <td>0.0</td>\n",
       "      <td>0.0</td>\n",
       "      <td>0.0</td>\n",
       "      <td>10.66</td>\n",
       "      <td>81</td>\n",
       "      <td>6.0032</td>\n",
       "      <td>?</td>\n",
       "    </tr>\n",
       "  </tbody>\n",
       "</table>\n",
       "<p>5 rows × 63 columns</p>\n",
       "</div>"
      ],
      "text/plain": [
       "   weathersit_1  weathersit_2  weathersit_3  weathersit_4  hr_0  hr_1  hr_2  \\\n",
       "0           1.0           0.0           0.0           0.0   1.0   0.0   0.0   \n",
       "1           1.0           0.0           0.0           0.0   0.0   1.0   0.0   \n",
       "2           0.0           1.0           0.0           0.0   0.0   0.0   1.0   \n",
       "3           0.0           1.0           0.0           0.0   0.0   0.0   0.0   \n",
       "4           1.0           0.0           0.0           0.0   0.0   0.0   0.0   \n",
       "\n",
       "   hr_3  hr_4  hr_5 ...   day_26  day_27  day_28  day_29  day_30  day_31  \\\n",
       "0   0.0   0.0   0.0 ...      0.0     0.0     0.0     0.0     0.0     0.0   \n",
       "1   0.0   0.0   0.0 ...      0.0     0.0     0.0     0.0     0.0     0.0   \n",
       "2   0.0   0.0   0.0 ...      0.0     0.0     0.0     0.0     0.0     0.0   \n",
       "3   1.0   0.0   0.0 ...      0.0     0.0     0.0     0.0     0.0     0.0   \n",
       "4   0.0   1.0   0.0 ...      0.0     0.0     0.0     0.0     0.0     0.0   \n",
       "\n",
       "    temp  hum  windspeed  cnt  \n",
       "0  10.66   81          0    ?  \n",
       "1  10.66   81          0    ?  \n",
       "2  10.66   81          0    ?  \n",
       "3  10.66   81     8.9981    ?  \n",
       "4  10.66   81     6.0032    ?  \n",
       "\n",
       "[5 rows x 63 columns]"
      ]
     },
     "execution_count": 21,
     "metadata": {},
     "output_type": "execute_result"
    }
   ],
   "source": [
    "assert(trainSet_origin2.shape[0] == trainSet_origin.shape[0])\n",
    "assert(testSet_origin2.shape[0] == testSet_origin.shape[0])\n",
    "\n",
    "trainSet_origin2.head()\n",
    "testSet_origin2.head()"
   ]
  },
  {
   "cell_type": "markdown",
   "metadata": {},
   "source": [
    "# 去除测试集的无关数据\n",
    "\n",
    "测试集最后一列（也即是cnt特征那一列）全部都是问号，这里便将其最后一列删除，以适应后续算法的数据要求。"
   ]
  },
  {
   "cell_type": "code",
   "execution_count": 22,
   "metadata": {
    "ExecuteTime": {
     "end_time": "2017-12-27T21:41:02.764949Z",
     "start_time": "2017-12-27T21:41:02.688388Z"
    }
   },
   "outputs": [
    {
     "data": {
      "text/plain": [
       "(742, 62)"
      ]
     },
     "execution_count": 22,
     "metadata": {},
     "output_type": "execute_result"
    }
   ],
   "source": [
    "testSet_origin2.drop(['cnt'], axis=1, inplace=True)\n",
    "testSet_origin2.shape"
   ]
  },
  {
   "cell_type": "markdown",
   "metadata": {},
   "source": [
    "# 从训练集中划分验证集\n",
    "\n",
    "典型的从训练集中划分验证集的方法是：划分训练集中的splitRate%为验证集，划分过程采用随机选取的方式。但是这里**由于数据是有时间序列特性的，因此便采取划分训练集的后splitRate%为验证集**。"
   ]
  },
  {
   "cell_type": "code",
   "execution_count": 23,
   "metadata": {
    "ExecuteTime": {
     "end_time": "2017-12-27T21:41:02.950126Z",
     "start_time": "2017-12-27T21:41:02.769953Z"
    }
   },
   "outputs": [
    {
     "data": {
      "text/plain": [
       "((13625, 63), (2990, 63))"
      ]
     },
     "execution_count": 23,
     "metadata": {},
     "output_type": "execute_result"
    },
    {
     "data": {
      "text/html": [
       "<div>\n",
       "<table border=\"1\" class=\"dataframe\">\n",
       "  <thead>\n",
       "    <tr style=\"text-align: right;\">\n",
       "      <th></th>\n",
       "      <th>weathersit_1</th>\n",
       "      <th>weathersit_2</th>\n",
       "      <th>weathersit_3</th>\n",
       "      <th>weathersit_4</th>\n",
       "      <th>hr_0</th>\n",
       "      <th>hr_1</th>\n",
       "      <th>hr_2</th>\n",
       "      <th>hr_3</th>\n",
       "      <th>hr_4</th>\n",
       "      <th>hr_5</th>\n",
       "      <th>...</th>\n",
       "      <th>day_26</th>\n",
       "      <th>day_27</th>\n",
       "      <th>day_28</th>\n",
       "      <th>day_29</th>\n",
       "      <th>day_30</th>\n",
       "      <th>day_31</th>\n",
       "      <th>temp</th>\n",
       "      <th>hum</th>\n",
       "      <th>windspeed</th>\n",
       "      <th>cnt</th>\n",
       "    </tr>\n",
       "  </thead>\n",
       "  <tbody>\n",
       "    <tr>\n",
       "      <th>0</th>\n",
       "      <td>1.0</td>\n",
       "      <td>0.0</td>\n",
       "      <td>0.0</td>\n",
       "      <td>0.0</td>\n",
       "      <td>1.0</td>\n",
       "      <td>0.0</td>\n",
       "      <td>0.0</td>\n",
       "      <td>0.0</td>\n",
       "      <td>0.0</td>\n",
       "      <td>0.0</td>\n",
       "      <td>...</td>\n",
       "      <td>0.0</td>\n",
       "      <td>0.0</td>\n",
       "      <td>0.0</td>\n",
       "      <td>0.0</td>\n",
       "      <td>0.0</td>\n",
       "      <td>0.0</td>\n",
       "      <td>9.84</td>\n",
       "      <td>81.0</td>\n",
       "      <td>0.0</td>\n",
       "      <td>16.0</td>\n",
       "    </tr>\n",
       "    <tr>\n",
       "      <th>1</th>\n",
       "      <td>1.0</td>\n",
       "      <td>0.0</td>\n",
       "      <td>0.0</td>\n",
       "      <td>0.0</td>\n",
       "      <td>0.0</td>\n",
       "      <td>1.0</td>\n",
       "      <td>0.0</td>\n",
       "      <td>0.0</td>\n",
       "      <td>0.0</td>\n",
       "      <td>0.0</td>\n",
       "      <td>...</td>\n",
       "      <td>0.0</td>\n",
       "      <td>0.0</td>\n",
       "      <td>0.0</td>\n",
       "      <td>0.0</td>\n",
       "      <td>0.0</td>\n",
       "      <td>0.0</td>\n",
       "      <td>9.02</td>\n",
       "      <td>80.0</td>\n",
       "      <td>0.0</td>\n",
       "      <td>40.0</td>\n",
       "    </tr>\n",
       "    <tr>\n",
       "      <th>2</th>\n",
       "      <td>1.0</td>\n",
       "      <td>0.0</td>\n",
       "      <td>0.0</td>\n",
       "      <td>0.0</td>\n",
       "      <td>0.0</td>\n",
       "      <td>0.0</td>\n",
       "      <td>1.0</td>\n",
       "      <td>0.0</td>\n",
       "      <td>0.0</td>\n",
       "      <td>0.0</td>\n",
       "      <td>...</td>\n",
       "      <td>0.0</td>\n",
       "      <td>0.0</td>\n",
       "      <td>0.0</td>\n",
       "      <td>0.0</td>\n",
       "      <td>0.0</td>\n",
       "      <td>0.0</td>\n",
       "      <td>9.02</td>\n",
       "      <td>80.0</td>\n",
       "      <td>0.0</td>\n",
       "      <td>32.0</td>\n",
       "    </tr>\n",
       "  </tbody>\n",
       "</table>\n",
       "<p>3 rows × 63 columns</p>\n",
       "</div>"
      ],
      "text/plain": [
       "   weathersit_1  weathersit_2  weathersit_3  weathersit_4  hr_0  hr_1  hr_2  \\\n",
       "0           1.0           0.0           0.0           0.0   1.0   0.0   0.0   \n",
       "1           1.0           0.0           0.0           0.0   0.0   1.0   0.0   \n",
       "2           1.0           0.0           0.0           0.0   0.0   0.0   1.0   \n",
       "\n",
       "   hr_3  hr_4  hr_5  ...   day_26  day_27  day_28  day_29  day_30  day_31  \\\n",
       "0   0.0   0.0   0.0  ...      0.0     0.0     0.0     0.0     0.0     0.0   \n",
       "1   0.0   0.0   0.0  ...      0.0     0.0     0.0     0.0     0.0     0.0   \n",
       "2   0.0   0.0   0.0  ...      0.0     0.0     0.0     0.0     0.0     0.0   \n",
       "\n",
       "   temp   hum  windspeed   cnt  \n",
       "0  9.84  81.0        0.0  16.0  \n",
       "1  9.02  80.0        0.0  40.0  \n",
       "2  9.02  80.0        0.0  32.0  \n",
       "\n",
       "[3 rows x 63 columns]"
      ]
     },
     "execution_count": 23,
     "metadata": {},
     "output_type": "execute_result"
    },
    {
     "data": {
      "text/html": [
       "<div>\n",
       "<table border=\"1\" class=\"dataframe\">\n",
       "  <thead>\n",
       "    <tr style=\"text-align: right;\">\n",
       "      <th></th>\n",
       "      <th>weathersit_1</th>\n",
       "      <th>weathersit_2</th>\n",
       "      <th>weathersit_3</th>\n",
       "      <th>weathersit_4</th>\n",
       "      <th>hr_0</th>\n",
       "      <th>hr_1</th>\n",
       "      <th>hr_2</th>\n",
       "      <th>hr_3</th>\n",
       "      <th>hr_4</th>\n",
       "      <th>hr_5</th>\n",
       "      <th>...</th>\n",
       "      <th>day_26</th>\n",
       "      <th>day_27</th>\n",
       "      <th>day_28</th>\n",
       "      <th>day_29</th>\n",
       "      <th>day_30</th>\n",
       "      <th>day_31</th>\n",
       "      <th>temp</th>\n",
       "      <th>hum</th>\n",
       "      <th>windspeed</th>\n",
       "      <th>cnt</th>\n",
       "    </tr>\n",
       "  </thead>\n",
       "  <tbody>\n",
       "    <tr>\n",
       "      <th>0</th>\n",
       "      <td>1.0</td>\n",
       "      <td>0.0</td>\n",
       "      <td>0.0</td>\n",
       "      <td>0.0</td>\n",
       "      <td>0.0</td>\n",
       "      <td>0.0</td>\n",
       "      <td>0.0</td>\n",
       "      <td>0.0</td>\n",
       "      <td>0.0</td>\n",
       "      <td>0.0</td>\n",
       "      <td>...</td>\n",
       "      <td>0.0</td>\n",
       "      <td>1.0</td>\n",
       "      <td>0.0</td>\n",
       "      <td>0.0</td>\n",
       "      <td>0.0</td>\n",
       "      <td>0.0</td>\n",
       "      <td>34.44</td>\n",
       "      <td>49.0</td>\n",
       "      <td>23.9994</td>\n",
       "      <td>299.0</td>\n",
       "    </tr>\n",
       "    <tr>\n",
       "      <th>1</th>\n",
       "      <td>1.0</td>\n",
       "      <td>0.0</td>\n",
       "      <td>0.0</td>\n",
       "      <td>0.0</td>\n",
       "      <td>0.0</td>\n",
       "      <td>0.0</td>\n",
       "      <td>0.0</td>\n",
       "      <td>0.0</td>\n",
       "      <td>0.0</td>\n",
       "      <td>0.0</td>\n",
       "      <td>...</td>\n",
       "      <td>0.0</td>\n",
       "      <td>1.0</td>\n",
       "      <td>0.0</td>\n",
       "      <td>0.0</td>\n",
       "      <td>0.0</td>\n",
       "      <td>0.0</td>\n",
       "      <td>34.44</td>\n",
       "      <td>47.0</td>\n",
       "      <td>19.0012</td>\n",
       "      <td>314.0</td>\n",
       "    </tr>\n",
       "    <tr>\n",
       "      <th>2</th>\n",
       "      <td>1.0</td>\n",
       "      <td>0.0</td>\n",
       "      <td>0.0</td>\n",
       "      <td>0.0</td>\n",
       "      <td>0.0</td>\n",
       "      <td>0.0</td>\n",
       "      <td>0.0</td>\n",
       "      <td>0.0</td>\n",
       "      <td>0.0</td>\n",
       "      <td>0.0</td>\n",
       "      <td>...</td>\n",
       "      <td>0.0</td>\n",
       "      <td>1.0</td>\n",
       "      <td>0.0</td>\n",
       "      <td>0.0</td>\n",
       "      <td>0.0</td>\n",
       "      <td>0.0</td>\n",
       "      <td>35.26</td>\n",
       "      <td>47.0</td>\n",
       "      <td>19.9995</td>\n",
       "      <td>326.0</td>\n",
       "    </tr>\n",
       "  </tbody>\n",
       "</table>\n",
       "<p>3 rows × 63 columns</p>\n",
       "</div>"
      ],
      "text/plain": [
       "   weathersit_1  weathersit_2  weathersit_3  weathersit_4  hr_0  hr_1  hr_2  \\\n",
       "0           1.0           0.0           0.0           0.0   0.0   0.0   0.0   \n",
       "1           1.0           0.0           0.0           0.0   0.0   0.0   0.0   \n",
       "2           1.0           0.0           0.0           0.0   0.0   0.0   0.0   \n",
       "\n",
       "   hr_3  hr_4  hr_5  ...    day_26  day_27  day_28  day_29  day_30  day_31  \\\n",
       "0   0.0   0.0   0.0  ...       0.0     1.0     0.0     0.0     0.0     0.0   \n",
       "1   0.0   0.0   0.0  ...       0.0     1.0     0.0     0.0     0.0     0.0   \n",
       "2   0.0   0.0   0.0  ...       0.0     1.0     0.0     0.0     0.0     0.0   \n",
       "\n",
       "    temp   hum  windspeed    cnt  \n",
       "0  34.44  49.0    23.9994  299.0  \n",
       "1  34.44  47.0    19.0012  314.0  \n",
       "2  35.26  47.0    19.9995  326.0  \n",
       "\n",
       "[3 rows x 63 columns]"
      ]
     },
     "execution_count": 23,
     "metadata": {},
     "output_type": "execute_result"
    }
   ],
   "source": [
    "#划分比例\n",
    "splitRate = 0.18\n",
    "#划分的数目\n",
    "splitNum = int(trainSet_origin2.shape[0]*splitRate) \n",
    "#得到 训练集 和验证集\n",
    "trainSet = trainSet_origin2[:-splitNum].reset_index(drop=True)\n",
    "validateSet = trainSet_origin2[-splitNum:].reset_index(drop=True)\n",
    "\n",
    "trainSet.shape, validateSet.shape\n",
    "trainSet.head(3)\n",
    "validateSet.head(3)"
   ]
  },
  {
   "cell_type": "markdown",
   "metadata": {},
   "source": [
    "# 保存未归一化的数据"
   ]
  },
  {
   "cell_type": "code",
   "execution_count": 24,
   "metadata": {
    "ExecuteTime": {
     "end_time": "2017-12-27T21:41:02.961133Z",
     "start_time": "2017-12-27T21:41:02.955130Z"
    },
    "collapsed": true
   },
   "outputs": [],
   "source": [
    "testSet = testSet_origin2"
   ]
  },
  {
   "cell_type": "code",
   "execution_count": 25,
   "metadata": {
    "ExecuteTime": {
     "end_time": "2017-12-27T21:41:05.184700Z",
     "start_time": "2017-12-27T21:41:02.965137Z"
    }
   },
   "outputs": [
    {
     "data": {
      "text/plain": [
       "((13625, 63), (2990, 63), (742, 62))"
      ]
     },
     "execution_count": 25,
     "metadata": {},
     "output_type": "execute_result"
    }
   ],
   "source": [
    "trainSet.shape, validateSet.shape, testSet.shape\n",
    "\n",
    "dirPath = \"data preprocessed\\\\unnormalized\\\\remove-feature-[atemp+month]\"\n",
    "if not os.path.exists(dirPath):\n",
    "    os.makedirs(dirPath)\n",
    "    \n",
    "trainSet.to_csv(dirPath + '\\\\train.csv', index=False, header=False)\n",
    "validateSet.to_csv(dirPath + '\\\\validate.csv', index=False, header=False)\n",
    "testSet.to_csv(dirPath + '\\\\test.csv', index=False, header=False)"
   ]
  },
  {
   "cell_type": "markdown",
   "metadata": {},
   "source": [
    "# 测试数据读取"
   ]
  },
  {
   "cell_type": "code",
   "execution_count": 26,
   "metadata": {
    "ExecuteTime": {
     "end_time": "2017-12-27T21:41:05.295746Z",
     "start_time": "2017-12-27T21:41:05.186659Z"
    }
   },
   "outputs": [
    {
     "data": {
      "text/plain": [
       "((742, 62), dtype('float64'))"
      ]
     },
     "execution_count": 26,
     "metadata": {},
     "output_type": "execute_result"
    },
    {
     "data": {
      "text/plain": [
       "array([[  1.  ,   0.  ,   0.  ,   0.  ,   1.  ,   0.  ,   0.  ,   0.  ,\n",
       "          0.  ,   0.  ,   0.  ,   0.  ,   0.  ,   0.  ,   0.  ,   0.  ,\n",
       "          0.  ,   0.  ,   0.  ,   0.  ,   0.  ,   0.  ,   0.  ,   0.  ,\n",
       "          0.  ,   0.  ,   0.  ,   0.  ,   1.  ,   0.  ,   0.  ,   0.  ,\n",
       "          0.  ,   0.  ,   0.  ,   0.  ,   0.  ,   0.  ,   0.  ,   0.  ,\n",
       "          0.  ,   0.  ,   0.  ,   0.  ,   0.  ,   0.  ,   0.  ,   0.  ,\n",
       "          0.  ,   0.  ,   0.  ,   0.  ,   0.  ,   0.  ,   0.  ,   0.  ,\n",
       "          0.  ,   0.  ,   0.  ,  10.66,  81.  ,   0.  ]])"
      ]
     },
     "execution_count": 26,
     "metadata": {},
     "output_type": "execute_result"
    }
   ],
   "source": [
    "t = np.loadtxt(dirPath + '\\\\test.csv', delimiter=\",\")\n",
    "t.shape, t.dtype\n",
    "t[:1]"
   ]
  },
  {
   "cell_type": "markdown",
   "metadata": {},
   "source": [
    "# 使用min-max或z-score标准化连续特征"
   ]
  },
  {
   "cell_type": "code",
   "execution_count": 27,
   "metadata": {
    "ExecuteTime": {
     "end_time": "2017-12-27T21:41:05.312756Z",
     "start_time": "2017-12-27T21:41:05.298747Z"
    },
    "collapsed": true
   },
   "outputs": [],
   "source": [
    "trainSet_backup = trainSet.copy()\n",
    "validateSet_backup = validateSet.copy()\n",
    "testSet_backup = testSet.copy()"
   ]
  },
  {
   "cell_type": "markdown",
   "metadata": {},
   "source": [
    "## 使用z-score标准化连续特征"
   ]
  },
  {
   "cell_type": "code",
   "execution_count": 28,
   "metadata": {
    "ExecuteTime": {
     "end_time": "2017-12-27T21:41:05.440642Z",
     "start_time": "2017-12-27T21:41:05.315760Z"
    }
   },
   "outputs": [
    {
     "data": {
      "text/plain": [
       "['temp', 'hum', 'windspeed']"
      ]
     },
     "execution_count": 28,
     "metadata": {},
     "output_type": "execute_result"
    },
    {
     "data": {
      "text/html": [
       "<div>\n",
       "<table border=\"1\" class=\"dataframe\">\n",
       "  <thead>\n",
       "    <tr style=\"text-align: right;\">\n",
       "      <th></th>\n",
       "      <th>temp</th>\n",
       "      <th>hum</th>\n",
       "      <th>windspeed</th>\n",
       "    </tr>\n",
       "  </thead>\n",
       "  <tbody>\n",
       "    <tr>\n",
       "      <th>0</th>\n",
       "      <td>-1.296485</td>\n",
       "      <td>0.94185</td>\n",
       "      <td>-1.57558</td>\n",
       "    </tr>\n",
       "    <tr>\n",
       "      <th>1</th>\n",
       "      <td>-1.398401</td>\n",
       "      <td>0.89161</td>\n",
       "      <td>-1.57558</td>\n",
       "    </tr>\n",
       "    <tr>\n",
       "      <th>2</th>\n",
       "      <td>-1.398401</td>\n",
       "      <td>0.89161</td>\n",
       "      <td>-1.57558</td>\n",
       "    </tr>\n",
       "  </tbody>\n",
       "</table>\n",
       "</div>"
      ],
      "text/plain": [
       "       temp      hum  windspeed\n",
       "0 -1.296485  0.94185   -1.57558\n",
       "1 -1.398401  0.89161   -1.57558\n",
       "2 -1.398401  0.89161   -1.57558"
      ]
     },
     "execution_count": 28,
     "metadata": {},
     "output_type": "execute_result"
    },
    {
     "data": {
      "text/html": [
       "<div>\n",
       "<table border=\"1\" class=\"dataframe\">\n",
       "  <thead>\n",
       "    <tr style=\"text-align: right;\">\n",
       "      <th></th>\n",
       "      <th>temp</th>\n",
       "      <th>hum</th>\n",
       "      <th>windspeed</th>\n",
       "    </tr>\n",
       "  </thead>\n",
       "  <tbody>\n",
       "    <tr>\n",
       "      <th>0</th>\n",
       "      <td>1.760997</td>\n",
       "      <td>-0.665811</td>\n",
       "      <td>1.327879</td>\n",
       "    </tr>\n",
       "    <tr>\n",
       "      <th>1</th>\n",
       "      <td>1.760997</td>\n",
       "      <td>-0.766290</td>\n",
       "      <td>0.723194</td>\n",
       "    </tr>\n",
       "    <tr>\n",
       "      <th>2</th>\n",
       "      <td>1.862913</td>\n",
       "      <td>-0.766290</td>\n",
       "      <td>0.843969</td>\n",
       "    </tr>\n",
       "  </tbody>\n",
       "</table>\n",
       "</div>"
      ],
      "text/plain": [
       "       temp       hum  windspeed\n",
       "0  1.760997 -0.665811   1.327879\n",
       "1  1.760997 -0.766290   0.723194\n",
       "2  1.862913 -0.766290   0.843969"
      ]
     },
     "execution_count": 28,
     "metadata": {},
     "output_type": "execute_result"
    },
    {
     "data": {
      "text/html": [
       "<div>\n",
       "<table border=\"1\" class=\"dataframe\">\n",
       "  <thead>\n",
       "    <tr style=\"text-align: right;\">\n",
       "      <th></th>\n",
       "      <th>temp</th>\n",
       "      <th>hum</th>\n",
       "      <th>windspeed</th>\n",
       "    </tr>\n",
       "  </thead>\n",
       "  <tbody>\n",
       "    <tr>\n",
       "      <th>0</th>\n",
       "      <td>-1.194568</td>\n",
       "      <td>0.94185</td>\n",
       "      <td>-1.57558</td>\n",
       "    </tr>\n",
       "    <tr>\n",
       "      <th>1</th>\n",
       "      <td>-1.194568</td>\n",
       "      <td>0.94185</td>\n",
       "      <td>-1.57558</td>\n",
       "    </tr>\n",
       "    <tr>\n",
       "      <th>2</th>\n",
       "      <td>-1.194568</td>\n",
       "      <td>0.94185</td>\n",
       "      <td>-1.57558</td>\n",
       "    </tr>\n",
       "  </tbody>\n",
       "</table>\n",
       "</div>"
      ],
      "text/plain": [
       "       temp      hum  windspeed\n",
       "0 -1.194568  0.94185   -1.57558\n",
       "1 -1.194568  0.94185   -1.57558\n",
       "2 -1.194568  0.94185   -1.57558"
      ]
     },
     "execution_count": 28,
     "metadata": {},
     "output_type": "execute_result"
    }
   ],
   "source": [
    "def normalizeFeature(train, validate, test, continousFeature):\n",
    "    means_, stds_ = [], []\n",
    "    for feature in continousFeature:\n",
    "        mean_, std_ = train[feature].mean(), train[feature].std()\n",
    "        featureIndex = list(trainSet.columns).index(feature)\n",
    "        means_.append({featureIndex:mean_})\n",
    "        stds_.append({featureIndex:std_})\n",
    "        \n",
    "        train[feature] = (train[feature] - mean_)/std_\n",
    "        validate[feature] = (validate[feature] - mean_)/std_\n",
    "        test[feature] = ((test[feature] - mean_)/std_).astype(\"float64\")\n",
    "\n",
    "    return train, validate, test, means_, stds_\n",
    "        \n",
    "    \n",
    "continousFeatures = [\"temp\", \"hum\", \"windspeed\"]\n",
    "continousFeatures\n",
    "trainSet, validateSet, testSet, means, stds = normalizeFeature(trainSet, validateSet, testSet, continousFeatures)\n",
    "\n",
    "trainSet[continousFeatures].head(3)\n",
    "validateSet[continousFeatures].head(3)\n",
    "testSet[continousFeatures].head(3)"
   ]
  },
  {
   "cell_type": "code",
   "execution_count": 29,
   "metadata": {
    "ExecuteTime": {
     "end_time": "2017-12-27T21:41:05.465661Z",
     "start_time": "2017-12-27T21:41:05.442644Z"
    }
   },
   "outputs": [
    {
     "data": {
      "text/plain": [
       "([{59: 20.27130275229354}, {60: 62.25277064220184}, {61: 13.023422627523388}],\n",
       " [{59: 8.045836616515906}, {60: 19.9046896960437}, {61: 8.265797922320854}])"
      ]
     },
     "execution_count": 29,
     "metadata": {},
     "output_type": "execute_result"
    }
   ],
   "source": [
    "means, stds"
   ]
  },
  {
   "cell_type": "code",
   "execution_count": 30,
   "metadata": {
    "ExecuteTime": {
     "end_time": "2017-12-27T21:41:05.618389Z",
     "start_time": "2017-12-27T21:41:05.467661Z"
    }
   },
   "outputs": [
    {
     "data": {
      "text/html": [
       "<div>\n",
       "<table border=\"1\" class=\"dataframe\">\n",
       "  <thead>\n",
       "    <tr style=\"text-align: right;\">\n",
       "      <th></th>\n",
       "      <th>temp</th>\n",
       "      <th>hum</th>\n",
       "      <th>windspeed</th>\n",
       "    </tr>\n",
       "  </thead>\n",
       "  <tbody>\n",
       "    <tr>\n",
       "      <th>count</th>\n",
       "      <td>1.362500e+04</td>\n",
       "      <td>1.362500e+04</td>\n",
       "      <td>1.362500e+04</td>\n",
       "    </tr>\n",
       "    <tr>\n",
       "      <th>mean</th>\n",
       "      <td>-1.567790e-15</td>\n",
       "      <td>-3.824871e-16</td>\n",
       "      <td>-5.322604e-14</td>\n",
       "    </tr>\n",
       "    <tr>\n",
       "      <th>std</th>\n",
       "      <td>1.000000e+00</td>\n",
       "      <td>1.000000e+00</td>\n",
       "      <td>1.000000e+00</td>\n",
       "    </tr>\n",
       "    <tr>\n",
       "      <th>min</th>\n",
       "      <td>-2.417561e+00</td>\n",
       "      <td>-3.127543e+00</td>\n",
       "      <td>-1.575580e+00</td>\n",
       "    </tr>\n",
       "    <tr>\n",
       "      <th>25%</th>\n",
       "      <td>-7.869042e-01</td>\n",
       "      <td>-8.165297e-01</td>\n",
       "      <td>-7.285349e-01</td>\n",
       "    </tr>\n",
       "    <tr>\n",
       "      <th>50%</th>\n",
       "      <td>2.842430e-02</td>\n",
       "      <td>-1.269905e-02</td>\n",
       "      <td>-3.075641e-03</td>\n",
       "    </tr>\n",
       "    <tr>\n",
       "      <th>75%</th>\n",
       "      <td>8.437528e-01</td>\n",
       "      <td>8.413710e-01</td>\n",
       "      <td>7.231942e-01</td>\n",
       "    </tr>\n",
       "    <tr>\n",
       "      <th>max</th>\n",
       "      <td>2.576326e+00</td>\n",
       "      <td>1.896399e+00</td>\n",
       "      <td>5.319931e+00</td>\n",
       "    </tr>\n",
       "  </tbody>\n",
       "</table>\n",
       "</div>"
      ],
      "text/plain": [
       "               temp           hum     windspeed\n",
       "count  1.362500e+04  1.362500e+04  1.362500e+04\n",
       "mean  -1.567790e-15 -3.824871e-16 -5.322604e-14\n",
       "std    1.000000e+00  1.000000e+00  1.000000e+00\n",
       "min   -2.417561e+00 -3.127543e+00 -1.575580e+00\n",
       "25%   -7.869042e-01 -8.165297e-01 -7.285349e-01\n",
       "50%    2.842430e-02 -1.269905e-02 -3.075641e-03\n",
       "75%    8.437528e-01  8.413710e-01  7.231942e-01\n",
       "max    2.576326e+00  1.896399e+00  5.319931e+00"
      ]
     },
     "execution_count": 30,
     "metadata": {},
     "output_type": "execute_result"
    },
    {
     "data": {
      "text/html": [
       "<div>\n",
       "<table border=\"1\" class=\"dataframe\">\n",
       "  <thead>\n",
       "    <tr style=\"text-align: right;\">\n",
       "      <th></th>\n",
       "      <th>temp</th>\n",
       "      <th>hum</th>\n",
       "      <th>windspeed</th>\n",
       "    </tr>\n",
       "  </thead>\n",
       "  <tbody>\n",
       "    <tr>\n",
       "      <th>count</th>\n",
       "      <td>2990.000000</td>\n",
       "      <td>2990.000000</td>\n",
       "      <td>2990.000000</td>\n",
       "    </tr>\n",
       "    <tr>\n",
       "      <th>mean</th>\n",
       "      <td>0.292622</td>\n",
       "      <td>0.063030</td>\n",
       "      <td>-0.183782</td>\n",
       "    </tr>\n",
       "    <tr>\n",
       "      <th>std</th>\n",
       "      <td>0.842672</td>\n",
       "      <td>0.823191</td>\n",
       "      <td>0.917900</td>\n",
       "    </tr>\n",
       "    <tr>\n",
       "      <th>min</th>\n",
       "      <td>-1.500317</td>\n",
       "      <td>-2.323712</td>\n",
       "      <td>-1.575580</td>\n",
       "    </tr>\n",
       "    <tr>\n",
       "      <th>25%</th>\n",
       "      <td>-0.379240</td>\n",
       "      <td>-0.615572</td>\n",
       "      <td>-0.728535</td>\n",
       "    </tr>\n",
       "    <tr>\n",
       "      <th>50%</th>\n",
       "      <td>0.436089</td>\n",
       "      <td>0.138019</td>\n",
       "      <td>-0.244625</td>\n",
       "    </tr>\n",
       "    <tr>\n",
       "      <th>75%</th>\n",
       "      <td>0.945669</td>\n",
       "      <td>0.740892</td>\n",
       "      <td>0.480834</td>\n",
       "    </tr>\n",
       "    <tr>\n",
       "      <th>max</th>\n",
       "      <td>2.066746</td>\n",
       "      <td>1.896399</td>\n",
       "      <td>3.626653</td>\n",
       "    </tr>\n",
       "  </tbody>\n",
       "</table>\n",
       "</div>"
      ],
      "text/plain": [
       "              temp          hum    windspeed\n",
       "count  2990.000000  2990.000000  2990.000000\n",
       "mean      0.292622     0.063030    -0.183782\n",
       "std       0.842672     0.823191     0.917900\n",
       "min      -1.500317    -2.323712    -1.575580\n",
       "25%      -0.379240    -0.615572    -0.728535\n",
       "50%       0.436089     0.138019    -0.244625\n",
       "75%       0.945669     0.740892     0.480834\n",
       "max       2.066746     1.896399     3.626653"
      ]
     },
     "execution_count": 30,
     "metadata": {},
     "output_type": "execute_result"
    },
    {
     "data": {
      "text/html": [
       "<div>\n",
       "<table border=\"1\" class=\"dataframe\">\n",
       "  <thead>\n",
       "    <tr style=\"text-align: right;\">\n",
       "      <th></th>\n",
       "      <th>temp</th>\n",
       "      <th>hum</th>\n",
       "      <th>windspeed</th>\n",
       "    </tr>\n",
       "  </thead>\n",
       "  <tbody>\n",
       "    <tr>\n",
       "      <th>count</th>\n",
       "      <td>742.000000</td>\n",
       "      <td>742.000000</td>\n",
       "      <td>742.000000</td>\n",
       "    </tr>\n",
       "    <tr>\n",
       "      <th>mean</th>\n",
       "      <td>-0.873299</td>\n",
       "      <td>0.302211</td>\n",
       "      <td>-0.073226</td>\n",
       "    </tr>\n",
       "    <tr>\n",
       "      <th>std</th>\n",
       "      <td>0.429266</td>\n",
       "      <td>0.891361</td>\n",
       "      <td>1.065969</td>\n",
       "    </tr>\n",
       "    <tr>\n",
       "      <th>min</th>\n",
       "      <td>-1.806065</td>\n",
       "      <td>-1.570121</td>\n",
       "      <td>-1.575580</td>\n",
       "    </tr>\n",
       "    <tr>\n",
       "      <th>25%</th>\n",
       "      <td>-1.194568</td>\n",
       "      <td>-0.464854</td>\n",
       "      <td>-0.728535</td>\n",
       "    </tr>\n",
       "    <tr>\n",
       "      <th>50%</th>\n",
       "      <td>-0.888820</td>\n",
       "      <td>0.238498</td>\n",
       "      <td>-0.244625</td>\n",
       "    </tr>\n",
       "    <tr>\n",
       "      <th>75%</th>\n",
       "      <td>-0.583072</td>\n",
       "      <td>1.243286</td>\n",
       "      <td>0.480834</td>\n",
       "    </tr>\n",
       "    <tr>\n",
       "      <th>max</th>\n",
       "      <td>0.538005</td>\n",
       "      <td>1.896399</td>\n",
       "      <td>3.747427</td>\n",
       "    </tr>\n",
       "  </tbody>\n",
       "</table>\n",
       "</div>"
      ],
      "text/plain": [
       "             temp         hum   windspeed\n",
       "count  742.000000  742.000000  742.000000\n",
       "mean    -0.873299    0.302211   -0.073226\n",
       "std      0.429266    0.891361    1.065969\n",
       "min     -1.806065   -1.570121   -1.575580\n",
       "25%     -1.194568   -0.464854   -0.728535\n",
       "50%     -0.888820    0.238498   -0.244625\n",
       "75%     -0.583072    1.243286    0.480834\n",
       "max      0.538005    1.896399    3.747427"
      ]
     },
     "execution_count": 30,
     "metadata": {},
     "output_type": "execute_result"
    }
   ],
   "source": [
    "trainSet[continousFeatures].describe()\n",
    "validateSet[continousFeatures].describe()\n",
    "testSet[continousFeatures].describe()"
   ]
  },
  {
   "cell_type": "markdown",
   "metadata": {},
   "source": [
    "### 保存归一化的数据"
   ]
  },
  {
   "cell_type": "code",
   "execution_count": 31,
   "metadata": {
    "ExecuteTime": {
     "end_time": "2017-12-27T21:41:07.800315Z",
     "start_time": "2017-12-27T21:41:05.620391Z"
    }
   },
   "outputs": [
    {
     "data": {
      "text/plain": [
       "((13625, 63), (2990, 63), (742, 62))"
      ]
     },
     "execution_count": 31,
     "metadata": {},
     "output_type": "execute_result"
    }
   ],
   "source": [
    "trainSet.shape, validateSet.shape, testSet.shape\n",
    "\n",
    "dirPath = \"data preprocessed\\\\normalized-[z-score]\\\\remove-feature-[atemp+month]\"\n",
    "if not os.path.exists(dirPath):\n",
    "    os.makedirs(dirPath)\n",
    "    \n",
    "trainSet.to_csv(dirPath + '\\\\train.csv', index=False, header=False)\n",
    "validateSet.to_csv(dirPath + '\\\\validate.csv', index=False, header=False)\n",
    "testSet.to_csv(dirPath + '\\\\test.csv', index=False, header=False)"
   ]
  },
  {
   "cell_type": "markdown",
   "metadata": {},
   "source": [
    "## 使用min-max标准化连续特征"
   ]
  },
  {
   "cell_type": "code",
   "execution_count": 32,
   "metadata": {
    "ExecuteTime": {
     "end_time": "2017-12-27T21:41:07.808305Z",
     "start_time": "2017-12-27T21:41:07.801300Z"
    }
   },
   "outputs": [
    {
     "data": {
      "text/plain": [
       "['temp', 'hum', 'windspeed']"
      ]
     },
     "execution_count": 32,
     "metadata": {},
     "output_type": "execute_result"
    }
   ],
   "source": [
    "continousFeatures"
   ]
  },
  {
   "cell_type": "code",
   "execution_count": 33,
   "metadata": {
    "ExecuteTime": {
     "end_time": "2017-12-27T21:41:07.975994Z",
     "start_time": "2017-12-27T21:41:07.811308Z"
    },
    "collapsed": true
   },
   "outputs": [],
   "source": [
    "def minmax_normalize(dataSet):\n",
    "    dataSet['temp'] = dataSet['temp']/41\n",
    "    dataSet['hum'] = dataSet['hum']/100\n",
    "    dataSet['windspeed'] = dataSet['windspeed']/67\n",
    "    \n",
    "    return dataSet\n",
    "\n",
    "trainSet = minmax_normalize(trainSet_backup)\n",
    "validateSet= minmax_normalize(validateSet_backup)\n",
    "testSet = minmax_normalize(testSet_backup)"
   ]
  },
  {
   "cell_type": "code",
   "execution_count": 34,
   "metadata": {
    "ExecuteTime": {
     "end_time": "2017-12-27T21:41:08.049795Z",
     "start_time": "2017-12-27T21:41:07.977978Z"
    },
    "collapsed": true
   },
   "outputs": [],
   "source": [
    "testSet = testSet.astype(\"float64\")"
   ]
  },
  {
   "cell_type": "code",
   "execution_count": 35,
   "metadata": {
    "ExecuteTime": {
     "end_time": "2017-12-27T21:41:08.185810Z",
     "start_time": "2017-12-27T21:41:08.051777Z"
    }
   },
   "outputs": [
    {
     "data": {
      "text/html": [
       "<div>\n",
       "<table border=\"1\" class=\"dataframe\">\n",
       "  <thead>\n",
       "    <tr style=\"text-align: right;\">\n",
       "      <th></th>\n",
       "      <th>temp</th>\n",
       "      <th>hum</th>\n",
       "      <th>windspeed</th>\n",
       "    </tr>\n",
       "  </thead>\n",
       "  <tbody>\n",
       "    <tr>\n",
       "      <th>count</th>\n",
       "      <td>13625.000000</td>\n",
       "      <td>13625.000000</td>\n",
       "      <td>13625.000000</td>\n",
       "    </tr>\n",
       "    <tr>\n",
       "      <th>mean</th>\n",
       "      <td>0.494422</td>\n",
       "      <td>0.622528</td>\n",
       "      <td>0.194379</td>\n",
       "    </tr>\n",
       "    <tr>\n",
       "      <th>std</th>\n",
       "      <td>0.196240</td>\n",
       "      <td>0.199047</td>\n",
       "      <td>0.123370</td>\n",
       "    </tr>\n",
       "    <tr>\n",
       "      <th>min</th>\n",
       "      <td>0.020000</td>\n",
       "      <td>0.000000</td>\n",
       "      <td>0.000000</td>\n",
       "    </tr>\n",
       "    <tr>\n",
       "      <th>25%</th>\n",
       "      <td>0.340000</td>\n",
       "      <td>0.460000</td>\n",
       "      <td>0.104500</td>\n",
       "    </tr>\n",
       "    <tr>\n",
       "      <th>50%</th>\n",
       "      <td>0.500000</td>\n",
       "      <td>0.620000</td>\n",
       "      <td>0.194000</td>\n",
       "    </tr>\n",
       "    <tr>\n",
       "      <th>75%</th>\n",
       "      <td>0.660000</td>\n",
       "      <td>0.790000</td>\n",
       "      <td>0.283600</td>\n",
       "    </tr>\n",
       "    <tr>\n",
       "      <th>max</th>\n",
       "      <td>1.000000</td>\n",
       "      <td>1.000000</td>\n",
       "      <td>0.850700</td>\n",
       "    </tr>\n",
       "  </tbody>\n",
       "</table>\n",
       "</div>"
      ],
      "text/plain": [
       "               temp           hum     windspeed\n",
       "count  13625.000000  13625.000000  13625.000000\n",
       "mean       0.494422      0.622528      0.194379\n",
       "std        0.196240      0.199047      0.123370\n",
       "min        0.020000      0.000000      0.000000\n",
       "25%        0.340000      0.460000      0.104500\n",
       "50%        0.500000      0.620000      0.194000\n",
       "75%        0.660000      0.790000      0.283600\n",
       "max        1.000000      1.000000      0.850700"
      ]
     },
     "execution_count": 35,
     "metadata": {},
     "output_type": "execute_result"
    },
    {
     "data": {
      "text/html": [
       "<div>\n",
       "<table border=\"1\" class=\"dataframe\">\n",
       "  <thead>\n",
       "    <tr style=\"text-align: right;\">\n",
       "      <th></th>\n",
       "      <th>temp</th>\n",
       "      <th>hum</th>\n",
       "      <th>windspeed</th>\n",
       "    </tr>\n",
       "  </thead>\n",
       "  <tbody>\n",
       "    <tr>\n",
       "      <th>count</th>\n",
       "      <td>2990.000000</td>\n",
       "      <td>2990.000000</td>\n",
       "      <td>2990.000000</td>\n",
       "    </tr>\n",
       "    <tr>\n",
       "      <th>mean</th>\n",
       "      <td>0.551846</td>\n",
       "      <td>0.635074</td>\n",
       "      <td>0.171706</td>\n",
       "    </tr>\n",
       "    <tr>\n",
       "      <th>std</th>\n",
       "      <td>0.165366</td>\n",
       "      <td>0.163854</td>\n",
       "      <td>0.113241</td>\n",
       "    </tr>\n",
       "    <tr>\n",
       "      <th>min</th>\n",
       "      <td>0.200000</td>\n",
       "      <td>0.160000</td>\n",
       "      <td>0.000000</td>\n",
       "    </tr>\n",
       "    <tr>\n",
       "      <th>25%</th>\n",
       "      <td>0.420000</td>\n",
       "      <td>0.500000</td>\n",
       "      <td>0.104500</td>\n",
       "    </tr>\n",
       "    <tr>\n",
       "      <th>50%</th>\n",
       "      <td>0.580000</td>\n",
       "      <td>0.650000</td>\n",
       "      <td>0.164200</td>\n",
       "    </tr>\n",
       "    <tr>\n",
       "      <th>75%</th>\n",
       "      <td>0.680000</td>\n",
       "      <td>0.770000</td>\n",
       "      <td>0.253700</td>\n",
       "    </tr>\n",
       "    <tr>\n",
       "      <th>max</th>\n",
       "      <td>0.900000</td>\n",
       "      <td>1.000000</td>\n",
       "      <td>0.641800</td>\n",
       "    </tr>\n",
       "  </tbody>\n",
       "</table>\n",
       "</div>"
      ],
      "text/plain": [
       "              temp          hum    windspeed\n",
       "count  2990.000000  2990.000000  2990.000000\n",
       "mean      0.551846     0.635074     0.171706\n",
       "std       0.165366     0.163854     0.113241\n",
       "min       0.200000     0.160000     0.000000\n",
       "25%       0.420000     0.500000     0.104500\n",
       "50%       0.580000     0.650000     0.164200\n",
       "75%       0.680000     0.770000     0.253700\n",
       "max       0.900000     1.000000     0.641800"
      ]
     },
     "execution_count": 35,
     "metadata": {},
     "output_type": "execute_result"
    },
    {
     "data": {
      "text/html": [
       "<div>\n",
       "<table border=\"1\" class=\"dataframe\">\n",
       "  <thead>\n",
       "    <tr style=\"text-align: right;\">\n",
       "      <th></th>\n",
       "      <th>temp</th>\n",
       "      <th>hum</th>\n",
       "      <th>windspeed</th>\n",
       "    </tr>\n",
       "  </thead>\n",
       "  <tbody>\n",
       "    <tr>\n",
       "      <th>count</th>\n",
       "      <td>742.000000</td>\n",
       "      <td>742.000000</td>\n",
       "      <td>742.000000</td>\n",
       "    </tr>\n",
       "    <tr>\n",
       "      <th>mean</th>\n",
       "      <td>0.323046</td>\n",
       "      <td>0.682682</td>\n",
       "      <td>0.185346</td>\n",
       "    </tr>\n",
       "    <tr>\n",
       "      <th>std</th>\n",
       "      <td>0.084239</td>\n",
       "      <td>0.177423</td>\n",
       "      <td>0.131509</td>\n",
       "    </tr>\n",
       "    <tr>\n",
       "      <th>min</th>\n",
       "      <td>0.140000</td>\n",
       "      <td>0.310000</td>\n",
       "      <td>0.000000</td>\n",
       "    </tr>\n",
       "    <tr>\n",
       "      <th>25%</th>\n",
       "      <td>0.260000</td>\n",
       "      <td>0.530000</td>\n",
       "      <td>0.104500</td>\n",
       "    </tr>\n",
       "    <tr>\n",
       "      <th>50%</th>\n",
       "      <td>0.320000</td>\n",
       "      <td>0.670000</td>\n",
       "      <td>0.164200</td>\n",
       "    </tr>\n",
       "    <tr>\n",
       "      <th>75%</th>\n",
       "      <td>0.380000</td>\n",
       "      <td>0.870000</td>\n",
       "      <td>0.253700</td>\n",
       "    </tr>\n",
       "    <tr>\n",
       "      <th>max</th>\n",
       "      <td>0.600000</td>\n",
       "      <td>1.000000</td>\n",
       "      <td>0.656700</td>\n",
       "    </tr>\n",
       "  </tbody>\n",
       "</table>\n",
       "</div>"
      ],
      "text/plain": [
       "             temp         hum   windspeed\n",
       "count  742.000000  742.000000  742.000000\n",
       "mean     0.323046    0.682682    0.185346\n",
       "std      0.084239    0.177423    0.131509\n",
       "min      0.140000    0.310000    0.000000\n",
       "25%      0.260000    0.530000    0.104500\n",
       "50%      0.320000    0.670000    0.164200\n",
       "75%      0.380000    0.870000    0.253700\n",
       "max      0.600000    1.000000    0.656700"
      ]
     },
     "execution_count": 35,
     "metadata": {},
     "output_type": "execute_result"
    }
   ],
   "source": [
    "trainSet[continousFeatures].describe()\n",
    "validateSet[continousFeatures].describe()\n",
    "testSet[continousFeatures].describe()"
   ]
  },
  {
   "cell_type": "markdown",
   "metadata": {},
   "source": [
    "### 保存归一化的数据"
   ]
  },
  {
   "cell_type": "code",
   "execution_count": 36,
   "metadata": {
    "ExecuteTime": {
     "end_time": "2017-12-27T21:41:10.505589Z",
     "start_time": "2017-12-27T21:41:08.187794Z"
    }
   },
   "outputs": [
    {
     "data": {
      "text/plain": [
       "((13625, 63), (2990, 63), (742, 62))"
      ]
     },
     "execution_count": 36,
     "metadata": {},
     "output_type": "execute_result"
    }
   ],
   "source": [
    "trainSet.shape, validateSet.shape, testSet.shape\n",
    "\n",
    "dirPath = \"data preprocessed\\\\normalized-[min-max]\\\\remove-feature-[atemp+month]\"\n",
    "if not os.path.exists(dirPath):\n",
    "    os.makedirs(dirPath)\n",
    "    \n",
    "trainSet.to_csv(dirPath + '\\\\train.csv', index=False, header=False)\n",
    "validateSet.to_csv(dirPath + '\\\\validate.csv', index=False, header=False)\n",
    "testSet.to_csv(dirPath + '\\\\test.csv', index=False, header=False)"
   ]
  },
  {
   "cell_type": "code",
   "execution_count": 37,
   "metadata": {
    "ExecuteTime": {
     "end_time": "2017-12-27T21:41:10.515583Z",
     "start_time": "2017-12-27T21:41:10.507575Z"
    }
   },
   "outputs": [
    {
     "data": {
      "text/plain": [
       "Index(['weathersit_1', 'weathersit_2', 'weathersit_3', 'weathersit_4', 'hr_0',\n",
       "       'hr_1', 'hr_2', 'hr_3', 'hr_4', 'hr_5', 'hr_6', 'hr_7', 'hr_8', 'hr_9',\n",
       "       'hr_10', 'hr_11', 'hr_12', 'hr_13', 'hr_14', 'hr_15', 'hr_16', 'hr_17',\n",
       "       'hr_18', 'hr_19', 'hr_20', 'hr_21', 'hr_22', 'hr_23', 'day_1', 'day_2',\n",
       "       'day_3', 'day_4', 'day_5', 'day_6', 'day_7', 'day_8', 'day_9', 'day_10',\n",
       "       'day_11', 'day_12', 'day_13', 'day_14', 'day_15', 'day_16', 'day_17',\n",
       "       'day_18', 'day_19', 'day_20', 'day_21', 'day_22', 'day_23', 'day_24',\n",
       "       'day_25', 'day_26', 'day_27', 'day_28', 'day_29', 'day_30', 'day_31',\n",
       "       'temp', 'hum', 'windspeed', 'cnt'],\n",
       "      dtype='object')"
      ]
     },
     "execution_count": 37,
     "metadata": {},
     "output_type": "execute_result"
    }
   ],
   "source": [
    "trainSet.columns"
   ]
  },
  {
   "cell_type": "markdown",
   "metadata": {},
   "source": [
    "# 测试数据读取"
   ]
  },
  {
   "cell_type": "code",
   "execution_count": 38,
   "metadata": {
    "ExecuteTime": {
     "end_time": "2017-12-27T21:41:10.730260Z",
     "start_time": "2017-12-27T21:41:10.518588Z"
    }
   },
   "outputs": [
    {
     "data": {
      "text/plain": [
       "((742, 62), dtype('float64'))"
      ]
     },
     "execution_count": 38,
     "metadata": {},
     "output_type": "execute_result"
    },
    {
     "data": {
      "text/plain": [
       "array([[ 1.  ,  0.  ,  0.  ,  0.  ,  1.  ,  0.  ,  0.  ,  0.  ,  0.  ,\n",
       "         0.  ,  0.  ,  0.  ,  0.  ,  0.  ,  0.  ,  0.  ,  0.  ,  0.  ,\n",
       "         0.  ,  0.  ,  0.  ,  0.  ,  0.  ,  0.  ,  0.  ,  0.  ,  0.  ,\n",
       "         0.  ,  1.  ,  0.  ,  0.  ,  0.  ,  0.  ,  0.  ,  0.  ,  0.  ,\n",
       "         0.  ,  0.  ,  0.  ,  0.  ,  0.  ,  0.  ,  0.  ,  0.  ,  0.  ,\n",
       "         0.  ,  0.  ,  0.  ,  0.  ,  0.  ,  0.  ,  0.  ,  0.  ,  0.  ,\n",
       "         0.  ,  0.  ,  0.  ,  0.  ,  0.  ,  0.26,  0.81,  0.  ]])"
      ]
     },
     "execution_count": 38,
     "metadata": {},
     "output_type": "execute_result"
    }
   ],
   "source": [
    "t = np.loadtxt(dirPath + '\\\\test.csv', delimiter=\",\")\n",
    "t.shape, t.dtype\n",
    "t[:1]"
   ]
  }
 ],
 "metadata": {
  "anaconda-cloud": {},
  "kernelspec": {
   "display_name": "Python [conda root]",
   "language": "python",
   "name": "conda-root-py"
  },
  "language_info": {
   "codemirror_mode": {
    "name": "ipython",
    "version": 3
   },
   "file_extension": ".py",
   "mimetype": "text/x-python",
   "name": "python",
   "nbconvert_exporter": "python",
   "pygments_lexer": "ipython3",
   "version": "3.5.2"
  },
  "toc": {
   "nav_menu": {},
   "number_sections": true,
   "sideBar": true,
   "skip_h1_title": false,
   "toc_cell": false,
   "toc_position": {
    "height": "782px",
    "left": "0px",
    "right": "1122px",
    "top": "107px",
    "width": "291px"
   },
   "toc_section_display": "block",
   "toc_window_display": true
  }
 },
 "nbformat": 4,
 "nbformat_minor": 2
}
