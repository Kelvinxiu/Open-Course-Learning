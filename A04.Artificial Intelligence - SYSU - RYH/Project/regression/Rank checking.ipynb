{
 "cells": [
  {
   "cell_type": "code",
   "execution_count": 7,
   "metadata": {
    "ExecuteTime": {
     "end_time": "2017-12-26T12:34:59.078514Z",
     "start_time": "2017-12-26T12:34:59.064504Z"
    },
    "collapsed": true
   },
   "outputs": [],
   "source": [
    "from IPython.core.interactiveshell import InteractiveShell\n",
    "InteractiveShell.ast_node_interactivity = \"all\"\n",
    "\n",
    "from collections import Counter\n",
    "import numpy as np\n",
    "import matplotlib.pyplot as plt\n",
    "from functools import reduce\n",
    "import pdir as pr\n",
    "import pandas as pd\n",
    "import os\n",
    "from tqdm import tqdm, tnrange, tqdm_notebook\n",
    "\n",
    "DF = pd.DataFrame\n",
    "arr = np.array"
   ]
  },
  {
   "cell_type": "markdown",
   "metadata": {},
   "source": [
    "# 损失函数"
   ]
  },
  {
   "cell_type": "code",
   "execution_count": 14,
   "metadata": {
    "ExecuteTime": {
     "end_time": "2017-12-26T12:39:05.139803Z",
     "start_time": "2017-12-26T12:39:05.131801Z"
    },
    "collapsed": true
   },
   "outputs": [],
   "source": [
    "def calcLoss(predict, label):\n",
    "    '''计算预测值相对于标签值的损失值，默认使用均方误差'''\n",
    "    def RMeanSquareError(a, b):\n",
    "        '''计算均方误差'''\n",
    "        return np.sqrt(np.mean((a - b)**2))\n",
    "    \n",
    "    return RMeanSquareError(predict, label)"
   ]
  },
  {
   "cell_type": "markdown",
   "metadata": {},
   "source": [
    "# 测试集标签"
   ]
  },
  {
   "cell_type": "code",
   "execution_count": 9,
   "metadata": {
    "ExecuteTime": {
     "end_time": "2017-12-26T12:34:59.303711Z",
     "start_time": "2017-12-26T12:34:59.181598Z"
    }
   },
   "outputs": [
    {
     "data": {
      "text/plain": [
       "(742,)"
      ]
     },
     "execution_count": 9,
     "metadata": {},
     "output_type": "execute_result"
    },
    {
     "data": {
      "text/plain": [
       "array([ 108.,   69.,   50.,   15.,    5.])"
      ]
     },
     "execution_count": 9,
     "metadata": {},
     "output_type": "execute_result"
    }
   ],
   "source": [
    "testSetLabel = np.loadtxt(\"data\\\\test_label.csv\")\n",
    "testSetLabel.shape\n",
    "testSetLabel[0:5]"
   ]
  },
  {
   "cell_type": "markdown",
   "metadata": {},
   "source": [
    "# 计算预测标签RMSE"
   ]
  },
  {
   "cell_type": "code",
   "execution_count": 22,
   "metadata": {
    "ExecuteTime": {
     "end_time": "2017-12-26T13:07:56.731768Z",
     "start_time": "2017-12-26T13:07:56.716170Z"
    }
   },
   "outputs": [
    {
     "data": {
      "text/plain": [
       "116.54874736405098"
      ]
     },
     "execution_count": 22,
     "metadata": {},
     "output_type": "execute_result"
    }
   ],
   "source": [
    "predictLabel = np.loadtxt(\"rank\\\\47_v1.csv\")\n",
    "calcLoss(predictLabel, testSetLabel)"
   ]
  }
 ],
 "metadata": {
  "anaconda-cloud": {},
  "kernelspec": {
   "display_name": "Python [conda root]",
   "language": "python",
   "name": "conda-root-py"
  },
  "language_info": {
   "codemirror_mode": {
    "name": "ipython",
    "version": 3
   },
   "file_extension": ".py",
   "mimetype": "text/x-python",
   "name": "python",
   "nbconvert_exporter": "python",
   "pygments_lexer": "ipython3",
   "version": "3.5.2"
  },
  "toc": {
   "nav_menu": {},
   "number_sections": true,
   "sideBar": true,
   "skip_h1_title": false,
   "toc_cell": false,
   "toc_position": {},
   "toc_section_display": "block",
   "toc_window_display": false
  }
 },
 "nbformat": 4,
 "nbformat_minor": 2
}
